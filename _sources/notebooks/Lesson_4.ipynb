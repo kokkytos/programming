{
 "cells": [
  {
   "cell_type": "markdown",
   "id": "3b457ff0",
   "metadata": {},
   "source": [
    "# 4. Πλειάδες και λεξικά\n",
    "\n",
    "Στην συνέχεια παρουσιάζονται δύο άλλες καθιερωμένες δομές στην Python, οι πλειάδες (tuples) και τα λεξικά (dictionaries).\n",
    "\n",
    "## Πλειάδες (tuples)\n",
    "\n",
    "Οι πλειάδες είναι μια δομή δεδομένων παρόμοια με τις λίστες.\n",
    "Όπως και οι λίστες αποτελούν μια συλλογή αντικειμένων (objects). \n",
    "Όμως διαφέρουν σε ένα σημαντικό χαρακτηριστικό από τις λίστες, είναι αμετάβλητες (immutable), δηλαδή δεν \n",
    "μπορούμε να μεταβάλλουμε το περιεχόμενό τους εφόσον τις δημιουργήσουμε.\n",
    "Κατά συνέπεια ενώ για την προσπέλαση των στοιχείων της χρησιμοποιούνται ίδιες τεχνικές και μέθοδοι (indexing, slicing κτλ) δεν υποστηρίζουν ωστόσο τις αντίστοιχες μεθόδους \n",
    "αφαίρεσης, τροποποίησης και προσθήκης στοιχείων.\n",
    "Υπό την έννοια αυτή οι πλειάδες είναι μια ασφαλή δομή δεδομένων μέσω της οποίας εξασφαλίζεται ότι τα δεδομένα δεν θα τροποποιηθούν από λάθος ή ακόμα και από επιλογή.\n",
    "Συνήθως χρησιμοποιούνται κατά την επιστροφή πολλαπλών τιμών από μια συνάρτηση αλλά και όταν θέλουμε να \"πακετάρουμε\" δεδομένα  (tuple packing).\n",
    "Οι πλειάδες ορίζονται με παρόμοιο τρόπο σαν τις λίστες αλλά αντί για αγκύλες χρησιμοποιούνται παρενθέσεις (αν και δεν είναι απαραίτητες). Για παράδειγμα:"
   ]
  },
  {
   "cell_type": "code",
   "execution_count": 1,
   "id": "02eb8257",
   "metadata": {},
   "outputs": [],
   "source": [
    "information = ('UTH','https://www.uth.gr/')"
   ]
  },
  {
   "cell_type": "markdown",
   "id": "93ecd4f2",
   "metadata": {},
   "source": [
    "Το ίδιο μπορεί να γραφτεί και χωρίς παρενθέσεις"
   ]
  },
  {
   "cell_type": "code",
   "execution_count": 2,
   "id": "ecc99399",
   "metadata": {},
   "outputs": [],
   "source": [
    "information = 'UTH','https://www.uth.gr/'"
   ]
  },
  {
   "cell_type": "markdown",
   "id": "72965945",
   "metadata": {},
   "source": [
    "Όμως πρέπει να λαμβάνουμε υπόψιν ότι ο ορισμός μιας πλειάδας με ένα μόνο στοιχείο πρέπει να ορίζεται με το στοιχείο και να συνοδεύεται από ένα κόμμα. \n",
    "Σε διαφορετική περίπτωση θα επιστρέψει μια μεταβλητή με τύπο αυτόν που περάσαμε στο υποτιθέμενο πρώτο στοιχείο. \n",
    "Δηλαδή το παρακάτω θα δημιουργήσει μια μεταβλητή ακέραιου τύπου και όχι μια πλειάδα με ένα στοιχείο:¨"
   ]
  },
  {
   "cell_type": "code",
   "execution_count": 3,
   "id": "f2d4e7ee",
   "metadata": {},
   "outputs": [
    {
     "name": "stdout",
     "output_type": "stream",
     "text": [
      "<class 'int'>\n"
     ]
    }
   ],
   "source": [
    "year = (2022)\n",
    "print(type(year))"
   ]
  },
  {
   "cell_type": "markdown",
   "id": "40624877",
   "metadata": {},
   "source": [
    "Ο σωστός τρόπος συγγραφής αν θέλουμε να πάρουμε μια πλειάδα με ένα μόνο στοιχείο είναι:"
   ]
  },
  {
   "cell_type": "code",
   "execution_count": 4,
   "id": "9a4ba7dd",
   "metadata": {},
   "outputs": [
    {
     "name": "stdout",
     "output_type": "stream",
     "text": [
      "<class 'tuple'>\n"
     ]
    }
   ],
   "source": [
    "year = (2022,)\n",
    "print(type(year))"
   ]
  },
  {
   "cell_type": "markdown",
   "id": "fb6574f2",
   "metadata": {},
   "source": [
    "Ενώ αν θέλουμε να δημιουργήσουμε μία άδεια πλειάδα τότε χρησιμοποιούμε απλώς δύο παρενθέσεις:"
   ]
  },
  {
   "cell_type": "code",
   "execution_count": 5,
   "id": "cdb1aea4",
   "metadata": {},
   "outputs": [],
   "source": [
    "empty_tuple = ()"
   ]
  },
  {
   "cell_type": "markdown",
   "id": "dbd1b78b",
   "metadata": {},
   "source": [
    "Επιπλέον μέσω της συνάρτησης *tuple* η οποία δέχεται ως όρισμα μία συμβολοσειρά ή λίστα μπορούμε να δημιουργήσουμε νέες πλειάδες.\n",
    "Προσέξτε το αποτέλεσμα όταν ορίζουμε σαν παράμετρο συμβολοσειρά στην συνάρτηση *tuple*."
   ]
  },
  {
   "cell_type": "code",
   "execution_count": 6,
   "id": "240377ce",
   "metadata": {},
   "outputs": [
    {
     "name": "stdout",
     "output_type": "stream",
     "text": [
      "('Κ', 'ρ', 'ή', 'τ', 'η')\n"
     ]
    }
   ],
   "source": [
    "regions= tuple(\"Κρήτη\")\n",
    "print(regions)"
   ]
  },
  {
   "cell_type": "code",
   "execution_count": 7,
   "id": "ff7d1487",
   "metadata": {},
   "outputs": [
    {
     "name": "stdout",
     "output_type": "stream",
     "text": [
      "('Κρήτη', 'Ήπειρος', 'Θράκη')\n"
     ]
    }
   ],
   "source": [
    "regions= tuple([\"Κρήτη\", \"Ήπειρος\", \"Θράκη\"])\n",
    "print(regions)"
   ]
  },
  {
   "cell_type": "markdown",
   "id": "e95441d0",
   "metadata": {},
   "source": [
    "Με κενό όρισμα επιστρέφεται μία άδεια πλειάδα:"
   ]
  },
  {
   "cell_type": "code",
   "execution_count": 8,
   "id": "dc5d6d9d",
   "metadata": {},
   "outputs": [],
   "source": [
    "regions= tuple()\n"
   ]
  },
  {
   "cell_type": "markdown",
   "id": "8d74d341",
   "metadata": {},
   "source": [
    "Όπως προαναφέρθηκε οι πλειάδες είνα αμετάβλητες δομές δεδομένων και έτσι δεν μπορούμε να χρησιμοποιήσουμε μεθόδους όπως *append*, *del*, *sort* κ.α.\n",
    "Μπορούμε, όπως και στις λίστες, να αναφερθούμε στα στοιχεία της πλειάδας με τους τελεστές [] και με το ευρετήριο (index) ή να εξάγουμε τμήμα από τα στοιχεία (slice) με τον τελεστή :.\n",
    "Λαμβάνουμε το πλήθος των στοιχείων της πλειάδας (lengh) με την συνάρτηση *len*.\n",
    "\n",
    "Οι πλειάδες χρησιμοποιούνται για να πακετάρουμε μια συλλογή δεδομένων σε ένα αντικείμενο (tuple packing) π.χ."
   ]
  },
  {
   "cell_type": "code",
   "execution_count": 9,
   "id": "bbd81cdc",
   "metadata": {},
   "outputs": [
    {
     "name": "stdout",
     "output_type": "stream",
     "text": [
      "('Μανταρίνι', 'Μανταρίνι', 'Πορτοκάλι')\n"
     ]
    }
   ],
   "source": [
    "fruit1 = \"Μήλος\"\n",
    "fruit2 = \"Πορτοκάλι\"\n",
    "fruit1 = \"Μανταρίνι\"\n",
    "fruits = fruit1, fruit1, fruit2 # tuple packing\n",
    "print(fruits)"
   ]
  },
  {
   "cell_type": "markdown",
   "id": "55b5f8d9",
   "metadata": {},
   "source": [
    "Βέβαια υπάρχει και η αντίστροφη διαδικασία, το \"ξε-πακετάρισμα\" δεδομένων (tuple unpacking). Όταν δηλαδή αποδίδουμε τα στοιχεία της πλειάδας σε ξεχωριστές μεταβλητές."
   ]
  },
  {
   "cell_type": "code",
   "execution_count": 10,
   "id": "80f44592",
   "metadata": {},
   "outputs": [
    {
     "name": "stdout",
     "output_type": "stream",
     "text": [
      "Αθήνα Βόλος Πάτρα\n"
     ]
    }
   ],
   "source": [
    "cities = \"Αθήνα\", \"Βόλος\", \"Πάτρα\"\n",
    "capital, city1, city2 = cities # tuple unpacking\n",
    "print(capital,  city1, city2)"
   ]
  },
  {
   "cell_type": "markdown",
   "id": "6913de6e",
   "metadata": {},
   "source": [
    "Ο αμετάβλητος χαρακτήρας των πλειάδων φαίνεται στα παρακάτω παραδείγματα στα οποία επιχειρείται η τροποποίηση των δεδομένων της."
   ]
  },
  {
   "cell_type": "code",
   "execution_count": 11,
   "id": "e3be79f8",
   "metadata": {
    "tags": [
     "raises-exception"
    ]
   },
   "outputs": [
    {
     "ename": "AttributeError",
     "evalue": "'tuple' object has no attribute 'pop'",
     "output_type": "error",
     "traceback": [
      "\u001b[0;31m---------------------------------------------------------------------------\u001b[0m",
      "\u001b[0;31mAttributeError\u001b[0m                            Traceback (most recent call last)",
      "Input \u001b[0;32mIn [11]\u001b[0m, in \u001b[0;36m<cell line: 2>\u001b[0;34m()\u001b[0m\n\u001b[1;32m      1\u001b[0m cities \u001b[38;5;241m=\u001b[39m (\u001b[38;5;124m\"\u001b[39m\u001b[38;5;124mΑθήνα\u001b[39m\u001b[38;5;124m\"\u001b[39m, \u001b[38;5;124m\"\u001b[39m\u001b[38;5;124mΒόλος\u001b[39m\u001b[38;5;124m\"\u001b[39m, \u001b[38;5;124m\"\u001b[39m\u001b[38;5;124mΠάτρα\u001b[39m\u001b[38;5;124m\"\u001b[39m)\n\u001b[0;32m----> 2\u001b[0m \u001b[43mcities\u001b[49m\u001b[38;5;241;43m.\u001b[39;49m\u001b[43mpop\u001b[49m(\u001b[38;5;241m1\u001b[39m)\n",
      "\u001b[0;31mAttributeError\u001b[0m: 'tuple' object has no attribute 'pop'"
     ]
    }
   ],
   "source": [
    "cities = (\"Αθήνα\", \"Βόλος\", \"Πάτρα\")\n",
    "cities.pop(1)"
   ]
  },
  {
   "cell_type": "code",
   "execution_count": 12,
   "id": "55203209",
   "metadata": {
    "tags": [
     "raises-exception"
    ]
   },
   "outputs": [
    {
     "ename": "AttributeError",
     "evalue": "'tuple' object has no attribute 'append'",
     "output_type": "error",
     "traceback": [
      "\u001b[0;31m---------------------------------------------------------------------------\u001b[0m",
      "\u001b[0;31mAttributeError\u001b[0m                            Traceback (most recent call last)",
      "Input \u001b[0;32mIn [12]\u001b[0m, in \u001b[0;36m<cell line: 1>\u001b[0;34m()\u001b[0m\n\u001b[0;32m----> 1\u001b[0m \u001b[43mcities\u001b[49m\u001b[38;5;241;43m.\u001b[39;49m\u001b[43mappend\u001b[49m(\u001b[38;5;124m\"\u001b[39m\u001b[38;5;124mΡόδος\u001b[39m\u001b[38;5;124m\"\u001b[39m)\n",
      "\u001b[0;31mAttributeError\u001b[0m: 'tuple' object has no attribute 'append'"
     ]
    }
   ],
   "source": [
    "cities.append(\"Ρόδος\")"
   ]
  },
  {
   "cell_type": "markdown",
   "id": "7aec843d",
   "metadata": {},
   "source": [
    "Όπως μας ενημερώνει και το σχετικό σφάλμα εκτέλεσης δεν υπάρχουν οι σχετικές μέθοδοι για αντικείμενα της κλάσης *tuple*.\n",
    "\n",
    "Αντίστοιχο σφάλμα λαμβάνουμε και με τον παρακάτω κώδικα όταν πάμε να τροποποιήσουμε ένα στοιχείο της πλειάδας:"
   ]
  },
  {
   "cell_type": "code",
   "execution_count": 13,
   "id": "7006ef9b",
   "metadata": {
    "tags": [
     "raises-exception"
    ]
   },
   "outputs": [
    {
     "ename": "TypeError",
     "evalue": "'tuple' object does not support item assignment",
     "output_type": "error",
     "traceback": [
      "\u001b[0;31m---------------------------------------------------------------------------\u001b[0m",
      "\u001b[0;31mTypeError\u001b[0m                                 Traceback (most recent call last)",
      "Input \u001b[0;32mIn [13]\u001b[0m, in \u001b[0;36m<cell line: 2>\u001b[0;34m()\u001b[0m\n\u001b[1;32m      1\u001b[0m mytuple \u001b[38;5;241m=\u001b[39m (\u001b[38;5;241m1\u001b[39m, \u001b[38;5;241m2\u001b[39m, \u001b[38;5;241m3\u001b[39m)\n\u001b[0;32m----> 2\u001b[0m mytuple[\u001b[38;5;241m0\u001b[39m] \u001b[38;5;241m=\u001b[39m \u001b[38;5;241m999\u001b[39m\n",
      "\u001b[0;31mTypeError\u001b[0m: 'tuple' object does not support item assignment"
     ]
    }
   ],
   "source": [
    "mytuple = (1, 2, 3)\n",
    "mytuple[0] = 999"
   ]
  },
  {
   "cell_type": "markdown",
   "id": "3f9be64e",
   "metadata": {},
   "source": [
    "```{admonition} Tip\n",
    ":class: tip\n",
    "Μια χρήσιμη λειτουργία των πλειάδων είναι η χρήση τους κατά την αντιμετάθεση δύο μεταβλητών.\n",
    "Δείτε το παρακάτω παράδειγμα.\n",
    "```"
   ]
  },
  {
   "cell_type": "code",
   "execution_count": 14,
   "id": "213bd08c",
   "metadata": {},
   "outputs": [
    {
     "name": "stdout",
     "output_type": "stream",
     "text": [
      "Χίος\n",
      "Λέσβος\n"
     ]
    }
   ],
   "source": [
    "island='Λέσβος'\n",
    "island2='Χίος'\n",
    "island, island2 = island2, island\n",
    "\n",
    "print(island)\n",
    "print(island2)\n"
   ]
  },
  {
   "cell_type": "markdown",
   "id": "4a183d8c",
   "metadata": {},
   "source": [
    "```{warning} Προσοχή!\n",
    "Αν και οι πλειάδες είναι αμετάβλητος τύπος δεδομένων ωστόσο στα στοιχεία τους μπορούν να περιλαμβάνουν μεταβλητούς τύπους δεδομένων.\n",
    "Αυτό σημαίνει ότι μπορούμε να τροποποιήσουμε τα στοιχεία αυτά. Παρακάτω δίνεται ένα παράδειγμα.\n",
    "```"
   ]
  },
  {
   "cell_type": "code",
   "execution_count": 15,
   "id": "527f2f0b",
   "metadata": {},
   "outputs": [
    {
     "name": "stdout",
     "output_type": "stream",
     "text": [
      "('Αθήνα', ['Καβάλα', 'Πάτρα'])\n"
     ]
    }
   ],
   "source": [
    "cities = (\"Αθήνα\", [\"Βόλος\", \"Πάτρα\"])\n",
    "cities[1][0] = \"Καβάλα\"\n",
    "print(cities)"
   ]
  },
  {
   "cell_type": "markdown",
   "id": "932b8ac9",
   "metadata": {},
   "source": [
    "Μια εξήγηση σε αυτήν την αντιφατική συμπεριφορά δίνεται στο παρακάτω νήμα:\n",
    "[https://stackoverflow.com/questions/9755990/why-can-tuples-contain-mutable-items](https://stackoverflow.com/questions/9755990/why-can-tuples-contain-mutable-items)\n",
    "\n",
    "\n",
    "## Λεξικά (Dictionaries)\n",
    "\n",
    "Τα λεξικά στην Python αποτελούν συλλογές αντικειμένων, όπως οι λίστες και οι πλειάδες.\n",
    "Ένα σημαντικό χαρακτηριστικό των λεξικών είναι ότι αυτά αποθηκεύουν δεδομένα κατά ζεύγη, με την μορφή κλειδί-τιμή (key-value pairs).\n",
    "Κάθε κλειδί σε ένα λεξικό συνοδεύεται από μία τιμή. \n",
    "Κάθε κλειδί αποτελεί ουσιαστικά ένα μοναδικό αναγνωριστικό για την συνοδευτική τιμή και γι'αυτό τον λόγο δεν μπορεί να υπάρξει δεύτερο ίδιο κλειδί.\n",
    "Ακόμα, τα κλειδιά πρέπει να ορίζονται από αμετάβλητους τύπους δεδομένων δηλαδή είτε από μιά συμβολοσειρά είτε από έναν ακέραιο ή δεκαδικό. \n",
    "Δεν μπορεί όμως μια λίστα να είναι κλειδί. Μια πλειάδα μπορεί να είναι κλειδί αλλά με την προϋπόθεση ότι και αυτή δεν θα αποτελείται από μεταβλητούς τύπους δεδομένων.\n",
    "Τα λεξικά περικλείονται σε {}, τα ζεύγη ορίζονται υπό την μορφή *κλειδί:τιμή* και χωρίζονται μεταξύ τους με κόμμα (,) δηλαδή:\n",
    "\n",
    "> d = {key1 : value1, key2 : value2 }\n",
    "\n",
    " Για παράδειγμα:"
   ]
  },
  {
   "cell_type": "code",
   "execution_count": 16,
   "id": "9d95507b",
   "metadata": {},
   "outputs": [
    {
     "name": "stdout",
     "output_type": "stream",
     "text": [
      "{'Χρήστος': '69936565', 'Κώστας': '246541353', 'Βαγγέλης': '546546536'}\n"
     ]
    }
   ],
   "source": [
    "phones ={\"Χρήστος\": \"69936565\", \"Κώστας\":\"246541353\", \"Βαγγέλης\":\"546546536\"}\n",
    "print(phones)"
   ]
  },
  {
   "cell_type": "markdown",
   "id": "7280b8ff",
   "metadata": {},
   "source": [
    "Τα κλειδιά (keys) σε αυτήν την περίπτωση είναι τα ονόματα και οι αριθμοί τηλεφώνων (ως συμβολοσειρές ορισμένες) οι τιμές (values).\n",
    "\n",
    "Εναλλακτικά μπορούμε να δημιουργήσουμε ένα άδειο λεξικό και να προσθέσουμε στην συνέχεια ζεύγη."
   ]
  },
  {
   "cell_type": "code",
   "execution_count": 17,
   "id": "1fcb02b1",
   "metadata": {},
   "outputs": [],
   "source": [
    "phones ={}\n",
    "phones[\"Χρήστος\"] =\"69936565\"\n",
    "phones[\"Κώστας\"]  =\"246541353\"\n",
    "phones[\"Βαγγέλης\"]=\"546546536\""
   ]
  },
  {
   "cell_type": "markdown",
   "id": "6a545fe7",
   "metadata": {},
   "source": [
    "Ένας άλλος τρόπος δημιουργίας λεξικών είναι με την συνάρτηση *dict*."
   ]
  },
  {
   "cell_type": "code",
   "execution_count": 18,
   "id": "2478d2cb",
   "metadata": {},
   "outputs": [],
   "source": [
    "phones =dict(Χρήστος=\"69936565\",Κώστας=\"246541353\", Βαγγέλης=\"546546536\")"
   ]
  },
  {
   "cell_type": "markdown",
   "id": "d2f308ae",
   "metadata": {},
   "source": [
    "Με αυτόν τον τρόπο ορίζουμε τα κλειδιά μέσω μεταβλητών και γι' αυτό τον λόγο εφαρμόζονται οι περιορισμοί που αφορούν την ονοματολογία των μεταβλητών.\n",
    "\n",
    "Στα λεξικά τα ζεύγη αυτά δεν ταξινομούνται με κάποια συγκεκριμένη σειρά αλλά με έναν μηχανισμό της Python που λέγεται *hashing* και αποσκοπεί στην γρήγορη ανάκτηση τους.\n",
    "Η ταξινόμηση αυτή αλλάζει κάθε φορά κατά τυχαίο τρόπο όταν τροποποιούμε ένα λεξικό.\n",
    "Για τον λόγο αυτό δεν υπάρχει η έννοια της θέσης ή του δείκτη (index) όπως στις λίστες και στις πλειάδες. \n",
    "Η ανάκτηση μιας τιμής από ένα ζεύγος γίνεται με βάση τo κλειδί π.χ.* d['a_key']*.\n",
    "Γίνεται δηλαδή με παρόμοιο τρόπο όπως στις λίστες και τις πλειάδες αλλά αντι για το ευρετήριο θέσης ορίζουμε το κλειδί."
   ]
  },
  {
   "cell_type": "code",
   "execution_count": 19,
   "id": "5c098cd8",
   "metadata": {},
   "outputs": [
    {
     "name": "stdout",
     "output_type": "stream",
     "text": [
      "69936565\n",
      "546546536\n"
     ]
    }
   ],
   "source": [
    "print(phones[\"Χρήστος\"])\n",
    "print(phones[\"Βαγγέλης\"])"
   ]
  },
  {
   "cell_type": "markdown",
   "id": "997ca4c9",
   "metadata": {},
   "source": [
    "Όπως προαναφέρθηκε δεν μπορούμε να έχουμε διπλό κλειδί σε ένα λεξικό. \n",
    "Έτσι αν επιχειρήσουμε να προσθέσουμε ένα ζεύγος με υφιστάμενο κλειδί στην πράξη αυτό που θα γίνει είναι να αντικαταστήσουμε την παλιά τιμή με μια νέα:"
   ]
  },
  {
   "cell_type": "code",
   "execution_count": 20,
   "id": "4d001244",
   "metadata": {},
   "outputs": [
    {
     "name": "stdout",
     "output_type": "stream",
     "text": [
      "546546536\n",
      "666666666\n"
     ]
    }
   ],
   "source": [
    "print(phones[\"Βαγγέλης\"])\n",
    "phones[\"Βαγγέλης\"]=\"666666666\"\n",
    "print(phones[\"Βαγγέλης\"])"
   ]
  },
  {
   "cell_type": "markdown",
   "id": "aa10f7a4",
   "metadata": {},
   "source": [
    "Για την διαγραφή ενός ζεύγους από λεξικό χρησιμοποιείται η συνάρτηση *del* δηλ. del(d['key']). Δείτε το επόμενο παράδειγμα:"
   ]
  },
  {
   "cell_type": "code",
   "execution_count": 21,
   "id": "851db489",
   "metadata": {},
   "outputs": [
    {
     "name": "stdout",
     "output_type": "stream",
     "text": [
      "{'Χρήστος': '69936565', 'Κώστας': '246541353'}\n"
     ]
    }
   ],
   "source": [
    "del(phones[\"Βαγγέλης\"])\n",
    "print(phones)"
   ]
  },
  {
   "cell_type": "markdown",
   "id": "b7deb56e",
   "metadata": {},
   "source": [
    "Με την συνάρτηση *len* επιστρέφεται το μέγεθος του λεξικού δηλαδή το πλήθος των ζευγαριών κλειδιών/τιμών που περιέχει:"
   ]
  },
  {
   "cell_type": "code",
   "execution_count": 22,
   "id": "8eec8b29",
   "metadata": {},
   "outputs": [
    {
     "name": "stdout",
     "output_type": "stream",
     "text": [
      "2\n"
     ]
    }
   ],
   "source": [
    "print(len(phones))"
   ]
  },
  {
   "cell_type": "markdown",
   "id": "74c8651a",
   "metadata": {},
   "source": [
    "Μέσω του τελεστή *in * διαπιστώνεται αν υπάρχει ένα κλειδί σε ένα λεξικό:"
   ]
  },
  {
   "cell_type": "code",
   "execution_count": 23,
   "id": "19f128fa",
   "metadata": {},
   "outputs": [
    {
     "name": "stdout",
     "output_type": "stream",
     "text": [
      "True\n"
     ]
    }
   ],
   "source": [
    "print(\"Χρήστος\" in  phones)\n"
   ]
  },
  {
   "cell_type": "markdown",
   "id": "acfacd79",
   "metadata": {},
   "source": [
    "Με την μέθοδο *keys* ενός λεξικού επιστρέφονται τα κλειδιά του.\n",
    "Αντίστοιχα με την μέθοδο *values* επιστρέφονται οι τιμές του ενώ με την μέθοδο items επιστρέφονται τα ζεύγη κλειδιών/τιμών.\n",
    "Τα επιστρεφόμενα objects είναι αντιστοιχα *dict_keys*, *dict_values*,  *dict_items*.\n",
    "Ο παρακάτω κώδικας περιγράφει τις παραπάνω λειτουργίες:"
   ]
  },
  {
   "cell_type": "code",
   "execution_count": 24,
   "id": "6738adb5",
   "metadata": {},
   "outputs": [
    {
     "name": "stdout",
     "output_type": "stream",
     "text": [
      "dict_keys(['a', 'b', 'c'])\n",
      "dict_values([10, 20, 30])\n",
      "dict_items([('a', 10), ('b', 20), ('c', 30)])\n"
     ]
    }
   ],
   "source": [
    "d = {'a': 10, 'b': 20, 'c': 30}\n",
    "print(d.keys())\n",
    "print(d.values())\n",
    "print(d.items())\n"
   ]
  },
  {
   "cell_type": "markdown",
   "id": "d6d7a44f",
   "metadata": {},
   "source": [
    "Αν θέλουμε να ταξινομήσουμε το λεξικό με βάση τα κλειδιά τότε το κάνουμε με την συνάρτηση *sorted*:"
   ]
  },
  {
   "cell_type": "code",
   "execution_count": 25,
   "id": "0e8f32c4",
   "metadata": {},
   "outputs": [
    {
     "name": "stdout",
     "output_type": "stream",
     "text": [
      "['brand', 'model', 'year']\n"
     ]
    }
   ],
   "source": [
    "thisdict = {\n",
    "  \"year\": 1964,\n",
    "  \"brand\": \"Ford\",\n",
    "  \"model\": \"Mustang\"\n",
    "}\n",
    "\n",
    "print(sorted(thisdict))\n"
   ]
  },
  {
   "cell_type": "markdown",
   "id": "be8322b9",
   "metadata": {},
   "source": [
    "Πολύ συνηθισμένη περίπτωση είναι τα λεξικά να περιλαμβάνουν σαν τιμές άλλα λεξικά."
   ]
  },
  {
   "cell_type": "code",
   "execution_count": 26,
   "id": "f9b8131f",
   "metadata": {},
   "outputs": [],
   "source": [
    "contacts = {\"Χρήστος\": {\"Σπίτι\": \"457456456\", \"Εργασία\": \"48856\"}, \n",
    "            \"Γιάννης\": {\"Σπίτι\": \"8753778\", \"Εργασία\": \"45654656\"}, \n",
    "            \"Κώστας\": {\"Κινητό\": \"45475354\"}}\n"
   ]
  },
  {
   "cell_type": "markdown",
   "id": "09936fb4",
   "metadata": {},
   "source": [
    "Σε αυτή την περίπτωση ορίζοντας διαδοχικά τα κλειδιά παίρνουμε τις τιμές που επιθυμούμε:"
   ]
  },
  {
   "cell_type": "code",
   "execution_count": 27,
   "id": "e04806c7",
   "metadata": {},
   "outputs": [
    {
     "name": "stdout",
     "output_type": "stream",
     "text": [
      "{'Σπίτι': '457456456', 'Εργασία': '48856'}\n",
      "48856\n"
     ]
    }
   ],
   "source": [
    "print(contacts[\"Χρήστος\"])\n",
    "print(contacts[\"Χρήστος\"][\"Εργασία\"])\n"
   ]
  },
  {
   "cell_type": "markdown",
   "id": "54c3786d",
   "metadata": {},
   "source": [
    "Μπορούμε να διατρέξουμε τα ζεύγη ενός λεξικού αλλά η σειρά που θα γίνεται η ανάκτηση μπορεί να μην είναι με την σειρά που ορίζονται και όχι πάντα η ίδια."
   ]
  },
  {
   "cell_type": "code",
   "execution_count": 28,
   "id": "00dc9bc0",
   "metadata": {},
   "outputs": [
    {
     "name": "stdout",
     "output_type": "stream",
     "text": [
      "69936565\n",
      "246541353\n"
     ]
    }
   ],
   "source": [
    "for phone in phones:\n",
    "    print(phones[phone])"
   ]
  },
  {
   "cell_type": "markdown",
   "id": "eda1ee4a",
   "metadata": {},
   "source": [
    "Όπως και με τις λίστες έτσι και με τα λεξικά πρέπει να είμαστε προσεκτικοί όταν αντιγράφουμε ένα λεξικό.\n",
    "Η αντιγραφή μπορεί να αναφέρεται στο ίδιο αντικείμενο και τροποποίηση των δεδομένων ενός λεξικού θα επιφέρει και την αντίστοιχη τροποποίηση στο άλλο."
   ]
  },
  {
   "cell_type": "code",
   "execution_count": 29,
   "id": "420abed6",
   "metadata": {},
   "outputs": [
    {
     "name": "stdout",
     "output_type": "stream",
     "text": [
      "{'name': 'Γιάννης'}\n"
     ]
    }
   ],
   "source": [
    "names1 = {'name':\"Κώστας\"}\n",
    "names2=names1 \n",
    "names2['name']=\"Γιάννης\"\n",
    "print(names1)\n"
   ]
  },
  {
   "cell_type": "markdown",
   "id": "4f3bd570",
   "metadata": {},
   "source": [
    "Σε αυτή την περίπτωση χρησιμοποιείται η μέθοδος *copy* για την αντιγραφή των δεδομένων ενός λεξικού σε ένα άλλο."
   ]
  },
  {
   "cell_type": "code",
   "execution_count": 30,
   "id": "43e73f19",
   "metadata": {},
   "outputs": [
    {
     "name": "stdout",
     "output_type": "stream",
     "text": [
      "{'name': 'Κώστας'}\n"
     ]
    }
   ],
   "source": [
    "names1 = {'name':\"Κώστας\"}\n",
    "names2=names1.copy()\n",
    "names2['name']=\"Γιάννης\"\n",
    "print(names1)\n"
   ]
  }
 ],
 "metadata": {
  "jupytext": {
   "cell_metadata_filter": "-all",
   "formats": "md:myst",
   "text_representation": {
    "extension": ".md",
    "format_name": "myst",
    "format_version": 0.13,
    "jupytext_version": "1.11.5"
   }
  },
  "kernelspec": {
   "display_name": "Python 3",
   "language": "python",
   "name": "python3"
  },
  "language_info": {
   "codemirror_mode": {
    "name": "ipython",
    "version": 3
   },
   "file_extension": ".py",
   "mimetype": "text/x-python",
   "name": "python",
   "nbconvert_exporter": "python",
   "pygments_lexer": "ipython3",
   "version": "3.9.16"
  },
  "source_map": [
   14,
   32,
   34,
   38,
   40,
   46,
   49,
   52,
   55,
   59,
   61,
   66,
   71,
   74,
   76,
   79,
   86,
   92,
   95,
   100,
   103,
   109,
   112,
   117,
   121,
   132,
   140,
   148,
   153,
   173,
   177,
   182,
   188,
   192,
   195,
   205,
   208,
   212,
   216,
   220,
   223,
   226,
   228,
   231,
   234,
   241,
   248,
   250,
   259,
   263,
   268,
   270,
   274,
   277,
   280,
   285,
   291,
   294
  ]
 },
 "nbformat": 4,
 "nbformat_minor": 5
}