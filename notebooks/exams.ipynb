{
 "cells": [
  {
   "cell_type": "markdown",
   "id": "7e3d3cbe-276b-47af-a239-bf907db1b92e",
   "metadata": {},
   "source": [
    "# Εξετάσεις στον Προγραμματισμό Η/Υ"
   ]
  },
  {
   "cell_type": "markdown",
   "id": "328139ca-5372-4d55-8eba-60554de976ce",
   "metadata": {},
   "source": [
    "Το τρέχον notebook μπορείτε να το χρησιμοποιήσετε ως πρόχειρο για την δοκιμαστική εκτέλεση κώδικα."
   ]
  },
  {
   "cell_type": "code",
   "execution_count": null,
   "id": "290c121a-dd4e-4fef-b486-0fdfdd40a0b6",
   "metadata": {},
   "outputs": [],
   "source": []
  }
 ],
 "metadata": {
  "kernelspec": {
   "display_name": "Python 3",
   "language": "python",
   "name": "python3"
  },
  "language_info": {
   "codemirror_mode": {
    "name": "ipython",
    "version": 3
   },
   "file_extension": ".py",
   "mimetype": "text/x-python",
   "name": "python",
   "nbconvert_exporter": "python",
   "pygments_lexer": "ipython3",
   "version": "3.10.2"
  }
 },
 "nbformat": 4,
 "nbformat_minor": 5
}
