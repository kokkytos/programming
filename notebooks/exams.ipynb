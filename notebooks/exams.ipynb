{
 "cells": [
  {
   "cell_type": "markdown",
   "id": "7e3d3cbe-276b-47af-a239-bf907db1b92e",
   "metadata": {},
   "source": [
    "# Εξετάσεις στον Προγραμματισμό Η/Υ"
   ]
  },
  {
   "cell_type": "markdown",
   "id": "328139ca-5372-4d55-8eba-60554de976ce",
   "metadata": {},
   "source": [
    "Το τρέχον notebook μπορείτε να το χρησιμοποιήσετε ως πρόχειρο για την δοκιμαστική εκτέλεση κώδικα."
   ]
  },
  {
   "cell_type": "code",
   "execution_count": 11,
   "id": "290c121a-dd4e-4fef-b486-0fdfdd40a0b6",
   "metadata": {},
   "outputs": [
    {
     "name": "stdout",
     "output_type": "stream",
     "text": [
      "zoi dimitris\n",
      "25\n",
      "23\n"
     ]
    }
   ],
   "source": [
    "names={'zoi':25,'dimitris':23}\n",
    "print('zoi','dimitris')\n",
    "kleidia=names.keys()\n",
    "print(names['zoi'])\n",
    "print(names['dimitris'])"
   ]
  },
  {
   "cell_type": "code",
   "execution_count": null,
   "id": "ea098b68-7693-422e-88ed-eec51e8ea004",
   "metadata": {},
   "outputs": [],
   "source": [
    "import numpy as np\n",
    "np.random.seed(seed=123)\n",
    "myarray= np.random.randint(1,1000, size=(100,100))\n",
    "myarray"
   ]
  },
  {
   "cell_type": "code",
   "execution_count": null,
   "id": "1c42d194-0135-4bec-a9fd-720b3135835c",
   "metadata": {},
   "outputs": [],
   "source": [
    "import numpy.ma as ma #εισαγωγή της απαραίτητης βιβλιοθήκης"
   ]
  },
  {
   "cell_type": "code",
   "execution_count": null,
   "id": "c60a6a0c-ff17-45f9-8773-bfb6770b27fc",
   "metadata": {},
   "outputs": [],
   "source": [
    "x=np.arange(6)"
   ]
  },
  {
   "cell_type": "code",
   "execution_count": null,
   "id": "5a93128a-af5d-4e57-9def-9f65444a12e5",
   "metadata": {},
   "outputs": [],
   "source": [
    "x_masked = ma.masked_array(x, mask=[1,0,0,0,0,0])\n",
    "np.nanmean(x_masked)\n",
    "type(x_masked)"
   ]
  }
 ],
 "metadata": {
  "kernelspec": {
   "display_name": "Python 3",
   "language": "python",
   "name": "python3"
  },
  "language_info": {
   "codemirror_mode": {
    "name": "ipython",
    "version": 3
   },
   "file_extension": ".py",
   "mimetype": "text/x-python",
   "name": "python",
   "nbconvert_exporter": "python",
   "pygments_lexer": "ipython3",
   "version": "3.10.2"
  }
 },
 "nbformat": 4,
 "nbformat_minor": 5
}
