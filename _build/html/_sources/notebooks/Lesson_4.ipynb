{
 "cells": [
  {
   "cell_type": "markdown",
   "id": "eac2444e",
   "metadata": {},
   "source": [
    "# 4. Πλειάδες και λεξικά\n",
    "\n",
    "Στην συνέχεια παρουσιάζονται δύο άλλες καθιερωμένες δομές στην Python, οι πλειάδες (tuples) και τα λεξικά (dictionaries).\n",
    "\n",
    "## Πλειάδες (tuples)\n",
    "\n",
    "Οι πλειάδες είναι μια δομή δεδομένων παρόμοια με τις λίστες.\n",
    "Όπως και οι λίστες αποτελούν μια συλλογή αντικειμένων (objects). \n",
    "Όμως διαφέρουν σε ένα σημαντικό χαρακτηριστικό από τις λίστες, είναι αμετάβλητες (immutable), δηλαδή δεν \n",
    "μπορούμε να μεταβάλλουμε το περιεχόμενό τους εφόσον τις δημιουργήσουμε.\n",
    "Κατά συνέπεια ενώ για την προσπέλαση των στοιχείων της χρησιμοποιούνται ίδιες τεχνικές και μέθοδοι (indexing, slicing κτλ) δεν υποστηρίζουν ωστόσο τις αντίστοιχες μεθόδους \n",
    "αφαίρεσης, τροποποίησης και προσθήκης στοιχείων.\n",
    "Υπό την έννοια αυτή οι πλειάδες είναι μια ασφαλή δομή δεδομένων μέσω της οποίας εξασφαλίζεται ότι τα δεδομένα δεν θα τροποποιηθούν από λάθος ή ακόμα και από επιλογή.\n",
    "Συνήθως χρησιμοποιούνται κατά την επιστροφή πολλαπλών τιμών από μια συνάρτηση αλλά και όταν θέλουμε να \"πακετάρουμε\" δεδομένα  (tuple packing).\n",
    "Οι πλειάδες ορίζονται με παρόμοιο τρόπο σαν τις λίστες αλλά αντι για αγκύλες χρησιμοποιούνται παρανθέσεις (αν και δεν είναι απαραίτητες). Για παράδειγμα:"
   ]
  },
  {
   "cell_type": "code",
   "execution_count": 1,
   "id": "9611da18",
   "metadata": {},
   "outputs": [],
   "source": [
    "information = ('UTH','https://www.uth.gr/')"
   ]
  },
  {
   "cell_type": "markdown",
   "id": "d8277573",
   "metadata": {},
   "source": [
    "Το ίδιο μπορεί να γραφτεί και χωρίς παρενθέσεις"
   ]
  },
  {
   "cell_type": "code",
   "execution_count": 2,
   "id": "2aa389aa",
   "metadata": {},
   "outputs": [],
   "source": [
    "information = 'UTH','https://www.uth.gr/'"
   ]
  },
  {
   "cell_type": "markdown",
   "id": "eba71b6a",
   "metadata": {},
   "source": [
    "Όμως πρέπει να λαμβάνουμε υπόψιν ότι ο ορισμός μιας πλειάδες με ένα μόνο στοιχείο πρέπει να ορίζεται με το στοιχείο και να συνοδεύεται από ένα κόμμα. \n",
    "Σε διαφορετική περίπτωση θα επιστρέψει μια μεταβλητή με τύπο αυτόν που περάσαμε στο υποτιθέμενο πρώτο στοιχείο. Δηλαδή το παρακάτω θα δημιουργήσει μια μεταβλητή ακέραιου τύπου και όχι μια πλειάδα με ένα στοιχείο"
   ]
  },
  {
   "cell_type": "code",
   "execution_count": 3,
   "id": "75e7c261",
   "metadata": {},
   "outputs": [
    {
     "name": "stdout",
     "output_type": "stream",
     "text": [
      "<class 'int'>\n"
     ]
    }
   ],
   "source": [
    "year = (2022)\n",
    "print(type(year))"
   ]
  },
  {
   "cell_type": "markdown",
   "id": "bae4529b",
   "metadata": {},
   "source": [
    "Ο σωστός τρόπος συγγραφής αν θέλουμε να πάρουμε μια πλειάδα με ένα μόνο στοιχείο είναι:"
   ]
  },
  {
   "cell_type": "code",
   "execution_count": 4,
   "id": "59b536db",
   "metadata": {},
   "outputs": [
    {
     "name": "stdout",
     "output_type": "stream",
     "text": [
      "<class 'tuple'>\n"
     ]
    }
   ],
   "source": [
    "year = (2022,)\n",
    "print(type(year))"
   ]
  },
  {
   "cell_type": "markdown",
   "id": "a290ac40",
   "metadata": {},
   "source": [
    "Ενώ αν θέλουμε να δημιουργήσουμε μία άδεια πλειάδα τότε χρησιμοποιούμε απλώς δύο παρενθέσεις:"
   ]
  },
  {
   "cell_type": "code",
   "execution_count": 5,
   "id": "6fdc9fc5",
   "metadata": {},
   "outputs": [],
   "source": [
    "empty_tuple = ()"
   ]
  },
  {
   "cell_type": "markdown",
   "id": "42581f05",
   "metadata": {},
   "source": [
    "Επιπλέον μέσω της συνάρτησης *tuple* η οποία δέχεται ως όρισμα μία συμβολοσειρά ή λίστα μπορούμε να δημιουργήσουμε νέες πλειάδες.\n",
    "Προσέξτε το αποτέλεσμα όταν ορίζουμε σαν παράμετρο συμβολοσειρά στην συνάρτηση *tuple*."
   ]
  },
  {
   "cell_type": "code",
   "execution_count": 6,
   "id": "78fc16cf",
   "metadata": {},
   "outputs": [
    {
     "name": "stdout",
     "output_type": "stream",
     "text": [
      "('Κ', 'ρ', 'ή', 'τ', 'η')\n"
     ]
    }
   ],
   "source": [
    "regions= tuple(\"Κρήτη\")\n",
    "print(regions)"
   ]
  },
  {
   "cell_type": "code",
   "execution_count": 7,
   "id": "d328b7dc",
   "metadata": {},
   "outputs": [
    {
     "name": "stdout",
     "output_type": "stream",
     "text": [
      "('Κρήτη', 'Ήπειρος', 'Θράκη')\n"
     ]
    }
   ],
   "source": [
    "regions= tuple([\"Κρήτη\", \"Ήπειρος\", \"Θράκη\"])\n",
    "print(regions)"
   ]
  },
  {
   "cell_type": "markdown",
   "id": "de3589ed",
   "metadata": {},
   "source": [
    "Με κενό όρισμα επιστρέφεται μία άδεια λίστα:"
   ]
  },
  {
   "cell_type": "code",
   "execution_count": 8,
   "id": "4c7c0254",
   "metadata": {},
   "outputs": [],
   "source": [
    "regions= tuple()\n"
   ]
  },
  {
   "cell_type": "markdown",
   "id": "18b28315",
   "metadata": {},
   "source": [
    "Όπως προαναφέρθηκε οι πλειάδες είνα αμετάβλητες δομές δεδομένων και έτσι δεν μπορούμε να χρησιμοποιήσουμε μεθόδους όπως *append*, *del*, *sort* κ.α.\n",
    "Μπορούμε, όπως και στις λίστες, να αναφερθούμε στα στοιχεία της πλειάδας με τους τελεστές [] και με το ευρετήριο (index) ή να εξάγουμε τμήμα από τα στοιχεία (slice) με τον τελεστή :.\n",
    "Λαμβάνουμε το πλήθος των στοιχείων της πλειάδας (lengh) με την συνάρτηση *len*.\n",
    "\n",
    "Οι πλειάδες χρησιμοποιούνται για να πακετάρουμε μια συλλογή δεδομένων σε ένα αντικείμενο (tuple packing) π.χ."
   ]
  },
  {
   "cell_type": "code",
   "execution_count": 9,
   "id": "8d188f88",
   "metadata": {},
   "outputs": [
    {
     "name": "stdout",
     "output_type": "stream",
     "text": [
      "('Μανταρίνι', 'Μανταρίνι', 'Πορτοκάλι')\n"
     ]
    }
   ],
   "source": [
    "fruit1 = \"Μήλος\"\n",
    "fruit2 = \"Πορτοκάλι\"\n",
    "fruit1 = \"Μανταρίνι\"\n",
    "fruits = fruit1, fruit1, fruit2 # tuple packing\n",
    "print(fruits)"
   ]
  },
  {
   "cell_type": "markdown",
   "id": "54d180ad",
   "metadata": {},
   "source": [
    "Βέβαια υπάρχει και η αντίστροφη διαδικασία, το \"ξε-πακετάρισμα\" δεδομένων (tuple unpacking). Όταν δηλαδή αποδίδουμε τα στοιχεία της πλειάδας σε ξεχωριστές μεταβλητές."
   ]
  },
  {
   "cell_type": "code",
   "execution_count": 10,
   "id": "9cb4acf6",
   "metadata": {},
   "outputs": [
    {
     "name": "stdout",
     "output_type": "stream",
     "text": [
      "Αθήνα Βόλος Πάτρα\n"
     ]
    }
   ],
   "source": [
    "cities = \"Αθήνα\", \"Βόλος\", \"Πάτρα\"\n",
    "capital, city1, city2 = cities # tuple packing\n",
    "print(capital,  city1, city2)"
   ]
  },
  {
   "cell_type": "markdown",
   "id": "0f7bd8e6",
   "metadata": {},
   "source": [
    "Ο αμετάβλητος χαρακτήρας των πλειάδων φαίνεται στα παρακάτω παραδείγμα στα οποία επιχειρείται η τροποποίηση των δεδομένων της."
   ]
  },
  {
   "cell_type": "code",
   "execution_count": 11,
   "id": "a9e580c1",
   "metadata": {
    "tags": [
     "raises-exception"
    ]
   },
   "outputs": [
    {
     "ename": "AttributeError",
     "evalue": "'tuple' object has no attribute 'pop'",
     "output_type": "error",
     "traceback": [
      "\u001b[0;31m---------------------------------------------------------------------------\u001b[0m",
      "\u001b[0;31mAttributeError\u001b[0m                            Traceback (most recent call last)",
      "Input \u001b[0;32mIn [11]\u001b[0m, in \u001b[0;36m<cell line: 2>\u001b[0;34m()\u001b[0m\n\u001b[1;32m      1\u001b[0m cities \u001b[38;5;241m=\u001b[39m (\u001b[38;5;124m\"\u001b[39m\u001b[38;5;124mΑθήνα\u001b[39m\u001b[38;5;124m\"\u001b[39m, \u001b[38;5;124m\"\u001b[39m\u001b[38;5;124mΒόλος\u001b[39m\u001b[38;5;124m\"\u001b[39m, \u001b[38;5;124m\"\u001b[39m\u001b[38;5;124mΠάτρα\u001b[39m\u001b[38;5;124m\"\u001b[39m)\n\u001b[0;32m----> 2\u001b[0m \u001b[43mcities\u001b[49m\u001b[38;5;241;43m.\u001b[39;49m\u001b[43mpop\u001b[49m(\u001b[38;5;241m1\u001b[39m)\n",
      "\u001b[0;31mAttributeError\u001b[0m: 'tuple' object has no attribute 'pop'"
     ]
    }
   ],
   "source": [
    "cities = (\"Αθήνα\", \"Βόλος\", \"Πάτρα\")\n",
    "cities.pop(1)"
   ]
  },
  {
   "cell_type": "code",
   "execution_count": 12,
   "id": "8e86bc63",
   "metadata": {
    "tags": [
     "raises-exception"
    ]
   },
   "outputs": [
    {
     "ename": "AttributeError",
     "evalue": "'tuple' object has no attribute 'append'",
     "output_type": "error",
     "traceback": [
      "\u001b[0;31m---------------------------------------------------------------------------\u001b[0m",
      "\u001b[0;31mAttributeError\u001b[0m                            Traceback (most recent call last)",
      "Input \u001b[0;32mIn [12]\u001b[0m, in \u001b[0;36m<cell line: 1>\u001b[0;34m()\u001b[0m\n\u001b[0;32m----> 1\u001b[0m \u001b[43mcities\u001b[49m\u001b[38;5;241;43m.\u001b[39;49m\u001b[43mappend\u001b[49m(\u001b[38;5;124m\"\u001b[39m\u001b[38;5;124mΡόδος\u001b[39m\u001b[38;5;124m\"\u001b[39m)\n",
      "\u001b[0;31mAttributeError\u001b[0m: 'tuple' object has no attribute 'append'"
     ]
    }
   ],
   "source": [
    "cities.append(\"Ρόδος\")"
   ]
  },
  {
   "cell_type": "markdown",
   "id": "431c6a66",
   "metadata": {},
   "source": [
    "Όπως μας ενημερώνει και το σχετικό σφάλμα εκτέλεσης δεν υπάρχουν οι σχετικές μέθοδοι για αντικείμενα της κλάσης *tuple*.\n",
    "\n",
    "Αντίστοιχο σφάλμα λαμβάνουμε και με τον παρακάνω κώδικα όταν πάμε να τροποποιήσουμε ένα στοιχείο της πλειάδας:"
   ]
  },
  {
   "cell_type": "code",
   "execution_count": 13,
   "id": "c495121e",
   "metadata": {
    "tags": [
     "raises-exception"
    ]
   },
   "outputs": [
    {
     "ename": "TypeError",
     "evalue": "'tuple' object does not support item assignment",
     "output_type": "error",
     "traceback": [
      "\u001b[0;31m---------------------------------------------------------------------------\u001b[0m",
      "\u001b[0;31mTypeError\u001b[0m                                 Traceback (most recent call last)",
      "Input \u001b[0;32mIn [13]\u001b[0m, in \u001b[0;36m<cell line: 2>\u001b[0;34m()\u001b[0m\n\u001b[1;32m      1\u001b[0m mytuple \u001b[38;5;241m=\u001b[39m (\u001b[38;5;241m1\u001b[39m, \u001b[38;5;241m2\u001b[39m, \u001b[38;5;241m3\u001b[39m)\n\u001b[0;32m----> 2\u001b[0m mytuple[\u001b[38;5;241m0\u001b[39m] \u001b[38;5;241m=\u001b[39m \u001b[38;5;241m999\u001b[39m\n",
      "\u001b[0;31mTypeError\u001b[0m: 'tuple' object does not support item assignment"
     ]
    }
   ],
   "source": [
    "mytuple = (1, 2, 3)\n",
    "mytuple[0] = 999"
   ]
  },
  {
   "cell_type": "markdown",
   "id": "4cac820b",
   "metadata": {},
   "source": [
    "```{admonition} Tip\n",
    ":class: tip\n",
    "Μια χρήσιμη λειτουργία των πλειάδων είναι η χρήση τους κατά την αντιμετάθεση δύο μεταβλητών.\n",
    "Δείτε το παρακάτω παράδειγμα.\n",
    "```"
   ]
  },
  {
   "cell_type": "code",
   "execution_count": 14,
   "id": "b058e6b4",
   "metadata": {},
   "outputs": [
    {
     "name": "stdout",
     "output_type": "stream",
     "text": [
      "Χίος\n",
      "Λέσβος\n"
     ]
    }
   ],
   "source": [
    "island='Λέσβος'\n",
    "island2='Χίος'\n",
    "island, island2 = island2, island\n",
    "\n",
    "print(island)\n",
    "print(island2)\n"
   ]
  },
  {
   "cell_type": "markdown",
   "id": "a80855c5",
   "metadata": {},
   "source": [
    "```{warning} Προσοχή!\n",
    "Αν και οι πλειάδες είναι αμετάβλητος τύπος δεδομένων ωστόσο στα στοιχεία τους μπορούν να περιλαμβάνουν μεταβλητούς τύπους δεδομένων.\n",
    "Αυτό σημαίνει ότι μπορούμε να τροποποιήσουμε τα στοιχεία αυτά. Παρακάτω δίνεται ένα παράδειγμα.\n",
    "```"
   ]
  },
  {
   "cell_type": "code",
   "execution_count": 15,
   "id": "e0d7fa8b",
   "metadata": {},
   "outputs": [
    {
     "name": "stdout",
     "output_type": "stream",
     "text": [
      "('Αθήνα', ['Καβάλα', 'Πάτρα'])\n"
     ]
    }
   ],
   "source": [
    "cities = (\"Αθήνα\", [\"Βόλος\", \"Πάτρα\"])\n",
    "cities[1][0] = \"Καβάλα\"\n",
    "print(cities)"
   ]
  },
  {
   "cell_type": "markdown",
   "id": "81545c8b",
   "metadata": {},
   "source": [
    "Μια εξήγηση σε αυτήν την αντιφατική συμπεριφορά δίνεται στο παρακάτω νήμα:\n",
    "[https://stackoverflow.com/questions/9755990/why-can-tuples-contain-mutable-items](https://stackoverflow.com/questions/9755990/why-can-tuples-contain-mutable-items)\n",
    "\n",
    "\n",
    "## Λεξικά (Dictionaries)\n",
    "\n",
    "Τα λεξικά στην Python αποτελούν συλλογές αντικειμένων, όπως οι λίστες και οι πλειάδες.\n",
    "Ένα σημαντικό χαρακτηριστικό των λεξικών είναι ότι αυτά αποθηκεύουν δεδομένα κατά ζεύγη, με την μορφή κλειδί-τιμή (key-value pairs).\n",
    "Κάθε κλειδί σε ένα λεξικό συνοδεύεται από μία τιμή. \n",
    "Κάθε κλειδί αποτελεί ουσιαστικά ένα μοναδικό αναγνωριστικό για την συνοδευτική τιμή και γι'αυτό τον λόγο δεν μπορεί να υπάρξει δεύτερο ίδιο κλειδί.\n",
    "Ακόμα, τα κλειδιά πρέπει να ορίζονται από αμετάβλητους τύπους δεδομένων δηλαδή είτε από μιά συμβολοσειρά είτε από έναν ακέραιο ή δεκαδικό. \n",
    "Δεν μπορεί όμως μια λίστα να είναι κλειδί. Μια πλειάδα μπορεί να είναι κλειδί αλλά με την προϋπόθεση ότι και αυτή δεν θα αποτελείται από μεταβλητούς τύπους δεδομένων.\n",
    "Τα λεξικά περικλείονται σε {}, τα ζεύγη ορίζονται υπό την μορφή *κλειδί:τιμή* και χωρίζονται μεταξύ τους με κόμμα (,) δηλαδή:\n",
    "\n",
    "d = {key1 : value1, key2 : value2 }\n",
    "\n",
    " Για παράδειγμα:"
   ]
  },
  {
   "cell_type": "code",
   "execution_count": 16,
   "id": "ff833d9d",
   "metadata": {},
   "outputs": [
    {
     "name": "stdout",
     "output_type": "stream",
     "text": [
      "{'Χρήστος': '69936565', 'Κώστας': '246541353', 'Βαγγέλης': '546546536'}\n"
     ]
    }
   ],
   "source": [
    "phones ={\"Χρήστος\": \"69936565\", \"Κώστας\":\"246541353\", \"Βαγγέλης\":\"546546536\"}\n",
    "print(phones)"
   ]
  },
  {
   "cell_type": "markdown",
   "id": "d78fb0dd",
   "metadata": {},
   "source": [
    "Τα κλειδιά (keys) σε αυτήν την περίπτωση είναι τα ονόματα και οι αριθμοί τηλεφώνων (ως συμβολοσειρές ορισμένες) οι τιμές (values).\n",
    "\n",
    "Εναλλακτικά μπορούμε να δημιουργήσουμε ένα άδειο λεξικό και να προσθέσουμε στην συνέχεια ζεύγη."
   ]
  },
  {
   "cell_type": "code",
   "execution_count": 17,
   "id": "32e064b7",
   "metadata": {},
   "outputs": [],
   "source": [
    "phones ={}\n",
    "phones[\"Χρήστος\"] =\"69936565\"\n",
    "phones[\"Κώστας\"]  =\"246541353\"\n",
    "phones[\"Βαγγέλης\"]=\"546546536\""
   ]
  },
  {
   "cell_type": "markdown",
   "id": "d50f55b9",
   "metadata": {},
   "source": [
    "Ένας άλλος τρόπος δημιουργίας λεξικών είναι με την συνάρτηση *dict*."
   ]
  },
  {
   "cell_type": "code",
   "execution_count": 18,
   "id": "6ced0b9f",
   "metadata": {},
   "outputs": [],
   "source": [
    "phones =dict(Χρήστος=\"69936565\",Κώστας=\"246541353\", Βαγγέλης=\"546546536\")"
   ]
  },
  {
   "cell_type": "markdown",
   "id": "24b77e60",
   "metadata": {},
   "source": [
    "Με αυτόν τον τρόπο ορίζουμε τα κλειδιά μέσω μεταβλητών και γι' αυτό τον λόγο εφαρμόζονται οι περιορισμοί που αφορούν την ονοματολογία των μεταβλητών.\n",
    "\n",
    "Στα λεξικά τα ζεύγη αυτά δεν ταξινομούνται με κάποια συγκεκριμένη σειρά αλλά με έναν μηχανισμό της Python που λέγεται *hashing* και αποσκοπεί στην γρήγορη ανάκτηση τους.\n",
    "Η ταξινόμηση αυτή αλλάζει κάθε φορά κατά τυχαίο τρόπο όταν τροποποιούμε ένα λεξικό.\n",
    "Για τον λόγο αυτό δεν υπάρχει η έννοια της θέσης ή του δείκτη (index) όπως στις λίστες και στις πλειάδες. \n",
    "Η ανάκτηση μιας τιμής από ένα ζεύγος γίνεται με βάση τo κλειδί π.χ.* d['a_key']*.\n",
    "Γίνεται δηλαδή με παρόμοιο τρόπο όπως στις λίστες και τις πλειάδες αλλά αντι για το ευρετήριο θέσης ορίζουμε το κλειδί."
   ]
  },
  {
   "cell_type": "code",
   "execution_count": 19,
   "id": "fbf66c27",
   "metadata": {},
   "outputs": [
    {
     "name": "stdout",
     "output_type": "stream",
     "text": [
      "69936565\n",
      "546546536\n"
     ]
    }
   ],
   "source": [
    "print(phones[\"Χρήστος\"])\n",
    "print(phones[\"Βαγγέλης\"])"
   ]
  },
  {
   "cell_type": "markdown",
   "id": "f5025e9c",
   "metadata": {},
   "source": [
    "Όπως προαναφέρθηκε δεν μπορούμε να έχουμε διπλό κλειδί σε ένα λεξικό. \n",
    "Έτσι αν επιχειρήσουμε να προσθέσουμε ένα ζεύγος με υφιστάμενο κλειδί στην πράξη αυτό που θα γίνει είναι να αντικαταστήσουμε την παλιά τιμή με μια νέα:"
   ]
  },
  {
   "cell_type": "code",
   "execution_count": 20,
   "id": "cc3e07db",
   "metadata": {},
   "outputs": [
    {
     "name": "stdout",
     "output_type": "stream",
     "text": [
      "546546536\n",
      "666666666\n"
     ]
    }
   ],
   "source": [
    "print(phones[\"Βαγγέλης\"])\n",
    "phones[\"Βαγγέλης\"]=\"666666666\"\n",
    "print(phones[\"Βαγγέλης\"])"
   ]
  },
  {
   "cell_type": "markdown",
   "id": "d41e30f8",
   "metadata": {},
   "source": [
    "Για την διαγραφή ενός ζεύγους από λεξικό χρησιμοποιείται η συνάρτηση *del* δηλ. del(d['key']). Δείτε το επόμενο παράδειγμα:"
   ]
  },
  {
   "cell_type": "code",
   "execution_count": 21,
   "id": "3d6df6dd",
   "metadata": {},
   "outputs": [
    {
     "name": "stdout",
     "output_type": "stream",
     "text": [
      "{'Χρήστος': '69936565', 'Κώστας': '246541353'}\n"
     ]
    }
   ],
   "source": [
    "del(phones[\"Βαγγέλης\"])\n",
    "print(phones)"
   ]
  },
  {
   "cell_type": "markdown",
   "id": "2e89808b",
   "metadata": {},
   "source": [
    "Με την συνάρτηση *len* επιστρέφεται το μέγεθος του λεξικού δηλαδή το πλήθος των ζευγαριών κλειδιών/τιμών που περιέχει:"
   ]
  },
  {
   "cell_type": "code",
   "execution_count": 22,
   "id": "2d0c74ca",
   "metadata": {},
   "outputs": [
    {
     "name": "stdout",
     "output_type": "stream",
     "text": [
      "2\n"
     ]
    }
   ],
   "source": [
    "print(len(phones))"
   ]
  },
  {
   "cell_type": "markdown",
   "id": "de7f738a",
   "metadata": {},
   "source": [
    "Μέσω του τελεστή *in * διαπιστώνεται αν υπάρχει ένα κλειδί σε ένα λεξικό:"
   ]
  },
  {
   "cell_type": "code",
   "execution_count": 23,
   "id": "2e5a026f",
   "metadata": {},
   "outputs": [
    {
     "name": "stdout",
     "output_type": "stream",
     "text": [
      "True\n"
     ]
    }
   ],
   "source": [
    "print(\"Χρήστος\" in  phones)\n"
   ]
  },
  {
   "cell_type": "markdown",
   "id": "1a2487be",
   "metadata": {},
   "source": [
    "Με την μέθοδο *keys* ενός λεξικού επιστρέφονται τα κλειδιά του.\n",
    "Αντίστοιχα με την μέθοδο *values* επιστρέφονται οι τιμές του ενώ με την μέθοδο items επιστρέφονται τα ζεύγη κλειδιών/τιμών.\n",
    "Τα επιστρεφόμενα objects είναι αντιστοιχα *dict_keys*, *dict_values*,  *dict_items*.\n",
    "Ο παρακάτω κώδικας περιγράφει τις παραπάνω λειτουργίες:"
   ]
  },
  {
   "cell_type": "code",
   "execution_count": 24,
   "id": "df3e51e1",
   "metadata": {},
   "outputs": [
    {
     "name": "stdout",
     "output_type": "stream",
     "text": [
      "dict_keys(['a', 'b', 'c'])\n",
      "dict_values([10, 20, 30])\n",
      "dict_items([('a', 10), ('b', 20), ('c', 30)])\n"
     ]
    }
   ],
   "source": [
    "d = {'a': 10, 'b': 20, 'c': 30}\n",
    "print(d.keys())\n",
    "print(d.values())\n",
    "print(d.items())\n"
   ]
  },
  {
   "cell_type": "markdown",
   "id": "0f624f0e",
   "metadata": {},
   "source": [
    "Αν θέλουμε να ταξινομήσουμε το λεξικό με βάση τα κλειδιά τότε το κάνουμε με την συνάρτηση *sorted*:"
   ]
  },
  {
   "cell_type": "code",
   "execution_count": 25,
   "id": "b78f35d4",
   "metadata": {},
   "outputs": [
    {
     "name": "stdout",
     "output_type": "stream",
     "text": [
      "['brand', 'model', 'year']\n"
     ]
    }
   ],
   "source": [
    "thisdict = {\n",
    "  \"year\": 1964,\n",
    "  \"brand\": \"Ford\",\n",
    "  \"model\": \"Mustang\"\n",
    "}\n",
    "\n",
    "print(sorted(thisdict))\n"
   ]
  },
  {
   "cell_type": "markdown",
   "id": "cf5c2c22",
   "metadata": {},
   "source": [
    "Πολύ συνηθισμένη περίπτωση είναι τα λεξικά να περιλαμβάνουν σαν τιμές άλλα λεξικά."
   ]
  },
  {
   "cell_type": "code",
   "execution_count": 26,
   "id": "28b13977",
   "metadata": {},
   "outputs": [],
   "source": [
    "contacts = {\"Χρήστος\": {\"Σπίτι\": \"457456456\", \"Εργασία\": \"48856\"}, \n",
    "            \"Γιάννης\": {\"Σπίτι\": \"8753778\", \"Εργασία\": \"45654656\"}, \n",
    "            \"Κώστας\": {\"Κινητό\": \"45475354\"}}\n"
   ]
  },
  {
   "cell_type": "markdown",
   "id": "81e239fe",
   "metadata": {},
   "source": [
    "Σε αυτή την περίπτωση ορίζοντας διαδοχικά τα κλειδιά παίρνουμε τις τιμές που επιθυμούμε:"
   ]
  },
  {
   "cell_type": "code",
   "execution_count": 27,
   "id": "9e58c09f",
   "metadata": {},
   "outputs": [
    {
     "name": "stdout",
     "output_type": "stream",
     "text": [
      "{'Σπίτι': '457456456', 'Εργασία': '48856'}\n",
      "48856\n"
     ]
    }
   ],
   "source": [
    "print(contacts[\"Χρήστος\"])\n",
    "print(contacts[\"Χρήστος\"][\"Εργασία\"])\n"
   ]
  },
  {
   "cell_type": "markdown",
   "id": "3a5949ce",
   "metadata": {},
   "source": [
    "Μπορούμε να διατρέξουμε τα ζεύγη ενός λεξικού αλλά η σειρά που θα γίνεται η ανάκτηση μπορεί να μην είναι με την σειρά που ορίζονται και όχι πάντα η ίδια."
   ]
  },
  {
   "cell_type": "code",
   "execution_count": 28,
   "id": "23803221",
   "metadata": {},
   "outputs": [
    {
     "name": "stdout",
     "output_type": "stream",
     "text": [
      "69936565\n",
      "246541353\n"
     ]
    }
   ],
   "source": [
    "for phone in phones:\n",
    "    print(phones[phone])"
   ]
  },
  {
   "cell_type": "markdown",
   "id": "699d6b51",
   "metadata": {},
   "source": [
    "Όπως και με τις λίστες έτσι και με τα λεξικά πρέπει να είμαστε προσεκτικοί όταν αντιγράφουμε ένα λεξικό.\n",
    "Η αντιγραφή μπορεί να αναφέρεται στο ίδιο αντικείμενο και τροποποίηση των δεδομένων ενός λεξικού θα επιφέρει και την αντίστοιχη τροποποίηση στο άλλο."
   ]
  },
  {
   "cell_type": "code",
   "execution_count": 29,
   "id": "538ddce0",
   "metadata": {},
   "outputs": [
    {
     "name": "stdout",
     "output_type": "stream",
     "text": [
      "{'name': 'Γιάννης'}\n"
     ]
    }
   ],
   "source": [
    "names1 = {'name':\"Κώστας\"}\n",
    "names2=names1 \n",
    "names2['name']=\"Γιάννης\"\n",
    "print(names1)\n"
   ]
  },
  {
   "cell_type": "markdown",
   "id": "df17dc44",
   "metadata": {},
   "source": [
    "Σε αυτή την περίπτωση χρησιμοποιείται η μέθοδος *copy* για την αντιγραφή των δεδομένων ενός λεξικού σε ένα άλλο."
   ]
  },
  {
   "cell_type": "code",
   "execution_count": 30,
   "id": "1e13e6dc",
   "metadata": {},
   "outputs": [
    {
     "name": "stdout",
     "output_type": "stream",
     "text": [
      "{'name': 'Κώστας'}\n"
     ]
    }
   ],
   "source": [
    "names1 = {'name':\"Κώστας\"}\n",
    "names2=names1.copy()\n",
    "names2['name']=\"Γιάννης\"\n",
    "print(names1)\n"
   ]
  }
 ],
 "metadata": {
  "jupytext": {
   "cell_metadata_filter": "-all",
   "formats": "md:myst",
   "text_representation": {
    "extension": ".md",
    "format_name": "myst",
    "format_version": 0.13,
    "jupytext_version": "1.11.5"
   }
  },
  "kernelspec": {
   "display_name": "Python 3",
   "language": "python",
   "name": "python3"
  },
  "language_info": {
   "codemirror_mode": {
    "name": "ipython",
    "version": 3
   },
   "file_extension": ".py",
   "mimetype": "text/x-python",
   "name": "python",
   "nbconvert_exporter": "python",
   "pygments_lexer": "ipython3",
   "version": "3.10.2"
  },
  "source_map": [
   14,
   32,
   34,
   38,
   40,
   45,
   48,
   51,
   54,
   58,
   60,
   65,
   70,
   73,
   75,
   78,
   85,
   91,
   94,
   99,
   102,
   108,
   111,
   116,
   120,
   131,
   139,
   147,
   152,
   172,
   176,
   181,
   187,
   191,
   194,
   204,
   207,
   211,
   215,
   219,
   222,
   225,
   227,
   230,
   233,
   240,
   247,
   249,
   258,
   262,
   267,
   269,
   273,
   276,
   279,
   284,
   290,
   293
  ]
 },
 "nbformat": 4,
 "nbformat_minor": 5
}