{
 "cells": [
  {
   "cell_type": "markdown",
   "id": "7061d085-c241-4188-9a83-19ad6835619c",
   "metadata": {},
   "source": [
    "# Εργασία 6. Συναρτήσεις"
   ]
  },
  {
   "cell_type": "markdown",
   "id": "2514e2b9-7c27-4e19-8d61-e61857df5182",
   "metadata": {},
   "source": [
    "1. Ορίστε μια συνάρτηση που δέχεται σαν παράμετρο την ακτίνα και επιστρέφει το εμβαδό ενός κύκλου. Μέσω docstrings περιγράψτε πολύ συνοπτικά την λειτουργία της συνάρτησης."
   ]
  },
  {
   "cell_type": "code",
   "execution_count": 1,
   "id": "635c46ad-01ce-4c1a-853b-24954790a1f9",
   "metadata": {},
   "outputs": [
    {
     "data": {
      "text/plain": [
       "12.566370614359172"
      ]
     },
     "execution_count": 1,
     "metadata": {},
     "output_type": "execute_result"
    }
   ],
   "source": [
    "import math\n",
    "def calcArea(r):\n",
    "    '''Η τρέχουσα συνάρτηση δέχεται σαν όρισμα την ακτίνα ενός κύκλου και επιστρέφει το εμβαδόν του'''\n",
    "    return(math.pi*r**2)\n",
    "\n",
    "calcArea(2)"
   ]
  },
  {
   "cell_type": "markdown",
   "id": "9fee68cc-1198-4b25-b99f-cbb7ea860ce5",
   "metadata": {},
   "source": [
    "2. Ορίστε μια συνάρτηση που θα δέχεται σαν παράμετρο το ΑΦΜ σας και θα επιστρέφει True αν το τελευταίο ψηφίο είναι ζυγός αριθμός και False αν είναι μονός. Ενδεικτικά για την λύση, υπενθυμίζεται ότι πρέπει να εξάγετε το τελευταίο στοιχείο μιας συμβολοσειράς (το ΑΦΜ στην τρέχουσα περίπτωση), να το μετατρέψετε σε ακέραιο και να κάνετε χρήση του τελεστή modulo (υπόλοιπο διαίρεσης)."
   ]
  },
  {
   "cell_type": "code",
   "execution_count": 2,
   "id": "9f9f5b6d-407b-48ca-b40b-684aab7017f5",
   "metadata": {},
   "outputs": [
    {
     "data": {
      "text/plain": [
       "True"
      ]
     },
     "execution_count": 2,
     "metadata": {},
     "output_type": "execute_result"
    }
   ],
   "source": [
    "def checkAFM(afm):\n",
    "    \n",
    "    if not isinstance(afm, str):\n",
    "        afm=str(afm)\n",
    "    \n",
    "    digit= int(afm[-1])\n",
    "    if (digit % 2) == 0:\n",
    "        return(True)\n",
    "    else:\n",
    "        return(False)\n",
    "    \n",
    "checkAFM('109034328')\n",
    "    \n",
    "    "
   ]
  },
  {
   "cell_type": "markdown",
   "id": "bdb49e2f-4adc-4905-b665-738354449634",
   "metadata": {},
   "source": [
    "3. Ορίστε μια συνάρτηση με το όνομα abs_ofNumber η οποία θα δέχεται μια παράμετρο. Η συνάρτηση θα επιστρέφει την απόλυτη τιμή (μέσω της συνάρτησης abs) αν ειναι ακέραιος ή δεκαδικός ή θα επιστρέφει None σε διαφορετική περίπτωση."
   ]
  },
  {
   "cell_type": "code",
   "execution_count": 3,
   "id": "aaef368d-e2d6-453e-9f8f-61bcfc133f5b",
   "metadata": {},
   "outputs": [],
   "source": [
    "def abs_ofNumber(x):\n",
    "    if type(x) is int or type(x) is float:\n",
    "        return(abs(x))\n",
    "    else:\n",
    "        return(None)\n",
    "    \n"
   ]
  },
  {
   "cell_type": "code",
   "execution_count": 4,
   "id": "f8470049-0837-43d9-87bd-2cd719095a4d",
   "metadata": {},
   "outputs": [
    {
     "name": "stdout",
     "output_type": "stream",
     "text": [
      "1.5\n"
     ]
    }
   ],
   "source": [
    "print(abs_ofNumber(-1.5) )"
   ]
  },
  {
   "cell_type": "code",
   "execution_count": 5,
   "id": "a3d0c749-0db2-4479-a339-5cfa7a239bf5",
   "metadata": {},
   "outputs": [
    {
     "name": "stdout",
     "output_type": "stream",
     "text": [
      "15\n"
     ]
    }
   ],
   "source": [
    "print(abs_ofNumber(-15) )"
   ]
  },
  {
   "cell_type": "code",
   "execution_count": 6,
   "id": "91d3b586-5718-4ecf-92e1-f35d45f7566c",
   "metadata": {},
   "outputs": [
    {
     "name": "stdout",
     "output_type": "stream",
     "text": [
      "None\n"
     ]
    }
   ],
   "source": [
    "print(abs_ofNumber(\"Test\") )"
   ]
  },
  {
   "cell_type": "markdown",
   "id": "8c166cd5-6987-4d0d-b785-816f46c67b5c",
   "metadata": {},
   "source": [
    "4. Χρησιμοποιείστε την συνάρτηση sqrt του αρθρώματος math για να υπολογίσετε την τετραγωνική ρίζα ενός αριθμού."
   ]
  },
  {
   "cell_type": "code",
   "execution_count": null,
   "id": "b12f4101-c6bc-4969-8405-040c751ec2b0",
   "metadata": {},
   "outputs": [],
   "source": [
    "import math\n",
    "math.sqrt(144)"
   ]
  },
  {
   "cell_type": "markdown",
   "id": "09c0070e-d098-4487-b90a-d5451fd9aa03",
   "metadata": {},
   "source": [
    "4. Χρησιμοποιείστε την συνάρτηση sqrt του αρθρώματος math για να υπολογίσετε την τετραγωνική ρίζα ενός αριθμού."
   ]
  },
  {
   "cell_type": "markdown",
   "id": "67829c9b-f0f4-4d43-aff0-e34c1eb4bd72",
   "metadata": {},
   "source": [
    "5. Ορίστε και καλέστε μια συνάρτηση lambda που θα επιστρέφει τον κύβο, το τετράγωνο και την τετραγωνική ρίζα ενός αριθμού. Υπενθυμίζεται η χρήση των πλειάδων (tuple packing) για τη επιστροφή πολλών τιμών από μια συνάρτηση."
   ]
  },
  {
   "cell_type": "code",
   "execution_count": 7,
   "id": "8fe745cc-e0b4-41b2-b36d-e5f4585126e9",
   "metadata": {},
   "outputs": [],
   "source": [
    "x = lambda x: (x**3, x**2, x**0.5) "
   ]
  },
  {
   "cell_type": "code",
   "execution_count": 8,
   "id": "33cecc56-53e7-4e11-b9d5-04a5e625593d",
   "metadata": {},
   "outputs": [],
   "source": [
    "cube, square, root = x(2)"
   ]
  },
  {
   "cell_type": "code",
   "execution_count": 9,
   "id": "56ba55b4-9332-4518-a1e3-c752643ed759",
   "metadata": {},
   "outputs": [
    {
     "name": "stdout",
     "output_type": "stream",
     "text": [
      "8, 4, 1.4142135623730951\n"
     ]
    }
   ],
   "source": [
    "print(cube, square, root,  sep=', ')"
   ]
  },
  {
   "cell_type": "markdown",
   "id": "e7a34b52-10c8-4a49-ada0-e9ecc6816cfb",
   "metadata": {},
   "source": [
    "# Εργασία 7. Ανάγνωση & εγγραφή αρχείων, διαχείριση αρχείων και καταλόγων"
   ]
  },
  {
   "cell_type": "markdown",
   "id": "8dd9ccd9-b75b-47a6-9983-197a478e47cb",
   "metadata": {},
   "source": [
    "1. Διαβάστε και εκτυπώστε το περιεχόμενο ενός αρχείου κειμένου γραμμή -γραμμή.\n"
   ]
  },
  {
   "cell_type": "code",
   "execution_count": 10,
   "id": "1f6243e5-8256-4461-a690-04889fd79e04",
   "metadata": {},
   "outputs": [
    {
     "name": "stdout",
     "output_type": "stream",
     "text": [
      "Beautiful is better than ugly.\n",
      "Explicit is better than implicit.\n",
      "Simple is better than complex.\n",
      "Complex is better than complicated.\n",
      "Flat is better than nested.\n",
      "Sparse is better than dense.\n",
      "Readability counts.\n",
      "Special cases aren't special enough to break the rules.\n",
      "Although practicality beats purity.\n",
      "Errors should never pass silently.\n",
      "Unless explicitly silenced.\n",
      "In the face of ambiguity, refuse the temptation to guess.\n",
      "There should be one-- and preferably only one --obvious way to do it.\n",
      "Although that way may not be obvious at first unless you're Dutch.\n",
      "Now is better than never.\n",
      "Although never is often better than *right* now.\n",
      "If the implementation is hard to explain, it's a bad idea.\n",
      "If the implementation is easy to explain, it may be a good idea.\n",
      "Namespaces are one honking great idea -- let's do more of those!\n"
     ]
    }
   ],
   "source": [
    "def read_file():\n",
    "    with open('../docs/exercise7.txt', 'r') as file:\n",
    "        for line in file:\n",
    "            print(line, end=\"\")\n",
    "\n",
    "read_file()"
   ]
  },
  {
   "cell_type": "markdown",
   "id": "9220221c-de15-4a59-b7c8-957f8273dd1b",
   "metadata": {},
   "source": [
    "2. Γράψτε μια συνάρτηση η οποία θα διαβάζει ένα αρχείο κειμένου και θα εκτυπώνει τις λέξεις πού έχουν μήκος περισσότερους από 4 χαρακτήρες.\n"
   ]
  },
  {
   "cell_type": "code",
   "execution_count": 11,
   "id": "0c9a2e05-671b-4f59-9bc8-ac5c3a08ff1b",
   "metadata": {},
   "outputs": [
    {
     "name": "stdout",
     "output_type": "stream",
     "text": [
      "Beautiful\n",
      "better\n",
      "ugly.\n",
      "Explicit\n",
      "better\n",
      "implicit.\n",
      "Simple\n",
      "better\n",
      "complex.\n",
      "Complex\n",
      "better\n",
      "complicated.\n",
      "better\n",
      "nested.\n",
      "Sparse\n",
      "better\n",
      "dense.\n",
      "Readability\n",
      "counts.\n",
      "Special\n",
      "cases\n",
      "aren't\n",
      "special\n",
      "enough\n",
      "break\n",
      "rules.\n",
      "Although\n",
      "practicality\n",
      "beats\n",
      "purity.\n",
      "Errors\n",
      "should\n",
      "never\n",
      "silently.\n",
      "Unless\n",
      "explicitly\n",
      "silenced.\n",
      "ambiguity,\n",
      "refuse\n",
      "temptation\n",
      "guess.\n",
      "There\n",
      "should\n",
      "one--\n",
      "preferably\n",
      "--obvious\n",
      "Although\n",
      "obvious\n",
      "first\n",
      "unless\n",
      "you're\n",
      "Dutch.\n",
      "better\n",
      "never.\n",
      "Although\n",
      "never\n",
      "often\n",
      "better\n",
      "*right*\n",
      "implementation\n",
      "explain,\n",
      "idea.\n",
      "implementation\n",
      "explain,\n",
      "idea.\n",
      "Namespaces\n",
      "honking\n",
      "great\n",
      "let's\n",
      "those!\n"
     ]
    }
   ],
   "source": [
    "def read_words():\n",
    "    with open('../docs/exercise7.txt', 'r') as file:\n",
    "        data = file.read()\n",
    "        words = data.split()\n",
    "        for word in words:\n",
    "            if len(word) > 4:\n",
    "                print(word, end=\"\\n\")\n",
    "\n",
    "read_words()"
   ]
  },
  {
   "cell_type": "markdown",
   "id": "2d0186f6-8f3d-47cb-ae28-c587c31ea418",
   "metadata": {},
   "source": [
    "3. Γράψτε το περιεχόμενο ενός αρχείου σε ένα άλλο αρχείο."
   ]
  },
  {
   "cell_type": "code",
   "execution_count": 12,
   "id": "21ec7b94-e2de-40a2-b521-fbaf0e7f71f6",
   "metadata": {},
   "outputs": [],
   "source": [
    "r_path = '../docs/exercise7.txt'\n",
    "w_path = '../docs/exercise7_bck.txt'\n",
    "with open(r_path, 'r') as reader, open(w_path, 'w') as writer:\n",
    "    lines = reader.readlines()\n",
    "    writer.writelines(lines)"
   ]
  },
  {
   "cell_type": "markdown",
   "id": "f922bfcf-43bf-4938-9248-83af57b0f7c4",
   "metadata": {},
   "source": [
    "4. Εκτυπώστε μια λίστα με τα αρχεία ενός καταλόγου. Στην συνέχεια εκτυπώστε μια λίστα με τους καταλόγους του."
   ]
  },
  {
   "cell_type": "code",
   "execution_count": 13,
   "id": "ff78480c-0c0f-4257-9313-a3c010fd736e",
   "metadata": {},
   "outputs": [
    {
     "data": {
      "text/plain": [
       "'/home/leonidas/Documents/uth/Programming/JupyterNotebooks/notes/notebooks'"
      ]
     },
     "execution_count": 13,
     "metadata": {},
     "output_type": "execute_result"
    }
   ],
   "source": [
    "import os\n",
    "os.getcwd()"
   ]
  },
  {
   "cell_type": "code",
   "execution_count": 14,
   "id": "7dc4feb2-409f-4750-8c0e-3d23629b5c61",
   "metadata": {},
   "outputs": [
    {
     "data": {
      "text/plain": [
       "'/home/leonidas/Documents/uth/Programming/JupyterNotebooks/notes/docs'"
      ]
     },
     "execution_count": 14,
     "metadata": {},
     "output_type": "execute_result"
    }
   ],
   "source": [
    "# αλλαγή τρέχοντος καταλόγου\n",
    "os.chdir('../docs')\n",
    "os.getcwd()\n"
   ]
  },
  {
   "cell_type": "code",
   "execution_count": 15,
   "id": "e5eebfa3-8a2c-46cc-a7f8-452e7ae6b16e",
   "metadata": {},
   "outputs": [
    {
     "name": "stdout",
     "output_type": "stream",
     "text": [
      "['some_directory.zip', 'cities.csv', 'dhmoi.gpkg', 'ypolekanes.zip', 'dhmoi.geojson', 'exercise7_bck.txt', 'exercise7.txt', 'COVID-19 Coronavirus_V2.csv', 'COVID-19 Coronavirus_V3.csv', 'COVID-19 Coronavirus.csv']\n"
     ]
    }
   ],
   "source": [
    "#  λίστα με τα αρχεία ενός καταλόγου\n",
    "\n",
    "from pathlib import Path\n",
    "directory = Path('./')\n",
    "contents = directory.iterdir()\n",
    "files = [f.name for f in contents if f.is_file()]\n",
    "print(files)"
   ]
  },
  {
   "cell_type": "code",
   "execution_count": 16,
   "id": "b2a28166-4fdc-4738-aaf4-01d68f28fedc",
   "metadata": {},
   "outputs": [
    {
     "name": "stdout",
     "output_type": "stream",
     "text": [
      "['empty_dir', 'ypolekanes']\n"
     ]
    }
   ],
   "source": [
    "#  λίστα με τους καταλόγους\n",
    "from pathlib import Path\n",
    "directory = Path('./')\n",
    "contents = directory.iterdir()\n",
    "files = [f.name for f in contents if f.is_dir()]\n",
    "print(files)"
   ]
  },
  {
   "cell_type": "markdown",
   "id": "d4784a2d-9cb2-476e-a24f-ee2b5c2bd18d",
   "metadata": {},
   "source": [
    "5. Γράψτε ένα πρόγραμμα στην python για να διαπιστώσετε αν ένα αρχείο υπάρχει. Αν το αρχείο υπάρχει τότε εκτυπώστε το όνομα αρχείου (filename) και τον κατάλογο στον οποίο βρίσκεται.\n"
   ]
  },
  {
   "cell_type": "code",
   "execution_count": 17,
   "id": "3f2a7c5c-09ee-4590-b5f0-862d45140a13",
   "metadata": {},
   "outputs": [
    {
     "name": "stdout",
     "output_type": "stream",
     "text": [
      "Όνομα αρχείου: COVID-19 Coronavirus.csv\n",
      "Relative Path καταλόγου: ../docs\n",
      "Absolute Path καταλόγου: /home/leonidas/Documents/uth/Programming/JupyterNotebooks/notes/docs\n",
      "Absolute Path Αρχείου: /home/leonidas/Documents/uth/Programming/JupyterNotebooks/notes/docs/COVID-19 Coronavirus.csv\n"
     ]
    }
   ],
   "source": [
    "import os\n",
    "\n",
    "data_file = Path('../docs/COVID-19 Coronavirus.csv')\n",
    "\n",
    "if data_file.is_file():\n",
    "    \n",
    "    filename = os.path.basename(data_file)\n",
    "    relative_dir = os.path.dirname(data_file)\n",
    "    absolute_dir = os.path.abspath(relative_dir)\n",
    "    absolute_file = os.path.abspath(filename)\n",
    "    \n",
    "    print(f\"Όνομα αρχείου: {filename}\", \n",
    "          f\"Relative Path καταλόγου: {relative_dir}\" , \n",
    "          f\"Absolute Path καταλόγου: {absolute_dir}\", \n",
    "          f\"Absolute Path Αρχείου: {absolute_file}\",\n",
    "          sep=\"\\n\")\n",
    "else:\n",
    "    print (\"Το αρχείο δεν υπάρχει \")\n"
   ]
  },
  {
   "cell_type": "markdown",
   "id": "45dc4143-bbc4-49d7-aefc-bded90b53e6e",
   "metadata": {},
   "source": [
    "# Εργασία 8. Πίνακες και διαγράμματα\n"
   ]
  },
  {
   "cell_type": "markdown",
   "id": "c3c317e1-ca72-4c11-9491-1455aec87a2d",
   "metadata": {},
   "source": [
    "1. Γράψτε ένα πρόγραμμα στην Python που θα διαβάζει ένα αρχείο CSV και θα χρησιμοποιεί σαν διαχωριστικό στηλών τον χαρακτήρα tab.\n",
    "\n",
    "Tip: Ο\n",
    "χαρακτήρας tab δηλώνεται με συγκεκριμένο τρόπο στην Python (βλ. μάθημα για συμβολοσειρές)"
   ]
  },
  {
   "cell_type": "code",
   "execution_count": 18,
   "id": "c75b2fda-b9ff-4480-ad45-07f31b922202",
   "metadata": {},
   "outputs": [
    {
     "name": "stdout",
     "output_type": "stream",
     "text": [
      "['Country', 'Other names', 'ISO 3166-1 alpha-3 CODE', 'Population', 'Continent', 'Total Cases', 'Total Deaths', 'TotCases_1M_pop', 'TotDeaths_1M_pop', 'Death percentage']\n",
      "['Afghanistan', 'Afghanistan', 'AFG', '40462186', 'Asia', '177827', '7671', '4395', '190', '4.313743132']\n",
      "['Albania', 'Albania', 'ALB', '2872296', 'Europe', '273870', '3492', '95349', '1216', '1.275057509']\n",
      "['Algeria', 'Algeria', 'DZA', '45236699', 'Africa', '265691', '6874', '5873', '152', '2.587215976']\n",
      "['Andorra', 'Andorra', 'AND', '77481', 'Europe', '40024', '153', '516565', '1975', '0.382270638']\n",
      "['Angola', 'Angola', 'AGO', '34654212', 'Africa', '99194', '1900', '2862', '55', '1.915438434']\n",
      "['Anguilla', 'Anguilla', 'AIA', '15237', 'Latin America and the Caribbean', '2700', '9', '177200', '591', '0.333333333']\n",
      "['Antigua and Barbuda', 'Antigua and Barbuda', 'ATG', '99348', 'Latin America and the Caribbean', '7493', '135', '75422', '1359', '1.801681569']\n",
      "['Argentina', 'Argentina', 'ARG', '45921761', 'Latin America and the Caribbean', '9041124', '128065', '196881', '2789', '1.416472111']\n",
      "['Armenia', 'Armenia', 'ARM', '2972939', 'Asia', '422574', '8617', '142140', '2898', '2.039169471']\n",
      "['Aruba', 'Aruba', 'ABW', '107560', 'Latin America and the Caribbean', '34051', '212', '316577', '1971', '0.622595518']\n",
      "['Australia', 'Australia', 'AUS', '26017767', 'Oceania', '4680816', '6384', '179908', '245', '0.136386476']\n",
      "['Austria', 'Austria', 'AUT', '9096360', 'Europe', '3887355', '15985', '427353', '1757', '0.411205048']\n",
      "['Azerbaijan', 'Azerbaijan', 'AZE', '10299156', 'Asia', '792061', '9697', '76905', '942', '1.224274393']\n",
      "['Bahamas', 'Bahamas', 'BHM', '399822', 'Latin America and the Caribbean', '33295', '788', '83275', '1971', '2.36672173']\n",
      "['Bahrain', 'Bahrain', 'BHR', '1804995', 'Asia', '556241', '1471', '308168', '815', '0.264453717']\n",
      "['Bangladesh', 'Bangladesh', 'BGD', '167561502', 'Asia', '1951770', '29122', '11648', '174', '1.492081546']\n",
      "['Barbados', 'Barbados', 'BRB', '287991', 'Latin America and the Caribbean', '59938', '375', '208125', '1302', '0.625646501']\n",
      "['Belarus', 'Belarus', 'BLR', '9443882', 'Europe', '965322', '6844', '102217', '725', '0.708986224']\n",
      "['Belgium', 'Belgium', 'BEL', '11677924', 'Europe', '3851048', '30826', '329772', '2640', '0.800457434']\n",
      "['Belize', 'Belize', 'BLZ', '410260', 'Latin America and the Caribbean', '57289', '656', '139641', '1599', '1.14507148']\n",
      "['Benin', 'Benin', 'BEN', '12678649', 'Africa', '26952', '163', '2126', '13', '0.604778866']\n",
      "['Bermuda', 'Bermuda', 'BMU', '61875', 'Northern America', '12564', '128', '203055', '2069', '1.018783827']\n",
      "['Bhutan', 'Bhutan', 'BTN', '786480', 'Asia', '31437', '12', '39972', '15', '0.038171581']\n",
      "['Bolivia', 'Bolivia (Plurinational State of)', 'BOL', '11951714', 'Latin America and the Caribbean', '902448', '21896', '75508', '1832', '2.426289382']\n",
      "['Bosnia and Herzegovina', 'Bosnia and Herzegovina', 'BIH', '3245097', 'Europe', '375693', '15719', '115773', '4844', '4.184001299']\n",
      "['Botswana', 'Botswana', 'BWA', '2434708', 'Africa', '305526', '2686', '125488', '1103', '0.879139582']\n",
      "['Brazil', 'Brazil', 'BRA', '215204501', 'Latin America and the Caribbean', '29999816', '660269', '139401', '3068', '2.200910166']\n",
      "['British Virgin Islands', 'British Virgin Islands', 'VGB', '30583', 'Latin America and the Caribbean', '6155', '62', '201256', '2027', '1.007311129']\n",
      "['Brunei ', 'Brunei Darussalam', 'BRN', '444812', 'Asia', '135974', '213', '305689', '479', '0.156647594']\n",
      "['Bulgaria', 'Bulgaria', 'BGR', '6856886', 'Europe', '1140679', '36568', '166355', '5333', '3.205809873']\n",
      "['Burkina Faso', 'Burkina Faso', 'BFA', '21905848', 'Africa', '20853', '382', '952', '17', '1.831870714']\n",
      "['Burundi', 'Burundi', 'BDI', '12510155', 'Africa', '38519', '38', '3079', '3', '0.098652613']\n",
      "['Cabo Verde', 'Cabo Verde', 'CPV', '566557', 'Africa', '55960', '401', '98772', '708', '0.716583274']\n",
      "['Cambodia', 'Cambodia', 'KHM', '17123941', 'Asia', '135747', '3054', '7927', '178', '2.249773476']\n",
      "['Cameroon', 'Cameroon', 'CMR', '27701805', 'Africa', '119544', '1927', '4315', '70', '1.611958777']\n",
      "['Canada', 'Canada', 'CAN', '38321435', 'Northern America', '3499226', '37690', '91312', '984', '1.077095335']\n",
      "['CAR', 'Central African Republic', 'CAF', '4976719', 'Africa', '14649', '113', '2944', '23', '0.771383712']\n",
      "['Caribbean Netherlands', 'Bonaire, Sint Eustatius and Saba', 'BES', '26650', 'Latin America and the Caribbean', '8574', '33', '321726', '1238', '0.384884535']\n",
      "['Cayman Islands', 'Cayman Islands', 'CYM', '67073', 'Latin America and the Caribbean', '20606', '24', '307218', '358', '0.116470931']\n",
      "['Chad', 'Chad', 'TCD', '17250246', 'Africa', '7308', '191', '424', '11', '2.613574165']\n",
      "['Channel Islands', 'Guernsey', 'GGY', '176668', 'Europe', '69036', '156', '390767', '883', '0.22596906']\n",
      "['Chile', 'Chile', 'CHL', '19403451', 'Latin America and the Caribbean', '3486653', '56750', '179692', '2925', '1.627635443']\n",
      "['China', 'China', 'CHN', '1439323776', 'Asia', '154738', '4638', '108', '3', '2.99732451']\n",
      "['Colombia', 'Colombia', 'COL', '51832231', 'Latin America and the Caribbean', '6085926', '139660', '117416', '2694', '2.294802796']\n",
      "['Comoros', 'Comoros', 'COM', '902011', 'Africa', '8093', '160', '8972', '177', '1.977017175']\n",
      "['Congo', 'Congo', 'COG', '5755689', 'Africa', '24071', '385', '4182', '67', '1.599435005']\n",
      "['Cook Islands', 'Cook Islands', 'COK', '17592', 'Oceania', '2118', '0', '120396', '0', '0']\n",
      "['Costa Rica', 'Costa Rica', 'CRI', '5175547', 'Latin America and the Caribbean', '839368', '8308', '162180', '1605', '0.98979232']\n",
      "['Croatia', 'Croatia', 'HRV', '4060951', 'Europe', '1102730', '15601', '271545', '3842', '1.414761546']\n",
      "['Cuba', 'Cuba', 'CUB', '11314513', 'Latin America and the Caribbean', '1092547', '8514', '96562', '752', '0.779279976']\n",
      "['Curaçao', 'Curaçao', 'CUW', '165268', 'Latin America and the Caribbean', '40671', '267', '246091', '1616', '0.656487423']\n",
      "['Cyprus', 'Cyprus', 'CYP', '1222745', 'Asia', '439964', '947', '359817', '774', '0.215244884']\n",
      "['Czechia', 'Czech Republic', 'CZE', '10743762', 'Europe', '3830631', '39720', '356545', '3697', '1.036904886']\n",
      "['Denmark', 'Denmark', 'DNK', '5827911', 'Europe', '2919428', '5762', '500939', '989', '0.19736743']\n",
      "['Djibouti', 'Djibouti', 'DJI', '1013146', 'Africa', '15590', '189', '15388', '187', '1.212315587']\n",
      "['Dominica', 'Dominica', 'DMA', '72299', 'Latin America and the Caribbean', '11891', '63', '164470', '871', '0.529812463']\n",
      "['Dominican Republic', 'Dominican Republic', 'DOM', '11038333', 'Latin America and the Caribbean', '578130', '4375', '52375', '396', '0.756750212']\n",
      "['Democratic Republic of the Congo', 'Democratic Republic of the Congo', 'COD', '94323344', 'Africa', '86748', '1337', '920', '14', '1.541245908']\n",
      "['Ecuador', 'Ecuador', 'ECU', '18111933', 'Latin America and the Caribbean', '859890', '35421', '47476', '1956', '4.119247811']\n",
      "['Egypt', 'Egypt', 'EGY', '105711844', 'Africa', '505264', '24417', '4780', '231', '4.832523196']\n",
      "['El Salvador', 'El Salvador', 'SLV', '6543499', 'Latin America and the Caribbean', '161570', '4120', '24692', '630', '2.549978338']\n",
      "['Equatorial Guinea', 'Equatorial Guinea', 'GNQ', '1483588', 'Africa', '15903', '183', '10719', '123', '1.150726278']\n",
      "['Eritrea', 'Eritrea', 'ERI', '3632329', 'Africa', '9728', '103', '2678', '28', '1.058799342']\n",
      "['Estonia', 'Estonia', 'EST', '1328097', 'Europe', '558706', '2468', '420682', '1858', '0.441735009']\n",
      "['Eswatini', 'Eswatini', 'SWZ', '1181191', 'Africa', '69851', '1394', '59136', '1180', '1.995676511']\n",
      "['Ethiopia', 'Ethiopia', 'ETH', '119945147', 'Africa', '469819', '7504', '3917', '63', '1.597210841']\n",
      "['Faeroe Islands', 'Faeroe Islands', 'FRO', '49188', 'Europe', '34237', '28', '696044', '569', '0.081782866']\n",
      "['Falkland Islands', 'Falkland Islands (Malvinas)', 'FLK', '3657', 'Latin America and the Caribbean', '123', '0', '33634', '0', '0']\n",
      "['Fiji', 'Fiji', 'FJI', '907817', 'Oceania', '64422', '834', '70964', '919', '1.294588805']\n",
      "['Finland', 'Finland', 'FIN', '5555788', 'Europe', '889626', '3178', '160126', '572', '0.357228768']\n",
      "['France', 'France', 'FRA', '65526369', 'Europe', '25997852', '142506', '396754', '2175', '0.548145285']\n",
      "['French Guiana', 'French Guiana', 'GUF', '312224', 'Latin America and the Caribbean', '79075', '394', '253264', '1262', '0.498261144']\n",
      "['French Polynesia', 'French Polynesia', 'PYF', '283751', 'Oceania', '72318', '646', '254864', '2277', '0.893276916']\n",
      "['Gabon', 'Gabon', 'GAB', '2317612', 'Africa', '47586', '303', '20532', '131', '0.636741899']\n",
      "['Gambia', 'Gambia', 'GMB', '2535418', 'Africa', '11988', '365', '4728', '144', '3.044711378']\n",
      "['Georgia', 'Georgia', 'GEO', '3975762', 'Asia', '1649222', '16756', '414819', '4215', '1.015994208']\n",
      "['Germany', 'Germany', 'DEU', '84252947', 'Europe', '21646375', '130563', '256921', '1550', '0.603163347']\n",
      "['Ghana', 'Ghana', 'GHA', '32207812', 'Africa', '160971', '1445', '4998', '45', '0.897677221']\n",
      "['Gibraltar', 'Gibraltar', 'GIB', '33673', 'Europe', '16979', '101', '504232', '2999', '0.594852465']\n",
      "['Greece', 'Greece', 'GRC', '10333930', 'Europe', '3077711', '27684', '297826', '2679', '0.899499661']\n",
      "['Greenland', 'Greenland', 'GRL', '56942', 'Northern America', '11971', '21', '210231', '369', '0.175423941']\n",
      "['Grenada', 'Grenada', 'GRD', '113436', 'Latin America and the Caribbean', '14024', '218', '123629', '1922', '1.554478038']\n",
      "['Guadeloupe', 'Guadeloupe', 'GLP', '400244', 'Latin America and the Caribbean', '130705', '843', '326563', '2106', '0.64496385']\n",
      "['Guatemala', 'Guatemala', 'GTM', '18495493', 'Latin America and the Caribbean', '830745', '17325', '44916', '937', '2.085477493']\n",
      "['Guinea', 'Guinea', 'GIN', '13755881', 'Africa', '36459', '440', '2650', '32', '1.206835075']\n",
      "['Guinea-Bissau', 'Guinea-Bissau', 'GNB', '2049374', 'Africa', '8151', '170', '3977', '83', '2.085633665']\n",
      "['Guyana', 'Guyana', 'GUY', '793196', 'Latin America and the Caribbean', '63272', '1226', '79768', '1546', '1.93766595']\n",
      "['Haiti', 'Haiti', 'HTI', '11645833', 'Latin America and the Caribbean', '30549', '833', '2623', '72', '2.726766834']\n",
      "['Honduras', 'Honduras', 'HND', '10180299', 'Latin America and the Caribbean', '421062', '10880', '41360', '1069', '2.583942507']\n",
      "['Hong Kong', 'China, Hong Kong Special Administrative Region', 'HKG', '7603455', 'Asia', '1171422', '8172', '154064', '1075', '0.69761367']\n",
      "['Hungary', 'Hungary', 'HUN', '9617409', 'Europe', '1854198', '45510', '192796', '4732', '2.454430433']\n",
      "['Iceland', 'Iceland', 'ISL', '345120', 'Europe', '181830', '101', '526860', '293', '0.055546389']\n",
      "['India', 'India', 'IND', '1403754381', 'Asia', '43029044', '521388', '30653', '371', '1.211711792']\n",
      "['Indonesia', 'Indonesia', 'IDN', '278586508', 'Asia', '6019981', '155288', '21609', '557', '2.579543025']\n",
      "['Iran', 'United Kingdom', 'IRN', '85874667', 'Asia', '7167646', '140315', '83466', '1634', '1.95761621']\n",
      "['Iraq', 'Iraq', 'IRQ', '41801625', 'Asia', '2320260', '25173', '55506', '602', '1.084921517']\n",
      "['Ireland', 'Ireland', 'IRL', '5034333', 'Europe', '1471210', '6786', '292235', '1348', '0.461252982']\n",
      "['Isle of Man', 'Isle of Man', 'IMN', '85821', 'Europe', '28416', '84', '331108', '979', '0.295608108']\n",
      "['Israel', 'Israel', 'ISR', '9326000', 'Asia', '3943153', '10530', '422813', '1129', '0.267045179']\n",
      "['Italy', 'Italy', 'ITA', '60306185', 'Europe', '14846514', '159784', '246186', '2650', '1.076239176']\n",
      "['Ivory Coast', \"CÃ´te d'Ivoire\", 'CIV', '27520953', 'Africa', '81761', '796', '2971', '29', '0.973569306']\n",
      "['Jamaica', 'Jamaica', 'JAM', '2983794', 'Latin America and the Caribbean', '128811', '2893', '43170', '970', '2.245926202']\n",
      "['Japan', 'Japan', 'JPN', '125798669', 'Asia', '6653841', '28248', '52893', '225', '0.424536745']\n",
      "['Jordan', 'Jordan', 'JOR', '10380442', 'Asia', '1689314', '14003', '162740', '1349', '0.828916353']\n",
      "['Kazakhstan', 'Kazakhstan', 'KAZ', '19169833', 'Asia', '1305188', '13660', '68086', '713', '1.046592522']\n",
      "['Kenya', 'Kenya', 'KEN', '55843563', 'Africa', '323454', '5648', '5792', '101', '1.746152467']\n",
      "['Kiribati', 'Kiribati', 'KIR', '122656', 'Oceania', '3067', '13', '25005', '106', '0.423866971']\n",
      "['Kuwait', 'Kuwait', 'KWT', '4381108', 'Asia', '629525', '2554', '143691', '583', '0.405702712']\n",
      "['Kyrgyzstan', 'Kyrgyzstan', 'KGZ', '6712569', 'Asia', '200968', '2991', '29939', '446', '1.488296644']\n",
      "['Laos', \"Lao People's Democratic Republic\", 'LAO', '7460338', 'Asia', '183560', '679', '24605', '91', '0.369906298']\n",
      "['Latvia', 'Latvia', 'LVA', '1849698', 'Europe', '802534', '5643', '433873', '3051', '0.703147779']\n",
      "['Lebanon', 'Lebanon', 'LBN', '6771939', 'Asia', '1092995', '10315', '161401', '1523', '0.943737163']\n",
      "['Lesotho', 'Lesotho', 'LSO', '2171978', 'Africa', '32910', '697', '15152', '321', '2.117897296']\n",
      "['Liberia', 'Liberia', 'LBR', '5265647', 'Africa', '7400', '294', '1405', '56', '3.972972973']\n",
      "['Libya', 'Libya', 'LBY', '7034832', 'Africa', '501738', '6419', '71322', '912', '1.279352969']\n",
      "['Liechtenstein', 'Liechtenstein', 'LIE', '38320', 'Europe', '16429', '84', '428732', '2192', '0.51129101']\n",
      "['Lithuania', 'Lithuania', 'LTU', '2655811', 'Europe', '1030966', '8907', '388193', '3354', '0.863947017']\n",
      "['Luxembourg', 'Luxembourg', 'LUX', '643801', 'Europe', '216979', '1037', '337028', '1611', '0.477926435']\n",
      "['Macao', 'China, Macao Special Administrative Region', 'MAC', '664828', 'Asia', '82', '0', '123', '0', '0']\n",
      "['Madagascar', 'Madagascar', 'MDG', '28936285', 'Africa', '64050', '1388', '2213', '48', '2.167056987']\n",
      "['Malawi', 'Malawi', 'MWI', '19994654', 'Africa', '85664', '2626', '4284', '131', '3.065465073']\n",
      "['Malaysia', 'Malaysia', 'MYS', '33091831', 'Asia', '4246467', '35099', '128324', '1061', '0.826545926']\n",
      "['Maldives', 'Maldives', 'MDV', '557204', 'Asia', '176993', '298', '317645', '535', '0.168368241']\n",
      "['Mali', 'Mali', 'MLI', '21271006', 'Africa', '30495', '728', '1434', '34', '2.387276603']\n",
      "['Malta', 'Malta', 'MLT', '443602', 'Europe', '81596', '641', '183940', '1445', '0.785577724']\n",
      "['Marshall Islands', 'Marshall Islands', 'MHL', '59889', 'Oceania', '7', '0', '117', '0', '0']\n",
      "['Martinique', 'Martinique', 'MTQ', '374756', 'Latin America and the Caribbean', '141415', '909', '377352', '2426', '0.642788954']\n",
      "['Mauritania', 'Mauritania', 'MRT', '4863443', 'Africa', '58670', '982', '12063', '202', '1.673768536']\n",
      "['Mauritius', 'Mauritius', 'MUS', '1275463', 'Africa', '36628', '968', '28717', '759', '2.642786939']\n",
      "['Mayotte', 'Mayotte', 'MYTÂ\\xa0', '284330', 'Africa', '36891', '187', '129747', '658', '0.506898702']\n",
      "['Mexico', 'Mexico', 'MEX', '131303955', 'Latin America and the Caribbean', '5665376', '323212', '43147', '2462', '5.705040583']\n",
      "['Micronesia', 'Micronesia (Federated States of)', 'FSM', '117134', 'Oceania', '1', '0', '9', '0', '0']\n",
      "['Moldova', 'Republic of Moldova', 'MDA', '4017550', 'Europe', '514199', '11446', '127988', '2849', '2.225986437']\n",
      "['Monaco', 'Monaco', 'MCO', '39729', 'Europe', '10842', '54', '272899', '1359', '0.498063088']\n",
      "['Mongolia', 'Mongolia', 'MNG', '3370682', 'Asia', '468610', '2177', '139025', '646', '0.464565417']\n",
      "['Montenegro', '', 'MNE', '628205', 'Europe', '233326', '2705', '371417', '4306', '1.15932215']\n",
      "['Montserrat', 'Montserrat', 'MSR', '4997', 'Latin America and the Caribbean', '175', '2', '35021', '400', '1.142857143']\n",
      "['Morocco', 'Morocco', 'MAR', '37676342', 'Africa', '1163526', '16060', '30882', '426', '1.380287162']\n",
      "['Mozambique', 'Mozambique', 'MOZ', '32787052', 'Africa', '225266', '2200', '6871', '67', '0.976623192']\n",
      "['Myanmar', 'Myanmar', 'MMR', '55048340', 'Asia', '611875', '19433', '11115', '353', '3.175975485']\n",
      "['Namibia', 'Namibia', 'NAM', '2621429', 'Africa', '157646', '4019', '60137', '1533', '2.549382794']\n",
      "['Nepal', 'Nepal', 'NPL', '30053867', 'Asia', '978475', '11951', '32557', '398', '1.221390429']\n",
      "['Netherlands', 'Netherlands', 'NLD', '17201245', 'Europe', '7908701', '22016', '459775', '1280', '0.278376942']\n",
      "['New Caledonia', 'New Caledonia', 'NCL', '290302', 'Oceania', '60294', '311', '207694', '1071', '0.515805884']\n",
      "['New Zealand', 'New Zealand', 'NZL', '5002100', 'Oceania', '693219', '350', '138586', '70', '0.050489095']\n",
      "['Nicaragua', 'Nicaragua', 'NIC', '6762511', 'Latin America and the Caribbean', '18434', '224', '2726', '33', '1.215145926']\n",
      "['Niger', 'Niger', 'NER', '25738714', 'Africa', '8811', '308', '342', '12', '3.495630462']\n",
      "['Nigeria', 'Nigeria', 'NGA', '215077352', 'Africa', '255468', '3142', '1188', '15', '1.229899635']\n",
      "['Niue', 'Niue', 'NIU', '1645', 'Oceania', '7', '0', '4255', '0', '0']\n",
      "['North Macedonia', 'The former Yugoslav Republic of Macedonia', 'MKD', '2083224', 'Europe', '306670', '9228', '147209', '4430', '3.009097727']\n",
      "['Norway', 'Norway', 'NOR', '5495449', 'Europe', '1408708', '2518', '256341', '458', '0.178745347']\n",
      "['Oman', 'Oman', 'OMN', '5333815', 'Asia', '388468', '4251', '72831', '797', '1.094298629']\n",
      "['Pakistan', 'Pakistan', 'PAK', '228397520', 'Asia', '1525466', '30361', '6679', '133', '1.990277069']\n",
      "['Palau', 'Palau', 'PLW', '18245', 'Oceania', '4042', '6', '221540', '329', '0.148441366']\n",
      "['Palestine', 'State of Palestine', 'WBG', '5308883', 'Asia', '581236', '5351', '109484', '1008', '0.920624325']\n",
      "['Panama', 'Panama', 'PAN', '4433639', 'Latin America and the Caribbean', '765213', '8170', '172593', '1843', '1.067676582']\n",
      "['Papua New Guinea', 'Papua New Guinea', 'PNG', '9243590', 'Oceania', '42203', '640', '4566', '69', '1.516479871']\n",
      "['Paraguay', 'Paraguay', 'PRY', '7285892', 'Latin America and the Caribbean', '648353', '18731', '88987', '2571', '2.889012621']\n",
      "['Peru', 'Peru', 'PER', '33775745', 'Latin America and the Caribbean', '3548559', '212328', '105062', '6286', '5.983499218']\n",
      "['Philippines', 'Philippines', 'PHL', '112133868', 'Asia', '3679485', '59343', '32813', '529', '1.612807227']\n",
      "['Poland', 'Poland', 'POL', '37774045', 'Europe', '5969621', '115345', '158035', '3054', '1.932199716']\n",
      "['Portugal', 'Portugal', 'PRT', '10144662', 'Europe', '3604114', '21693', '355272', '2138', '0.601895501']\n",
      "['Qatar', 'Qatar', 'QAT', '2807805', 'Asia', '361819', '677', '128862', '241', '0.18711013']\n",
      "['Réunion', 'RÃ©union', 'REU', '906497', 'Africa', '336945', '709', '371700', '782', '0.210420098']\n",
      "['Romania', 'Romania', 'ROU', '19013049', 'Europe', '2860094', '65090', '150428', '3423', '2.275799327']\n",
      "['Russia', 'Russian Federation', 'RUS', '146044010', 'Europe', '17896866', '369708', '122544', '2531', '2.065769504']\n",
      "['Rwanda', 'Rwanda', 'RWA', '13513881', 'Africa', '129728', '1458', '9600', '108', '1.123889985']\n",
      "['S. Korea', 'Republic of Korea', 'KOR', '51346429', 'Asia', '13874216', '17235', '270208', '336', '0.124223235']\n",
      "['Saint Helena', 'Saint Helena', 'SHN', '6109', 'Africa', '2', '0', '327', '0', '0']\n",
      "['Saint Kitts and Nevis', 'Saint Kitts and Nevis', 'KNA', '53858', 'Latin America and the Caribbean', '5549', '43', '103030', '798', '0.774914399']\n",
      "['Saint Lucia', 'Saint Lucia', 'LCA', '185096', 'Latin America and the Caribbean', '22964', '365', '124065', '1972', '1.589444348']\n",
      "['Saint Martin', 'Saint Martin', 'MAF', '39820', 'Latin America and the Caribbean', '10107', '63', '253817', '1582', '0.623330365']\n",
      "['Saint Pierre Miquelon', '\\xa0Saint Pierre and Miquelon', 'SPM', '5744', 'Northern America', '1957', '1', '340703', '174', '0.05109862']\n",
      "['Samoa', 'Samoa', 'WSM', '200722', 'Oceania', '2285', '1', '11384', '5', '0.043763676']\n",
      "['San Marino', 'San Marino', 'SMR', '34056', 'Europe', '15181', '113', '445766', '3318', '0.744351492']\n",
      "['Sao Tome and Principe', 'Sao Tome and Principe', 'STP', '226281', 'Africa', '5945', '73', '26273', '323', '1.227922624']\n",
      "['Saudi Arabia', 'Saudi Arabia', 'SAU', '35762746', 'Asia', '751076', '9048', '21002', '253', '1.204671698']\n",
      "['Senegal', 'Senegal', 'SEN', '17515750', 'Africa', '85919', '1965', '4905', '112', '2.287037791']\n",
      "['Serbia', 'Serbia', 'SRB', '8675762', 'Europe', '1980722', '15825', '228305', '1824', '0.79895109']\n",
      "['Seychelles', 'Seychelles', 'SYC', '99413', 'Africa', '40421', '164', '406597', '1650', '0.405729695']\n",
      "['Sierra Leone', 'Sierra Leone', 'SLE', '8260822', 'Africa', '7674', '125', '929', '15', '1.628876727']\n",
      "['Singapore', 'Singapore', 'SGP', '5930887', 'Asia', '1109744', '1276', '187113', '215', '0.114981473']\n",
      "['Sint Maarten', 'Sint Maarten', 'SXM', '43728', 'Latin America and the Caribbean', '9766', '86', '223335', '1967', '0.880606185']\n",
      "['Slovakia', 'Slovakia', 'SVK', '5464272', 'Europe', '1725487', '19417', '315776', '3553', '1.125305493']\n",
      "['Slovenia', 'Slovenia', 'SVN', '2079438', 'Europe', '973892', '6501', '468344', '3126', '0.667527816']\n",
      "['Solomon Islands', 'Solomon Islands', 'SLB', '716351', 'Oceania', '11470', '133', '16012', '186', '1.159546643']\n",
      "['Somalia', 'Somalia', 'SOM', '16668781', 'Africa', '26400', '1348', '1584', '81', '5.106060606']\n",
      "['South Africa', 'South Africa', 'ZAF', '60617532', 'Africa', '3722954', '100050', '61417', '1651', '2.687382116']\n",
      "['South Sudan', 'South Sudan', 'SSD', '11423439', 'Africa', '17278', '138', '1513', '12', '0.798703554']\n",
      "['Spain', 'Spain', 'ESP', '46786482', 'Europe', '11551574', '102541', '246900', '2192', '0.887679895']\n",
      "['Sri Lanka', 'Sri Lanka', 'LKA', '21570428', 'Asia', '661991', '16481', '30690', '764', '2.489610886']\n",
      "['St. Barth ', 'Saint Barthélemy', 'BLM', '9930', 'Latin America and the Caribbean', '4150', '6', '417925', '604', '0.144578313']\n",
      "['St. Vincent Grenadines', 'Saint Vincent and the Grenadines', 'VCT', '111557', 'Latin America and the Caribbean', '6746', '106', '60471', '950', '1.571301512']\n",
      "['Sudan', 'Sudan', 'SDN', '45640385', 'Africa', '61955', '4907', '1357', '108', '7.920264708']\n",
      "['Suriname', 'Suriname', 'SUR', '595833', 'Latin America and the Caribbean', '79232', '1325', '132977', '2224', '1.67230412']\n",
      "['Sweden', 'Sweden', 'SWE', '10209507', 'Europe', '2487852', '18331', '243680', '1795', '0.736820357']\n",
      "['Switzerland', 'Switzerland', 'CHE', '8765420', 'Europe', '3490876', '13715', '398255', '1565', '0.392881328']\n",
      "['Syria', 'Syrian Arab Republic', 'SYR', '18244381', 'Asia', '55711', '3144', '3054', '172', '5.64340974']\n",
      "['Taiwan', 'China, Taiwan Province of China', 'TWN', '23892241', 'Asia', '24310', '853', '1017', '36', '3.508844097']\n",
      "['Tajikistan', 'Tajikistan', 'TJK', '9912437', 'Asia', '17388', '124', '1754', '13', '0.713135496']\n",
      "['Tanzania', 'United Republic of Tanzania', 'TZA', '62710097', 'Africa', '33815', '800', '539', '13', '2.365813988']\n",
      "['Thailand', 'Thailand', 'THA', '70106601', 'Asia', '3711595', '25418', '52942', '363', '0.684826874']\n",
      "['Timor-Leste', 'Timor-Leste', 'TLS', '1362386', 'Asia', '22832', '130', '16759', '95', '0.569376314']\n",
      "['Togo', 'Togo', 'TGO', '8618172', 'Africa', '36944', '272', '4287', '32', '0.736249459']\n",
      "['Tonga', 'Tonga', 'TON', '107792', 'Oceania', '7127', '9', '66118', '83', '0.126280342']\n",
      "['Trinidad and Tobago', 'Trinidad and Tobago', 'TTO', '1407422', 'Latin America and the Caribbean', '138425', '3756', '98354', '2669', '2.713382698']\n",
      "['Tunisia', 'Tunisia', 'TUN', '12035092', 'Africa', '1035884', '28323', '86072', '2353', '2.734186453']\n",
      "['Turkey', 'Turkey', 'TUR', '85927644', 'Asia', '14894731', '98157', '173340', '1142', '0.659004852']\n",
      "['Turks and Caicos', 'Turks and Caicos Islands', 'TCAÂ\\xa0', '39634', 'Latin America and the Caribbean', '5910', '36', '149114', '908', '0.609137056']\n",
      "['UAE', 'United Arab Emirates', 'ARE', '10099567', 'Asia', '892170', '2302', '88337', '228', '0.258022574']\n",
      "['Uganda', 'Uganda', 'UGA', '48267221', 'Africa', '163936', '3595', '3396', '74', '2.192928948']\n",
      "['UK', 'United Kingdom of Great Britain and Northern Ireland', 'GBR', '68510300', 'Europe', '21216874', '165570', '309689', '2417', '0.780369436']\n",
      "['Ukraine', 'Ukraine', 'UKR', '43273831', 'Europe', '4968881', '107980', '114824', '2495', '2.173125096']\n",
      "['Uruguay', 'Uruguay', 'URY', '3494806', 'Latin America and the Caribbean', '889513', '7166', '254524', '2050', '0.805609362']\n",
      "['USA', 'United States of America', 'USA', '334400597', 'Northern America', '81839052', '1008222', '244734', '3015', '1.231957086']\n",
      "['Uzbekistan', 'Uzbekistan', 'UZB', '34318156', 'Asia', '237853', '1637', '6931', '48', '0.688240216']\n",
      "['Vanuatu', 'Vanuatu', 'VUT', '319701', 'Oceania', '4107', '2', '12846', '6', '0.048697346']\n",
      "['Vatican City', 'Holy See', 'VAT', '805', 'Europe', '29', '0', '36025', '0', '0']\n",
      "['Venezuela', 'Venezuela (Bolivarian Republic of)', 'VEN', '28294895', 'Latin America and the Caribbean', '520843', '5686', '18408', '201', '1.091691738']\n",
      "['Vietnam', 'Viet Nam', 'VNM', '98871712', 'Asia', '9818328', '42600', '99304', '431', '0.433882429']\n",
      "['Wallis and Futuna', 'Wallis and Futuna Islands', 'WLF', '10894', 'Oceania', '454', '7', '41674', '643', '1.54185022']\n",
      "['Western Sahara', 'Western Sahara', 'ESHÂ\\xa0', '623031', 'Africa', '10', '1', '16', '2', '10']\n",
      "['Yemen', 'Yemen', 'YEM', '30975258', 'Asia', '11806', '2143', '381', '69', '18.15178723']\n",
      "['Zambia', 'Zambia', 'ZMB', '19284482', 'Africa', '317076', '3967', '16442', '206', '1.251119605']\n",
      "['Zimbabwe', 'Zimbabwe', 'ZWE', '15241601', 'Africa', '246525', '5446', '16174', '357', '2.209106581']\n"
     ]
    }
   ],
   "source": [
    "import csv \n",
    "\n",
    "local_file = '../docs/COVID-19 Coronavirus_V3.csv'\n",
    "\n",
    "with open(local_file, 'r') as file:\n",
    "    reader = csv.reader(file, delimiter = '\\t')\n",
    "    for row in reader:\n",
    "        print(row)"
   ]
  },
  {
   "cell_type": "markdown",
   "id": "57696059-dfcc-43be-882c-96e3fd20fde7",
   "metadata": {},
   "source": [
    "2. Γράψτε ένα πρόγραμμα στην Python που θα διαβάζει ένα αρχείο CSV σαν λεξικό."
   ]
  },
  {
   "cell_type": "code",
   "execution_count": 19,
   "id": "1284f7e1-10dc-45ed-95c8-8819ad0138c2",
   "metadata": {},
   "outputs": [],
   "source": [
    "with open(local_file, 'r') as file:\n",
    "    csv_file = csv.DictReader(file, delimiter = '\\t',quoting=csv.QUOTE_ALL)\n",
    "    data = [dict(row) for row in csv_file]"
   ]
  },
  {
   "cell_type": "code",
   "execution_count": 20,
   "id": "e66f9106-846f-40bf-80f8-be8f843bd5f6",
   "metadata": {},
   "outputs": [
    {
     "data": {
      "text/plain": [
       "{'Country': 'Afghanistan',\n",
       " 'Other names': 'Afghanistan',\n",
       " 'ISO 3166-1 alpha-3 CODE': 'AFG',\n",
       " 'Population': '40462186',\n",
       " 'Continent': 'Asia',\n",
       " 'Total Cases': '177827',\n",
       " 'Total Deaths': '7671',\n",
       " 'TotCases_1M_pop': '4395',\n",
       " 'TotDeaths_1M_pop': '190',\n",
       " 'Death percentage': '4.313743132'}"
      ]
     },
     "execution_count": 20,
     "metadata": {},
     "output_type": "execute_result"
    }
   ],
   "source": [
    "data[0]"
   ]
  },
  {
   "cell_type": "code",
   "execution_count": 21,
   "id": "4f4bf8c5-ee03-4634-a87d-17880c70232e",
   "metadata": {},
   "outputs": [
    {
     "data": {
      "text/plain": [
       "{'Country': 'Albania',\n",
       " 'Other names': 'Albania',\n",
       " 'ISO 3166-1 alpha-3 CODE': 'ALB',\n",
       " 'Population': '2872296',\n",
       " 'Continent': 'Europe',\n",
       " 'Total Cases': '273870',\n",
       " 'Total Deaths': '3492',\n",
       " 'TotCases_1M_pop': '95349',\n",
       " 'TotDeaths_1M_pop': '1216',\n",
       " 'Death percentage': '1.275057509'}"
      ]
     },
     "execution_count": 21,
     "metadata": {},
     "output_type": "execute_result"
    }
   ],
   "source": [
    "data[1]"
   ]
  },
  {
   "cell_type": "markdown",
   "id": "56a55339-0601-40c0-a08a-9344a77a15d4",
   "metadata": {},
   "source": [
    "3. Φτιάξτε ένα λεξικό στην Python και αποθηκεύστε το σαν CSV."
   ]
  },
  {
   "cell_type": "code",
   "execution_count": 22,
   "id": "09c9bab4-5479-463b-9c4c-5701a2a041dd",
   "metadata": {},
   "outputs": [],
   "source": [
    "with open('../docs/cities.csv', mode='w') as csv_file:\n",
    "    writer = csv.DictWriter(csv_file, fieldnames= ['ID', 'City', 'Population'],delimiter=',',quoting=csv.QUOTE_ALL)\n",
    "\n",
    "    writer.writeheader()\n",
    "    writer.writerow({'ID': 1, 'City': 'Athens', 'Population': '4M'})\n",
    "    writer.writerow({'ID': 2, 'City': 'Thessaloniki', 'Population': '1M'})\n",
    "    writer.writerow({'ID': 2, 'City': 'Trikala, Korinthias', 'Population': '500'})\n"
   ]
  },
  {
   "cell_type": "markdown",
   "id": "92ffce82-4a81-4d6f-a33f-d020dcb853d7",
   "metadata": {},
   "source": [
    "4. Διαβάστε με την βιβλιοθήκη Pandas το επισυναπτόμενο αρχείο COVID-19 Coronavirus.csv και\n"
   ]
  },
  {
   "cell_type": "markdown",
   "id": "79b88491-d9d1-4437-ae25-55ed8e948559",
   "metadata": {},
   "source": [
    "Εκτυπώστε τα ονόματα των στηλών."
   ]
  },
  {
   "cell_type": "code",
   "execution_count": 23,
   "id": "74858d2b-3371-4874-8fe1-03b9f223cecb",
   "metadata": {},
   "outputs": [
    {
     "data": {
      "text/plain": [
       "['Country',\n",
       " 'Other names',\n",
       " 'ISO 3166-1 alpha-3 CODE',\n",
       " 'Population',\n",
       " 'Continent',\n",
       " 'Total Cases',\n",
       " 'Total Deaths',\n",
       " 'Tot\\xa0Cases//1M pop',\n",
       " 'Tot\\xa0Deaths/1M pop',\n",
       " 'Death percentage']"
      ]
     },
     "execution_count": 23,
     "metadata": {},
     "output_type": "execute_result"
    }
   ],
   "source": [
    "import pandas as pd\n",
    "\n",
    "airbnb = pd.read_csv(\"../docs/COVID-19 Coronavirus.csv\")\n",
    "\n",
    "list(airbnb.columns)"
   ]
  },
  {
   "cell_type": "markdown",
   "id": "97b7c940-28fb-45ec-b1c1-a74998091267",
   "metadata": {},
   "source": [
    "Υπολογίστε τον μέσο όρο, τον διάμεσο* και την τυπική απόκλιση** για το πεδίο Total Deaths."
   ]
  },
  {
   "cell_type": "code",
   "execution_count": 24,
   "id": "8c3fd88c-dbf0-4112-af9f-73603004efa0",
   "metadata": {},
   "outputs": [
    {
     "data": {
      "text/plain": [
       "27448.12888888889"
      ]
     },
     "execution_count": 24,
     "metadata": {},
     "output_type": "execute_result"
    }
   ],
   "source": [
    "airbnb['Total Deaths'].mean()"
   ]
  },
  {
   "cell_type": "code",
   "execution_count": 25,
   "id": "bcfdea13-2b76-4764-9d1f-4037c34cdbb6",
   "metadata": {},
   "outputs": [
    {
     "data": {
      "text/plain": [
       "1965.0"
      ]
     },
     "execution_count": 25,
     "metadata": {},
     "output_type": "execute_result"
    }
   ],
   "source": [
    "airbnb['Total Deaths'].median()"
   ]
  },
  {
   "cell_type": "code",
   "execution_count": 26,
   "id": "85f11fce-7f48-4639-ad56-d87f8e9acca7",
   "metadata": {},
   "outputs": [
    {
     "data": {
      "text/plain": [
       "96891.76838772361"
      ]
     },
     "execution_count": 26,
     "metadata": {},
     "output_type": "execute_result"
    }
   ],
   "source": [
    "airbnb['Total Deaths'].std()"
   ]
  },
  {
   "cell_type": "markdown",
   "id": "29f9ccbc-d328-4d42-83a7-d806801ff6d6",
   "metadata": {},
   "source": [
    "Φιλτράρετε τα δεδομένα μόνο για την Ελλάδα με βάση το πεδίο Country και αποθηκεύστε το αποτέλεσμα σε έναν νέο dataframe."
   ]
  },
  {
   "cell_type": "code",
   "execution_count": 27,
   "id": "5e1d9ba7-8726-4527-8639-9e9e79d0741a",
   "metadata": {},
   "outputs": [
    {
     "data": {
      "text/html": [
       "<div>\n",
       "<style scoped>\n",
       "    .dataframe tbody tr th:only-of-type {\n",
       "        vertical-align: middle;\n",
       "    }\n",
       "\n",
       "    .dataframe tbody tr th {\n",
       "        vertical-align: top;\n",
       "    }\n",
       "\n",
       "    .dataframe thead th {\n",
       "        text-align: right;\n",
       "    }\n",
       "</style>\n",
       "<table border=\"1\" class=\"dataframe\">\n",
       "  <thead>\n",
       "    <tr style=\"text-align: right;\">\n",
       "      <th></th>\n",
       "      <th>Country</th>\n",
       "      <th>Other names</th>\n",
       "      <th>ISO 3166-1 alpha-3 CODE</th>\n",
       "      <th>Population</th>\n",
       "      <th>Continent</th>\n",
       "      <th>Total Cases</th>\n",
       "      <th>Total Deaths</th>\n",
       "      <th>Tot Cases//1M pop</th>\n",
       "      <th>Tot Deaths/1M pop</th>\n",
       "      <th>Death percentage</th>\n",
       "    </tr>\n",
       "  </thead>\n",
       "  <tbody>\n",
       "    <tr>\n",
       "      <th>79</th>\n",
       "      <td>Greece</td>\n",
       "      <td>Greece</td>\n",
       "      <td>GRC</td>\n",
       "      <td>10333930</td>\n",
       "      <td>Europe</td>\n",
       "      <td>3077711</td>\n",
       "      <td>27684</td>\n",
       "      <td>297826</td>\n",
       "      <td>2679</td>\n",
       "      <td>0.8995</td>\n",
       "    </tr>\n",
       "  </tbody>\n",
       "</table>\n",
       "</div>"
      ],
      "text/plain": [
       "   Country Other names ISO 3166-1 alpha-3 CODE  Population Continent  \\\n",
       "79  Greece      Greece                     GRC    10333930    Europe   \n",
       "\n",
       "    Total Cases  Total Deaths  Tot Cases//1M pop  Tot Deaths/1M pop  \\\n",
       "79      3077711         27684             297826               2679   \n",
       "\n",
       "    Death percentage  \n",
       "79            0.8995  "
      ]
     },
     "execution_count": 27,
     "metadata": {},
     "output_type": "execute_result"
    }
   ],
   "source": [
    "# φιλτράρισμα και προσάρτηση σε μια μεταβλητή με το όνομα greece\n",
    "greece = airbnb[airbnb['Country'] == 'Greece'] \n",
    "\n",
    "# pandas dataframe: εκτύπωση\n",
    "greece"
   ]
  },
  {
   "cell_type": "markdown",
   "id": "08d567b5-4953-48e4-bdea-9c6518f03ad6",
   "metadata": {},
   "source": [
    "# 9. Γεωεπεξεργασία διανυσματικών δεδομένων\n"
   ]
  },
  {
   "cell_type": "markdown",
   "id": "ce70f9bf-d6e9-49df-868c-0e8d134e542b",
   "metadata": {},
   "source": [
    "1. Φτιάξτε μια συνάρτηση με το όνομα createPointGeom() η οποία θα έχει δύο παραμέτρους (x_coord, y_coord).\n",
    "\n",
    "Η συνάρτηση θα πρέπει να δημιουργεί και να επιστρέφει ένα shapely Point geometry object.\n",
    "\n",
    "Καλέστε την συνάρτηση 3 φορές με διαφορετικά ορίσματα π.χ. createPointGeom(35,45)."
   ]
  },
  {
   "cell_type": "code",
   "execution_count": 28,
   "id": "ec6808a3-9b3c-4c86-99b4-6f1c4248c2e0",
   "metadata": {},
   "outputs": [],
   "source": [
    "from shapely.geometry import Point\n",
    "\n",
    "def createPointGeom(x_coord, y_coord):\n",
    "    pnt = Point((x_coord,y_coord ))\n",
    "    return(pnt)\n",
    "    "
   ]
  },
  {
   "cell_type": "code",
   "execution_count": 29,
   "id": "fcad8386-aa12-4e2d-952a-d8b9ce5cebbd",
   "metadata": {},
   "outputs": [
    {
     "data": {
      "image/svg+xml": [
       "<svg xmlns=\"http://www.w3.org/2000/svg\" xmlns:xlink=\"http://www.w3.org/1999/xlink\" width=\"100.0\" height=\"100.0\" viewBox=\"34.0 44.0 2.0 2.0\" preserveAspectRatio=\"xMinYMin meet\"><g transform=\"matrix(1,0,0,-1,0,90.0)\"><circle cx=\"35.0\" cy=\"45.0\" r=\"0.06\" stroke=\"#555555\" stroke-width=\"0.02\" fill=\"#66cc99\" opacity=\"0.6\" /></g></svg>"
      ],
      "text/plain": [
       "<shapely.geometry.point.Point at 0x7fe061fbdab0>"
      ]
     },
     "execution_count": 29,
     "metadata": {},
     "output_type": "execute_result"
    }
   ],
   "source": [
    "createPointGeom(35,45)"
   ]
  },
  {
   "cell_type": "code",
   "execution_count": 30,
   "id": "5a26f3af-d867-4b5f-922e-f055d2194958",
   "metadata": {},
   "outputs": [
    {
     "data": {
      "image/svg+xml": [
       "<svg xmlns=\"http://www.w3.org/2000/svg\" xmlns:xlink=\"http://www.w3.org/1999/xlink\" width=\"100.0\" height=\"100.0\" viewBox=\"29.0 43.0 2.0 2.0\" preserveAspectRatio=\"xMinYMin meet\"><g transform=\"matrix(1,0,0,-1,0,88.0)\"><circle cx=\"30.0\" cy=\"44.0\" r=\"0.06\" stroke=\"#555555\" stroke-width=\"0.02\" fill=\"#66cc99\" opacity=\"0.6\" /></g></svg>"
      ],
      "text/plain": [
       "<shapely.geometry.point.Point at 0x7fe01a139390>"
      ]
     },
     "execution_count": 30,
     "metadata": {},
     "output_type": "execute_result"
    }
   ],
   "source": [
    "createPointGeom(30,44)"
   ]
  },
  {
   "cell_type": "markdown",
   "id": "875a8e8c-df0a-46d7-bef2-2020db7c55b3",
   "metadata": {},
   "source": [
    "2. Φτιάξτε ένα shapely MultiPolygon geometry object. Στην συνέχεια να υπολογίσετε το εμβαδό (Area) για κάθε πολυγωνό του."
   ]
  },
  {
   "cell_type": "code",
   "execution_count": 31,
   "id": "75325236-8fb7-4cb3-a487-5040ac1133df",
   "metadata": {},
   "outputs": [
    {
     "data": {
      "image/svg+xml": [
       "<svg xmlns=\"http://www.w3.org/2000/svg\" xmlns:xlink=\"http://www.w3.org/1999/xlink\" width=\"100.0\" height=\"100.0\" viewBox=\"-0.4 -1.4 10.8 2.8\" preserveAspectRatio=\"xMinYMin meet\"><g transform=\"matrix(1,0,0,-1,0,0.0)\"><g><path fill-rule=\"evenodd\" fill=\"#66cc99\" stroke=\"#555555\" stroke-width=\"0.21600000000000003\" opacity=\"0.6\" d=\"M 0.0,0.0 L 0.0,-1.0 L 7.5,-1.0 L 7.5,0.0 L 0.0,0.0 z\" /><path fill-rule=\"evenodd\" fill=\"#66cc99\" stroke=\"#555555\" stroke-width=\"0.21600000000000003\" opacity=\"0.6\" d=\"M 10.0,1.0 L 10.0,-0.5 L 8.5,-0.5 L 8.5,0.0 L 10.0,1.0 z\" /></g></g></svg>"
      ],
      "text/plain": [
       "<shapely.geometry.multipolygon.MultiPolygon at 0x7fe01a139f30>"
      ]
     },
     "execution_count": 31,
     "metadata": {},
     "output_type": "execute_result"
    }
   ],
   "source": [
    "import shapely\n",
    "coords = [(0, 0), (0, -1), (7.5, -1), [7.5, 0], (0, 0)]\n",
    "pol1 = shapely.geometry.Polygon(coords)\n",
    "\n",
    "coords = [(10, 1), (10, -0.5), (8.5, -0.5), [8.5, 0], (10, 1)]\n",
    "pol2 = shapely.geometry.Polygon(coords)\n",
    "\n",
    "\n",
    "multipolygon = shapely.geometry.MultiPolygon([pol1, pol2])\n",
    "multipolygon"
   ]
  },
  {
   "cell_type": "markdown",
   "id": "91c46562-935a-4ade-a9f9-7f205c0209af",
   "metadata": {},
   "source": [
    "Εμβαδό για όλο multipolygon"
   ]
  },
  {
   "cell_type": "code",
   "execution_count": 32,
   "id": "7b7ae05b-aaab-4cf0-aa25-bbb8106ede51",
   "metadata": {},
   "outputs": [
    {
     "data": {
      "text/plain": [
       "9.0"
      ]
     },
     "execution_count": 32,
     "metadata": {},
     "output_type": "execute_result"
    }
   ],
   "source": [
    "multipolygon.area"
   ]
  },
  {
   "cell_type": "markdown",
   "id": "41e3efce-e55e-4662-b944-93c32285d4a7",
   "metadata": {},
   "source": [
    "Εμβαδό για κάθε πολύγωνο του multipolygon ξεχωριστα"
   ]
  },
  {
   "cell_type": "code",
   "execution_count": 33,
   "id": "367894a3-a9f1-43c1-aa2c-b17d5ccb8aa6",
   "metadata": {},
   "outputs": [
    {
     "data": {
      "text/plain": [
       "7.5"
      ]
     },
     "execution_count": 33,
     "metadata": {},
     "output_type": "execute_result"
    }
   ],
   "source": [
    "multipolygon.geoms[0].area"
   ]
  },
  {
   "cell_type": "code",
   "execution_count": 34,
   "id": "354332d8-6068-485f-9d45-c7fc8530ac3a",
   "metadata": {},
   "outputs": [
    {
     "data": {
      "text/plain": [
       "1.5"
      ]
     },
     "execution_count": 34,
     "metadata": {},
     "output_type": "execute_result"
    }
   ],
   "source": [
    "multipolygon.geoms[1].area"
   ]
  },
  {
   "cell_type": "markdown",
   "id": "37f0a160-fbea-4a14-b960-fed9c9b2b606",
   "metadata": {},
   "source": [
    "Μέσω loop στα polygons του multipolygon"
   ]
  },
  {
   "cell_type": "code",
   "execution_count": 35,
   "id": "05bd1d1b-0dd7-450c-a431-5695303ed5a8",
   "metadata": {},
   "outputs": [
    {
     "name": "stdout",
     "output_type": "stream",
     "text": [
      "Area for polygon with index 0: 7.5\n",
      "Area for polygon with index 1: 1.5\n"
     ]
    }
   ],
   "source": [
    "for i in range(0,len(multipolygon.geoms)):\n",
    "    print(f\"Area for polygon with index {i}: {multipolygon.geoms[i].area}\")\n"
   ]
  },
  {
   "cell_type": "markdown",
   "id": "423a9f9c-d889-4591-a099-c91952e78047",
   "metadata": {},
   "source": [
    "3. Δημιουργήστε μια συνάρτηση με το ονομα getLength() η οποία θα έχει σαν παράμετρο ένα  LineString ή Polygon -object. Στην συνέχεια θα υπολογίζει το  μήκος της γραμμής αν είναι LineString ή το μήκος του εξωτερικού περιγράμματος (exterior) αν είναι Polygon object. Σε διαφορετική περίπτωση (αν δεν είναι κάτι από τα δύο) τότε εκτυπώστε το μήνυμα: \"Απαιτείται αντικείμενο γεωμετρίας τύπου LineString ή  Polygon\". Δείξτε την λειτουργία της συνάρτησης με 3 παραδείγματα που αφορούν τις τρείς δυνατές περιπτώσεις."
   ]
  },
  {
   "cell_type": "code",
   "execution_count": 36,
   "id": "97e11ace-a656-452f-80ea-d597605d36f2",
   "metadata": {},
   "outputs": [
    {
     "data": {
      "text/plain": [
       "'Polygon'"
      ]
     },
     "execution_count": 36,
     "metadata": {},
     "output_type": "execute_result"
    }
   ],
   "source": [
    "multipolygon.geoms[0].geom_type"
   ]
  },
  {
   "cell_type": "code",
   "execution_count": 37,
   "id": "6cae38c4-0674-477d-bccf-e15dc6bd2e78",
   "metadata": {},
   "outputs": [
    {
     "data": {
      "text/plain": [
       "17.0"
      ]
     },
     "execution_count": 37,
     "metadata": {},
     "output_type": "execute_result"
    }
   ],
   "source": [
    "pol1.exterior.length"
   ]
  },
  {
   "cell_type": "code",
   "execution_count": 38,
   "id": "695a5ccd-c18f-47d6-a412-b56339b60401",
   "metadata": {},
   "outputs": [],
   "source": [
    "def getLength(x):\n",
    "    length=None\n",
    "    if type(x) is shapely.geometry.polygon.Polygon:\n",
    "        length = x.exterior.length\n",
    "        \n",
    "    elif type(x) is shapely.geometry.polygon.LineString:\n",
    "        length = x.length\n",
    "    else:\n",
    "        print(\"Απαιτείται αντικείμενο γεωμετρίας τύπου LineString ή Polygon\")\n",
    "        \n",
    "    return(length)\n"
   ]
  },
  {
   "cell_type": "code",
   "execution_count": 39,
   "id": "a382d8b5-ce7f-471f-a246-751990f25e3c",
   "metadata": {},
   "outputs": [
    {
     "name": "stdout",
     "output_type": "stream",
     "text": [
      "Απαιτείται αντικείμενο γεωμετρίας τύπου LineString ή Polygon\n"
     ]
    }
   ],
   "source": [
    "getLength(4)\n"
   ]
  },
  {
   "cell_type": "code",
   "execution_count": 40,
   "id": "6c77edb3-6700-4f24-a409-16fff4ed3704",
   "metadata": {},
   "outputs": [
    {
     "name": "stdout",
     "output_type": "stream",
     "text": [
      "Απαιτείται αντικείμενο γεωμετρίας τύπου LineString ή Polygon\n"
     ]
    }
   ],
   "source": [
    "getLength(\"Test\")"
   ]
  },
  {
   "cell_type": "code",
   "execution_count": 41,
   "id": "87830fcb-03e5-4ff2-aba5-b3523fd902ec",
   "metadata": {},
   "outputs": [
    {
     "data": {
      "text/plain": [
       "5.354101966249685"
      ]
     },
     "execution_count": 41,
     "metadata": {},
     "output_type": "execute_result"
    }
   ],
   "source": [
    "coords = [(2, 0.5), (1, 1), (-1, 0), (1, 0)]\n",
    "line1 = shapely.geometry.LineString(coords)\n",
    "getLength(line1)"
   ]
  },
  {
   "cell_type": "code",
   "execution_count": 42,
   "id": "ba9d35c6-53a2-463d-a91d-afd778a19595",
   "metadata": {},
   "outputs": [
    {
     "data": {
      "text/plain": [
       "17.0"
      ]
     },
     "execution_count": 42,
     "metadata": {},
     "output_type": "execute_result"
    }
   ],
   "source": [
    "getLength(pol1)"
   ]
  },
  {
   "cell_type": "code",
   "execution_count": 43,
   "id": "b12353d7-2443-442a-a18f-f37b02fc7e42",
   "metadata": {},
   "outputs": [
    {
     "name": "stdout",
     "output_type": "stream",
     "text": [
      "Απαιτείται αντικείμενο γεωμετρίας τύπου LineString ή Polygon\n"
     ]
    }
   ],
   "source": [
    "pnt = Point((10,25 ))\n",
    "getLength(pnt)"
   ]
  },
  {
   "cell_type": "markdown",
   "id": "a387989f-1d74-466a-a0de-fa232c0b9069",
   "metadata": {},
   "source": [
    "4. Κατεβάστε το αρχείο Υπολεκανών των ελληνικών ποταμών (βλ. επισυναπτόμενο)  (Πηγή: geodata.gov.gr). \n"
   ]
  },
  {
   "cell_type": "markdown",
   "id": "23428595-d2e3-4eca-8388-77456695c3a4",
   "metadata": {},
   "source": [
    "Λήψη αρχείου zip"
   ]
  },
  {
   "cell_type": "code",
   "execution_count": 45,
   "id": "c6d1945c-3298-4f13-955f-6bf3658f9d10",
   "metadata": {},
   "outputs": [
    {
     "data": {
      "text/plain": [
       "('../docs/ypolekanes.zip', <http.client.HTTPMessage at 0x7fe061fbfe20>)"
      ]
     },
     "execution_count": 45,
     "metadata": {},
     "output_type": "execute_result"
    }
   ],
   "source": [
    "from urllib import request # απαραίτητο για την λήψη αρχείων από το διαδίκτυο\n",
    "\n",
    "\n",
    "remote_url = \"https://geodata.gov.gr/dataset/53e01aba-2547-4397-a0c0-cb786524be22/resource/f9bbd81f-92e1-4796-a215-eafd5f84bdb6/download/ypolekanes.zip\"\n",
    "\n",
    "# Define the local filename to save data\n",
    "local_file = '../docs/ypolekanes.zip'\n",
    "# Download remote and save locally\n",
    "request.urlretrieve(remote_url, local_file)"
   ]
  },
  {
   "cell_type": "markdown",
   "id": "090f7a33-6411-4806-aa24-9d79c746dcb0",
   "metadata": {},
   "source": [
    "Αποσυμπίεση zip αρχείου"
   ]
  },
  {
   "cell_type": "code",
   "execution_count": 44,
   "id": "a9417b0c-03e1-45aa-9c2a-a72dd0409e6c",
   "metadata": {},
   "outputs": [
    {
     "ename": "BadZipFile",
     "evalue": "File is not a zip file",
     "output_type": "error",
     "traceback": [
      "\u001b[0;31m---------------------------------------------------------------------------\u001b[0m",
      "\u001b[0;31mBadZipFile\u001b[0m                                Traceback (most recent call last)",
      "Input \u001b[0;32mIn [44]\u001b[0m, in \u001b[0;36m<cell line: 3>\u001b[0;34m()\u001b[0m\n\u001b[1;32m      1\u001b[0m \u001b[38;5;28;01mfrom\u001b[39;00m \u001b[38;5;21;01mzipfile\u001b[39;00m \u001b[38;5;28;01mimport\u001b[39;00m ZipFile\n\u001b[0;32m----> 3\u001b[0m \u001b[38;5;28;01mwith\u001b[39;00m \u001b[43mZipFile\u001b[49m\u001b[43m(\u001b[49m\u001b[43mlocal_file\u001b[49m\u001b[43m,\u001b[49m\u001b[43m \u001b[49m\u001b[38;5;124;43m'\u001b[39;49m\u001b[38;5;124;43mr\u001b[39;49m\u001b[38;5;124;43m'\u001b[39;49m\u001b[43m)\u001b[49m \u001b[38;5;28;01mas\u001b[39;00m zipObj:\n\u001b[1;32m      4\u001b[0m    \u001b[38;5;66;03m# Extract all the contents of zip file in current directory\u001b[39;00m\n\u001b[1;32m      5\u001b[0m    zipObj\u001b[38;5;241m.\u001b[39mextractall()\n",
      "File \u001b[0;32m~/anaconda3/envs/book/lib/python3.10/zipfile.py:1258\u001b[0m, in \u001b[0;36mZipFile.__init__\u001b[0;34m(self, file, mode, compression, allowZip64, compresslevel, strict_timestamps)\u001b[0m\n\u001b[1;32m   1256\u001b[0m \u001b[38;5;28;01mtry\u001b[39;00m:\n\u001b[1;32m   1257\u001b[0m     \u001b[38;5;28;01mif\u001b[39;00m mode \u001b[38;5;241m==\u001b[39m \u001b[38;5;124m'\u001b[39m\u001b[38;5;124mr\u001b[39m\u001b[38;5;124m'\u001b[39m:\n\u001b[0;32m-> 1258\u001b[0m         \u001b[38;5;28;43mself\u001b[39;49m\u001b[38;5;241;43m.\u001b[39;49m\u001b[43m_RealGetContents\u001b[49m\u001b[43m(\u001b[49m\u001b[43m)\u001b[49m\n\u001b[1;32m   1259\u001b[0m     \u001b[38;5;28;01melif\u001b[39;00m mode \u001b[38;5;129;01min\u001b[39;00m (\u001b[38;5;124m'\u001b[39m\u001b[38;5;124mw\u001b[39m\u001b[38;5;124m'\u001b[39m, \u001b[38;5;124m'\u001b[39m\u001b[38;5;124mx\u001b[39m\u001b[38;5;124m'\u001b[39m):\n\u001b[1;32m   1260\u001b[0m         \u001b[38;5;66;03m# set the modified flag so central directory gets written\u001b[39;00m\n\u001b[1;32m   1261\u001b[0m         \u001b[38;5;66;03m# even if no files are added to the archive\u001b[39;00m\n\u001b[1;32m   1262\u001b[0m         \u001b[38;5;28mself\u001b[39m\u001b[38;5;241m.\u001b[39m_didModify \u001b[38;5;241m=\u001b[39m \u001b[38;5;28;01mTrue\u001b[39;00m\n",
      "File \u001b[0;32m~/anaconda3/envs/book/lib/python3.10/zipfile.py:1325\u001b[0m, in \u001b[0;36mZipFile._RealGetContents\u001b[0;34m(self)\u001b[0m\n\u001b[1;32m   1323\u001b[0m     \u001b[38;5;28;01mraise\u001b[39;00m BadZipFile(\u001b[38;5;124m\"\u001b[39m\u001b[38;5;124mFile is not a zip file\u001b[39m\u001b[38;5;124m\"\u001b[39m)\n\u001b[1;32m   1324\u001b[0m \u001b[38;5;28;01mif\u001b[39;00m \u001b[38;5;129;01mnot\u001b[39;00m endrec:\n\u001b[0;32m-> 1325\u001b[0m     \u001b[38;5;28;01mraise\u001b[39;00m BadZipFile(\u001b[38;5;124m\"\u001b[39m\u001b[38;5;124mFile is not a zip file\u001b[39m\u001b[38;5;124m\"\u001b[39m)\n\u001b[1;32m   1326\u001b[0m \u001b[38;5;28;01mif\u001b[39;00m \u001b[38;5;28mself\u001b[39m\u001b[38;5;241m.\u001b[39mdebug \u001b[38;5;241m>\u001b[39m \u001b[38;5;241m1\u001b[39m:\n\u001b[1;32m   1327\u001b[0m     \u001b[38;5;28mprint\u001b[39m(endrec)\n",
      "\u001b[0;31mBadZipFile\u001b[0m: File is not a zip file"
     ]
    }
   ],
   "source": [
    "from zipfile import ZipFile\n",
    "\n",
    "with ZipFile(local_file, 'r') as zipObj:\n",
    "   # Extract all the contents of zip file in current directory\n",
    "   zipObj.extractall()"
   ]
  },
  {
   "cell_type": "markdown",
   "id": "90a4a257-207a-4a7c-b987-fa7bc1035cf6",
   "metadata": {},
   "source": [
    "4.1 Διαβάστε το αρχείο με την βιβλιοθήκη geopandas\n"
   ]
  },
  {
   "cell_type": "code",
   "execution_count": null,
   "id": "bdf093b6-c8c9-4db4-b70d-a8545ffadd23",
   "metadata": {},
   "outputs": [],
   "source": [
    "import geopandas as gpd\n",
    "\n",
    "basins = gpd.read_file(\"../docs/ypolekanes/ypolekanes.shp\")\n"
   ]
  },
  {
   "cell_type": "markdown",
   "id": "8ab4d252-598f-4144-a5b1-b8593d9f1441",
   "metadata": {},
   "source": [
    "4.2 Σε ένα νέο πεδίο με το όνομα AREA υπολογίστε σε km2 την έκταση του κάθε πολυγώνου\n"
   ]
  },
  {
   "cell_type": "code",
   "execution_count": null,
   "id": "0ba9b092-f00f-45b4-ad77-7da5eebcd82b",
   "metadata": {},
   "outputs": [],
   "source": [
    "basins['AREA'] = basins.area*10e-6"
   ]
  },
  {
   "cell_type": "markdown",
   "id": "cce2e3e8-45b6-437d-ae1c-8e60abbf33e0",
   "metadata": {},
   "source": [
    "4.3 Κάντε συγχώνευση των πολυγώνων με βάση το πεδίο DIST_CD και εφαρμόστε την συνάρτηση sum κατά την συγχώνευση."
   ]
  },
  {
   "cell_type": "code",
   "execution_count": null,
   "id": "4f918da4-7bc1-4be0-9ce0-cce4e30d47a2",
   "metadata": {},
   "outputs": [],
   "source": [
    "basins_dis = basins.dissolve(by='DIST_CD', aggfunc='sum')"
   ]
  },
  {
   "cell_type": "code",
   "execution_count": null,
   "id": "9720caac-73ff-46a1-afa7-fc1ab85dd01c",
   "metadata": {},
   "outputs": [],
   "source": [
    "basins_dis.plot()"
   ]
  }
 ],
 "metadata": {
  "kernelspec": {
   "display_name": "Python 3",
   "language": "python",
   "name": "python3"
  },
  "language_info": {
   "codemirror_mode": {
    "name": "ipython",
    "version": 3
   },
   "file_extension": ".py",
   "mimetype": "text/x-python",
   "name": "python",
   "nbconvert_exporter": "python",
   "pygments_lexer": "ipython3",
   "version": "3.10.2"
  }
 },
 "nbformat": 4,
 "nbformat_minor": 5
}
