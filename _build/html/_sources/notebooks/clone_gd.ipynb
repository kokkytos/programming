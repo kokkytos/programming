{
 "cells": [
  {
   "cell_type": "markdown",
   "id": "6d04388f-8c38-4f74-9967-5fc577b17827",
   "metadata": {},
   "source": [
    "# Λήψη αποθετηρίου στο Google Drive"
   ]
  },
  {
   "cell_type": "markdown",
   "id": "7028d2a8-2d9c-4e93-9244-3e7268dbda32",
   "metadata": {},
   "source": [
    "Μέσω του τρέχοντος notebook γίνεται η λήψη του github αποθετηρίου στο Google Drive.\n",
    "Το notebook αυτό πρέπει να εκτελεστεί μέσω του Google Colab.\n"
   ]
  },
  {
   "cell_type": "code",
   "execution_count": 3,
   "id": "dcc313fa-3ed0-4f19-b8f0-e3a1902806c2",
   "metadata": {},
   "outputs": [
    {
     "name": "stdout",
     "output_type": "stream",
     "text": [
      "Παρακαλώ εκτελέστε το notebook στο Google Colab\n"
     ]
    }
   ],
   "source": [
    "# έλεγχος αν το notebook τρέχει στο google colab\n",
    "try:\n",
    "    from google.colab import drive\n",
    "    drive.mount('/content/drive')\n",
    "    %cd /content/drive/MyDrive/Colab\\ Notebooks/\n",
    "    !git clone https://github.com/kokkytos/programming.git\n",
    "except:\n",
    "  print(\"Παρακαλώ εκτελέστε το notebook στο Google Colab\")"
   ]
  },
  {
   "cell_type": "code",
   "execution_count": null,
   "id": "dd8f15fb-3a43-458e-afb3-85b888a6d798",
   "metadata": {},
   "outputs": [],
   "source": []
  }
 ],
 "metadata": {
  "kernelspec": {
   "display_name": "Python 3",
   "language": "python",
   "name": "python3"
  },
  "language_info": {
   "codemirror_mode": {
    "name": "ipython",
    "version": 3
   },
   "file_extension": ".py",
   "mimetype": "text/x-python",
   "name": "python",
   "nbconvert_exporter": "python",
   "pygments_lexer": "ipython3",
   "version": "3.10.2"
  }
 },
 "nbformat": 4,
 "nbformat_minor": 5
}
