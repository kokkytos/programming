{
 "cells": [
  {
   "cell_type": "markdown",
   "id": "33075d24-3450-45fd-b09f-77ff7ebecb2e",
   "metadata": {},
   "source": [
    "# 11. Η βιβλιοθήκη numpy\n",
    "\n",
    "Η ενότητα αποτελεί μια σύντομη εισαγωγή στην βιβλιοθήκη [numpy](https://numpy.org/) η οποία χρησιμοποιείται για αριθμητική ανάλυση, αριθμητική λύση γραμμικών συστημάτων και επεξεργασία πολυδιάστατων πινάκων. Περισσότερες λεπτομέρειες για την βιβλιοθήκε παρέχονται [εδώ](https://numpy.org/doc/stable/user/whatisnumpy.html). Η θεμέλια δομή της βιβλιοθήκης είναι το ndarray δηλαδή ο πολυδιάστατος πίνακας. Είναι πολύ χρήσιμη στην επεξεργασία δεδομένων γιατί η πλειοψηφία των βιβλιοθηκών που διαχειρίζονται δορυφορικές εικόνες επιστρέφουν αντικείμενα _numpy ndarrays_."
   ]
  },
  {
   "cell_type": "markdown",
   "id": "19d710a2-ec2c-4836-8c35-714610e7c34f",
   "metadata": {},
   "source": [
    "## Ειδική ενότητα για εκτέλεση στο Google Colab"
   ]
  },
  {
   "cell_type": "code",
   "execution_count": 1,
   "id": "7fe30481-4d30-4659-8ee1-b23dd0527c93",
   "metadata": {},
   "outputs": [],
   "source": [
    "# έλεγχος αν το notebook τρέχει στο google colab\n",
    "try:\n",
    "  import google.colab\n",
    "  IN_COLAB = True\n",
    "except:\n",
    "  IN_COLAB = False"
   ]
  },
  {
   "cell_type": "code",
   "execution_count": 2,
   "id": "015ef881-55ea-474c-87e4-3b00f6bf9215",
   "metadata": {},
   "outputs": [],
   "source": [
    "# αν το notebook τρέχει στο colab, mount το Google Drive και αλλαγή στο directory που έχει γίνει clone το github repository.\n",
    "# εγκατάσταση απαραίτητων βιβλιοθηκών\n",
    "if IN_COLAB:\n",
    "    from google.colab import drive\n",
    "    drive.mount('/content/drive')\n",
    "    %cd /content/drive/MyDrive/Colab\\ Notebooks/programming/notebooks\n",
    "    !pip install rasterio matplotlib"
   ]
  },
  {
   "cell_type": "code",
   "execution_count": 3,
   "id": "67151931-f81c-4b6e-8999-97961ce949b4",
   "metadata": {},
   "outputs": [],
   "source": [
    "import numpy as np\n",
    "import matplotlib.pyplot as plt\n",
    "import rasterio as rio\n",
    "from pathlib import Path "
   ]
  },
  {
   "cell_type": "markdown",
   "id": "6d858c29-5888-4137-8fd1-e07826c2161c",
   "metadata": {},
   "source": [
    "Ας φτιάξουμε έναν πρώτο πίνακα. Ακόμα και τα διανύσματα θα τα θεωρήσουμε σαν έναν πίνακα με μια στήλη. \n",
    "Τα στοιχεία ενός πίνακα πρέπει να είναι του ίδιου τύπου (είτε _integer_ είτε _float_ είτε _boolean_)."
   ]
  },
  {
   "cell_type": "code",
   "execution_count": 4,
   "id": "9ef63c7b-24e9-4b6c-9373-d74ce4159e06",
   "metadata": {},
   "outputs": [
    {
     "name": "stdout",
     "output_type": "stream",
     "text": [
      "[1 2 3 4]\n"
     ]
    }
   ],
   "source": [
    "x=np.array([1,2,3,4])\n",
    "print(x)"
   ]
  },
  {
   "cell_type": "markdown",
   "id": "eb3dfdaa-a42a-48a5-9997-e59ac82383e4",
   "metadata": {},
   "source": [
    "Για τον πίνακα αυτό μπορούμε να ανακτήσουμε μια σειρά ιδιοτήτων"
   ]
  },
  {
   "cell_type": "markdown",
   "id": "ea0a3b25-50c2-4538-bafe-6a1e3e196cd4",
   "metadata": {},
   "source": [
    "Καταρχήν ας δούμε τι τύπος δεδομένων είναι ο πίνακας αυτός:"
   ]
  },
  {
   "cell_type": "code",
   "execution_count": 5,
   "id": "1bad9600-b7d4-4934-9996-d0bc159597c1",
   "metadata": {},
   "outputs": [
    {
     "data": {
      "text/plain": [
       "numpy.ndarray"
      ]
     },
     "execution_count": 5,
     "metadata": {},
     "output_type": "execute_result"
    }
   ],
   "source": [
    "type(x)"
   ]
  },
  {
   "cell_type": "markdown",
   "id": "30ff10d4-302b-4bde-b4c1-a6e323b6fd70",
   "metadata": {},
   "source": [
    "Ποιές είναι οι διαστάσεις του πίνακα;"
   ]
  },
  {
   "cell_type": "code",
   "execution_count": 6,
   "id": "334034f0-6621-41d0-8f03-cb7b76c8075a",
   "metadata": {},
   "outputs": [
    {
     "name": "stdout",
     "output_type": "stream",
     "text": [
      "(4,)\n"
     ]
    }
   ],
   "source": [
    "print(x.shape)"
   ]
  },
  {
   "cell_type": "markdown",
   "id": "32ec24fd-702e-4c66-9d2e-7d6565de9707",
   "metadata": {},
   "source": [
    "Και πόσες είναι οι διαστάσεις:"
   ]
  },
  {
   "cell_type": "code",
   "execution_count": 7,
   "id": "6a081bd6-f5b6-4fb7-bfee-8e016ed31ab1",
   "metadata": {},
   "outputs": [
    {
     "name": "stdout",
     "output_type": "stream",
     "text": [
      "1\n"
     ]
    }
   ],
   "source": [
    "print(x.ndim)"
   ]
  },
  {
   "cell_type": "markdown",
   "id": "ebfc699b-6f80-464c-8553-c6ca834cb1d1",
   "metadata": {},
   "source": [
    "Με την παρακάτω εντολή μπορούμε να ανακτήσουμε το μέγεθός του:"
   ]
  },
  {
   "cell_type": "code",
   "execution_count": 8,
   "id": "64d5f6af-a49b-4c05-b215-bc51fd1a4c3e",
   "metadata": {},
   "outputs": [
    {
     "name": "stdout",
     "output_type": "stream",
     "text": [
      "4\n"
     ]
    }
   ],
   "source": [
    "print(x.size)"
   ]
  },
  {
   "cell_type": "markdown",
   "id": "aecda027-dd21-4327-8492-7ba8cc431fdf",
   "metadata": {},
   "source": [
    "Από τι τύπο δεδομένων αποτελούνται τα στοιχεία του:"
   ]
  },
  {
   "cell_type": "code",
   "execution_count": 9,
   "id": "a36439be-85b5-4e1b-8946-bfce30503499",
   "metadata": {},
   "outputs": [
    {
     "name": "stdout",
     "output_type": "stream",
     "text": [
      "int64\n"
     ]
    }
   ],
   "source": [
    "print(x.dtype)"
   ]
  },
  {
   "cell_type": "markdown",
   "id": "54b5abc7-3c29-4e26-b590-bc357790f12c",
   "metadata": {},
   "source": [
    "Και πόση μνήμη καταλαμβάνει σε bytes:"
   ]
  },
  {
   "cell_type": "code",
   "execution_count": 10,
   "id": "c36a11b0-5974-4e2e-a8be-295f5d053baa",
   "metadata": {},
   "outputs": [
    {
     "name": "stdout",
     "output_type": "stream",
     "text": [
      "32\n"
     ]
    }
   ],
   "source": [
    "print(x.nbytes)"
   ]
  },
  {
   "cell_type": "markdown",
   "id": "c75fee4c-1246-451f-ab9f-f4754732322a",
   "metadata": {},
   "source": [
    "Ο επόμενος πίνακας έχει 4 γραμμές και 1 στήλη. "
   ]
  },
  {
   "cell_type": "code",
   "execution_count": 11,
   "id": "9793a55d-eb1b-4a33-bca5-9970ecb5acc2",
   "metadata": {},
   "outputs": [
    {
     "name": "stdout",
     "output_type": "stream",
     "text": [
      "(4, 1)\n"
     ]
    }
   ],
   "source": [
    "y=np.array([[1],[2],[3],[4]])\n",
    "print(y.shape)"
   ]
  },
  {
   "cell_type": "markdown",
   "id": "65e97f27-9c72-40ae-860a-f50ddc1bb2d1",
   "metadata": {},
   "source": [
    "Αν ελέγξουμε το πλήθος των διαστάσεων του, θα διαπιστώσουμε ότι έχει 2:"
   ]
  },
  {
   "cell_type": "code",
   "execution_count": 12,
   "id": "3271855e-ad27-465e-8fe8-b24e53615030",
   "metadata": {},
   "outputs": [
    {
     "name": "stdout",
     "output_type": "stream",
     "text": [
      "2\n"
     ]
    }
   ],
   "source": [
    "print(y.ndim)"
   ]
  },
  {
   "cell_type": "markdown",
   "id": "bdb0e07e-dd14-4edd-a4a1-33bc36878334",
   "metadata": {},
   "source": [
    "Άρα ο πίνακας $x$ είναι μονοδιάστατος και ο πίνακας $y$ διάστατος. Ας επαναλάβουμε τον τρόπο σύνταξης. Δώστε προσοχή στην σύνταξη σε σχέση με τον αρχικό ορισμό που δώσαμε για τον πίνακα $x$ σε σχέση με τον τρέχοντα πίνακα $y$."
   ]
  },
  {
   "cell_type": "code",
   "execution_count": 13,
   "id": "cebc1799-b430-47b9-a71b-f8fbf5cd5cd5",
   "metadata": {},
   "outputs": [
    {
     "name": "stdout",
     "output_type": "stream",
     "text": [
      "Διαστάσεις για τον πίνακα x: 1\n",
      "Διαστάσεις για τον πίνακα y: 2\n"
     ]
    }
   ],
   "source": [
    "x=np.array([1,2,3,4])\n",
    "y=np.array([[1],[2],[3],[4]])\n",
    "\n",
    "print(f'Διαστάσεις για τον πίνακα x: {x.ndim}\\nΔιαστάσεις για τον πίνακα y: {y.ndim}')"
   ]
  },
  {
   "cell_type": "markdown",
   "id": "165634aa-665f-4185-89e9-2200613229b6",
   "metadata": {},
   "source": [
    "Μπορούμε να δημιουργήσουμε ένα numpy array μέσω μιας λίστα python:"
   ]
  },
  {
   "cell_type": "code",
   "execution_count": 14,
   "id": "979297c7-6e68-493b-af23-20cb5bf9b2b7",
   "metadata": {},
   "outputs": [
    {
     "name": "stdout",
     "output_type": "stream",
     "text": [
      "<class 'numpy.ndarray'>\n"
     ]
    }
   ],
   "source": [
    "l = [2, 25, 8, 1]\n",
    "arr = np.asarray(l)\n",
    "print(type(arr))\n"
   ]
  },
  {
   "cell_type": "markdown",
   "id": "d185eee6-3f95-4cdd-93b7-46711ae24279",
   "metadata": {},
   "source": [
    "Όπως είδαμε μέσω της εντολής `x.dtype` τα στοιχεία του πίνακα είναι ακέραιοι αριθμού (int64). \n",
    "Αν κατά την δημιουργία έστω και ένας αριθμός ήταν δεκαδικός (float), τότε όλα τα στοιχεία του πίνακα μετατρέπονται σε float.\n"
   ]
  },
  {
   "cell_type": "code",
   "execution_count": 15,
   "id": "8c8f570b-54e4-48bd-a4d9-902449bed95c",
   "metadata": {},
   "outputs": [
    {
     "name": "stdout",
     "output_type": "stream",
     "text": [
      "float64\n"
     ]
    }
   ],
   "source": [
    "x=np.array([1,2,3,4.5])\n",
    "print(x.dtype)"
   ]
  },
  {
   "cell_type": "markdown",
   "id": "de0b1d5d-d4fb-44b9-9b43-e4b3a1e137e2",
   "metadata": {},
   "source": [
    "Μπορούμε ρητά να μετατρέψουμε τον τύπο δεδομένων των στοιχείων ένος πίνακα π.χ. από ακέραιο σε δεκαδικό"
   ]
  },
  {
   "cell_type": "code",
   "execution_count": 16,
   "id": "b27d5b7c-7af3-4fed-8872-890a72c0adfe",
   "metadata": {},
   "outputs": [
    {
     "name": "stdout",
     "output_type": "stream",
     "text": [
      "int64\n"
     ]
    }
   ],
   "source": [
    "x=np.array([1,2,3,4])\n",
    "print(x.dtype)"
   ]
  },
  {
   "cell_type": "code",
   "execution_count": 17,
   "id": "85c561ef-c50d-4d91-b7fa-34881ab09f17",
   "metadata": {},
   "outputs": [
    {
     "name": "stdout",
     "output_type": "stream",
     "text": [
      "float64\n"
     ]
    }
   ],
   "source": [
    "x=x.astype(float)\n",
    "print(x.dtype)"
   ]
  },
  {
   "cell_type": "markdown",
   "id": "be051f9e-0e60-4499-818a-10d07277f7bf",
   "metadata": {},
   "source": [
    "**Προσοχή** στην απώλεια δεδομένων κατά την μετατροπή από ακέραιο σε δεκαδικό. Η παρακάτω μετατροπή οδηγεί σε στρογγυλοποιήσεις\n"
   ]
  },
  {
   "cell_type": "code",
   "execution_count": 18,
   "id": "88cf07b4-0818-4481-9f73-39eecbaa6e58",
   "metadata": {},
   "outputs": [
    {
     "name": "stdout",
     "output_type": "stream",
     "text": [
      "[1 2 3 4]\n"
     ]
    }
   ],
   "source": [
    "x=np.array([1,2,3,4.5])\n",
    "x=x.astype(int)\n",
    "print(x)"
   ]
  },
  {
   "cell_type": "markdown",
   "id": "746cf847-78a6-456c-a68b-dec310322ea0",
   "metadata": {},
   "source": [
    "Επίσης κατά την δημιουργία μπορούμε να ορίσουμε τον τύπο δεδομένων των στοιχείων:"
   ]
  },
  {
   "cell_type": "code",
   "execution_count": 19,
   "id": "32d9d544-085a-433f-83b1-42d5ce2df787",
   "metadata": {},
   "outputs": [
    {
     "name": "stdout",
     "output_type": "stream",
     "text": [
      "float64\n"
     ]
    }
   ],
   "source": [
    "x = np.array([[1,2,3],[4,5,6]], dtype = float)\n",
    "print(x.dtype)"
   ]
  },
  {
   "cell_type": "markdown",
   "id": "e9557c09-b67b-47a7-a637-8cd43b1069b6",
   "metadata": {},
   "source": [
    "Ανάλογα τον τύπο των στοιχείων αλλάζει και το μέγεθος. Αυτό μπορεί να δημιουργήσει προβλήματα μνήμης σε πολύ μεγάλα ndarrays π.χ σε μια πολυφασματική δορυφορική υψηλής ανάλυσης και μεγάλης έκτασης.\n",
    "    "
   ]
  },
  {
   "cell_type": "code",
   "execution_count": 20,
   "id": "d02e5437-84e3-4f1a-b60f-324e387c7620",
   "metadata": {},
   "outputs": [
    {
     "name": "stdout",
     "output_type": "stream",
     "text": [
      "24\n"
     ]
    }
   ],
   "source": [
    "x = np.array([[1,2,3],[4,5,6]], dtype = np.uint32)\n",
    "print(x.nbytes)"
   ]
  },
  {
   "cell_type": "code",
   "execution_count": 21,
   "id": "31a73e00-ea2c-4ede-9b90-900bea3b3b32",
   "metadata": {},
   "outputs": [
    {
     "name": "stdout",
     "output_type": "stream",
     "text": [
      "48\n"
     ]
    }
   ],
   "source": [
    "print(x.astype(float).nbytes)\n"
   ]
  },
  {
   "cell_type": "markdown",
   "id": "85cb21c6-6a2c-46ca-b05d-f16d4c52e62b",
   "metadata": {},
   "source": [
    "Μπορούμε να δημιουργήσουμε ένα ndarray το οποίο θα περιλαμβάνει μόνο την τιμή 1 στα στοιχεία του μέσω της συνάρτησης `np.ones`. Η παραπάνω εκτέλεση επιστρέφει float data type."
   ]
  },
  {
   "cell_type": "code",
   "execution_count": 22,
   "id": "dae11063-5e28-4ca6-90a5-1013ac7a0146",
   "metadata": {},
   "outputs": [
    {
     "data": {
      "text/plain": [
       "array([1., 1., 1., 1., 1.])"
      ]
     },
     "execution_count": 22,
     "metadata": {},
     "output_type": "execute_result"
    }
   ],
   "source": [
    "np.ones(5) "
   ]
  },
  {
   "cell_type": "markdown",
   "id": "2d7bd720-00d1-4a15-9c13-3994a30b629d",
   "metadata": {},
   "source": [
    "Μπορούμε ρητά να ορίσουμε τον τύπο δεδομένων στην συνάρτηση `np.ones`."
   ]
  },
  {
   "cell_type": "code",
   "execution_count": 23,
   "id": "c2ed86cc-8df7-475d-b37b-5849d11d98b8",
   "metadata": {},
   "outputs": [
    {
     "data": {
      "text/plain": [
       "array([1, 1, 1, 1, 1])"
      ]
     },
     "execution_count": 23,
     "metadata": {},
     "output_type": "execute_result"
    }
   ],
   "source": [
    "np.ones(5, dtype=int)"
   ]
  },
  {
   "cell_type": "markdown",
   "id": "ba2f465e-3f30-4302-940f-c97ff246b015",
   "metadata": {},
   "source": [
    "ή να είναι πολυδιάστατος πίνακας με στοιχεία με τιμές 1:"
   ]
  },
  {
   "cell_type": "code",
   "execution_count": 24,
   "id": "ba3f7c68-09fd-4b1c-bf55-7ab2789b0d0e",
   "metadata": {},
   "outputs": [
    {
     "data": {
      "text/plain": [
       "array([[1., 1.],\n",
       "       [1., 1.],\n",
       "       [1., 1.],\n",
       "       [1., 1.],\n",
       "       [1., 1.]])"
      ]
     },
     "execution_count": 24,
     "metadata": {},
     "output_type": "execute_result"
    }
   ],
   "source": [
    "np.ones((5,2))"
   ]
  },
  {
   "cell_type": "markdown",
   "id": "5f026123-4a7a-4b1e-ab6a-90c64c5fc390",
   "metadata": {},
   "source": [
    "Αντίστοιχα μπορούμε να δημιουργήσουμε ένα array που να περιλαμβάνει στοιχεία μόνο με *0*."
   ]
  },
  {
   "cell_type": "code",
   "execution_count": 25,
   "id": "8ef079cf-2920-4020-8635-c285796c17c6",
   "metadata": {},
   "outputs": [
    {
     "data": {
      "text/plain": [
       "array([[0, 0, 0],\n",
       "       [0, 0, 0],\n",
       "       [0, 0, 0]])"
      ]
     },
     "execution_count": 25,
     "metadata": {},
     "output_type": "execute_result"
    }
   ],
   "source": [
    "np.zeros((3,3),dtype=int)"
   ]
  },
  {
   "cell_type": "markdown",
   "id": "2aa0899a-e756-43a1-bff2-dc5d1dac9beb",
   "metadata": {},
   "source": [
    "## Πράξεις μεταξύ array"
   ]
  },
  {
   "cell_type": "markdown",
   "id": "34a2497b-1463-4ee6-b29b-c39d2f541ce8",
   "metadata": {},
   "source": [
    "Πρόσθεση"
   ]
  },
  {
   "cell_type": "code",
   "execution_count": 26,
   "id": "20587923-6c9a-4c29-ae59-7545e855d65a",
   "metadata": {},
   "outputs": [
    {
     "name": "stdout",
     "output_type": "stream",
     "text": [
      "[[2 3]\n",
      " [4 5]\n",
      " [7 8]]\n"
     ]
    }
   ],
   "source": [
    "x=np.array([[1,2],[3,4], [5,6]])\n",
    "y=np.array([[1,1],[1,1], [2,2]])\n",
    "v=x+y\n",
    "print(v)"
   ]
  },
  {
   "cell_type": "markdown",
   "id": "62c2eec2-7097-4946-bc15-66fb37259788",
   "metadata": {},
   "source": [
    "Αντιστοιχα μπορούμε να προσθέσουμε το array με έναν μόνο ακέραιο:\n"
   ]
  },
  {
   "cell_type": "code",
   "execution_count": 27,
   "id": "0119b56f-a52e-4834-bee3-7e96f7acbaca",
   "metadata": {},
   "outputs": [
    {
     "name": "stdout",
     "output_type": "stream",
     "text": [
      "[[2 3]\n",
      " [4 5]\n",
      " [6 7]]\n"
     ]
    }
   ],
   "source": [
    "x=x+1\n",
    "print(x)"
   ]
  },
  {
   "cell_type": "markdown",
   "id": "c7756a7d-e740-4bc2-9035-7ffd82114e68",
   "metadata": {},
   "source": [
    "Αφαίρεση"
   ]
  },
  {
   "cell_type": "code",
   "execution_count": 28,
   "id": "aa27aa5b-33aa-48d9-936b-b01395550854",
   "metadata": {},
   "outputs": [
    {
     "name": "stdout",
     "output_type": "stream",
     "text": [
      "[[0 1]\n",
      " [2 3]\n",
      " [3 4]]\n"
     ]
    }
   ],
   "source": [
    "x=np.array([[1,2],[3,4], [5,6]])\n",
    "y=np.array([[1,1],[1,1], [2,2]])\n",
    "v=x-y\n",
    "print(v)"
   ]
  },
  {
   "cell_type": "markdown",
   "id": "7d08c9ff-d555-40ed-942f-736f294ce003",
   "metadata": {},
   "source": [
    "Πολλαπλασιασμός. Σε αυτήν την περίπτωση χρησιμοποιείται η συνάρτηση `dot` και όχι το σύμβολο `*`:\n",
    "Μπορούμε να πολλαπλασιάσουμε ένα πίνακα με έναν αριθμό:\n"
   ]
  },
  {
   "cell_type": "code",
   "execution_count": 29,
   "id": "3427d4f0-a2ba-465f-9159-0bcc3dce8f32",
   "metadata": {},
   "outputs": [
    {
     "name": "stdout",
     "output_type": "stream",
     "text": [
      "[[ 2.5  5. ]\n",
      " [ 7.5 10. ]\n",
      " [12.5 15. ]]\n"
     ]
    }
   ],
   "source": [
    "x=np.array([[1,2],[3,4],[5,6]])\n",
    "v=np.dot(x,2.5,out=None)\n",
    "print(v)\n",
    "\n"
   ]
  },
  {
   "cell_type": "markdown",
   "id": "714edac2-c729-41f9-b9b2-366f9822c33d",
   "metadata": {},
   "source": [
    "ή με έναν άλλο πίνακα. Σε αυτήν την περίπτωση το γινόμενο $x⋅y$ δύο πινάκων $x,y$ \n",
    "ορίζεται μόνο όταν αριθμός των γραμμών του ενός πίνακα ισούται με τον αριθμό των στηλών του άλλου. Όπως παρατηρείτε στις επόμενες γραμμές κώδικα καλούμε την ιδιότητα `T` του πίνακα $y$ για να κάνουμε αντιμετάθεση τις γραμμές με τις στήλες του (*ανάστροφος* πίνακας) και να πληρείται αυτή η συνθήκη."
   ]
  },
  {
   "cell_type": "code",
   "execution_count": 30,
   "id": "57c67b2b-e927-4f5c-96d4-27f1d48c4344",
   "metadata": {},
   "outputs": [
    {
     "name": "stdout",
     "output_type": "stream",
     "text": [
      "[[ 3  3  6]\n",
      " [ 7  7 14]\n",
      " [11 11 22]]\n"
     ]
    }
   ],
   "source": [
    "y=np.array([[1,1],[1,1],[2,2]])\n",
    "v=np.dot(x,y.T,out=None)\n",
    "print(v)"
   ]
  },
  {
   "cell_type": "markdown",
   "id": "5be721be-df9a-42ad-a062-f0e6c2fbf93f",
   "metadata": {},
   "source": [
    "Διαίρεση πινάκών:"
   ]
  },
  {
   "cell_type": "code",
   "execution_count": 31,
   "id": "95311524-a5bd-4a42-a0d0-e67c394eb883",
   "metadata": {},
   "outputs": [
    {
     "name": "stdout",
     "output_type": "stream",
     "text": [
      "[[1.  2. ]\n",
      " [3.  4. ]\n",
      " [2.5 3. ]]\n"
     ]
    }
   ],
   "source": [
    "v = x/y\n",
    "print(v)"
   ]
  },
  {
   "cell_type": "markdown",
   "id": "69f81928-3084-4735-a19b-b50f1e1b48a5",
   "metadata": {},
   "source": [
    "Μπορούμε να φτιάξουμε μια ακολουθία τιμών σε έναν πίνακα numpy:np.arange(start=1, stop=10, step=3)"
   ]
  },
  {
   "cell_type": "code",
   "execution_count": 32,
   "id": "ce86d2e6-06a4-405c-bbc1-4d818d0f720c",
   "metadata": {},
   "outputs": [
    {
     "name": "stdout",
     "output_type": "stream",
     "text": [
      "[1 3 5 7 9]\n"
     ]
    }
   ],
   "source": [
    "x = np.arange(start=1, stop=10, step=2) # η πιο απλά  np.arange(1, 10, 2) \n",
    "print(x)"
   ]
  },
  {
   "cell_type": "markdown",
   "id": "92b61a3d-3fb8-4cde-bbc6-ac07d882d678",
   "metadata": {},
   "source": [
    "Με την συνάρτηση `reshape` μπορούμε να αλλάξουμε τις διαστάσεις ενός πίνακα"
   ]
  },
  {
   "cell_type": "code",
   "execution_count": 33,
   "id": "48df3714-0d1d-4d4b-a31d-006ed293b18b",
   "metadata": {},
   "outputs": [
    {
     "name": "stdout",
     "output_type": "stream",
     "text": [
      "(6,)\n"
     ]
    }
   ],
   "source": [
    "\n",
    "x = np.arange(6)\n",
    "print(x.shape)"
   ]
  },
  {
   "cell_type": "code",
   "execution_count": 34,
   "id": "73c4f920-8f4e-4d64-8656-e43fbcea156e",
   "metadata": {},
   "outputs": [
    {
     "name": "stdout",
     "output_type": "stream",
     "text": [
      "(2, 3)\n"
     ]
    }
   ],
   "source": [
    "x = x.reshape(2,3)\n",
    "print(x.shape)\n"
   ]
  },
  {
   "cell_type": "markdown",
   "id": "a1b92fcc-810d-468f-8f2e-f5274ee79025",
   "metadata": {},
   "source": [
    "Επιπλεόν μπορούμε με εύκολο τρόπο να υπολογίσουμε στατιστικά μέτρα θέσης και μεταβλητότητας ενός πίνακα ndarray.\n",
    "\n",
    "Ας δημιουργήσουμε ένα πίνακα με ακέραιους διαστάσεων:"
   ]
  },
  {
   "cell_type": "code",
   "execution_count": 35,
   "id": "52007203-b021-424a-bfb5-912d55edec32",
   "metadata": {},
   "outputs": [
    {
     "name": "stdout",
     "output_type": "stream",
     "text": [
      "[[ 5  6 10]\n",
      " [10  3  6]\n",
      " [ 2  5 10]\n",
      " [ 2  8  8]]\n"
     ]
    }
   ],
   "source": [
    "np.random.rand(2023)\n",
    "myarray= np.random.randint(1,11, size=(4,3))\n",
    "print(myarray)"
   ]
  },
  {
   "cell_type": "markdown",
   "id": "3962da5a-e2d9-454f-bc8e-a85b345d88e3",
   "metadata": {},
   "source": [
    "Αν καλέσουμε τη παραπάνω εντολή θα πάρουμε το άθροισμα για τα στοιχεία που περιέχονται στο array."
   ]
  },
  {
   "cell_type": "code",
   "execution_count": 36,
   "id": "0c20cc25-4ce8-43a1-ab2a-4dc3dd27f4b7",
   "metadata": {},
   "outputs": [
    {
     "data": {
      "text/plain": [
       "75"
      ]
     },
     "execution_count": 36,
     "metadata": {},
     "output_type": "execute_result"
    }
   ],
   "source": [
    "np.sum(myarray)"
   ]
  },
  {
   "cell_type": "markdown",
   "id": "7de93ad2-6071-4cf3-94fe-80f5a94dffcd",
   "metadata": {},
   "source": [
    "Αν ορίσουμε την παράμετρο `axis=0` θα πάρουμε το άθροισμα για τις στήλες αν `axis=1` το άθροισμα για τις γραμμές."
   ]
  },
  {
   "cell_type": "code",
   "execution_count": 37,
   "id": "de1d97d3-01d1-46ff-b41a-9cbedcba312f",
   "metadata": {},
   "outputs": [
    {
     "data": {
      "text/plain": [
       "array([19, 22, 34])"
      ]
     },
     "execution_count": 37,
     "metadata": {},
     "output_type": "execute_result"
    }
   ],
   "source": [
    "np.sum(myarray, axis=0) # άθροισμα για τις στήλες, άξονας x"
   ]
  },
  {
   "cell_type": "code",
   "execution_count": 38,
   "id": "6f9d7dcf-50f9-49e6-9a3d-0c8d3e182710",
   "metadata": {},
   "outputs": [
    {
     "data": {
      "text/plain": [
       "array([21, 19, 17, 18])"
      ]
     },
     "execution_count": 38,
     "metadata": {},
     "output_type": "execute_result"
    }
   ],
   "source": [
    "np.sum(myarray, axis=1) # άθροισμα για τις γραμμές, άξονας y"
   ]
  },
  {
   "cell_type": "markdown",
   "id": "857bae8f-c56e-4577-a893-05aa55d706c3",
   "metadata": {},
   "source": [
    "Αντίστοιχα μπορούμε να χρησιμοποιήσουμε και άλλες συναρτήσεις:"
   ]
  },
  {
   "cell_type": "code",
   "execution_count": 39,
   "id": "d3255bb3-3ff3-4df1-8af9-3b3840340be7",
   "metadata": {},
   "outputs": [
    {
     "data": {
      "text/plain": [
       "2"
      ]
     },
     "execution_count": 39,
     "metadata": {},
     "output_type": "execute_result"
    }
   ],
   "source": [
    "np.amin(myarray)"
   ]
  },
  {
   "cell_type": "code",
   "execution_count": 40,
   "id": "806d0252-a331-4b80-a048-14d8468f19fc",
   "metadata": {},
   "outputs": [
    {
     "data": {
      "text/plain": [
       "array([10,  8, 10])"
      ]
     },
     "execution_count": 40,
     "metadata": {},
     "output_type": "execute_result"
    }
   ],
   "source": [
    "np.amax(myarray, axis=0) # max κατά στήλη"
   ]
  },
  {
   "cell_type": "markdown",
   "id": "8e2f2650-e432-4233-900e-9ad7e9db5a10",
   "metadata": {},
   "source": [
    "Αντί για συναρτήσεις μπορούμε να χρησιμοποιήσουμε μεθόδους από τα numpy objects που εκτελούν την αντίστοιχη λειτουργία, π.χ. για το max"
   ]
  },
  {
   "cell_type": "code",
   "execution_count": 41,
   "id": "7df28dfb-5046-4e9d-944a-21b224daf9bd",
   "metadata": {},
   "outputs": [
    {
     "data": {
      "text/plain": [
       "array([10,  8, 10])"
      ]
     },
     "execution_count": 41,
     "metadata": {},
     "output_type": "execute_result"
    }
   ],
   "source": [
    "myarray.max(axis=0)"
   ]
  },
  {
   "cell_type": "markdown",
   "id": "e2131706-40c1-46c5-91ba-ebf5f4ac80f9",
   "metadata": {},
   "source": [
    "Και αντίστοιχα να πάρουμε και άλλα μέτρα όπως:"
   ]
  },
  {
   "cell_type": "code",
   "execution_count": 42,
   "id": "9fb94748-565d-476d-8ab8-a95abdb4b40b",
   "metadata": {},
   "outputs": [
    {
     "data": {
      "text/plain": [
       "6.25"
      ]
     },
     "execution_count": 42,
     "metadata": {},
     "output_type": "execute_result"
    }
   ],
   "source": [
    "# μέσο όρο\n",
    "np.mean(myarray)"
   ]
  },
  {
   "cell_type": "code",
   "execution_count": 43,
   "id": "2446829b-9df5-43d0-a351-918d2fbd5f3a",
   "metadata": {},
   "outputs": [
    {
     "data": {
      "text/plain": [
       "6.0"
      ]
     },
     "execution_count": 43,
     "metadata": {},
     "output_type": "execute_result"
    }
   ],
   "source": [
    "# διάμεσο\n",
    "np.median(myarray)"
   ]
  },
  {
   "cell_type": "code",
   "execution_count": 44,
   "id": "cae95f3b-05b6-4de2-8d38-0ba220ebec35",
   "metadata": {},
   "outputs": [
    {
     "data": {
      "text/plain": [
       "2.8613807855648994"
      ]
     },
     "execution_count": 44,
     "metadata": {},
     "output_type": "execute_result"
    }
   ],
   "source": [
    "# τυπική απόκλιση\n",
    "np.std(myarray)"
   ]
  },
  {
   "cell_type": "code",
   "execution_count": 45,
   "id": "0a368a04-4fda-4bf6-b8f1-ea6017d21cf1",
   "metadata": {},
   "outputs": [
    {
     "data": {
      "text/plain": [
       "4.5"
      ]
     },
     "execution_count": 45,
     "metadata": {},
     "output_type": "execute_result"
    }
   ],
   "source": [
    "np.percentile(myarray,25) # 25th percentile"
   ]
  },
  {
   "cell_type": "code",
   "execution_count": 46,
   "id": "0eb3923f-9881-4d70-91ef-6cb2ffef569b",
   "metadata": {},
   "outputs": [
    {
     "data": {
      "text/plain": [
       "8.5"
      ]
     },
     "execution_count": 46,
     "metadata": {},
     "output_type": "execute_result"
    }
   ],
   "source": [
    "np.percentile(myarray,75) # 75th percentile"
   ]
  },
  {
   "cell_type": "code",
   "execution_count": 47,
   "id": "afb050f1-3299-46df-99de-d6a49c678bc6",
   "metadata": {},
   "outputs": [
    {
     "data": {
      "text/plain": [
       "6.0"
      ]
     },
     "execution_count": 47,
     "metadata": {},
     "output_type": "execute_result"
    }
   ],
   "source": [
    "np.percentile(myarray,50) # 50th percentile or median"
   ]
  },
  {
   "cell_type": "markdown",
   "id": "67550561-e063-4bbb-9351-1d17bf5e1b9c",
   "metadata": {},
   "source": [
    "Σε αρκετές περιπτώσεις στα στοιχεία ενός πίνακας μπορεί να εχουν την τιμή *NaN* που σημαίνει \"*Not a number*\". Η τιμή του *Nan* χρησιμοποιείται όταν δεν υπάρχουν δεδομένα (missing values). Χαρακτηριστικό παράδειγμα είναι όταν διαβάζουμε μια δορυφορική εικόνα και κάνουμε flag ως NaN τα pixels που εχουν νεφοκάλυψη για να τα αποκλείσουμε από την ανάλυση. Και γενικότερα όταν θέλουμε να εξαιρέσουμε τιμές ή στοιχεία από μαθηματικές πράξεις μπορούμε να τα θέσουμε ως *NaN*. Προσοχή, το *NaN* δεν ισούται με 0.\n",
    "Να σημειωθεί ότι σε ένα array που περιέχει *NaN* στοιχεία πολλές από τις συναρτήσεις που προαναφέρθηκαν για τον υπολογισμό στατιστικών μέτρων επιστρέφουν *NaN*. Στην περίπτωση αυτή χρησιμοποιούνται παραλλαγές των συναρτήσεων (π.χ. `nansum` αντί `sum`). Για παράδειγμα έστω το παραπάνω array που περιέχει *NaN* στοιχεία μεταξύ των άλλων,"
   ]
  },
  {
   "cell_type": "code",
   "execution_count": 48,
   "id": "046db2b7-abf5-4d0e-95bf-d939507bdba5",
   "metadata": {},
   "outputs": [
    {
     "data": {
      "text/plain": [
       "array([[ 5.,  6., 10.],\n",
       "       [10., nan,  6.],\n",
       "       [nan,  5., 10.],\n",
       "       [nan,  8.,  8.]])"
      ]
     },
     "execution_count": 48,
     "metadata": {},
     "output_type": "execute_result"
    }
   ],
   "source": [
    "myarray=myarray.astype(float) #μετατροπη σε float (ακέραιο τύπο δεδομένων), αναγκαίο για να θέσουμε κάποια στοιχέια σε NaN\n",
    "myarray[myarray<=4] = np.NaN # ορισμό σε NaN για όσες τιμές είναι <=4\n",
    "myarray"
   ]
  },
  {
   "cell_type": "code",
   "execution_count": 49,
   "id": "e8d8f747-2abf-44e0-a685-526ed1a81684",
   "metadata": {},
   "outputs": [
    {
     "data": {
      "text/plain": [
       "nan"
      ]
     },
     "execution_count": 49,
     "metadata": {},
     "output_type": "execute_result"
    }
   ],
   "source": [
    "np.sum(myarray)"
   ]
  },
  {
   "cell_type": "code",
   "execution_count": 50,
   "id": "1cf4abb7-382e-496a-b0e6-2479719eb4c7",
   "metadata": {},
   "outputs": [
    {
     "data": {
      "text/plain": [
       "68.0"
      ]
     },
     "execution_count": 50,
     "metadata": {},
     "output_type": "execute_result"
    }
   ],
   "source": [
    "np.nansum(myarray)"
   ]
  },
  {
   "cell_type": "code",
   "execution_count": 51,
   "id": "2560f910-7395-404f-ac4b-bac8b6ed4634",
   "metadata": {},
   "outputs": [
    {
     "data": {
      "text/plain": [
       "nan"
      ]
     },
     "execution_count": 51,
     "metadata": {},
     "output_type": "execute_result"
    }
   ],
   "source": [
    "np.mean(myarray)"
   ]
  },
  {
   "cell_type": "code",
   "execution_count": 52,
   "id": "8e7507b0-075d-411f-a404-376a7d648f8f",
   "metadata": {},
   "outputs": [
    {
     "data": {
      "text/plain": [
       "7.555555555555555"
      ]
     },
     "execution_count": 52,
     "metadata": {},
     "output_type": "execute_result"
    }
   ],
   "source": [
    "np.nanmean(myarray)"
   ]
  },
  {
   "cell_type": "markdown",
   "id": "a1920cef-8f72-49f3-8a73-28a96ccea3f6",
   "metadata": {},
   "source": [
    "Ανάλογη λειτουργία έχει και το module `numpy.ma` που χρησιμοποιείται για να κάνουμε mask τα στοιχεία ενός array. Δηλαδή όταν ορίσουμε κάποια στοιχεία σαν masked αυτά εξαιρούνται από τον υπολογισμό και τις διάφορες πράξεις που εκτελούνται στο array. Διαβάστε περισσότερα για τα mask arrays [εδώ](https://numpy.org/doc/stable/reference/maskedarray.html)."
   ]
  },
  {
   "cell_type": "code",
   "execution_count": 53,
   "id": "a346a26b-f56a-4ae4-a21b-7114249938ba",
   "metadata": {},
   "outputs": [],
   "source": [
    "import numpy.ma as ma #εισαγωγή της απαραίτητης βιβλιοθήκης"
   ]
  },
  {
   "cell_type": "markdown",
   "id": "4b2b833d-e6d9-445f-a0d4-f008c93031e6",
   "metadata": {},
   "source": [
    "Έστω ο παρακάρω πίνακας"
   ]
  },
  {
   "cell_type": "code",
   "execution_count": 54,
   "id": "15350dad-cbbf-4868-ac3b-7cfdd08bd442",
   "metadata": {},
   "outputs": [],
   "source": [
    "x=np.arange(6)"
   ]
  },
  {
   "cell_type": "markdown",
   "id": "705faf7d-f6bb-4064-82a1-4af7cadc95f4",
   "metadata": {},
   "source": [
    "Μπορούμε να δημιουργήσουμε ένα masked array μέσω της συνάρτησης *masked_array*. Στην παράμετρο mask μπορούμε να επισημάνουμε ποιά στοιχεία θα είναι masked ορίζοντας την τιμή 1 1 (ή True)"
   ]
  },
  {
   "cell_type": "code",
   "execution_count": 55,
   "id": "750a6416-0476-48e9-a923-5df994356ccf",
   "metadata": {},
   "outputs": [],
   "source": [
    "x_masked = ma.masked_array(x, mask=[1,0,0,0,0,0])"
   ]
  },
  {
   "cell_type": "code",
   "execution_count": 56,
   "id": "d89c1e2f-3189-4e70-b5eb-28fcdd7ec683",
   "metadata": {},
   "outputs": [
    {
     "name": "stdout",
     "output_type": "stream",
     "text": [
      "[0 1 2 3 4 5]\n"
     ]
    }
   ],
   "source": [
    "print(x)"
   ]
  },
  {
   "cell_type": "code",
   "execution_count": 57,
   "id": "3f65a249-1234-4e44-ac4a-d8ca5fdf3699",
   "metadata": {},
   "outputs": [
    {
     "name": "stdout",
     "output_type": "stream",
     "text": [
      "[-- 1 2 3 4 5]\n"
     ]
    }
   ],
   "source": [
    "print(x_masked)"
   ]
  },
  {
   "cell_type": "code",
   "execution_count": 58,
   "id": "73251277-434f-47c1-aa1c-05a6a17e97f2",
   "metadata": {},
   "outputs": [
    {
     "data": {
      "text/plain": [
       "masked_array(data=[--, 1, 2, 3, 4, 5],\n",
       "             mask=[ True, False, False, False, False, False],\n",
       "       fill_value=999999)"
      ]
     },
     "execution_count": 58,
     "metadata": {},
     "output_type": "execute_result"
    }
   ],
   "source": [
    "x_masked"
   ]
  },
  {
   "cell_type": "markdown",
   "id": "c4331924-a638-4f43-9527-c011ee61114e",
   "metadata": {},
   "source": [
    "Το masked_array έχει μια ιδιότητα που ονομάζεται fill_value και πρόκειται για μια τιμή που θα αντικαταστήσει τα masked στοιχεία όταν καλέσουμε την μέθοδο `filled()`."
   ]
  },
  {
   "cell_type": "code",
   "execution_count": 59,
   "id": "64ac67bf-e571-45d2-b972-fc21eca89587",
   "metadata": {},
   "outputs": [
    {
     "data": {
      "text/plain": [
       "array([999999,      1,      2,      3,      4,      5])"
      ]
     },
     "execution_count": 59,
     "metadata": {},
     "output_type": "execute_result"
    }
   ],
   "source": [
    "x_masked.filled()"
   ]
  },
  {
   "cell_type": "markdown",
   "id": "070d2c04-ff7b-45f7-a193-59aa62ec79fa",
   "metadata": {},
   "source": [
    "Κατά την κλήση της μπορεί να οριστεί αυτή η τιμή πέρα από την προκαθορισμένη."
   ]
  },
  {
   "cell_type": "code",
   "execution_count": 60,
   "id": "ba80e039-3af1-4c10-ad31-e372419f903c",
   "metadata": {},
   "outputs": [
    {
     "data": {
      "text/plain": [
       "array([15,  1,  2,  3,  4,  5])"
      ]
     },
     "execution_count": 60,
     "metadata": {},
     "output_type": "execute_result"
    }
   ],
   "source": [
    "x_masked.filled(15)"
   ]
  },
  {
   "cell_type": "markdown",
   "id": "fbf12143-3efb-4639-aa92-844c5cd8f94d",
   "metadata": {},
   "source": [
    "Αν και το πρώτο στοιχείο το έχουμε κάνει masked, τα πραγματικά δεδομένα εξακολουθούν να υφίστανται:"
   ]
  },
  {
   "cell_type": "code",
   "execution_count": 61,
   "id": "66b79949-e004-4d4d-b4ce-deeca2e01ab4",
   "metadata": {},
   "outputs": [
    {
     "data": {
      "text/plain": [
       "array([0, 1, 2, 3, 4, 5])"
      ]
     },
     "execution_count": 61,
     "metadata": {},
     "output_type": "execute_result"
    }
   ],
   "source": [
    "x_masked.data"
   ]
  },
  {
   "cell_type": "markdown",
   "id": "2b2db3d2-6388-4ed1-94de-e4252367f304",
   "metadata": {},
   "source": [
    "Όμως κατά τους διάφορους υπολογισμούς τα masked στοιχεία αγνοούνται π.χ. στον μέσο όρο:"
   ]
  },
  {
   "cell_type": "code",
   "execution_count": 62,
   "id": "ccce5d74-9fe6-4d5d-ba6b-1e4fd3ed4f20",
   "metadata": {},
   "outputs": [
    {
     "data": {
      "text/plain": [
       "3.0"
      ]
     },
     "execution_count": 62,
     "metadata": {},
     "output_type": "execute_result"
    }
   ],
   "source": [
    "np.mean(x_masked)"
   ]
  },
  {
   "cell_type": "code",
   "execution_count": 63,
   "id": "c9a9136c-2b60-4a19-883d-0f1077713494",
   "metadata": {},
   "outputs": [
    {
     "name": "stdout",
     "output_type": "stream",
     "text": [
      "[-- 1 2 3 4 5]\n"
     ]
    }
   ],
   "source": [
    "print(x_masked)"
   ]
  },
  {
   "cell_type": "markdown",
   "id": "6b5e1cfd-e3fd-473d-9285-742ff929cf83",
   "metadata": {},
   "source": [
    "Επιπλέον μπορούμε να χρησιμοποιήσουμε και άλλες χρήσιμες συναρτήσεις και μεθόδους στα ndarray objects.\n",
    "\n",
    "Με τον παρακάτω τρόπο μπορούμε να εντοπίσουμε τις μοναδικές τιμές από τα στοιχεία ενός πίνακα. Έστω ο παρακάτω πίνακας"
   ]
  },
  {
   "cell_type": "code",
   "execution_count": 64,
   "id": "fea75ca0-7459-4531-adac-6694853fd18f",
   "metadata": {},
   "outputs": [
    {
     "data": {
      "text/plain": [
       "array([[ 9,  1,  6,  9,  1,  1,  7,  1,  5, 10],\n",
       "       [ 5,  9,  7, 10, 10,  5,  7,  3,  5, 10],\n",
       "       [ 2,  7,  9, 10,  1,  4,  4,  6,  8,  8],\n",
       "       [ 7,  8,  1,  1,  6,  7,  8, 10,  7,  8],\n",
       "       [ 5, 10,  9,  5,  7,  2,  3,  3,  2, 10],\n",
       "       [ 1,  2,  9,  1,  3,  8, 10,  8,  1,  9],\n",
       "       [ 3,  1,  1,  5,  8,  3,  2,  9,  5,  3],\n",
       "       [ 8,  7,  1,  7,  9,  5,  3,  3,  7, 10],\n",
       "       [ 9,  3,  5, 10,  3,  5,  3,  2,  2,  1],\n",
       "       [10,  2,  4,  8,  3,  7,  9,  7,  6,  1]])"
      ]
     },
     "execution_count": 64,
     "metadata": {},
     "output_type": "execute_result"
    }
   ],
   "source": [
    "np.random.rand(2)\n",
    "myarray= np.random.randint(1,11, size=(10,10))\n",
    "myarray"
   ]
  },
  {
   "cell_type": "code",
   "execution_count": 65,
   "id": "edf25ac1-11c3-4fb9-9576-5f919da22db0",
   "metadata": {},
   "outputs": [
    {
     "data": {
      "text/plain": [
       "(array([ 1,  2,  3,  4,  5,  6,  7,  8,  9, 10]),\n",
       " array([15,  8, 13,  3, 11,  4, 13, 10, 11, 12]))"
      ]
     },
     "execution_count": 65,
     "metadata": {},
     "output_type": "execute_result"
    }
   ],
   "source": [
    "unique, counts = np.unique(myarray, return_counts=True)\n",
    "unique, counts"
   ]
  },
  {
   "cell_type": "markdown",
   "id": "695494d9-0ee4-4913-8e67-09a3ea26b2f6",
   "metadata": {},
   "source": [
    "Μπορούμε να μετατρέψουμε ένα πίνακα διαστάσεων $i⋅j$ σε διάνυσμα δηλ. σε πίνακα μιας μόνο στήλης με την χρήση της μεθόδου `flatten`.\n",
    "Ο πίνακας myarray είναι διαστάσεων 10x10 και έχει 100 στοιχεία:"
   ]
  },
  {
   "cell_type": "code",
   "execution_count": 66,
   "id": "63372abc-a5ff-426a-95b8-5dd6f5982b89",
   "metadata": {},
   "outputs": [
    {
     "data": {
      "text/plain": [
       "(10, 10)"
      ]
     },
     "execution_count": 66,
     "metadata": {},
     "output_type": "execute_result"
    }
   ],
   "source": [
    "myarray.shape"
   ]
  },
  {
   "cell_type": "code",
   "execution_count": 67,
   "id": "ee0967b2-0761-4d63-a9de-b16affb0c1b4",
   "metadata": {},
   "outputs": [
    {
     "data": {
      "text/plain": [
       "100"
      ]
     },
     "execution_count": 67,
     "metadata": {},
     "output_type": "execute_result"
    }
   ],
   "source": [
    "myarray.size"
   ]
  },
  {
   "cell_type": "markdown",
   "id": "6685440d-77e0-4874-a400-eea94691e732",
   "metadata": {},
   "source": [
    "Καλώ την μέθοδο `flatten` και επιβεβαιώ τις διαστάσεις. Πλέον ολα τα στοιχεία είναι σε μια στήλη."
   ]
  },
  {
   "cell_type": "code",
   "execution_count": 68,
   "id": "9c67e26a-d0f9-46d6-914c-6ab467051e2c",
   "metadata": {},
   "outputs": [
    {
     "data": {
      "text/plain": [
       "array([ 9,  1,  6,  9,  1,  1,  7,  1,  5, 10,  5,  9,  7, 10, 10,  5,  7,\n",
       "        3,  5, 10,  2,  7,  9, 10,  1,  4,  4,  6,  8,  8,  7,  8,  1,  1,\n",
       "        6,  7,  8, 10,  7,  8,  5, 10,  9,  5,  7,  2,  3,  3,  2, 10,  1,\n",
       "        2,  9,  1,  3,  8, 10,  8,  1,  9,  3,  1,  1,  5,  8,  3,  2,  9,\n",
       "        5,  3,  8,  7,  1,  7,  9,  5,  3,  3,  7, 10,  9,  3,  5, 10,  3,\n",
       "        5,  3,  2,  2,  1, 10,  2,  4,  8,  3,  7,  9,  7,  6,  1])"
      ]
     },
     "execution_count": 68,
     "metadata": {},
     "output_type": "execute_result"
    }
   ],
   "source": [
    "myarray_f = myarray.flatten()\n",
    "myarray_f"
   ]
  },
  {
   "cell_type": "code",
   "execution_count": 69,
   "id": "9a8e626c-d672-4ebc-956b-799dc542cbfe",
   "metadata": {},
   "outputs": [
    {
     "data": {
      "text/plain": [
       "(100,)"
      ]
     },
     "execution_count": 69,
     "metadata": {},
     "output_type": "execute_result"
    }
   ],
   "source": [
    "myarray_f.shape"
   ]
  },
  {
   "cell_type": "markdown",
   "id": "2738fc60-bb6a-46d3-9db6-bb33123d39d0",
   "metadata": {},
   "source": [
    "Σε ένα array μπορούμε να δοκιμάσουμε αν ισχύει μια συνθήκη στις τιμές της. Στην παρακάτω γραμμή κώδικα τεστάρουμε αν έστω και ένα στοιχείο περιέχει τιμές >8. Θα επιστρέψει True γιατί βλέπουμε ότι αρκετά στοιχεία έχουν την τιμή>8.\n"
   ]
  },
  {
   "cell_type": "code",
   "execution_count": 70,
   "id": "499021a5-1e20-4e94-a3e5-935bd6ceadc5",
   "metadata": {},
   "outputs": [
    {
     "name": "stdout",
     "output_type": "stream",
     "text": [
      "[[ 9  1  6  9  1  1  7  1  5 10]\n",
      " [ 5  9  7 10 10  5  7  3  5 10]\n",
      " [ 2  7  9 10  1  4  4  6  8  8]\n",
      " [ 7  8  1  1  6  7  8 10  7  8]\n",
      " [ 5 10  9  5  7  2  3  3  2 10]\n",
      " [ 1  2  9  1  3  8 10  8  1  9]\n",
      " [ 3  1  1  5  8  3  2  9  5  3]\n",
      " [ 8  7  1  7  9  5  3  3  7 10]\n",
      " [ 9  3  5 10  3  5  3  2  2  1]\n",
      " [10  2  4  8  3  7  9  7  6  1]]\n"
     ]
    }
   ],
   "source": [
    "print(myarray)"
   ]
  },
  {
   "cell_type": "code",
   "execution_count": 71,
   "id": "2d7af323-4a83-4aa5-9ad5-9cb312c4a9d2",
   "metadata": {},
   "outputs": [
    {
     "data": {
      "text/plain": [
       "True"
      ]
     },
     "execution_count": 71,
     "metadata": {},
     "output_type": "execute_result"
    }
   ],
   "source": [
    "np.any(myarray > 8)"
   ]
  },
  {
   "cell_type": "markdown",
   "id": "cb798b88-e260-44a0-a240-9a73a474ca2c",
   "metadata": {},
   "source": [
    "Αντίστοιχα μπορούμε να δοκιμάσουμε αν όλες οι τιμές ενός πίνακας πληρούν μια συνθήκη. Εδώ δοκιμάζουμε αν όλες οι τιμές του πίνακας είναι >2. Φυσικά η απάντηση είναι False γιατί υπάρχουν και τιμές <2."
   ]
  },
  {
   "cell_type": "code",
   "execution_count": 72,
   "id": "22f735ff-cfd1-48b8-a792-153c4b286542",
   "metadata": {},
   "outputs": [
    {
     "data": {
      "text/plain": [
       "False"
      ]
     },
     "execution_count": 72,
     "metadata": {},
     "output_type": "execute_result"
    }
   ],
   "source": [
    "np.all(myarray > 2)"
   ]
  },
  {
   "cell_type": "markdown",
   "id": "416e10ce-1d53-450a-ac05-20e0687a436c",
   "metadata": {},
   "source": [
    "Μπορούμε να κάνουμε τον αντίστοιχο έλεγχο κατά συγκεκριμένο άξονα (xaxis) δηλαδή κατά στήλη ή γραμμή. Στην επόμενη γραμμή δοκιμάζουμε σε κάθε στήλη (axis=0) αν περιλαμβάνεται έστω και μια τιμή >8. Όπως φαίνεται στην 4η και 9η στήλη δεν υπάρχει ούτε μια τιμή >8. "
   ]
  },
  {
   "cell_type": "code",
   "execution_count": 73,
   "id": "72278a98-80ec-4118-bd9a-1efa99a02aae",
   "metadata": {},
   "outputs": [
    {
     "data": {
      "text/plain": [
       "array([ True,  True,  True,  True,  True, False,  True,  True, False,\n",
       "        True])"
      ]
     },
     "execution_count": 73,
     "metadata": {},
     "output_type": "execute_result"
    }
   ],
   "source": [
    "np.any(myarray > 8, axis=0)"
   ]
  },
  {
   "cell_type": "markdown",
   "id": "167ff698-f1dc-413c-8e2a-b1cc30dd9b3d",
   "metadata": {},
   "source": [
    "Έχουμε την δυνατότητα να ενώσουμε δύο πίνακες με την συνάρτηση `concatenate`:"
   ]
  },
  {
   "cell_type": "code",
   "execution_count": 74,
   "id": "db1a07a6-77d9-476a-ba0c-ffe52264ae6d",
   "metadata": {},
   "outputs": [
    {
     "name": "stdout",
     "output_type": "stream",
     "text": [
      "[ 4  7 12  5  9 15]\n"
     ]
    }
   ],
   "source": [
    "arr = np.array([4, 7, 12])\n",
    "arr1 = np.array([5, 9, 15])\n",
    "\n",
    "# Use concatenate() to join two arrays\n",
    "con = np.concatenate((arr, arr1))\n",
    "print(con)"
   ]
  },
  {
   "cell_type": "markdown",
   "id": "31c4180b-24d7-458b-af33-e6d3fc5711ae",
   "metadata": {},
   "source": [
    "Σε πολυ διάστατους πίνακες μπορούμε να κάνουμε την ένωση με βάση συγκεκριμένο άξονα (παράμετρος axis), δηλ. κατά γραμμή ή στήλη."
   ]
  },
  {
   "cell_type": "code",
   "execution_count": 75,
   "id": "62b349a0-bb54-474c-bb18-b4e6344302d2",
   "metadata": {},
   "outputs": [
    {
     "name": "stdout",
     "output_type": "stream",
     "text": [
      "[[ 0  1  2  3  4 30 31 32 33 34]\n",
      " [ 5  6  7  8  9 35 36 37 38 39]\n",
      " [10 11 12 13 14 40 41 42 43 44]\n",
      " [15 16 17 18 19 45 46 47 48 49]]\n"
     ]
    }
   ],
   "source": [
    "arr = np.arange(20).reshape(4,5)\n",
    "arr1 = np.arange(30,50).reshape(4,5)\n",
    "con = np.concatenate((arr, arr1), axis=1) # κατά στήλη\n",
    "print(con)"
   ]
  },
  {
   "cell_type": "markdown",
   "id": "efe5714b-3fe2-4694-9c9f-f385a19f126d",
   "metadata": {},
   "source": [
    "Επίσης μπορούμε να ενώσουμε δύο arrays με την χρήση των συναρτήσεων `hstack` (οριζόντια, κατά στήλη) και `vstack` (κάθετα, κατά γραμμή). Ας δούμε το παρακάτω παράδειγμα:"
   ]
  },
  {
   "cell_type": "code",
   "execution_count": 76,
   "id": "ac7f42f6-fb34-4254-8f94-3065d4a1971e",
   "metadata": {},
   "outputs": [
    {
     "data": {
      "text/plain": [
       "array([[ 0,  1,  2,  3,  4],\n",
       "       [ 5,  6,  7,  8,  9],\n",
       "       [10, 11, 12, 13, 14],\n",
       "       [ 0,  1,  2,  3,  4],\n",
       "       [ 5,  6,  7,  8,  9]])"
      ]
     },
     "execution_count": 76,
     "metadata": {},
     "output_type": "execute_result"
    }
   ],
   "source": [
    "arr1 = np.arange(15).reshape(3,5)\n",
    "arr2=np.arange(10).reshape(2,5)\n",
    "np.vstack((arr1, arr2))"
   ]
  },
  {
   "cell_type": "code",
   "execution_count": 77,
   "id": "a31289fe-d4a2-4b76-9fad-820f18044d0c",
   "metadata": {},
   "outputs": [
    {
     "data": {
      "text/plain": [
       "array([[ 0,  1,  2,  0,  1],\n",
       "       [ 3,  4,  5,  2,  3],\n",
       "       [ 6,  7,  8,  4,  5],\n",
       "       [ 9, 10, 11,  6,  7],\n",
       "       [12, 13, 14,  8,  9]])"
      ]
     },
     "execution_count": 77,
     "metadata": {},
     "output_type": "execute_result"
    }
   ],
   "source": [
    "arr1 = np.arange(15).reshape(5,3)\n",
    "arr2=np.arange(10).reshape(5,2)\n",
    "np.hstack((arr1, arr2))"
   ]
  },
  {
   "cell_type": "markdown",
   "id": "37ddeaf7-fddc-49a1-a131-8a6088f701f7",
   "metadata": {},
   "source": [
    "# Indexing and Slicing\n",
    "\n",
    "Σε μονοδιάστατα arrays η επιλογή στοιχείων γίνεται με την ίδια λογική όπως της λίστες στην Python όπου το πρώτο στοιχείο έχει το ευρετήριο `0` και το τελευταίο το ευρετήριο `n-1`."
   ]
  },
  {
   "cell_type": "code",
   "execution_count": 78,
   "id": "367b091e-4862-4fb5-b9b0-67261376d55a",
   "metadata": {},
   "outputs": [
    {
     "name": "stdout",
     "output_type": "stream",
     "text": [
      "6 6\n"
     ]
    }
   ],
   "source": [
    "np.random.rand(2)\n",
    "arr1= np.random.randint(1,11, size=(10,))\n",
    "fifth = arr1[5] # στοιχείο με ευρετήριο 4\n",
    "last = arr1[arr1.size-1] # τελευταίο στοιχείο\n",
    "print(fifth, last)"
   ]
  },
  {
   "cell_type": "markdown",
   "id": "4bf19391-81f7-45d4-b4f9-b9c3623b4fe8",
   "metadata": {},
   "source": [
    "Σε πολυδιάστατους πίνακες η προσπέλαση στοιχείων γίνεται μέσω ευρετηρίων στον αντίστοιχο άξονα."
   ]
  },
  {
   "cell_type": "code",
   "execution_count": 79,
   "id": "9a8f1f9d-962f-40b9-9d39-cf28df0d41f0",
   "metadata": {},
   "outputs": [
    {
     "data": {
      "text/plain": [
       "array([[ 9,  7,  1,  8],\n",
       "       [ 9,  1,  2,  6],\n",
       "       [ 1,  2,  2, 10],\n",
       "       [ 4,  5,  8,  2]])"
      ]
     },
     "execution_count": 79,
     "metadata": {},
     "output_type": "execute_result"
    }
   ],
   "source": [
    "np.random.rand(2)\n",
    "x = np.random.randint(1,11, size=(4,4))\n",
    "x"
   ]
  },
  {
   "cell_type": "markdown",
   "id": "4ea2adac-7486-4a7c-a963-881de54f5028",
   "metadata": {},
   "source": [
    "Επιλογή των γραμμών με ευρετήριο 1 και 3 και όλες τις στήλες"
   ]
  },
  {
   "cell_type": "code",
   "execution_count": 80,
   "id": "84e025b0-789b-41dc-b806-6c3db9319d1d",
   "metadata": {},
   "outputs": [
    {
     "data": {
      "text/plain": [
       "array([[ 9,  1,  2,  6],\n",
       "       [ 1,  2,  2, 10]])"
      ]
     },
     "execution_count": 80,
     "metadata": {},
     "output_type": "execute_result"
    }
   ],
   "source": [
    "x[1:3,:]"
   ]
  },
  {
   "cell_type": "markdown",
   "id": "de89e252-0e2d-4848-9c43-99a45ed61aee",
   "metadata": {},
   "source": [
    "Επιλογή όλες τις γραμμες και τις στήλες με ευρετήριο 1 και 3"
   ]
  },
  {
   "cell_type": "code",
   "execution_count": 81,
   "id": "a71e4139-c6d5-4cf4-ba82-f4f8deca12a3",
   "metadata": {},
   "outputs": [
    {
     "data": {
      "text/plain": [
       "array([[7, 1],\n",
       "       [1, 2],\n",
       "       [2, 2],\n",
       "       [5, 8]])"
      ]
     },
     "execution_count": 81,
     "metadata": {},
     "output_type": "execute_result"
    }
   ],
   "source": [
    "x[:,1:3]"
   ]
  },
  {
   "cell_type": "markdown",
   "id": "b4a8eff6-0d1e-40ba-9f2f-28912954acb5",
   "metadata": {},
   "source": [
    "Επιλογή των γραμμών και στηλών με ευρετήριο 1 και 3"
   ]
  },
  {
   "cell_type": "code",
   "execution_count": 82,
   "id": "5e4f7f72-6f95-4a63-889e-921b50e55b6e",
   "metadata": {},
   "outputs": [
    {
     "data": {
      "text/plain": [
       "array([[1, 2],\n",
       "       [2, 2]])"
      ]
     },
     "execution_count": 82,
     "metadata": {},
     "output_type": "execute_result"
    }
   ],
   "source": [
    "x[1:3,1:3]"
   ]
  },
  {
   "cell_type": "markdown",
   "id": "c3890646-a32d-473e-bd7f-0066c970f41d",
   "metadata": {},
   "source": [
    "Επιλογή επιλεγμένων στοιχείων μέσω συγκεκριμένων ευρετηρίων. Από τις γραμμές 0,1,3 επιλέγω αντίστοιχα τα στοιχεία από τις στήλες 0,1,2"
   ]
  },
  {
   "cell_type": "code",
   "execution_count": 83,
   "id": "22de47b6-b0ef-438c-a24b-47a335399c54",
   "metadata": {},
   "outputs": [
    {
     "data": {
      "text/plain": [
       "array([9, 1, 8])"
      ]
     },
     "execution_count": 83,
     "metadata": {},
     "output_type": "execute_result"
    }
   ],
   "source": [
    "x[[0,1,3],[0,1,2]]"
   ]
  },
  {
   "cell_type": "code",
   "execution_count": null,
   "id": "e10fd87c-1c2e-4382-9b3c-d44fc80f0831",
   "metadata": {},
   "outputs": [],
   "source": []
  },
  {
   "cell_type": "markdown",
   "id": "217c199b-c9e9-4e9b-8c06-a9ce474121ca",
   "metadata": {},
   "source": [
    "Επιπλέον έχουμε την δυνατότητα να αντικαταστήσουμε τιμές σε ένα array, πχ στο array `x` μπορούμε να αντικάστήσουμε την τιμή 10 με 99"
   ]
  },
  {
   "cell_type": "code",
   "execution_count": 84,
   "id": "0db30532-85ee-4394-af57-2ac46a59e9d7",
   "metadata": {},
   "outputs": [
    {
     "data": {
      "text/plain": [
       "array([[ 9,  7,  1,  8],\n",
       "       [ 9,  1,  2,  6],\n",
       "       [ 1,  2,  2, 99],\n",
       "       [ 4,  5,  8,  2]])"
      ]
     },
     "execution_count": 84,
     "metadata": {},
     "output_type": "execute_result"
    }
   ],
   "source": [
    "x[x == 10] = 99\n",
    "x"
   ]
  },
  {
   "cell_type": "markdown",
   "id": "789ea09c-1e02-4533-baca-dd7273f47897",
   "metadata": {},
   "source": [
    "Ή να ορίσουμε περισσότερες συνθήκες\n"
   ]
  },
  {
   "cell_type": "code",
   "execution_count": 85,
   "id": "1fc85fab-8f14-4acb-843d-2d11ca249b3b",
   "metadata": {},
   "outputs": [
    {
     "data": {
      "text/plain": [
       "array([[99,  7, 99,  8],\n",
       "       [99, 99, 99,  6],\n",
       "       [99, 99, 99, 99],\n",
       "       [ 4,  5,  8, 99]])"
      ]
     },
     "execution_count": 85,
     "metadata": {},
     "output_type": "execute_result"
    }
   ],
   "source": [
    "x[(x<3) | (x>8)] = 99\n",
    "x"
   ]
  },
  {
   "cell_type": "markdown",
   "id": "00cae220-ee15-49b8-b461-f126b0e9471d",
   "metadata": {},
   "source": [
    "Αυτή η δυνατότητα είναι ιδιαίτερα χρήσιμη στην τηλεπισκόπηση. Έστω ότι έχουμε μια δορυφορική εικόνα τα εικονοστοιχεία της οποίας έχουν τις παρακάτω τιμές:"
   ]
  },
  {
   "cell_type": "code",
   "execution_count": 86,
   "id": "2323ee20-afee-4550-b4ff-e89ec4faa3fb",
   "metadata": {},
   "outputs": [],
   "source": [
    "image = np.random.uniform(low=0.5, high=10, size=(25,25))"
   ]
  },
  {
   "cell_type": "code",
   "execution_count": 87,
   "id": "2842b599-e9e9-484d-8974-23b87f5952e7",
   "metadata": {},
   "outputs": [
    {
     "data": {
      "image/png": "[encoded data removed]",
      "text/plain": [
       "<Figure size 432x288 with 2 Axes>"
      ]
     },
     "metadata": {
      "filenames": {
       "image/png": "/home/leonidas/Documents/uth/Programming/JupyterNotebooks/notes/_build/jupyter_execute/notebooks/Lesson_11_151_0.png"
      },
      "needs_background": "light"
     },
     "output_type": "display_data"
    }
   ],
   "source": [
    "plt.imshow(image)\n",
    "plt.colorbar()\n",
    "plt.show()"
   ]
  },
  {
   "cell_type": "markdown",
   "id": "c56d424d-27b3-4b30-86d5-dce70e947c38",
   "metadata": {},
   "source": [
    "Και έστω ότι έχουμε ένα άλλο αρχείο raster σε μορφή numpy ndarray το οποίο αποτελεί mask (πχ αρχείο νεφοκάλυψης). Τα στοιχεία που έχουν την τιμή *1* θα αποτελέσουν την μάσκα και τα *0* θα είναι τα έγκυρα εικονοστοιχεία. Με βάση αυτό το ndarray μπορούμε να θέσουμε ως μη έγκυρα όσα στοιχεία της image ταυτίζονται ευρετηριακά με τα στοιχεία της mask με τιμή *1*. Ας φτιάξουμε ένα υποθετικό αρχείο mask."
   ]
  },
  {
   "cell_type": "code",
   "execution_count": 88,
   "id": "e289e80a-0180-4f00-9044-af610507675f",
   "metadata": {},
   "outputs": [],
   "source": [
    "mask = np.zeros((25, 25))\n",
    "mask[4:8, 4:8] = 1\n",
    "mask[15:18, 12:19] = 1"
   ]
  },
  {
   "cell_type": "code",
   "execution_count": 89,
   "id": "ca8e8e45-0498-4715-ac87-264c4b39c745",
   "metadata": {},
   "outputs": [
    {
     "data": {
      "image/png": "[encoded data removed]",
      "text/plain": [
       "<Figure size 432x288 with 1 Axes>"
      ]
     },
     "metadata": {
      "filenames": {
       "image/png": "/home/leonidas/Documents/uth/Programming/JupyterNotebooks/notes/_build/jupyter_execute/notebooks/Lesson_11_154_0.png"
      },
      "needs_background": "light"
     },
     "output_type": "display_data"
    }
   ],
   "source": [
    "plt.imshow(mask)\n",
    "plt.show()"
   ]
  },
  {
   "cell_type": "code",
   "execution_count": 90,
   "id": "59041068-7848-4a76-a8dc-544612eacb9a",
   "metadata": {},
   "outputs": [],
   "source": [
    "\n",
    "import numpy.ma as ma\n",
    "x_masked = ma.masked_array(image, mask=mask)\n",
    "\n",
    "# ή ενναλλακτικά ορισμός των elements σε NaN τιμές\n",
    "#image[mask==1]=np.nan"
   ]
  },
  {
   "cell_type": "code",
   "execution_count": 91,
   "id": "b38efff1-fbcb-4f9e-b4f5-8772b4d599aa",
   "metadata": {},
   "outputs": [
    {
     "data": {
      "image/png": "[encoded data removed]",
      "text/plain": [
       "<Figure size 432x288 with 1 Axes>"
      ]
     },
     "metadata": {
      "filenames": {
       "image/png": "/home/leonidas/Documents/uth/Programming/JupyterNotebooks/notes/_build/jupyter_execute/notebooks/Lesson_11_156_0.png"
      },
      "needs_background": "light"
     },
     "output_type": "display_data"
    }
   ],
   "source": [
    "plt.imshow(x_masked)\n",
    "plt.show()"
   ]
  },
  {
   "cell_type": "code",
   "execution_count": 92,
   "id": "88fd623d-ee96-4101-bd12-063b1f10a066",
   "metadata": {},
   "outputs": [
    {
     "data": {
      "image/png": "[encoded data removed]",
      "text/plain": [
       "<Figure size 1080x1080 with 3 Axes>"
      ]
     },
     "metadata": {
      "filenames": {
       "image/png": "/home/leonidas/Documents/uth/Programming/JupyterNotebooks/notes/_build/jupyter_execute/notebooks/Lesson_11_157_0.png"
      },
      "needs_background": "light"
     },
     "output_type": "display_data"
    }
   ],
   "source": [
    "fig, (ax1, ax2, ax3) = plt.subplots(1, 3,figsize=(15, 15))\n",
    "\n",
    "ax1.imshow(image)\n",
    "ax2.imshow(mask)\n",
    "ax3.imshow(x_masked)\n",
    "\n",
    "ax1.title.set_text('Πρωτογενής εικόνα')\n",
    "ax2.title.set_text('Εικόνα Μask')\n",
    "ax3.title.set_text('Πρωτογενής εικόνα masked')\n",
    "\n",
    "plt.show()\n"
   ]
  },
  {
   "cell_type": "markdown",
   "id": "1c088f3d-2443-4256-8d5d-d4838703371a",
   "metadata": {},
   "source": [
    "Αρκετές από τις βιβλιοθήκες για ψηφιδωτά δεδομένα στην Python επιστρέφουν τα δεδομένα των αρχείων ως numpy ndarrays. Στο παράδειγμα που ακολουθεί θα χρησιμοποιηθεί η βιβλιοθήκη [rasterio](https://github.com/rasterio/rasterio) για την ανάγνωση μια πολυφασματικής δορυφορικής εικόνας."
   ]
  },
  {
   "cell_type": "code",
   "execution_count": 93,
   "id": "c1e7f7ba-5566-4e6b-a883-7c4ff8e4ee8d",
   "metadata": {},
   "outputs": [
    {
     "name": "stdout",
     "output_type": "stream",
     "text": [
      "<class 'numpy.ndarray'>\n"
     ]
    }
   ],
   "source": [
    "INPUTDIR = Path('data')\n",
    "with rio.open(INPUTDIR / 'pre_fire.tif') as src:\n",
    "    image = src.read()\n",
    "    print(type(image))"
   ]
  },
  {
   "cell_type": "markdown",
   "id": "722b0242-2c82-4d7d-9300-1934e0f60633",
   "metadata": {},
   "source": [
    "όπως βλέπουμε η παραπάνω βιβλιοθήκη επιστρέφει ένα numpy.ndarray object όπου έχει, 3 διαστάσεις, 5 bands διαστάσεων 572x1040 η κάθε μία.\n",
    "\n"
   ]
  },
  {
   "cell_type": "code",
   "execution_count": 94,
   "id": "cde04149-89b8-416d-8c0c-f4abe0b828eb",
   "metadata": {},
   "outputs": [
    {
     "data": {
      "text/plain": [
       "(3, (5, 572, 1040))"
      ]
     },
     "execution_count": 94,
     "metadata": {},
     "output_type": "execute_result"
    }
   ],
   "source": [
    "image.ndim,image.shape"
   ]
  }
 ],
 "metadata": {
  "kernelspec": {
   "display_name": "Python 3",
   "language": "python",
   "name": "python3"
  },
  "language_info": {
   "codemirror_mode": {
    "name": "ipython",
    "version": 3
   },
   "file_extension": ".py",
   "mimetype": "text/x-python",
   "name": "python",
   "nbconvert_exporter": "python",
   "pygments_lexer": "ipython3",
   "version": "3.10.2"
  }
 },
 "nbformat": 4,
 "nbformat_minor": 5
}