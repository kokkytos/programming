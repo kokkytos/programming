{
 "cells": [
  {
   "cell_type": "markdown",
   "id": "228b4acf-6f7e-4756-8f7a-b53aae705165",
   "metadata": {},
   "source": [
    "# 7. Ανάγνωση & εγγραφή αρχείων, μετονομασία, αναζήτηση, αντιγραφή μετακίνηση αρχείων και καταλογών"
   ]
  },
  {
   "cell_type": "markdown",
   "id": "fb71ad0e-4f50-44c4-b554-f5499d436642",
   "metadata": {},
   "source": [
    "Πριν ξεκινήσουμε την επίδειξη των εντολών για το σημερινό μάθημα, θα πρέπει να εισάγουμε μερικές απαραίτητες βιβλιοθήκες και να ορίσουμε τον τρέχων κατάλογο στη Python:"
   ]
  },
  {
   "cell_type": "code",
   "execution_count": 1,
   "id": "75f3d201-2465-455a-a5eb-4a565bc32b49",
   "metadata": {},
   "outputs": [],
   "source": [
    "import os\n",
    "import pickle\n",
    "from pathlib import Path\n",
    "from datetime import datetime, timezone\n",
    "import fnmatch\n",
    "import tempfile\n",
    "from tempfile import TemporaryFile, TemporaryDirectory\n",
    "import shutil"
   ]
  },
  {
   "cell_type": "code",
   "execution_count": 2,
   "id": "3db06a76-cce7-4820-a6b8-c13e26355fe9",
   "metadata": {},
   "outputs": [
    {
     "name": "stdout",
     "output_type": "stream",
     "text": [
      "/home/leonidas/Documents/uth/Programming/JupyterNotebooks/notes/notebooks\n",
      "/home/leonidas/Documents/uth/Programming/JupyterNotebooks/notes/notebooks/some_directory\n"
     ]
    }
   ],
   "source": [
    "print(os.getcwd()) # εκτύπωση τρέχοντος καταλόγου στην Python\n",
    "\n",
    "\n",
    "\n",
    "path=\"./some_directory/\"\n",
    "os.chdir(path) # ορισμός τρέχοντος καταλόγου\n",
    "\n",
    "print(os.getcwd()) # επιβεβαίωση του τρέχοντος καταλόγου στην Python \n",
    "\n"
   ]
  },
  {
   "cell_type": "markdown",
   "id": "cc975aee-22ca-4c08-8603-eddb118956e5",
   "metadata": {},
   "source": [
    "## Ανάγνωση & εγγραφή αρχείων"
   ]
  },
  {
   "cell_type": "markdown",
   "id": "c9982b4e-5743-45c3-98bc-3361746e34e7",
   "metadata": {},
   "source": [
    "Μπορούμε να ανοίξουμε ένα αρχείο με την μέθοδο open, να δούμε μερικές ιδιότητες του και να το κλείσουμε"
   ]
  },
  {
   "cell_type": "code",
   "execution_count": 3,
   "id": "8661442a-5989-4bd6-9e27-bf529a69670e",
   "metadata": {},
   "outputs": [
    {
     "name": "stdout",
     "output_type": "stream",
     "text": [
      "Name of the file:  foo.txt\n",
      "Closed or not :  False\n",
      "Opening mode :  r\n",
      "True\n"
     ]
    }
   ],
   "source": [
    "myfile=open(\"foo.txt\", \"r\")\n",
    "print (\"Name of the file: \", myfile.name)\n",
    "print (\"Closed or not : \", myfile.closed)\n",
    "print (\"Opening mode : \", myfile.mode)\n",
    "myfile.close()\n",
    "print(myfile.closed)"
   ]
  },
  {
   "cell_type": "markdown",
   "id": "531d719f-d2e3-4e75-bed2-3ecf5221b8b5",
   "metadata": {},
   "source": [
    "Με την μέθοδο write() και με παράμετρους το όνομα του αρχείου και την επιλογή προσπέλασης \"w\" (w= εγγραφή, r= ανάγνωση, a=προσθήκ)\n",
    "σε ένα ανοικτό αρχείο μπορούμε να γράψουμε σε αυτό περιεχόμενο. Πάντα πρέπει να κλείνουμε το ανοικτό αρχείο με την μέθοδο close()."
   ]
  },
  {
   "cell_type": "code",
   "execution_count": 4,
   "id": "628703ae-b6a8-4871-a2be-ddcd9a08a73b",
   "metadata": {},
   "outputs": [],
   "source": [
    "# Open a file\n",
    "fo = open(\"foo.txt\", \"w\") # Σημαντική παράμετρος το \"w\"\n",
    "fo.write( \"Ένα ταξίδι χιλίων χιλιομέτρων αρχίζει με ένα βήμα.\\nΛάο Τσε, 6ος αιώνας π.Χ., Κινέζος φιλόσοφος\")\n",
    "# Close opend file\n",
    "fo.close()"
   ]
  },
  {
   "cell_type": "markdown",
   "id": "fa3f3c01-23dd-475b-827a-76fe90c0b91e",
   "metadata": {},
   "source": [
    "Επιβεβαιώνουμε ότι όντως έγινε η εγγραφή διαβάζοντας το αρχείο με την μέθοδο read() η οποία διαβάζει όλο το περιεχόμενο με την μία από το αρχείο."
   ]
  },
  {
   "cell_type": "code",
   "execution_count": 5,
   "id": "342d1648-605b-4b50-9cf7-07370a59a870",
   "metadata": {},
   "outputs": [
    {
     "name": "stdout",
     "output_type": "stream",
     "text": [
      "Ένα ταξίδι χιλίων χιλιομέτρων αρχίζει με ένα βήμα.\n",
      "Λάο Τσε, 6ος αιώνας π.Χ., Κινέζος φιλόσοφος\n"
     ]
    }
   ],
   "source": [
    "# Open a file\n",
    "fo = open(\"foo.txt\", \"r\") # Σημαντική παράμετρος το \"w\"\n",
    "\n",
    "text = fo.read()\n",
    "print (text)\n",
    "\n",
    "# Close opened file\n",
    "fo.close()"
   ]
  },
  {
   "cell_type": "markdown",
   "id": "c73cef9c-f295-4079-9d39-7f05e4c4a803",
   "metadata": {},
   "source": [
    "Επειδή υπάρχει ο κίνδυνος να καλέσουμε την μέθοδο close() σε ένα ανοικτό αρχείο, μπορούμε εναλλακτικά να ανοίξουμε ένα αρχείο με το *with*. Σε αυτήν την περίπτωση το αρχείο κλείνει αυτόματα όταν ολοκληρωθεί το μπλοκ εντολών εντός του with."
   ]
  },
  {
   "cell_type": "code",
   "execution_count": 6,
   "id": "f20015b0-f4d5-4e2a-8117-d86460c6a4cd",
   "metadata": {},
   "outputs": [
    {
     "name": "stdout",
     "output_type": "stream",
     "text": [
      "Ένα ταξίδι χιλίων χιλιομέτρων αρχίζει με ένα βήμα.\n",
      "Λάο Τσε, 6ος αιώνας π.Χ., Κινέζος φιλόσοφος\n"
     ]
    }
   ],
   "source": [
    "with open('foo.txt', 'r') as reader:\n",
    "    # Note: readlines doesn't trim the line endings\n",
    "    print(reader.read())"
   ]
  },
  {
   "cell_type": "markdown",
   "id": "7cd846fa-411d-4e62-8bb9-1060fdd613e1",
   "metadata": {},
   "source": [
    "Η μέθοδος read() δέχεται όρισμα την θέση από την οποία ξεκινά η ανάγνωση του περιεχομένου κειμένου."
   ]
  },
  {
   "cell_type": "code",
   "execution_count": 7,
   "id": "cf6510fb-c8b1-44c4-b306-a0ed81f71c67",
   "metadata": {},
   "outputs": [
    {
     "name": "stdout",
     "output_type": "stream",
     "text": [
      "Ένα ταξίδι\n",
      " χιλίων χι\n"
     ]
    }
   ],
   "source": [
    "with open('foo.txt', 'r') as fo:\n",
    "    text = fo.read(10)\n",
    "    print (text)\n",
    "\n",
    "    text = fo.read(10)\n",
    "    print (text)"
   ]
  },
  {
   "cell_type": "markdown",
   "id": "5bc8aead-eeb4-4655-8ecb-a6868625f99f",
   "metadata": {},
   "source": [
    "Με την χρήση της μεθόδου readlines() προσαρτούμε κάθε νέα γραμμή στο αρχείο σε μια λίστα. Όμως ο χαρακτήρας που ορίζει την νέα σειρά (\\n) δεν αγνοείται από την ανάγνωση."
   ]
  },
  {
   "cell_type": "code",
   "execution_count": 8,
   "id": "d624bb1a-b39a-44f3-b9c7-48f0df364d59",
   "metadata": {},
   "outputs": [
    {
     "name": "stdout",
     "output_type": "stream",
     "text": [
      "['Pug', 'Jack Russell Terrier', 'English Springer Spaniel', 'German Shepherd', 'Staffordshire Bull Terrier', 'Cavalier King Charles Spaniel', 'Golden Retriever', 'West Highland White Terrier', 'Boxer', 'Border Terrier', 'Beagle', 'Beagle', 'Beagle', 'Beagle', 'Beagle']\n"
     ]
    }
   ],
   "source": [
    "with open('dog_breeds.txt', 'r') as reader:\n",
    "    # Note: readlines doesn't trim the line endings\n",
    "    dog_breeds = reader.readlines()\n",
    "    dog_breeds = [line.rstrip() for line in dog_breeds] # μπορούμε να αφαιρέσουμ τα new line characters με αυτόν τον τρόπο\n",
    "    print(dog_breeds)"
   ]
  },
  {
   "cell_type": "markdown",
   "id": "b1d5649a-7cc2-43a2-b684-21c36387afe9",
   "metadata": {},
   "source": [
    "Με την χρήση του with μπορούμε να εγγράψουμε δεδομένα κιόλας. Σημαντική παράμετρος το 'w' κατά το open() και η μέθοδος write()."
   ]
  },
  {
   "cell_type": "code",
   "execution_count": 9,
   "id": "dfd196bf-85d1-4d5b-858b-6d280dfb6ea4",
   "metadata": {},
   "outputs": [],
   "source": [
    "with open('dog_breeds_reversed.txt', 'w') as writer:\n",
    "    # Alternatively you could use\n",
    "    # writer.writelines(reversed(dog_breeds))\n",
    "\n",
    "    # Write the dog breeds to the file in reversed order\n",
    "    for breed in reversed(dog_breeds):\n",
    "        writer.write(breed)"
   ]
  },
  {
   "cell_type": "markdown",
   "id": "9d41bcfe-4b20-46e3-b9df-28ca95757824",
   "metadata": {},
   "source": [
    "Με το όρισμα 'a' κατά το άνοιγμα ενός αρχείου μπορούμε να εγγράψουμε σε ένα αρχείο χωρίς να διαγραφεί το προηγούμενο περιεχόμενο."
   ]
  },
  {
   "cell_type": "code",
   "execution_count": 10,
   "id": "7f765f5c-083e-44a4-8f88-b270712328f8",
   "metadata": {},
   "outputs": [],
   "source": [
    "with open('dog_breeds.txt', 'a') as a_writer:\n",
    "    a_writer.write('Beagle\\n')"
   ]
  },
  {
   "cell_type": "code",
   "execution_count": 11,
   "id": "f3d41eac-76c8-48ac-b231-53460788f0cd",
   "metadata": {},
   "outputs": [
    {
     "name": "stdout",
     "output_type": "stream",
     "text": [
      "Pug\n",
      "Jack Russell Terrier\n",
      "English Springer Spaniel\n",
      "German Shepherd\n",
      "Staffordshire Bull Terrier\n",
      "Cavalier King Charles Spaniel\n",
      "Golden Retriever\n",
      "West Highland White Terrier\n",
      "Boxer\n",
      "Border Terrier\n",
      "Beagle\n",
      "Beagle\n",
      "Beagle\n",
      "Beagle\n",
      "Beagle\n",
      "Beagle\n",
      "\n"
     ]
    }
   ],
   "source": [
    "with open('dog_breeds.txt', 'r') as reader:\n",
    "    print(reader.read())"
   ]
  },
  {
   "cell_type": "markdown",
   "id": "861f2de5-7f65-47e8-8af5-59cd425c67d5",
   "metadata": {},
   "source": [
    "Μπορούμε να χρησιμοποιήσουμε παράλληλα δύο αρχείο με τις αντίστοιχες παραμέτρους ανάγνωσης, ή εγγραφής ή προσθήκης μέσω του with ως εξής:"
   ]
  },
  {
   "cell_type": "code",
   "execution_count": 12,
   "id": "13421726-5c7f-46c2-bdc5-4935b44dee11",
   "metadata": {},
   "outputs": [],
   "source": [
    "d_path = 'dog_breeds.txt'\n",
    "d_r_path = 'dog_breeds_reversed.txt'\n",
    "with open(d_path, 'r') as reader, open(d_r_path, 'w') as writer:\n",
    "    dog_breeds = reader.readlines()\n",
    "    writer.writelines(reversed(dog_breeds))"
   ]
  },
  {
   "cell_type": "code",
   "execution_count": 13,
   "id": "1c6ccc2f-5db0-4293-a4a7-7061f55bbb9d",
   "metadata": {},
   "outputs": [
    {
     "name": "stdout",
     "output_type": "stream",
     "text": [
      "Pug\n",
      "Jack Russell Terrier\n",
      "English Springer Spaniel\n",
      "German Shepherd\n",
      "Staffordshire Bull Terrier\n",
      "Cavalier King Charles Spaniel\n",
      "Golden Retriever\n",
      "West Highland White Terrier\n",
      "Boxer\n",
      "Border Terrier\n",
      "Beagle\n",
      "Beagle\n",
      "Beagle\n",
      "Beagle\n",
      "Beagle\n",
      "Beagle\n"
     ]
    }
   ],
   "source": [
    "with open('dog_breeds.txt', 'r') as reader:\n",
    "    # Read and print the entire file line by line\n",
    "    line = reader.readline()\n",
    "    while line != '':  # The EOF char is an empty string\n",
    "        print(line, end='')\n",
    "        line = reader.readline()"
   ]
  },
  {
   "cell_type": "markdown",
   "id": "adf8421e-3837-47fc-a88a-bd818337502e",
   "metadata": {},
   "source": [
    "Μπορούμε να διαβάσουμε γραμμή - γραμμή το περιεχόμενο ενός αρχείου μέσω ενός loop στην λίστα γραμμών που μας προσφέρει η μέθοδος readlines()"
   ]
  },
  {
   "cell_type": "code",
   "execution_count": 14,
   "id": "70152b61-ae0d-4c01-a0af-d90afbf1cf71",
   "metadata": {},
   "outputs": [
    {
     "name": "stdout",
     "output_type": "stream",
     "text": [
      "Pug\n",
      "Jack Russell Terrier\n",
      "English Springer Spaniel\n",
      "German Shepherd\n",
      "Staffordshire Bull Terrier\n",
      "Cavalier King Charles Spaniel\n",
      "Golden Retriever\n",
      "West Highland White Terrier\n",
      "Boxer\n",
      "Border Terrier\n",
      "Beagle\n",
      "Beagle\n",
      "Beagle\n",
      "Beagle\n",
      "Beagle\n",
      "Beagle\n"
     ]
    }
   ],
   "source": [
    "with open('dog_breeds.txt', 'r') as reader:\n",
    "    for line in reader.readlines():\n",
    "        print(line, end='')"
   ]
  },
  {
   "cell_type": "markdown",
   "id": "4fd640d6-32d4-444a-94e8-fe8512921132",
   "metadata": {},
   "source": [
    "Και για περισσότερο ευανάγνωστο κώδικα η Python μας δίνει την δυνατότητα να κάνουμε loop μέσω του reader object"
   ]
  },
  {
   "cell_type": "code",
   "execution_count": 15,
   "id": "f9c47a24-35ef-461e-8c44-6ad1264261be",
   "metadata": {},
   "outputs": [
    {
     "name": "stdout",
     "output_type": "stream",
     "text": [
      "Pug\n",
      "Jack Russell Terrier\n",
      "English Springer Spaniel\n",
      "German Shepherd\n",
      "Staffordshire Bull Terrier\n",
      "Cavalier King Charles Spaniel\n",
      "Golden Retriever\n",
      "West Highland White Terrier\n",
      "Boxer\n",
      "Border Terrier\n",
      "Beagle\n",
      "Beagle\n",
      "Beagle\n",
      "Beagle\n",
      "Beagle\n",
      "Beagle\n"
     ]
    }
   ],
   "source": [
    "with open('dog_breeds.txt', 'r') as reader:\n",
    "    # Read and print the entire file line by line\n",
    "    for line in reader:\n",
    "        print(line, end='') # use end='' το avoid new line after each print statement"
   ]
  },
  {
   "cell_type": "markdown",
   "id": "29900beb-a494-4542-a7a6-162157d8314d",
   "metadata": {},
   "source": [
    "## Σειριοποίηση (pickle)"
   ]
  },
  {
   "cell_type": "markdown",
   "id": "cfb1e5ea-00f6-458e-895c-ac62851fc384",
   "metadata": {},
   "source": [
    "Μέσω της σειριοποίησης μπορούμε να αποθηκεύσουμε σε ένα binary αρχείο τα αντικείμενα της python με τις ιδιότητές τους. Όχι μόνον σαν απλές συμβολοσειρές. Στο παρακάτω κομμάτι κώδικα θα αποθηκεύσουμε μία λίστα και μια μεταβλήτή σε ένα αρχείο με την βοήθεια της βιβλιοθήκης pickle."
   ]
  },
  {
   "cell_type": "code",
   "execution_count": 16,
   "id": "beb8b018-e1c8-495e-b6f1-d5275e0fdb6f",
   "metadata": {},
   "outputs": [],
   "source": [
    "mylist=['one', 2 , 'tree']\n",
    "pi=3.14\n",
    "with open('pickle.txt',  'ab') as pickle_writer:\n",
    "    pickle.dump(mylist, pickle_writer)  \n",
    "    pickle.dump(pi, pickle_writer)      \n"
   ]
  },
  {
   "cell_type": "markdown",
   "id": "5549df53-a056-4050-9285-2afe02e5449d",
   "metadata": {},
   "source": [
    "Αφού έχουμε αποθηκεύσει τα σχετικά object σε ένα αρχείο, μπορούμε σε μεταγενέστερα στάδια του κώδικα να τα ανακαλέσουμε αυτούσια μέσω της ανάγνωσης αυτού του αρχείου."
   ]
  },
  {
   "cell_type": "code",
   "execution_count": 17,
   "id": "0843aab3-b9e5-4652-acd1-7b32d21265b7",
   "metadata": {},
   "outputs": [
    {
     "name": "stdout",
     "output_type": "stream",
     "text": [
      "3.14\n",
      "['one', 2, 'tree']\n"
     ]
    }
   ],
   "source": [
    "with open('pickle.txt',  'rb') as pickle_read:\n",
    "    pickle.load(pickle_read)\n",
    "    print(pi)\n",
    "    print(mylist)"
   ]
  },
  {
   "cell_type": "markdown",
   "id": "52c5ea59-69e9-4256-9183-07105d183ff5",
   "metadata": {},
   "source": [
    "## Ανάκτηση περιεχομένων φακέλου"
   ]
  },
  {
   "cell_type": "markdown",
   "id": "33d7bd3b-36a1-4966-af8c-98198b471270",
   "metadata": {},
   "source": [
    "Μέσω της μεθόδου os.scandir() μπορούμε να λάβουμε μια λίστα με τα αρχεία και τους φακέλους σε ένα κατάλογο."
   ]
  },
  {
   "cell_type": "code",
   "execution_count": 18,
   "id": "051dbca4-6913-4c70-a01f-a77d18239f6f",
   "metadata": {},
   "outputs": [
    {
     "name": "stdout",
     "output_type": "stream",
     "text": [
      "sub_dir2\n",
      "sub_dir\n",
      "dog_breeds_reversed.txt\n",
      "sub_dir3\n",
      "data_02.txt\n",
      "foo.txt\n",
      "data_02_backup.txt\n",
      "data_03_backup.txt\n",
      "data_01_backup.txt\n",
      "dog_breeds.txt\n",
      "2018\n",
      "example_directory\n",
      "pickle.txt\n",
      "file1.py\n",
      "data_03.txt\n",
      "data_01.txt\n",
      "tests.py\n",
      "admin.py\n",
      "admin2.py\n"
     ]
    }
   ],
   "source": [
    "entries = os.scandir('./')\n",
    "for entry in entries:\n",
    "    print(entry.name)\n"
   ]
  },
  {
   "cell_type": "code",
   "execution_count": 19,
   "id": "31d74ae5-e08f-46e3-b14c-759e19fb8882",
   "metadata": {},
   "outputs": [
    {
     "data": {
      "text/plain": [
       "['sub_dir2',\n",
       " 'sub_dir',\n",
       " 'dog_breeds_reversed.txt',\n",
       " 'sub_dir3',\n",
       " 'data_02.txt',\n",
       " 'foo.txt',\n",
       " 'data_02_backup.txt',\n",
       " 'data_03_backup.txt',\n",
       " 'data_01_backup.txt',\n",
       " 'dog_breeds.txt',\n",
       " '2018',\n",
       " 'example_directory',\n",
       " 'pickle.txt',\n",
       " 'file1.py',\n",
       " 'data_03.txt',\n",
       " 'data_01.txt',\n",
       " 'tests.py',\n",
       " 'admin.py',\n",
       " 'admin2.py']"
      ]
     },
     "execution_count": 19,
     "metadata": {},
     "output_type": "execute_result"
    }
   ],
   "source": [
    "# εναλλακτικά\n",
    "os.listdir('./')"
   ]
  },
  {
   "cell_type": "code",
   "execution_count": 20,
   "id": "6a1570e4-42b8-4844-a1c2-c5a4ba26e4f6",
   "metadata": {},
   "outputs": [
    {
     "name": "stdout",
     "output_type": "stream",
     "text": [
      "sub_dir2\n",
      "sub_dir\n",
      "dog_breeds_reversed.txt\n",
      "sub_dir3\n",
      "data_02.txt\n",
      "foo.txt\n",
      "data_02_backup.txt\n",
      "data_03_backup.txt\n",
      "data_01_backup.txt\n",
      "dog_breeds.txt\n",
      "2018\n",
      "example_directory\n",
      "pickle.txt\n",
      "file1.py\n",
      "data_03.txt\n",
      "data_01.txt\n",
      "tests.py\n",
      "admin.py\n",
      "admin2.py\n"
     ]
    }
   ],
   "source": [
    "# Εναλλακτικά\n",
    "with os.scandir('./') as entries:\n",
    "    for entry in entries:\n",
    "        print(entry.name)\n"
   ]
  },
  {
   "cell_type": "markdown",
   "id": "2c0f70a9-cad0-4ec7-906e-9059babfaa5b",
   "metadata": {},
   "source": [
    "Εναλλακτικά το ίδιο μπορούμε να κάνουμε με την μέθοδο iterdir() σε ένα Path object από την βιβλιοθήκη pathlib"
   ]
  },
  {
   "cell_type": "code",
   "execution_count": 21,
   "id": "797b3b33-8916-4348-8f24-fcd837edae6f",
   "metadata": {},
   "outputs": [
    {
     "name": "stdout",
     "output_type": "stream",
     "text": [
      "sub_dir2\n",
      "sub_dir\n",
      "dog_breeds_reversed.txt\n",
      "sub_dir3\n",
      "data_02.txt\n",
      "foo.txt\n",
      "data_02_backup.txt\n",
      "data_03_backup.txt\n",
      "data_01_backup.txt\n",
      "dog_breeds.txt\n",
      "2018\n",
      "example_directory\n",
      "pickle.txt\n",
      "file1.py\n",
      "data_03.txt\n",
      "data_01.txt\n",
      "tests.py\n",
      "admin.py\n",
      "admin2.py\n"
     ]
    }
   ],
   "source": [
    "entries = Path('./')\n",
    "for entry in entries.iterdir():\n",
    "    print(entry.name)"
   ]
  },
  {
   "cell_type": "markdown",
   "id": "ad075f73-54f2-4c52-a806-2c5c673ad82d",
   "metadata": {},
   "source": [
    "Η μέθοδος is_file() μας επιτρέπει να τεστάρουμε αν ένα αντικείμενο τύπου Path είναι αρχείο. "
   ]
  },
  {
   "cell_type": "code",
   "execution_count": 22,
   "id": "f066d552-1cdf-4cd6-80f6-275d952956ce",
   "metadata": {},
   "outputs": [
    {
     "name": "stdout",
     "output_type": "stream",
     "text": [
      "dog_breeds_reversed.txt\n",
      "data_02.txt\n",
      "foo.txt\n",
      "data_02_backup.txt\n",
      "data_03_backup.txt\n",
      "data_01_backup.txt\n",
      "dog_breeds.txt\n",
      "pickle.txt\n",
      "file1.py\n",
      "data_03.txt\n",
      "data_01.txt\n",
      "tests.py\n",
      "admin.py\n",
      "admin2.py\n"
     ]
    }
   ],
   "source": [
    "basepath = Path('./')\n",
    "files_in_basepath = basepath.iterdir()\n",
    "for item in files_in_basepath:\n",
    "    if item.is_file():\n",
    "        print(item.name)"
   ]
  },
  {
   "cell_type": "markdown",
   "id": "a339ef9b-13b7-4780-8dd7-6ebc32102617",
   "metadata": {},
   "source": [
    "Η μέθοδος is_dir() μας επιτρέπει να τεστάρουμε αν ένα αντικείμενο τύπου Path είναι φάκελος (directory). "
   ]
  },
  {
   "cell_type": "code",
   "execution_count": 23,
   "id": "a2f79ca7-aa2c-4afd-a897-b898de5c1995",
   "metadata": {},
   "outputs": [
    {
     "name": "stdout",
     "output_type": "stream",
     "text": [
      "sub_dir2\n",
      "sub_dir\n",
      "sub_dir3\n",
      "2018\n",
      "example_directory\n"
     ]
    }
   ],
   "source": [
    "# List all subdirectory using pathlib\n",
    "basepath = Path('.')\n",
    "for entry in basepath.iterdir():\n",
    "    if entry.is_dir():\n",
    "        print(entry.name)"
   ]
  },
  {
   "cell_type": "markdown",
   "id": "76dea920-0cf3-47cc-b7da-803b2cd2e65b",
   "metadata": {},
   "source": [
    "Με την μέθοδο stat() μπορούμε να δούμε χρήσιμες λεπτομέρεις για ένα αρχείο και να ανακτήσουμε δεδομένα όπως το μέγεθος του, το όνομά του και η τελευταία ημερομηνία/ώρα τροποποίησης (δίνεται σε seconds απο την 1/1/1970)"
   ]
  },
  {
   "cell_type": "code",
   "execution_count": 24,
   "id": "71be251f-cc48-4f4b-9989-326dbfe64fa1",
   "metadata": {},
   "outputs": [
    {
     "name": "stdout",
     "output_type": "stream",
     "text": [
      "\n",
      "Όνομα αρχείου: sub_dir2\n",
      "\tΜέγεθος:  4096\n",
      "\tΗμερομηνία τελευταίας τροποποίησης 2022-05-13 15:51:20+00:00\n",
      "\n",
      "Όνομα αρχείου: sub_dir\n",
      "\tΜέγεθος:  4096\n",
      "\tΗμερομηνία τελευταίας τροποποίησης 2022-05-13 15:51:20+00:00\n",
      "\n",
      "Όνομα αρχείου: dog_breeds_reversed.txt\n",
      "\tΜέγεθος:  231\n",
      "\tΗμερομηνία τελευταίας τροποποίησης 2022-05-13 18:30:31.900279+00:00\n",
      "\n",
      "Όνομα αρχείου: sub_dir3\n",
      "\tΜέγεθος:  4096\n",
      "\tΗμερομηνία τελευταίας τροποποίησης 2022-05-13 15:51:20+00:00\n",
      "\n",
      "Όνομα αρχείου: data_02.txt\n",
      "\tΜέγεθος:  0\n",
      "\tΗμερομηνία τελευταίας τροποποίησης 2022-05-13 07:01:42+00:00\n",
      "\n",
      "Όνομα αρχείου: foo.txt\n",
      "\tΜέγεθος:  168\n",
      "\tΗμερομηνία τελευταίας τροποποίησης 2022-05-13 18:30:31.816279+00:00\n",
      "\n",
      "Όνομα αρχείου: data_02_backup.txt\n",
      "\tΜέγεθος:  0\n",
      "\tΗμερομηνία τελευταίας τροποποίησης 2022-05-13 07:01:42+00:00\n",
      "\n",
      "Όνομα αρχείου: data_03_backup.txt\n",
      "\tΜέγεθος:  0\n",
      "\tΗμερομηνία τελευταίας τροποποίησης 2022-05-13 07:01:42+00:00\n",
      "\n",
      "Όνομα αρχείου: data_01_backup.txt\n",
      "\tΜέγεθος:  0\n",
      "\tΗμερομηνία τελευταίας τροποποίησης 2022-05-13 07:01:42+00:00\n",
      "\n",
      "Όνομα αρχείου: dog_breeds.txt\n",
      "\tΜέγεθος:  231\n",
      "\tΗμερομηνία τελευταίας τροποποίησης 2022-05-13 18:30:31.880279+00:00\n",
      "\n",
      "Όνομα αρχείου: 2018\n",
      "\tΜέγεθος:  4096\n",
      "\tΗμερομηνία τελευταίας τροποποίησης 2022-05-13 18:28:15.820793+00:00\n",
      "\n",
      "Όνομα αρχείου: example_directory\n",
      "\tΜέγεθος:  4096\n",
      "\tΗμερομηνία τελευταίας τροποποίησης 2022-05-13 18:28:15.800793+00:00\n",
      "\n",
      "Όνομα αρχείου: pickle.txt\n",
      "\tΜέγεθος:  416\n",
      "\tΗμερομηνία τελευταίας τροποποίησης 2022-05-13 18:30:31.952278+00:00\n",
      "\n",
      "Όνομα αρχείου: file1.py\n",
      "\tΜέγεθος:  0\n",
      "\tΗμερομηνία τελευταίας τροποποίησης 2022-05-13 07:01:42+00:00\n",
      "\n",
      "Όνομα αρχείου: data_03.txt\n",
      "\tΜέγεθος:  0\n",
      "\tΗμερομηνία τελευταίας τροποποίησης 2022-05-13 07:01:42+00:00\n",
      "\n",
      "Όνομα αρχείου: data_01.txt\n",
      "\tΜέγεθος:  0\n",
      "\tΗμερομηνία τελευταίας τροποποίησης 2022-05-13 07:01:42+00:00\n",
      "\n",
      "Όνομα αρχείου: tests.py\n",
      "\tΜέγεθος:  0\n",
      "\tΗμερομηνία τελευταίας τροποποίησης 2022-05-13 07:01:42+00:00\n",
      "\n",
      "Όνομα αρχείου: admin.py\n",
      "\tΜέγεθος:  0\n",
      "\tΗμερομηνία τελευταίας τροποποίησης 2022-05-13 07:01:42+00:00\n",
      "\n",
      "Όνομα αρχείου: admin2.py\n",
      "\tΜέγεθος:  0\n",
      "\tΗμερομηνία τελευταίας τροποποίησης 2022-05-13 18:29:58.392404+00:00\n"
     ]
    }
   ],
   "source": [
    "\n",
    "\n",
    "\n",
    "current_dir = Path('./') #ορίστε έναν φάκελο. Στην συγκεκριμένη περίπτωση ορίζεται ο τρέχον κατάλογος.\n",
    "for path in current_dir.iterdir():\n",
    "    info = path.stat()\n",
    "    \n",
    "    size=info.st_size\n",
    "    modification_time=datetime.fromtimestamp(info.st_mtime, tz=timezone.utc) # st_time=  the number of seconds passed since 1st January 1970 (epoch)\n",
    "    name=path.name\n",
    "    \n",
    "    print(\"\\nΌνομα αρχείου:\", name)\n",
    "    print(\"\\tΜέγεθος: \",size) # το μέγεθος του αρχείου σε bytes\n",
    "    print(\"\\tΗμερομηνία τελευταίας τροποποίησης\", modification_time)"
   ]
  },
  {
   "cell_type": "markdown",
   "id": "7277066b-afea-4756-b543-a27daa358895",
   "metadata": {},
   "source": [
    "Μέσω του Path μπορούμε να φτιάξουμε και διαδρομές προς ένα κατάλογο του δίσκου μας"
   ]
  },
  {
   "cell_type": "code",
   "execution_count": 25,
   "id": "88e6468d-e60a-4bd8-9cb6-9d209d96c520",
   "metadata": {},
   "outputs": [
    {
     "name": "stdout",
     "output_type": "stream",
     "text": [
      "/home/leonidas/Documents/uth/Programming/JupyterNotebooks/notes/notebooks/some_directory/in/input.xlsx\n",
      "/home/leonidas/Documents/uth/Programming/JupyterNotebooks/notes/notebooks/some_directory/out/output.xlsx\n"
     ]
    }
   ],
   "source": [
    "# build paths \n",
    "\n",
    "in_file_1 = Path.cwd() / \"in\" / \"input.xlsx\"\n",
    "out_file_1 = Path.cwd() / \"out\" / \"output.xlsx\"\n",
    "\n",
    "print(in_file_1)\n",
    "print(out_file_1)\n",
    "\n",
    "# or\n",
    "\n",
    "in_file_2 = Path.cwd().joinpath(\"in\").joinpath(\"input.xlsx\")\n",
    "out_file_2 = Path.cwd().joinpath(\"out\").joinpath(\"output.xlsx\")\n"
   ]
  },
  {
   "cell_type": "markdown",
   "id": "089b7de2-ffad-47d3-893e-3ae8a726e199",
   "metadata": {},
   "source": [
    "## Δημιουργία καταλόγων"
   ]
  },
  {
   "cell_type": "markdown",
   "id": "1c8c1c2a-ef6b-4c1f-ac99-2e9f05026117",
   "metadata": {},
   "source": [
    "Επιβεβαιώνουμε για μια ακόμη φορά τον τρέχοντα κατάλογο"
   ]
  },
  {
   "cell_type": "code",
   "execution_count": 26,
   "id": "01a1101b-c51b-4ece-b914-0523d4a24d9f",
   "metadata": {},
   "outputs": [
    {
     "name": "stdout",
     "output_type": "stream",
     "text": [
      "/home/leonidas/Documents/uth/Programming/JupyterNotebooks/notes/notebooks/some_directory\n"
     ]
    }
   ],
   "source": [
    "path = Path.cwd() # pathlib object, εναλλακτικό του os.getcwd()\n",
    "\n",
    "print(str(path)) # print σαν συμβολοσειρά\n"
   ]
  },
  {
   "cell_type": "markdown",
   "id": "2585c5d3-0c79-47d0-b40f-47cfa1b3a343",
   "metadata": {},
   "source": [
    "Μπορούμε να δημιουργήσουμε καταλόγους με την μέθοδο mkdir()"
   ]
  },
  {
   "cell_type": "code",
   "execution_count": 27,
   "id": "17b5bcb6-355c-48a6-9f9c-471a467a5a6d",
   "metadata": {},
   "outputs": [
    {
     "name": "stdout",
     "output_type": "stream",
     "text": [
      "Ο κατάλογος example_directory υπάρχει ήδη\n"
     ]
    }
   ],
   "source": [
    "# create directory\n",
    "try:\n",
    "    p = Path('example_directory/') # ορισμός absolute ή relative Path\n",
    "    p.mkdir() # δημιουργία καταλόγου\n",
    "except FileExistsError:\n",
    "    print(f\"Ο κατάλογος {str(p)} υπάρχει ήδη\")"
   ]
  },
  {
   "cell_type": "code",
   "execution_count": 28,
   "id": "6ca4aea6-6ac7-411e-a6c0-d28b96da5204",
   "metadata": {},
   "outputs": [],
   "source": [
    "p.mkdir(exist_ok=True) # δημιουργία καταλόγου, αγνοεί την δημιουργία φακέλου αν αυτός υπάρχει ήδη"
   ]
  },
  {
   "cell_type": "code",
   "execution_count": 29,
   "id": "5571629d-de7d-4a04-afa5-4aa8b4f4c915",
   "metadata": {},
   "outputs": [],
   "source": [
    "p = Path('2018/10/05') # δημιουργία καταλόγου 05 και όλων των γονικών (parent) καταλόγων\n",
    "p.mkdir(parents=True,exist_ok=True) "
   ]
  },
  {
   "cell_type": "markdown",
   "id": "c70ac3fe-4efa-4c9a-949e-5b73b3d81714",
   "metadata": {},
   "source": [
    "Είτε να αναζητήσουμε αρχεία και καταλόγους που περιλαμβάνου συγκεκριμένους χαρακτήρες στο ονομά τους"
   ]
  },
  {
   "cell_type": "code",
   "execution_count": 30,
   "id": "749e906d-071e-44ba-a69d-c33b7a1a352e",
   "metadata": {},
   "outputs": [
    {
     "name": "stdout",
     "output_type": "stream",
     "text": [
      "['sub_dir2', 'sub_dir', 'dog_breeds_reversed.txt', 'sub_dir3', 'data_02.txt', 'foo.txt', 'data_02_backup.txt', 'data_03_backup.txt', 'data_01_backup.txt', 'dog_breeds.txt', '2018', 'example_directory', 'pickle.txt', 'file1.py', 'data_03.txt', 'data_01.txt', 'tests.py', 'admin.py', 'admin2.py']\n",
      "Εύρεση αρχείων με καταληξη txt\n",
      "\n",
      "dog_breeds_reversed.txt\n",
      "data_02.txt\n",
      "foo.txt\n",
      "data_02_backup.txt\n",
      "data_03_backup.txt\n",
      "data_01_backup.txt\n",
      "dog_breeds.txt\n",
      "pickle.txt\n",
      "data_03.txt\n",
      "data_01.txt\n"
     ]
    }
   ],
   "source": [
    "content = os.listdir('./')\n",
    "print(content)\n",
    "\n",
    "print(\"Εύρεση αρχείων με καταληξη txt\\n\")\n",
    "\n",
    "for file_name in content:\n",
    "    if fnmatch.fnmatch(file_name, '*.txt'):\n",
    "        print(file_name)\n"
   ]
  },
  {
   "cell_type": "markdown",
   "id": "8f875984-2924-4717-a005-2a764b998d5d",
   "metadata": {},
   "source": [
    "Εύρεση αρχείων που περιλαμβάνουν το όνομά τους έχει την παρακάτω μορφή:\n",
    "\n",
    "    data_*_backup.txt\n",
    "    \n",
    "το αστεράκι (*) αντιπροσωπεύει οποιοδήποτε αριθμό χαρακτήρων μέσα στο όνομα.\n",
    "    \n"
   ]
  },
  {
   "cell_type": "code",
   "execution_count": 31,
   "id": "781656f5-57de-44ba-b7dc-20a20aacc571",
   "metadata": {},
   "outputs": [
    {
     "name": "stdout",
     "output_type": "stream",
     "text": [
      "data_02_backup.txt\n",
      "data_03_backup.txt\n",
      "data_01_backup.txt\n"
     ]
    }
   ],
   "source": [
    "for filename in os.listdir('./'):\n",
    "    if fnmatch.fnmatch(filename, 'data_*_backup.txt'):\n",
    "        print(filename)"
   ]
  },
  {
   "cell_type": "markdown",
   "id": "c70e26d2-4762-475e-94fb-6abf7c0f6100",
   "metadata": {},
   "source": [
    "Εναλλακτικά με την χρήση της μεθόδου glob()"
   ]
  },
  {
   "cell_type": "code",
   "execution_count": 32,
   "id": "6afd8ef8-5f74-4f0e-be2c-14a1a1f0ddb6",
   "metadata": {},
   "outputs": [
    {
     "name": "stdout",
     "output_type": "stream",
     "text": [
      "data_02_backup.txt\n",
      "data_03_backup.txt\n",
      "data_01_backup.txt\n"
     ]
    }
   ],
   "source": [
    "p = Path('.')\n",
    "for name in p.glob('data_*_backup.txt'):\n",
    "    print(name)"
   ]
  },
  {
   "cell_type": "code",
   "execution_count": 33,
   "id": "a1a1376f-19fa-4872-9d42-9d3661515e7e",
   "metadata": {},
   "outputs": [
    {
     "name": "stdout",
     "output_type": "stream",
     "text": [
      "data_02_backup.txt\n",
      "data_03_backup.txt\n",
      "data_01_backup.txt\n"
     ]
    }
   ],
   "source": [
    "p = Path('.')\n",
    "for name in p.glob('*[0-9]*backup.txt'):\n",
    "    print(name)"
   ]
  },
  {
   "cell_type": "markdown",
   "id": "f437f8af-a8e9-46f5-b23c-b4caa572e46d",
   "metadata": {},
   "source": [
    "Οι παραπάνω αναζητήσεις αφορούσαν το περιεχόμενο μόνο στον τρέχοντα κατάλογο και όχι ταυτόχρονα και στους υποκείμενους καταλόγους (child) που υπάρχουν μέσα σε αυτόν. Για να αναζητήσουμε διαδοχικά και σε αυτούς τους καταλόγους χρησιμοποιούμε το παρακάτω πρόθεμα πριν από το κριτήριο αναζήτησης **/"
   ]
  },
  {
   "cell_type": "code",
   "execution_count": 34,
   "id": "bf994f2a-03ab-4717-9634-fe2e8b153c90",
   "metadata": {},
   "outputs": [
    {
     "name": "stdout",
     "output_type": "stream",
     "text": [
      "file1.py\n",
      "tests.py\n",
      "admin.py\n",
      "admin2.py\n",
      "sub_dir2/file2.py\n",
      "sub_dir2/file1.py\n",
      "sub_dir/file2.py\n",
      "sub_dir/file1.py\n",
      "sub_dir3/file2.py\n",
      "sub_dir3/file1.py\n"
     ]
    }
   ],
   "source": [
    "# Append \"**/\" before the search term in pattern to recursively search this directory \n",
    "p = Path('.')\n",
    "for name in p.glob('**/*.py'):\n",
    "    print(name)"
   ]
  },
  {
   "cell_type": "code",
   "execution_count": 35,
   "id": "a62bda4d-4b92-4e33-b291-0866132fa5c9",
   "metadata": {},
   "outputs": [
    {
     "name": "stdout",
     "output_type": "stream",
     "text": [
      "file1.py\n",
      "sub_dir2/file1.py\n",
      "sub_dir/file1.py\n",
      "sub_dir3/file1.py\n"
     ]
    }
   ],
   "source": [
    "# αναζήτηση για ότι περιέχει f και 1 στο filename\n",
    "\n",
    "p = Path('.')\n",
    "for name in p.glob('**/f*1*'):\n",
    "    print(name)"
   ]
  },
  {
   "cell_type": "markdown",
   "id": "316d35dc-3bec-451b-b0f7-90771c870e7d",
   "metadata": {},
   "source": [
    "Για να ανατρέξουμε διαδοχικά σε όλους του φακέλους ενός καταλόγου χρησιμοποιούμε την μέθοδo os.walk"
   ]
  },
  {
   "cell_type": "code",
   "execution_count": 36,
   "id": "c27a69f5-ff3b-4e5c-87a6-452a4c854e93",
   "metadata": {},
   "outputs": [
    {
     "name": "stdout",
     "output_type": "stream",
     "text": [
      "Found directory: ./sub_dir2\n",
      "file2.py\n",
      "file1.py\n",
      "Found directory: ./sub_dir\n",
      "file2.py\n",
      "file1.py\n",
      "Found directory: ./sub_dir3\n",
      "file2.py\n",
      "file1.py\n",
      "Found directory: ./2018/10/05\n",
      "Found directory: ./2018/10\n",
      "Found directory: ./2018\n",
      "Found directory: ./example_directory\n",
      "Found directory: .\n",
      "dog_breeds_reversed.txt\n",
      "data_02.txt\n",
      "foo.txt\n",
      "data_02_backup.txt\n",
      "data_03_backup.txt\n",
      "data_01_backup.txt\n",
      "dog_breeds.txt\n",
      "pickle.txt\n",
      "file1.py\n",
      "data_03.txt\n",
      "data_01.txt\n",
      "tests.py\n",
      "admin.py\n",
      "admin2.py\n"
     ]
    }
   ],
   "source": [
    "# walk\n",
    "# Walking a directory tree and printing the names of the directories and files\n",
    "for dirpath, dirnames, files in os.walk('.', topdown=False):\n",
    "    print(f'Found directory: {dirpath}')\n",
    "    for file_name in files:\n",
    "        print(file_name)"
   ]
  },
  {
   "cell_type": "markdown",
   "id": "632c8e1e-5dff-49e8-a5d8-6f781edeba04",
   "metadata": {},
   "source": [
    "Με την python μπορούμε να δημιουργήσουμε προσωρινά αρχεία και καταλόγους οι οποιού παύουν να υπάρχουν μετά την εκτέλεση του κώδικα. Αυτό γίνεται με την βοήθεια του αρθρώματος (module) tempfile και της συνάρτησης  TemporaryFile() και TemporaryDirectory()"
   ]
  },
  {
   "cell_type": "code",
   "execution_count": 37,
   "id": "9fc21b37-f008-43df-9016-5079ea5303c9",
   "metadata": {},
   "outputs": [
    {
     "name": "stdout",
     "output_type": "stream",
     "text": [
      "Hello universe!\n"
     ]
    }
   ],
   "source": [
    "from tempfile import TemporaryFile\n",
    "\n",
    "# temporary files\n",
    "with TemporaryFile('w+t') as fp:\n",
    "    fp.write('Hello universe!')\n",
    "    fp.seek(0)\n",
    "    print(fp.read())\n",
    "# File is now closed and removed"
   ]
  },
  {
   "cell_type": "code",
   "execution_count": 38,
   "id": "15000bfb-f313-4e5b-9b3a-820fb56febb5",
   "metadata": {},
   "outputs": [],
   "source": [
    "#fp.seek(0)\n",
    "#print(fp.read())"
   ]
  },
  {
   "cell_type": "code",
   "execution_count": 39,
   "id": "fa5bd6db-0fbe-4d85-aa33-c7c3081dc1b1",
   "metadata": {},
   "outputs": [
    {
     "name": "stdout",
     "output_type": "stream",
     "text": [
      "Created temporary directory  /tmp/tmpq28ebwhq\n"
     ]
    }
   ],
   "source": [
    "with TemporaryDirectory() as tmpdir:\n",
    "    print('Created temporary directory ', tmpdir)\n",
    "    os.path.exists(tmpdir)\n",
    "\n",
    "\n",
    "# Directory contents have been removed\n",
    "\n"
   ]
  },
  {
   "cell_type": "code",
   "execution_count": 40,
   "id": "fe6ccba6-ca01-4936-bb6e-ea9e3baf4c1f",
   "metadata": {},
   "outputs": [
    {
     "data": {
      "text/plain": [
       "'/tmp/tmpq28ebwhq'"
      ]
     },
     "execution_count": 40,
     "metadata": {},
     "output_type": "execute_result"
    }
   ],
   "source": [
    "tmpdir\n"
   ]
  },
  {
   "cell_type": "code",
   "execution_count": 41,
   "id": "5456ca57-3932-4bca-a99d-32c50a8d2671",
   "metadata": {},
   "outputs": [
    {
     "data": {
      "text/plain": [
       "False"
      ]
     },
     "execution_count": 41,
     "metadata": {},
     "output_type": "execute_result"
    }
   ],
   "source": [
    "\n",
    "os.path.exists(tmpdir)"
   ]
  },
  {
   "cell_type": "markdown",
   "id": "e91ee967-8002-40a2-ad87-9a3d662541aa",
   "metadata": {},
   "source": [
    "## Διαγραφή αρχείων και φακέλων"
   ]
  },
  {
   "cell_type": "markdown",
   "id": "8438f193-7d41-403e-be08-f3260783de51",
   "metadata": {},
   "source": [
    "Με την μέθοδο unlink() μπορούμε να διαγράψουμε έναν **άδειο** κατάλογο ή ένα αρχείο."
   ]
  },
  {
   "cell_type": "code",
   "execution_count": 42,
   "id": "cc3fe7a2-d05e-4dfc-be3c-b74afdf7d307",
   "metadata": {},
   "outputs": [
    {
     "name": "stdout",
     "output_type": "stream",
     "text": [
      "Το αρχείο δεν υπάρχει\n"
     ]
    }
   ],
   "source": [
    "data_file = Path('./data_04.txt')\n",
    "\n",
    "if data_file.is_file():\n",
    "    print (\"Το αρχείο υπάρχει και θα διαγραφεί\")\n",
    "    data_file.unlink()\n",
    "else:\n",
    "    print (\"Το αρχείο δεν υπάρχει\")\n",
    "\n"
   ]
  },
  {
   "cell_type": "code",
   "execution_count": 43,
   "id": "94d0e77a-e901-464a-bd5b-735d779737dd",
   "metadata": {},
   "outputs": [
    {
     "name": "stdout",
     "output_type": "stream",
     "text": [
      "Το directory δεν υπάρχει\n"
     ]
    }
   ],
   "source": [
    "# διαγραφή άδειου φακέλου\n",
    "my_dir = Path('./tmp')\n",
    "\n",
    "if my_dir.is_dir():\n",
    "    print (\"Το directory υπάρχει και θα διαγραφεί\")\n",
    "    my_dir.rmdir()\n",
    "else:\n",
    "    print (\"Το directory δεν υπάρχει\")\n"
   ]
  },
  {
   "cell_type": "markdown",
   "id": "22a01157-b53a-44f6-9bc3-5fab66e0d610",
   "metadata": {},
   "source": [
    "Αν θέλουμε να διαγράψουμε έναν κατάλογο με περιεχόμενα τότε χρησιμοποιούμε η συνάρτηση rmtree() από την βιβλιοθήκη shutil."
   ]
  },
  {
   "cell_type": "code",
   "execution_count": 44,
   "id": "aa7dbfb5-0e46-46dc-be69-ccf58ea6f154",
   "metadata": {},
   "outputs": [],
   "source": [
    "# διαγραφή φακέλου με περιεχόμενα\n",
    "\n",
    "dest = Path('./tmp2')\n",
    "shutil.rmtree(dest, ignore_errors=True)"
   ]
  },
  {
   "cell_type": "markdown",
   "id": "4927b256-2a03-4875-bca4-f5abfb2f1d02",
   "metadata": {},
   "source": [
    "## Αντιγραφή αρχείων και φακέλων"
   ]
  },
  {
   "cell_type": "markdown",
   "id": "b5b0d8af-1fcf-42cd-aa0f-d9da9b208209",
   "metadata": {},
   "source": [
    "Ταυτόχρονα μπορούμε να αντιγράψουμε αρχεία με την συνάρτηση copy() πάλι από το άρθρωμα shutil."
   ]
  },
  {
   "cell_type": "code",
   "execution_count": 45,
   "id": "57688298-d673-4924-b465-1001665a5679",
   "metadata": {},
   "outputs": [
    {
     "data": {
      "text/plain": [
       "'admin2.py'"
      ]
     },
     "execution_count": 45,
     "metadata": {},
     "output_type": "execute_result"
    }
   ],
   "source": [
    "# Αντιγραφή αρχείου\n",
    "\n",
    "src = 'admin.py'\n",
    "dst = 'admin2.py'\n",
    "shutil.copy(src, dst)"
   ]
  },
  {
   "cell_type": "markdown",
   "id": "401ee043-fe70-449f-a745-7972c2ae56b7",
   "metadata": {},
   "source": [
    "ή ολόκληρους καταλόγους μέσω της συνάρτησης copytree() πάλι από το ίδιο άρθρωμα."
   ]
  },
  {
   "cell_type": "code",
   "execution_count": 46,
   "id": "e12730ea-1133-4d5c-a920-f070f46c0da2",
   "metadata": {},
   "outputs": [
    {
     "data": {
      "text/plain": [
       "'sub_dir3'"
      ]
     },
     "execution_count": 46,
     "metadata": {},
     "output_type": "execute_result"
    }
   ],
   "source": [
    "shutil.copytree('sub_dir', 'sub_dir3', dirs_exist_ok=True)"
   ]
  },
  {
   "cell_type": "markdown",
   "id": "ea833d06-0876-4bdf-b6c6-eabf66160799",
   "metadata": {},
   "source": [
    "## Μετακίνηση"
   ]
  },
  {
   "cell_type": "markdown",
   "id": "2a1c1411-ee07-429d-8d4e-0f0c2d5d384f",
   "metadata": {},
   "source": [
    "ή ακόμα και να μετακινήσουμε αρχεία και καταλόγους με την συναρτηση move()"
   ]
  },
  {
   "cell_type": "code",
   "execution_count": 47,
   "id": "3257ffcb-e7f7-4f63-a7b0-ab815372bf55",
   "metadata": {},
   "outputs": [
    {
     "name": "stdout",
     "output_type": "stream",
     "text": [
      "File does not exist\n"
     ]
    }
   ],
   "source": [
    "try:\n",
    "    shutil.move('data_04.txt', 'sub_dir/data_04.txt')\n",
    "except FileNotFoundError:\n",
    "    print(\"File does not exist\")"
   ]
  },
  {
   "cell_type": "code",
   "execution_count": 48,
   "id": "57a8e47b-1cdb-4a69-bba7-ede08fb8b24a",
   "metadata": {},
   "outputs": [
    {
     "name": "stdout",
     "output_type": "stream",
     "text": [
      "File does not exist\n"
     ]
    }
   ],
   "source": [
    "# μετακίνηση αρχείου και μάλιστα με μετονομασία κατά την μετακίνηση data_04.txt -> data_05.txt\n",
    "\n",
    "try:\n",
    "    shutil.move('sub_dir/data_04.txt', 'data_05.txt' )\n",
    "except FileNotFoundError:\n",
    "    print(\"File does not exist\")"
   ]
  },
  {
   "cell_type": "code",
   "execution_count": 49,
   "id": "de6c096b-7e46-45ac-81d9-c33f3c6e5462",
   "metadata": {},
   "outputs": [
    {
     "name": "stdout",
     "output_type": "stream",
     "text": [
      "Directory does not exist\n"
     ]
    }
   ],
   "source": [
    "# μετακίνηση φακέλου\n",
    "\n",
    "try:\n",
    "    shutil.move('tmp2', 'tmp/tmp2') \n",
    "except FileNotFoundError:\n",
    "    print(\"Directory does not exist\")"
   ]
  },
  {
   "cell_type": "code",
   "execution_count": 50,
   "id": "6256a0d1-ffc3-4129-aa17-82d89779cfb1",
   "metadata": {},
   "outputs": [
    {
     "name": "stdout",
     "output_type": "stream",
     "text": [
      "Directory does not exist\n"
     ]
    }
   ],
   "source": [
    "# επιστροφή στην θέση του \n",
    "try:\n",
    "    shutil.move('tmp/tmp2','tmp2')\n",
    "except FileNotFoundError:\n",
    "    print(\"Directory does not exist\")"
   ]
  },
  {
   "cell_type": "markdown",
   "id": "2bcba994-999f-4de0-a052-4d5ce691ca69",
   "metadata": {},
   "source": [
    "## Μετονομασία\n",
    "Με την χρήση της μεθόδου rename() σε έναν Path αντικείμενο μπορούμε να το μετονομάσουμε."
   ]
  },
  {
   "cell_type": "code",
   "execution_count": 51,
   "id": "45866126-90a7-4631-b714-ad0818192433",
   "metadata": {},
   "outputs": [
    {
     "data": {
      "text/plain": [
       "PosixPath('data.txt')"
      ]
     },
     "execution_count": 51,
     "metadata": {},
     "output_type": "execute_result"
    }
   ],
   "source": [
    "# αρχείου\n",
    "data_file = Path('data_01.txt')\n",
    "data_file.rename('data.txt')"
   ]
  },
  {
   "cell_type": "code",
   "execution_count": 52,
   "id": "88c95e2e-071e-49ab-9a32-8b21ccbf9f4e",
   "metadata": {},
   "outputs": [
    {
     "data": {
      "text/plain": [
       "PosixPath('data_01.txt')"
      ]
     },
     "execution_count": 52,
     "metadata": {},
     "output_type": "execute_result"
    }
   ],
   "source": [
    "# ξανά όπως ήταν\n",
    "data_file = Path('data.txt')\n",
    "data_file.rename('data_01.txt')"
   ]
  },
  {
   "cell_type": "markdown",
   "id": "c2f8bd78-a499-4b7d-8fe6-bb21d0afc547",
   "metadata": {},
   "source": [
    "## Βιβλιογραφία"
   ]
  },
  {
   "cell_type": "markdown",
   "id": "0f75badf-3d2c-4829-aba5-22dd789ee13e",
   "metadata": {},
   "source": [
    "- Aγγελιδάκης, Ν., 2015. Εισαγωγή στον προγραμματισμό με την Python. Αγγελιδάκης, Ηράκλειο.\n",
    "- Working With Files in Python, https://realpython.com/read-write-files-python/, Πρόσβαση: 13/05/2022\n",
    "- Reading and Writing Files in Python, https://realpython.com/read-write-files-python, Πρόσβαση: 13/05/2022"
   ]
  }
 ],
 "metadata": {
  "kernelspec": {
   "display_name": "Python 3",
   "language": "python",
   "name": "python3"
  },
  "language_info": {
   "codemirror_mode": {
    "name": "ipython",
    "version": 3
   },
   "file_extension": ".py",
   "mimetype": "text/x-python",
   "name": "python",
   "nbconvert_exporter": "python",
   "pygments_lexer": "ipython3",
   "version": "3.10.2"
  }
 },
 "nbformat": 4,
 "nbformat_minor": 5
}