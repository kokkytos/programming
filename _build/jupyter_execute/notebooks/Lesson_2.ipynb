{
 "cells": [
  {
   "cell_type": "markdown",
   "id": "cd0ee20e",
   "metadata": {},
   "source": [
    "# 2.  Τιμές, τύποι και μεταβλητές. Συμβολοσειρές"
   ]
  },
  {
   "cell_type": "markdown",
   "id": "9bd148e5",
   "metadata": {},
   "source": [
    "## Σταθερές (Constants)\n",
    "\n",
    "H Python δεν διαθέτει προκαθορισμένες *σταθερές* όπως άλλες γλώσσες προγραμματισμού.\n",
    "Όμως κατά σύμβαση και όχι κατά κανόνα έχει συμφωνηθεί οι *σταθερές* να ονοματίζονται με κεφαλαίους χαρακτήρες.\n",
    "Η αδυναμία της Python στην περίπτωση της δήλωσης *σταθερών* είναι ότι επιτρέπεται η αλλαγή των τιμών τους\n",
    "Παρακάτω παρατίθεται ένα παράδειγμα δήλωσης *σταθερών*."
   ]
  },
  {
   "cell_type": "code",
   "execution_count": 1,
   "id": "13cb0346",
   "metadata": {},
   "outputs": [],
   "source": [
    "RATIO_FEET_TO_METERS = 3.281\n",
    "RATIO_LB_TO_KG = 2.205\n",
    "PI = 3.14"
   ]
  },
  {
   "cell_type": "markdown",
   "id": "1ad99236",
   "metadata": {},
   "source": [
    "## Κυριολεκτικές σταθερές (literal constants)\n",
    "\n",
    "Η κυριολεκτική *σταθερά* ή τιμή είναι ένας αριθμός, ή χαρακτήρας ή μιά συμβολοσειρά. Για παράδειγμα τα παρακάτω\n",
    "αποτελούν τιμές: *3.25* (στην python η υποδιαστολή ορίζεται με . και όχι ,), *\"ένα τυχαίο κείμενο\"*,  *5.25e-1*.\n",
    "Αυτές οι τιμές δεν μεταβάλλονται κατά τη διάρκεια εκτέλεσης του προγράμματος γι' αυτό και λέγονται σταθερές. Μπορούν να εκχωρηθούν σε μεταβλητές\n",
    "και να χρησιμοποιηθούν σαν τελεστέοι σε λογικές εκφράσεις ή σαν παραμέτροι σε συναρτήσεις. \n"
   ]
  },
  {
   "cell_type": "markdown",
   "id": "d6d1b7bc",
   "metadata": {
    "tags": []
   },
   "source": [
    "## Τύποι δεδομένων\n",
    "\n",
    "Οι τιμές ανήκουν σε τρεις τύπους δεδομένων (data types) ή κλάσσεις (class):\n",
    "- τους ακέραιους αριθμούς (integer) π.χ. το 15 \n",
    "- τους αριθμούς κινητής υποδιαστολής (floating point) π.χ. το 201.25)\n",
    "- τις συμβολοσειρές (string) π.χ. το \"Time is money\""
   ]
  },
  {
   "cell_type": "markdown",
   "id": "113c6d8e",
   "metadata": {},
   "source": [
    "Με την εντολή `type` ο διερμηνευτής μας απαντάει με τον τύπο της τιμής, όπως παρακάτω:"
   ]
  },
  {
   "cell_type": "code",
   "execution_count": 2,
   "id": "4a79174b",
   "metadata": {},
   "outputs": [
    {
     "data": {
      "text/plain": [
       "str"
      ]
     },
     "execution_count": 2,
     "metadata": {},
     "output_type": "execute_result"
    }
   ],
   "source": [
    "type(\"No news, good news.\")"
   ]
  },
  {
   "cell_type": "markdown",
   "id": "945075a8",
   "metadata": {},
   "source": [
    "Η Python είναι *Dynamic typing* δηλαδή δεν ο τύπος των μεταβλητών δεν προκαθορίζεται κατά την συγγραφή αλλά κατά την εκτέλεση."
   ]
  },
  {
   "cell_type": "markdown",
   "id": "4e30cf21",
   "metadata": {},
   "source": [
    "## Κανόνες ονοματοδοσίας μεταβλητών\n",
    "\n",
    "Τα ονόματα των μεταβλητών στην Python υπακούουν στους παρακάτω κανόνες:\n",
    "- Το όνομα μίας μεταβλητής μπορεί να ξεκινά από ένα γράμμα ή από κάτω πάυλα.\n",
    "- Το όνομα μίας μεταβλητής δεν μπορεί με αριθμό.\n",
    "- Το όνομα μίας μεταβλητής μπορεί να περιέχει μόνο αλφαριθμητικούς χαρακτήρες.\n",
    "- Στα ονόματα των μεταβλήτών γίνεται διάκριση ανάμεσα σε πεζά και κεφαλαία (case sensitive).\n",
    "- Οι δεσμευμένες λέξεις της Python (keywords) δεν μπορούν να χρησιμοποιηθούν σε ονόματα μεταβλητών."
   ]
  },
  {
   "cell_type": "markdown",
   "id": "dea53748",
   "metadata": {},
   "source": [
    "## Συμβολοσειρές (Strings) \n",
    "Μια συμβολοσειρά είναι μια ακολουθία από χαρακτήρες όπως το `\"Το πεπρωμένον φυγείν αδύνατον.\"`.\n",
    "Μπορεί να είναι σε κάθε γλώσσα που υποστηρίζεται από το πρώτυπου Unicode. Οι συμβολοσειρές περικλείονται σε μονά, διπλά ή τριπλά εισαγωγικά. \n",
    "Με τριπλά εισαγωγικά μπορούν να ενσωματωθούν με ευκολία συμβολοσειρές σε πολλές γραμμές και πολλαπλά εισαγωγικά εντός αυτόν.\n",
    "Ακολουθούν παραδείγματα συμβολοσειρά."
   ]
  },
  {
   "cell_type": "raw",
   "id": "1836380a",
   "metadata": {},
   "source": [
    "\"My name is Bond, James Bond.\"\n",
    "\n",
    "'There is no smoke without fire'\n",
    "\n",
    "\n",
    "\n",
    "'''\n",
    "No bees no honey, no work no money.\n",
    "A little is better than none\n",
    "What’s done cannot be undone\n",
    "'''"
   ]
  },
  {
   "cell_type": "markdown",
   "id": "1b626376",
   "metadata": {},
   "source": [
    "## Χαρακτήρες διαφυγής,κενά, νέες γραμμές"
   ]
  },
  {
   "cell_type": "markdown",
   "id": "67c66d50",
   "metadata": {},
   "source": [
    "Μπορούμε να σπάσουμε μια συμβολοσειρά κατά την συγγραφή σε νέα γραμμή με τον χαρακτήρα `\\` και κατά την εκτέλεση με τον χαρακτήρα `\\n` π.χ."
   ]
  },
  {
   "cell_type": "code",
   "execution_count": 3,
   "id": "cc7734d5",
   "metadata": {},
   "outputs": [
    {
     "name": "stdout",
     "output_type": "stream",
     "text": [
      "There is no smoke without fire\n"
     ]
    }
   ],
   "source": [
    "message = 'There is no smoke \\\n",
    "without fire'\n",
    "\n",
    "print(message)"
   ]
  },
  {
   "cell_type": "code",
   "execution_count": 4,
   "id": "7ff9a161",
   "metadata": {},
   "outputs": [
    {
     "name": "stdout",
     "output_type": "stream",
     "text": [
      "There is no smoke \n",
      "without fire\n"
     ]
    }
   ],
   "source": [
    "message = 'There is no smoke \\nwithout fire'\n",
    "\n",
    "print(message)"
   ]
  },
  {
   "cell_type": "markdown",
   "id": "de633209",
   "metadata": {},
   "source": [
    "Ή να ορίσουμε κενά με το `\\t`"
   ]
  },
  {
   "cell_type": "code",
   "execution_count": 5,
   "id": "0c3672c8",
   "metadata": {},
   "outputs": [
    {
     "name": "stdout",
     "output_type": "stream",
     "text": [
      "There is no smoke \twithout fire\n"
     ]
    }
   ],
   "source": [
    "message = 'There is no smoke \\twithout fire'\n",
    "print(message)"
   ]
  },
  {
   "cell_type": "markdown",
   "id": "b6a620cf",
   "metadata": {},
   "source": [
    "Ο χαρακτήρας `\\` είναι χαρακτήρας διαφυγής που απενεργοποιεί την ειδική λειτουργία των παραπάνω ή την παράθεση εισαγωγικών μεσα σε εισαγωγικά."
   ]
  },
  {
   "cell_type": "code",
   "execution_count": 6,
   "id": "006c91d6",
   "metadata": {},
   "outputs": [
    {
     "name": "stdout",
     "output_type": "stream",
     "text": [
      "There is no smoke \\n without fire\n"
     ]
    }
   ],
   "source": [
    "print('There is no smoke \\\\n without fire')"
   ]
  },
  {
   "cell_type": "code",
   "execution_count": 7,
   "id": "74c5ebfb",
   "metadata": {},
   "outputs": [
    {
     "name": "stdout",
     "output_type": "stream",
     "text": [
      "Where there's a will, there's a way\n"
     ]
    }
   ],
   "source": [
    "print('Where there\\'s a will, there\\'s a way')"
   ]
  },
  {
   "cell_type": "markdown",
   "id": "d554d278",
   "metadata": {},
   "source": [
    "## Ανεπεξέργαστες συμβολοσειρές (Raw Strings)\n",
    "Παρόμοιο αποτέλεσμα με τα παραπάνω πετυχαίνουμε τις ανεπεξέργαστες συμβολοσειρές οι οποίες ορίζονται με ένα r σαν πρόθεμα"
   ]
  },
  {
   "cell_type": "code",
   "execution_count": 8,
   "id": "720d6869",
   "metadata": {},
   "outputs": [
    {
     "name": "stdout",
     "output_type": "stream",
     "text": [
      "It was made by \\n συνέχεια\n"
     ]
    }
   ],
   "source": [
    "print(r\"It was made by \\n συνέχεια\")"
   ]
  },
  {
   "cell_type": "markdown",
   "id": "9bd2b5b4",
   "metadata": {},
   "source": [
    "## Αφαίρεση κενών\n",
    "Σε αρκετές περιπτώσεις οι συμβολοσειρές περιέχουν κενά είτε στην αρχή είτε στο τέλος.\n",
    "Για παράδειγμα οι παρακάτω συμβολοσειρές δεν είναι το ίδιες για την Python. Και επιβεβαιώνεται σε μέσω ελέγχου ισότητας."
   ]
  },
  {
   "cell_type": "code",
   "execution_count": 9,
   "id": "f92ec52a",
   "metadata": {},
   "outputs": [
    {
     "name": "stdout",
     "output_type": "stream",
     "text": [
      "False\n"
     ]
    }
   ],
   "source": [
    "departmentA='ΤΜΧΠΑ'\n",
    "departmentB = ' ΤΜΧΠΑ '\n",
    "print(departmentA == departmentB) #not equal"
   ]
  },
  {
   "cell_type": "markdown",
   "id": "233c4557",
   "metadata": {},
   "source": [
    "Για την αφαίρεση των κένων αριστερά, δεξιά ή ταυτόχρονα και στις δύο πλευρές της συμβολοσειρας χρησιμοποιούμε την μέθοδο `strip` και τις παραλλαγές της `rstrip` και `lstrip` "
   ]
  },
  {
   "cell_type": "code",
   "execution_count": 10,
   "id": "d71e20ff",
   "metadata": {},
   "outputs": [
    {
     "name": "stdout",
     "output_type": "stream",
     "text": [
      " ΤΜΧΠΑ\n",
      "ΤΜΧΠΑ \n",
      "ΤΜΧΠΑ\n"
     ]
    }
   ],
   "source": [
    "print(departmentB.rstrip())\n",
    "print(departmentB.lstrip())\n",
    "print(departmentB.strip())"
   ]
  },
  {
   "cell_type": "markdown",
   "id": "578102ac",
   "metadata": {},
   "source": [
    "## Συνένωση (Concatenation) συμβολοσειρών\n",
    "\n",
    "Η απλή παράθεση συμβολοσειρών οδηγεί στην συνενωσή τους δηλ."
   ]
  },
  {
   "cell_type": "code",
   "execution_count": 11,
   "id": "c7f5d2f2",
   "metadata": {},
   "outputs": [
    {
     "name": "stdout",
     "output_type": "stream",
     "text": [
      "Curiosity killed the cat\n"
     ]
    }
   ],
   "source": [
    "message = \"Curiosity \" \"killed \" 'the ' '''cat'''\n",
    "print(message)"
   ]
  },
  {
   "cell_type": "markdown",
   "id": "6cc0478c",
   "metadata": {},
   "source": [
    "## Συνένωση συμβολοσειρών και μεταβλητών\n",
    "\n",
    "Η συνένωση μεταβλητών και συμβολοσειρών γίνεται με τον τελεστη `+`."
   ]
  },
  {
   "cell_type": "code",
   "execution_count": 12,
   "id": "a2dcf894",
   "metadata": {},
   "outputs": [
    {
     "name": "stdout",
     "output_type": "stream",
     "text": [
      "O Βόλος είναι πόλη της Ελλάδα στην Θεσσαλία\n"
     ]
    }
   ],
   "source": [
    "\n",
    "city='Βόλος'\n",
    "perifereia='Θεσσαλία'\n",
    "\n",
    "print('O '+city+' είναι πόλη της Ελλάδα στην ' +perifereia)"
   ]
  },
  {
   "cell_type": "markdown",
   "id": "494b7ee3",
   "metadata": {},
   "source": [
    "## Η μέθοδος format\n",
    "Άλλη μια πιο πρακτική μέθοδος κατά την συννένωση μεταβλητών και συμβολοσειρών είναι η μέθοδος format.\n"
   ]
  },
  {
   "cell_type": "code",
   "execution_count": 13,
   "id": "038ff161",
   "metadata": {},
   "outputs": [
    {
     "name": "stdout",
     "output_type": "stream",
     "text": [
      "O Όλυμπος έχει υψόμετρο 2918 μέτρα\n",
      "O Όλυμπος έχει υψόμετρο 2918 μέτρα\n",
      "O Σμόλικας έχει υψόμετρο 2637 μέτρα\n"
     ]
    }
   ],
   "source": [
    "print('O {0} έχει υψόμετρο {1} μέτρα'.format(\"Όλυμπος\", 2918))\n",
    "print('O {} έχει υψόμετρο {} μέτρα'.format(\"Όλυμπος\", 2918))\n",
    "print('O {name} έχει υψόμετρο {height} μέτρα'.format(name=\"Σμόλικας\", height= 2637 ))"
   ]
  },
  {
   "cell_type": "markdown",
   "id": "c27491eb",
   "metadata": {
    "tags": []
   },
   "source": [
    "## Δεσμευμένες λέξεις (reserved words)\n",
    "Ορισμένες λέξεις έχουν ιδιαίτερη σημασία για την python και δεν μπορούν να χρησιμοποιηθούν σαν ονόματα μεταβλητών. Τα παρακάτω κομμάτια κώδικα θα εκδηλώσουν σφάλμα μεταγλώττισης."
   ]
  },
  {
   "cell_type": "raw",
   "id": "fc96017f",
   "metadata": {},
   "source": [
    "class=\"Πρώτο εξάμηνο\""
   ]
  },
  {
   "cell_type": "raw",
   "id": "2ae013dc",
   "metadata": {},
   "source": [
    "break='Πότε θα κάνουμε διάλειμμα;'"
   ]
  },
  {
   "cell_type": "markdown",
   "id": "5e57c991",
   "metadata": {},
   "source": [
    "Πρόκειται για 33 λέξεις στην τρέχουσα έκδοση της Python.\n",
    "Μπορούμε να δούμε ποιές είναι αυτές οι δεσμεύνες λέξεις με την παρακάτω εντολή:"
   ]
  },
  {
   "cell_type": "code",
   "execution_count": 14,
   "id": "28434cd5",
   "metadata": {},
   "outputs": [
    {
     "name": "stdout",
     "output_type": "stream",
     "text": [
      "\n",
      "Here is a list of the Python keywords.  Enter any keyword to get more help.\n",
      "\n",
      "False               break               for                 not\n",
      "None                class               from                or\n",
      "True                continue            global              pass\n",
      "__peg_parser__      def                 if                  raise\n",
      "and                 del                 import              return\n",
      "as                  elif                in                  try\n",
      "assert              else                is                  while\n",
      "async               except              lambda              with\n",
      "await               finally             nonlocal            yield\n",
      "\n"
     ]
    }
   ],
   "source": [
    "help(\"keywords\") "
   ]
  },
  {
   "cell_type": "markdown",
   "id": "ab9d1a45",
   "metadata": {},
   "source": [
    "## Η εντολή help"
   ]
  },
  {
   "cell_type": "markdown",
   "id": "99699ccb",
   "metadata": {},
   "source": [
    "Γενικά με την εντολή `help` καλούμε για βοήθεια και πληροφορίες την Python:"
   ]
  },
  {
   "cell_type": "code",
   "execution_count": 15,
   "id": "35716d89",
   "metadata": {},
   "outputs": [
    {
     "name": "stdout",
     "output_type": "stream",
     "text": [
      "Help on built-in function print in module builtins:\n",
      "\n",
      "print(...)\n",
      "    print(value, ..., sep=' ', end='\\n', file=sys.stdout, flush=False)\n",
      "    \n",
      "    Prints the values to a stream, or to sys.stdout by default.\n",
      "    Optional keyword arguments:\n",
      "    file:  a file-like object (stream); defaults to the current sys.stdout.\n",
      "    sep:   string inserted between values, default a space.\n",
      "    end:   string appended after the last value, default a newline.\n",
      "    flush: whether to forcibly flush the stream.\n",
      "\n"
     ]
    }
   ],
   "source": [
    "help(print)"
   ]
  },
  {
   "cell_type": "code",
   "execution_count": 16,
   "id": "f4307234",
   "metadata": {},
   "outputs": [
    {
     "name": "stdout",
     "output_type": "stream",
     "text": [
      "Help on built-in function abs in module builtins:\n",
      "\n",
      "abs(x, /)\n",
      "    Return the absolute value of the argument.\n",
      "\n"
     ]
    }
   ],
   "source": [
    "help(abs)"
   ]
  },
  {
   "cell_type": "code",
   "execution_count": 17,
   "id": "ce6313a9",
   "metadata": {},
   "outputs": [
    {
     "name": "stdout",
     "output_type": "stream",
     "text": [
      "Help on built-in function max in module builtins:\n",
      "\n",
      "max(...)\n",
      "    max(iterable, *[, default=obj, key=func]) -> value\n",
      "    max(arg1, arg2, *args, *[, key=func]) -> value\n",
      "    \n",
      "    With a single iterable argument, return its biggest item. The\n",
      "    default keyword-only argument specifies an object to return if\n",
      "    the provided iterable is empty.\n",
      "    With two or more arguments, return the largest argument.\n",
      "\n"
     ]
    }
   ],
   "source": [
    "help(max)"
   ]
  },
  {
   "cell_type": "markdown",
   "id": "9d715ed6",
   "metadata": {},
   "source": [
    "## Αλλαγή Πεζών Κεφαλαίων (Convert case)\n",
    "Μπορούμε να κάνουμε αλλαγή ανάμεσα σε κεφαλαία και πεζά με τις παρακάτω μεθόδους συμβολοσειρών:`upper()`, `title()`, `lower()`.\n",
    "Αξίζει να σημειώσουμε ότι οι μέθοδοι αυτές δεν έχουν επίδραση στην μεταβλητή που τις καλούμε αλλά πρέπει να επαναεκχωρήσουμε το αποτέλεσμα της μεθόδου στην μεταβλητή με το ίδιο όνομα."
   ]
  },
  {
   "cell_type": "code",
   "execution_count": 18,
   "id": "a62bf635",
   "metadata": {},
   "outputs": [
    {
     "name": "stdout",
     "output_type": "stream",
     "text": [
      "ΆΓΙΟΣ ΝΙΚΌΛΑΟΣ\n",
      "άγιος νικόλαος\n",
      "Άγιος Νικόλαος\n",
      "αγία ελένη\n",
      "ΆΓΙΟΣ ΝΙΚΌΛΑΟΣ\n"
     ]
    }
   ],
   "source": [
    "agios=\"άγιος νικόλαος\"\n",
    "\n",
    "print(agios.upper())\n",
    "print(agios) # ο agios παραμένει \"άγιος νικόλαος\"\n",
    "\n",
    "print(agios.title())\n",
    "print('ΑΓΊΑ ΕΛΈΝΗ'.lower())\n",
    "\n",
    "agios = agios.upper()\n",
    "print(agios) # ο agios μετά την εκχώρηση στην ίδια μεταβλητή γινεται ΆΓΙΟΣ ΝΙΚΌΛΑΟΣ"
   ]
  },
  {
   "cell_type": "markdown",
   "id": "c03080bc",
   "metadata": {},
   "source": [
    "## Οι συμβολοσειρές είναι μη μεταβαλλόμενη δομή δεδομένων\n",
    "Οι συμβολοσειρές αποτελούνται από ακολουθίες χαρακτήρων με σταθερό μέγεθος\n",
    "και μη μεταβαλλόμενα περιεχόμενα. Αυτό σημαίνει ότι δεν είναι δυνατόν να προστίθενται ή να αφαιρούνται\n",
    "χαρακτήρες, ούτε να τροποποιούνται τα περιεχόμενα του αλφαριθμητικού. \n",
    "Πρόκειται για μια μη μεταβαλλόμενη (immutable) δομή της Python.\n",
    "Η αρίθμηση των χαρακτήρων σε ένα αλφαριθμητικό ξεκινάει από το 0. \n",
    "\n",
    "Έτσι στην συμβολοσειρά `country = Ελλάδα` έχουμε:\n",
    "\n",
    "`country[0]` → Ε (η αρίθμηση ξεκινά από το 0)\n",
    "\n",
    "`country[1]` → λ\n",
    "\n",
    "`country[2]` → λ\n",
    "\n",
    "`country[3]` → ά\n",
    "\n",
    "`country[4]` → δ\n",
    "\n",
    "`country[5]` → α\n",
    "\n",
    "Η παραπάνω συμβολοσειρά έχει μήκος 6 χαρακτήρες."
   ]
  },
  {
   "cell_type": "markdown",
   "id": "ac70354e",
   "metadata": {},
   "source": [
    "## Μήκος συμβολοσειράς\n",
    "Μέσω της συνάρτησης `len` η Python μας επιστρέφει το μήκος συμβολοσειράς δηλαδή το πλήθος των χαρακτήρων (μαζί με τα κενά) από τους οποιούς αποτελείται."
   ]
  },
  {
   "cell_type": "code",
   "execution_count": 19,
   "id": "fa5a1b3f",
   "metadata": {},
   "outputs": [
    {
     "data": {
      "text/plain": [
       "14"
      ]
     },
     "execution_count": 19,
     "metadata": {},
     "output_type": "execute_result"
    }
   ],
   "source": [
    "message = 'Ή τώρα ή ποτέ.'\n",
    "len(message)"
   ]
  },
  {
   "cell_type": "markdown",
   "id": "234e6ab9",
   "metadata": {},
   "source": [
    "## Η μέθοδος find\n",
    "Η μέθοδος `find` μας επιτρέπει να αναζητήσουμε μια συμβολοσειρά μέσα σε μια άλλη συμβολοσειρά. \n",
    "Η μέθοδος μας επιστρέφει την τοποθεσία από την ξεκινάει η αναζητούμενη συμβολοσειρά δηλαδή τον δείκτη (index) στην οποία εντοπίζεται\n",
    "ο πρώτος χαρακτηρας της αναζητούμενης συμβολοσειράς μέσα στα περιεχόμενα της αρχικής συμβολοσειράς.\n",
    "Στην παρακάτω συμβολοσειρά θα αναζητήσουμε την λέξη `ποτέ`."
   ]
  },
  {
   "cell_type": "code",
   "execution_count": 20,
   "id": "c0fb1676",
   "metadata": {},
   "outputs": [],
   "source": [
    "stixos = 'Η Ελλάδα ποτέ δεν πεθαίνει'\n",
    "index = stixos.find('ποτέ')\n"
   ]
  },
  {
   "cell_type": "markdown",
   "id": "b9fba81b",
   "metadata": {},
   "source": [
    "Κανονικά αν πάμε στον χαρακτήρα με ευρετηρίο (index) 9 πρέπει να εντοπίσουμε τον πρώτο χαρακτήρα της συμβολοσειράς που είναι το `π`.\n",
    "Πράγματι:"
   ]
  },
  {
   "cell_type": "code",
   "execution_count": 21,
   "id": "509bddd4",
   "metadata": {},
   "outputs": [
    {
     "data": {
      "text/plain": [
       "'π'"
      ]
     },
     "execution_count": 21,
     "metadata": {},
     "output_type": "execute_result"
    }
   ],
   "source": [
    "stixos[index]"
   ]
  },
  {
   "cell_type": "markdown",
   "id": "a24058c6",
   "metadata": {},
   "source": [
    "Αν δεν εντοπιστεί η λέξη που αναζητούμε στην συμβολοσειρά η Python θα επιστρέψει: `-1`"
   ]
  },
  {
   "cell_type": "code",
   "execution_count": 22,
   "id": "712b74cc",
   "metadata": {},
   "outputs": [
    {
     "data": {
      "text/plain": [
       "-1"
      ]
     },
     "execution_count": 22,
     "metadata": {},
     "output_type": "execute_result"
    }
   ],
   "source": [
    "stixos.find('πάντα')"
   ]
  },
  {
   "cell_type": "markdown",
   "id": "b4d4b070",
   "metadata": {},
   "source": [
    "Η αναζήτηση είναι case sensitive δηλαδή γίνεται διάκριση ανάμεσα σε πεζά και κεφαλαία."
   ]
  },
  {
   "cell_type": "code",
   "execution_count": 23,
   "id": "7df71ff6",
   "metadata": {},
   "outputs": [
    {
     "data": {
      "text/plain": [
       "2"
      ]
     },
     "execution_count": 23,
     "metadata": {},
     "output_type": "execute_result"
    }
   ],
   "source": [
    "stixos.find('Ελλάδα') # επιστρέφει τον δείκτη 2 γιατί εντοπίστηκε η λέξη κλειδί"
   ]
  },
  {
   "cell_type": "code",
   "execution_count": 24,
   "id": "e3ce0c28",
   "metadata": {},
   "outputs": [
    {
     "data": {
      "text/plain": [
       "-1"
      ]
     },
     "execution_count": 24,
     "metadata": {},
     "output_type": "execute_result"
    }
   ],
   "source": [
    "stixos.find('ΕΛΛΆΔΑ') # επιστρέφει -1 γιατί δεν εντοπίστηκε η λέξη κλειδί"
   ]
  },
  {
   "cell_type": "markdown",
   "id": "35e41d59",
   "metadata": {},
   "source": [
    "Μια άλλη σημαντική μέθοδος των συμβολοσειρών είναι η μέθοδος `replace` κατά την οποία μπορούμε να αντικαταστήσουμε τα περιεχόμενα μιας συμβολοσειράς. Στην πρώτη παράμετρο ορίζουμε την συμβολοσειρά που θέλουμε να αντικαταστήσουμε με την δεύτερη παράμετρο."
   ]
  },
  {
   "cell_type": "code",
   "execution_count": 25,
   "id": "e79edb59",
   "metadata": {},
   "outputs": [
    {
     "data": {
      "text/plain": [
       "'Η Ελλάδα πάντα δεν πεθαίνει'"
      ]
     },
     "execution_count": 25,
     "metadata": {},
     "output_type": "execute_result"
    }
   ],
   "source": [
    "stixos.replace('ποτέ', 'πάντα')"
   ]
  }
 ],
 "metadata": {
  "kernelspec": {
   "display_name": "Python 3",
   "language": "python",
   "name": "python3"
  },
  "language_info": {
   "codemirror_mode": {
    "name": "ipython",
    "version": 3
   },
   "file_extension": ".py",
   "mimetype": "text/x-python",
   "name": "python",
   "nbconvert_exporter": "python",
   "pygments_lexer": "ipython3",
   "version": "3.9.16"
  }
 },
 "nbformat": 4,
 "nbformat_minor": 5
}