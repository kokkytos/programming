{
 "cells": [
  {
   "cell_type": "markdown",
   "id": "930c8827",
   "metadata": {},
   "source": [
    "# 3. Λίστες. Εκφράσεις, τελεστές\n",
    "\n",
    "Στην τρέχουσα ενότητα γίνεται αναφορά σε μια από τις πιο δυνατές και χρήσιμες δομές της Python, τις λίστες.\n",
    "Οι λίστες μας επιτρέπουν να αποθηκεύομαι σύνολα πληροφορίας σε ένα μέρος είτε πρόκειται για ένα είτε για εκατομμύρια στοιχεία. \n",
    "Oι λίστες αποτελούνται από μία σειρά από στοιχεία, καθένα από τα οποία μπορεί να ανήκει σε διαφορετικό τύπο δεδομένων.\n",
    "\n",
    "````{prf:definition}\n",
    ":label: list\n",
    "\n",
    "Μία **λίστα** (list) είναι μια διατεταγμένη συλλογή τιμών, οι οποίες\n",
    "αντιστοιχίζονται σε δείκτες. Οι τιμές που είναι μέλη μιας λίστας ονομάζονται\n",
    "**στοιχεία** (elements). Τα στοιχεία μιας λίστας δεν χρειάζεται να είναι ίδιου τύπου\n",
    "και ένα στοιχείο σε μία λίστα μπορεί να υπάρχει περισσότερες από μία φορές.\n",
    "Μία λίστα μέσα σε μία άλλη λίστα ονομάζεται **εμφωλευμένη λίστα** (nested list).\n",
    "Επιπρόσθετα, τόσο οι λίστες όσο και οι συμβολοσειρές, που συμπεριφέρονται ως\n",
    "διατεταγμένες συλλογές τιμών, ονομάζονται **ακολουθίες** (sequences). Τα στοιχεία μιας λίστας διαχωρίζονται με κόμμα \n",
    "και περικλείονται σε τετράγωνες αγκύλες ([ και ]). Μία λίστα που δεν περιέχει στοιχεία ονομάζεται\n",
    "άδεια λίστα και συμβολίζεται με [] {cite}`Aggelidakis2015`. \n",
    "````\n",
    "Παρακάτω δίνονται μερικά παραδείγματα από λίστες"
   ]
  },
  {
   "cell_type": "code",
   "execution_count": 1,
   "id": "a448799a",
   "metadata": {},
   "outputs": [],
   "source": [
    "bicycles = ['trek', 'cannondale', 'redline', 'specialized']\n",
    "colors = [\"red\", \"green\", \"black\", \"blue\"]\n",
    "scores = [10, 8, 9, -2, 9]\n",
    "myList = [\"one\", 2, 3.0]\n",
    "languages=[['English'],['Gujarati'],['Hindi'],'Romanian','Spanish'] # εμφωλευμένη λίστα (nested list)\n",
    "list_A = [] # άδεια λίστα"
   ]
  },
  {
   "cell_type": "markdown",
   "id": "59f7616c",
   "metadata": {},
   "source": [
    "Οι λίστες είναι ταξινομημένες συλλογές δεδομένων.\n",
    "Η πρόσβαση στα στοιχεία της λίστας γίνεται μέσω του δείκτη ή της θέσης του κάθε στοιχείου. \n",
    "Το σημαντικό που πρέπει να συγκρατηθεί είναι ότι η αρίθμηση των στοιχείων σε μια λίστα ξεκινάει από το μηδεν.\n",
    "Το πρώτο στοιχείο έχει δείκτη 0, το δεύτερο 1 κ.ο.κ. \n",
    "Το τελευταίο στοιχείο στην λίστα έχει τον δείκτη -1, το δεύτερο στοιχείο από το τέλος τον δείκτη -2 κ.ο.κ.\n",
    "Δείτε στο παρακάτω παράδειγμα τι εκτυπώνεται με βάση την θέση που δηλώνουμε στην λιστα."
   ]
  },
  {
   "cell_type": "code",
   "execution_count": 2,
   "id": "02723198",
   "metadata": {},
   "outputs": [
    {
     "name": "stdout",
     "output_type": "stream",
     "text": [
      "trek\n",
      "cannondale\n",
      "specialized\n",
      "['cannondale', 'redline']\n",
      "['cannondale', 'redline']\n"
     ]
    }
   ],
   "source": [
    "bicycles = ['trek', 'cannondale', 'redline', 'specialized']\n",
    "print(bicycles[0])\n",
    "print(bicycles[1])\n",
    "print(bicycles[-1])\n",
    "print(bicycles[1:3])\n",
    "print(bicycles[1:3])\n"
   ]
  },
  {
   "cell_type": "markdown",
   "id": "d45f2a5e",
   "metadata": {},
   "source": [
    "Παράδειγμα με εμφωλευμένη λίστα (nested list):"
   ]
  },
  {
   "cell_type": "code",
   "execution_count": 3,
   "id": "e2969667",
   "metadata": {},
   "outputs": [
    {
     "name": "stdout",
     "output_type": "stream",
     "text": [
      "2\n",
      "4\n"
     ]
    }
   ],
   "source": [
    "two_by_two = [[1, 2], [3, 4]]\n",
    "\n",
    "print(two_by_two[0][1])\n",
    "print(two_by_two[1][1])"
   ]
  },
  {
   "cell_type": "markdown",
   "id": "8a2d4932",
   "metadata": {},
   "source": [
    "Οι λίστες που περιέχουν συνεχόμενους ακέραιους αριθμούς μπορούν εύκολα να δημιουργηθούν ως εξής:"
   ]
  },
  {
   "cell_type": "code",
   "execution_count": 4,
   "id": "313b6404",
   "metadata": {},
   "outputs": [
    {
     "name": "stdout",
     "output_type": "stream",
     "text": [
      "[1, 2, 3, 4, 5, 6, 7, 8, 9, 10, 11, 12, 13, 14, 15, 16, 17, 18, 19]\n",
      "[0, 1, 2, 3, 4, 5, 6, 7, 8, 9]\n",
      "[1, 5, 9, 13, 17]\n"
     ]
    }
   ],
   "source": [
    "mylist = list(range(1,20))\n",
    "print(mylist)\n",
    "\n",
    "mylist1 = list(range(10))\n",
    "print(mylist1)\n",
    "\n",
    "mylist2 = list(range(1,20,4))\n",
    "print(mylist2)"
   ]
  },
  {
   "cell_type": "markdown",
   "id": "35c1efa3",
   "metadata": {},
   "source": [
    "Η μέθοδο index() μιας λίστας επιστρέφει το ευρετήριο (index) μιας τιμής:"
   ]
  },
  {
   "cell_type": "code",
   "execution_count": 5,
   "id": "2d7956e4",
   "metadata": {},
   "outputs": [
    {
     "name": "stdout",
     "output_type": "stream",
     "text": [
      "2\n"
     ]
    }
   ],
   "source": [
    "bicycles = ['trek', 'cannondale', 'redline', 'specialized']\n",
    "print(bicycles.index('redline'))"
   ]
  },
  {
   "cell_type": "markdown",
   "id": "42a1e8e7",
   "metadata": {},
   "source": [
    "Σε αντίθεση με τις συμβολοσειρές (strings) οι λίστες είναι μεταβαλλόμενες δομές δεδομένων. \n",
    "Αυτό σημαίνει ότι μπορoύμε να τροποποιήσουμε τα στοιχεία της λίστα, να προσθέσουμε νέα ή να αφαιρέσουμε.\n",
    "\n",
    "Για παράδειγμα μπορούμε να τροποποιήσουμε τα στοιχεία μιας λίστας ως εξής:"
   ]
  },
  {
   "cell_type": "code",
   "execution_count": 6,
   "id": "4144a6f7",
   "metadata": {},
   "outputs": [
    {
     "name": "stdout",
     "output_type": "stream",
     "text": [
      "['caramel', 'gold', 'silver', 'bronze']\n"
     ]
    }
   ],
   "source": [
    "colors=['caramel','gold','silver','occur']\n",
    "colors[3]='bronze'\n",
    "print(colors)\n"
   ]
  },
  {
   "cell_type": "code",
   "execution_count": 7,
   "id": "871a844a",
   "metadata": {},
   "outputs": [
    {
     "name": "stdout",
     "output_type": "stream",
     "text": [
      "['caramel', 'gold', 'bronze', 'silver']\n"
     ]
    }
   ],
   "source": [
    "colors=['caramel','gold','silver','occur']\n",
    "colors[2:]=['bronze','silver']\n",
    "print(colors)\n"
   ]
  },
  {
   "cell_type": "code",
   "execution_count": 8,
   "id": "db11513f",
   "metadata": {},
   "outputs": [
    {
     "name": "stdout",
     "output_type": "stream",
     "text": [
      "['caramel', 'gold', 'bronze', 'silver', 'occur']\n"
     ]
    }
   ],
   "source": [
    "colors=['caramel','gold','silver','occur']\n",
    "colors[2:3]=['bronze','silver']\n",
    "print(colors)\n"
   ]
  },
  {
   "cell_type": "markdown",
   "id": "ed9a3f36",
   "metadata": {},
   "source": [
    "Μπορούμε να προσθέσουμε **ένα** στοιχείο σε μια λίστα με την μέθοδο *append* π.χ."
   ]
  },
  {
   "cell_type": "code",
   "execution_count": 9,
   "id": "3af7b21b",
   "metadata": {},
   "outputs": [
    {
     "name": "stdout",
     "output_type": "stream",
     "text": [
      "4 θεοί\n",
      "['Δίας', 'Ερμής', 'Ποσειδώνας', 'Ήφαιστος']\n",
      "6 θεοί\n",
      "['Δίας', 'Ερμής', 'Ποσειδώνας', 'Ήφαιστος', 'Αππόλωνας', 'Άρης']\n"
     ]
    }
   ],
   "source": [
    "gods = ['Δίας', 'Ερμής', 'Ποσειδώνας', 'Ήφαιστος']\n",
    "print(\"{} θεοί\".format(len(gods)))\n",
    "print(gods)\n",
    "\n",
    "\n",
    "gods.append(\"Αππόλωνας\")\n",
    "gods.append(\"Άρης\")\n",
    "print(\"{} θεοί\".format(len(gods)))\n",
    "print(gods)\n"
   ]
  },
  {
   "cell_type": "markdown",
   "id": "e89ed0dc",
   "metadata": {},
   "source": [
    "Αν επιθυμούμε να προσθέσουμε πολλά στοιχεία τότε χρησιμοποιείται η μέθοδος *extend*"
   ]
  },
  {
   "cell_type": "code",
   "execution_count": 10,
   "id": "fe5cf068",
   "metadata": {},
   "outputs": [],
   "source": [
    "months=[\"Ιανουάριος\", \"Φεβρουάριος\", \"Μάρτιος\"]\n",
    "months.extend([\"Απρίλιος\", \"Μαϊος\"]) # προσοχή το όρισμα στην μέθοδο extend είναι λίστα (ή κάποιο iterable object)\n"
   ]
  },
  {
   "cell_type": "markdown",
   "id": "52003bb1",
   "metadata": {},
   "source": [
    "Μπορούμε να αφαιρέσουμε στοιχεία από μία λίστα με διάφορους τρόπους.\n",
    "\n",
    "Με την πρόταση *del*:\n",
    "\n",
    "Όταν γνωρίζουμε την θέση του στοιχείου που θέλουμε να αφαιρεθεί από μια λίστα χρησιμοποιούμαι την πρόταση *del*.\n",
    "Για παράδειγμα"
   ]
  },
  {
   "cell_type": "code",
   "execution_count": 11,
   "id": "54b38076",
   "metadata": {},
   "outputs": [
    {
     "name": "stdout",
     "output_type": "stream",
     "text": [
      "['Δίας', 'Ερμής', 'Ήφαιστος']\n",
      "Ήφαιστος\n"
     ]
    }
   ],
   "source": [
    "gods = ['Δίας', 'Ερμής', 'Ποσειδώνας', 'Ήφαιστος']\n",
    "del gods[2]\n",
    "print(gods)\n",
    "\n",
    "# Το μήκος άλλαξε και μερικές από τις αντιστοιχίες στην λίστα. Πλέον ο θεός στην θέση 2 είναι ο:\n",
    "print(gods[2])\n"
   ]
  },
  {
   "cell_type": "markdown",
   "id": "3cef238e",
   "metadata": {},
   "source": [
    "Με την μέθοδο *pop*:\n",
    "\n",
    "Μία άλλη χρήσιμη μέθοδο για την αφαίρεση στοιχείων από μια λίστα είναι η μέθοδος *pop*.\n",
    "Μέσω της μεθόδου αυτής όχι απλά αφαιρείται το στοιχείο από την λίστα αλλά επιστρέφεται και ως τιμή διαθέσιμη να την εκμεταλλευτεί ο προγραμματιστής π.χ. σε μία νέα μεταβλητή.\n",
    "Δείτε το εξής παράδειγμα:"
   ]
  },
  {
   "cell_type": "code",
   "execution_count": 12,
   "id": "41617c5d",
   "metadata": {},
   "outputs": [
    {
     "name": "stdout",
     "output_type": "stream",
     "text": [
      "['Alfa Romeo', 'Renault', 'BMW', 'Renault']\n",
      "Porsche\n",
      "Alfa Romeo\n"
     ]
    }
   ],
   "source": [
    "cars=[\"Alfa Romeo\", \"Renault\", \"BMW\", \"Renault\", \"Porsche\"]\n",
    "speed_car=cars.pop()\n",
    "print(cars)\n",
    "print(speed_car)\n",
    "\n",
    "speed_car2=cars.pop(0)\n",
    "print(speed_car2)\n"
   ]
  },
  {
   "cell_type": "markdown",
   "id": "1ccbcbb9",
   "metadata": {},
   "source": [
    "Όπως φαίνεται από το παράδειγμα αν χρησιμοποιηθεί η μέθοδος pop() χωρίς δείκτη τότε αφαιρείται το τελευταίο στοιχείο της λίστας.\n",
    "\n",
    "\n",
    "Με την μέθοδο *remove*:\n",
    "\n",
    "Επιπλέον μπορούμε να αφαιρέσουμε στοιχεία από μία λίστα με την χρήση μιας τιμής και όχι με βάση τον δείκτη.\n",
    "Ωστόσο η παραπάνω τεχνική θα αφαιρέσει το πρώτο στοιχείο που θα εντοπιστεί με την τιμή αυτή."
   ]
  },
  {
   "cell_type": "code",
   "execution_count": 13,
   "id": "04af7b1a",
   "metadata": {},
   "outputs": [
    {
     "name": "stdout",
     "output_type": "stream",
     "text": [
      "['Δίας', 'Ποσειδώνας', 'Ερμής', 'Ήφαιστος']\n"
     ]
    }
   ],
   "source": [
    "gods = ['Δίας', 'Ερμής', 'Ποσειδώνας', 'Ερμής', 'Ήφαιστος']\n",
    "\n",
    "gods.remove(\"Ερμής\")\n",
    "print(gods)\n"
   ]
  },
  {
   "cell_type": "markdown",
   "id": "69dcbc90",
   "metadata": {},
   "source": [
    "## Χρήσιμες μέθοδοι (methods) και συναρτήσεις (functions)\n",
    "\n",
    "Μία από τις πλέον χρήσιμες μεθόδους της κλάσσης list είναι η ταξινόμηση (*sort*)."
   ]
  },
  {
   "cell_type": "code",
   "execution_count": 14,
   "id": "3d76d66d",
   "metadata": {},
   "outputs": [
    {
     "name": "stdout",
     "output_type": "stream",
     "text": [
      "['Alfa Romeo', 'Audi', 'BMW', 'Porsche', 'Renault']\n"
     ]
    }
   ],
   "source": [
    "cars=[ \"Porsche\", \"Alfa Romeo\", \"Renault\", \"BMW\", \"Audi\" ]\n",
    "cars.sort()\n",
    "print(cars)\n"
   ]
  },
  {
   "cell_type": "markdown",
   "id": "181512d2",
   "metadata": {},
   "source": [
    "όπως φαίνεται η ταξινόμηση των στοιχείων της λίστας είναι μόνιμη.\n",
    "Ωστόσο αν θέλουμε προσωρινή ταξινόμηση τότε χρησιμοποιείται η function *sorted*."
   ]
  },
  {
   "cell_type": "code",
   "execution_count": 15,
   "id": "113d6915",
   "metadata": {},
   "outputs": [
    {
     "name": "stdout",
     "output_type": "stream",
     "text": [
      "['Alfa Romeo', 'Audi', 'BMW', 'Porsche', 'Renault']\n",
      "['Porsche', 'Alfa Romeo', 'Renault', 'BMW', 'Audi']\n"
     ]
    }
   ],
   "source": [
    "cars=[ \"Porsche\", \"Alfa Romeo\", \"Renault\", \"BMW\", \"Audi\" ]\n",
    "print(sorted(cars))\n",
    "print(cars)\n"
   ]
  },
  {
   "cell_type": "markdown",
   "id": "087459fd",
   "metadata": {},
   "source": [
    "Όπως βλέπετε κατά την τελευταία εκτύπωση η λίστα διατηρεί την αρχική ταξινόμηση.\n",
    "\n",
    "Επιπλέον με την μέθοδο *reverse* μπορούμε να αντιστρέψουμε την διάταξη των στοιχείων της λίστας.\n",
    "Και εδώ το αποτέλεσμα είναι μόνιμο."
   ]
  },
  {
   "cell_type": "code",
   "execution_count": 16,
   "id": "aa94de6f",
   "metadata": {},
   "outputs": [
    {
     "name": "stdout",
     "output_type": "stream",
     "text": [
      "['Audi', 'BMW', 'Renault', 'Alfa Romeo', 'Porsche']\n"
     ]
    }
   ],
   "source": [
    "cars=[ \"Porsche\", \"Alfa Romeo\", \"Renault\", \"BMW\", \"Audi\" ]\n",
    "\n",
    "cars.reverse()\n",
    "print(cars)"
   ]
  },
  {
   "cell_type": "markdown",
   "id": "6c86afaf",
   "metadata": {},
   "source": [
    "Ακόμα μέσω της συνάρτησης *len* επιστρέφεται το πλήθος των στοιχείων της λίστας."
   ]
  },
  {
   "cell_type": "code",
   "execution_count": 17,
   "id": "e3ab5816",
   "metadata": {},
   "outputs": [
    {
     "name": "stdout",
     "output_type": "stream",
     "text": [
      "5\n"
     ]
    }
   ],
   "source": [
    "languages=['English','Gujarati', 'Hindi','Romanian','Spanish']\n",
    "print(len(languages))"
   ]
  },
  {
   "cell_type": "markdown",
   "id": "96112d33",
   "metadata": {},
   "source": [
    "Εδώ πρέπει να δοθεί προσοχή. Γιατί ενώ η αρίθμηση των δεικτών ξεκινά από το 0 το μήκος της λίστας ξεκινά από το 1 για λίστα με ένα στοιχείο.\n",
    "Οπότε στο παρακάτω παράδειγμα θα λάβουμε σφάλμα εκτέλεσης αν πάμε να πάρουμε το 5ο και τελευταίο στοιχείο της λίστας. Γιατί αυτό ορίζεται με τον δείκτη 4 και όχι 5."
   ]
  },
  {
   "cell_type": "code",
   "execution_count": 18,
   "id": "32431031",
   "metadata": {
    "tags": [
     "raises-exception"
    ]
   },
   "outputs": [
    {
     "name": "stdout",
     "output_type": "stream",
     "text": [
      "Το μήκος της λίστας (πλήθος στοιχείων) είναι:  5\n"
     ]
    },
    {
     "ename": "IndexError",
     "evalue": "list index out of range",
     "output_type": "error",
     "traceback": [
      "\u001b[0;31m---------------------------------------------------------------------------\u001b[0m",
      "\u001b[0;31mIndexError\u001b[0m                                Traceback (most recent call last)",
      "Input \u001b[0;32mIn [18]\u001b[0m, in \u001b[0;36m<cell line: 3>\u001b[0;34m()\u001b[0m\n\u001b[1;32m      1\u001b[0m cars\u001b[38;5;241m=\u001b[39m[ \u001b[38;5;124m\"\u001b[39m\u001b[38;5;124mPorsche\u001b[39m\u001b[38;5;124m\"\u001b[39m, \u001b[38;5;124m\"\u001b[39m\u001b[38;5;124mAlfa Romeo\u001b[39m\u001b[38;5;124m\"\u001b[39m, \u001b[38;5;124m\"\u001b[39m\u001b[38;5;124mRenault\u001b[39m\u001b[38;5;124m\"\u001b[39m, \u001b[38;5;124m\"\u001b[39m\u001b[38;5;124mBMW\u001b[39m\u001b[38;5;124m\"\u001b[39m, \u001b[38;5;124m\"\u001b[39m\u001b[38;5;124mAudi\u001b[39m\u001b[38;5;124m\"\u001b[39m ]\n\u001b[1;32m      2\u001b[0m \u001b[38;5;28mprint\u001b[39m(\u001b[38;5;124m\"\u001b[39m\u001b[38;5;124mΤο μήκος της λίστας (πλήθος στοιχείων) είναι: \u001b[39m\u001b[38;5;124m\"\u001b[39m, \u001b[38;5;28mlen\u001b[39m(cars))\n\u001b[0;32m----> 3\u001b[0m \u001b[38;5;28mprint\u001b[39m(\u001b[43mcars\u001b[49m\u001b[43m[\u001b[49m\u001b[38;5;241;43m5\u001b[39;49m\u001b[43m]\u001b[49m)\n",
      "\u001b[0;31mIndexError\u001b[0m: list index out of range"
     ]
    }
   ],
   "source": [
    "cars=[ \"Porsche\", \"Alfa Romeo\", \"Renault\", \"BMW\", \"Audi\" ]\n",
    "print(\"Το μήκος της λίστας (πλήθος στοιχείων) είναι: \", len(cars))\n",
    "print(cars[5])"
   ]
  },
  {
   "cell_type": "markdown",
   "id": "2199c457",
   "metadata": {},
   "source": [
    "```{note}\n",
    "Συχνά χρησιμοποιούμε έναν βρόγχο (loop) όπως το *for* για να προσπελάσουμε ένα προς ένα τα στοιχεία μιας λίστας. Δείτε το επόμενο παράδειγμα. \n",
    "```"
   ]
  },
  {
   "cell_type": "code",
   "execution_count": 19,
   "id": "0bca7a34",
   "metadata": {},
   "outputs": [
    {
     "name": "stdout",
     "output_type": "stream",
     "text": [
      "physics\n",
      "chemistry\n",
      "1997\n",
      "2000\n"
     ]
    }
   ],
   "source": [
    "list = ['physics', 'chemistry', 1997, 2000]\n",
    "for item in list:\n",
    "    print(item)"
   ]
  },
  {
   "cell_type": "markdown",
   "id": "564af747",
   "metadata": {},
   "source": [
    "::::{important}\n",
    "Ιδιαίτερη προσοχή πρέπει να δίνεται στον τρόπο που αντιγράφουμε λίστες. Δείτε γιατί στο επόμενο παράδειγμα.\n",
    "::::"
   ]
  },
  {
   "cell_type": "code",
   "execution_count": 20,
   "id": "e0d107ea",
   "metadata": {},
   "outputs": [
    {
     "name": "stdout",
     "output_type": "stream",
     "text": [
      "['Μήλος', 'Κρήτη', 'Λέσβος', 'Κέρκυρα']\n"
     ]
    }
   ],
   "source": [
    "nisia = [\"Μήλος\", \"Κρήτη\", \"Λέσβος\"]\n",
    "greek_islands = nisia\n",
    "\n",
    "greek_islands.append(\"Κέρκυρα\")\n",
    "\n",
    "print(nisia)\n"
   ]
  },
  {
   "cell_type": "markdown",
   "id": "5e7c69eb",
   "metadata": {},
   "source": [
    "Όπως φαίνεται οι μεταβλητές nisia και greek_islands αντιστοιχούν στο ίδιο υποκείμενο object και αν μεταβάλλοντας τα στοιχεία της μίας μεταβλητής η αλλαγή αντικατοπτρίζεται και στα στοιχεία της δεύτερης.\n",
    "Ο ενδεδειγμένος τρόπος για να αντιγράψουμε μια λίστα είναι να αντιγράψουμε όλα τα στοιχεία της ώστε να έχουμε δύο ανεξάρτητα objects (κλωνοποίηση)."
   ]
  },
  {
   "cell_type": "code",
   "execution_count": 21,
   "id": "76550ebf",
   "metadata": {},
   "outputs": [
    {
     "name": "stdout",
     "output_type": "stream",
     "text": [
      "['Μήλος', 'Κρήτη', 'Λέσβος']\n",
      "['Μήλος', 'Κρήτη', 'Λέσβος', 'Κέρκυρα']\n"
     ]
    }
   ],
   "source": [
    "nisia = [\"Μήλος\", \"Κρήτη\", \"Λέσβος\"]\n",
    "greek_islands = nisia[:]\n",
    "\n",
    "greek_islands.append(\"Κέρκυρα\")\n",
    "\n",
    "print(nisia)\n",
    "\n",
    "print(greek_islands)\n"
   ]
  },
  {
   "cell_type": "markdown",
   "id": "ccf25216",
   "metadata": {},
   "source": [
    "## Εκφράσεις και τελεστές\n",
    "\n",
    "Μία **έκφραση (expression)** είναι ένας συνδυασμός από *τιμές*, *μεταβλητές*,\n",
    "*τελεστές* και *κλήσεις σε συναρτήσεις*.\n",
    " Οι **τελεστές (operators)** είναι λειτουργίες που κάνουν κάτι και\n",
    "μπορούν να αναπαρασταθούν με σύμβολα όπως το + ή με λέξεις κλειδιά όπως το\n",
    "and. Η αποτίμηση μιας έκφρασης παράγει μία τιμή και αυτός είναι και ο λόγος\n",
    "που μία έκφραση μπορεί να βρίσκεται στο δεξί μέρος μια εντολής εκχώρησης.\n",
    "Όταν μία μεταβλητή εμφανίζεται σε έκφραση, αντικαθίσταται από την τιμή της,\n",
    "προτού αποτιμηθεί η έκφραση {cite}`Aggelidakis2015`. \n",
    "Δεν απαιτείται μία έκφραση να περιέχει ταυτόχρονα και τιμές και\n",
    "μεταβλητές και τελεστές. Μία τιμή, όπως και μία μεταβλητή, από μόνες τους\n",
    "είναι επίσης εκφράσεις.\n",
    "\n",
    "Οι τελεστές χρησιμοποιούνται με αριθμητικές τιμές για την εκτέλεση μαθηματικών πράξεων.\n",
    "Ορισμένοι τελεστές έχουν εφαρμογή κα σε συμβολοσειρές.\n",
    "Πιο συγκεκρικένα διατίθενται οι παρακάτω τελεστές:\n",
    "\n",
    "### Αριθμητικοί τελεστές\n",
    "\n",
    "| Τελεστής | Όνομα         | Παράδειγμα |\n",
    "|----------|----------------|------------|\n",
    "| +        | Πρόσθεση αριθμών ή συνένωση συμβολοσειρών          | x + y      |\n",
    "| -        | Αφαίρεση    | x - y      |\n",
    "| *        | Πολλαπλασίασμός ή επανάληψη συμβολοσειράς | x * y      |\n",
    "| /        | Διαίρεση       | x / y      |\n",
    "| %        | Υπόλοιπο διαίρεσης δύο αριθμών        | x % y      |\n",
    "| **       | Ύψωση αριθμού σε δύναμη | x ** y     |\n",
    "| //       | Διαίρεση δύο αριθμών στρογγυλοποιημένη προς τα κάτω  | x // y     |\n",
    "\n",
    "\n",
    "### Τελεστές εκχώρησης\n",
    "\n",
    "Χρησιμοποιούνται για να αποδώσουν τιμές σε μεταβλητές. \n",
    "\n",
    "| Τελεστής \t| Παράδειγμα \t| Αντίστοιχο με  \t|\n",
    "|----------\t|---------\t|------------\t|\n",
    "| =        \t| x = 5   \t| x = 5      \t|\n",
    "| +=       \t| x += 3  \t| x = x + 3  \t|\n",
    "| -=       \t| x -= 3  \t| x = x - 3  \t|\n",
    "| *=       \t| x *= 3  \t| x = x * 3  \t|\n",
    "| /=       \t| x /= 3  \t| x = x / 3  \t|\n",
    "| %=       \t| x %= 3  \t| x = x % 3  \t|\n",
    "| //=      \t| x //= 3 \t| x = x // 3 \t|\n",
    "| **=      \t| x **= 3 \t| x = x ** 3 \t|\n",
    "| &=       \t| x &= 3  \t| x = x & 3  \t|\n",
    "| \\|=      \t| x \\|= 3 \t| x = x \\| 3 \t|\n",
    "| ^=       \t| x ^= 3  \t| x = x ^ 3  \t|\n",
    "| >>=      \t| x >>= 3 \t| x = x >> 3 \t|\n",
    "| <<=      \t| x <<= 3 \t| x = x << 3 \t|\n",
    "\n",
    "\n",
    "### Τελεστές σύγκρισης\n",
    "\n",
    "Χρησιμοποιούνται για την σύγκριση 2 τιμών\n",
    "\n",
    "| Τελεστής \t| Σύγκριση                     \t| Παράδειγμα \t|\n",
    "|----------\t|--------------------------\t|---------\t|\n",
    "| ==       \t| Ίσον                    \t| x == y  \t|\n",
    "| !=       \t| Διαφορετικό             \t| x != y  \t|\n",
    "| >        \t| Μεγαλύτερο από            \t| x > y   \t|\n",
    "| <        \t| Μικρότερο από               \t| x < y   \t|\n",
    "| >=       \t| Μεγαλύτερο ή ίσον από\t| x >= y  \t|\n",
    "| <=       \t| Μικρότερο ή ίσον από   \t| x <= y  \t|\n",
    "\n",
    "\n",
    "### Λογικοί τελεστές\n",
    "\n",
    "| Τελεστής \t| Περιγραφή                                             \t| Παράδειγμα               \t|\n",
    "|----------\t|---------------------------------------------------------\t|-----------------------\t|\n",
    "| and      \t| Επιστρέφει Αληθές (True) αν και οι δύο προτάσεις είναι αληθείς                \t| x < 5 and  x < 10     \t|\n",
    "| or       \t| Επιστρέφει Αληθές (True) αν έστω μία από τις προτάσεις είναι αληθή           \t| x < 5 or x < 4        \t|\n",
    "| not      \t| Αντιστροφή απότελέσματος, επιστρέφει Μη Αληθές όταν το αποτέλεσμα είναι αληθές \t| not(x < 5 and x < 10) \t|\n",
    "\n",
    "\n",
    "Εκτός από τους παραπάνω τελεστές υπάρχουν πιο εξειδικεύμενοι τελεστές που δεν θα αναφερθούμε (Bitwise, Membership, Identity operators).\n",
    "\n",
    "Οι τελεστές στη Python τηρούν την αντίστοιχη προτεραιότητα που χρησιμοποιείται και στα μαθηματικά.\n",
    "\n",
    "Οι παρενθέσεις έχουν τη μεγαλύτερη προτεραιότητα.\n",
    "Πολλαπλασιασμός και διαίρεση έχουν υψηλότερα προτεταιότητα από την πρόσθεση και αφαίρεση.\n",
    "\n",
    "Τελεστές με την ίδια προτεραιότητα αποτιμώνται από τα αριστερά προς\n",
    "τα δεξιά."
   ]
  }
 ],
 "metadata": {
  "jupytext": {
   "cell_metadata_filter": "-all",
   "formats": "md:myst",
   "text_representation": {
    "extension": ".md",
    "format_name": "myst",
    "format_version": 0.13,
    "jupytext_version": "1.11.5"
   }
  },
  "kernelspec": {
   "display_name": "Python 3",
   "language": "python",
   "name": "python3"
  },
  "language_info": {
   "codemirror_mode": {
    "name": "ipython",
    "version": 3
   },
   "file_extension": ".py",
   "mimetype": "text/x-python",
   "name": "python",
   "nbconvert_exporter": "python",
   "pygments_lexer": "ipython3",
   "version": "3.10.2"
  },
  "source_map": [
   14,
   37,
   44,
   56,
   64,
   68,
   73,
   77,
   86,
   90,
   93,
   100,
   108,
   116,
   121,
   126,
   137,
   141,
   145,
   154,
   162,
   170,
   179,
   189,
   195,
   201,
   206,
   210,
   215,
   221,
   226,
   230,
   233,
   238,
   243,
   249,
   253,
   259,
   267,
   272,
   282
  ]
 },
 "nbformat": 4,
 "nbformat_minor": 5
}