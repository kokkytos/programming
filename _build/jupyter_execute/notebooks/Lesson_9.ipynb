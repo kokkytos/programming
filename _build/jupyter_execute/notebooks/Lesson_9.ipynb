{
 "cells": [
  {
   "cell_type": "markdown",
   "id": "055bf3f6",
   "metadata": {},
   "source": [
    "# 9. Γεωεπεξεργασία διανυσματικών δεδομένων"
   ]
  },
  {
   "cell_type": "markdown",
   "id": "7c3b90ce-1865-419c-8b57-18800109ee9f",
   "metadata": {},
   "source": [
    "## Ειδική ενότητα για εκτέλεση στο Google Colab"
   ]
  },
  {
   "cell_type": "code",
   "execution_count": 1,
   "id": "6b6905b8-ea06-4e09-982e-c17fc0b5f01b",
   "metadata": {},
   "outputs": [],
   "source": [
    "# έλεγχος αν το notebook τρέχει στο google colab\n",
    "try:\n",
    "  import google.colab\n",
    "  IN_COLAB = True\n",
    "except:\n",
    "  IN_COLAB = False"
   ]
  },
  {
   "cell_type": "code",
   "execution_count": 2,
   "id": "167d480e-5cf6-4b06-aca5-775de87b246f",
   "metadata": {},
   "outputs": [],
   "source": [
    "# αν το notebook τρέχει στο colab, mount το Google Drive και αλλαγή στο directory που έχει γίνει clone το github repository.\n",
    "# εγκατάσταση απαραίτητων βιβλιοθηκών\n",
    "if IN_COLAB:\n",
    "    from google.colab import drive\n",
    "    drive.mount('/content/drive')\n",
    "    %cd /content/drive/MyDrive/Colab\\ Notebooks/programming/notebooks\n",
    "    !pip install rasterio geopandas folium matplotlib mapclassify"
   ]
  },
  {
   "cell_type": "markdown",
   "id": "973321f9",
   "metadata": {},
   "source": [
    "Ο χώρος και οι γεωμετρικές δομές του μπορούν να αναπαρασταθούν μέσω διανυσματικών δεδομένων (Vector).\n",
    "Οι τρείς βασικές δομές δεδομένων είναι:\n",
    "- Τα σημεία\n",
    "- Οι γραμμές\n",
    "- Τα πολύγωνα"
   ]
  },
  {
   "cell_type": "markdown",
   "id": "fee556f5",
   "metadata": {},
   "source": [
    "![alt text](https://raw.githubusercontent.com/kokkytos/programming/main/images/vector.png)"
   ]
  },
  {
   "cell_type": "markdown",
   "id": "b5c01a86",
   "metadata": {},
   "source": [
    "Επιπλέον αυτά τα γεωμετρικά δεδομένα συνοδεύονται και απο περιγραφικά δεδομένα που αφορούν τις ιδιότητες ή τα χαρακτηριστικά αυτών των δεδομένων."
   ]
  },
  {
   "cell_type": "markdown",
   "id": "5f530a65",
   "metadata": {},
   "source": [
    "![alt text](https://raw.githubusercontent.com/kokkytos/programming/main/images/spatial-attribute-tables.png)"
   ]
  },
  {
   "cell_type": "markdown",
   "id": "511470a8",
   "metadata": {},
   "source": [
    "Στα Σ.Γ.Π. ο πιο συνηθισμένος τύπος αρχείων αποθήκευσης αυτών των δεδομένων είναι το shapefile. \n",
    "Πλέον έχουν αναπτυχθεί και άλλοι τύποι όπως geojson, geopackage και χωρικές βάσεις δεδομένων (geodatabases) όπως η Postgresql/Postgis."
   ]
  },
  {
   "cell_type": "markdown",
   "id": "b53848bd",
   "metadata": {},
   "source": [
    "Ο προσδιορισμός της γεωγραφικής θέσης στην υδρόγειο γίνεται μέσω ενός ζεύγους γεωγραφικών συντεταγμένων.\n",
    "Κάθε σημείο στον χώρο προσδιορίζεται γεωγραφικά από το γεωγραφικό μήκος (λ) και το γεωγραφικό πλάτος (φ).\n"
   ]
  },
  {
   "cell_type": "markdown",
   "id": "d4bef9ca",
   "metadata": {},
   "source": [
    "![alt text](https://raw.githubusercontent.com/kokkytos/programming/main/images/coords.jpg)"
   ]
  },
  {
   "cell_type": "markdown",
   "id": "3972c9c6",
   "metadata": {},
   "source": [
    "Για να αποδοθεί η τρισδιάστατη υδρόγειος σφαίρα σε ένα δυσδιάστατο σύστημα αναφορά χρησιμοποιείται ένα προβολικό σύστημα."
   ]
  },
  {
   "cell_type": "markdown",
   "id": "c569b27b",
   "metadata": {},
   "source": [
    "![alt text](https://raw.githubusercontent.com/kokkytos/programming/main/images/437-mapping-projection-types.png)\n"
   ]
  },
  {
   "cell_type": "markdown",
   "id": "94c8a6a7",
   "metadata": {},
   "source": [
    "Κάθε προβολικό σύστημα της σφαίρας στο επίπεδο εισάγει μια σειρά παραμορφώσεων που αφορά το σχήμα των γεωμετρικών δομών, την κλίμακα, την έκταση και τις αποστάσεις. Ανάλογα το προβολικό σύστημα κάποιες από τις παραπάνω παραμορφώσεις εμφανίζονται σε μεγάλο βαθμό και άλλες όχι.\n",
    "Οπότε ανάλογα το είδος της έρευνας ο ερευνητής οφείλει να γνωρίζει τι είδους παραμορφώσεις εισάγει η κάθε προβολή και ανάλογα να επιλέγει την προβολή με τα λιγότερα σφάλματα."
   ]
  },
  {
   "cell_type": "markdown",
   "id": "fe783fd5",
   "metadata": {},
   "source": [
    "## Python βιβλιοθήκες για διανυσματικά δεδομένα"
   ]
  },
  {
   "cell_type": "markdown",
   "id": "fadc88a3",
   "metadata": {},
   "source": [
    "Για την ανάγνωση, εγγραφή, επεξεργασία διανυσματικών δεδομένων στην Python έχουν καθιερωθεί μια σειρά βιβλιοθηκών.\n",
    "Η αρχαιότερη και βασική βιβλιοθήκη είναι η [GDAL/OGR](https://gdal.org/). Επειδή η βιβλιοθήκη δεν είναι ιδιαίτερα συμβατή σε σχέση με τον τρόπο συγγραφής της Python και είναι επιρρεπής σε σφάλματα έχουν αναπτυχθεί πιο σύγχρονες βιβλιοθήκες όπως η βιβλιοθήκη [Fiona](https://github.com/Toblerity/Fiona) που είναι ιδιαίτερα χρήσιμη για την ανάγνωση/εγγραφή διανυσματικών δεδομένων και η βιβλιοθήκη [Shapely](https://github.com/shapely/shapely) η οποία χρησιμοποιείται για επεξεργασία και ανάλυση δεδομένων."
   ]
  },
  {
   "cell_type": "markdown",
   "id": "2297a515",
   "metadata": {},
   "source": [
    "## Η βιβλιοθήκη Shapely"
   ]
  },
  {
   "cell_type": "markdown",
   "id": "c4cd7958",
   "metadata": {
    "tags": []
   },
   "source": [
    "### shapely from WKT\n",
    "\n",
    "Μπορούμε να δημιουργήσουμε αντικείμενα shapely που αναπαριστούν σημεία ή γραμμές ή πολύγωνα μέσω WKT. Η γλώσσα [WKT](https://en.wikipedia.org/wiki/Well-known_text_representation_of_geometry) είναι μια ειδική διάλεκτος για την περιγραφή διανυσματικών αντικειμένων. Εισάγουμε τις απαραίτητες υπο-βιβλιοθήκες (`geometry` και `wkt`) από την βιβλιοθήκη shapely. "
   ]
  },
  {
   "cell_type": "code",
   "execution_count": 3,
   "id": "6f1e97a1",
   "metadata": {},
   "outputs": [],
   "source": [
    "import shapely.geometry\n",
    "import shapely.wkt"
   ]
  },
  {
   "cell_type": "markdown",
   "id": "8a50741c",
   "metadata": {},
   "source": [
    "#### Πολύγωνα"
   ]
  },
  {
   "cell_type": "markdown",
   "id": "1aeb5b12",
   "metadata": {},
   "source": [
    "Καλούμε την μέθοδο `shapely.wkt.loads()` για να δημιουργήσουμε shapely objects από wkt"
   ]
  },
  {
   "cell_type": "code",
   "execution_count": 4,
   "id": "cbc2c6bf",
   "metadata": {},
   "outputs": [],
   "source": [
    "pol1 = shapely.wkt.loads(\"POLYGON ((0 0, 0 -1, 7.5 -1, 7.5 0,0 0))\")\n"
   ]
  },
  {
   "cell_type": "code",
   "execution_count": 5,
   "id": "783bfdff",
   "metadata": {},
   "outputs": [
    {
     "data": {
      "image/svg+xml": [
       "<svg xmlns=\"http://www.w3.org/2000/svg\" xmlns:xlink=\"http://www.w3.org/1999/xlink\" width=\"100.0\" height=\"100.0\" viewBox=\"-0.3 -1.3 8.1 1.6\" preserveAspectRatio=\"xMinYMin meet\"><g transform=\"matrix(1,0,0,-1,0,-1.0)\"><path fill-rule=\"evenodd\" fill=\"#66cc99\" stroke=\"#555555\" stroke-width=\"0.162\" opacity=\"0.6\" d=\"M 0.0,0.0 L 0.0,-1.0 L 7.5,-1.0 L 7.5,0.0 L 0.0,0.0 z\" /></g></svg>"
      ],
      "text/plain": [
       "<shapely.geometry.polygon.Polygon at 0x7fb8061e8460>"
      ]
     },
     "execution_count": 5,
     "metadata": {},
     "output_type": "execute_result"
    }
   ],
   "source": [
    "pol1"
   ]
  },
  {
   "cell_type": "markdown",
   "id": "796b5928",
   "metadata": {},
   "source": [
    "Η εκτύπωση του shapely αντικειμένου επιστρέφει μία περιγραφή σε μορφή WKT. "
   ]
  },
  {
   "cell_type": "code",
   "execution_count": 6,
   "id": "182ef6ef",
   "metadata": {},
   "outputs": [
    {
     "name": "stdout",
     "output_type": "stream",
     "text": [
      "POLYGON ((0 0, 0 -1, 7.5 -1, 7.5 0, 0 0))\n"
     ]
    }
   ],
   "source": [
    "print(pol1)"
   ]
  },
  {
   "cell_type": "markdown",
   "id": "0935a2ea",
   "metadata": {},
   "source": [
    "Εκτύπωση του τύπου του αντικειμένου pol1"
   ]
  },
  {
   "cell_type": "code",
   "execution_count": 7,
   "id": "b0166a52",
   "metadata": {},
   "outputs": [
    {
     "data": {
      "text/plain": [
       "shapely.geometry.polygon.Polygon"
      ]
     },
     "execution_count": 7,
     "metadata": {},
     "output_type": "execute_result"
    }
   ],
   "source": [
    "type(pol1)"
   ]
  },
  {
   "cell_type": "code",
   "execution_count": 8,
   "id": "ab4088be",
   "metadata": {},
   "outputs": [
    {
     "name": "stdout",
     "output_type": "stream",
     "text": [
      "POLYGON ((0 1, 1 0, 2 0.5, 3 0, 4 0, 5 0.5, 6 -0.5, 7 -0.5, 7 1, 0 1))\n"
     ]
    }
   ],
   "source": [
    "pol2 = shapely.wkt.loads(\"POLYGON ((0 1, 1 0, 2 0.5, 3 0, 4 0, 5 0.5, 6 -0.5, 7 -0.5, 7 1, 0 1))\")\n",
    "print(pol2)"
   ]
  },
  {
   "cell_type": "code",
   "execution_count": 9,
   "id": "655e1fbb",
   "metadata": {},
   "outputs": [
    {
     "data": {
      "image/svg+xml": [
       "<svg xmlns=\"http://www.w3.org/2000/svg\" xmlns:xlink=\"http://www.w3.org/1999/xlink\" width=\"100.0\" height=\"100.0\" viewBox=\"-0.28 -0.78 7.5600000000000005 2.06\" preserveAspectRatio=\"xMinYMin meet\"><g transform=\"matrix(1,0,0,-1,0,0.5)\"><path fill-rule=\"evenodd\" fill=\"#66cc99\" stroke=\"#555555\" stroke-width=\"0.1512\" opacity=\"0.6\" d=\"M 0.0,1.0 L 1.0,0.0 L 2.0,0.5 L 3.0,0.0 L 4.0,0.0 L 5.0,0.5 L 6.0,-0.5 L 7.0,-0.5 L 7.0,1.0 L 0.0,1.0 z\" /></g></svg>"
      ],
      "text/plain": [
       "<shapely.geometry.polygon.Polygon at 0x7fb8061f4c10>"
      ]
     },
     "execution_count": 9,
     "metadata": {},
     "output_type": "execute_result"
    }
   ],
   "source": [
    "pol2"
   ]
  },
  {
   "cell_type": "markdown",
   "id": "054e1a0e",
   "metadata": {},
   "source": [
    "Δημιουργία MultiPolygon shapely object από αντίστοιχη συλλογή πολυγώνων MULTIPOLYGON"
   ]
  },
  {
   "cell_type": "code",
   "execution_count": 10,
   "id": "b248d3ad",
   "metadata": {},
   "outputs": [],
   "source": [
    "pol3 = shapely.wkt.loads(\"\"\"\n",
    "MULTIPOLYGON\n",
    "(((40 40, 20 45, 45 30, 40 40)),\n",
    "((20 35, 10 30, 10 10, 30 5, 45 20, 20 35), (30 20, 20 15, 20 25, 30 20)))\n",
    "\"\"\")"
   ]
  },
  {
   "cell_type": "code",
   "execution_count": 11,
   "id": "9d5e8440",
   "metadata": {},
   "outputs": [
    {
     "data": {
      "text/plain": [
       "shapely.geometry.multipolygon.MultiPolygon"
      ]
     },
     "execution_count": 11,
     "metadata": {},
     "output_type": "execute_result"
    }
   ],
   "source": [
    "type(pol3)"
   ]
  },
  {
   "cell_type": "code",
   "execution_count": 12,
   "id": "4d78a2da",
   "metadata": {},
   "outputs": [
    {
     "data": {
      "image/svg+xml": [
       "<svg xmlns=\"http://www.w3.org/2000/svg\" xmlns:xlink=\"http://www.w3.org/1999/xlink\" width=\"100.0\" height=\"100.0\" viewBox=\"8.4 3.4 38.2 43.2\" preserveAspectRatio=\"xMinYMin meet\"><g transform=\"matrix(1,0,0,-1,0,50.0)\"><g><path fill-rule=\"evenodd\" fill=\"#66cc99\" stroke=\"#555555\" stroke-width=\"0.8640000000000001\" opacity=\"0.6\" d=\"M 40.0,40.0 L 20.0,45.0 L 45.0,30.0 L 40.0,40.0 z\" /><path fill-rule=\"evenodd\" fill=\"#66cc99\" stroke=\"#555555\" stroke-width=\"0.8640000000000001\" opacity=\"0.6\" d=\"M 20.0,35.0 L 10.0,30.0 L 10.0,10.0 L 30.0,5.0 L 45.0,20.0 L 20.0,35.0 z M 30.0,20.0 L 20.0,15.0 L 20.0,25.0 L 30.0,20.0 z\" /></g></g></svg>"
      ],
      "text/plain": [
       "<shapely.geometry.multipolygon.MultiPolygon at 0x7fb8061f4d30>"
      ]
     },
     "execution_count": 12,
     "metadata": {},
     "output_type": "execute_result"
    }
   ],
   "source": [
    "pol3"
   ]
  },
  {
   "cell_type": "code",
   "execution_count": 13,
   "id": "1251861d",
   "metadata": {},
   "outputs": [
    {
     "data": {
      "text/plain": [
       "shapely.geometry.multipolygon.MultiPolygon"
      ]
     },
     "execution_count": 13,
     "metadata": {},
     "output_type": "execute_result"
    }
   ],
   "source": [
    "type(pol3)"
   ]
  },
  {
   "cell_type": "markdown",
   "id": "7088d32e",
   "metadata": {},
   "source": [
    "#### Σημεία"
   ]
  },
  {
   "cell_type": "code",
   "execution_count": 14,
   "id": "f1a97392",
   "metadata": {},
   "outputs": [],
   "source": [
    "pnt1 = shapely.wkt.loads(\"\"\"\n",
    "POINT (30 10)\n",
    "\"\"\")"
   ]
  },
  {
   "cell_type": "code",
   "execution_count": 15,
   "id": "99bc1f2c",
   "metadata": {},
   "outputs": [
    {
     "data": {
      "image/svg+xml": [
       "<svg xmlns=\"http://www.w3.org/2000/svg\" xmlns:xlink=\"http://www.w3.org/1999/xlink\" width=\"100.0\" height=\"100.0\" viewBox=\"29.0 9.0 2.0 2.0\" preserveAspectRatio=\"xMinYMin meet\"><g transform=\"matrix(1,0,0,-1,0,20.0)\"><circle cx=\"30.0\" cy=\"10.0\" r=\"0.06\" stroke=\"#555555\" stroke-width=\"0.02\" fill=\"#66cc99\" opacity=\"0.6\" /></g></svg>"
      ],
      "text/plain": [
       "<shapely.geometry.point.Point at 0x7fb8061e8340>"
      ]
     },
     "execution_count": 15,
     "metadata": {},
     "output_type": "execute_result"
    }
   ],
   "source": [
    "pnt1"
   ]
  },
  {
   "cell_type": "markdown",
   "id": "59e6deb7",
   "metadata": {},
   "source": [
    "Συλλογή σημείων"
   ]
  },
  {
   "cell_type": "code",
   "execution_count": 16,
   "id": "c8f62327",
   "metadata": {},
   "outputs": [],
   "source": [
    "pnt2 = shapely.wkt.loads(\"\"\"\n",
    "MULTIPOINT(0 0,1 1)\n",
    "\"\"\")"
   ]
  },
  {
   "cell_type": "code",
   "execution_count": 17,
   "id": "ca0a2e7d",
   "metadata": {},
   "outputs": [
    {
     "data": {
      "image/svg+xml": [
       "<svg xmlns=\"http://www.w3.org/2000/svg\" xmlns:xlink=\"http://www.w3.org/1999/xlink\" width=\"100.0\" height=\"100.0\" viewBox=\"-0.04 -0.04 1.08 1.08\" preserveAspectRatio=\"xMinYMin meet\"><g transform=\"matrix(1,0,0,-1,0,1.0)\"><g><circle cx=\"0.0\" cy=\"0.0\" r=\"0.0324\" stroke=\"#555555\" stroke-width=\"0.0108\" fill=\"#66cc99\" opacity=\"0.6\" /><circle cx=\"1.0\" cy=\"1.0\" r=\"0.0324\" stroke=\"#555555\" stroke-width=\"0.0108\" fill=\"#66cc99\" opacity=\"0.6\" /></g></g></svg>"
      ],
      "text/plain": [
       "<shapely.geometry.multipoint.MultiPoint at 0x7fb8061f4cd0>"
      ]
     },
     "execution_count": 17,
     "metadata": {},
     "output_type": "execute_result"
    }
   ],
   "source": [
    "pnt2"
   ]
  },
  {
   "cell_type": "markdown",
   "id": "ece321b7",
   "metadata": {},
   "source": [
    "#### Γραμμές"
   ]
  },
  {
   "cell_type": "code",
   "execution_count": 18,
   "id": "5124cc61",
   "metadata": {},
   "outputs": [
    {
     "data": {
      "image/svg+xml": [
       "<svg xmlns=\"http://www.w3.org/2000/svg\" xmlns:xlink=\"http://www.w3.org/1999/xlink\" width=\"100.0\" height=\"100.0\" viewBox=\"1.4316 2.3816 1.8468 1.6867999999999994\" preserveAspectRatio=\"xMinYMin meet\"><g transform=\"matrix(1,0,0,-1,0,6.449999999999999)\"><polyline fill=\"none\" stroke=\"#66cc99\" stroke-width=\"0.036936\" points=\"1.5,2.45 3.21,4.0\" opacity=\"0.8\" /></g></svg>"
      ],
      "text/plain": [
       "<shapely.geometry.linestring.LineString at 0x7fb7f41189d0>"
      ]
     },
     "execution_count": 18,
     "metadata": {},
     "output_type": "execute_result"
    }
   ],
   "source": [
    "line1 =shapely.wkt.loads(\"\"\"\n",
    "LINESTRING(1.5 2.45,3.21 4)\n",
    "\"\"\")\n",
    "\n",
    "line1"
   ]
  },
  {
   "cell_type": "markdown",
   "id": "8302b344",
   "metadata": {},
   "source": [
    "Συλλογή γραμμών"
   ]
  },
  {
   "cell_type": "code",
   "execution_count": 19,
   "id": "052e5ee9",
   "metadata": {},
   "outputs": [
    {
     "data": {
      "image/svg+xml": [
       "<svg xmlns=\"http://www.w3.org/2000/svg\" xmlns:xlink=\"http://www.w3.org/1999/xlink\" width=\"100.0\" height=\"100.0\" viewBox=\"-3.6 -8.6 10.2 16.2\" preserveAspectRatio=\"xMinYMin meet\"><g transform=\"matrix(1,0,0,-1,0,-1.0)\"><g><polyline fill=\"none\" stroke=\"#66cc99\" stroke-width=\"0.324\" points=\"0.0,0.0 -1.0,-2.0 -3.0,-4.0 -3.0,-8.0\" opacity=\"0.8\" /><polyline fill=\"none\" stroke=\"#66cc99\" stroke-width=\"0.324\" points=\"2.0,3.0 3.0,4.0 6.0,7.0\" opacity=\"0.8\" /></g></g></svg>"
      ],
      "text/plain": [
       "<shapely.geometry.multilinestring.MultiLineString at 0x7fb8061f4ac0>"
      ]
     },
     "execution_count": 19,
     "metadata": {},
     "output_type": "execute_result"
    }
   ],
   "source": [
    "line2 =shapely.wkt.loads(\"\"\"\n",
    "MULTILINESTRING((0 0,-1 -2,-3 -4, -3 -8),(2 3,3 4,6 7))\n",
    "\"\"\")\n",
    "\n",
    "line2\n",
    "\n"
   ]
  },
  {
   "cell_type": "markdown",
   "id": "eaf34c88",
   "metadata": {},
   "source": [
    "### Shapely μέσω συναρτήσεων  "
   ]
  },
  {
   "cell_type": "code",
   "execution_count": 20,
   "id": "83d6f7c4",
   "metadata": {},
   "outputs": [],
   "source": [
    "from shapely.geometry import Point, LineString, Polygon, MultiPoint, MultiLineString, MultiPolygon"
   ]
  },
  {
   "cell_type": "markdown",
   "id": "d12d28d7",
   "metadata": {},
   "source": [
    "Κάθε συνάρτηση λαμβάνει διαφορετικά ορίσματα ανάλογα με την συνάρτηση.\n",
    "\n",
    "Στην συνέχεια ακολουθεί η δημιουργία ενός αντικειμένου shapely γεωμετρίας σημείου."
   ]
  },
  {
   "cell_type": "code",
   "execution_count": 21,
   "id": "4b5a1a19",
   "metadata": {},
   "outputs": [
    {
     "data": {
      "image/svg+xml": [
       "<svg xmlns=\"http://www.w3.org/2000/svg\" xmlns:xlink=\"http://www.w3.org/1999/xlink\" width=\"100.0\" height=\"100.0\" viewBox=\"1.0 -0.5 2.0 2.0\" preserveAspectRatio=\"xMinYMin meet\"><g transform=\"matrix(1,0,0,-1,0,1.0)\"><circle cx=\"2.0\" cy=\"0.5\" r=\"0.06\" stroke=\"#555555\" stroke-width=\"0.02\" fill=\"#66cc99\" opacity=\"0.6\" /></g></svg>"
      ],
      "text/plain": [
       "<shapely.geometry.point.Point at 0x7fb7f4118b80>"
      ]
     },
     "execution_count": 21,
     "metadata": {},
     "output_type": "execute_result"
    }
   ],
   "source": [
    "pnt1 = shapely.geometry.Point((2, 0.5))\n",
    "pnt1"
   ]
  },
  {
   "cell_type": "markdown",
   "id": "cc284013",
   "metadata": {},
   "source": [
    "Για την δημιουργία συλλογής σημείων `multipoint` δίνουμε σαν όρισμα στην συνάρτηση *[shapely.geometry.MultiPoint](https://shapely.readthedocs.io/en/stable/manual.html#collections-of-points)* μία λίστα από πλειάδες (tuples). Η κάθε πλειάδα `(x,y)`αντιστοιχεί στις συντεταγμένες ενός σημείου."
   ]
  },
  {
   "cell_type": "code",
   "execution_count": 22,
   "id": "863f69f5",
   "metadata": {},
   "outputs": [
    {
     "data": {
      "image/svg+xml": [
       "<svg xmlns=\"http://www.w3.org/2000/svg\" xmlns:xlink=\"http://www.w3.org/1999/xlink\" width=\"100.0\" height=\"100.0\" viewBox=\"-1.12 -0.12 3.24 1.2400000000000002\" preserveAspectRatio=\"xMinYMin meet\"><g transform=\"matrix(1,0,0,-1,0,1.0)\"><g><circle cx=\"2.0\" cy=\"0.5\" r=\"0.09720000000000001\" stroke=\"#555555\" stroke-width=\"0.032400000000000005\" fill=\"#66cc99\" opacity=\"0.6\" /><circle cx=\"1.0\" cy=\"1.0\" r=\"0.09720000000000001\" stroke=\"#555555\" stroke-width=\"0.032400000000000005\" fill=\"#66cc99\" opacity=\"0.6\" /><circle cx=\"-1.0\" cy=\"0.0\" r=\"0.09720000000000001\" stroke=\"#555555\" stroke-width=\"0.032400000000000005\" fill=\"#66cc99\" opacity=\"0.6\" /><circle cx=\"1.0\" cy=\"0.0\" r=\"0.09720000000000001\" stroke=\"#555555\" stroke-width=\"0.032400000000000005\" fill=\"#66cc99\" opacity=\"0.6\" /></g></g></svg>"
      ],
      "text/plain": [
       "<shapely.geometry.multipoint.MultiPoint at 0x7fb7f4118670>"
      ]
     },
     "execution_count": 22,
     "metadata": {},
     "output_type": "execute_result"
    }
   ],
   "source": [
    "coords = [(2, 0.5), (1, 1), (-1, 0), (1, 0)]\n",
    "pnt2 = shapely.geometry.MultiPoint(coords)\n",
    "pnt2"
   ]
  },
  {
   "cell_type": "markdown",
   "id": "0999600c",
   "metadata": {},
   "source": [
    "Για την δημιουργία γραμμών χρησιμοποιείται πάλι μία λίστα από tuples που περιγράφουν τις κορυφές της γραμμής. Στο παρακάτω παράδειγμα χρησιμοποιούμαι την προηγούμενη πλειάδα αλλά πλέον χρησιμοποιούμε την μέθοδο *shapely.geometry.LineString* για την δημιουργία γραμμής και όχι την μέθοδο `shapely.geometry.MultiPoint` που δημιουργεί συλλογές σημείων."
   ]
  },
  {
   "cell_type": "code",
   "execution_count": 23,
   "id": "10c8edd1",
   "metadata": {},
   "outputs": [
    {
     "data": {
      "image/svg+xml": [
       "<svg xmlns=\"http://www.w3.org/2000/svg\" xmlns:xlink=\"http://www.w3.org/1999/xlink\" width=\"100.0\" height=\"100.0\" viewBox=\"-1.12 -0.12 3.24 1.2400000000000002\" preserveAspectRatio=\"xMinYMin meet\"><g transform=\"matrix(1,0,0,-1,0,1.0)\"><polyline fill=\"none\" stroke=\"#66cc99\" stroke-width=\"0.06480000000000001\" points=\"2.0,0.5 1.0,1.0 -1.0,0.0 1.0,0.0\" opacity=\"0.8\" /></g></svg>"
      ],
      "text/plain": [
       "<shapely.geometry.linestring.LineString at 0x7fb7f4118c10>"
      ]
     },
     "execution_count": 23,
     "metadata": {},
     "output_type": "execute_result"
    }
   ],
   "source": [
    "line1 = shapely.geometry.LineString(coords)\n",
    "line1"
   ]
  },
  {
   "cell_type": "markdown",
   "id": "02b74bbd",
   "metadata": {},
   "source": [
    "Κατασκεύη γραμμής από Point Objects:"
   ]
  },
  {
   "cell_type": "code",
   "execution_count": 24,
   "id": "aa0dcb5a",
   "metadata": {},
   "outputs": [
    {
     "data": {
      "image/svg+xml": [
       "<svg xmlns=\"http://www.w3.org/2000/svg\" xmlns:xlink=\"http://www.w3.org/1999/xlink\" width=\"100.0\" height=\"100.0\" viewBox=\"-0.12 -1.12 2.74 3.24\" preserveAspectRatio=\"xMinYMin meet\"><g transform=\"matrix(1,0,0,-1,0,1.0)\"><polyline fill=\"none\" stroke=\"#66cc99\" stroke-width=\"0.06480000000000001\" points=\"0.0,0.0 1.0,1.0 2.0,-1.0 2.5,2.0 1.0,-1.0\" opacity=\"0.8\" /></g></svg>"
      ],
      "text/plain": [
       "<shapely.geometry.linestring.LineString at 0x7fb8090a3df0>"
      ]
     },
     "execution_count": 24,
     "metadata": {},
     "output_type": "execute_result"
    }
   ],
   "source": [
    "p1 = shapely.wkt.loads(\"POINT (0 0)\")\n",
    "p2 = shapely.wkt.loads(\"POINT (1 1)\")\n",
    "p3 = shapely.wkt.loads(\"POINT (2 -1)\")\n",
    "p4 = shapely.wkt.loads(\"POINT (2.5 2)\")\n",
    "p5 = shapely.wkt.loads(\"POINT (1 -1)\")\n",
    "\n",
    "shapely.geometry.LineString([p1, p2, p3, p4, p5])"
   ]
  },
  {
   "cell_type": "markdown",
   "id": "ce7577fd",
   "metadata": {},
   "source": [
    "Αντίστοιχα μπορούμε να δημιουργήσουμε συλλογές γραμμών. \n",
    "\n",
    "Δημιουργούμε ξεχωριστά αντικείμενα γραμμών shapely και στην συνέχεια καλούμε την συνάρτηση `shapely.geometry.MultiLineString` όπου ορίζουμε σαν όρισμα μια λίστα με τις μεμονωμένες γραμμές."
   ]
  },
  {
   "cell_type": "code",
   "execution_count": 25,
   "id": "2fea08a4",
   "metadata": {},
   "outputs": [
    {
     "data": {
      "image/svg+xml": [
       "<svg xmlns=\"http://www.w3.org/2000/svg\" xmlns:xlink=\"http://www.w3.org/1999/xlink\" width=\"100.0\" height=\"100.0\" viewBox=\"-2.2 -1.2 5.4 2.4\" preserveAspectRatio=\"xMinYMin meet\"><g transform=\"matrix(1,0,0,-1,0,0.0)\"><g><polyline fill=\"none\" stroke=\"#66cc99\" stroke-width=\"0.10800000000000001\" points=\"2.0,0.5 1.0,1.0 -1.0,0.0 1.0,-1.0\" opacity=\"0.8\" /><polyline fill=\"none\" stroke=\"#66cc99\" stroke-width=\"0.10800000000000001\" points=\"-2.0,1.0 2.0,-0.5 3.0,1.0\" opacity=\"0.8\" /></g></g></svg>"
      ],
      "text/plain": [
       "<shapely.geometry.multilinestring.MultiLineString at 0x7fb80903c9d0>"
      ]
     },
     "execution_count": 25,
     "metadata": {},
     "output_type": "execute_result"
    }
   ],
   "source": [
    "l1 = shapely.geometry.LineString([(2, 0.5), (1, 1), (-1, 0), (1, -1)])\n",
    "l2 = shapely.geometry.LineString([(-2, 1), (2, -0.5), (3, 1)])\n",
    "line2 = shapely.geometry.MultiLineString([l1, l2])\n",
    "line2"
   ]
  },
  {
   "cell_type": "markdown",
   "id": "57e0f4e5",
   "metadata": {},
   "source": [
    "Αντίστοιχα δημιουργούμε πολυγωνικά αντικείμενα  μέσω μια λίστας με πλειάδες σημείων που χρησιμοποιείται σαν όρισμα στην συνάρτηση *shapely.geometry.Polygon*"
   ]
  },
  {
   "cell_type": "code",
   "execution_count": 26,
   "id": "a3ba2736",
   "metadata": {},
   "outputs": [
    {
     "data": {
      "image/svg+xml": [
       "<svg xmlns=\"http://www.w3.org/2000/svg\" xmlns:xlink=\"http://www.w3.org/1999/xlink\" width=\"100.0\" height=\"100.0\" viewBox=\"-0.3 -1.3 8.1 1.6\" preserveAspectRatio=\"xMinYMin meet\"><g transform=\"matrix(1,0,0,-1,0,-1.0)\"><path fill-rule=\"evenodd\" fill=\"#66cc99\" stroke=\"#555555\" stroke-width=\"0.162\" opacity=\"0.6\" d=\"M 0.0,0.0 L 0.0,-1.0 L 7.5,-1.0 L 7.5,0.0 L 0.0,0.0 z\" /></g></svg>"
      ],
      "text/plain": [
       "<shapely.geometry.polygon.Polygon at 0x7fb80693e9a0>"
      ]
     },
     "execution_count": 26,
     "metadata": {},
     "output_type": "execute_result"
    }
   ],
   "source": [
    "coords = [(0, 0), (0, -1), (7.5, -1), [7.5, 0], (0, 0)]\n",
    "shapely.geometry.Polygon(coords)\n"
   ]
  },
  {
   "cell_type": "markdown",
   "id": "de10ab85",
   "metadata": {},
   "source": [
    "Αν θέλουμε μπορούμε να περάσουμε μία δεύτερη λίστα η οποία περιλαμβανει επιμέρους λίστες με πλειάδες σημείων τα οποία περιγράφουν τρύπες μέσα στο πολύγωνο."
   ]
  },
  {
   "cell_type": "code",
   "execution_count": 27,
   "id": "8d989a2c",
   "metadata": {},
   "outputs": [
    {
     "data": {
      "image/svg+xml": [
       "<svg xmlns=\"http://www.w3.org/2000/svg\" xmlns:xlink=\"http://www.w3.org/1999/xlink\" width=\"100.0\" height=\"100.0\" viewBox=\"-0.3 -1.3 8.1 1.6\" preserveAspectRatio=\"xMinYMin meet\"><g transform=\"matrix(1,0,0,-1,0,-1.0)\"><path fill-rule=\"evenodd\" fill=\"#66cc99\" stroke=\"#555555\" stroke-width=\"0.162\" opacity=\"0.6\" d=\"M 0.0,0.0 L 0.0,-1.0 L 7.5,-1.0 L 7.5,0.0 L 0.0,0.0 z M 0.4,-0.3 L 5.0,-0.3 L 5.0,-0.7 L 0.4,-0.7 L 0.4,-0.7 L 0.4,-0.3 z\" /></g></svg>"
      ],
      "text/plain": [
       "<shapely.geometry.polygon.Polygon at 0x7fb8068de790>"
      ]
     },
     "execution_count": 27,
     "metadata": {},
     "output_type": "execute_result"
    }
   ],
   "source": [
    "coords_exterior = [(0, 0), (0, -1), (7.5, -1), (7.5, 0), (0, 0)]\n",
    "coords_interiors = [[(0.4, -0.3), (5, -0.3), (5, -0.7), (0.4, -0.7), (0.4, -0.7)]]\n",
    "shapely.geometry.Polygon(coords_exterior, coords_interiors)"
   ]
  },
  {
   "cell_type": "markdown",
   "id": "5bfc28ee",
   "metadata": {},
   "source": [
    "Με την συνάρτηση *shapely.geometry.MultiPolygon* δημιουργούμε αντίστοιχα συλλογές πολυγώνων από μεμονωμένα αντικείμενα shapely.geometry.polygon.Polygon"
   ]
  },
  {
   "cell_type": "code",
   "execution_count": 28,
   "id": "9d9253e4-b21e-4f3c-84e5-d0d8c6862ace",
   "metadata": {},
   "outputs": [
    {
     "data": {
      "image/svg+xml": [
       "<svg xmlns=\"http://www.w3.org/2000/svg\" xmlns:xlink=\"http://www.w3.org/1999/xlink\" width=\"100.0\" height=\"100.0\" viewBox=\"-0.28 -0.78 7.5600000000000005 2.06\" preserveAspectRatio=\"xMinYMin meet\"><g transform=\"matrix(1,0,0,-1,0,0.5)\"><path fill-rule=\"evenodd\" fill=\"#66cc99\" stroke=\"#555555\" stroke-width=\"0.1512\" opacity=\"0.6\" d=\"M 0.0,1.0 L 1.0,0.0 L 2.0,0.5 L 3.0,0.0 L 4.0,0.0 L 5.0,0.5 L 6.0,-0.5 L 7.0,-0.5 L 7.0,1.0 L 0.0,1.0 z\" /></g></svg>"
      ],
      "text/plain": [
       "<shapely.geometry.polygon.Polygon at 0x7fb8061f4c10>"
      ]
     },
     "execution_count": 28,
     "metadata": {},
     "output_type": "execute_result"
    }
   ],
   "source": [
    "pol2"
   ]
  },
  {
   "cell_type": "code",
   "execution_count": 29,
   "id": "5862f0cb",
   "metadata": {},
   "outputs": [
    {
     "data": {
      "image/svg+xml": [
       "<svg xmlns=\"http://www.w3.org/2000/svg\" xmlns:xlink=\"http://www.w3.org/1999/xlink\" width=\"100.0\" height=\"100.0\" viewBox=\"-0.3 -1.3 8.1 2.6\" preserveAspectRatio=\"xMinYMin meet\"><g transform=\"matrix(1,0,0,-1,0,0.0)\"><g><path fill-rule=\"evenodd\" fill=\"#ff3333\" stroke=\"#555555\" stroke-width=\"0.162\" opacity=\"0.6\" d=\"M 0.0,0.0 L 0.0,-1.0 L 7.5,-1.0 L 7.5,0.0 L 0.0,0.0 z\" /><path fill-rule=\"evenodd\" fill=\"#ff3333\" stroke=\"#555555\" stroke-width=\"0.162\" opacity=\"0.6\" d=\"M 0.0,1.0 L 1.0,0.0 L 2.0,0.5 L 3.0,0.0 L 4.0,0.0 L 5.0,0.5 L 6.0,-0.5 L 7.0,-0.5 L 7.0,1.0 L 0.0,1.0 z\" /></g></g></svg>"
      ],
      "text/plain": [
       "<shapely.geometry.multipolygon.MultiPolygon at 0x7fb8068aaee0>"
      ]
     },
     "execution_count": 29,
     "metadata": {},
     "output_type": "execute_result"
    }
   ],
   "source": [
    "multipolygon1 = shapely.geometry.MultiPolygon([pol1, pol2])\n",
    "multipolygon1\n"
   ]
  },
  {
   "cell_type": "code",
   "execution_count": 30,
   "id": "456fca90",
   "metadata": {},
   "outputs": [
    {
     "name": "stdout",
     "output_type": "stream",
     "text": [
      "MULTIPOLYGON (((0 0, 0 -1, 7.5 -1, 7.5 0, 0 0)), ((0 1, 1 0, 2 0.5, 3 0, 4 0, 5 0.5, 6 -0.5, 7 -0.5, 7 1, 0 1)))\n"
     ]
    }
   ],
   "source": [
    "print(multipolygon1)"
   ]
  },
  {
   "cell_type": "markdown",
   "id": "56beabd6",
   "metadata": {},
   "source": [
    "Σύμφωνα με τις προδιαγραφές [simple features](https://en.wikipedia.org/wiki/Simple_Features) το παραπάνω object δεν είναι έγκυρο γιατί ένα πολύγωνο τέμνει ένα άλλο σε άπειρο αριθμό σημείων. Μπορούμε να ελέγξουμε την εγκυρότητα ενός αντικειμένου με την κλήση τις ιδιότητας *is_valid*. Επίσης κατά την οπτικοποίηση στο προηγούμενο βήμα του αντικειμένου multipolygon1 αυτό εμφανίζεται με κόκκινο (αντί για πράσινο). Ένδειξη ότι δεν ειναι valid."
   ]
  },
  {
   "cell_type": "code",
   "execution_count": 31,
   "id": "646eb87f",
   "metadata": {},
   "outputs": [
    {
     "data": {
      "text/plain": [
       "False"
      ]
     },
     "execution_count": 31,
     "metadata": {},
     "output_type": "execute_result"
    }
   ],
   "source": [
    "multipolygon1.is_valid"
   ]
  },
  {
   "cell_type": "markdown",
   "id": "2340e49d",
   "metadata": {},
   "source": [
    "Ταυτόχρονα μπορούμε να φτιάξουμε σύνθετες συλλογές από επιμέρους αντικείμενα shapely."
   ]
  },
  {
   "cell_type": "code",
   "execution_count": 32,
   "id": "2eced99a",
   "metadata": {},
   "outputs": [],
   "source": [
    "geo_collection = shapely.geometry.GeometryCollection([multipolygon1,line2,pnt1])"
   ]
  },
  {
   "cell_type": "code",
   "execution_count": 33,
   "id": "521e9fd9",
   "metadata": {},
   "outputs": [
    {
     "data": {
      "image/svg+xml": [
       "<svg xmlns=\"http://www.w3.org/2000/svg\" xmlns:xlink=\"http://www.w3.org/1999/xlink\" width=\"100.0\" height=\"100.0\" viewBox=\"-2.38 -1.38 10.26 2.76\" preserveAspectRatio=\"xMinYMin meet\"><g transform=\"matrix(1,0,0,-1,0,0.0)\"><g><g><path fill-rule=\"evenodd\" fill=\"#ff3333\" stroke=\"#555555\" stroke-width=\"0.2052\" opacity=\"0.6\" d=\"M 0.0,0.0 L 0.0,-1.0 L 7.5,-1.0 L 7.5,0.0 L 0.0,0.0 z\" /><path fill-rule=\"evenodd\" fill=\"#ff3333\" stroke=\"#555555\" stroke-width=\"0.2052\" opacity=\"0.6\" d=\"M 0.0,1.0 L 1.0,0.0 L 2.0,0.5 L 3.0,0.0 L 4.0,0.0 L 5.0,0.5 L 6.0,-0.5 L 7.0,-0.5 L 7.0,1.0 L 0.0,1.0 z\" /></g><g><polyline fill=\"none\" stroke=\"#ff3333\" stroke-width=\"0.2052\" points=\"2.0,0.5 1.0,1.0 -1.0,0.0 1.0,-1.0\" opacity=\"0.8\" /><polyline fill=\"none\" stroke=\"#ff3333\" stroke-width=\"0.2052\" points=\"-2.0,1.0 2.0,-0.5 3.0,1.0\" opacity=\"0.8\" /></g><circle cx=\"2.0\" cy=\"0.5\" r=\"0.30779999999999996\" stroke=\"#555555\" stroke-width=\"0.1026\" fill=\"#ff3333\" opacity=\"0.6\" /></g></g></svg>"
      ],
      "text/plain": [
       "<shapely.geometry.collection.GeometryCollection at 0x7fb8068aa520>"
      ]
     },
     "execution_count": 33,
     "metadata": {},
     "output_type": "execute_result"
    }
   ],
   "source": [
    "geo_collection"
   ]
  },
  {
   "cell_type": "markdown",
   "id": "0f7d3192",
   "metadata": {},
   "source": [
    "### Shapely μέσω shape\n"
   ]
  },
  {
   "cell_type": "markdown",
   "id": "71c7383a",
   "metadata": {},
   "source": [
    "Μπορούμε να δημιουργήσουμε αντικείμενα shapely μέσω της συνάρτησης *shapely.geometry.shape* η οποία δέχεται σαν όρισμα ένα λεξικό μορφής [GEOJSON](https://en.wikipedia.org/wiki/GeoJSON) το οποίο πρέπει να έχει τις εξής δύο ιδιότητες.\n",
    "\n",
    "* Την ιδιότητα `\"type\"` που περιγράφει τον τύπο γεωμετρίας\n",
    "* Την ιδιότητα  `\"coordinates\"` που περιγράφει τις γεωμετρίες και τις συντεταγμένες τους σαν λίστες ή πλειάδες."
   ]
  },
  {
   "cell_type": "code",
   "execution_count": 34,
   "id": "d9820695",
   "metadata": {},
   "outputs": [
    {
     "data": {
      "image/svg+xml": [
       "<svg xmlns=\"http://www.w3.org/2000/svg\" xmlns:xlink=\"http://www.w3.org/1999/xlink\" width=\"100.0\" height=\"100.0\" viewBox=\"-1.0 0.0 2.0 2.0\" preserveAspectRatio=\"xMinYMin meet\"><g transform=\"matrix(1,0,0,-1,0,2.0)\"><circle cx=\"0.0\" cy=\"1.0\" r=\"0.06\" stroke=\"#555555\" stroke-width=\"0.02\" fill=\"#66cc99\" opacity=\"0.6\" /></g></svg>"
      ],
      "text/plain": [
       "<shapely.geometry.point.Point at 0x7fb806a97880>"
      ]
     },
     "execution_count": 34,
     "metadata": {},
     "output_type": "execute_result"
    }
   ],
   "source": [
    "d = {\"type\": \"Point\", \"coordinates\": (0, 1)}\n",
    "shapely.geometry.shape(d)"
   ]
  },
  {
   "cell_type": "markdown",
   "id": "fe5c6c22",
   "metadata": {},
   "source": [
    "Δημιουργία αντικειμένου MultiPolygon μέσω GEOJSON λεξικού:"
   ]
  },
  {
   "cell_type": "code",
   "execution_count": 35,
   "id": "cb3bee81",
   "metadata": {},
   "outputs": [
    {
     "data": {
      "image/svg+xml": [
       "<svg xmlns=\"http://www.w3.org/2000/svg\" xmlns:xlink=\"http://www.w3.org/1999/xlink\" width=\"100.0\" height=\"100.0\" viewBox=\"8.4 3.4 38.2 43.2\" preserveAspectRatio=\"xMinYMin meet\"><g transform=\"matrix(1,0,0,-1,0,50.0)\"><g><path fill-rule=\"evenodd\" fill=\"#66cc99\" stroke=\"#555555\" stroke-width=\"0.8640000000000001\" opacity=\"0.6\" d=\"M 40.0,40.0 L 20.0,45.0 L 45.0,30.0 L 40.0,40.0 z\" /><path fill-rule=\"evenodd\" fill=\"#66cc99\" stroke=\"#555555\" stroke-width=\"0.8640000000000001\" opacity=\"0.6\" d=\"M 20.0,35.0 L 10.0,30.0 L 10.0,10.0 L 30.0,5.0 L 45.0,20.0 L 20.0,35.0 z M 30.0,20.0 L 20.0,15.0 L 20.0,25.0 L 30.0,20.0 z\" /></g></g></svg>"
      ],
      "text/plain": [
       "<shapely.geometry.multipolygon.MultiPolygon at 0x7fb806bc2a90>"
      ]
     },
     "execution_count": 35,
     "metadata": {},
     "output_type": "execute_result"
    }
   ],
   "source": [
    "d = {\n",
    "  \"type\": \"MultiPolygon\",\n",
    "  \"coordinates\": [\n",
    "    [\n",
    "      [[40, 40], [20, 45], [45, 30], [40, 40]]\n",
    "    ],\n",
    "    [\n",
    "      [[20, 35], [10, 30], [10, 10], [30, 5], [45, 20], \n",
    "      [20, 35]], \n",
    "      [[30, 20], [20, 15], [20, 25], [30, 20]]\n",
    "    ]\n",
    "  ]\n",
    "}\n",
    "pol3 = shapely.geometry.shape(d)\n",
    "pol3"
   ]
  },
  {
   "cell_type": "markdown",
   "id": "7ddf728b",
   "metadata": {},
   "source": [
    "## Γεωμετρικός τύπος δεδομένων"
   ]
  },
  {
   "cell_type": "markdown",
   "id": "d20db0cf",
   "metadata": {},
   "source": [
    "H ιδιότητα `.geom_type` ενός αντικειμένου shapely περιγράφει τον γεωμετρικό τύπο της:"
   ]
  },
  {
   "cell_type": "code",
   "execution_count": 36,
   "id": "9a3eefb9",
   "metadata": {},
   "outputs": [
    {
     "data": {
      "text/plain": [
       "'Polygon'"
      ]
     },
     "execution_count": 36,
     "metadata": {},
     "output_type": "execute_result"
    }
   ],
   "source": [
    "pol1.geom_type"
   ]
  },
  {
   "cell_type": "code",
   "execution_count": 37,
   "id": "661404ec",
   "metadata": {},
   "outputs": [
    {
     "data": {
      "text/plain": [
       "'LineString'"
      ]
     },
     "execution_count": 37,
     "metadata": {},
     "output_type": "execute_result"
    }
   ],
   "source": [
    "line1.geom_type"
   ]
  },
  {
   "cell_type": "code",
   "execution_count": 38,
   "id": "43b1246d",
   "metadata": {},
   "outputs": [
    {
     "data": {
      "text/plain": [
       "'GeometryCollection'"
      ]
     },
     "execution_count": 38,
     "metadata": {},
     "output_type": "execute_result"
    }
   ],
   "source": [
    "geo_collection.geom_type"
   ]
  },
  {
   "cell_type": "markdown",
   "id": "64863ed0",
   "metadata": {},
   "source": [
    "## Συντεταγμένες"
   ]
  },
  {
   "cell_type": "markdown",
   "id": "71bbe5be",
   "metadata": {},
   "source": [
    "Για να ανακτήσουμε τις συντεταγμένες ενός shapely αντικειμένου καλούμε με διαφορετικό τρόπο τις ανάλογες συναρτήσεις ανάλογα την πολυπλοκότητα του κάθε τύπου."
   ]
  },
  {
   "cell_type": "markdown",
   "id": "c2135616",
   "metadata": {},
   "source": [
    "Για ένα Point object καλούμε άμεσα την ιδιότητα coords η οποία επιστρέφει ένα *shapely.coords.CoordinateSequence* object."
   ]
  },
  {
   "cell_type": "code",
   "execution_count": 39,
   "id": "614e9f5d",
   "metadata": {},
   "outputs": [
    {
     "data": {
      "text/plain": [
       "<shapely.coords.CoordinateSequence at 0x7fb804176df0>"
      ]
     },
     "execution_count": 39,
     "metadata": {},
     "output_type": "execute_result"
    }
   ],
   "source": [
    "pnt1.coords"
   ]
  },
  {
   "cell_type": "markdown",
   "id": "5f5bfb5d",
   "metadata": {},
   "source": [
    "Μπορούμε να λάβουμε ως λίστα τις πλειάδες συντεταγμένων που το απαρτίζουν"
   ]
  },
  {
   "cell_type": "code",
   "execution_count": 40,
   "id": "4f4ac998",
   "metadata": {},
   "outputs": [
    {
     "data": {
      "text/plain": [
       "[(2.0, 0.5)]"
      ]
     },
     "execution_count": 40,
     "metadata": {},
     "output_type": "execute_result"
    }
   ],
   "source": [
    "list(pnt1.coords)"
   ]
  },
  {
   "cell_type": "markdown",
   "id": "7463ef8e",
   "metadata": {},
   "source": [
    "Αντίστοιχα για γραμμή"
   ]
  },
  {
   "cell_type": "code",
   "execution_count": 41,
   "id": "ff2cde35",
   "metadata": {},
   "outputs": [
    {
     "data": {
      "text/plain": [
       "[(2.0, 0.5), (1.0, 1.0), (-1.0, 0.0), (1.0, 0.0)]"
      ]
     },
     "execution_count": 41,
     "metadata": {},
     "output_type": "execute_result"
    }
   ],
   "source": [
    "list(line1.coords)"
   ]
  },
  {
   "cell_type": "markdown",
   "id": "b125d1e9",
   "metadata": {},
   "source": [
    "Για να ελέγξουμε σε ένα αντικείμενο συλλογών γεωμετρίας (MultiPoint, MultiPolygon κτλ) πόσες επιμέρους γεωμετρίες περιλαμβάνει:"
   ]
  },
  {
   "cell_type": "code",
   "execution_count": 42,
   "id": "279ef0f1",
   "metadata": {},
   "outputs": [
    {
     "data": {
      "text/plain": [
       "2"
      ]
     },
     "execution_count": 42,
     "metadata": {},
     "output_type": "execute_result"
    }
   ],
   "source": [
    "len(line2.geoms)"
   ]
  },
  {
   "cell_type": "code",
   "execution_count": 43,
   "id": "87811f59",
   "metadata": {},
   "outputs": [
    {
     "data": {
      "image/svg+xml": [
       "<svg xmlns=\"http://www.w3.org/2000/svg\" xmlns:xlink=\"http://www.w3.org/1999/xlink\" width=\"100.0\" height=\"100.0\" viewBox=\"-2.2 -1.2 5.4 2.4\" preserveAspectRatio=\"xMinYMin meet\"><g transform=\"matrix(1,0,0,-1,0,0.0)\"><g><polyline fill=\"none\" stroke=\"#66cc99\" stroke-width=\"0.10800000000000001\" points=\"2.0,0.5 1.0,1.0 -1.0,0.0 1.0,-1.0\" opacity=\"0.8\" /><polyline fill=\"none\" stroke=\"#66cc99\" stroke-width=\"0.10800000000000001\" points=\"-2.0,1.0 2.0,-0.5 3.0,1.0\" opacity=\"0.8\" /></g></g></svg>"
      ],
      "text/plain": [
       "<shapely.geometry.multilinestring.MultiLineString at 0x7fb80903c9d0>"
      ]
     },
     "execution_count": 43,
     "metadata": {},
     "output_type": "execute_result"
    }
   ],
   "source": [
    "line2"
   ]
  },
  {
   "cell_type": "markdown",
   "id": "4d1af4ce",
   "metadata": {},
   "source": [
    "Για να λάβουμε το πρώτο αντικείμενο γεωμετρίας:"
   ]
  },
  {
   "cell_type": "code",
   "execution_count": 44,
   "id": "66d4679e",
   "metadata": {},
   "outputs": [
    {
     "data": {
      "image/svg+xml": [
       "<svg xmlns=\"http://www.w3.org/2000/svg\" xmlns:xlink=\"http://www.w3.org/1999/xlink\" width=\"100.0\" height=\"100.0\" viewBox=\"-1.12 -1.12 3.24 2.24\" preserveAspectRatio=\"xMinYMin meet\"><g transform=\"matrix(1,0,0,-1,0,0.0)\"><polyline fill=\"none\" stroke=\"#66cc99\" stroke-width=\"0.06480000000000001\" points=\"2.0,0.5 1.0,1.0 -1.0,0.0 1.0,-1.0\" opacity=\"0.8\" /></g></svg>"
      ],
      "text/plain": [
       "<shapely.geometry.linestring.LineString at 0x7fb804176820>"
      ]
     },
     "execution_count": 44,
     "metadata": {},
     "output_type": "execute_result"
    }
   ],
   "source": [
    "line2.geoms[0]"
   ]
  },
  {
   "cell_type": "code",
   "execution_count": 45,
   "id": "3f2f964a",
   "metadata": {},
   "outputs": [
    {
     "data": {
      "text/plain": [
       "shapely.geometry.linestring.LineString"
      ]
     },
     "execution_count": 45,
     "metadata": {},
     "output_type": "execute_result"
    }
   ],
   "source": [
    "type(line2.geoms[0])\n"
   ]
  },
  {
   "cell_type": "code",
   "execution_count": 46,
   "id": "de77824e",
   "metadata": {},
   "outputs": [
    {
     "data": {
      "text/plain": [
       "'LineString'"
      ]
     },
     "execution_count": 46,
     "metadata": {},
     "output_type": "execute_result"
    }
   ],
   "source": [
    "line2.geoms[0].geom_type"
   ]
  },
  {
   "cell_type": "markdown",
   "id": "1fcdd5f6",
   "metadata": {},
   "source": [
    "Και λαμβάνουμε τις συντεταγμένες της πρώτης γεωμετρίας:"
   ]
  },
  {
   "cell_type": "code",
   "execution_count": 47,
   "id": "f8bf173b",
   "metadata": {},
   "outputs": [
    {
     "data": {
      "text/plain": [
       "[(2.0, 0.5), (1.0, 1.0), (-1.0, 0.0), (1.0, -1.0)]"
      ]
     },
     "execution_count": 47,
     "metadata": {},
     "output_type": "execute_result"
    }
   ],
   "source": [
    "list(line2.geoms[0].coords)"
   ]
  },
  {
   "cell_type": "markdown",
   "id": "5f4a86b9",
   "metadata": {},
   "source": [
    "ή της δεύτερης"
   ]
  },
  {
   "cell_type": "code",
   "execution_count": 48,
   "id": "e14e51a0",
   "metadata": {},
   "outputs": [
    {
     "data": {
      "text/plain": [
       "[(-2.0, 1.0), (2.0, -0.5), (3.0, 1.0)]"
      ]
     },
     "execution_count": 48,
     "metadata": {},
     "output_type": "execute_result"
    }
   ],
   "source": [
    "list(line2.geoms[1].coords)"
   ]
  },
  {
   "cell_type": "markdown",
   "id": "b614e1ef",
   "metadata": {},
   "source": [
    "Για τα πολύγωνα ακολουθούμε διαφορετική προσέγγιση. Ένα πολύγωνο αποτελεί από το εξωτερικό περίγραμμα (exterior) ή και ένα ή περισσότερα περιγράμματα εσωτερικών οπών (interiors). Κατά συνέπεια έχουμε συντεταγμένες που περιγράφουν το κάθε περίγραμμα."
   ]
  },
  {
   "cell_type": "markdown",
   "id": "24f6f252",
   "metadata": {},
   "source": [
    "Το εξωτερικό περίγραμμα του pol1 αντικειμένου:"
   ]
  },
  {
   "cell_type": "code",
   "execution_count": 49,
   "id": "d9689bd7",
   "metadata": {},
   "outputs": [
    {
     "data": {
      "image/svg+xml": [
       "<svg xmlns=\"http://www.w3.org/2000/svg\" xmlns:xlink=\"http://www.w3.org/1999/xlink\" width=\"100.0\" height=\"100.0\" viewBox=\"-0.3 -1.3 8.1 1.6\" preserveAspectRatio=\"xMinYMin meet\"><g transform=\"matrix(1,0,0,-1,0,-1.0)\"><polyline fill=\"none\" stroke=\"#66cc99\" stroke-width=\"0.162\" points=\"0.0,0.0 0.0,-1.0 7.5,-1.0 7.5,0.0 0.0,0.0\" opacity=\"0.8\" /></g></svg>"
      ],
      "text/plain": [
       "<shapely.geometry.polygon.LinearRing at 0x7fb8041765e0>"
      ]
     },
     "execution_count": 49,
     "metadata": {},
     "output_type": "execute_result"
    }
   ],
   "source": [
    "pol1.exterior"
   ]
  },
  {
   "cell_type": "markdown",
   "id": "fa69abec",
   "metadata": {},
   "source": [
    "Και οι συντεταγμένες του:"
   ]
  },
  {
   "cell_type": "code",
   "execution_count": 50,
   "id": "bc5ef9c0",
   "metadata": {},
   "outputs": [
    {
     "data": {
      "text/plain": [
       "[(0.0, 0.0), (0.0, -1.0), (7.5, -1.0), (7.5, 0.0), (0.0, 0.0)]"
      ]
     },
     "execution_count": 50,
     "metadata": {},
     "output_type": "execute_result"
    }
   ],
   "source": [
    "list(pol1.exterior.coords)"
   ]
  },
  {
   "cell_type": "code",
   "execution_count": 51,
   "id": "58b88485-1048-41ed-a24c-80dd06c935e4",
   "metadata": {},
   "outputs": [
    {
     "data": {
      "image/svg+xml": [
       "<svg xmlns=\"http://www.w3.org/2000/svg\" xmlns:xlink=\"http://www.w3.org/1999/xlink\" width=\"100.0\" height=\"100.0\" viewBox=\"-0.3 -1.3 8.1 1.6\" preserveAspectRatio=\"xMinYMin meet\"><g transform=\"matrix(1,0,0,-1,0,-1.0)\"><path fill-rule=\"evenodd\" fill=\"#66cc99\" stroke=\"#555555\" stroke-width=\"0.162\" opacity=\"0.6\" d=\"M 0.0,0.0 L 0.0,-1.0 L 7.5,-1.0 L 7.5,0.0 L 0.0,0.0 z\" /></g></svg>"
      ],
      "text/plain": [
       "<shapely.geometry.polygon.Polygon at 0x7fb8061e8460>"
      ]
     },
     "execution_count": 51,
     "metadata": {},
     "output_type": "execute_result"
    }
   ],
   "source": [
    "pol1"
   ]
  },
  {
   "cell_type": "markdown",
   "id": "7f26de0c",
   "metadata": {},
   "source": [
    "Το pol1 όμως δεν έχει εσωτερικές τρύπες γι αυτό και το παρακάτω επιστρέφει μηδέν."
   ]
  },
  {
   "cell_type": "code",
   "execution_count": 52,
   "id": "dab4d275",
   "metadata": {},
   "outputs": [
    {
     "data": {
      "text/plain": [
       "0"
      ]
     },
     "execution_count": 52,
     "metadata": {},
     "output_type": "execute_result"
    }
   ],
   "source": [
    "\n",
    "len(pol1.interiors)"
   ]
  },
  {
   "cell_type": "markdown",
   "id": "92c3355b",
   "metadata": {},
   "source": [
    "Έστω το παρακάτω MultiPolygon object που δημιουργήσαμε σε προηγούμενο στάδιο."
   ]
  },
  {
   "cell_type": "code",
   "execution_count": 53,
   "id": "76027d42",
   "metadata": {},
   "outputs": [
    {
     "data": {
      "image/svg+xml": [
       "<svg xmlns=\"http://www.w3.org/2000/svg\" xmlns:xlink=\"http://www.w3.org/1999/xlink\" width=\"100.0\" height=\"100.0\" viewBox=\"8.4 3.4 38.2 43.2\" preserveAspectRatio=\"xMinYMin meet\"><g transform=\"matrix(1,0,0,-1,0,50.0)\"><g><path fill-rule=\"evenodd\" fill=\"#66cc99\" stroke=\"#555555\" stroke-width=\"0.8640000000000001\" opacity=\"0.6\" d=\"M 40.0,40.0 L 20.0,45.0 L 45.0,30.0 L 40.0,40.0 z\" /><path fill-rule=\"evenodd\" fill=\"#66cc99\" stroke=\"#555555\" stroke-width=\"0.8640000000000001\" opacity=\"0.6\" d=\"M 20.0,35.0 L 10.0,30.0 L 10.0,10.0 L 30.0,5.0 L 45.0,20.0 L 20.0,35.0 z M 30.0,20.0 L 20.0,15.0 L 20.0,25.0 L 30.0,20.0 z\" /></g></g></svg>"
      ],
      "text/plain": [
       "<shapely.geometry.multipolygon.MultiPolygon at 0x7fb806bc2a90>"
      ]
     },
     "execution_count": 53,
     "metadata": {},
     "output_type": "execute_result"
    }
   ],
   "source": [
    "pol3"
   ]
  },
  {
   "cell_type": "markdown",
   "id": "3d91cca5",
   "metadata": {},
   "source": [
    "Περιλαμβάνει δύο ξεχωριστά γεωμετρικά αντικείμενα:"
   ]
  },
  {
   "cell_type": "code",
   "execution_count": 54,
   "id": "91a34793",
   "metadata": {},
   "outputs": [
    {
     "data": {
      "text/plain": [
       "2"
      ]
     },
     "execution_count": 54,
     "metadata": {},
     "output_type": "execute_result"
    }
   ],
   "source": [
    "len(pol3.geoms)"
   ]
  },
  {
   "cell_type": "markdown",
   "id": "af87cb1f",
   "metadata": {},
   "source": [
    "Ας πάρουμε το πρώτο:"
   ]
  },
  {
   "cell_type": "code",
   "execution_count": 55,
   "id": "5aa18dac",
   "metadata": {},
   "outputs": [
    {
     "data": {
      "image/svg+xml": [
       "<svg xmlns=\"http://www.w3.org/2000/svg\" xmlns:xlink=\"http://www.w3.org/1999/xlink\" width=\"100.0\" height=\"100.0\" viewBox=\"19.0 29.0 27.0 17.0\" preserveAspectRatio=\"xMinYMin meet\"><g transform=\"matrix(1,0,0,-1,0,75.0)\"><path fill-rule=\"evenodd\" fill=\"#66cc99\" stroke=\"#555555\" stroke-width=\"0.54\" opacity=\"0.6\" d=\"M 40.0,40.0 L 20.0,45.0 L 45.0,30.0 L 40.0,40.0 z\" /></g></svg>"
      ],
      "text/plain": [
       "<shapely.geometry.polygon.Polygon at 0x7fb806bfabb0>"
      ]
     },
     "execution_count": 55,
     "metadata": {},
     "output_type": "execute_result"
    }
   ],
   "source": [
    "pol3.geoms[0]"
   ]
  },
  {
   "cell_type": "markdown",
   "id": "5b64b985",
   "metadata": {},
   "source": [
    "Δεν περιλαμβάνει καμία τρύπα στο εσωτερικό του. Ας πάρουμε τις συντεταγμένες από το περίγραμμά του (exterior)"
   ]
  },
  {
   "cell_type": "code",
   "execution_count": 56,
   "id": "7e01c7dc",
   "metadata": {},
   "outputs": [
    {
     "data": {
      "text/plain": [
       "<shapely.coords.CoordinateSequence at 0x7fb8061f4ee0>"
      ]
     },
     "execution_count": 56,
     "metadata": {},
     "output_type": "execute_result"
    }
   ],
   "source": [
    "pol3.geoms[0].exterior.coords"
   ]
  },
  {
   "cell_type": "markdown",
   "id": "8f53deca",
   "metadata": {},
   "source": [
    "Και ας τις επιστρέψουμε σαν λίστα πλειάδων από ζεύγη της μορφής `(x,y)`"
   ]
  },
  {
   "cell_type": "code",
   "execution_count": 57,
   "id": "cbbd80b0",
   "metadata": {},
   "outputs": [
    {
     "data": {
      "text/plain": [
       "[(40.0, 40.0), (20.0, 45.0), (45.0, 30.0), (40.0, 40.0)]"
      ]
     },
     "execution_count": 57,
     "metadata": {},
     "output_type": "execute_result"
    }
   ],
   "source": [
    "list(pol3.geoms[0].exterior.coords)"
   ]
  },
  {
   "cell_type": "markdown",
   "id": "27fbf94a",
   "metadata": {},
   "source": [
    "Ας δοκιμάσουμε το δεύτερο αντικείμενο γεωμετρίας. Ας το δούμε:"
   ]
  },
  {
   "cell_type": "code",
   "execution_count": 58,
   "id": "6942c6cd",
   "metadata": {},
   "outputs": [
    {
     "data": {
      "image/svg+xml": [
       "<svg xmlns=\"http://www.w3.org/2000/svg\" xmlns:xlink=\"http://www.w3.org/1999/xlink\" width=\"100.0\" height=\"100.0\" viewBox=\"8.6 3.5999999999999996 37.8 32.8\" preserveAspectRatio=\"xMinYMin meet\"><g transform=\"matrix(1,0,0,-1,0,40.0)\"><path fill-rule=\"evenodd\" fill=\"#66cc99\" stroke=\"#555555\" stroke-width=\"0.7559999999999999\" opacity=\"0.6\" d=\"M 20.0,35.0 L 10.0,30.0 L 10.0,10.0 L 30.0,5.0 L 45.0,20.0 L 20.0,35.0 z M 30.0,20.0 L 20.0,15.0 L 20.0,25.0 L 30.0,20.0 z\" /></g></svg>"
      ],
      "text/plain": [
       "<shapely.geometry.polygon.Polygon at 0x7fb8061e8b50>"
      ]
     },
     "execution_count": 58,
     "metadata": {},
     "output_type": "execute_result"
    }
   ],
   "source": [
    "pol3.geoms[1]"
   ]
  },
  {
   "cell_type": "markdown",
   "id": "51e97759",
   "metadata": {},
   "source": [
    "Λαμβάνουμε τις συντεταγμένες του εξωτερικού περιγράμματος:"
   ]
  },
  {
   "cell_type": "code",
   "execution_count": 59,
   "id": "c5393ff2",
   "metadata": {},
   "outputs": [
    {
     "data": {
      "text/plain": [
       "[(20.0, 35.0),\n",
       " (10.0, 30.0),\n",
       " (10.0, 10.0),\n",
       " (30.0, 5.0),\n",
       " (45.0, 20.0),\n",
       " (20.0, 35.0)]"
      ]
     },
     "execution_count": 59,
     "metadata": {},
     "output_type": "execute_result"
    }
   ],
   "source": [
    "list(pol3.geoms[1].exterior.coords)"
   ]
  },
  {
   "cell_type": "markdown",
   "id": "82fbcf40",
   "metadata": {},
   "source": [
    "Ας δούμε πόσες τρύπες έχει στο εσωτερικό του:"
   ]
  },
  {
   "cell_type": "code",
   "execution_count": 60,
   "id": "c37fea6c",
   "metadata": {},
   "outputs": [
    {
     "data": {
      "text/plain": [
       "1"
      ]
     },
     "execution_count": 60,
     "metadata": {},
     "output_type": "execute_result"
    }
   ],
   "source": [
    "len(pol3.geoms[1].interiors)"
   ]
  },
  {
   "cell_type": "markdown",
   "id": "0dad13f8",
   "metadata": {},
   "source": [
    "Παίρνουμε το περίγραμμα της τρύπας"
   ]
  },
  {
   "cell_type": "code",
   "execution_count": 61,
   "id": "e57f6b68",
   "metadata": {},
   "outputs": [
    {
     "data": {
      "image/svg+xml": [
       "<svg xmlns=\"http://www.w3.org/2000/svg\" xmlns:xlink=\"http://www.w3.org/1999/xlink\" width=\"100.0\" height=\"100.0\" viewBox=\"19.6 14.6 10.799999999999997 10.799999999999999\" preserveAspectRatio=\"xMinYMin meet\"><g transform=\"matrix(1,0,0,-1,0,40.0)\"><polyline fill=\"none\" stroke=\"#66cc99\" stroke-width=\"0.21599999999999997\" points=\"30.0,20.0 20.0,15.0 20.0,25.0 30.0,20.0\" opacity=\"0.8\" /></g></svg>"
      ],
      "text/plain": [
       "<shapely.geometry.polygon.LinearRing at 0x7fb806b7dbb0>"
      ]
     },
     "execution_count": 61,
     "metadata": {},
     "output_type": "execute_result"
    }
   ],
   "source": [
    "pol3.geoms[1].interiors[0]"
   ]
  },
  {
   "cell_type": "markdown",
   "id": "be0543b9",
   "metadata": {},
   "source": [
    "Και τις συντεταγμένες της"
   ]
  },
  {
   "cell_type": "code",
   "execution_count": 62,
   "id": "5cca5a19",
   "metadata": {},
   "outputs": [
    {
     "data": {
      "text/plain": [
       "[(30.0, 20.0), (20.0, 15.0), (20.0, 25.0), (30.0, 20.0)]"
      ]
     },
     "execution_count": 62,
     "metadata": {},
     "output_type": "execute_result"
    }
   ],
   "source": [
    "list(pol3.geoms[1].interiors[0].coords)"
   ]
  },
  {
   "cell_type": "markdown",
   "id": "d99f7af0",
   "metadata": {},
   "source": [
    "### Ιδιότητες αντικειμένων"
   ]
  },
  {
   "cell_type": "markdown",
   "id": "b606f9d8",
   "metadata": {},
   "source": [
    "#### Υπολογισμός ορίων (bounds)"
   ]
  },
  {
   "cell_type": "code",
   "execution_count": 63,
   "id": "6beb7698",
   "metadata": {},
   "outputs": [
    {
     "data": {
      "image/svg+xml": [
       "<svg xmlns=\"http://www.w3.org/2000/svg\" xmlns:xlink=\"http://www.w3.org/1999/xlink\" width=\"100.0\" height=\"100.0\" viewBox=\"-2.38 -1.38 10.26 2.76\" preserveAspectRatio=\"xMinYMin meet\"><g transform=\"matrix(1,0,0,-1,0,0.0)\"><g><g><path fill-rule=\"evenodd\" fill=\"#ff3333\" stroke=\"#555555\" stroke-width=\"0.2052\" opacity=\"0.6\" d=\"M 0.0,0.0 L 0.0,-1.0 L 7.5,-1.0 L 7.5,0.0 L 0.0,0.0 z\" /><path fill-rule=\"evenodd\" fill=\"#ff3333\" stroke=\"#555555\" stroke-width=\"0.2052\" opacity=\"0.6\" d=\"M 0.0,1.0 L 1.0,0.0 L 2.0,0.5 L 3.0,0.0 L 4.0,0.0 L 5.0,0.5 L 6.0,-0.5 L 7.0,-0.5 L 7.0,1.0 L 0.0,1.0 z\" /></g><g><polyline fill=\"none\" stroke=\"#ff3333\" stroke-width=\"0.2052\" points=\"2.0,0.5 1.0,1.0 -1.0,0.0 1.0,-1.0\" opacity=\"0.8\" /><polyline fill=\"none\" stroke=\"#ff3333\" stroke-width=\"0.2052\" points=\"-2.0,1.0 2.0,-0.5 3.0,1.0\" opacity=\"0.8\" /></g><circle cx=\"2.0\" cy=\"0.5\" r=\"0.30779999999999996\" stroke=\"#555555\" stroke-width=\"0.1026\" fill=\"#ff3333\" opacity=\"0.6\" /></g></g></svg>"
      ],
      "text/plain": [
       "<shapely.geometry.collection.GeometryCollection at 0x7fb8068aa520>"
      ]
     },
     "execution_count": 63,
     "metadata": {},
     "output_type": "execute_result"
    }
   ],
   "source": [
    "geo_collection"
   ]
  },
  {
   "cell_type": "code",
   "execution_count": 64,
   "id": "07d06bfc",
   "metadata": {},
   "outputs": [
    {
     "data": {
      "text/plain": [
       "(-2.0, -1.0, 7.5, 1.0)"
      ]
     },
     "execution_count": 64,
     "metadata": {},
     "output_type": "execute_result"
    }
   ],
   "source": [
    "geo_collection.bounds"
   ]
  },
  {
   "cell_type": "code",
   "execution_count": 65,
   "id": "7e55dfbe",
   "metadata": {},
   "outputs": [
    {
     "data": {
      "image/svg+xml": [
       "<svg xmlns=\"http://www.w3.org/2000/svg\" xmlns:xlink=\"http://www.w3.org/1999/xlink\" width=\"100.0\" height=\"100.0\" viewBox=\"-2.38 -1.38 10.26 2.76\" preserveAspectRatio=\"xMinYMin meet\"><g transform=\"matrix(1,0,0,-1,0,0.0)\"><path fill-rule=\"evenodd\" fill=\"#66cc99\" stroke=\"#555555\" stroke-width=\"0.2052\" opacity=\"0.6\" d=\"M 7.5,-1.0 L 7.5,1.0 L -2.0,1.0 L -2.0,-1.0 L 7.5,-1.0 z\" /></g></svg>"
      ],
      "text/plain": [
       "<shapely.geometry.polygon.Polygon at 0x7fb7f41189a0>"
      ]
     },
     "execution_count": 65,
     "metadata": {},
     "output_type": "execute_result"
    }
   ],
   "source": [
    "shapely.geometry.box(*geo_collection.bounds)"
   ]
  },
  {
   "cell_type": "code",
   "execution_count": 66,
   "id": "77082c65",
   "metadata": {},
   "outputs": [
    {
     "data": {
      "image/svg+xml": [
       "<svg xmlns=\"http://www.w3.org/2000/svg\" xmlns:xlink=\"http://www.w3.org/1999/xlink\" width=\"100.0\" height=\"100.0\" viewBox=\"-1.12 -0.12 3.24 1.2400000000000002\" preserveAspectRatio=\"xMinYMin meet\"><g transform=\"matrix(1,0,0,-1,0,1.0)\"><polyline fill=\"none\" stroke=\"#66cc99\" stroke-width=\"0.06480000000000001\" points=\"2.0,0.5 1.0,1.0 -1.0,0.0 1.0,0.0\" opacity=\"0.8\" /></g></svg>"
      ],
      "text/plain": [
       "<shapely.geometry.linestring.LineString at 0x7fb7f4118c10>"
      ]
     },
     "execution_count": 66,
     "metadata": {},
     "output_type": "execute_result"
    }
   ],
   "source": [
    "line1"
   ]
  },
  {
   "cell_type": "code",
   "execution_count": 67,
   "id": "2c2041db",
   "metadata": {},
   "outputs": [
    {
     "data": {
      "text/plain": [
       "(-1.0, 0.0, 2.0, 1.0)"
      ]
     },
     "execution_count": 67,
     "metadata": {},
     "output_type": "execute_result"
    }
   ],
   "source": [
    "line1.bounds"
   ]
  },
  {
   "cell_type": "code",
   "execution_count": 68,
   "id": "86c9139d",
   "metadata": {},
   "outputs": [
    {
     "data": {
      "image/svg+xml": [
       "<svg xmlns=\"http://www.w3.org/2000/svg\" xmlns:xlink=\"http://www.w3.org/1999/xlink\" width=\"100.0\" height=\"100.0\" viewBox=\"1.0 -0.5 2.0 2.0\" preserveAspectRatio=\"xMinYMin meet\"><g transform=\"matrix(1,0,0,-1,0,1.0)\"><circle cx=\"2.0\" cy=\"0.5\" r=\"0.06\" stroke=\"#555555\" stroke-width=\"0.02\" fill=\"#66cc99\" opacity=\"0.6\" /></g></svg>"
      ],
      "text/plain": [
       "<shapely.geometry.point.Point at 0x7fb7f4118b80>"
      ]
     },
     "execution_count": 68,
     "metadata": {},
     "output_type": "execute_result"
    }
   ],
   "source": [
    "pnt1"
   ]
  },
  {
   "cell_type": "code",
   "execution_count": 69,
   "id": "5a7a084c",
   "metadata": {},
   "outputs": [
    {
     "data": {
      "text/plain": [
       "(2.0, 0.5, 2.0, 0.5)"
      ]
     },
     "execution_count": 69,
     "metadata": {},
     "output_type": "execute_result"
    }
   ],
   "source": [
    "pnt1.bounds"
   ]
  },
  {
   "cell_type": "code",
   "execution_count": 70,
   "id": "3cf878a1",
   "metadata": {},
   "outputs": [
    {
     "data": {
      "text/plain": [
       "[(2.0, 0.5)]"
      ]
     },
     "execution_count": 70,
     "metadata": {},
     "output_type": "execute_result"
    }
   ],
   "source": [
    "list(pnt1.coords)"
   ]
  },
  {
   "cell_type": "markdown",
   "id": "22671e49",
   "metadata": {},
   "source": [
    "#### Υπολογισμός μήκους γραμμής"
   ]
  },
  {
   "cell_type": "code",
   "execution_count": 71,
   "id": "f9ad1713",
   "metadata": {},
   "outputs": [
    {
     "data": {
      "image/svg+xml": [
       "<svg xmlns=\"http://www.w3.org/2000/svg\" xmlns:xlink=\"http://www.w3.org/1999/xlink\" width=\"100.0\" height=\"100.0\" viewBox=\"-1.12 -0.12 3.24 1.2400000000000002\" preserveAspectRatio=\"xMinYMin meet\"><g transform=\"matrix(1,0,0,-1,0,1.0)\"><polyline fill=\"none\" stroke=\"#66cc99\" stroke-width=\"0.06480000000000001\" points=\"2.0,0.5 1.0,1.0 -1.0,0.0 1.0,0.0\" opacity=\"0.8\" /></g></svg>"
      ],
      "text/plain": [
       "<shapely.geometry.linestring.LineString at 0x7fb7f4118c10>"
      ]
     },
     "execution_count": 71,
     "metadata": {},
     "output_type": "execute_result"
    }
   ],
   "source": [
    "line1"
   ]
  },
  {
   "cell_type": "code",
   "execution_count": 72,
   "id": "1e596d2f",
   "metadata": {},
   "outputs": [
    {
     "data": {
      "text/plain": [
       "5.354101966249685"
      ]
     },
     "execution_count": 72,
     "metadata": {},
     "output_type": "execute_result"
    }
   ],
   "source": [
    "line1.length"
   ]
  },
  {
   "cell_type": "code",
   "execution_count": 73,
   "id": "5ebbd665",
   "metadata": {},
   "outputs": [
    {
     "data": {
      "image/svg+xml": [
       "<svg xmlns=\"http://www.w3.org/2000/svg\" xmlns:xlink=\"http://www.w3.org/1999/xlink\" width=\"100.0\" height=\"100.0\" viewBox=\"-1.12 -1.12 3.24 2.24\" preserveAspectRatio=\"xMinYMin meet\"><g transform=\"matrix(1,0,0,-1,0,0.0)\"><polyline fill=\"none\" stroke=\"#66cc99\" stroke-width=\"0.06480000000000001\" points=\"2.0,0.5 1.0,1.0 -1.0,0.0 1.0,-1.0\" opacity=\"0.8\" /></g></svg>"
      ],
      "text/plain": [
       "<shapely.geometry.linestring.LineString at 0x7fb806795130>"
      ]
     },
     "execution_count": 73,
     "metadata": {},
     "output_type": "execute_result"
    }
   ],
   "source": [
    "line2.geoms[0]"
   ]
  },
  {
   "cell_type": "code",
   "execution_count": 74,
   "id": "8117311e",
   "metadata": {},
   "outputs": [
    {
     "data": {
      "text/plain": [
       "5.5901699437494745"
      ]
     },
     "execution_count": 74,
     "metadata": {},
     "output_type": "execute_result"
    }
   ],
   "source": [
    "line2.geoms[0].length"
   ]
  },
  {
   "cell_type": "markdown",
   "id": "fe10b920",
   "metadata": {},
   "source": [
    "#### Υπολογισμός εμβαδού"
   ]
  },
  {
   "cell_type": "code",
   "execution_count": 75,
   "id": "de4b11dc",
   "metadata": {},
   "outputs": [
    {
     "data": {
      "text/plain": [
       "7.5"
      ]
     },
     "execution_count": 75,
     "metadata": {},
     "output_type": "execute_result"
    }
   ],
   "source": [
    "pol1.area"
   ]
  },
  {
   "cell_type": "code",
   "execution_count": 76,
   "id": "d7dfd60d",
   "metadata": {},
   "outputs": [
    {
     "data": {
      "text/plain": [
       "6.25"
      ]
     },
     "execution_count": 76,
     "metadata": {},
     "output_type": "execute_result"
    }
   ],
   "source": [
    "pol2.area"
   ]
  },
  {
   "cell_type": "markdown",
   "id": "c4827ca6",
   "metadata": {},
   "source": [
    "### Νέες γεωμετρίες"
   ]
  },
  {
   "cell_type": "markdown",
   "id": "dd2994df",
   "metadata": {},
   "source": [
    "#### Κεντροειδές πολυγώνου (centroid)"
   ]
  },
  {
   "cell_type": "code",
   "execution_count": 77,
   "id": "c8fc8e4a",
   "metadata": {},
   "outputs": [
    {
     "data": {
      "image/svg+xml": [
       "<svg xmlns=\"http://www.w3.org/2000/svg\" xmlns:xlink=\"http://www.w3.org/1999/xlink\" width=\"100.0\" height=\"100.0\" viewBox=\"-0.28 -0.78 7.5600000000000005 2.06\" preserveAspectRatio=\"xMinYMin meet\"><g transform=\"matrix(1,0,0,-1,0,0.5)\"><path fill-rule=\"evenodd\" fill=\"#66cc99\" stroke=\"#555555\" stroke-width=\"0.1512\" opacity=\"0.6\" d=\"M 0.0,1.0 L 1.0,0.0 L 2.0,0.5 L 3.0,0.0 L 4.0,0.0 L 5.0,0.5 L 6.0,-0.5 L 7.0,-0.5 L 7.0,1.0 L 0.0,1.0 z\" /></g></svg>"
      ],
      "text/plain": [
       "<shapely.geometry.polygon.Polygon at 0x7fb8061f4c10>"
      ]
     },
     "execution_count": 77,
     "metadata": {},
     "output_type": "execute_result"
    }
   ],
   "source": [
    "pol2"
   ]
  },
  {
   "cell_type": "code",
   "execution_count": 78,
   "id": "ebcda06e",
   "metadata": {},
   "outputs": [
    {
     "data": {
      "image/svg+xml": [
       "<svg xmlns=\"http://www.w3.org/2000/svg\" xmlns:xlink=\"http://www.w3.org/1999/xlink\" width=\"100.0\" height=\"100.0\" viewBox=\"3.08 -0.5133333333333334 2.0 2.0\" preserveAspectRatio=\"xMinYMin meet\"><g transform=\"matrix(1,0,0,-1,0,0.9733333333333332)\"><circle cx=\"4.08\" cy=\"0.48666666666666664\" r=\"0.06\" stroke=\"#555555\" stroke-width=\"0.02\" fill=\"#66cc99\" opacity=\"0.6\" /></g></svg>"
      ],
      "text/plain": [
       "<shapely.geometry.point.Point at 0x7fb80417cdf0>"
      ]
     },
     "execution_count": 78,
     "metadata": {},
     "output_type": "execute_result"
    }
   ],
   "source": [
    "pol2.centroid"
   ]
  },
  {
   "cell_type": "code",
   "execution_count": 79,
   "id": "cb3946da",
   "metadata": {},
   "outputs": [
    {
     "data": {
      "image/svg+xml": [
       "<svg xmlns=\"http://www.w3.org/2000/svg\" xmlns:xlink=\"http://www.w3.org/1999/xlink\" width=\"100.0\" height=\"100.0\" viewBox=\"-0.28 -0.78 7.5600000000000005 2.06\" preserveAspectRatio=\"xMinYMin meet\"><g transform=\"matrix(1,0,0,-1,0,0.5)\"><g><path fill-rule=\"evenodd\" fill=\"#66cc99\" stroke=\"#555555\" stroke-width=\"0.1512\" opacity=\"0.6\" d=\"M 0.0,1.0 L 1.0,0.0 L 2.0,0.5 L 3.0,0.0 L 4.0,0.0 L 5.0,0.5 L 6.0,-0.5 L 7.0,-0.5 L 7.0,1.0 L 0.0,1.0 z\" /><circle cx=\"4.08\" cy=\"0.48666666666666664\" r=\"0.2268\" stroke=\"#555555\" stroke-width=\"0.0756\" fill=\"#66cc99\" opacity=\"0.6\" /></g></g></svg>"
      ],
      "text/plain": [
       "<shapely.geometry.collection.GeometryCollection at 0x7fb806bc2a30>"
      ]
     },
     "execution_count": 79,
     "metadata": {},
     "output_type": "execute_result"
    }
   ],
   "source": [
    "shapely.geometry.GeometryCollection([pol2, pol2.centroid])"
   ]
  },
  {
   "cell_type": "markdown",
   "id": "967da96a",
   "metadata": {},
   "source": [
    "#### Περιμετρική ζώνη (buffer)"
   ]
  },
  {
   "cell_type": "code",
   "execution_count": 80,
   "id": "d67ccb72",
   "metadata": {},
   "outputs": [
    {
     "data": {
      "image/svg+xml": [
       "<svg xmlns=\"http://www.w3.org/2000/svg\" xmlns:xlink=\"http://www.w3.org/1999/xlink\" width=\"100.0\" height=\"100.0\" viewBox=\"-3.4 -4.9 10.8 10.8\" preserveAspectRatio=\"xMinYMin meet\"><g transform=\"matrix(1,0,0,-1,0,1.0)\"><path fill-rule=\"evenodd\" fill=\"#66cc99\" stroke=\"#555555\" stroke-width=\"0.21600000000000003\" opacity=\"0.6\" d=\"M 7.0,0.5 L 6.975923633360985,0.009914298352196982 L 6.903926402016152,-0.4754516100806412 L 6.784701678661044,-0.9514233862723116 L 6.619397662556434,-1.413417161825449 L 6.409606321741776,-1.8569836841299883 L 6.157348061512726,-2.277851165098011 L 5.865052266813684,-2.6719664208182277 L 5.535533905932738,-3.0355339059327373 L 5.171966420818228,-3.365052266813685 L 4.777851165098012,-3.6573480615127263 L 4.35698368412999,-3.9096063217417747 L 3.913417161825449,-4.119397662556434 L 3.4514233862723116,-4.284701678661045 L 2.9754516100806416,-4.403926402016152 L 2.490085701647804,-4.475923633360984 L 2.0000000000000004,-4.5 L 1.5099142983521967,-4.475923633360985 L 1.024548389919359,-4.403926402016152 L 0.5485766137276893,-4.284701678661045 L 0.08658283817455148,-4.119397662556434 L -0.3569836841299887,-3.9096063217417756 L -0.77785116509801,-3.657348061512727 L -1.1719664208182268,-3.3650522668136853 L -1.5355339059327373,-3.0355339059327378 L -1.8650522668136849,-2.6719664208182277 L -2.1573480615127263,-2.277851165098011 L -2.4096063217417747,-1.8569836841299892 L -2.619397662556434,-1.4134171618254494 L -2.784701678661044,-0.951423386272312 L -2.903926402016152,-0.4754516100806431 L -2.975923633360984,0.009914298352195872 L -3.0,0.4999999999999994 L -2.975923633360985,0.990085701647803 L -2.903926402016152,1.4754516100806419 L -2.784701678661045,1.9514233862723105 L -2.619397662556434,2.413417161825448 L -2.4096063217417756,2.8569836841299883 L -2.157348061512727,3.27785116509801 L -1.8650522668136853,3.6719664208182263 L -1.5355339059327386,4.035533905932738 L -1.1719664208182294,4.3650522668136835 L -0.7778511650980109,4.657348061512726 L -0.35698368412998915,4.909606321741775 L 0.08658283817454837,5.119397662556432 L 0.5485766137276877,5.284701678661044 L 1.0245483899193566,5.403926402016151 L 1.5099142983521978,5.475923633360985 L 1.9999999999999991,5.5 L 2.4900857016478004,5.475923633360985 L 2.9754516100806416,5.403926402016152 L 3.4514233862723103,5.284701678661045 L 3.91341716182545,5.119397662556433 L 4.356983684129988,4.909606321741776 L 4.777851165098009,4.657348061512727 L 5.171966420818228,4.365052266813684 L 5.535533905932737,4.035533905932739 L 5.8650522668136835,3.6719664208182294 L 6.157348061512726,3.277851165098011 L 6.409606321741774,2.8569836841299896 L 6.619397662556432,2.413417161825452 L 6.784701678661044,1.9514233862723125 L 6.903926402016151,1.4754516100806436 L 6.975923633360985,0.9900857016478025 L 7.0,0.5 z\" /></g></svg>"
      ],
      "text/plain": [
       "<shapely.geometry.polygon.Polygon at 0x7fb806a6fee0>"
      ]
     },
     "execution_count": 80,
     "metadata": {},
     "output_type": "execute_result"
    }
   ],
   "source": [
    "pnt1.buffer(5)"
   ]
  },
  {
   "cell_type": "code",
   "execution_count": 81,
   "id": "e9810bb0",
   "metadata": {},
   "outputs": [
    {
     "data": {
      "image/svg+xml": [
       "<svg xmlns=\"http://www.w3.org/2000/svg\" xmlns:xlink=\"http://www.w3.org/1999/xlink\" width=\"100.0\" height=\"100.0\" viewBox=\"-3.4 -4.9 10.8 10.8\" preserveAspectRatio=\"xMinYMin meet\"><g transform=\"matrix(1,0,0,-1,0,1.0)\"><g><circle cx=\"2.0\" cy=\"0.5\" r=\"0.32400000000000007\" stroke=\"#555555\" stroke-width=\"0.10800000000000001\" fill=\"#66cc99\" opacity=\"0.6\" /><path fill-rule=\"evenodd\" fill=\"#66cc99\" stroke=\"#555555\" stroke-width=\"0.21600000000000003\" opacity=\"0.6\" d=\"M 7.0,0.5 L 6.975923633360985,0.009914298352196982 L 6.903926402016152,-0.4754516100806412 L 6.784701678661044,-0.9514233862723116 L 6.619397662556434,-1.413417161825449 L 6.409606321741776,-1.8569836841299883 L 6.157348061512726,-2.277851165098011 L 5.865052266813684,-2.6719664208182277 L 5.535533905932738,-3.0355339059327373 L 5.171966420818228,-3.365052266813685 L 4.777851165098012,-3.6573480615127263 L 4.35698368412999,-3.9096063217417747 L 3.913417161825449,-4.119397662556434 L 3.4514233862723116,-4.284701678661045 L 2.9754516100806416,-4.403926402016152 L 2.490085701647804,-4.475923633360984 L 2.0000000000000004,-4.5 L 1.5099142983521967,-4.475923633360985 L 1.024548389919359,-4.403926402016152 L 0.5485766137276893,-4.284701678661045 L 0.08658283817455148,-4.119397662556434 L -0.3569836841299887,-3.9096063217417756 L -0.77785116509801,-3.657348061512727 L -1.1719664208182268,-3.3650522668136853 L -1.5355339059327373,-3.0355339059327378 L -1.8650522668136849,-2.6719664208182277 L -2.1573480615127263,-2.277851165098011 L -2.4096063217417747,-1.8569836841299892 L -2.619397662556434,-1.4134171618254494 L -2.784701678661044,-0.951423386272312 L -2.903926402016152,-0.4754516100806431 L -2.975923633360984,0.009914298352195872 L -3.0,0.4999999999999994 L -2.975923633360985,0.990085701647803 L -2.903926402016152,1.4754516100806419 L -2.784701678661045,1.9514233862723105 L -2.619397662556434,2.413417161825448 L -2.4096063217417756,2.8569836841299883 L -2.157348061512727,3.27785116509801 L -1.8650522668136853,3.6719664208182263 L -1.5355339059327386,4.035533905932738 L -1.1719664208182294,4.3650522668136835 L -0.7778511650980109,4.657348061512726 L -0.35698368412998915,4.909606321741775 L 0.08658283817454837,5.119397662556432 L 0.5485766137276877,5.284701678661044 L 1.0245483899193566,5.403926402016151 L 1.5099142983521978,5.475923633360985 L 1.9999999999999991,5.5 L 2.4900857016478004,5.475923633360985 L 2.9754516100806416,5.403926402016152 L 3.4514233862723103,5.284701678661045 L 3.91341716182545,5.119397662556433 L 4.356983684129988,4.909606321741776 L 4.777851165098009,4.657348061512727 L 5.171966420818228,4.365052266813684 L 5.535533905932737,4.035533905932739 L 5.8650522668136835,3.6719664208182294 L 6.157348061512726,3.277851165098011 L 6.409606321741774,2.8569836841299896 L 6.619397662556432,2.413417161825452 L 6.784701678661044,1.9514233862723125 L 6.903926402016151,1.4754516100806436 L 6.975923633360985,0.9900857016478025 L 7.0,0.5 z\" /></g></g></svg>"
      ],
      "text/plain": [
       "<shapely.geometry.collection.GeometryCollection at 0x7fb809090310>"
      ]
     },
     "execution_count": 81,
     "metadata": {},
     "output_type": "execute_result"
    }
   ],
   "source": [
    "shapely.geometry.GeometryCollection([pnt1,pnt1.buffer(5)])"
   ]
  },
  {
   "cell_type": "code",
   "execution_count": 82,
   "id": "0d22fd5b",
   "metadata": {},
   "outputs": [
    {
     "data": {
      "image/svg+xml": [
       "<svg xmlns=\"http://www.w3.org/2000/svg\" xmlns:xlink=\"http://www.w3.org/1999/xlink\" width=\"100.0\" height=\"100.0\" viewBox=\"-5.7 -6.7 18.9 12.4\" preserveAspectRatio=\"xMinYMin meet\"><g transform=\"matrix(1,0,0,-1,0,-1.0)\"><path fill-rule=\"evenodd\" fill=\"#66cc99\" stroke=\"#555555\" stroke-width=\"0.37799999999999995\" opacity=\"0.6\" d=\"M 0.0,5.0 L 7.5,5.0 L 7.9900857016478035,4.975923633360984 L 8.475451610080642,4.903926402016152 L 8.951423386272312,4.784701678661045 L 9.41341716182545,4.619397662556434 L 9.85698368412999,4.409606321741775 L 10.277851165098012,4.157348061512726 L 10.671966420818228,3.865052266813685 L 11.035533905932738,3.5355339059327373 L 11.365052266813684,3.1719664208182277 L 11.657348061512726,2.777851165098011 L 11.909606321741776,2.3569836841299883 L 12.119397662556434,1.913417161825449 L 12.284701678661044,1.4514233862723116 L 12.403926402016152,0.9754516100806412 L 12.475923633360985,0.490085701647803 L 12.5,0.0 L 12.5,-1.0 L 12.475923633360985,-1.4900857016478035 L 12.403926402016152,-1.9754516100806412 L 12.284701678661044,-2.451423386272311 L 12.119397662556434,-2.913417161825449 L 11.909606321741775,-3.3569836841299887 L 11.657348061512726,-3.777851165098011 L 11.365052266813684,-4.171966420818228 L 11.035533905932738,-4.535533905932738 L 10.671966420818228,-4.865052266813684 L 10.277851165098012,-5.157348061512726 L 9.85698368412999,-5.409606321741775 L 9.41341716182545,-5.619397662556434 L 8.951423386272312,-5.784701678661045 L 8.475451610080642,-5.903926402016152 L 7.9900857016478035,-5.975923633360984 L 7.5,-6.0 L 0.0,-6.0 L -0.49008570164780324,-5.975923633360985 L -0.975451610080641,-5.903926402016152 L -1.4514233862723107,-5.784701678661045 L -1.9134171618254485,-5.619397662556434 L -2.3569836841299887,-5.409606321741776 L -2.77785116509801,-5.157348061512727 L -3.1719664208182268,-4.865052266813685 L -3.5355339059327373,-4.535533905932738 L -3.865052266813685,-4.171966420818228 L -4.157348061512726,-3.777851165098011 L -4.409606321741775,-3.356983684129989 L -4.619397662556434,-2.9134171618254494 L -4.784701678661044,-2.451423386272312 L -4.903926402016152,-1.975451610080643 L -4.975923633360984,-1.4900857016478042 L -5.0,-1.0 L -5.0,0.0 L -4.975923633360984,0.49008570164780413 L -4.903926402016152,0.9754516100806431 L -4.784701678661044,1.451423386272312 L -4.619397662556434,1.9134171618254494 L -4.409606321741775,2.356983684129989 L -4.157348061512726,2.777851165098011 L -3.865052266813685,3.1719664208182277 L -3.5355339059327373,3.5355339059327378 L -3.1719664208182268,3.8650522668136853 L -2.77785116509801,4.157348061512727 L -2.3569836841299887,4.409606321741776 L -1.9134171618254485,4.619397662556434 L -1.4514233862723107,4.784701678661045 L -0.975451610080641,4.903926402016152 L -0.49008570164780324,4.975923633360985 L 0.0,5.0 z\" /></g></svg>"
      ],
      "text/plain": [
       "<shapely.geometry.polygon.Polygon at 0x7fb7f4118be0>"
      ]
     },
     "execution_count": 82,
     "metadata": {},
     "output_type": "execute_result"
    }
   ],
   "source": [
    "pol1.buffer(5)\n"
   ]
  },
  {
   "cell_type": "code",
   "execution_count": 83,
   "id": "2221d280",
   "metadata": {},
   "outputs": [
    {
     "data": {
      "image/svg+xml": [
       "<svg xmlns=\"http://www.w3.org/2000/svg\" xmlns:xlink=\"http://www.w3.org/1999/xlink\" width=\"100.0\" height=\"100.0\" viewBox=\"-5.7 -6.7 18.9 12.4\" preserveAspectRatio=\"xMinYMin meet\"><g transform=\"matrix(1,0,0,-1,0,-1.0)\"><g><path fill-rule=\"evenodd\" fill=\"#66cc99\" stroke=\"#555555\" stroke-width=\"0.37799999999999995\" opacity=\"0.6\" d=\"M 0.0,0.0 L 0.0,-1.0 L 7.5,-1.0 L 7.5,0.0 L 0.0,0.0 z\" /><path fill-rule=\"evenodd\" fill=\"#66cc99\" stroke=\"#555555\" stroke-width=\"0.37799999999999995\" opacity=\"0.6\" d=\"M 0.0,5.0 L 7.5,5.0 L 7.9900857016478035,4.975923633360984 L 8.475451610080642,4.903926402016152 L 8.951423386272312,4.784701678661045 L 9.41341716182545,4.619397662556434 L 9.85698368412999,4.409606321741775 L 10.277851165098012,4.157348061512726 L 10.671966420818228,3.865052266813685 L 11.035533905932738,3.5355339059327373 L 11.365052266813684,3.1719664208182277 L 11.657348061512726,2.777851165098011 L 11.909606321741776,2.3569836841299883 L 12.119397662556434,1.913417161825449 L 12.284701678661044,1.4514233862723116 L 12.403926402016152,0.9754516100806412 L 12.475923633360985,0.490085701647803 L 12.5,0.0 L 12.5,-1.0 L 12.475923633360985,-1.4900857016478035 L 12.403926402016152,-1.9754516100806412 L 12.284701678661044,-2.451423386272311 L 12.119397662556434,-2.913417161825449 L 11.909606321741775,-3.3569836841299887 L 11.657348061512726,-3.777851165098011 L 11.365052266813684,-4.171966420818228 L 11.035533905932738,-4.535533905932738 L 10.671966420818228,-4.865052266813684 L 10.277851165098012,-5.157348061512726 L 9.85698368412999,-5.409606321741775 L 9.41341716182545,-5.619397662556434 L 8.951423386272312,-5.784701678661045 L 8.475451610080642,-5.903926402016152 L 7.9900857016478035,-5.975923633360984 L 7.5,-6.0 L 0.0,-6.0 L -0.49008570164780324,-5.975923633360985 L -0.975451610080641,-5.903926402016152 L -1.4514233862723107,-5.784701678661045 L -1.9134171618254485,-5.619397662556434 L -2.3569836841299887,-5.409606321741776 L -2.77785116509801,-5.157348061512727 L -3.1719664208182268,-4.865052266813685 L -3.5355339059327373,-4.535533905932738 L -3.865052266813685,-4.171966420818228 L -4.157348061512726,-3.777851165098011 L -4.409606321741775,-3.356983684129989 L -4.619397662556434,-2.9134171618254494 L -4.784701678661044,-2.451423386272312 L -4.903926402016152,-1.975451610080643 L -4.975923633360984,-1.4900857016478042 L -5.0,-1.0 L -5.0,0.0 L -4.975923633360984,0.49008570164780413 L -4.903926402016152,0.9754516100806431 L -4.784701678661044,1.451423386272312 L -4.619397662556434,1.9134171618254494 L -4.409606321741775,2.356983684129989 L -4.157348061512726,2.777851165098011 L -3.865052266813685,3.1719664208182277 L -3.5355339059327373,3.5355339059327378 L -3.1719664208182268,3.8650522668136853 L -2.77785116509801,4.157348061512727 L -2.3569836841299887,4.409606321741776 L -1.9134171618254485,4.619397662556434 L -1.4514233862723107,4.784701678661045 L -0.975451610080641,4.903926402016152 L -0.49008570164780324,4.975923633360985 L 0.0,5.0 z\" /></g></g></svg>"
      ],
      "text/plain": [
       "<shapely.geometry.collection.GeometryCollection at 0x7fb806886e80>"
      ]
     },
     "execution_count": 83,
     "metadata": {},
     "output_type": "execute_result"
    }
   ],
   "source": [
    "shapely.geometry.GeometryCollection([pol1,pol1.buffer(5)])"
   ]
  },
  {
   "cell_type": "markdown",
   "id": "4646c2ee",
   "metadata": {},
   "source": [
    "#### Convex hull"
   ]
  },
  {
   "cell_type": "code",
   "execution_count": 84,
   "id": "05cef62b",
   "metadata": {},
   "outputs": [
    {
     "data": {
      "image/svg+xml": [
       "<svg xmlns=\"http://www.w3.org/2000/svg\" xmlns:xlink=\"http://www.w3.org/1999/xlink\" width=\"100.0\" height=\"100.0\" viewBox=\"8.4 3.4 38.2 43.2\" preserveAspectRatio=\"xMinYMin meet\"><g transform=\"matrix(1,0,0,-1,0,50.0)\"><g><path fill-rule=\"evenodd\" fill=\"#66cc99\" stroke=\"#555555\" stroke-width=\"0.8640000000000001\" opacity=\"0.6\" d=\"M 40.0,40.0 L 20.0,45.0 L 45.0,30.0 L 40.0,40.0 z\" /><path fill-rule=\"evenodd\" fill=\"#66cc99\" stroke=\"#555555\" stroke-width=\"0.8640000000000001\" opacity=\"0.6\" d=\"M 20.0,35.0 L 10.0,30.0 L 10.0,10.0 L 30.0,5.0 L 45.0,20.0 L 20.0,35.0 z M 30.0,20.0 L 20.0,15.0 L 20.0,25.0 L 30.0,20.0 z\" /></g></g></svg>"
      ],
      "text/plain": [
       "<shapely.geometry.multipolygon.MultiPolygon at 0x7fb806bc2a90>"
      ]
     },
     "execution_count": 84,
     "metadata": {},
     "output_type": "execute_result"
    }
   ],
   "source": [
    "pol3"
   ]
  },
  {
   "cell_type": "code",
   "execution_count": 85,
   "id": "a53f54d3",
   "metadata": {},
   "outputs": [
    {
     "data": {
      "image/svg+xml": [
       "<svg xmlns=\"http://www.w3.org/2000/svg\" xmlns:xlink=\"http://www.w3.org/1999/xlink\" width=\"100.0\" height=\"100.0\" viewBox=\"8.4 3.4 38.2 43.2\" preserveAspectRatio=\"xMinYMin meet\"><g transform=\"matrix(1,0,0,-1,0,50.0)\"><path fill-rule=\"evenodd\" fill=\"#66cc99\" stroke=\"#555555\" stroke-width=\"0.8640000000000001\" opacity=\"0.6\" d=\"M 30.0,5.0 L 10.0,10.0 L 10.0,30.0 L 20.0,45.0 L 40.0,40.0 L 45.0,30.0 L 45.0,20.0 L 30.0,5.0 z\" /></g></svg>"
      ],
      "text/plain": [
       "<shapely.geometry.polygon.Polygon at 0x7fb804176e20>"
      ]
     },
     "execution_count": 85,
     "metadata": {},
     "output_type": "execute_result"
    }
   ],
   "source": [
    "pol3.convex_hull"
   ]
  },
  {
   "cell_type": "markdown",
   "id": "31137bd5",
   "metadata": {},
   "source": [
    "## Σχέσεις μεταξύ αντικειμένων"
   ]
  },
  {
   "cell_type": "code",
   "execution_count": 86,
   "id": "edf522d6",
   "metadata": {},
   "outputs": [
    {
     "data": {
      "image/svg+xml": [
       "<svg xmlns=\"http://www.w3.org/2000/svg\" xmlns:xlink=\"http://www.w3.org/1999/xlink\" width=\"100.0\" height=\"100.0\" viewBox=\"-1.84 -2.84 48.68000000000001 49.68000000000001\" preserveAspectRatio=\"xMinYMin meet\"><g transform=\"matrix(1,0,0,-1,0,44.0)\"><g><path fill-rule=\"evenodd\" fill=\"#66cc99\" stroke=\"#555555\" stroke-width=\"0.9936000000000001\" opacity=\"0.6\" d=\"M 0.0,0.0 L 0.0,-1.0 L 7.5,-1.0 L 7.5,0.0 L 0.0,0.0 z\" /><g><path fill-rule=\"evenodd\" fill=\"#66cc99\" stroke=\"#555555\" stroke-width=\"0.9936000000000001\" opacity=\"0.6\" d=\"M 40.0,40.0 L 20.0,45.0 L 45.0,30.0 L 40.0,40.0 z\" /><path fill-rule=\"evenodd\" fill=\"#66cc99\" stroke=\"#555555\" stroke-width=\"0.9936000000000001\" opacity=\"0.6\" d=\"M 20.0,35.0 L 10.0,30.0 L 10.0,10.0 L 30.0,5.0 L 45.0,20.0 L 20.0,35.0 z M 30.0,20.0 L 20.0,15.0 L 20.0,25.0 L 30.0,20.0 z\" /></g></g></g></svg>"
      ],
      "text/plain": [
       "<shapely.geometry.collection.GeometryCollection at 0x7fb7f41184c0>"
      ]
     },
     "execution_count": 86,
     "metadata": {},
     "output_type": "execute_result"
    }
   ],
   "source": [
    "shapely.geometry.GeometryCollection([pol1,pol3])"
   ]
  },
  {
   "cell_type": "code",
   "execution_count": 87,
   "id": "1d41af88",
   "metadata": {},
   "outputs": [
    {
     "data": {
      "image/svg+xml": [
       "<svg xmlns=\"http://www.w3.org/2000/svg\" xmlns:xlink=\"http://www.w3.org/1999/xlink\" width=\"100.0\" height=\"100.0\" viewBox=\"8.4 3.4 38.2 43.2\" preserveAspectRatio=\"xMinYMin meet\"><g transform=\"matrix(1,0,0,-1,0,50.0)\"><g><path fill-rule=\"evenodd\" fill=\"#66cc99\" stroke=\"#555555\" stroke-width=\"0.8640000000000001\" opacity=\"0.6\" d=\"M 40.0,40.0 L 20.0,45.0 L 45.0,30.0 L 40.0,40.0 z\" /><path fill-rule=\"evenodd\" fill=\"#66cc99\" stroke=\"#555555\" stroke-width=\"0.8640000000000001\" opacity=\"0.6\" d=\"M 20.0,35.0 L 10.0,30.0 L 10.0,10.0 L 30.0,5.0 L 45.0,20.0 L 20.0,35.0 z M 30.0,20.0 L 20.0,15.0 L 20.0,25.0 L 30.0,20.0 z\" /></g></g></svg>"
      ],
      "text/plain": [
       "<shapely.geometry.multipolygon.MultiPolygon at 0x7fb806bc2a90>"
      ]
     },
     "execution_count": 87,
     "metadata": {},
     "output_type": "execute_result"
    }
   ],
   "source": [
    "pol3"
   ]
  },
  {
   "cell_type": "code",
   "execution_count": 88,
   "id": "ccda679a",
   "metadata": {},
   "outputs": [
    {
     "data": {
      "text/plain": [
       "False"
      ]
     },
     "execution_count": 88,
     "metadata": {},
     "output_type": "execute_result"
    }
   ],
   "source": [
    "pol1.intersects(pol3)"
   ]
  },
  {
   "cell_type": "code",
   "execution_count": 89,
   "id": "d1a50ab9-4c8e-45fd-b322-45087817490d",
   "metadata": {},
   "outputs": [
    {
     "data": {
      "image/svg+xml": [
       "<svg xmlns=\"http://www.w3.org/2000/svg\" xmlns:xlink=\"http://www.w3.org/1999/xlink\" width=\"100.0\" height=\"100.0\" viewBox=\"-0.3 -1.3 8.1 2.6\" preserveAspectRatio=\"xMinYMin meet\"><g transform=\"matrix(1,0,0,-1,0,0.0)\"><g><path fill-rule=\"evenodd\" fill=\"#66cc99\" stroke=\"#555555\" stroke-width=\"0.162\" opacity=\"0.6\" d=\"M 0.0,0.0 L 0.0,-1.0 L 7.5,-1.0 L 7.5,0.0 L 0.0,0.0 z\" /><path fill-rule=\"evenodd\" fill=\"#66cc99\" stroke=\"#555555\" stroke-width=\"0.162\" opacity=\"0.6\" d=\"M 0.0,1.0 L 1.0,0.0 L 2.0,0.5 L 3.0,0.0 L 4.0,0.0 L 5.0,0.5 L 6.0,-0.5 L 7.0,-0.5 L 7.0,1.0 L 0.0,1.0 z\" /></g></g></svg>"
      ],
      "text/plain": [
       "<shapely.geometry.collection.GeometryCollection at 0x7fb7f4118a30>"
      ]
     },
     "execution_count": 89,
     "metadata": {},
     "output_type": "execute_result"
    }
   ],
   "source": [
    "shapely.geometry.GeometryCollection([pol1,pol2])"
   ]
  },
  {
   "cell_type": "code",
   "execution_count": 90,
   "id": "f47fbbc6",
   "metadata": {},
   "outputs": [
    {
     "data": {
      "text/plain": [
       "True"
      ]
     },
     "execution_count": 90,
     "metadata": {},
     "output_type": "execute_result"
    }
   ],
   "source": [
    "pol1.intersects(pol2)"
   ]
  },
  {
   "cell_type": "markdown",
   "id": "4675031d",
   "metadata": {},
   "source": [
    "## Γεωμετρικές πράξεις"
   ]
  },
  {
   "cell_type": "code",
   "execution_count": 91,
   "id": "04ae459c",
   "metadata": {},
   "outputs": [
    {
     "data": {
      "image/svg+xml": [
       "<svg xmlns=\"http://www.w3.org/2000/svg\" xmlns:xlink=\"http://www.w3.org/1999/xlink\" width=\"100.0\" height=\"100.0\" viewBox=\"-1.12 -1.12 3.24 2.24\" preserveAspectRatio=\"xMinYMin meet\"><g transform=\"matrix(1,0,0,-1,0,0.0)\"><g><path fill-rule=\"evenodd\" fill=\"#66cc99\" stroke=\"#555555\" stroke-width=\"0.06480000000000001\" opacity=\"0.6\" d=\"M 1.0,0.0 L 0.9951847266721969,-0.0980171403295606 L 0.9807852804032304,-0.19509032201612825 L 0.9569403357322088,-0.29028467725446233 L 0.9238795325112867,-0.3826834323650898 L 0.881921264348355,-0.47139673682599764 L 0.8314696123025452,-0.5555702330196022 L 0.773010453362737,-0.6343932841636455 L 0.7071067811865476,-0.7071067811865475 L 0.6343932841636455,-0.773010453362737 L 0.5555702330196023,-0.8314696123025452 L 0.4713967368259978,-0.8819212643483549 L 0.38268343236508984,-0.9238795325112867 L 0.29028467725446233,-0.9569403357322089 L 0.19509032201612833,-0.9807852804032304 L 0.09801714032956077,-0.9951847266721968 L 6.123233995736766e-17,-1.0 L -0.09801714032956065,-0.9951847266721969 L -0.1950903220161282,-0.9807852804032304 L -0.29028467725446216,-0.9569403357322089 L -0.3826834323650897,-0.9238795325112867 L -0.4713967368259977,-0.881921264348355 L -0.555570233019602,-0.8314696123025455 L -0.6343932841636454,-0.7730104533627371 L -0.7071067811865475,-0.7071067811865476 L -0.773010453362737,-0.6343932841636455 L -0.8314696123025453,-0.5555702330196022 L -0.8819212643483549,-0.47139673682599786 L -0.9238795325112867,-0.3826834323650899 L -0.9569403357322088,-0.2902846772544624 L -0.9807852804032304,-0.1950903220161286 L -0.9951847266721968,-0.09801714032956083 L -1.0,-1.2246467991473532e-16 L -0.9951847266721969,0.09801714032956059 L -0.9807852804032304,0.19509032201612836 L -0.9569403357322089,0.2902846772544621 L -0.9238795325112868,0.38268343236508967 L -0.881921264348355,0.47139673682599764 L -0.8314696123025455,0.555570233019602 L -0.7730104533627371,0.6343932841636453 L -0.7071067811865477,0.7071067811865475 L -0.6343932841636459,0.7730104533627367 L -0.5555702330196022,0.8314696123025452 L -0.47139673682599786,0.8819212643483549 L -0.38268343236509034,0.9238795325112865 L -0.29028467725446244,0.9569403357322088 L -0.19509032201612866,0.9807852804032303 L -0.09801714032956045,0.9951847266721969 L -1.8369701987210297e-16,1.0 L 0.09801714032956009,0.9951847266721969 L 0.1950903220161283,0.9807852804032304 L 0.29028467725446205,0.9569403357322089 L 0.38268343236509,0.9238795325112866 L 0.4713967368259976,0.881921264348355 L 0.5555702330196018,0.8314696123025455 L 0.6343932841636456,0.7730104533627369 L 0.7071067811865474,0.7071067811865477 L 0.7730104533627367,0.6343932841636459 L 0.8314696123025452,0.5555702330196022 L 0.8819212643483548,0.4713967368259979 L 0.9238795325112865,0.3826834323650904 L 0.9569403357322088,0.2902846772544625 L 0.9807852804032303,0.19509032201612872 L 0.9951847266721969,0.0980171403295605 L 1.0,0.0 z\" /><path fill-rule=\"evenodd\" fill=\"#66cc99\" stroke=\"#555555\" stroke-width=\"0.06480000000000001\" opacity=\"0.6\" d=\"M 2.0,0.0 L 1.995184726672197,-0.0980171403295606 L 1.9807852804032304,-0.19509032201612825 L 1.9569403357322088,-0.29028467725446233 L 1.9238795325112867,-0.3826834323650898 L 1.881921264348355,-0.47139673682599764 L 1.8314696123025453,-0.5555702330196022 L 1.7730104533627369,-0.6343932841636455 L 1.7071067811865475,-0.7071067811865475 L 1.6343932841636455,-0.773010453362737 L 1.5555702330196022,-0.8314696123025452 L 1.471396736825998,-0.8819212643483549 L 1.3826834323650898,-0.9238795325112867 L 1.2902846772544623,-0.9569403357322089 L 1.1950903220161284,-0.9807852804032304 L 1.0980171403295609,-0.9951847266721968 L 1.0,-1.0 L 0.9019828596704393,-0.9951847266721969 L 0.8049096779838718,-0.9807852804032304 L 0.7097153227455378,-0.9569403357322089 L 0.6173165676349103,-0.9238795325112867 L 0.5286032631740023,-0.881921264348355 L 0.44442976698039804,-0.8314696123025455 L 0.3656067158363546,-0.7730104533627371 L 0.29289321881345254,-0.7071067811865476 L 0.226989546637263,-0.6343932841636455 L 0.16853038769745465,-0.5555702330196022 L 0.11807873565164506,-0.47139673682599786 L 0.07612046748871326,-0.3826834323650899 L 0.043059664267791176,-0.2902846772544624 L 0.01921471959676957,-0.1950903220161286 L 0.004815273327803182,-0.09801714032956083 L 0.0,-1.2246467991473532e-16 L 0.004815273327803071,0.09801714032956059 L 0.01921471959676957,0.19509032201612836 L 0.043059664267791065,0.2902846772544621 L 0.07612046748871315,0.38268343236508967 L 0.11807873565164495,0.47139673682599764 L 0.16853038769745454,0.555570233019602 L 0.2269895466372629,0.6343932841636453 L 0.2928932188134523,0.7071067811865475 L 0.36560671583635407,0.7730104533627367 L 0.4444297669803978,0.8314696123025452 L 0.5286032631740021,0.8819212643483549 L 0.6173165676349097,0.9238795325112865 L 0.7097153227455375,0.9569403357322088 L 0.8049096779838714,0.9807852804032303 L 0.9019828596704396,0.9951847266721969 L 0.9999999999999998,1.0 L 1.09801714032956,0.9951847266721969 L 1.1950903220161284,0.9807852804032304 L 1.290284677254462,0.9569403357322089 L 1.38268343236509,0.9238795325112866 L 1.4713967368259975,0.881921264348355 L 1.5555702330196017,0.8314696123025455 L 1.6343932841636457,0.7730104533627369 L 1.7071067811865475,0.7071067811865477 L 1.7730104533627367,0.6343932841636459 L 1.8314696123025453,0.5555702330196022 L 1.881921264348355,0.4713967368259979 L 1.9238795325112865,0.3826834323650904 L 1.9569403357322088,0.2902846772544625 L 1.9807852804032304,0.19509032201612872 L 1.995184726672197,0.0980171403295605 L 2.0,0.0 z\" /></g></g></svg>"
      ],
      "text/plain": [
       "<shapely.geometry.collection.GeometryCollection at 0x7fb8068aa4c0>"
      ]
     },
     "execution_count": 91,
     "metadata": {},
     "output_type": "execute_result"
    }
   ],
   "source": [
    "x = shapely.geometry.Point((0, 0)).buffer(1)\n",
    "y = shapely.geometry.Point((1, 0)).buffer(1)\n",
    "shapely.geometry.GeometryCollection([x, y])"
   ]
  },
  {
   "cell_type": "code",
   "execution_count": 92,
   "id": "1d8d19fe",
   "metadata": {},
   "outputs": [
    {
     "data": {
      "image/svg+xml": [
       "<svg xmlns=\"http://www.w3.org/2000/svg\" xmlns:xlink=\"http://www.w3.org/1999/xlink\" width=\"100.0\" height=\"100.0\" viewBox=\"-0.06918217025390595 -0.9339592984277304 1.1383643405078119 1.8679185968554608\" preserveAspectRatio=\"xMinYMin meet\"><g transform=\"matrix(1,0,0,-1,0,0.0)\"><path fill-rule=\"evenodd\" fill=\"#66cc99\" stroke=\"#555555\" stroke-width=\"0.03735837193710922\" opacity=\"0.6\" d=\"M 0.9951847266721969,-0.0980171403295606 L 0.9807852804032304,-0.19509032201612825 L 0.9569403357322088,-0.29028467725446233 L 0.9238795325112867,-0.3826834323650898 L 0.881921264348355,-0.47139673682599764 L 0.8314696123025452,-0.5555702330196022 L 0.773010453362737,-0.6343932841636455 L 0.7071067811865476,-0.7071067811865475 L 0.6343932841636455,-0.773010453362737 L 0.5555702330196023,-0.8314696123025452 L 0.49999999999999994,-0.8647771281738245 L 0.44442976698039804,-0.8314696123025455 L 0.3656067158363546,-0.7730104533627371 L 0.29289321881345254,-0.7071067811865476 L 0.226989546637263,-0.6343932841636455 L 0.16853038769745465,-0.5555702330196022 L 0.11807873565164506,-0.47139673682599786 L 0.07612046748871326,-0.3826834323650899 L 0.043059664267791176,-0.2902846772544624 L 0.01921471959676957,-0.1950903220161286 L 0.004815273327803182,-0.09801714032956083 L 0.0,-1.2246467991473532e-16 L 0.004815273327803071,0.09801714032956059 L 0.01921471959676957,0.19509032201612836 L 0.043059664267791065,0.2902846772544621 L 0.07612046748871315,0.38268343236508967 L 0.11807873565164495,0.47139673682599764 L 0.16853038769745454,0.555570233019602 L 0.2269895466372629,0.6343932841636453 L 0.2928932188134523,0.7071067811865475 L 0.36560671583635407,0.7730104533627367 L 0.4444297669803978,0.8314696123025452 L 0.49999999999999994,0.8647771281738245 L 0.5555702330196018,0.8314696123025455 L 0.6343932841636456,0.7730104533627369 L 0.7071067811865474,0.7071067811865477 L 0.7730104533627367,0.6343932841636459 L 0.8314696123025452,0.5555702330196022 L 0.8819212643483548,0.4713967368259979 L 0.9238795325112865,0.3826834323650904 L 0.9569403357322088,0.2902846772544625 L 0.9807852804032303,0.19509032201612872 L 0.9951847266721969,0.0980171403295605 L 1.0,0.0 L 0.9951847266721969,-0.0980171403295606 z\" /></g></svg>"
      ],
      "text/plain": [
       "<shapely.geometry.polygon.Polygon at 0x7fb807b57d60>"
      ]
     },
     "execution_count": 92,
     "metadata": {},
     "output_type": "execute_result"
    }
   ],
   "source": [
    "x.intersection(y)"
   ]
  },
  {
   "cell_type": "code",
   "execution_count": 93,
   "id": "b1414fc0",
   "metadata": {},
   "outputs": [
    {
     "data": {
      "image/svg+xml": [
       "<svg xmlns=\"http://www.w3.org/2000/svg\" xmlns:xlink=\"http://www.w3.org/1999/xlink\" width=\"100.0\" height=\"100.0\" viewBox=\"-1.08 -1.08 1.6600000000000001 2.16\" preserveAspectRatio=\"xMinYMin meet\"><g transform=\"matrix(1,0,0,-1,0,0.0)\"><path fill-rule=\"evenodd\" fill=\"#66cc99\" stroke=\"#555555\" stroke-width=\"0.0432\" opacity=\"0.6\" d=\"M 0.4713967368259978,-0.8819212643483549 L 0.38268343236508984,-0.9238795325112867 L 0.29028467725446233,-0.9569403357322089 L 0.19509032201612833,-0.9807852804032304 L 0.09801714032956077,-0.9951847266721968 L 6.123233995736766e-17,-1.0 L -0.09801714032956065,-0.9951847266721969 L -0.1950903220161282,-0.9807852804032304 L -0.29028467725446216,-0.9569403357322089 L -0.3826834323650897,-0.9238795325112867 L -0.4713967368259977,-0.881921264348355 L -0.555570233019602,-0.8314696123025455 L -0.6343932841636454,-0.7730104533627371 L -0.7071067811865475,-0.7071067811865476 L -0.773010453362737,-0.6343932841636455 L -0.8314696123025453,-0.5555702330196022 L -0.8819212643483549,-0.47139673682599786 L -0.9238795325112867,-0.3826834323650899 L -0.9569403357322088,-0.2902846772544624 L -0.9807852804032304,-0.1950903220161286 L -0.9951847266721968,-0.09801714032956083 L -1.0,-1.2246467991473532e-16 L -0.9951847266721969,0.09801714032956059 L -0.9807852804032304,0.19509032201612836 L -0.9569403357322089,0.2902846772544621 L -0.9238795325112868,0.38268343236508967 L -0.881921264348355,0.47139673682599764 L -0.8314696123025455,0.555570233019602 L -0.7730104533627371,0.6343932841636453 L -0.7071067811865477,0.7071067811865475 L -0.6343932841636459,0.7730104533627367 L -0.5555702330196022,0.8314696123025452 L -0.47139673682599786,0.8819212643483549 L -0.38268343236509034,0.9238795325112865 L -0.29028467725446244,0.9569403357322088 L -0.19509032201612866,0.9807852804032303 L -0.09801714032956045,0.9951847266721969 L -1.8369701987210297e-16,1.0 L 0.09801714032956009,0.9951847266721969 L 0.1950903220161283,0.9807852804032304 L 0.29028467725446205,0.9569403357322089 L 0.38268343236509,0.9238795325112866 L 0.4713967368259976,0.881921264348355 L 0.49999999999999994,0.8647771281738245 L 0.4444297669803978,0.8314696123025452 L 0.36560671583635407,0.7730104533627367 L 0.2928932188134523,0.7071067811865475 L 0.2269895466372629,0.6343932841636453 L 0.16853038769745454,0.555570233019602 L 0.11807873565164495,0.47139673682599764 L 0.07612046748871315,0.38268343236508967 L 0.043059664267791065,0.2902846772544621 L 0.01921471959676957,0.19509032201612836 L 0.004815273327803071,0.09801714032956059 L 0.0,-1.2246467991473532e-16 L 0.004815273327803182,-0.09801714032956083 L 0.01921471959676957,-0.1950903220161286 L 0.043059664267791176,-0.2902846772544624 L 0.07612046748871326,-0.3826834323650899 L 0.11807873565164506,-0.47139673682599786 L 0.16853038769745465,-0.5555702330196022 L 0.226989546637263,-0.6343932841636455 L 0.29289321881345254,-0.7071067811865476 L 0.3656067158363546,-0.7730104533627371 L 0.44442976698039804,-0.8314696123025455 L 0.49999999999999994,-0.8647771281738245 L 0.4713967368259978,-0.8819212643483549 z\" /></g></svg>"
      ],
      "text/plain": [
       "<shapely.geometry.polygon.Polygon at 0x7fb8090643a0>"
      ]
     },
     "execution_count": 93,
     "metadata": {},
     "output_type": "execute_result"
    }
   ],
   "source": [
    "x.difference(y)"
   ]
  },
  {
   "cell_type": "code",
   "execution_count": 94,
   "id": "10dc4240",
   "metadata": {},
   "outputs": [
    {
     "data": {
      "image/svg+xml": [
       "<svg xmlns=\"http://www.w3.org/2000/svg\" xmlns:xlink=\"http://www.w3.org/1999/xlink\" width=\"100.0\" height=\"100.0\" viewBox=\"-1.12 -1.12 3.24 2.24\" preserveAspectRatio=\"xMinYMin meet\"><g transform=\"matrix(1,0,0,-1,0,0.0)\"><path fill-rule=\"evenodd\" fill=\"#66cc99\" stroke=\"#555555\" stroke-width=\"0.06480000000000001\" opacity=\"0.6\" d=\"M 0.4713967368259978,-0.8819212643483549 L 0.38268343236508984,-0.9238795325112867 L 0.29028467725446233,-0.9569403357322089 L 0.19509032201612833,-0.9807852804032304 L 0.09801714032956077,-0.9951847266721968 L 6.123233995736766e-17,-1.0 L -0.09801714032956065,-0.9951847266721969 L -0.1950903220161282,-0.9807852804032304 L -0.29028467725446216,-0.9569403357322089 L -0.3826834323650897,-0.9238795325112867 L -0.4713967368259977,-0.881921264348355 L -0.555570233019602,-0.8314696123025455 L -0.6343932841636454,-0.7730104533627371 L -0.7071067811865475,-0.7071067811865476 L -0.773010453362737,-0.6343932841636455 L -0.8314696123025453,-0.5555702330196022 L -0.8819212643483549,-0.47139673682599786 L -0.9238795325112867,-0.3826834323650899 L -0.9569403357322088,-0.2902846772544624 L -0.9807852804032304,-0.1950903220161286 L -0.9951847266721968,-0.09801714032956083 L -1.0,-1.2246467991473532e-16 L -0.9951847266721969,0.09801714032956059 L -0.9807852804032304,0.19509032201612836 L -0.9569403357322089,0.2902846772544621 L -0.9238795325112868,0.38268343236508967 L -0.881921264348355,0.47139673682599764 L -0.8314696123025455,0.555570233019602 L -0.7730104533627371,0.6343932841636453 L -0.7071067811865477,0.7071067811865475 L -0.6343932841636459,0.7730104533627367 L -0.5555702330196022,0.8314696123025452 L -0.47139673682599786,0.8819212643483549 L -0.38268343236509034,0.9238795325112865 L -0.29028467725446244,0.9569403357322088 L -0.19509032201612866,0.9807852804032303 L -0.09801714032956045,0.9951847266721969 L -1.8369701987210297e-16,1.0 L 0.09801714032956009,0.9951847266721969 L 0.1950903220161283,0.9807852804032304 L 0.29028467725446205,0.9569403357322089 L 0.38268343236509,0.9238795325112866 L 0.4713967368259976,0.881921264348355 L 0.49999999999999994,0.8647771281738245 L 0.5286032631740021,0.8819212643483549 L 0.6173165676349097,0.9238795325112865 L 0.7097153227455375,0.9569403357322088 L 0.8049096779838714,0.9807852804032303 L 0.9019828596704396,0.9951847266721969 L 0.9999999999999998,1.0 L 1.09801714032956,0.9951847266721969 L 1.1950903220161284,0.9807852804032304 L 1.290284677254462,0.9569403357322089 L 1.38268343236509,0.9238795325112866 L 1.4713967368259975,0.881921264348355 L 1.5555702330196017,0.8314696123025455 L 1.6343932841636457,0.7730104533627369 L 1.7071067811865475,0.7071067811865477 L 1.7730104533627367,0.6343932841636459 L 1.8314696123025453,0.5555702330196022 L 1.881921264348355,0.4713967368259979 L 1.9238795325112865,0.3826834323650904 L 1.9569403357322088,0.2902846772544625 L 1.9807852804032304,0.19509032201612872 L 1.995184726672197,0.0980171403295605 L 2.0,0.0 L 1.995184726672197,-0.0980171403295606 L 1.9807852804032304,-0.19509032201612825 L 1.9569403357322088,-0.29028467725446233 L 1.9238795325112867,-0.3826834323650898 L 1.881921264348355,-0.47139673682599764 L 1.8314696123025453,-0.5555702330196022 L 1.7730104533627369,-0.6343932841636455 L 1.7071067811865475,-0.7071067811865475 L 1.6343932841636455,-0.773010453362737 L 1.5555702330196022,-0.8314696123025452 L 1.471396736825998,-0.8819212643483549 L 1.3826834323650898,-0.9238795325112867 L 1.2902846772544623,-0.9569403357322089 L 1.1950903220161284,-0.9807852804032304 L 1.0980171403295609,-0.9951847266721968 L 1.0,-1.0 L 0.9019828596704393,-0.9951847266721969 L 0.8049096779838718,-0.9807852804032304 L 0.7097153227455378,-0.9569403357322089 L 0.6173165676349103,-0.9238795325112867 L 0.5286032631740023,-0.881921264348355 L 0.49999999999999994,-0.8647771281738245 L 0.4713967368259978,-0.8819212643483549 z\" /></g></svg>"
      ],
      "text/plain": [
       "<shapely.geometry.polygon.Polygon at 0x7fb8068aaaf0>"
      ]
     },
     "execution_count": 94,
     "metadata": {},
     "output_type": "execute_result"
    }
   ],
   "source": [
    "x.union(y)"
   ]
  },
  {
   "cell_type": "code",
   "execution_count": 95,
   "id": "3f43380e",
   "metadata": {},
   "outputs": [
    {
     "data": {
      "image/svg+xml": [
       "<svg xmlns=\"http://www.w3.org/2000/svg\" xmlns:xlink=\"http://www.w3.org/1999/xlink\" width=\"100.0\" height=\"100.0\" viewBox=\"-1.12 -1.12 3.24 2.24\" preserveAspectRatio=\"xMinYMin meet\"><g transform=\"matrix(1,0,0,-1,0,0.0)\"><path fill-rule=\"evenodd\" fill=\"#66cc99\" stroke=\"#555555\" stroke-width=\"0.06480000000000001\" opacity=\"0.6\" d=\"M 0.4713967368259978,-0.8819212643483549 L 0.38268343236508984,-0.9238795325112867 L 0.29028467725446233,-0.9569403357322089 L 0.19509032201612833,-0.9807852804032304 L 0.09801714032956077,-0.9951847266721968 L 6.123233995736766e-17,-1.0 L -0.09801714032956065,-0.9951847266721969 L -0.1950903220161282,-0.9807852804032304 L -0.29028467725446216,-0.9569403357322089 L -0.3826834323650897,-0.9238795325112867 L -0.4713967368259977,-0.881921264348355 L -0.555570233019602,-0.8314696123025455 L -0.6343932841636454,-0.7730104533627371 L -0.7071067811865475,-0.7071067811865476 L -0.773010453362737,-0.6343932841636455 L -0.8314696123025453,-0.5555702330196022 L -0.8819212643483549,-0.47139673682599786 L -0.9238795325112867,-0.3826834323650899 L -0.9569403357322088,-0.2902846772544624 L -0.9807852804032304,-0.1950903220161286 L -0.9951847266721968,-0.09801714032956083 L -1.0,-1.2246467991473532e-16 L -0.9951847266721969,0.09801714032956059 L -0.9807852804032304,0.19509032201612836 L -0.9569403357322089,0.2902846772544621 L -0.9238795325112868,0.38268343236508967 L -0.881921264348355,0.47139673682599764 L -0.8314696123025455,0.555570233019602 L -0.7730104533627371,0.6343932841636453 L -0.7071067811865477,0.7071067811865475 L -0.6343932841636459,0.7730104533627367 L -0.5555702330196022,0.8314696123025452 L -0.47139673682599786,0.8819212643483549 L -0.38268343236509034,0.9238795325112865 L -0.29028467725446244,0.9569403357322088 L -0.19509032201612866,0.9807852804032303 L -0.09801714032956045,0.9951847266721969 L -1.8369701987210297e-16,1.0 L 0.09801714032956009,0.9951847266721969 L 0.1950903220161283,0.9807852804032304 L 0.29028467725446205,0.9569403357322089 L 0.38268343236509,0.9238795325112866 L 0.4713967368259976,0.881921264348355 L 0.49999999999999994,0.8647771281738245 L 0.5286032631740021,0.8819212643483549 L 0.6173165676349097,0.9238795325112865 L 0.7097153227455375,0.9569403357322088 L 0.8049096779838714,0.9807852804032303 L 0.9019828596704396,0.9951847266721969 L 0.9999999999999998,1.0 L 1.09801714032956,0.9951847266721969 L 1.1950903220161284,0.9807852804032304 L 1.290284677254462,0.9569403357322089 L 1.38268343236509,0.9238795325112866 L 1.4713967368259975,0.881921264348355 L 1.5555702330196017,0.8314696123025455 L 1.6343932841636457,0.7730104533627369 L 1.7071067811865475,0.7071067811865477 L 1.7730104533627367,0.6343932841636459 L 1.8314696123025453,0.5555702330196022 L 1.881921264348355,0.4713967368259979 L 1.9238795325112865,0.3826834323650904 L 1.9569403357322088,0.2902846772544625 L 1.9807852804032304,0.19509032201612872 L 1.995184726672197,0.0980171403295605 L 2.0,0.0 L 1.995184726672197,-0.0980171403295606 L 1.9807852804032304,-0.19509032201612825 L 1.9569403357322088,-0.29028467725446233 L 1.9238795325112867,-0.3826834323650898 L 1.881921264348355,-0.47139673682599764 L 1.8314696123025453,-0.5555702330196022 L 1.7730104533627369,-0.6343932841636455 L 1.7071067811865475,-0.7071067811865475 L 1.6343932841636455,-0.773010453362737 L 1.5555702330196022,-0.8314696123025452 L 1.471396736825998,-0.8819212643483549 L 1.3826834323650898,-0.9238795325112867 L 1.2902846772544623,-0.9569403357322089 L 1.1950903220161284,-0.9807852804032304 L 1.0980171403295609,-0.9951847266721968 L 1.0,-1.0 L 0.9019828596704393,-0.9951847266721969 L 0.8049096779838718,-0.9807852804032304 L 0.7097153227455378,-0.9569403357322089 L 0.6173165676349103,-0.9238795325112867 L 0.5286032631740023,-0.881921264348355 L 0.49999999999999994,-0.8647771281738245 L 0.4713967368259978,-0.8819212643483549 z\" /></g></svg>"
      ],
      "text/plain": [
       "<shapely.geometry.polygon.Polygon at 0x7fb8068aa160>"
      ]
     },
     "execution_count": 95,
     "metadata": {},
     "output_type": "execute_result"
    }
   ],
   "source": [
    "x.union(y)"
   ]
  },
  {
   "cell_type": "markdown",
   "id": "48878d64",
   "metadata": {},
   "source": [
    "Υπολογισμός απόστασης ανάμεσα σε δύο αντικείμενα"
   ]
  },
  {
   "cell_type": "code",
   "execution_count": 96,
   "id": "c2a0acd8",
   "metadata": {},
   "outputs": [
    {
     "data": {
      "image/svg+xml": [
       "<svg xmlns=\"http://www.w3.org/2000/svg\" xmlns:xlink=\"http://www.w3.org/1999/xlink\" width=\"100.0\" height=\"100.0\" viewBox=\"-1.84 -2.84 48.68000000000001 49.68000000000001\" preserveAspectRatio=\"xMinYMin meet\"><g transform=\"matrix(1,0,0,-1,0,44.0)\"><g><path fill-rule=\"evenodd\" fill=\"#66cc99\" stroke=\"#555555\" stroke-width=\"0.9936000000000001\" opacity=\"0.6\" d=\"M 0.0,0.0 L 0.0,-1.0 L 7.5,-1.0 L 7.5,0.0 L 0.0,0.0 z\" /><g><path fill-rule=\"evenodd\" fill=\"#66cc99\" stroke=\"#555555\" stroke-width=\"0.9936000000000001\" opacity=\"0.6\" d=\"M 40.0,40.0 L 20.0,45.0 L 45.0,30.0 L 40.0,40.0 z\" /><path fill-rule=\"evenodd\" fill=\"#66cc99\" stroke=\"#555555\" stroke-width=\"0.9936000000000001\" opacity=\"0.6\" d=\"M 20.0,35.0 L 10.0,30.0 L 10.0,10.0 L 30.0,5.0 L 45.0,20.0 L 20.0,35.0 z M 30.0,20.0 L 20.0,15.0 L 20.0,25.0 L 30.0,20.0 z\" /></g></g></g></svg>"
      ],
      "text/plain": [
       "<shapely.geometry.collection.GeometryCollection at 0x7fb8061e8a90>"
      ]
     },
     "execution_count": 96,
     "metadata": {},
     "output_type": "execute_result"
    }
   ],
   "source": [
    "shapely.geometry.GeometryCollection([pol1, pol3])"
   ]
  },
  {
   "cell_type": "code",
   "execution_count": 97,
   "id": "4e1c8493",
   "metadata": {},
   "outputs": [
    {
     "data": {
      "text/plain": [
       "10.307764064044152"
      ]
     },
     "execution_count": 97,
     "metadata": {},
     "output_type": "execute_result"
    }
   ],
   "source": [
    "pol1.distance(pol3)"
   ]
  },
  {
   "cell_type": "code",
   "execution_count": 98,
   "id": "81f1fd78",
   "metadata": {},
   "outputs": [
    {
     "data": {
      "text/plain": [
       "10.307764064044152"
      ]
     },
     "execution_count": 98,
     "metadata": {},
     "output_type": "execute_result"
    }
   ],
   "source": [
    "pol3.distance(pol1) "
   ]
  },
  {
   "cell_type": "markdown",
   "id": "a8b05fcd-25fd-4076-9a0b-f5dd75cd5f6d",
   "metadata": {},
   "source": [
    "Μετασχηματισμός προβολικού συστήματος:"
   ]
  },
  {
   "cell_type": "code",
   "execution_count": 99,
   "id": "3c413fff",
   "metadata": {},
   "outputs": [],
   "source": [
    "import pyproj\n",
    "\n",
    "from shapely.geometry import Point\n",
    "from shapely.ops import transform\n",
    "\n",
    "wgs84_pt = Point(39.35858398397631, 22.932070043920394)\n",
    "\n",
    "wgs84 = pyproj.CRS('EPSG:4326')\n",
    "greek_grid = pyproj.CRS('EPSG:2100')\n",
    "\n",
    "project = pyproj.Transformer.from_crs(wgs84, greek_grid, always_xy=True).transform\n",
    "projected_point = transform(project, wgs84_pt)"
   ]
  },
  {
   "cell_type": "code",
   "execution_count": 100,
   "id": "8df74d07",
   "metadata": {},
   "outputs": [
    {
     "name": "stdout",
     "output_type": "stream",
     "text": [
      "POINT (2087909.8290560723 2620022.621513317)\n"
     ]
    }
   ],
   "source": [
    "print(projected_point)"
   ]
  },
  {
   "cell_type": "code",
   "execution_count": 101,
   "id": "e9de5305",
   "metadata": {},
   "outputs": [
    {
     "data": {
      "text/plain": [
       "(39.35858398397631, 22.932070043920394)"
      ]
     },
     "execution_count": 101,
     "metadata": {},
     "output_type": "execute_result"
    }
   ],
   "source": [
    "list(wgs84_pt.coords)[0]"
   ]
  },
  {
   "cell_type": "markdown",
   "id": "2f02fb8f-d20d-4a34-a790-3db34eda7714",
   "metadata": {},
   "source": [
    "Προβολή δεδομένων σε διαδραστικό χάρτη leaflet μέσω της βιβλιοθήκης folium"
   ]
  },
  {
   "cell_type": "code",
   "execution_count": 102,
   "id": "9c2ec620",
   "metadata": {},
   "outputs": [
    {
     "data": {
      "text/html": [
       "<div style=\"width:100%;\"><div style=\"position:relative;width:100%;height:0;padding-bottom:60%;\"><span style=\"color:#565656\">Make this Notebook Trusted to load map: File -> Trust Notebook</span><iframe srcdoc=\"&lt;!DOCTYPE html&gt;\n",
       "&lt;html&gt;\n",
       "&lt;head&gt;\n",
       "    \n",
       "    &lt;meta http-equiv=&quot;content-type&quot; content=&quot;text/html; charset=UTF-8&quot; /&gt;\n",
       "    \n",
       "        &lt;script&gt;\n",
       "            L_NO_TOUCH = false;\n",
       "            L_DISABLE_3D = false;\n",
       "        &lt;/script&gt;\n",
       "    \n",
       "    &lt;style&gt;html, body {width: 100%;height: 100%;margin: 0;padding: 0;}&lt;/style&gt;\n",
       "    &lt;style&gt;#map {position:absolute;top:0;bottom:0;right:0;left:0;}&lt;/style&gt;\n",
       "    &lt;script src=&quot;https://cdn.jsdelivr.net/npm/leaflet@1.9.3/dist/leaflet.js&quot;&gt;&lt;/script&gt;\n",
       "    &lt;script src=&quot;https://code.jquery.com/jquery-3.7.1.min.js&quot;&gt;&lt;/script&gt;\n",
       "    &lt;script src=&quot;https://cdn.jsdelivr.net/npm/bootstrap@5.2.2/dist/js/bootstrap.bundle.min.js&quot;&gt;&lt;/script&gt;\n",
       "    &lt;script src=&quot;https://cdnjs.cloudflare.com/ajax/libs/Leaflet.awesome-markers/2.0.2/leaflet.awesome-markers.js&quot;&gt;&lt;/script&gt;\n",
       "    &lt;link rel=&quot;stylesheet&quot; href=&quot;https://cdn.jsdelivr.net/npm/leaflet@1.9.3/dist/leaflet.css&quot;/&gt;\n",
       "    &lt;link rel=&quot;stylesheet&quot; href=&quot;https://cdn.jsdelivr.net/npm/bootstrap@5.2.2/dist/css/bootstrap.min.css&quot;/&gt;\n",
       "    &lt;link rel=&quot;stylesheet&quot; href=&quot;https://netdna.bootstrapcdn.com/bootstrap/3.0.0/css/bootstrap.min.css&quot;/&gt;\n",
       "    &lt;link rel=&quot;stylesheet&quot; href=&quot;https://cdn.jsdelivr.net/npm/@fortawesome/fontawesome-free@6.2.0/css/all.min.css&quot;/&gt;\n",
       "    &lt;link rel=&quot;stylesheet&quot; href=&quot;https://cdnjs.cloudflare.com/ajax/libs/Leaflet.awesome-markers/2.0.2/leaflet.awesome-markers.css&quot;/&gt;\n",
       "    &lt;link rel=&quot;stylesheet&quot; href=&quot;https://cdn.jsdelivr.net/gh/python-visualization/folium/folium/templates/leaflet.awesome.rotate.min.css&quot;/&gt;\n",
       "    \n",
       "            &lt;meta name=&quot;viewport&quot; content=&quot;width=device-width,\n",
       "                initial-scale=1.0, maximum-scale=1.0, user-scalable=no&quot; /&gt;\n",
       "            &lt;style&gt;\n",
       "                #map_453392e925ff945f014ca96538a1582e {\n",
       "                    position: relative;\n",
       "                    width: 100.0%;\n",
       "                    height: 100.0%;\n",
       "                    left: 0.0%;\n",
       "                    top: 0.0%;\n",
       "                }\n",
       "                .leaflet-container { font-size: 1rem; }\n",
       "            &lt;/style&gt;\n",
       "        \n",
       "&lt;/head&gt;\n",
       "&lt;body&gt;\n",
       "    \n",
       "    \n",
       "            &lt;div class=&quot;folium-map&quot; id=&quot;map_453392e925ff945f014ca96538a1582e&quot; &gt;&lt;/div&gt;\n",
       "        \n",
       "&lt;/body&gt;\n",
       "&lt;script&gt;\n",
       "    \n",
       "    \n",
       "            var map_453392e925ff945f014ca96538a1582e = L.map(\n",
       "                &quot;map_453392e925ff945f014ca96538a1582e&quot;,\n",
       "                {\n",
       "                    center: [39.35858398397631, 22.932070043920394],\n",
       "                    crs: L.CRS.EPSG3857,\n",
       "                    zoom: 13,\n",
       "                    zoomControl: true,\n",
       "                    preferCanvas: false,\n",
       "                }\n",
       "            );\n",
       "\n",
       "            \n",
       "\n",
       "        \n",
       "    \n",
       "            var tile_layer_c28a56c771f4c9872e411669b5e4e3a4 = L.tileLayer(\n",
       "                &quot;https://tile.openstreetmap.org/{z}/{x}/{y}.png&quot;,\n",
       "                {&quot;attribution&quot;: &quot;\\u0026copy; \\u003ca href=\\&quot;https://www.openstreetmap.org/copyright\\&quot;\\u003eOpenStreetMap\\u003c/a\\u003e contributors&quot;, &quot;detectRetina&quot;: false, &quot;maxNativeZoom&quot;: 19, &quot;maxZoom&quot;: 19, &quot;minZoom&quot;: 0, &quot;noWrap&quot;: false, &quot;opacity&quot;: 1, &quot;subdomains&quot;: &quot;abc&quot;, &quot;tms&quot;: false}\n",
       "            );\n",
       "        \n",
       "    \n",
       "            tile_layer_c28a56c771f4c9872e411669b5e4e3a4.addTo(map_453392e925ff945f014ca96538a1582e);\n",
       "        \n",
       "    \n",
       "            var marker_bf416fe4cafd4ee87fd3e14a5ed046d7 = L.marker(\n",
       "                [39.35858398397631, 22.932070043920394],\n",
       "                {}\n",
       "            ).addTo(map_453392e925ff945f014ca96538a1582e);\n",
       "        \n",
       "    \n",
       "        var popup_db3f96017967a5fbf78db199b6f7384c = L.popup({&quot;maxWidth&quot;: &quot;100%&quot;});\n",
       "\n",
       "        \n",
       "            \n",
       "                var html_4c6fcf80eb7bb4da22f257bbf57b00ba = $(`&lt;div id=&quot;html_4c6fcf80eb7bb4da22f257bbf57b00ba&quot; style=&quot;width: 100.0%; height: 100.0%;&quot;&gt;Volos&lt;/div&gt;`)[0];\n",
       "                popup_db3f96017967a5fbf78db199b6f7384c.setContent(html_4c6fcf80eb7bb4da22f257bbf57b00ba);\n",
       "            \n",
       "        \n",
       "\n",
       "        marker_bf416fe4cafd4ee87fd3e14a5ed046d7.bindPopup(popup_db3f96017967a5fbf78db199b6f7384c)\n",
       "        ;\n",
       "\n",
       "        \n",
       "    \n",
       "&lt;/script&gt;\n",
       "&lt;/html&gt;\" style=\"position:absolute;width:100%;height:100%;left:0;top:0;border:none !important;\" allowfullscreen webkitallowfullscreen mozallowfullscreen></iframe></div></div>"
      ],
      "text/plain": [
       "<folium.folium.Map at 0x7fb7df932430>"
      ]
     },
     "execution_count": 102,
     "metadata": {},
     "output_type": "execute_result"
    }
   ],
   "source": [
    "import folium\n",
    "\n",
    "coords = list(wgs84_pt.coords)[0]\n",
    "\n",
    "#Create the map\n",
    "my_map = folium.Map(location = coords, zoom_start = 13)\n",
    "\n",
    "# Add marker\n",
    "folium.Marker(coords, popup = 'Volos').add_to(my_map)\n",
    "\n",
    "#Display the map\n",
    "my_map\n",
    "\n"
   ]
  },
  {
   "cell_type": "markdown",
   "id": "4a96c73b",
   "metadata": {},
   "source": [
    "## Η βιβλιοθήκη Geopandas\n",
    "\n",
    "Μέχρι τώρα είδαμε πως μπορούμε να διαχειριζόμαστε γεωμετρικά δεδομένα με την βιβλιοθήκη shapely.\n",
    "\n",
    "Όμως τα γεωγραφικά δεδομένα δεν περιλαμβάνουν μόνο της γεωγραφική πληροφορία και την γεωμετρική τους δομή αλλά συνοδεύονται από μια σειρά περιγραφικών δεδομένων.\n",
    "\n",
    "Η βιβλιοθήκη [geopandas](https://geopandas.org/) είναι μια βιβλιοθήκη της Python η οποία υποστηρίζει την ανάγνωση, επεξεργασία, ανάλυση και εγγραφή γεωγραφικών και παράλληλα περιγραφικών δεδομένων. Αποτελεί επέκταση της βιβλιοθήκης [pandas](https://pandas.pydata.org/) και \"κληρονομεί\" τα χαρακτηριστικά και τις δυνατότητές της.\n",
    "\n",
    "Στην υφιστάμενη δομή της pandas, η geopandas υποστηρίζει την γεωμετρία με την προσθήκη μιας νέας στήλης και το γεωγραφικό σύστημα αναφοράς."
   ]
  },
  {
   "cell_type": "markdown",
   "id": "25feeff8",
   "metadata": {},
   "source": [
    "![alt text](pandas-data-structure.svg)"
   ]
  },
  {
   "cell_type": "markdown",
   "id": "b3d5f817",
   "metadata": {},
   "source": [
    "![alt text](../images/dataframe.svg)"
   ]
  },
  {
   "cell_type": "markdown",
   "id": "e1599f32",
   "metadata": {},
   "source": [
    "Εισάγουμε την βιβλιοθήκη με τον παρακάτω τρόπο"
   ]
  },
  {
   "cell_type": "code",
   "execution_count": 103,
   "id": "1592bd2c",
   "metadata": {
    "tags": []
   },
   "outputs": [],
   "source": [
    "import geopandas as gpd\n"
   ]
  },
  {
   "cell_type": "markdown",
   "id": "2b013571",
   "metadata": {},
   "source": [
    "Για να διαβάσουμε ένα αρχείο shapefile χρησιμοποιούμε την συνάρτηση `gpd.read_file`. Το αντικείμενο που προκύπτει είναι τύπου *geopandas.geodataframe.GeoDataFrame*"
   ]
  },
  {
   "cell_type": "code",
   "execution_count": 104,
   "id": "54f768b7",
   "metadata": {},
   "outputs": [
    {
     "data": {
      "text/plain": [
       "geopandas.geodataframe.GeoDataFrame"
      ]
     },
     "execution_count": 104,
     "metadata": {},
     "output_type": "execute_result"
    }
   ],
   "source": [
    "# Import shapefile using geopandas\n",
    "dhmoi = gpd.read_file(\"../docs/dhmoi.gpkg\")\n",
    "\n",
    "type(dhmoi)"
   ]
  },
  {
   "cell_type": "markdown",
   "id": "abacba38",
   "metadata": {},
   "source": [
    "Η στήλη της γεωμετρίας ονομάζεται προκαθορισμένα geometry και είναι αντικείμενο *geopandas.geoseries.GeoSeries* που περιλαμβάνει αντικείμενα shapely."
   ]
  },
  {
   "cell_type": "code",
   "execution_count": 105,
   "id": "913af4db",
   "metadata": {},
   "outputs": [
    {
     "data": {
      "text/plain": [
       "geopandas.geoseries.GeoSeries"
      ]
     },
     "execution_count": 105,
     "metadata": {},
     "output_type": "execute_result"
    }
   ],
   "source": [
    "type(dhmoi[\"geometry\"])"
   ]
  },
  {
   "cell_type": "markdown",
   "id": "f0fd4f62",
   "metadata": {},
   "source": [
    "Με την μέθοδο *geom_type* μπορούμε να δούμε τον γεωμετρικό τύπο κάθε εγγραφής."
   ]
  },
  {
   "cell_type": "code",
   "execution_count": 106,
   "id": "35250e86",
   "metadata": {},
   "outputs": [
    {
     "data": {
      "text/plain": [
       "0      MultiPolygon\n",
       "1      MultiPolygon\n",
       "2      MultiPolygon\n",
       "3      MultiPolygon\n",
       "4      MultiPolygon\n",
       "           ...     \n",
       "320    MultiPolygon\n",
       "321    MultiPolygon\n",
       "322    MultiPolygon\n",
       "323    MultiPolygon\n",
       "324    MultiPolygon\n",
       "Length: 325, dtype: object"
      ]
     },
     "execution_count": 106,
     "metadata": {},
     "output_type": "execute_result"
    }
   ],
   "source": [
    "dhmoi.geom_type"
   ]
  },
  {
   "cell_type": "markdown",
   "id": "04e3d2cf",
   "metadata": {},
   "source": [
    "Ας δούμε τις αρχικές εγγραφές του αρχείου"
   ]
  },
  {
   "cell_type": "code",
   "execution_count": 107,
   "id": "f4d48b16",
   "metadata": {},
   "outputs": [
    {
     "data": {
      "text/html": [
       "<div>\n",
       "<style scoped>\n",
       "    .dataframe tbody tr th:only-of-type {\n",
       "        vertical-align: middle;\n",
       "    }\n",
       "\n",
       "    .dataframe tbody tr th {\n",
       "        vertical-align: top;\n",
       "    }\n",
       "\n",
       "    .dataframe thead th {\n",
       "        text-align: right;\n",
       "    }\n",
       "</style>\n",
       "<table border=\"1\" class=\"dataframe\">\n",
       "  <thead>\n",
       "    <tr style=\"text-align: right;\">\n",
       "      <th></th>\n",
       "      <th>OBJECTID</th>\n",
       "      <th>X</th>\n",
       "      <th>Y</th>\n",
       "      <th>Name</th>\n",
       "      <th>CodeELSTAT</th>\n",
       "      <th>PopM01</th>\n",
       "      <th>PopF01</th>\n",
       "      <th>PopTot01</th>\n",
       "      <th>UnemrM01</th>\n",
       "      <th>UnemrF01</th>\n",
       "      <th>UnemrT01</th>\n",
       "      <th>PrSect01</th>\n",
       "      <th>Foreig01</th>\n",
       "      <th>Income01</th>\n",
       "      <th>Perif</th>\n",
       "      <th>geometry</th>\n",
       "    </tr>\n",
       "  </thead>\n",
       "  <tbody>\n",
       "    <tr>\n",
       "      <th>0</th>\n",
       "      <td>1</td>\n",
       "      <td>616259.007833</td>\n",
       "      <td>4.551127e+06</td>\n",
       "      <td>KOMOTINIS</td>\n",
       "      <td>0101</td>\n",
       "      <td>29967.0</td>\n",
       "      <td>31534.0</td>\n",
       "      <td>61501.0</td>\n",
       "      <td>4.726948</td>\n",
       "      <td>6.051873</td>\n",
       "      <td>5.221281</td>\n",
       "      <td>21.817852</td>\n",
       "      <td>1.996780</td>\n",
       "      <td>10969.315256</td>\n",
       "      <td>1</td>\n",
       "      <td>MULTIPOLYGON (((631058.735 4574912.809, 631431...</td>\n",
       "    </tr>\n",
       "    <tr>\n",
       "      <th>1</th>\n",
       "      <td>2</td>\n",
       "      <td>644783.135624</td>\n",
       "      <td>4.561364e+06</td>\n",
       "      <td>ARRIANON</td>\n",
       "      <td>0102</td>\n",
       "      <td>8952.0</td>\n",
       "      <td>9307.0</td>\n",
       "      <td>18259.0</td>\n",
       "      <td>1.955813</td>\n",
       "      <td>2.390181</td>\n",
       "      <td>2.154240</td>\n",
       "      <td>92.912436</td>\n",
       "      <td>0.038337</td>\n",
       "      <td>6398.641486</td>\n",
       "      <td>1</td>\n",
       "      <td>MULTIPOLYGON (((661976.597 4554253.076, 662118...</td>\n",
       "    </tr>\n",
       "    <tr>\n",
       "      <th>2</th>\n",
       "      <td>3</td>\n",
       "      <td>602100.950461</td>\n",
       "      <td>4.555689e+06</td>\n",
       "      <td>IASMOU</td>\n",
       "      <td>0103</td>\n",
       "      <td>7290.0</td>\n",
       "      <td>7561.0</td>\n",
       "      <td>14851.0</td>\n",
       "      <td>5.653884</td>\n",
       "      <td>6.671554</td>\n",
       "      <td>6.062390</td>\n",
       "      <td>70.206767</td>\n",
       "      <td>1.339977</td>\n",
       "      <td>6608.897469</td>\n",
       "      <td>1</td>\n",
       "      <td>MULTIPOLYGON (((603623.489 4566376.502, 603657...</td>\n",
       "    </tr>\n",
       "    <tr>\n",
       "      <th>3</th>\n",
       "      <td>4</td>\n",
       "      <td>633712.468442</td>\n",
       "      <td>4.539548e+06</td>\n",
       "      <td>MARONEIAS - SAPON</td>\n",
       "      <td>0104</td>\n",
       "      <td>8284.0</td>\n",
       "      <td>8342.0</td>\n",
       "      <td>16626.0</td>\n",
       "      <td>5.840957</td>\n",
       "      <td>10.270499</td>\n",
       "      <td>7.421934</td>\n",
       "      <td>57.748085</td>\n",
       "      <td>0.890172</td>\n",
       "      <td>6700.375345</td>\n",
       "      <td>1</td>\n",
       "      <td>MULTIPOLYGON (((650998.525 4557469.860, 651446...</td>\n",
       "    </tr>\n",
       "    <tr>\n",
       "      <th>4</th>\n",
       "      <td>5</td>\n",
       "      <td>517831.195188</td>\n",
       "      <td>4.572544e+06</td>\n",
       "      <td>DRAMAS</td>\n",
       "      <td>0201</td>\n",
       "      <td>28041.0</td>\n",
       "      <td>29326.0</td>\n",
       "      <td>57367.0</td>\n",
       "      <td>8.831689</td>\n",
       "      <td>14.176926</td>\n",
       "      <td>10.851115</td>\n",
       "      <td>7.298838</td>\n",
       "      <td>2.961633</td>\n",
       "      <td>11299.106498</td>\n",
       "      <td>2</td>\n",
       "      <td>MULTIPOLYGON (((521986.700 4601855.354, 522271...</td>\n",
       "    </tr>\n",
       "  </tbody>\n",
       "</table>\n",
       "</div>"
      ],
      "text/plain": [
       "   OBJECTID              X             Y               Name CodeELSTAT  \\\n",
       "0         1  616259.007833  4.551127e+06          KOMOTINIS       0101   \n",
       "1         2  644783.135624  4.561364e+06           ARRIANON       0102   \n",
       "2         3  602100.950461  4.555689e+06             IASMOU       0103   \n",
       "3         4  633712.468442  4.539548e+06  MARONEIAS - SAPON       0104   \n",
       "4         5  517831.195188  4.572544e+06             DRAMAS       0201   \n",
       "\n",
       "    PopM01   PopF01  PopTot01  UnemrM01   UnemrF01   UnemrT01   PrSect01  \\\n",
       "0  29967.0  31534.0   61501.0  4.726948   6.051873   5.221281  21.817852   \n",
       "1   8952.0   9307.0   18259.0  1.955813   2.390181   2.154240  92.912436   \n",
       "2   7290.0   7561.0   14851.0  5.653884   6.671554   6.062390  70.206767   \n",
       "3   8284.0   8342.0   16626.0  5.840957  10.270499   7.421934  57.748085   \n",
       "4  28041.0  29326.0   57367.0  8.831689  14.176926  10.851115   7.298838   \n",
       "\n",
       "   Foreig01      Income01  Perif  \\\n",
       "0  1.996780  10969.315256      1   \n",
       "1  0.038337   6398.641486      1   \n",
       "2  1.339977   6608.897469      1   \n",
       "3  0.890172   6700.375345      1   \n",
       "4  2.961633  11299.106498      2   \n",
       "\n",
       "                                            geometry  \n",
       "0  MULTIPOLYGON (((631058.735 4574912.809, 631431...  \n",
       "1  MULTIPOLYGON (((661976.597 4554253.076, 662118...  \n",
       "2  MULTIPOLYGON (((603623.489 4566376.502, 603657...  \n",
       "3  MULTIPOLYGON (((650998.525 4557469.860, 651446...  \n",
       "4  MULTIPOLYGON (((521986.700 4601855.354, 522271...  "
      ]
     },
     "execution_count": 107,
     "metadata": {},
     "output_type": "execute_result"
    }
   ],
   "source": [
    "dhmoi.head()"
   ]
  },
  {
   "cell_type": "code",
   "execution_count": 108,
   "id": "cb3c646b",
   "metadata": {},
   "outputs": [
    {
     "data": {
      "text/plain": [
       "<AxesSubplot:>"
      ]
     },
     "execution_count": 108,
     "metadata": {},
     "output_type": "execute_result"
    },
    {
     "data": {
      "image/png": "[encoded data removed]",
      "text/plain": [
       "<Figure size 432x288 with 1 Axes>"
      ]
     },
     "metadata": {
      "needs_background": "light"
     },
     "output_type": "display_data"
    }
   ],
   "source": [
    "dhmoi.plot()"
   ]
  },
  {
   "cell_type": "markdown",
   "id": "9b390597",
   "metadata": {},
   "source": [
    "Χαρτογραφική απόδοση σε διαδραστικό χάρτη"
   ]
  },
  {
   "cell_type": "code",
   "execution_count": 109,
   "id": "58a33015",
   "metadata": {},
   "outputs": [
    {
     "ename": "ImportError",
     "evalue": "The 'folium', 'matplotlib' and 'mapclassify' packages are required for 'explore()'. You can install them using 'conda install -c conda-forge folium matplotlib mapclassify' or 'pip install folium matplotlib mapclassify'.",
     "output_type": "error",
     "traceback": [
      "\u001b[0;31m---------------------------------------------------------------------------\u001b[0m",
      "\u001b[0;31mModuleNotFoundError\u001b[0m                       Traceback (most recent call last)",
      "File \u001b[0;32m~/.local/lib/python3.9/site-packages/geopandas/explore.py:256\u001b[0m, in \u001b[0;36m_explore\u001b[0;34m(df, column, cmap, color, m, tiles, attr, tooltip, popup, highlight, categorical, legend, scheme, k, vmin, vmax, width, height, categories, classification_kwds, control_scale, marker_type, marker_kwds, style_kwds, highlight_kwds, missing_kwds, tooltip_kwds, popup_kwds, legend_kwds, **kwargs)\u001b[0m\n\u001b[1;32m    255\u001b[0m     \u001b[38;5;28;01mimport\u001b[39;00m \u001b[38;5;21;01mmatplotlib\u001b[39;00m\u001b[38;5;21;01m.\u001b[39;00m\u001b[38;5;21;01mpyplot\u001b[39;00m \u001b[38;5;28;01mas\u001b[39;00m \u001b[38;5;21;01mplt\u001b[39;00m\n\u001b[0;32m--> 256\u001b[0m     \u001b[38;5;28;01mfrom\u001b[39;00m \u001b[38;5;21;01mmapclassify\u001b[39;00m \u001b[38;5;28;01mimport\u001b[39;00m classify\n\u001b[1;32m    257\u001b[0m \u001b[38;5;28;01mexcept\u001b[39;00m (\u001b[38;5;167;01mImportError\u001b[39;00m, \u001b[38;5;167;01mModuleNotFoundError\u001b[39;00m):\n",
      "\u001b[0;31mModuleNotFoundError\u001b[0m: No module named 'mapclassify'",
      "\nDuring handling of the above exception, another exception occurred:\n",
      "\u001b[0;31mImportError\u001b[0m                               Traceback (most recent call last)",
      "Input \u001b[0;32mIn [109]\u001b[0m, in \u001b[0;36m<cell line: 1>\u001b[0;34m()\u001b[0m\n\u001b[0;32m----> 1\u001b[0m \u001b[43mdhmoi\u001b[49m\u001b[38;5;241;43m.\u001b[39;49m\u001b[43mexplore\u001b[49m\u001b[43m(\u001b[49m\u001b[43mlegend\u001b[49m\u001b[38;5;241;43m=\u001b[39;49m\u001b[38;5;28;43;01mFalse\u001b[39;49;00m\u001b[43m)\u001b[49m\n",
      "File \u001b[0;32m~/.local/lib/python3.9/site-packages/geopandas/geodataframe.py:1858\u001b[0m, in \u001b[0;36mGeoDataFrame.explore\u001b[0;34m(self, *args, **kwargs)\u001b[0m\n\u001b[1;32m   1855\u001b[0m \u001b[38;5;129m@doc\u001b[39m(_explore)\n\u001b[1;32m   1856\u001b[0m \u001b[38;5;28;01mdef\u001b[39;00m \u001b[38;5;21mexplore\u001b[39m(\u001b[38;5;28mself\u001b[39m, \u001b[38;5;241m*\u001b[39margs, \u001b[38;5;241m*\u001b[39m\u001b[38;5;241m*\u001b[39mkwargs):\n\u001b[1;32m   1857\u001b[0m \u001b[38;5;250m    \u001b[39m\u001b[38;5;124;03m\"\"\"Interactive map based on folium/leaflet.js\"\"\"\u001b[39;00m\n\u001b[0;32m-> 1858\u001b[0m     \u001b[38;5;28;01mreturn\u001b[39;00m \u001b[43m_explore\u001b[49m\u001b[43m(\u001b[49m\u001b[38;5;28;43mself\u001b[39;49m\u001b[43m,\u001b[49m\u001b[43m \u001b[49m\u001b[38;5;241;43m*\u001b[39;49m\u001b[43margs\u001b[49m\u001b[43m,\u001b[49m\u001b[43m \u001b[49m\u001b[38;5;241;43m*\u001b[39;49m\u001b[38;5;241;43m*\u001b[39;49m\u001b[43mkwargs\u001b[49m\u001b[43m)\u001b[49m\n",
      "File \u001b[0;32m~/.local/lib/python3.9/site-packages/geopandas/explore.py:258\u001b[0m, in \u001b[0;36m_explore\u001b[0;34m(df, column, cmap, color, m, tiles, attr, tooltip, popup, highlight, categorical, legend, scheme, k, vmin, vmax, width, height, categories, classification_kwds, control_scale, marker_type, marker_kwds, style_kwds, highlight_kwds, missing_kwds, tooltip_kwds, popup_kwds, legend_kwds, **kwargs)\u001b[0m\n\u001b[1;32m    256\u001b[0m     \u001b[38;5;28;01mfrom\u001b[39;00m \u001b[38;5;21;01mmapclassify\u001b[39;00m \u001b[38;5;28;01mimport\u001b[39;00m classify\n\u001b[1;32m    257\u001b[0m \u001b[38;5;28;01mexcept\u001b[39;00m (\u001b[38;5;167;01mImportError\u001b[39;00m, \u001b[38;5;167;01mModuleNotFoundError\u001b[39;00m):\n\u001b[0;32m--> 258\u001b[0m     \u001b[38;5;28;01mraise\u001b[39;00m \u001b[38;5;167;01mImportError\u001b[39;00m(\n\u001b[1;32m    259\u001b[0m         \u001b[38;5;124m\"\u001b[39m\u001b[38;5;124mThe \u001b[39m\u001b[38;5;124m'\u001b[39m\u001b[38;5;124mfolium\u001b[39m\u001b[38;5;124m'\u001b[39m\u001b[38;5;124m, \u001b[39m\u001b[38;5;124m'\u001b[39m\u001b[38;5;124mmatplotlib\u001b[39m\u001b[38;5;124m'\u001b[39m\u001b[38;5;124m and \u001b[39m\u001b[38;5;124m'\u001b[39m\u001b[38;5;124mmapclassify\u001b[39m\u001b[38;5;124m'\u001b[39m\u001b[38;5;124m packages are required for \u001b[39m\u001b[38;5;124m\"\u001b[39m\n\u001b[1;32m    260\u001b[0m         \u001b[38;5;124m\"\u001b[39m\u001b[38;5;124m'\u001b[39m\u001b[38;5;124mexplore()\u001b[39m\u001b[38;5;124m'\u001b[39m\u001b[38;5;124m. You can install them using \u001b[39m\u001b[38;5;124m\"\u001b[39m\n\u001b[1;32m    261\u001b[0m         \u001b[38;5;124m\"\u001b[39m\u001b[38;5;124m'\u001b[39m\u001b[38;5;124mconda install -c conda-forge folium matplotlib mapclassify\u001b[39m\u001b[38;5;124m'\u001b[39m\u001b[38;5;124m \u001b[39m\u001b[38;5;124m\"\u001b[39m\n\u001b[1;32m    262\u001b[0m         \u001b[38;5;124m\"\u001b[39m\u001b[38;5;124mor \u001b[39m\u001b[38;5;124m'\u001b[39m\u001b[38;5;124mpip install folium matplotlib mapclassify\u001b[39m\u001b[38;5;124m'\u001b[39m\u001b[38;5;124m.\u001b[39m\u001b[38;5;124m\"\u001b[39m\n\u001b[1;32m    263\u001b[0m     )\n\u001b[1;32m    265\u001b[0m \u001b[38;5;66;03m# xyservices is an optional dependency\u001b[39;00m\n\u001b[1;32m    266\u001b[0m \u001b[38;5;28;01mtry\u001b[39;00m:\n",
      "\u001b[0;31mImportError\u001b[0m: The 'folium', 'matplotlib' and 'mapclassify' packages are required for 'explore()'. You can install them using 'conda install -c conda-forge folium matplotlib mapclassify' or 'pip install folium matplotlib mapclassify'."
     ]
    }
   ],
   "source": [
    "dhmoi.explore(legend=False)"
   ]
  },
  {
   "cell_type": "markdown",
   "id": "3827703c",
   "metadata": {},
   "source": [
    "Εκτύπωση λεπτομερειών για το γεωγραφικό σύστημα αναφοράς το οποίο όπως φαίνεται παρακάτω είναι το ΕΓΣΑ '87 (EPSG:2100)"
   ]
  },
  {
   "cell_type": "code",
   "execution_count": 121,
   "id": "460ed45c",
   "metadata": {},
   "outputs": [
    {
     "data": {
      "text/plain": [
       "<Derived Projected CRS: PROJCS[\"unknown\",GEOGCS[\"unknown\",DATUM[\"Greek_Geo ...>\n",
       "Name: unknown\n",
       "Axis Info [cartesian]:\n",
       "- [east]: Easting (metre)\n",
       "- [north]: Northing (metre)\n",
       "Area of Use:\n",
       "- undefined\n",
       "Coordinate Operation:\n",
       "- name: unnamed\n",
       "- method: Transverse Mercator\n",
       "Datum: Greek Geodetic Reference System 1987\n",
       "- Ellipsoid: GRS 1980\n",
       "- Prime Meridian: Greenwich"
      ]
     },
     "execution_count": 121,
     "metadata": {},
     "output_type": "execute_result"
    }
   ],
   "source": [
    "dhmoi.crs"
   ]
  },
  {
   "cell_type": "markdown",
   "id": "1fb7bc5b",
   "metadata": {},
   "source": [
    "Μπορούμε να μετασχηματίσουμε τα δεδομένα σε ένα διαφορετικό προβολικό σύστημα με κλήση της μεθόδου *to_crs*"
   ]
  },
  {
   "cell_type": "code",
   "execution_count": 122,
   "id": "30f88479",
   "metadata": {},
   "outputs": [
    {
     "data": {
      "text/plain": [
       "<Geographic 2D CRS: EPSG:4326>\n",
       "Name: WGS 84\n",
       "Axis Info [ellipsoidal]:\n",
       "- Lat[north]: Geodetic latitude (degree)\n",
       "- Lon[east]: Geodetic longitude (degree)\n",
       "Area of Use:\n",
       "- name: World.\n",
       "- bounds: (-180.0, -90.0, 180.0, 90.0)\n",
       "Datum: World Geodetic System 1984 ensemble\n",
       "- Ellipsoid: WGS 84\n",
       "- Prime Meridian: Greenwich"
      ]
     },
     "execution_count": 122,
     "metadata": {},
     "output_type": "execute_result"
    }
   ],
   "source": [
    "dhmoi_wgs84 = dhmoi.to_crs(4326)\n",
    "dhmoi_wgs84.crs"
   ]
  },
  {
   "cell_type": "code",
   "execution_count": 123,
   "id": "bf35cd0a",
   "metadata": {},
   "outputs": [
    {
     "data": {
      "text/plain": [
       "0      MultiPolygon\n",
       "1      MultiPolygon\n",
       "2      MultiPolygon\n",
       "3      MultiPolygon\n",
       "4      MultiPolygon\n",
       "           ...     \n",
       "320    MultiPolygon\n",
       "321    MultiPolygon\n",
       "322    MultiPolygon\n",
       "323    MultiPolygon\n",
       "324    MultiPolygon\n",
       "Length: 325, dtype: object"
      ]
     },
     "execution_count": 123,
     "metadata": {},
     "output_type": "execute_result"
    }
   ],
   "source": [
    "dhmoi.geom_type"
   ]
  },
  {
   "cell_type": "markdown",
   "id": "4d31288a",
   "metadata": {},
   "source": [
    "Εκτύπωση των γεωγραφικών ορίων του αρχείου oikismoi που είναι στο σύστημα αναφορά ΕΓΣΑ '87."
   ]
  },
  {
   "cell_type": "code",
   "execution_count": 124,
   "id": "c7e98a5a",
   "metadata": {},
   "outputs": [
    {
     "data": {
      "text/plain": [
       "array([ 104040.7266, 3850938.    , 1007943.    , 4624010.2508])"
      ]
     },
     "execution_count": 124,
     "metadata": {},
     "output_type": "execute_result"
    }
   ],
   "source": [
    "dhmoi.total_bounds"
   ]
  },
  {
   "cell_type": "markdown",
   "id": "4a2118d4",
   "metadata": {},
   "source": [
    "Εκτύπωση των γεωγραφικών ορίων του αρχείου oikismoi που είναι στο σύστημα αναφορά WGS'84."
   ]
  },
  {
   "cell_type": "code",
   "execution_count": 125,
   "id": "2f3b21b6",
   "metadata": {},
   "outputs": [
    {
     "data": {
      "text/plain": [
       "array([19.37377196, 34.80060523, 29.64123782, 41.74911332])"
      ]
     },
     "execution_count": 125,
     "metadata": {},
     "output_type": "execute_result"
    }
   ],
   "source": [
    "dhmoi_wgs84.total_bounds"
   ]
  },
  {
   "cell_type": "markdown",
   "id": "f1b1033e",
   "metadata": {},
   "source": [
    "Η μέθοδος *shape* μας επιστρέφει τον πλήθος των γραμμών (325) και των στηλών (15)."
   ]
  },
  {
   "cell_type": "code",
   "execution_count": 126,
   "id": "48ddf48d",
   "metadata": {},
   "outputs": [
    {
     "data": {
      "text/plain": [
       "(325, 16)"
      ]
     },
     "execution_count": 126,
     "metadata": {},
     "output_type": "execute_result"
    }
   ],
   "source": [
    "dhmoi.shape"
   ]
  },
  {
   "cell_type": "markdown",
   "id": "644b7568",
   "metadata": {},
   "source": [
    "Μπορούμε να εγγράψουμε ένα Geopandas Dataframe "
   ]
  },
  {
   "cell_type": "code",
   "execution_count": 127,
   "id": "32b56f8e",
   "metadata": {},
   "outputs": [
    {
     "name": "stderr",
     "output_type": "stream",
     "text": [
      "/home/leonidas/anaconda3/envs/book/lib/python3.10/site-packages/geopandas/io/file.py:362: FutureWarning: pandas.Int64Index is deprecated and will be removed from pandas in a future version. Use pandas.Index with the appropriate dtype instead.\n",
      "  pd.Int64Index,\n"
     ]
    }
   ],
   "source": [
    "dhmoi.to_file(\"dhmoi.geojson\", driver=\"GeoJSON\")\n"
   ]
  },
  {
   "cell_type": "code",
   "execution_count": 128,
   "id": "d33b3292",
   "metadata": {},
   "outputs": [
    {
     "data": {
      "text/html": [
       "<div>\n",
       "<style scoped>\n",
       "    .dataframe tbody tr th:only-of-type {\n",
       "        vertical-align: middle;\n",
       "    }\n",
       "\n",
       "    .dataframe tbody tr th {\n",
       "        vertical-align: top;\n",
       "    }\n",
       "\n",
       "    .dataframe thead th {\n",
       "        text-align: right;\n",
       "    }\n",
       "</style>\n",
       "<table border=\"1\" class=\"dataframe\">\n",
       "  <thead>\n",
       "    <tr style=\"text-align: right;\">\n",
       "      <th></th>\n",
       "      <th>OBJECTID</th>\n",
       "      <th>X</th>\n",
       "      <th>Y</th>\n",
       "      <th>Name</th>\n",
       "      <th>CodeELSTAT</th>\n",
       "      <th>PopM01</th>\n",
       "      <th>PopF01</th>\n",
       "      <th>PopTot01</th>\n",
       "      <th>UnemrM01</th>\n",
       "      <th>UnemrF01</th>\n",
       "      <th>UnemrT01</th>\n",
       "      <th>PrSect01</th>\n",
       "      <th>Foreig01</th>\n",
       "      <th>Income01</th>\n",
       "      <th>Perif</th>\n",
       "      <th>geometry</th>\n",
       "    </tr>\n",
       "  </thead>\n",
       "  <tbody>\n",
       "    <tr>\n",
       "      <th>192</th>\n",
       "      <td>193</td>\n",
       "      <td>476676.870086</td>\n",
       "      <td>4.204338e+06</td>\n",
       "      <td>ATHINAION</td>\n",
       "      <td>4501</td>\n",
       "      <td>374900.0</td>\n",
       "      <td>414266.0</td>\n",
       "      <td>789166.0</td>\n",
       "      <td>4.890244</td>\n",
       "      <td>6.640842</td>\n",
       "      <td>5.624998</td>\n",
       "      <td>0.515649</td>\n",
       "      <td>17.426785</td>\n",
       "      <td>14497.393539</td>\n",
       "      <td>45</td>\n",
       "      <td>MULTIPOLYGON (((478164.675 4208572.203, 478015...</td>\n",
       "    </tr>\n",
       "    <tr>\n",
       "      <th>22</th>\n",
       "      <td>23</td>\n",
       "      <td>411331.939920</td>\n",
       "      <td>4.497210e+06</td>\n",
       "      <td>THESSALONIKIS</td>\n",
       "      <td>0701</td>\n",
       "      <td>185771.0</td>\n",
       "      <td>211385.0</td>\n",
       "      <td>397156.0</td>\n",
       "      <td>5.402357</td>\n",
       "      <td>7.615427</td>\n",
       "      <td>6.336333</td>\n",
       "      <td>0.834415</td>\n",
       "      <td>7.200951</td>\n",
       "      <td>13388.724605</td>\n",
       "      <td>7</td>\n",
       "      <td>MULTIPOLYGON (((408112.992 4500238.217, 408264...</td>\n",
       "    </tr>\n",
       "    <tr>\n",
       "      <th>147</th>\n",
       "      <td>148</td>\n",
       "      <td>306893.782874</td>\n",
       "      <td>4.231792e+06</td>\n",
       "      <td>PATREON</td>\n",
       "      <td>3701</td>\n",
       "      <td>104429.0</td>\n",
       "      <td>106065.0</td>\n",
       "      <td>210494.0</td>\n",
       "      <td>7.613916</td>\n",
       "      <td>9.985632</td>\n",
       "      <td>8.493895</td>\n",
       "      <td>2.567481</td>\n",
       "      <td>5.301864</td>\n",
       "      <td>12699.732926</td>\n",
       "      <td>37</td>\n",
       "      <td>MULTIPOLYGON (((312258.406 4245213.000, 312382...</td>\n",
       "    </tr>\n",
       "    <tr>\n",
       "      <th>245</th>\n",
       "      <td>246</td>\n",
       "      <td>468574.034133</td>\n",
       "      <td>4.199691e+06</td>\n",
       "      <td>PEIRAIOS</td>\n",
       "      <td>5101</td>\n",
       "      <td>87362.0</td>\n",
       "      <td>94571.0</td>\n",
       "      <td>181933.0</td>\n",
       "      <td>5.742561</td>\n",
       "      <td>7.683770</td>\n",
       "      <td>6.480184</td>\n",
       "      <td>0.491722</td>\n",
       "      <td>8.515141</td>\n",
       "      <td>13526.486840</td>\n",
       "      <td>51</td>\n",
       "      <td>MULTIPOLYGON (((469779.406 4198249.000, 469760...</td>\n",
       "    </tr>\n",
       "    <tr>\n",
       "      <th>301</th>\n",
       "      <td>302</td>\n",
       "      <td>599279.522964</td>\n",
       "      <td>3.900401e+06</td>\n",
       "      <td>IRAKLEIOU</td>\n",
       "      <td>7101</td>\n",
       "      <td>81067.0</td>\n",
       "      <td>82048.0</td>\n",
       "      <td>163115.0</td>\n",
       "      <td>5.047587</td>\n",
       "      <td>8.832661</td>\n",
       "      <td>6.557167</td>\n",
       "      <td>7.477305</td>\n",
       "      <td>4.048727</td>\n",
       "      <td>12479.911946</td>\n",
       "      <td>71</td>\n",
       "      <td>MULTIPOLYGON (((602945.188 3911414.000, 602942...</td>\n",
       "    </tr>\n",
       "    <tr>\n",
       "      <th>...</th>\n",
       "      <td>...</td>\n",
       "      <td>...</td>\n",
       "      <td>...</td>\n",
       "      <td>...</td>\n",
       "      <td>...</td>\n",
       "      <td>...</td>\n",
       "      <td>...</td>\n",
       "      <td>...</td>\n",
       "      <td>...</td>\n",
       "      <td>...</td>\n",
       "      <td>...</td>\n",
       "      <td>...</td>\n",
       "      <td>...</td>\n",
       "      <td>...</td>\n",
       "      <td>...</td>\n",
       "      <td>...</td>\n",
       "    </tr>\n",
       "    <tr>\n",
       "      <th>299</th>\n",
       "      <td>300</td>\n",
       "      <td>824000.991323</td>\n",
       "      <td>4.016217e+06</td>\n",
       "      <td>CHALKIS</td>\n",
       "      <td>6905</td>\n",
       "      <td>165.0</td>\n",
       "      <td>130.0</td>\n",
       "      <td>295.0</td>\n",
       "      <td>1.265823</td>\n",
       "      <td>4.166667</td>\n",
       "      <td>1.941748</td>\n",
       "      <td>31.683168</td>\n",
       "      <td>17.966102</td>\n",
       "      <td>8888.138597</td>\n",
       "      <td>69</td>\n",
       "      <td>MULTIPOLYGON (((830115.688 4011995.000, 830198...</td>\n",
       "    </tr>\n",
       "    <tr>\n",
       "      <th>270</th>\n",
       "      <td>271</td>\n",
       "      <td>659987.832319</td>\n",
       "      <td>4.025277e+06</td>\n",
       "      <td>ANAFIS</td>\n",
       "      <td>6002</td>\n",
       "      <td>135.0</td>\n",
       "      <td>137.0</td>\n",
       "      <td>272.0</td>\n",
       "      <td>1.369863</td>\n",
       "      <td>2.941176</td>\n",
       "      <td>1.869159</td>\n",
       "      <td>43.809524</td>\n",
       "      <td>1.102941</td>\n",
       "      <td>9062.404166</td>\n",
       "      <td>60</td>\n",
       "      <td>MULTIPOLYGON (((669453.375 4014893.000, 669444...</td>\n",
       "    </tr>\n",
       "    <tr>\n",
       "      <th>272</th>\n",
       "      <td>273</td>\n",
       "      <td>599675.697252</td>\n",
       "      <td>4.059438e+06</td>\n",
       "      <td>SIKINOU</td>\n",
       "      <td>6004</td>\n",
       "      <td>118.0</td>\n",
       "      <td>120.0</td>\n",
       "      <td>238.0</td>\n",
       "      <td>0.000000</td>\n",
       "      <td>4.545455</td>\n",
       "      <td>1.333333</td>\n",
       "      <td>27.027027</td>\n",
       "      <td>1.680672</td>\n",
       "      <td>7566.666874</td>\n",
       "      <td>60</td>\n",
       "      <td>MULTIPOLYGON (((593612.000 4054459.000, 593596...</td>\n",
       "    </tr>\n",
       "    <tr>\n",
       "      <th>275</th>\n",
       "      <td>276</td>\n",
       "      <td>762387.857032</td>\n",
       "      <td>4.149989e+06</td>\n",
       "      <td>AGATHONISIOU</td>\n",
       "      <td>6102</td>\n",
       "      <td>92.0</td>\n",
       "      <td>60.0</td>\n",
       "      <td>152.0</td>\n",
       "      <td>12.765957</td>\n",
       "      <td>10.000000</td>\n",
       "      <td>12.280702</td>\n",
       "      <td>56.000000</td>\n",
       "      <td>9.210526</td>\n",
       "      <td>5421.733909</td>\n",
       "      <td>61</td>\n",
       "      <td>MULTIPOLYGON (((763781.625 4146430.000, 763859...</td>\n",
       "    </tr>\n",
       "    <tr>\n",
       "      <th>320</th>\n",
       "      <td>321</td>\n",
       "      <td>507562.964610</td>\n",
       "      <td>3.855768e+06</td>\n",
       "      <td>GAVDOU</td>\n",
       "      <td>7403</td>\n",
       "      <td>49.0</td>\n",
       "      <td>32.0</td>\n",
       "      <td>81.0</td>\n",
       "      <td>0.000000</td>\n",
       "      <td>0.000000</td>\n",
       "      <td>0.350000</td>\n",
       "      <td>51.351351</td>\n",
       "      <td>9.876543</td>\n",
       "      <td>8498.080328</td>\n",
       "      <td>74</td>\n",
       "      <td>MULTIPOLYGON (((505925.688 3858625.000, 506062...</td>\n",
       "    </tr>\n",
       "  </tbody>\n",
       "</table>\n",
       "<p>325 rows × 16 columns</p>\n",
       "</div>"
      ],
      "text/plain": [
       "     OBJECTID              X             Y           Name CodeELSTAT  \\\n",
       "192       193  476676.870086  4.204338e+06      ATHINAION       4501   \n",
       "22         23  411331.939920  4.497210e+06  THESSALONIKIS       0701   \n",
       "147       148  306893.782874  4.231792e+06        PATREON       3701   \n",
       "245       246  468574.034133  4.199691e+06       PEIRAIOS       5101   \n",
       "301       302  599279.522964  3.900401e+06      IRAKLEIOU       7101   \n",
       "..        ...            ...           ...            ...        ...   \n",
       "299       300  824000.991323  4.016217e+06        CHALKIS       6905   \n",
       "270       271  659987.832319  4.025277e+06         ANAFIS       6002   \n",
       "272       273  599675.697252  4.059438e+06        SIKINOU       6004   \n",
       "275       276  762387.857032  4.149989e+06   AGATHONISIOU       6102   \n",
       "320       321  507562.964610  3.855768e+06         GAVDOU       7403   \n",
       "\n",
       "       PopM01    PopF01  PopTot01   UnemrM01   UnemrF01   UnemrT01   PrSect01  \\\n",
       "192  374900.0  414266.0  789166.0   4.890244   6.640842   5.624998   0.515649   \n",
       "22   185771.0  211385.0  397156.0   5.402357   7.615427   6.336333   0.834415   \n",
       "147  104429.0  106065.0  210494.0   7.613916   9.985632   8.493895   2.567481   \n",
       "245   87362.0   94571.0  181933.0   5.742561   7.683770   6.480184   0.491722   \n",
       "301   81067.0   82048.0  163115.0   5.047587   8.832661   6.557167   7.477305   \n",
       "..        ...       ...       ...        ...        ...        ...        ...   \n",
       "299     165.0     130.0     295.0   1.265823   4.166667   1.941748  31.683168   \n",
       "270     135.0     137.0     272.0   1.369863   2.941176   1.869159  43.809524   \n",
       "272     118.0     120.0     238.0   0.000000   4.545455   1.333333  27.027027   \n",
       "275      92.0      60.0     152.0  12.765957  10.000000  12.280702  56.000000   \n",
       "320      49.0      32.0      81.0   0.000000   0.000000   0.350000  51.351351   \n",
       "\n",
       "      Foreig01      Income01  Perif  \\\n",
       "192  17.426785  14497.393539     45   \n",
       "22    7.200951  13388.724605      7   \n",
       "147   5.301864  12699.732926     37   \n",
       "245   8.515141  13526.486840     51   \n",
       "301   4.048727  12479.911946     71   \n",
       "..         ...           ...    ...   \n",
       "299  17.966102   8888.138597     69   \n",
       "270   1.102941   9062.404166     60   \n",
       "272   1.680672   7566.666874     60   \n",
       "275   9.210526   5421.733909     61   \n",
       "320   9.876543   8498.080328     74   \n",
       "\n",
       "                                              geometry  \n",
       "192  MULTIPOLYGON (((478164.675 4208572.203, 478015...  \n",
       "22   MULTIPOLYGON (((408112.992 4500238.217, 408264...  \n",
       "147  MULTIPOLYGON (((312258.406 4245213.000, 312382...  \n",
       "245  MULTIPOLYGON (((469779.406 4198249.000, 469760...  \n",
       "301  MULTIPOLYGON (((602945.188 3911414.000, 602942...  \n",
       "..                                                 ...  \n",
       "299  MULTIPOLYGON (((830115.688 4011995.000, 830198...  \n",
       "270  MULTIPOLYGON (((669453.375 4014893.000, 669444...  \n",
       "272  MULTIPOLYGON (((593612.000 4054459.000, 593596...  \n",
       "275  MULTIPOLYGON (((763781.625 4146430.000, 763859...  \n",
       "320  MULTIPOLYGON (((505925.688 3858625.000, 506062...  \n",
       "\n",
       "[325 rows x 16 columns]"
      ]
     },
     "execution_count": 128,
     "metadata": {},
     "output_type": "execute_result"
    }
   ],
   "source": [
    "dhmoi.sort_values(by='PopTot01', ascending=False)"
   ]
  },
  {
   "cell_type": "markdown",
   "id": "69bb8092",
   "metadata": {},
   "source": [
    "Ορισμός του index στην στήλη *\"CodeELSTAT\"*"
   ]
  },
  {
   "cell_type": "code",
   "execution_count": 129,
   "id": "bbc6ceec",
   "metadata": {},
   "outputs": [],
   "source": [
    "dhmoi = dhmoi.set_index(\"CodeELSTAT\")"
   ]
  },
  {
   "cell_type": "code",
   "execution_count": 130,
   "id": "75601200",
   "metadata": {},
   "outputs": [
    {
     "data": {
      "text/html": [
       "<div>\n",
       "<style scoped>\n",
       "    .dataframe tbody tr th:only-of-type {\n",
       "        vertical-align: middle;\n",
       "    }\n",
       "\n",
       "    .dataframe tbody tr th {\n",
       "        vertical-align: top;\n",
       "    }\n",
       "\n",
       "    .dataframe thead th {\n",
       "        text-align: right;\n",
       "    }\n",
       "</style>\n",
       "<table border=\"1\" class=\"dataframe\">\n",
       "  <thead>\n",
       "    <tr style=\"text-align: right;\">\n",
       "      <th></th>\n",
       "      <th>OBJECTID</th>\n",
       "      <th>X</th>\n",
       "      <th>Y</th>\n",
       "      <th>Name</th>\n",
       "      <th>PopM01</th>\n",
       "      <th>PopF01</th>\n",
       "      <th>PopTot01</th>\n",
       "      <th>UnemrM01</th>\n",
       "      <th>UnemrF01</th>\n",
       "      <th>UnemrT01</th>\n",
       "      <th>PrSect01</th>\n",
       "      <th>Foreig01</th>\n",
       "      <th>Income01</th>\n",
       "      <th>Perif</th>\n",
       "      <th>geometry</th>\n",
       "    </tr>\n",
       "    <tr>\n",
       "      <th>CodeELSTAT</th>\n",
       "      <th></th>\n",
       "      <th></th>\n",
       "      <th></th>\n",
       "      <th></th>\n",
       "      <th></th>\n",
       "      <th></th>\n",
       "      <th></th>\n",
       "      <th></th>\n",
       "      <th></th>\n",
       "      <th></th>\n",
       "      <th></th>\n",
       "      <th></th>\n",
       "      <th></th>\n",
       "      <th></th>\n",
       "      <th></th>\n",
       "    </tr>\n",
       "  </thead>\n",
       "  <tbody>\n",
       "    <tr>\n",
       "      <th>0101</th>\n",
       "      <td>1</td>\n",
       "      <td>616259.007833</td>\n",
       "      <td>4.551127e+06</td>\n",
       "      <td>KOMOTINIS</td>\n",
       "      <td>29967.0</td>\n",
       "      <td>31534.0</td>\n",
       "      <td>61501.0</td>\n",
       "      <td>4.726948</td>\n",
       "      <td>6.051873</td>\n",
       "      <td>5.221281</td>\n",
       "      <td>21.817852</td>\n",
       "      <td>1.996780</td>\n",
       "      <td>10969.315256</td>\n",
       "      <td>1</td>\n",
       "      <td>MULTIPOLYGON (((631058.735 4574912.809, 631431...</td>\n",
       "    </tr>\n",
       "    <tr>\n",
       "      <th>0102</th>\n",
       "      <td>2</td>\n",
       "      <td>644783.135624</td>\n",
       "      <td>4.561364e+06</td>\n",
       "      <td>ARRIANON</td>\n",
       "      <td>8952.0</td>\n",
       "      <td>9307.0</td>\n",
       "      <td>18259.0</td>\n",
       "      <td>1.955813</td>\n",
       "      <td>2.390181</td>\n",
       "      <td>2.154240</td>\n",
       "      <td>92.912436</td>\n",
       "      <td>0.038337</td>\n",
       "      <td>6398.641486</td>\n",
       "      <td>1</td>\n",
       "      <td>MULTIPOLYGON (((661976.597 4554253.076, 662118...</td>\n",
       "    </tr>\n",
       "    <tr>\n",
       "      <th>0103</th>\n",
       "      <td>3</td>\n",
       "      <td>602100.950461</td>\n",
       "      <td>4.555689e+06</td>\n",
       "      <td>IASMOU</td>\n",
       "      <td>7290.0</td>\n",
       "      <td>7561.0</td>\n",
       "      <td>14851.0</td>\n",
       "      <td>5.653884</td>\n",
       "      <td>6.671554</td>\n",
       "      <td>6.062390</td>\n",
       "      <td>70.206767</td>\n",
       "      <td>1.339977</td>\n",
       "      <td>6608.897469</td>\n",
       "      <td>1</td>\n",
       "      <td>MULTIPOLYGON (((603623.489 4566376.502, 603657...</td>\n",
       "    </tr>\n",
       "    <tr>\n",
       "      <th>0104</th>\n",
       "      <td>4</td>\n",
       "      <td>633712.468442</td>\n",
       "      <td>4.539548e+06</td>\n",
       "      <td>MARONEIAS - SAPON</td>\n",
       "      <td>8284.0</td>\n",
       "      <td>8342.0</td>\n",
       "      <td>16626.0</td>\n",
       "      <td>5.840957</td>\n",
       "      <td>10.270499</td>\n",
       "      <td>7.421934</td>\n",
       "      <td>57.748085</td>\n",
       "      <td>0.890172</td>\n",
       "      <td>6700.375345</td>\n",
       "      <td>1</td>\n",
       "      <td>MULTIPOLYGON (((650998.525 4557469.860, 651446...</td>\n",
       "    </tr>\n",
       "    <tr>\n",
       "      <th>0201</th>\n",
       "      <td>5</td>\n",
       "      <td>517831.195188</td>\n",
       "      <td>4.572544e+06</td>\n",
       "      <td>DRAMAS</td>\n",
       "      <td>28041.0</td>\n",
       "      <td>29326.0</td>\n",
       "      <td>57367.0</td>\n",
       "      <td>8.831689</td>\n",
       "      <td>14.176926</td>\n",
       "      <td>10.851115</td>\n",
       "      <td>7.298838</td>\n",
       "      <td>2.961633</td>\n",
       "      <td>11299.106498</td>\n",
       "      <td>2</td>\n",
       "      <td>MULTIPOLYGON (((521986.700 4601855.354, 522271...</td>\n",
       "    </tr>\n",
       "    <tr>\n",
       "      <th>...</th>\n",
       "      <td>...</td>\n",
       "      <td>...</td>\n",
       "      <td>...</td>\n",
       "      <td>...</td>\n",
       "      <td>...</td>\n",
       "      <td>...</td>\n",
       "      <td>...</td>\n",
       "      <td>...</td>\n",
       "      <td>...</td>\n",
       "      <td>...</td>\n",
       "      <td>...</td>\n",
       "      <td>...</td>\n",
       "      <td>...</td>\n",
       "      <td>...</td>\n",
       "      <td>...</td>\n",
       "    </tr>\n",
       "    <tr>\n",
       "      <th>7403</th>\n",
       "      <td>321</td>\n",
       "      <td>507562.964610</td>\n",
       "      <td>3.855768e+06</td>\n",
       "      <td>GAVDOU</td>\n",
       "      <td>49.0</td>\n",
       "      <td>32.0</td>\n",
       "      <td>81.0</td>\n",
       "      <td>0.000000</td>\n",
       "      <td>0.000000</td>\n",
       "      <td>0.350000</td>\n",
       "      <td>51.351351</td>\n",
       "      <td>9.876543</td>\n",
       "      <td>8498.080328</td>\n",
       "      <td>74</td>\n",
       "      <td>MULTIPOLYGON (((505925.688 3858625.000, 506062...</td>\n",
       "    </tr>\n",
       "    <tr>\n",
       "      <th>7404</th>\n",
       "      <td>322</td>\n",
       "      <td>475420.582085</td>\n",
       "      <td>3.905918e+06</td>\n",
       "      <td>KANTANOU - SELINOU</td>\n",
       "      <td>3271.0</td>\n",
       "      <td>3031.0</td>\n",
       "      <td>6302.0</td>\n",
       "      <td>2.312500</td>\n",
       "      <td>2.234637</td>\n",
       "      <td>2.284569</td>\n",
       "      <td>61.525841</td>\n",
       "      <td>14.680209</td>\n",
       "      <td>7989.958401</td>\n",
       "      <td>74</td>\n",
       "      <td>MULTIPOLYGON (((469969.812 3897335.000, 469955...</td>\n",
       "    </tr>\n",
       "    <tr>\n",
       "      <th>7405</th>\n",
       "      <td>323</td>\n",
       "      <td>465887.990746</td>\n",
       "      <td>3.920087e+06</td>\n",
       "      <td>KISSAMOU</td>\n",
       "      <td>5925.0</td>\n",
       "      <td>5545.0</td>\n",
       "      <td>11470.0</td>\n",
       "      <td>4.847458</td>\n",
       "      <td>5.894591</td>\n",
       "      <td>5.191257</td>\n",
       "      <td>45.701249</td>\n",
       "      <td>7.916303</td>\n",
       "      <td>8750.030129</td>\n",
       "      <td>74</td>\n",
       "      <td>MULTIPOLYGON (((457703.500 3902963.000, 457852...</td>\n",
       "    </tr>\n",
       "    <tr>\n",
       "      <th>7406</th>\n",
       "      <td>324</td>\n",
       "      <td>484468.969583</td>\n",
       "      <td>3.924051e+06</td>\n",
       "      <td>PLATANIA</td>\n",
       "      <td>9217.0</td>\n",
       "      <td>8647.0</td>\n",
       "      <td>17864.0</td>\n",
       "      <td>4.437401</td>\n",
       "      <td>8.586262</td>\n",
       "      <td>5.938448</td>\n",
       "      <td>51.305684</td>\n",
       "      <td>8.889386</td>\n",
       "      <td>8120.027122</td>\n",
       "      <td>74</td>\n",
       "      <td>MULTIPOLYGON (((476162.812 3949684.000, 476253...</td>\n",
       "    </tr>\n",
       "    <tr>\n",
       "      <th>7407</th>\n",
       "      <td>325</td>\n",
       "      <td>508083.904768</td>\n",
       "      <td>3.901847e+06</td>\n",
       "      <td>SFAKION</td>\n",
       "      <td>1288.0</td>\n",
       "      <td>1131.0</td>\n",
       "      <td>2419.0</td>\n",
       "      <td>1.920439</td>\n",
       "      <td>2.839117</td>\n",
       "      <td>2.198853</td>\n",
       "      <td>63.929619</td>\n",
       "      <td>4.960728</td>\n",
       "      <td>6602.391386</td>\n",
       "      <td>74</td>\n",
       "      <td>MULTIPOLYGON (((502587.434 3912125.553, 502774...</td>\n",
       "    </tr>\n",
       "  </tbody>\n",
       "</table>\n",
       "<p>325 rows × 15 columns</p>\n",
       "</div>"
      ],
      "text/plain": [
       "            OBJECTID              X             Y                Name  \\\n",
       "CodeELSTAT                                                              \n",
       "0101               1  616259.007833  4.551127e+06           KOMOTINIS   \n",
       "0102               2  644783.135624  4.561364e+06            ARRIANON   \n",
       "0103               3  602100.950461  4.555689e+06              IASMOU   \n",
       "0104               4  633712.468442  4.539548e+06   MARONEIAS - SAPON   \n",
       "0201               5  517831.195188  4.572544e+06              DRAMAS   \n",
       "...              ...            ...           ...                 ...   \n",
       "7403             321  507562.964610  3.855768e+06              GAVDOU   \n",
       "7404             322  475420.582085  3.905918e+06  KANTANOU - SELINOU   \n",
       "7405             323  465887.990746  3.920087e+06            KISSAMOU   \n",
       "7406             324  484468.969583  3.924051e+06            PLATANIA   \n",
       "7407             325  508083.904768  3.901847e+06             SFAKION   \n",
       "\n",
       "             PopM01   PopF01  PopTot01  UnemrM01   UnemrF01   UnemrT01  \\\n",
       "CodeELSTAT                                                               \n",
       "0101        29967.0  31534.0   61501.0  4.726948   6.051873   5.221281   \n",
       "0102         8952.0   9307.0   18259.0  1.955813   2.390181   2.154240   \n",
       "0103         7290.0   7561.0   14851.0  5.653884   6.671554   6.062390   \n",
       "0104         8284.0   8342.0   16626.0  5.840957  10.270499   7.421934   \n",
       "0201        28041.0  29326.0   57367.0  8.831689  14.176926  10.851115   \n",
       "...             ...      ...       ...       ...        ...        ...   \n",
       "7403           49.0     32.0      81.0  0.000000   0.000000   0.350000   \n",
       "7404         3271.0   3031.0    6302.0  2.312500   2.234637   2.284569   \n",
       "7405         5925.0   5545.0   11470.0  4.847458   5.894591   5.191257   \n",
       "7406         9217.0   8647.0   17864.0  4.437401   8.586262   5.938448   \n",
       "7407         1288.0   1131.0    2419.0  1.920439   2.839117   2.198853   \n",
       "\n",
       "             PrSect01   Foreig01      Income01  Perif  \\\n",
       "CodeELSTAT                                              \n",
       "0101        21.817852   1.996780  10969.315256      1   \n",
       "0102        92.912436   0.038337   6398.641486      1   \n",
       "0103        70.206767   1.339977   6608.897469      1   \n",
       "0104        57.748085   0.890172   6700.375345      1   \n",
       "0201         7.298838   2.961633  11299.106498      2   \n",
       "...               ...        ...           ...    ...   \n",
       "7403        51.351351   9.876543   8498.080328     74   \n",
       "7404        61.525841  14.680209   7989.958401     74   \n",
       "7405        45.701249   7.916303   8750.030129     74   \n",
       "7406        51.305684   8.889386   8120.027122     74   \n",
       "7407        63.929619   4.960728   6602.391386     74   \n",
       "\n",
       "                                                     geometry  \n",
       "CodeELSTAT                                                     \n",
       "0101        MULTIPOLYGON (((631058.735 4574912.809, 631431...  \n",
       "0102        MULTIPOLYGON (((661976.597 4554253.076, 662118...  \n",
       "0103        MULTIPOLYGON (((603623.489 4566376.502, 603657...  \n",
       "0104        MULTIPOLYGON (((650998.525 4557469.860, 651446...  \n",
       "0201        MULTIPOLYGON (((521986.700 4601855.354, 522271...  \n",
       "...                                                       ...  \n",
       "7403        MULTIPOLYGON (((505925.688 3858625.000, 506062...  \n",
       "7404        MULTIPOLYGON (((469969.812 3897335.000, 469955...  \n",
       "7405        MULTIPOLYGON (((457703.500 3902963.000, 457852...  \n",
       "7406        MULTIPOLYGON (((476162.812 3949684.000, 476253...  \n",
       "7407        MULTIPOLYGON (((502587.434 3912125.553, 502774...  \n",
       "\n",
       "[325 rows x 15 columns]"
      ]
     },
     "execution_count": 130,
     "metadata": {},
     "output_type": "execute_result"
    }
   ],
   "source": [
    "dhmoi"
   ]
  },
  {
   "cell_type": "markdown",
   "id": "e0b6bad3",
   "metadata": {},
   "source": [
    "Υπολογισμός έκτασης (σε $km^2$) σε μία νέα στήλη με το όνομα area"
   ]
  },
  {
   "cell_type": "code",
   "execution_count": 131,
   "id": "78c593c8",
   "metadata": {},
   "outputs": [],
   "source": [
    "dhmoi[\"area\"] = dhmoi.area*10e-6"
   ]
  },
  {
   "cell_type": "code",
   "execution_count": 132,
   "id": "7273f26a",
   "metadata": {},
   "outputs": [
    {
     "data": {
      "text/html": [
       "<div>\n",
       "<style scoped>\n",
       "    .dataframe tbody tr th:only-of-type {\n",
       "        vertical-align: middle;\n",
       "    }\n",
       "\n",
       "    .dataframe tbody tr th {\n",
       "        vertical-align: top;\n",
       "    }\n",
       "\n",
       "    .dataframe thead th {\n",
       "        text-align: right;\n",
       "    }\n",
       "</style>\n",
       "<table border=\"1\" class=\"dataframe\">\n",
       "  <thead>\n",
       "    <tr style=\"text-align: right;\">\n",
       "      <th></th>\n",
       "      <th>OBJECTID</th>\n",
       "      <th>X</th>\n",
       "      <th>Y</th>\n",
       "      <th>Name</th>\n",
       "      <th>PopM01</th>\n",
       "      <th>PopF01</th>\n",
       "      <th>PopTot01</th>\n",
       "      <th>UnemrM01</th>\n",
       "      <th>UnemrF01</th>\n",
       "      <th>UnemrT01</th>\n",
       "      <th>PrSect01</th>\n",
       "      <th>Foreig01</th>\n",
       "      <th>Income01</th>\n",
       "      <th>Perif</th>\n",
       "      <th>geometry</th>\n",
       "      <th>area</th>\n",
       "    </tr>\n",
       "    <tr>\n",
       "      <th>CodeELSTAT</th>\n",
       "      <th></th>\n",
       "      <th></th>\n",
       "      <th></th>\n",
       "      <th></th>\n",
       "      <th></th>\n",
       "      <th></th>\n",
       "      <th></th>\n",
       "      <th></th>\n",
       "      <th></th>\n",
       "      <th></th>\n",
       "      <th></th>\n",
       "      <th></th>\n",
       "      <th></th>\n",
       "      <th></th>\n",
       "      <th></th>\n",
       "      <th></th>\n",
       "    </tr>\n",
       "  </thead>\n",
       "  <tbody>\n",
       "    <tr>\n",
       "      <th>0101</th>\n",
       "      <td>1</td>\n",
       "      <td>616259.007833</td>\n",
       "      <td>4.551127e+06</td>\n",
       "      <td>KOMOTINIS</td>\n",
       "      <td>29967.0</td>\n",
       "      <td>31534.0</td>\n",
       "      <td>61501.0</td>\n",
       "      <td>4.726948</td>\n",
       "      <td>6.051873</td>\n",
       "      <td>5.221281</td>\n",
       "      <td>21.817852</td>\n",
       "      <td>1.996780</td>\n",
       "      <td>10969.315256</td>\n",
       "      <td>1</td>\n",
       "      <td>MULTIPOLYGON (((631058.735 4574912.809, 631431...</td>\n",
       "      <td>6470.182562</td>\n",
       "    </tr>\n",
       "    <tr>\n",
       "      <th>0102</th>\n",
       "      <td>2</td>\n",
       "      <td>644783.135624</td>\n",
       "      <td>4.561364e+06</td>\n",
       "      <td>ARRIANON</td>\n",
       "      <td>8952.0</td>\n",
       "      <td>9307.0</td>\n",
       "      <td>18259.0</td>\n",
       "      <td>1.955813</td>\n",
       "      <td>2.390181</td>\n",
       "      <td>2.154240</td>\n",
       "      <td>92.912436</td>\n",
       "      <td>0.038337</td>\n",
       "      <td>6398.641486</td>\n",
       "      <td>1</td>\n",
       "      <td>MULTIPOLYGON (((661976.597 4554253.076, 662118...</td>\n",
       "      <td>7724.393191</td>\n",
       "    </tr>\n",
       "    <tr>\n",
       "      <th>0103</th>\n",
       "      <td>3</td>\n",
       "      <td>602100.950461</td>\n",
       "      <td>4.555689e+06</td>\n",
       "      <td>IASMOU</td>\n",
       "      <td>7290.0</td>\n",
       "      <td>7561.0</td>\n",
       "      <td>14851.0</td>\n",
       "      <td>5.653884</td>\n",
       "      <td>6.671554</td>\n",
       "      <td>6.062390</td>\n",
       "      <td>70.206767</td>\n",
       "      <td>1.339977</td>\n",
       "      <td>6608.897469</td>\n",
       "      <td>1</td>\n",
       "      <td>MULTIPOLYGON (((603623.489 4566376.502, 603657...</td>\n",
       "      <td>4870.493148</td>\n",
       "    </tr>\n",
       "    <tr>\n",
       "      <th>0104</th>\n",
       "      <td>4</td>\n",
       "      <td>633712.468442</td>\n",
       "      <td>4.539548e+06</td>\n",
       "      <td>MARONEIAS - SAPON</td>\n",
       "      <td>8284.0</td>\n",
       "      <td>8342.0</td>\n",
       "      <td>16626.0</td>\n",
       "      <td>5.840957</td>\n",
       "      <td>10.270499</td>\n",
       "      <td>7.421934</td>\n",
       "      <td>57.748085</td>\n",
       "      <td>0.890172</td>\n",
       "      <td>6700.375345</td>\n",
       "      <td>1</td>\n",
       "      <td>MULTIPOLYGON (((650998.525 4557469.860, 651446...</td>\n",
       "      <td>6441.606153</td>\n",
       "    </tr>\n",
       "    <tr>\n",
       "      <th>0201</th>\n",
       "      <td>5</td>\n",
       "      <td>517831.195188</td>\n",
       "      <td>4.572544e+06</td>\n",
       "      <td>DRAMAS</td>\n",
       "      <td>28041.0</td>\n",
       "      <td>29326.0</td>\n",
       "      <td>57367.0</td>\n",
       "      <td>8.831689</td>\n",
       "      <td>14.176926</td>\n",
       "      <td>10.851115</td>\n",
       "      <td>7.298838</td>\n",
       "      <td>2.961633</td>\n",
       "      <td>11299.106498</td>\n",
       "      <td>2</td>\n",
       "      <td>MULTIPOLYGON (((521986.700 4601855.354, 522271...</td>\n",
       "      <td>8401.321201</td>\n",
       "    </tr>\n",
       "    <tr>\n",
       "      <th>...</th>\n",
       "      <td>...</td>\n",
       "      <td>...</td>\n",
       "      <td>...</td>\n",
       "      <td>...</td>\n",
       "      <td>...</td>\n",
       "      <td>...</td>\n",
       "      <td>...</td>\n",
       "      <td>...</td>\n",
       "      <td>...</td>\n",
       "      <td>...</td>\n",
       "      <td>...</td>\n",
       "      <td>...</td>\n",
       "      <td>...</td>\n",
       "      <td>...</td>\n",
       "      <td>...</td>\n",
       "      <td>...</td>\n",
       "    </tr>\n",
       "    <tr>\n",
       "      <th>7403</th>\n",
       "      <td>321</td>\n",
       "      <td>507562.964610</td>\n",
       "      <td>3.855768e+06</td>\n",
       "      <td>GAVDOU</td>\n",
       "      <td>49.0</td>\n",
       "      <td>32.0</td>\n",
       "      <td>81.0</td>\n",
       "      <td>0.000000</td>\n",
       "      <td>0.000000</td>\n",
       "      <td>0.350000</td>\n",
       "      <td>51.351351</td>\n",
       "      <td>9.876543</td>\n",
       "      <td>8498.080328</td>\n",
       "      <td>74</td>\n",
       "      <td>MULTIPOLYGON (((505925.688 3858625.000, 506062...</td>\n",
       "      <td>343.773091</td>\n",
       "    </tr>\n",
       "    <tr>\n",
       "      <th>7404</th>\n",
       "      <td>322</td>\n",
       "      <td>475420.582085</td>\n",
       "      <td>3.905918e+06</td>\n",
       "      <td>KANTANOU - SELINOU</td>\n",
       "      <td>3271.0</td>\n",
       "      <td>3031.0</td>\n",
       "      <td>6302.0</td>\n",
       "      <td>2.312500</td>\n",
       "      <td>2.234637</td>\n",
       "      <td>2.284569</td>\n",
       "      <td>61.525841</td>\n",
       "      <td>14.680209</td>\n",
       "      <td>7989.958401</td>\n",
       "      <td>74</td>\n",
       "      <td>MULTIPOLYGON (((469969.812 3897335.000, 469955...</td>\n",
       "      <td>3746.368061</td>\n",
       "    </tr>\n",
       "    <tr>\n",
       "      <th>7405</th>\n",
       "      <td>323</td>\n",
       "      <td>465887.990746</td>\n",
       "      <td>3.920087e+06</td>\n",
       "      <td>KISSAMOU</td>\n",
       "      <td>5925.0</td>\n",
       "      <td>5545.0</td>\n",
       "      <td>11470.0</td>\n",
       "      <td>4.847458</td>\n",
       "      <td>5.894591</td>\n",
       "      <td>5.191257</td>\n",
       "      <td>45.701249</td>\n",
       "      <td>7.916303</td>\n",
       "      <td>8750.030129</td>\n",
       "      <td>74</td>\n",
       "      <td>MULTIPOLYGON (((457703.500 3902963.000, 457852...</td>\n",
       "      <td>3421.398731</td>\n",
       "    </tr>\n",
       "    <tr>\n",
       "      <th>7406</th>\n",
       "      <td>324</td>\n",
       "      <td>484468.969583</td>\n",
       "      <td>3.924051e+06</td>\n",
       "      <td>PLATANIA</td>\n",
       "      <td>9217.0</td>\n",
       "      <td>8647.0</td>\n",
       "      <td>17864.0</td>\n",
       "      <td>4.437401</td>\n",
       "      <td>8.586262</td>\n",
       "      <td>5.938448</td>\n",
       "      <td>51.305684</td>\n",
       "      <td>8.889386</td>\n",
       "      <td>8120.027122</td>\n",
       "      <td>74</td>\n",
       "      <td>MULTIPOLYGON (((476162.812 3949684.000, 476253...</td>\n",
       "      <td>4925.063676</td>\n",
       "    </tr>\n",
       "    <tr>\n",
       "      <th>7407</th>\n",
       "      <td>325</td>\n",
       "      <td>508083.904768</td>\n",
       "      <td>3.901847e+06</td>\n",
       "      <td>SFAKION</td>\n",
       "      <td>1288.0</td>\n",
       "      <td>1131.0</td>\n",
       "      <td>2419.0</td>\n",
       "      <td>1.920439</td>\n",
       "      <td>2.839117</td>\n",
       "      <td>2.198853</td>\n",
       "      <td>63.929619</td>\n",
       "      <td>4.960728</td>\n",
       "      <td>6602.391386</td>\n",
       "      <td>74</td>\n",
       "      <td>MULTIPOLYGON (((502587.434 3912125.553, 502774...</td>\n",
       "      <td>4667.779146</td>\n",
       "    </tr>\n",
       "  </tbody>\n",
       "</table>\n",
       "<p>325 rows × 16 columns</p>\n",
       "</div>"
      ],
      "text/plain": [
       "            OBJECTID              X             Y                Name  \\\n",
       "CodeELSTAT                                                              \n",
       "0101               1  616259.007833  4.551127e+06           KOMOTINIS   \n",
       "0102               2  644783.135624  4.561364e+06            ARRIANON   \n",
       "0103               3  602100.950461  4.555689e+06              IASMOU   \n",
       "0104               4  633712.468442  4.539548e+06   MARONEIAS - SAPON   \n",
       "0201               5  517831.195188  4.572544e+06              DRAMAS   \n",
       "...              ...            ...           ...                 ...   \n",
       "7403             321  507562.964610  3.855768e+06              GAVDOU   \n",
       "7404             322  475420.582085  3.905918e+06  KANTANOU - SELINOU   \n",
       "7405             323  465887.990746  3.920087e+06            KISSAMOU   \n",
       "7406             324  484468.969583  3.924051e+06            PLATANIA   \n",
       "7407             325  508083.904768  3.901847e+06             SFAKION   \n",
       "\n",
       "             PopM01   PopF01  PopTot01  UnemrM01   UnemrF01   UnemrT01  \\\n",
       "CodeELSTAT                                                               \n",
       "0101        29967.0  31534.0   61501.0  4.726948   6.051873   5.221281   \n",
       "0102         8952.0   9307.0   18259.0  1.955813   2.390181   2.154240   \n",
       "0103         7290.0   7561.0   14851.0  5.653884   6.671554   6.062390   \n",
       "0104         8284.0   8342.0   16626.0  5.840957  10.270499   7.421934   \n",
       "0201        28041.0  29326.0   57367.0  8.831689  14.176926  10.851115   \n",
       "...             ...      ...       ...       ...        ...        ...   \n",
       "7403           49.0     32.0      81.0  0.000000   0.000000   0.350000   \n",
       "7404         3271.0   3031.0    6302.0  2.312500   2.234637   2.284569   \n",
       "7405         5925.0   5545.0   11470.0  4.847458   5.894591   5.191257   \n",
       "7406         9217.0   8647.0   17864.0  4.437401   8.586262   5.938448   \n",
       "7407         1288.0   1131.0    2419.0  1.920439   2.839117   2.198853   \n",
       "\n",
       "             PrSect01   Foreig01      Income01  Perif  \\\n",
       "CodeELSTAT                                              \n",
       "0101        21.817852   1.996780  10969.315256      1   \n",
       "0102        92.912436   0.038337   6398.641486      1   \n",
       "0103        70.206767   1.339977   6608.897469      1   \n",
       "0104        57.748085   0.890172   6700.375345      1   \n",
       "0201         7.298838   2.961633  11299.106498      2   \n",
       "...               ...        ...           ...    ...   \n",
       "7403        51.351351   9.876543   8498.080328     74   \n",
       "7404        61.525841  14.680209   7989.958401     74   \n",
       "7405        45.701249   7.916303   8750.030129     74   \n",
       "7406        51.305684   8.889386   8120.027122     74   \n",
       "7407        63.929619   4.960728   6602.391386     74   \n",
       "\n",
       "                                                     geometry         area  \n",
       "CodeELSTAT                                                                  \n",
       "0101        MULTIPOLYGON (((631058.735 4574912.809, 631431...  6470.182562  \n",
       "0102        MULTIPOLYGON (((661976.597 4554253.076, 662118...  7724.393191  \n",
       "0103        MULTIPOLYGON (((603623.489 4566376.502, 603657...  4870.493148  \n",
       "0104        MULTIPOLYGON (((650998.525 4557469.860, 651446...  6441.606153  \n",
       "0201        MULTIPOLYGON (((521986.700 4601855.354, 522271...  8401.321201  \n",
       "...                                                       ...          ...  \n",
       "7403        MULTIPOLYGON (((505925.688 3858625.000, 506062...   343.773091  \n",
       "7404        MULTIPOLYGON (((469969.812 3897335.000, 469955...  3746.368061  \n",
       "7405        MULTIPOLYGON (((457703.500 3902963.000, 457852...  3421.398731  \n",
       "7406        MULTIPOLYGON (((476162.812 3949684.000, 476253...  4925.063676  \n",
       "7407        MULTIPOLYGON (((502587.434 3912125.553, 502774...  4667.779146  \n",
       "\n",
       "[325 rows x 16 columns]"
      ]
     },
     "execution_count": 132,
     "metadata": {},
     "output_type": "execute_result"
    }
   ],
   "source": [
    "dhmoi"
   ]
  },
  {
   "cell_type": "markdown",
   "id": "dec9f3b7",
   "metadata": {},
   "source": [
    "Υπολογισμός του centroid κάθε δήμου σε μια νέα στήλη (centroid)"
   ]
  },
  {
   "cell_type": "code",
   "execution_count": 133,
   "id": "b9c87068",
   "metadata": {},
   "outputs": [],
   "source": [
    "dhmoi['centroid'] = dhmoi.centroid"
   ]
  },
  {
   "cell_type": "code",
   "execution_count": 134,
   "id": "4a262f8d",
   "metadata": {},
   "outputs": [
    {
     "data": {
      "text/html": [
       "<div>\n",
       "<style scoped>\n",
       "    .dataframe tbody tr th:only-of-type {\n",
       "        vertical-align: middle;\n",
       "    }\n",
       "\n",
       "    .dataframe tbody tr th {\n",
       "        vertical-align: top;\n",
       "    }\n",
       "\n",
       "    .dataframe thead th {\n",
       "        text-align: right;\n",
       "    }\n",
       "</style>\n",
       "<table border=\"1\" class=\"dataframe\">\n",
       "  <thead>\n",
       "    <tr style=\"text-align: right;\">\n",
       "      <th></th>\n",
       "      <th>OBJECTID</th>\n",
       "      <th>X</th>\n",
       "      <th>Y</th>\n",
       "      <th>Name</th>\n",
       "      <th>PopM01</th>\n",
       "      <th>PopF01</th>\n",
       "      <th>PopTot01</th>\n",
       "      <th>UnemrM01</th>\n",
       "      <th>UnemrF01</th>\n",
       "      <th>UnemrT01</th>\n",
       "      <th>PrSect01</th>\n",
       "      <th>Foreig01</th>\n",
       "      <th>Income01</th>\n",
       "      <th>Perif</th>\n",
       "      <th>geometry</th>\n",
       "      <th>area</th>\n",
       "      <th>centroid</th>\n",
       "    </tr>\n",
       "    <tr>\n",
       "      <th>CodeELSTAT</th>\n",
       "      <th></th>\n",
       "      <th></th>\n",
       "      <th></th>\n",
       "      <th></th>\n",
       "      <th></th>\n",
       "      <th></th>\n",
       "      <th></th>\n",
       "      <th></th>\n",
       "      <th></th>\n",
       "      <th></th>\n",
       "      <th></th>\n",
       "      <th></th>\n",
       "      <th></th>\n",
       "      <th></th>\n",
       "      <th></th>\n",
       "      <th></th>\n",
       "      <th></th>\n",
       "    </tr>\n",
       "  </thead>\n",
       "  <tbody>\n",
       "    <tr>\n",
       "      <th>0101</th>\n",
       "      <td>1</td>\n",
       "      <td>616259.007833</td>\n",
       "      <td>4.551127e+06</td>\n",
       "      <td>KOMOTINIS</td>\n",
       "      <td>29967.0</td>\n",
       "      <td>31534.0</td>\n",
       "      <td>61501.0</td>\n",
       "      <td>4.726948</td>\n",
       "      <td>6.051873</td>\n",
       "      <td>5.221281</td>\n",
       "      <td>21.817852</td>\n",
       "      <td>1.996780</td>\n",
       "      <td>10969.315256</td>\n",
       "      <td>1</td>\n",
       "      <td>MULTIPOLYGON (((631058.735 4574912.809, 631431...</td>\n",
       "      <td>6470.182562</td>\n",
       "      <td>POINT (616259.008 4551127.241)</td>\n",
       "    </tr>\n",
       "    <tr>\n",
       "      <th>0102</th>\n",
       "      <td>2</td>\n",
       "      <td>644783.135624</td>\n",
       "      <td>4.561364e+06</td>\n",
       "      <td>ARRIANON</td>\n",
       "      <td>8952.0</td>\n",
       "      <td>9307.0</td>\n",
       "      <td>18259.0</td>\n",
       "      <td>1.955813</td>\n",
       "      <td>2.390181</td>\n",
       "      <td>2.154240</td>\n",
       "      <td>92.912436</td>\n",
       "      <td>0.038337</td>\n",
       "      <td>6398.641486</td>\n",
       "      <td>1</td>\n",
       "      <td>MULTIPOLYGON (((661976.597 4554253.076, 662118...</td>\n",
       "      <td>7724.393191</td>\n",
       "      <td>POINT (644783.136 4561364.036)</td>\n",
       "    </tr>\n",
       "    <tr>\n",
       "      <th>0103</th>\n",
       "      <td>3</td>\n",
       "      <td>602100.950461</td>\n",
       "      <td>4.555689e+06</td>\n",
       "      <td>IASMOU</td>\n",
       "      <td>7290.0</td>\n",
       "      <td>7561.0</td>\n",
       "      <td>14851.0</td>\n",
       "      <td>5.653884</td>\n",
       "      <td>6.671554</td>\n",
       "      <td>6.062390</td>\n",
       "      <td>70.206767</td>\n",
       "      <td>1.339977</td>\n",
       "      <td>6608.897469</td>\n",
       "      <td>1</td>\n",
       "      <td>MULTIPOLYGON (((603623.489 4566376.502, 603657...</td>\n",
       "      <td>4870.493148</td>\n",
       "      <td>POINT (602100.950 4555689.138)</td>\n",
       "    </tr>\n",
       "    <tr>\n",
       "      <th>0104</th>\n",
       "      <td>4</td>\n",
       "      <td>633712.468442</td>\n",
       "      <td>4.539548e+06</td>\n",
       "      <td>MARONEIAS - SAPON</td>\n",
       "      <td>8284.0</td>\n",
       "      <td>8342.0</td>\n",
       "      <td>16626.0</td>\n",
       "      <td>5.840957</td>\n",
       "      <td>10.270499</td>\n",
       "      <td>7.421934</td>\n",
       "      <td>57.748085</td>\n",
       "      <td>0.890172</td>\n",
       "      <td>6700.375345</td>\n",
       "      <td>1</td>\n",
       "      <td>MULTIPOLYGON (((650998.525 4557469.860, 651446...</td>\n",
       "      <td>6441.606153</td>\n",
       "      <td>POINT (633712.468 4539548.490)</td>\n",
       "    </tr>\n",
       "    <tr>\n",
       "      <th>0201</th>\n",
       "      <td>5</td>\n",
       "      <td>517831.195188</td>\n",
       "      <td>4.572544e+06</td>\n",
       "      <td>DRAMAS</td>\n",
       "      <td>28041.0</td>\n",
       "      <td>29326.0</td>\n",
       "      <td>57367.0</td>\n",
       "      <td>8.831689</td>\n",
       "      <td>14.176926</td>\n",
       "      <td>10.851115</td>\n",
       "      <td>7.298838</td>\n",
       "      <td>2.961633</td>\n",
       "      <td>11299.106498</td>\n",
       "      <td>2</td>\n",
       "      <td>MULTIPOLYGON (((521986.700 4601855.354, 522271...</td>\n",
       "      <td>8401.321201</td>\n",
       "      <td>POINT (517831.195 4572544.478)</td>\n",
       "    </tr>\n",
       "    <tr>\n",
       "      <th>...</th>\n",
       "      <td>...</td>\n",
       "      <td>...</td>\n",
       "      <td>...</td>\n",
       "      <td>...</td>\n",
       "      <td>...</td>\n",
       "      <td>...</td>\n",
       "      <td>...</td>\n",
       "      <td>...</td>\n",
       "      <td>...</td>\n",
       "      <td>...</td>\n",
       "      <td>...</td>\n",
       "      <td>...</td>\n",
       "      <td>...</td>\n",
       "      <td>...</td>\n",
       "      <td>...</td>\n",
       "      <td>...</td>\n",
       "      <td>...</td>\n",
       "    </tr>\n",
       "    <tr>\n",
       "      <th>7403</th>\n",
       "      <td>321</td>\n",
       "      <td>507562.964610</td>\n",
       "      <td>3.855768e+06</td>\n",
       "      <td>GAVDOU</td>\n",
       "      <td>49.0</td>\n",
       "      <td>32.0</td>\n",
       "      <td>81.0</td>\n",
       "      <td>0.000000</td>\n",
       "      <td>0.000000</td>\n",
       "      <td>0.350000</td>\n",
       "      <td>51.351351</td>\n",
       "      <td>9.876543</td>\n",
       "      <td>8498.080328</td>\n",
       "      <td>74</td>\n",
       "      <td>MULTIPOLYGON (((505925.688 3858625.000, 506062...</td>\n",
       "      <td>343.773091</td>\n",
       "      <td>POINT (507562.965 3855767.657)</td>\n",
       "    </tr>\n",
       "    <tr>\n",
       "      <th>7404</th>\n",
       "      <td>322</td>\n",
       "      <td>475420.582085</td>\n",
       "      <td>3.905918e+06</td>\n",
       "      <td>KANTANOU - SELINOU</td>\n",
       "      <td>3271.0</td>\n",
       "      <td>3031.0</td>\n",
       "      <td>6302.0</td>\n",
       "      <td>2.312500</td>\n",
       "      <td>2.234637</td>\n",
       "      <td>2.284569</td>\n",
       "      <td>61.525841</td>\n",
       "      <td>14.680209</td>\n",
       "      <td>7989.958401</td>\n",
       "      <td>74</td>\n",
       "      <td>MULTIPOLYGON (((469969.812 3897335.000, 469955...</td>\n",
       "      <td>3746.368061</td>\n",
       "      <td>POINT (475420.582 3905917.949)</td>\n",
       "    </tr>\n",
       "    <tr>\n",
       "      <th>7405</th>\n",
       "      <td>323</td>\n",
       "      <td>465887.990746</td>\n",
       "      <td>3.920087e+06</td>\n",
       "      <td>KISSAMOU</td>\n",
       "      <td>5925.0</td>\n",
       "      <td>5545.0</td>\n",
       "      <td>11470.0</td>\n",
       "      <td>4.847458</td>\n",
       "      <td>5.894591</td>\n",
       "      <td>5.191257</td>\n",
       "      <td>45.701249</td>\n",
       "      <td>7.916303</td>\n",
       "      <td>8750.030129</td>\n",
       "      <td>74</td>\n",
       "      <td>MULTIPOLYGON (((457703.500 3902963.000, 457852...</td>\n",
       "      <td>3421.398731</td>\n",
       "      <td>POINT (465887.991 3920086.947)</td>\n",
       "    </tr>\n",
       "    <tr>\n",
       "      <th>7406</th>\n",
       "      <td>324</td>\n",
       "      <td>484468.969583</td>\n",
       "      <td>3.924051e+06</td>\n",
       "      <td>PLATANIA</td>\n",
       "      <td>9217.0</td>\n",
       "      <td>8647.0</td>\n",
       "      <td>17864.0</td>\n",
       "      <td>4.437401</td>\n",
       "      <td>8.586262</td>\n",
       "      <td>5.938448</td>\n",
       "      <td>51.305684</td>\n",
       "      <td>8.889386</td>\n",
       "      <td>8120.027122</td>\n",
       "      <td>74</td>\n",
       "      <td>MULTIPOLYGON (((476162.812 3949684.000, 476253...</td>\n",
       "      <td>4925.063676</td>\n",
       "      <td>POINT (484468.970 3924050.753)</td>\n",
       "    </tr>\n",
       "    <tr>\n",
       "      <th>7407</th>\n",
       "      <td>325</td>\n",
       "      <td>508083.904768</td>\n",
       "      <td>3.901847e+06</td>\n",
       "      <td>SFAKION</td>\n",
       "      <td>1288.0</td>\n",
       "      <td>1131.0</td>\n",
       "      <td>2419.0</td>\n",
       "      <td>1.920439</td>\n",
       "      <td>2.839117</td>\n",
       "      <td>2.198853</td>\n",
       "      <td>63.929619</td>\n",
       "      <td>4.960728</td>\n",
       "      <td>6602.391386</td>\n",
       "      <td>74</td>\n",
       "      <td>MULTIPOLYGON (((502587.434 3912125.553, 502774...</td>\n",
       "      <td>4667.779146</td>\n",
       "      <td>POINT (508083.905 3901847.180)</td>\n",
       "    </tr>\n",
       "  </tbody>\n",
       "</table>\n",
       "<p>325 rows × 17 columns</p>\n",
       "</div>"
      ],
      "text/plain": [
       "            OBJECTID              X             Y                Name  \\\n",
       "CodeELSTAT                                                              \n",
       "0101               1  616259.007833  4.551127e+06           KOMOTINIS   \n",
       "0102               2  644783.135624  4.561364e+06            ARRIANON   \n",
       "0103               3  602100.950461  4.555689e+06              IASMOU   \n",
       "0104               4  633712.468442  4.539548e+06   MARONEIAS - SAPON   \n",
       "0201               5  517831.195188  4.572544e+06              DRAMAS   \n",
       "...              ...            ...           ...                 ...   \n",
       "7403             321  507562.964610  3.855768e+06              GAVDOU   \n",
       "7404             322  475420.582085  3.905918e+06  KANTANOU - SELINOU   \n",
       "7405             323  465887.990746  3.920087e+06            KISSAMOU   \n",
       "7406             324  484468.969583  3.924051e+06            PLATANIA   \n",
       "7407             325  508083.904768  3.901847e+06             SFAKION   \n",
       "\n",
       "             PopM01   PopF01  PopTot01  UnemrM01   UnemrF01   UnemrT01  \\\n",
       "CodeELSTAT                                                               \n",
       "0101        29967.0  31534.0   61501.0  4.726948   6.051873   5.221281   \n",
       "0102         8952.0   9307.0   18259.0  1.955813   2.390181   2.154240   \n",
       "0103         7290.0   7561.0   14851.0  5.653884   6.671554   6.062390   \n",
       "0104         8284.0   8342.0   16626.0  5.840957  10.270499   7.421934   \n",
       "0201        28041.0  29326.0   57367.0  8.831689  14.176926  10.851115   \n",
       "...             ...      ...       ...       ...        ...        ...   \n",
       "7403           49.0     32.0      81.0  0.000000   0.000000   0.350000   \n",
       "7404         3271.0   3031.0    6302.0  2.312500   2.234637   2.284569   \n",
       "7405         5925.0   5545.0   11470.0  4.847458   5.894591   5.191257   \n",
       "7406         9217.0   8647.0   17864.0  4.437401   8.586262   5.938448   \n",
       "7407         1288.0   1131.0    2419.0  1.920439   2.839117   2.198853   \n",
       "\n",
       "             PrSect01   Foreig01      Income01  Perif  \\\n",
       "CodeELSTAT                                              \n",
       "0101        21.817852   1.996780  10969.315256      1   \n",
       "0102        92.912436   0.038337   6398.641486      1   \n",
       "0103        70.206767   1.339977   6608.897469      1   \n",
       "0104        57.748085   0.890172   6700.375345      1   \n",
       "0201         7.298838   2.961633  11299.106498      2   \n",
       "...               ...        ...           ...    ...   \n",
       "7403        51.351351   9.876543   8498.080328     74   \n",
       "7404        61.525841  14.680209   7989.958401     74   \n",
       "7405        45.701249   7.916303   8750.030129     74   \n",
       "7406        51.305684   8.889386   8120.027122     74   \n",
       "7407        63.929619   4.960728   6602.391386     74   \n",
       "\n",
       "                                                     geometry         area  \\\n",
       "CodeELSTAT                                                                   \n",
       "0101        MULTIPOLYGON (((631058.735 4574912.809, 631431...  6470.182562   \n",
       "0102        MULTIPOLYGON (((661976.597 4554253.076, 662118...  7724.393191   \n",
       "0103        MULTIPOLYGON (((603623.489 4566376.502, 603657...  4870.493148   \n",
       "0104        MULTIPOLYGON (((650998.525 4557469.860, 651446...  6441.606153   \n",
       "0201        MULTIPOLYGON (((521986.700 4601855.354, 522271...  8401.321201   \n",
       "...                                                       ...          ...   \n",
       "7403        MULTIPOLYGON (((505925.688 3858625.000, 506062...   343.773091   \n",
       "7404        MULTIPOLYGON (((469969.812 3897335.000, 469955...  3746.368061   \n",
       "7405        MULTIPOLYGON (((457703.500 3902963.000, 457852...  3421.398731   \n",
       "7406        MULTIPOLYGON (((476162.812 3949684.000, 476253...  4925.063676   \n",
       "7407        MULTIPOLYGON (((502587.434 3912125.553, 502774...  4667.779146   \n",
       "\n",
       "                                  centroid  \n",
       "CodeELSTAT                                  \n",
       "0101        POINT (616259.008 4551127.241)  \n",
       "0102        POINT (644783.136 4561364.036)  \n",
       "0103        POINT (602100.950 4555689.138)  \n",
       "0104        POINT (633712.468 4539548.490)  \n",
       "0201        POINT (517831.195 4572544.478)  \n",
       "...                                    ...  \n",
       "7403        POINT (507562.965 3855767.657)  \n",
       "7404        POINT (475420.582 3905917.949)  \n",
       "7405        POINT (465887.991 3920086.947)  \n",
       "7406        POINT (484468.970 3924050.753)  \n",
       "7407        POINT (508083.905 3901847.180)  \n",
       "\n",
       "[325 rows x 17 columns]"
      ]
     },
     "execution_count": 134,
     "metadata": {},
     "output_type": "execute_result"
    }
   ],
   "source": [
    "dhmoi"
   ]
  },
  {
   "cell_type": "markdown",
   "id": "edb07bc1",
   "metadata": {},
   "source": [
    "Χαρτογραφική απόδοση του δείκτη ανεργίας (στήλη UnemrT01)  ανά δήμο"
   ]
  },
  {
   "cell_type": "code",
   "execution_count": 135,
   "id": "4f22a4af",
   "metadata": {},
   "outputs": [
    {
     "data": {
      "text/plain": [
       "<AxesSubplot:>"
      ]
     },
     "execution_count": 135,
     "metadata": {},
     "output_type": "execute_result"
    },
    {
     "data": {
      "image/png": "[encoded data removed]",
      "text/plain": [
       "<Figure size 432x288 with 2 Axes>"
      ]
     },
     "metadata": {
      "needs_background": "light"
     },
     "output_type": "display_data"
    }
   ],
   "source": [
    "dhmoi.plot(\"UnemrT01\", legend=True)"
   ]
  },
  {
   "cell_type": "code",
   "execution_count": 136,
   "id": "64e9593d",
   "metadata": {},
   "outputs": [
    {
     "data": {
      "text/plain": [
       "<AxesSubplot:>"
      ]
     },
     "execution_count": 136,
     "metadata": {},
     "output_type": "execute_result"
    },
    {
     "data": {
      "image/png": "[encoded data removed]",
      "text/plain": [
       "<Figure size 864x720 with 1 Axes>"
      ]
     },
     "metadata": {
      "needs_background": "light"
     },
     "output_type": "display_data"
    }
   ],
   "source": [
    " dhmoi.plot(\"Income01\", scheme='quantiles', cmap='YlOrRd',  legend=True, figsize=(12, 10))"
   ]
  },
  {
   "cell_type": "markdown",
   "id": "f97c3645",
   "metadata": {},
   "source": [
    "Μπορούμε να οπτικοποιήσουμε διαφορετική στήλη τύπου *geopandas.geoseries.GeoSeries* αφού πρώτα την ορίσουμε με την μέθοδο *set_geometry*."
   ]
  },
  {
   "cell_type": "code",
   "execution_count": 137,
   "id": "840ff915",
   "metadata": {},
   "outputs": [
    {
     "data": {
      "text/plain": [
       "<AxesSubplot:>"
      ]
     },
     "execution_count": 137,
     "metadata": {},
     "output_type": "execute_result"
    },
    {
     "data": {
      "image/png": "[encoded data removed]",
      "text/plain": [
       "<Figure size 432x288 with 2 Axes>"
      ]
     },
     "metadata": {
      "needs_background": "light"
     },
     "output_type": "display_data"
    }
   ],
   "source": [
    "dhmoi = dhmoi.set_geometry(\"centroid\")\n",
    "dhmoi.plot(\"UnemrT01\", legend=True)"
   ]
  },
  {
   "cell_type": "markdown",
   "id": "58f8a879",
   "metadata": {},
   "source": [
    "Ορισμός περιμετρικής ζώνης διαμέτρου 20χλμ γύρω από κάθε centroid."
   ]
  },
  {
   "cell_type": "code",
   "execution_count": 138,
   "id": "83db79be",
   "metadata": {},
   "outputs": [
    {
     "data": {
      "text/plain": [
       "<AxesSubplot:>"
      ]
     },
     "execution_count": 138,
     "metadata": {},
     "output_type": "execute_result"
    },
    {
     "data": {
      "image/png": "[encoded data removed]",
      "text/plain": [
       "<Figure size 432x288 with 1 Axes>"
      ]
     },
     "metadata": {
      "needs_background": "light"
     },
     "output_type": "display_data"
    }
   ],
   "source": [
    "dhmoi = dhmoi.set_geometry(\"centroid\") # ορισμός default γεωμετρίας η στήλη centroid\n",
    "dhmoi[\"buffered\"] = dhmoi.buffer(20000) #εκτέλεση περιμετρικών ζωνών\n",
    "\n",
    "dhmoi = dhmoi.set_geometry(\"buffered\") # ορισμός default γεωμετρίας η στήλη buffered\n",
    "dhmoi.plot(legend=True) # οπτικοποίηση\n"
   ]
  },
  {
   "cell_type": "markdown",
   "id": "150e25b6",
   "metadata": {},
   "source": [
    "Ξανα ορίζουμε σαν προκαθορισμένη στήλη γεωμετρία την στήλη *geometry*."
   ]
  },
  {
   "cell_type": "code",
   "execution_count": 139,
   "id": "baaffcc7",
   "metadata": {},
   "outputs": [],
   "source": [
    "dhmoi = dhmoi.set_geometry(\"geometry\")"
   ]
  },
  {
   "cell_type": "markdown",
   "id": "0538ab3e",
   "metadata": {},
   "source": [
    "Μπορούμε να φιλτράρουμε γραμμές και στήλες όπως και στην pandas χρησιμοποιώντας το index και το όνομα στήλης:"
   ]
  },
  {
   "cell_type": "code",
   "execution_count": 140,
   "id": "fc1621fe",
   "metadata": {},
   "outputs": [],
   "source": [
    "lesvos = dhmoi.loc[\"5301\", \"geometry\"]"
   ]
  },
  {
   "cell_type": "code",
   "execution_count": 141,
   "id": "6acde600",
   "metadata": {},
   "outputs": [
    {
     "data": {
      "image/svg+xml": [
       "<svg xmlns=\"http://www.w3.org/2000/svg\" xmlns:xlink=\"http://www.w3.org/1999/xlink\" width=\"300\" height=\"300\" viewBox=\"654257.315 4312257.69 74798.37000000011 52861.61999999918\" preserveAspectRatio=\"xMinYMin meet\"><g transform=\"matrix(1,0,0,-1,0,8677377.0)\"><g><path fill-rule=\"evenodd\" fill=\"#66cc99\" stroke=\"#555555\" stroke-width=\"498.65580000000074\" opacity=\"0.6\" d=\"M 717543.125,4315549.0 L 717543.5,4315538.0 L 717531.125,4315529.0 L 717517.3125,4315524.0 L 717503.3125,4315523.0 L 717402.875,4315521.0 L 717391.125,4315530.0 L 717381.8125,4315543.0 L 717376.125,4315561.0 L 717377.875,4315579.0 L 717459.875,4315709.0 L 717502.1875,4315737.0 L 717569.0,4315754.0 L 717580.625,4315750.0 L 717596.125,4315742.0 L 717610.6875,4315727.0 L 717619.1875,4315701.0 L 717619.6875,4315688.0 L 717543.125,4315549.0 z\" /><path fill-rule=\"evenodd\" fill=\"#66cc99\" stroke=\"#555555\" stroke-width=\"498.65580000000074\" opacity=\"0.6\" d=\"M 717362.1875,4315984.0 L 717358.1875,4315974.0 L 717352.5,4315966.0 L 717345.375,4315959.0 L 717337.125,4315953.0 L 717327.8125,4315949.0 L 717317.875,4315947.0 L 717307.8125,4315946.0 L 717209.375,4315963.0 L 717204.125,4315967.0 L 717201.1875,4315978.0 L 717197.875,4316009.0 L 717196.8125,4316019.0 L 717196.1875,4316029.0 L 717196.125,4316039.0 L 717196.375,4316049.0 L 717197.3125,4316060.0 L 717198.6875,4316070.0 L 717200.5,4316080.0 L 717202.8125,4316089.0 L 717205.625,4316099.0 L 717208.875,4316109.0 L 717212.625,4316118.0 L 717216.8125,4316127.0 L 717221.375,4316136.0 L 717226.375,4316145.0 L 717231.875,4316154.0 L 717234.375,4316158.0 L 717240.375,4316167.0 L 717246.5,4316173.0 L 717263.875,4316187.0 L 717274.0,4316187.0 L 717293.125,4316186.0 L 717312.375,4316179.0 L 717322.875,4316171.0 L 717340.3125,4316146.0 L 717344.375,4316137.0 L 717348.8125,4316123.0 L 717365.3125,4316014.0 L 717364.3125,4315993.0 L 717362.1875,4315984.0 z\" /><path fill-rule=\"evenodd\" fill=\"#66cc99\" stroke=\"#555555\" stroke-width=\"498.65580000000074\" opacity=\"0.6\" d=\"M 720010.875,4316231.0 L 720003.3125,4316231.0 L 719991.8125,4316235.0 L 719982.8125,4316239.0 L 719971.3125,4316246.0 L 719949.625,4316260.0 L 719930.3125,4316276.0 L 719904.625,4316331.0 L 719899.375,4316349.0 L 719906.875,4316367.0 L 719918.375,4316377.0 L 719940.0,4316384.0 L 719961.6875,4316384.0 L 719974.375,4316383.0 L 719988.5,4316374.0 L 720057.625,4316328.0 L 720071.8125,4316300.0 L 720073.125,4316290.0 L 720060.375,4316275.0 L 720010.875,4316231.0 z\" /><path fill-rule=\"evenodd\" fill=\"#66cc99\" stroke=\"#555555\" stroke-width=\"498.65580000000074\" opacity=\"0.6\" d=\"M 687258.3125,4320293.0 L 687288.8125,4320292.0 L 687291.375,4320287.0 L 687294.3125,4320276.0 L 687279.1875,4320266.0 L 687265.3125,4320265.0 L 687248.8125,4320264.0 L 687236.0,4320265.0 L 687224.625,4320268.0 L 687216.8125,4320274.0 L 687207.0312999999,4320283.0 L 687203.8125,4320289.0 L 687203.5,4320302.0 L 687208.375,4320306.0 L 687217.375,4320306.0 L 687233.875,4320301.0 L 687258.3125,4320293.0 z\" /><path fill-rule=\"evenodd\" fill=\"#66cc99\" stroke=\"#555555\" stroke-width=\"498.65580000000074\" opacity=\"0.6\" d=\"M 687198.8125,4320340.0 L 687193.875,4320331.0 L 687180.0,4320328.0 L 687171.125,4320328.0 L 687156.4062999999,4320335.0 L 687150.5,4320341.0 L 687150.3125,4320350.0 L 687151.375,4320356.0 L 687161.375,4320363.0 L 687175.375,4320363.0 L 687193.3125,4320359.0 L 687198.625,4320351.0 L 687198.8125,4320340.0 z\" /><path fill-rule=\"evenodd\" fill=\"#66cc99\" stroke=\"#555555\" stroke-width=\"498.65580000000074\" opacity=\"0.6\" d=\"M 687086.875,4320405.0 L 687080.625,4320403.0 L 687065.375,4320402.0 L 687060.1875,4320404.0 L 687052.375,4320413.0 L 687044.375,4320432.0 L 687041.625,4320443.0 L 687051.625,4320448.0 L 687065.625,4320449.0 L 687079.8125,4320440.0 L 687086.375,4320426.0 L 687086.875,4320405.0 z\" /><path fill-rule=\"evenodd\" fill=\"#66cc99\" stroke=\"#555555\" stroke-width=\"498.65580000000074\" opacity=\"0.6\" d=\"M 687000.5,4320463.0 L 686991.625,4320462.0 L 686969.8125,4320473.0 L 686965.875,4320477.0 L 686965.625,4320488.0 L 686965.5,4320495.0 L 686974.3125,4320501.0 L 686983.0,4320505.0 L 686993.1875,4320506.0 L 687007.1875,4320505.0 L 687015.0,4320495.0 L 687017.8125,4320483.0 L 687016.875,4320469.0 L 687011.875,4320463.0 L 687000.5,4320463.0 z\" /><path fill-rule=\"evenodd\" fill=\"#66cc99\" stroke=\"#555555\" stroke-width=\"498.65580000000074\" opacity=\"0.6\" d=\"M 686880.625,4320541.0 L 686875.625,4320541.0 L 686856.1875,4320556.0 L 686844.625,4320565.0 L 686836.8125,4320572.0 L 686830.1875,4320581.0 L 686823.5,4320597.0 L 686825.8125,4320606.0 L 686834.625,4320610.0 L 686838.375,4320610.0 L 686883.6875,4320574.0 L 686888.875,4320569.0 L 686893.125,4320554.0 L 686891.875,4320547.0 L 686886.875,4320544.0 L 686880.625,4320541.0 z\" /><path fill-rule=\"evenodd\" fill=\"#66cc99\" stroke=\"#555555\" stroke-width=\"498.65580000000074\" opacity=\"0.6\" d=\"M 686734.0,4320567.0 L 686726.375,4320567.0 L 686720.0,4320568.0 L 686714.875,4320569.0 L 686712.1875,4320578.0 L 686711.875,4320587.0 L 686713.0,4320597.0 L 686720.375,4320609.0 L 686729.0,4320619.0 L 686739.1875,4320620.0 L 686747.125,4320607.0 L 686752.625,4320585.0 L 686750.375,4320570.0 L 686744.125,4320567.0 L 686734.0,4320567.0 z\" /><path fill-rule=\"evenodd\" fill=\"#66cc99\" stroke=\"#555555\" stroke-width=\"498.65580000000074\" opacity=\"0.6\" d=\"M 686662.625,4320638.0 L 686649.875,4320638.0 L 686646.0,4320639.0 L 686636.8125,4320654.0 L 686631.5,4320663.0 L 686628.8125,4320674.0 L 686633.6875,4320680.0 L 686646.375,4320680.0 L 686682.1875,4320669.0 L 686687.625,4320655.0 L 686686.5,4320646.0 L 686674.0,4320638.0 L 686662.625,4320638.0 z\" /><path fill-rule=\"evenodd\" fill=\"#66cc99\" stroke=\"#555555\" stroke-width=\"498.65580000000074\" opacity=\"0.6\" d=\"M 686565.1875,4320677.0 L 686552.5,4320676.0 L 686542.1875,4320683.0 L 686537.0,4320689.0 L 686531.3125,4320717.0 L 686531.125,4320723.0 L 686533.625,4320728.0 L 686539.6875,4320737.0 L 686557.375,4320741.0 L 686575.1875,4320739.0 L 686581.8125,4320728.0 L 686585.875,4320713.0 L 686582.375,4320700.0 L 686575.125,4320686.0 L 686565.1875,4320677.0 z\" /><path fill-rule=\"evenodd\" fill=\"#66cc99\" stroke=\"#555555\" stroke-width=\"498.65580000000074\" opacity=\"0.6\" d=\"M 686239.375,4320705.0 L 686229.3125,4320705.0 L 686220.3125,4320707.0 L 686218.8125,4320720.0 L 686219.8125,4320730.0 L 686231.0,4320740.0 L 686241.0,4320747.0 L 686252.375,4320747.0 L 686270.375,4320741.0 L 686273.125,4320731.0 L 686269.625,4320720.0 L 686260.875,4320709.0 L 686250.8125,4320706.0 L 686245.8125,4320705.0 L 686239.375,4320705.0 z\" /><path fill-rule=\"evenodd\" fill=\"#66cc99\" stroke=\"#555555\" stroke-width=\"498.65580000000074\" opacity=\"0.6\" d=\"M 686323.375,4320869.0 L 686317.375,4320851.0 L 686299.875,4320840.0 L 686279.6875,4320837.0 L 686268.3125,4320837.0 L 686264.3125,4320842.0 L 686265.3125,4320855.0 L 686268.875,4320861.0 L 686272.6875,4320865.0 L 686283.875,4320873.0 L 686295.3125,4320877.0 L 686302.875,4320878.0 L 686318.125,4320879.0 L 686323.375,4320869.0 z\" /><path fill-rule=\"evenodd\" fill=\"#66cc99\" stroke=\"#555555\" stroke-width=\"498.65580000000074\" opacity=\"0.6\" d=\"M 719216.125,4321545.0 L 719212.3125,4321545.0 L 719209.625,4321550.0 L 719205.375,4321559.0 L 719202.625,4321567.0 L 719202.1875,4321579.0 L 719204.5,4321587.0 L 719211.8125,4321596.0 L 719219.3125,4321600.0 L 719232.0,4321600.0 L 719238.375,4321598.0 L 719251.3125,4321593.0 L 719255.5,4321582.0 L 719258.375,4321571.0 L 719258.8125,4321562.0 L 719252.625,4321556.0 L 719237.625,4321549.0 L 719232.625,4321547.0 L 719226.3125,4321545.0 L 719216.125,4321545.0 z\" /><path fill-rule=\"evenodd\" fill=\"#66cc99\" stroke=\"#555555\" stroke-width=\"498.65580000000074\" opacity=\"0.6\" d=\"M 684919.875,4322870.0 L 684918.8125,4322860.0 L 684907.5,4322854.0 L 684894.875,4322853.0 L 684880.875,4322853.0 L 684866.625,4322866.0 L 684862.8125,4322870.0 L 684854.8125,4322883.0 L 684849.375,4322898.0 L 684849.125,4322913.0 L 684859.0,4322925.0 L 684870.375,4322925.0 L 684883.125,4322923.0 L 684894.8125,4322913.0 L 684905.1875,4322903.0 L 684915.6875,4322887.0 L 684919.8125,4322874.0 L 684919.875,4322870.0 z\" /><path fill-rule=\"evenodd\" fill=\"#66cc99\" stroke=\"#555555\" stroke-width=\"498.65580000000074\" opacity=\"0.6\" d=\"M 684799.3125,4323155.0 L 684789.1875,4323151.0 L 684778.875,4323156.0 L 684743.875,4323191.5 L 684737.125,4323207.0 L 684736.8125,4323220.0 L 684748.125,4323226.0 L 684762.125,4323228.0 L 684776.0,4323228.0 L 684785.3125,4323212.0 L 684800.1875,4323170.0 L 684799.3125,4323155.0 z\" /><path fill-rule=\"evenodd\" fill=\"#66cc99\" stroke=\"#555555\" stroke-width=\"498.65580000000074\" opacity=\"0.6\" d=\"M 684157.375,4323520.0 L 684148.5,4323520.0 L 684138.125,4323527.0 L 684130.1875,4323541.0 L 684128.625,4323555.0 L 684128.3125,4323571.0 L 684134.375,4323582.0 L 684144.625,4323582.0 L 684153.625,4323572.0 L 684161.625,4323559.0 L 684166.875,4323548.0 L 684165.875,4323534.0 L 684157.375,4323520.0 z\" /><path fill-rule=\"evenodd\" fill=\"#66cc99\" stroke=\"#555555\" stroke-width=\"498.65580000000074\" opacity=\"0.6\" d=\"M 684304.6875,4323634.0 L 684308.6875,4323625.0 L 684309.125,4323609.0 L 684302.875,4323602.0 L 684284.0,4323594.0 L 684267.375,4323595.0 L 684259.625,4323605.0 L 684257.8125,4323628.0 L 684261.375,4323636.0 L 684274.125,4323641.0 L 684288.0,4323643.0 L 684298.1875,4323640.0 L 684304.6875,4323634.0 z\" /><path fill-rule=\"evenodd\" fill=\"#66cc99\" stroke=\"#555555\" stroke-width=\"498.65580000000074\" opacity=\"0.6\" d=\"M 683662.8125,4324397.0 L 683665.6875,4324383.0 L 683655.875,4324363.0 L 683649.8125,4324353.0 L 683641.125,4324347.0 L 683634.8125,4324347.0 L 683628.125,4324358.0 L 683613.625,4324386.0 L 683609.125,4324413.0 L 683608.875,4324420.0 L 683612.5,4324433.0 L 683628.875,4324439.0 L 683640.3125,4324439.0 L 683648.125,4324430.0 L 683662.8125,4324397.0 z\" /><path fill-rule=\"evenodd\" fill=\"#66cc99\" stroke=\"#555555\" stroke-width=\"498.65580000000074\" opacity=\"0.6\" d=\"M 683169.3125,4325400.0 L 683156.625,4325399.0 L 683143.875,4325400.0 L 683136.125,4325410.0 L 683135.875,4325417.0 L 683148.3125,4325431.0 L 683157.0,4325438.0 L 683177.1875,4325446.0 L 683186.125,4325442.0 L 683193.875,4325433.0 L 683195.625,4325419.0 L 683194.375,4325414.0 L 683188.1875,4325406.0 L 683185.8125,4325404.0 L 683180.6875,4325401.0 L 683169.3125,4325400.0 z\" /><path fill-rule=\"evenodd\" fill=\"#66cc99\" stroke=\"#555555\" stroke-width=\"498.65580000000074\" opacity=\"0.6\" d=\"M 680679.625,4326390.0 L 680676.125,4326374.0 L 680666.1875,4326364.0 L 680653.625,4326356.0 L 680644.875,4326351.0 L 680636.0,4326351.0 L 680630.6875,4326361.0 L 680629.125,4326376.0 L 680628.875,4326381.0 L 680631.375,4326386.0 L 680640.125,4326394.0 L 680647.625,4326400.0 L 680665.1875,4326409.0 L 680671.5,4326409.0 L 680676.6875,4326404.0 L 680679.3125,4326401.0 L 680679.625,4326390.0 z\" /><path fill-rule=\"evenodd\" fill=\"#66cc99\" stroke=\"#555555\" stroke-width=\"498.65580000000074\" opacity=\"0.6\" d=\"M 680892.125,4326369.0 L 680885.8125,4326366.0 L 680879.5,4326365.0 L 680873.1875,4326365.0 L 680859.125,4326368.0 L 680848.8125,4326374.0 L 680841.0,4326383.0 L 680834.375,4326395.0 L 680830.3125,4326407.0 L 680828.8125,4326416.0 L 680835.0,4326424.0 L 680845.125,4326425.0 L 680861.8125,4326422.0 L 680872.0,4326418.0 L 680883.625,4326411.0 L 680891.625,4326395.0 L 680893.1875,4326378.0 L 680892.125,4326369.0 z\" /><path fill-rule=\"evenodd\" fill=\"#66cc99\" stroke=\"#555555\" stroke-width=\"498.65580000000074\" opacity=\"0.6\" d=\"M 680529.375,4326405.0 L 680519.1875,4326405.0 L 680511.375,4326411.0 L 680507.3125,4326425.0 L 680505.8125,4326437.0 L 680505.625,4326446.0 L 680511.8125,4326455.0 L 680526.875,4326459.0 L 680534.5,4326459.0 L 680537.125,4326457.0 L 680546.3125,4326444.0 L 680546.625,4326427.0 L 680541.875,4326411.0 L 680529.375,4326405.0 z\" /><path fill-rule=\"evenodd\" fill=\"#66cc99\" stroke=\"#555555\" stroke-width=\"498.65580000000074\" opacity=\"0.6\" d=\"M 680455.1875,4326428.0 L 680443.8125,4326428.0 L 680434.875,4326429.0 L 680425.8125,4326435.0 L 680423.125,4326445.0 L 680425.375,4326455.0 L 680435.1875,4326471.0 L 680442.625,4326481.0 L 680452.6875,4326483.0 L 680461.8125,4326476.0 L 680465.6875,4326469.0 L 680463.875,4326438.0 L 680461.375,4326432.0 L 680455.1875,4326428.0 z\" /><path fill-rule=\"evenodd\" fill=\"#66cc99\" stroke=\"#555555\" stroke-width=\"498.65580000000074\" opacity=\"0.6\" d=\"M 679679.8125,4326917.0 L 679699.375,4326891.0 L 679713.8125,4326869.0 L 679724.5,4326847.0 L 679724.875,4326829.0 L 679716.125,4326826.0 L 679569.375,4326912.0 L 679556.375,4326923.0 L 679542.125,4326941.0 L 679531.5,4326958.0 L 679523.375,4326980.0 L 679508.375,4327024.0 L 679502.875,4327044.0 L 679497.3125,4327071.0 L 679503.125,4327094.0 L 679519.1875,4327111.0 L 679535.3125,4327128.0 L 679552.875,4327137.0 L 679573.1875,4327137.0 L 679580.875,4327133.0 L 679586.3125,4327120.5 L 679586.9800000004,4327113.986 L 679588.125,4327096.0 L 679583.375,4327079.0 L 679594.125,4327053.0 L 679623.5,4326990.0 L 679634.125,4326971.0 L 679679.8125,4326917.0 z\" /><path fill-rule=\"evenodd\" fill=\"#66cc99\" stroke=\"#555555\" stroke-width=\"498.65580000000074\" opacity=\"0.6\" d=\"M 681644.8594000004,4330279.0 L 681654.875,4330277.0 L 681662.625,4330275.0 L 681689.3125,4330265.0 L 681700.875,4330257.0 L 681715.125,4330244.0 L 681825.375,4330143.0 L 681836.1875,4330113.0 L 681881.125,4329977.0 L 681876.3125,4329964.0 L 681852.3125,4329964.0 L 681830.5,4329971.0 L 681811.1875,4329980.0 L 681612.125,4330084.0 L 681597.875,4330092.0 L 681583.625,4330105.0 L 681574.375,4330119.0 L 681557.3125,4330148.0 L 681550.625,4330162.0 L 681548.9844000004,4330183.25 L 681548.5625,4330189.0 L 681548.4375,4330194.0 L 681548.7344000004,4330199.25 L 681549.2969000004,4330204.25 L 681550.2344000004,4330209.75 L 681551.0625,4330213.5 L 681551.875,4330216.5 L 681553.25,4330220.75 L 681554.5,4330224.5 L 681556.1042,4330228.0 L 681557.7812999999,4330231.5 L 681559.3437999999,4330234.5 L 681561.4375,4330238.0 L 681564.1042,4330242.0 L 681567.0,4330246.0 L 681570.4062999999,4330250.25 L 681575.4844000004,4330255.75 L 681578.75,4330258.5 L 681582.2187999999,4330261.25 L 681585.1562999999,4330263.5 L 681588.2187999999,4330265.5 L 681597.4375,4330270.5 L 681601.875,4330272.5 L 681605.25,4330274.0 L 681611.5,4330276.0 L 681614.9687999999,4330277.0 L 681619.375,4330278.0 L 681626.2032000003,4330279.0 L 681644.8594000004,4330279.0 z\" /><path fill-rule=\"evenodd\" fill=\"#66cc99\" stroke=\"#555555\" stroke-width=\"498.65580000000074\" opacity=\"0.6\" d=\"M 667234.875,4332468.0 L 667224.8125,4332468.0 L 667217.125,4332472.0 L 667213.125,4332482.0 L 667212.8125,4332496.0 L 667212.3125,4332525.0 L 667218.375,4332537.0 L 667223.3125,4332546.0 L 667234.5,4332559.0 L 667247.1875,4332560.0 L 667251.125,4332555.0 L 667257.6875,4332544.0 L 667259.0,4332540.0 L 667260.625,4332524.0 L 667260.6875,4332520.0 L 667243.6875,4332476.0 L 667234.875,4332468.0 z\" /><path fill-rule=\"evenodd\" fill=\"#66cc99\" stroke=\"#555555\" stroke-width=\"498.65580000000074\" opacity=\"0.6\" d=\"M 667165.0,4332538.0 L 667144.8125,4332530.0 L 667138.375,4332534.0 L 667130.5,4332548.0 L 667130.3125,4332558.0 L 667130.125,4332571.0 L 667138.8125,4332581.0 L 667153.8125,4332594.0 L 667176.375,4332606.0 L 667197.875,4332610.0 L 667217.125,4332607.0 L 667224.875,4332597.0 L 667225.125,4332589.0 L 667222.625,4332581.0 L 667216.375,4332576.0 L 667207.625,4332573.0 L 667193.625,4332569.0 L 667182.375,4332560.0 L 667171.1875,4332547.0 L 667165.0,4332538.0 z\" /><path fill-rule=\"evenodd\" fill=\"#66cc99\" stroke=\"#555555\" stroke-width=\"498.65580000000074\" opacity=\"0.6\" d=\"M 666761.8125,4332759.0 L 666746.625,4332759.0 L 666731.3125,4332761.0 L 666715.875,4332769.0 L 666708.0,4332781.0 L 666704.0,4332793.0 L 666703.6875,4332809.0 L 666710.0,4332812.0 L 666748.125,4332815.0 L 666758.3125,4332811.0 L 666767.375,4332803.0 L 666777.875,4332781.0 L 666779.375,4332772.0 L 666778.1875,4332766.0 L 666770.625,4332762.0 L 666761.8125,4332759.0 z\" /><path fill-rule=\"evenodd\" fill=\"#66cc99\" stroke=\"#555555\" stroke-width=\"498.65580000000074\" opacity=\"0.6\" d=\"M 719262.1875,4336855.0 L 719221.8125,4336809.0 L 719208.3125,4336797.0 L 719181.875,4336787.0 L 719006.875,4336843.0 L 719000.3125,4336850.0 L 718992.125,4336866.0 L 718987.8125,4336876.0 L 718984.3125,4336886.0 L 718981.625,4336896.0 L 718979.625,4336907.0 L 718978.375,4336917.0 L 718978.125,4336928.0 L 718978.625,4336939.0 L 718979.875,4336949.0 L 718982.125,4336960.0 L 718985.0,4336970.0 L 718988.8125,4336980.0 L 718993.1875,4336990.0 L 718998.375,4336999.0 L 719004.3125,4337008.0 L 719010.8125,4337016.0 L 719018.0,4337024.0 L 719027.0,4337033.0 L 719038.125,4337043.0 L 719046.8125,4337049.0 L 719155.125,4337080.0 L 719166.5,4337081.0 L 719176.6875,4337081.0 L 719203.6875,4337072.0 L 719214.0,4337068.0 L 719248.1875,4337037.0 L 719302.875,4336963.0 L 719315.125,4336943.0 L 719324.625,4336926.0 L 719326.375,4336910.0 L 719324.375,4336894.0 L 719307.125,4336879.0 L 719289.8125,4336867.0 L 719262.1875,4336855.0 z\" /><path fill-rule=\"evenodd\" fill=\"#66cc99\" stroke=\"#555555\" stroke-width=\"498.65580000000074\" opacity=\"0.6\" d=\"M 659262.125,4340172.0 L 659274.8125,4340168.0 L 659286.375,4340159.0 L 659290.375,4340151.0 L 659290.6875,4340135.0 L 659284.8125,4340112.0 L 659254.5,4340032.0 L 659245.875,4340015.0 L 659233.375,4340008.0 L 659219.375,4340007.0 L 659212.875,4340013.0 L 659206.3125,4340029.0 L 659195.5,4340060.0 L 659192.6875,4340076.0 L 659192.375,4340091.0 L 659207.375,4340174.0 L 659219.875,4340181.0 L 659230.125,4340184.0 L 659251.6875,4340184.0 L 659262.125,4340172.0 z\" /><path fill-rule=\"evenodd\" fill=\"#66cc99\" stroke=\"#555555\" stroke-width=\"498.65580000000074\" opacity=\"0.6\" d=\"M 657552.8125,4340172.0 L 657574.3125,4340176.0 L 657593.3125,4340178.0 L 657599.6875,4340174.0 L 657600.125,4340155.0 L 657588.8125,4340144.0 L 657578.8125,4340135.0 L 657566.1875,4340130.5 L 657552.3125,4340128.0 L 657543.375,4340127.0 L 657460.375,4340144.0 L 657447.625,4340152.0 L 657443.625,4340165.0 L 657447.3125,4340167.0 L 657458.6875,4340171.0 L 657530.875,4340185.0 L 657537.3125,4340184.0 L 657552.8125,4340172.0 z\" /><path fill-rule=\"evenodd\" fill=\"#66cc99\" stroke=\"#555555\" stroke-width=\"498.65580000000074\" opacity=\"0.6\" d=\"M 657108.625,4340337.0 L 657215.625,4340329.0 L 657227.125,4340323.0 L 657240.1875,4340303.0 L 657304.3125,4340204.0 L 657304.375,4340196.0 L 657302.0,4340191.0 L 657285.8125,4340178.0 L 657240.3125,4340162.0 L 657227.625,4340160.0 L 657091.3125,4340178.0 L 657074.625,4340184.0 L 657063.125,4340191.0 L 657052.6875,4340204.0 L 657027.625,4340324.0 L 657033.625,4340337.0 L 657076.875,4340400.0 L 657085.6875,4340408.0 L 657097.125,4340408.0 L 657105.0,4340397.0 L 657106.375,4340386.0 L 657108.625,4340337.0 z\" /><path fill-rule=\"evenodd\" fill=\"#66cc99\" stroke=\"#555555\" stroke-width=\"498.65580000000074\" opacity=\"0.6\" d=\"M 716195.8125,4341136.0 L 716199.875,4341127.0 L 716191.1875,4341123.0 L 716077.8125,4341128.0 L 716069.875,4341136.0 L 716073.5,4341142.0 L 716116.6875,4341180.0 L 716131.875,4341182.0 L 716142.0,4341183.0 L 716148.6875,4341174.0 L 716152.8125,4341165.0 L 716160.8125,4341156.0 L 716195.8125,4341136.0 z\" /><path fill-rule=\"evenodd\" fill=\"#66cc99\" stroke=\"#555555\" stroke-width=\"498.65580000000074\" opacity=\"0.6\" d=\"M 658788.5,4342794.0 L 658788.5,4342727.0 L 658786.375,4342704.0 L 658782.875,4342685.0 L 658628.1875,4342328.0 L 658613.3125,4342310.0 L 658553.125,4342132.0 L 658505.375,4341895.0 L 658500.5,4341817.0 L 658501.125,4341782.0 L 658501.625,4341758.0 L 658505.875,4341728.0 L 658551.875,4341581.0 L 658572.1875,4341519.0 L 658584.3125,4341486.0 L 658597.5,4341456.0 L 658622.8125,4341392.0 L 658627.125,4341368.0 L 658638.375,4341172.0 L 658638.8125,4341151.0 L 658507.625,4340830.0 L 658497.625,4340817.0 L 658477.5,4340805.0 L 658471.125,4340807.0 L 658406.125,4340886.0 L 657964.875,4341644.0 L 657947.8125,4341674.0 L 657931.6875,4341719.0 L 657931.1875,4341748.0 L 657933.1875,4341775.0 L 658060.375,4342179.0 L 658437.875,4342793.0 L 658435.1875,4342796.0 L 658432.6875,4342799.0 L 658426.0,4342809.0 L 658420.8125,4342820.0 L 658416.6875,4342830.0 L 658368.125,4342982.0 L 658368.875,4343006.0 L 658378.8125,4343023.0 L 658716.5,4343379.0 L 658741.625,4343398.0 L 658818.375,4343434.0 L 658860.875,4343405.0 L 658938.375,4343273.0 L 658951.625,4343247.0 L 658959.5,4343230.0 L 658962.375,4343209.0 L 658962.875,4343184.0 L 658963.625,4343146.0 L 658959.1875,4343113.0 L 658953.375,4343081.0 L 658788.5,4342794.0 z\" /><path fill-rule=\"evenodd\" fill=\"#66cc99\" stroke=\"#555555\" stroke-width=\"498.65580000000074\" opacity=\"0.6\" d=\"M 711721.125,4346122.0 L 711727.6875,4346111.0 L 711730.6875,4346092.0 L 711721.3125,4346061.0 L 711709.1875,4346032.0 L 711695.8125,4346010.0 L 711662.125,4345983.0 L 711638.1875,4345975.0 L 711539.625,4345951.0 L 711516.8125,4345949.0 L 711501.375,4345954.0 L 711497.375,4345965.0 L 711500.375,4345996.0 L 711514.125,4346011.0 L 711614.5,4346115.0 L 711623.3125,4346121.0 L 711644.5,4346135.0 L 711659.6875,4346138.0 L 711677.375,4346141.0 L 711695.3125,4346139.0 L 711709.375,4346132.0 L 711721.125,4346122.0 z\" /><path fill-rule=\"evenodd\" fill=\"#66cc99\" stroke=\"#555555\" stroke-width=\"498.65580000000074\" opacity=\"0.6\" d=\"M 707687.375,4349166.0 L 707678.625,4349166.0 L 707670.8125,4349169.0 L 707664.375,4349174.0 L 707652.625,4349190.0 L 707649.8125,4349198.0 L 707649.6875,4349203.0 L 707660.6875,4349221.0 L 707672.125,4349223.0 L 707692.8125,4349208.0 L 707695.6875,4349202.0 L 707699.5,4349194.0 L 707698.625,4349178.0 L 707687.375,4349166.0 z\" /><path fill-rule=\"evenodd\" fill=\"#66cc99\" stroke=\"#555555\" stroke-width=\"498.65580000000074\" opacity=\"0.6\" d=\"M 707938.625,4349344.0 L 707930.6875,4349343.0 L 707915.8125,4349342.0 L 707900.625,4349341.0 L 707871.3125,4349343.0 L 707859.625,4349353.0 L 707847.375,4349386.0 L 707841.875,4349402.0 L 707848.0,4349414.0 L 707859.3125,4349419.0 L 707883.375,4349420.0 L 707907.625,4349418.0 L 707933.125,4349414.0 L 707954.875,4349406.0 L 707984.5,4349389.0 L 707992.625,4349372.0 L 707981.625,4349355.0 L 707958.875,4349344.0 L 707938.625,4349344.0 z\" /><path fill-rule=\"evenodd\" fill=\"#66cc99\" stroke=\"#555555\" stroke-width=\"498.65580000000074\" opacity=\"0.6\" d=\"M 670779.3125,4349915.0 L 670766.625,4349915.0 L 670751.3125,4349923.0 L 670740.8125,4349935.0 L 670735.625,4349943.0 L 670734.125,4349956.0 L 670735.1875,4349966.0 L 670747.8125,4350041.0 L 670755.125,4350057.0 L 670768.875,4350066.0 L 670785.375,4350066.0 L 670802.125,4350057.0 L 670807.3125,4350050.0 L 670816.5,4350034.0 L 670852.125,4349963.0 L 670852.375,4349951.0 L 670842.625,4349928.0 L 670836.5,4349917.0 L 670785.6875,4349915.0 L 670779.3125,4349915.0 z\" /><path fill-rule=\"evenodd\" fill=\"#66cc99\" stroke=\"#555555\" stroke-width=\"498.65580000000074\" opacity=\"0.6\" d=\"M 670032.375,4350239.0 L 670024.8125,4350239.0 L 670015.8125,4350243.0 L 670001.5,4350257.0 L 669997.5,4350267.0 L 669999.875,4350276.0 L 670009.875,4350283.0 L 670017.5,4350284.0 L 670041.6875,4350285.0 L 670050.625,4350281.0 L 670053.3125,4350275.0 L 670054.6875,4350267.0 L 670039.875,4350245.0 L 670032.375,4350239.0 z\" /><path fill-rule=\"evenodd\" fill=\"#66cc99\" stroke=\"#555555\" stroke-width=\"498.65580000000074\" opacity=\"0.6\" d=\"M 663839.0,4350258.0 L 663828.8125,4350258.0 L 663807.125,4350264.0 L 663785.3125,4350275.0 L 663777.5,4350283.0 L 663772.3125,4350292.0 L 663773.3125,4350304.0 L 663784.625,4350315.0 L 663799.8125,4350316.0 L 663812.625,4350311.0 L 663822.8125,4350307.0 L 663830.625,4350300.0 L 663841.0625,4350285.5 L 663842.375,4350278.0 L 663841.375,4350267.0 L 663839.0,4350258.0 z\" /><path fill-rule=\"evenodd\" fill=\"#66cc99\" stroke=\"#555555\" stroke-width=\"498.65580000000074\" opacity=\"0.6\" d=\"M 672851.0,4350502.0 L 672834.625,4350493.0 L 672818.0,4350495.0 L 672804.125,4350497.0 L 672791.3125,4350502.0 L 672782.375,4350507.0 L 672777.1875,4350514.0 L 672775.875,4350520.0 L 672775.0937999999,4350532.25 L 672779.5,4350539.0 L 672802.3125,4350539.0 L 672841.8125,4350527.0 L 672850.8125,4350516.0 L 672851.0,4350502.0 z\" /><path fill-rule=\"evenodd\" fill=\"#66cc99\" stroke=\"#555555\" stroke-width=\"498.65580000000074\" opacity=\"0.6\" d=\"M 664679.3125,4350922.0 L 664650.125,4350922.0 L 664597.8125,4350931.0 L 664570.875,4350942.0 L 664553.875,4350968.0 L 664481.3125,4351114.0 L 664471.875,4351140.0 L 664469.125,4351155.0 L 664463.3125,4351192.0 L 664462.875,4351210.0 L 664462.5,4351234.0 L 664468.625,4351245.0 L 664477.375,4351252.0 L 664492.625,4351258.0 L 664504.125,4351253.0 L 664514.375,4351245.0 L 664526.125,4351232.0 L 664552.1875,4351197.0 L 664595.1875,4351138.0 L 664612.1875,4351113.0 L 664670.125,4351006.0 L 664684.6875,4350973.0 L 664688.875,4350956.0 L 664690.5,4350934.0 L 664679.3125,4350922.0 z\" /><path fill-rule=\"evenodd\" fill=\"#66cc99\" stroke=\"#555555\" stroke-width=\"498.65580000000074\" opacity=\"0.6\" d=\"M 664151.375,4351290.0 L 664175.8125,4351278.0 L 664187.3125,4351270.0 L 664191.375,4351258.0 L 664182.6875,4351245.0 L 664165.0,4351242.0 L 664144.625,4351243.0 L 664122.875,4351247.0 L 664102.3125,4351262.0 L 664097.0,4351276.0 L 664105.625,4351290.0 L 664123.1875,4351301.0 L 664138.375,4351301.0 L 664151.375,4351290.0 z\" /><path fill-rule=\"evenodd\" fill=\"#66cc99\" stroke=\"#555555\" stroke-width=\"498.65580000000074\" opacity=\"0.6\" d=\"M 674130.375,4351663.0 L 674115.3125,4351657.0 L 674101.3125,4351661.0 L 674094.8125,4351673.0 L 674091.8125,4351696.0 L 674099.0,4351716.0 L 674111.8125,4351715.0 L 674115.4375,4351710.5 L 674128.6875,4351692.0 L 674131.5,4351676.0 L 674130.375,4351663.0 z\" /><path fill-rule=\"evenodd\" fill=\"#66cc99\" stroke=\"#555555\" stroke-width=\"498.65580000000074\" opacity=\"0.6\" d=\"M 709682.5,4351673.0 L 709672.3125,4351673.0 L 709667.1875,4351675.0 L 709659.0,4351699.0 L 709658.875,4351702.0 L 709662.5,4351712.0 L 709667.375,4351717.0 L 709680.125,4351721.0 L 709701.625,4351723.0 L 709705.6875,4351713.0 L 709706.125,4351698.0 L 709704.875,4351692.0 L 709702.5,4351687.0 L 709695.125,4351680.0 L 709682.5,4351673.0 z\" /><path fill-rule=\"evenodd\" fill=\"#66cc99\" stroke=\"#555555\" stroke-width=\"498.65580000000074\" opacity=\"0.6\" d=\"M 674174.6875,4351725.0 L 674159.875,4351720.0 L 674150.875,4351727.0 L 674146.875,4351740.0 L 674155.625,4351749.0 L 674168.3125,4351750.0 L 674179.8125,4351744.0 L 674179.3125,4351736.0 L 674174.6875,4351725.0 z\" /><path fill-rule=\"evenodd\" fill=\"#66cc99\" stroke=\"#555555\" stroke-width=\"498.65580000000074\" opacity=\"0.6\" d=\"M 674224.625,4351790.5 L 674216.0,4351782.0 L 674199.375,4351783.0 L 674190.375,4351787.0 L 674188.875,4351805.0 L 674201.5,4351808.0 L 674219.375,4351802.0 L 674224.625,4351797.0 L 674224.625,4351790.5 z\" /><path fill-rule=\"evenodd\" fill=\"#66cc99\" stroke=\"#555555\" stroke-width=\"498.65580000000074\" opacity=\"0.6\" d=\"M 674244.0,4351848.0 L 674227.625,4351842.0 L 674219.875,4351843.0 L 674215.6875,4351869.0 L 674218.125,4351877.0 L 674223.5,4351880.0 L 674247.3125,4351875.0 L 674251.375,4351860.0 L 674244.0,4351848.0 z\" /><path fill-rule=\"evenodd\" fill=\"#66cc99\" stroke=\"#555555\" stroke-width=\"498.65580000000074\" opacity=\"0.6\" d=\"M 709623.6875,4351795.0 L 709599.625,4351794.0 L 709578.8125,4351814.0 L 709523.3125,4351957.0 L 709519.1875,4351969.0 L 709521.3125,4351991.0 L 709528.375,4352010.0 L 709538.125,4352032.0 L 709549.125,4352050.0 L 709623.1875,4352137.0 L 709644.625,4352147.0 L 709656.3125,4352133.0 L 709665.875,4352104.0 L 709665.125,4351870.0 L 709653.375,4351830.0 L 709640.0,4351804.0 L 709623.6875,4351795.0 z\" /><path fill-rule=\"evenodd\" fill=\"#66cc99\" stroke=\"#555555\" stroke-width=\"498.65580000000074\" opacity=\"0.6\" d=\"M 709925.875,4352552.0 L 710073.1875,4352505.0 L 710096.3125,4352494.0 L 710109.375,4352479.0 L 710171.0,4352396.0 L 710172.625,4352385.0 L 710169.125,4352372.0 L 710161.625,4352364.0 L 710030.1875,4352285.0 L 709899.375,4352225.0 L 709867.875,4352213.0 L 709841.3125,4352213.0 L 709701.5,4352319.0 L 709693.6875,4352327.0 L 709693.1875,4352348.0 L 709712.125,4352516.0 L 709718.875,4352548.0 L 709732.1875,4352578.0 L 709745.8125,4352596.0 L 709764.5,4352608.0 L 709791.125,4352612.0 L 709811.375,4352613.0 L 709835.625,4352611.0 L 709848.375,4352609.0 L 709865.0,4352603.0 L 709889.625,4352583.0 L 709925.875,4352552.0 z\" /><path fill-rule=\"evenodd\" fill=\"#66cc99\" stroke=\"#555555\" stroke-width=\"498.65580000000074\" opacity=\"0.6\" d=\"M 709223.375,4352816.0 L 709218.3125,4352816.0 L 709208.125,4352817.0 L 709191.5,4352822.0 L 709182.5,4352828.0 L 709182.1875,4352840.0 L 709194.6875,4352850.0 L 709212.3125,4352858.0 L 709235.125,4352859.0 L 709245.625,4352844.0 L 709247.125,4352834.0 L 709243.625,4352823.0 L 709238.625,4352821.0 L 709223.375,4352816.0 z\" /><path fill-rule=\"evenodd\" fill=\"#66cc99\" stroke=\"#555555\" stroke-width=\"498.65580000000074\" opacity=\"0.6\" d=\"M 709827.375,4354244.0 L 709934.125,4354190.0 L 710423.375,4353916.0 L 710477.625,4353884.0 L 710484.125,4353876.0 L 710490.6875,4353865.0 L 710483.6875,4353838.0 L 709875.6875,4353227.0 L 709872.625,4353224.0 L 709868.375,4353220.0 L 709864.125,4353216.0 L 709859.625,4353212.0 L 709855.125,4353208.0 L 709852.8125,4353206.0 L 709850.375,4353204.0 L 709840.875,4353197.0 L 709833.5,4353192.0 L 709829.6875,4353189.5 L 709820.8125,4353184.0 L 709812.875,4353180.0 L 709804.8125,4353176.0 L 709788.3125,4353169.0 L 709628.3125,4353104.0 L 709614.3125,4353106.0 L 709605.125,4353118.0 L 709568.3125,4353572.0 L 709568.6875,4353720.0 L 709612.375,4354103.0 L 709613.125,4354109.0 L 709613.875,4354115.0 L 709614.375,4354118.0 L 709615.1875,4354122.0 L 709617.375,4354132.0 L 709620.375,4354144.0 L 709625.125,4354158.0 L 709629.5,4354169.0 L 709631.2812999999,4354173.0 L 709633.1875,4354177.0 L 709635.1562999999,4354181.0 L 709637.1875,4354185.0 L 709639.3125,4354189.0 L 709642.25,4354194.0 L 709645.375,4354199.0 L 709648.5312999999,4354204.0 L 709654.375,4354213.0 L 709656.625,4354216.0 L 709685.375,4354233.0 L 709779.6875,4354275.0 L 709805.125,4354275.0 L 709814.1875,4354265.0 L 709827.375,4354244.0 z\" /><path fill-rule=\"evenodd\" fill=\"#66cc99\" stroke=\"#555555\" stroke-width=\"498.65580000000074\" opacity=\"0.6\" d=\"M 710967.875,4354103.0 L 710982.8125,4354063.0 L 710946.6875,4354031.0 L 710725.625,4354035.0 L 710696.3125,4354037.0 L 710647.8125,4354048.0 L 710632.3125,4354054.0 L 710614.3125,4354064.0 L 710597.5,4354078.0 L 710586.875,4354093.0 L 710563.8125,4354430.0 L 710563.125,4354455.0 L 710567.875,4354469.0 L 710574.125,4354473.0 L 710595.6875,4354475.0 L 710620.125,4354464.0 L 710749.875,4354402.0 L 710771.8125,4354389.0 L 710905.375,4354271.0 L 710921.125,4354255.0 L 710938.0,4354237.0 L 710948.625,4354218.0 L 710959.3125,4354198.0 L 710966.1875,4354174.0 L 710970.625,4354146.0 L 710969.875,4354122.0 L 710967.875,4354103.0 z\" /><path fill-rule=\"evenodd\" fill=\"#66cc99\" stroke=\"#555555\" stroke-width=\"498.65580000000074\" opacity=\"0.6\" d=\"M 708612.6875,4354482.5 L 708602.5,4354475.5 L 708590.375,4354476.0 L 708579.125,4354481.0 L 708576.875,4354483.5 L 708576.0,4354492.0 L 708578.3125,4354504.0 L 708581.625,4354511.5 L 708587.25,4354516.5 L 708601.4375,4354525.0 L 708609.5,4354523.0 L 708616.0625,4354518.5 L 708622.0625,4354503.0 L 708620.8125,4354492.0 L 708612.6875,4354482.5 z\" /><path fill-rule=\"evenodd\" fill=\"#66cc99\" stroke=\"#555555\" stroke-width=\"498.65580000000074\" opacity=\"0.6\" d=\"M 708711.3125,4354548.0 L 708695.1875,4354546.5 L 708683.1875,4354549.5 L 708676.75,4354554.5 L 708677.5625,4354561.0 L 708685.6875,4354571.5 L 708710.75,4354588.0 L 708714.125,4354589.5 L 708718.1875,4354587.5 L 708723.4375,4354581.5 L 708726.625,4354573.5 L 708726.125,4354566.0 L 708721.3125,4354554.5 L 708718.75,4354551.5 L 708711.3125,4354548.0 z\" /><path fill-rule=\"evenodd\" fill=\"#66cc99\" stroke=\"#555555\" stroke-width=\"498.65580000000074\" opacity=\"0.6\" d=\"M 708816.5,4354615.5 L 708800.125,4354611.5 L 708792.0625,4354612.5 L 708784.9375,4354616.5 L 708779.875,4354622.5 L 708778.875,4354626.5 L 708780.8125,4354638.0 L 708784.5,4354646.0 L 708798.1875,4354654.5 L 708802.0,4354655.0 L 708816.0,4354646.0 L 708820.6875,4354640.0 L 708823.5,4354627.5 L 708822.1875,4354620.0 L 708816.5,4354615.5 z\" /><path fill-rule=\"evenodd\" fill=\"#66cc99\" stroke=\"#555555\" stroke-width=\"498.65580000000074\" opacity=\"0.6\" d=\"M 685686.8125,4355061.0 L 685675.5,4355051.0 L 685660.3125,4355052.0 L 685646.3125,4355054.0 L 685553.3125,4355078.0 L 685546.8125,4355092.0 L 685548.0,4355104.0 L 685559.125,4355135.0 L 685569.1875,4355144.0 L 685589.5,4355144.0 L 685696.375,4355120.0 L 685697.8125,4355111.0 L 685694.375,4355069.0 L 685686.8125,4355061.0 z\" /><path fill-rule=\"evenodd\" fill=\"#66cc99\" stroke=\"#555555\" stroke-width=\"498.65580000000074\" opacity=\"0.6\" d=\"M 684494.6875,4355148.0 L 684507.5,4355134.0 L 684503.875,4355114.0 L 684483.6875,4355106.0 L 684453.1875,4355106.0 L 684427.625,4355122.0 L 684421.75,4355140.25 L 684432.5,4355144.0 L 684484.5,4355148.0 L 684494.6875,4355148.0 z\" /><path fill-rule=\"evenodd\" fill=\"#66cc99\" stroke=\"#555555\" stroke-width=\"498.65580000000074\" opacity=\"0.6\" d=\"M 684434.625,4355697.0 L 684420.6875,4355686.0 L 684411.8125,4355692.0 L 684388.625,4355722.0 L 684394.8125,4355731.0 L 684415.1875,4355731.0 L 684446.875,4355730.0 L 684468.625,4355724.0 L 684468.6875,4355710.0 L 684434.625,4355697.0 z\" /><path fill-rule=\"evenodd\" fill=\"#66cc99\" stroke=\"#555555\" stroke-width=\"498.65580000000074\" opacity=\"0.6\" d=\"M 684458.6875,4355822.0 L 684452.5,4355809.0 L 684437.3125,4355802.0 L 684387.6875,4355812.0 L 684377.375,4355823.0 L 684377.125,4355856.0 L 684382.0,4355869.0 L 684397.1875,4355878.0 L 684412.375,4355880.0 L 684421.3125,4355875.0 L 684435.375,4355860.0 L 684452.1875,4355839.0 L 684458.6875,4355822.0 z\" /><path fill-rule=\"evenodd\" fill=\"#66cc99\" stroke=\"#555555\" stroke-width=\"498.65580000000074\" opacity=\"0.6\" d=\"M 684802.5,4355986.0 L 684821.8125,4355965.0 L 684892.5,4355878.0 L 684946.625,4355799.0 L 684987.875,4355734.0 L 685031.8125,4355663.0 L 685048.8125,4355619.0 L 685049.0,4355593.0 L 685032.1875,4355500.0 L 685022.1875,4355485.0 L 684988.125,4355469.0 L 684846.875,4355482.0 L 684830.375,4355488.0 L 684770.375,4355514.0 L 684751.3125,4355527.0 L 684498.375,4355794.0 L 684500.8125,4355809.0 L 684541.5,4355922.0 L 684548.875,4355938.0 L 684566.625,4355950.0 L 684782.125,4355998.0 L 684802.5,4355986.0 z\" /><path fill-rule=\"evenodd\" fill=\"#66cc99\" stroke=\"#555555\" stroke-width=\"498.65580000000074\" opacity=\"0.6\" d=\"M 701755.8125,4361583.0 L 702080.5,4361503.0 L 702355.625,4361475.0 L 702724.1875,4361041.0 L 702741.125,4361024.0 L 702759.0,4361019.0 L 702784.3125,4361016.0 L 702806.0,4361015.0 L 702827.8125,4361015.0 L 702849.625,4361017.0 L 702871.1875,4361019.0 L 702892.625,4361023.0 L 702913.8125,4361028.0 L 702934.6875,4361034.0 L 703203.625,4361130.0 L 703241.3125,4361150.0 L 703270.0,4361171.0 L 703288.5,4361193.0 L 703323.375,4361222.0 L 703347.125,4361240.0 L 703372.3125,4361250.0 L 703461.875,4361274.0 L 703498.8125,4361276.0 L 703528.125,4361269.0 L 703717.6875,4361150.0 L 703721.875,4361134.0 L 703725.375,4361093.0 L 703737.8125,4360892.0 L 703729.875,4360847.0 L 703683.625,4360627.0 L 703679.0,4360606.0 L 703672.625,4360585.0 L 703664.375,4360565.0 L 703654.625,4360545.0 L 703643.125,4360527.0 L 703630.125,4360509.0 L 703615.625,4360493.0 L 703599.8125,4360478.0 L 703325.0,4360243.0 L 703288.8125,4360214.0 L 703253.6875,4360197.0 L 703214.375,4360193.0 L 703183.875,4360194.0 L 702918.125,4359824.0 L 702849.6875,4359417.0 L 702707.5,4358903.0 L 702693.125,4358870.0 L 702552.6875,4358734.0 L 702499.1875,4358687.0 L 702472.875,4358667.0 L 702454.1875,4358655.0 L 702436.5,4358651.0 L 702404.8125,4358650.0 L 702379.375,4358650.0 L 702360.625,4358638.0 L 702353.3125,4358626.0 L 702344.8125,4358608.0 L 702344.9062999999,4358564.5 L 702345.625,4358543.0 L 702347.0,4358521.0 L 702349.125,4358500.0 L 702351.8125,4358478.0 L 702355.125,4358456.0 L 702359.125,4358435.0 L 702363.8125,4358414.0 L 702369.125,4358393.0 L 702375.0,4358372.0 L 702381.625,4358351.0 L 702388.8125,4358330.0 L 702396.625,4358310.0 L 702405.125,4358290.0 L 702414.125,4358270.0 L 702423.8125,4358250.0 L 702434.125,4358231.0 L 702444.875,4358212.0 L 702456.3125,4358194.0 L 702468.3125,4358176.0 L 702480.8125,4358158.0 L 702493.875,4358140.0 L 702507.375,4358123.0 L 702516.625,4358112.0 L 702902.625,4357697.0 L 702917.6875,4357681.0 L 702935.125,4357668.0 L 702954.3125,4357658.0 L 702974.8125,4357651.0 L 702993.875,4357646.0 L 703011.8125,4357644.0 L 703051.125,4357649.0 L 703111.1875,4357685.0 L 703178.8125,4357726.0 L 703202.8125,4357734.0 L 703533.875,4357809.0 L 703583.375,4357810.0 L 703620.375,4357801.0 L 703679.875,4357760.0 L 703698.3125,4357735.0 L 703804.625,4357588.0 L 703806.375,4357569.0 L 703804.625,4357538.0 L 703796.1875,4357515.0 L 703779.125,4357487.0 L 703754.375,4357458.0 L 703730.875,4357429.0 L 703727.625,4357424.0 L 703708.875,4357395.0 L 703707.125,4357363.0 L 703716.625,4357337.0 L 703733.8125,4357309.0 L 703858.875,4357122.0 L 703877.3125,4357097.0 L 703907.375,4357059.0 L 703930.8125,4357035.0 L 703947.3125,4357019.0 L 703963.875,4357005.0 L 703981.1875,4356992.0 L 703999.1875,4356979.0 L 704017.875,4356968.0 L 704037.125,4356958.0 L 704056.8125,4356948.0 L 704076.875,4356940.0 L 704097.625,4356933.0 L 704118.5,4356927.0 L 704139.6875,4356922.0 L 704161.1875,4356918.0 L 704182.8125,4356916.0 L 704204.625,4356914.0 L 704226.3125,4356914.0 L 704248.125,4356915.0 L 704269.8125,4356917.0 L 704291.375,4356920.0 L 704312.8125,4356924.0 L 704333.875,4356929.0 L 704354.6875,4356936.0 L 704375.125,4356943.0 L 704404.125,4356957.0 L 704447.875,4356979.0 L 704494.1875,4357012.0 L 704530.125,4357053.0 L 704569.6875,4357097.0 L 704603.625,4357114.0 L 705340.5,4357381.0 L 705388.8125,4357383.0 L 705594.0,4357354.0 L 705690.125,4357320.0 L 705913.3125,4357286.0 L 706402.0,4357243.0 L 706423.8125,4357243.0 L 706445.375,4357245.0 L 706466.625,4357250.0 L 706487.3125,4357257.0 L 706507.125,4357266.0 L 706525.875,4357277.0 L 706654.875,4357356.0 L 706813.3125,4357317.0 L 707260.125,4357177.0 L 707438.1875,4357112.0 L 708469.8125,4356689.0 L 708496.6875,4356677.0 L 708632.8125,4356616.0 L 708716.625,4356510.0 L 708765.1875,4356445.0 L 708817.875,4356363.0 L 708893.8125,4355899.0 L 708874.5,4355854.0 L 708865.875,4355843.0 L 708275.625,4355336.0 L 707947.625,4355183.0 L 707939.6875,4355197.0 L 707833.6875,4355167.0 L 707811.125,4355153.0 L 707788.8125,4355133.0 L 707773.875,4355114.0 L 707572.6875,4354814.0 L 707567.0,4354786.0 L 707565.125,4354758.0 L 707568.625,4354717.0 L 707576.875,4354689.0 L 707602.875,4354608.0 L 707623.1875,4354559.0 L 707646.875,4354525.0 L 707674.0,4354507.0 L 707986.8125,4354443.0 L 708022.5,4354436.0 L 708041.625,4354437.0 L 708068.125,4354444.0 L 708103.5,4354451.0 L 708138.875,4354456.0 L 708160.8125,4354443.0 L 708208.625,4354411.0 L 708237.0,4354392.0 L 708251.625,4354368.0 L 708252.0,4354350.0 L 708243.6875,4354326.0 L 708230.125,4354309.0 L 708210.125,4354294.0 L 707685.625,4354072.0 L 707350.875,4353985.0 L 707301.875,4353966.0 L 707283.0,4353955.0 L 707265.3125,4353942.0 L 707248.875,4353928.0 L 707234.125,4353912.0 L 707221.125,4353894.0 L 707209.8125,4353876.0 L 707200.625,4353856.0 L 707193.5,4353835.0 L 707188.5,4353814.0 L 707024.3125,4353505.0 L 706923.875,4353400.0 L 706727.375,4353275.0 L 706572.375,4353116.0 L 706655.6875,4352924.0 L 706665.375,4352890.0 L 706653.0,4352553.0 L 706649.875,4352526.0 L 706630.625,4352427.0 L 706621.3125,4352391.0 L 706567.6875,4352295.0 L 706553.8125,4352291.0 L 706527.0,4352295.0 L 706511.625,4352304.0 L 706476.6875,4352328.0 L 706467.625,4352338.0 L 706444.125,4352360.0 L 706414.625,4352374.0 L 706404.375,4352377.0 L 706373.8125,4352378.0 L 706358.625,4352376.0 L 706341.125,4352368.0 L 706302.3125,4352343.0 L 706267.375,4352310.0 L 706238.875,4352282.0 L 706211.625,4352253.0 L 706200.5,4352241.0 L 706169.625,4352206.0 L 706151.125,4352183.0 L 705906.375,4351836.0 L 705825.875,4351694.0 L 705807.8125,4351658.0 L 705806.0,4351625.0 L 705797.625,4351390.0 L 705823.3125,4351322.0 L 705831.125,4351315.0 L 705835.375,4351292.0 L 705834.8125,4351265.0 L 705829.3125,4351232.0 L 705800.1875,4351063.0 L 705793.125,4351041.0 L 705778.375,4351018.0 L 705738.6875,4350978.0 L 705474.375,4350764.0 L 705304.625,4350644.0 L 705286.5,4350632.0 L 705267.5,4350621.0 L 705247.8125,4350612.0 L 705227.3125,4350604.0 L 705206.375,4350598.0 L 705185.125,4350594.0 L 705163.375,4350591.0 L 705150.8125,4350591.0 L 705131.6875,4350590.0 L 705125.375,4350589.0 L 705111.8125,4350573.0 L 705098.5,4350544.0 L 704948.0,4350192.0 L 704938.6875,4350157.0 L 704942.3125,4350110.0 L 704945.5,4350082.0 L 704992.3125,4349826.0 L 705029.125,4349720.0 L 705094.3125,4349543.0 L 705239.125,4349222.0 L 705280.375,4349140.0 L 705310.8125,4349091.0 L 705340.6875,4349061.0 L 705386.125,4349022.0 L 705423.375,4349002.0 L 706464.1875,4348565.0 L 706516.6875,4348548.0 L 706737.875,4348488.0 L 706742.3125,4348487.0 L 706772.375,4348481.0 L 706804.125,4348480.0 L 706861.0,4348493.0 L 706891.875,4348506.0 L 706912.625,4348513.0 L 706933.625,4348519.0 L 706954.875,4348523.0 L 706976.5,4348527.0 L 706998.1875,4348529.0 L 707041.8125,4348529.0 L 707063.375,4348527.0 L 707085.0,4348524.0 L 707106.3125,4348519.0 L 707127.375,4348513.0 L 707148.0,4348506.0 L 707168.1875,4348498.0 L 707417.625,4348384.0 L 707449.8125,4348364.0 L 707475.875,4348335.0 L 707500.875,4348298.0 L 707519.5,4348264.0 L 707673.125,4348053.0 L 707800.3125,4347888.0 L 707890.0,4347801.0 L 708118.1875,4347609.0 L 708560.875,4347426.0 L 709104.1875,4347285.0 L 709319.125,4347223.0 L 709648.875,4347030.0 L 709694.125,4346998.0 L 709720.1875,4346971.0 L 709749.0,4346935.0 L 709767.5,4346897.0 L 709773.3125,4346876.0 L 709776.5,4346854.0 L 709777.125,4346832.0 L 709775.0,4346811.0 L 709770.375,4346789.0 L 709763.125,4346769.0 L 709753.5,4346749.0 L 709741.625,4346731.0 L 709727.625,4346714.0 L 709665.375,4346653.0 L 709650.625,4346639.0 L 709631.875,4346624.0 L 709612.0,4346605.0 L 709599.6875,4346588.0 L 709538.5,4346488.0 L 709521.5,4346456.0 L 709523.1875,4346438.0 L 709528.875,4346412.0 L 709549.625,4346374.0 L 709561.375,4346356.0 L 709574.125,4346338.0 L 709587.375,4346321.0 L 709601.625,4346305.0 L 709616.375,4346289.0 L 709632.125,4346273.0 L 709648.3125,4346259.0 L 709665.125,4346245.0 L 709682.625,4346232.0 L 709700.6875,4346220.0 L 709719.3125,4346208.0 L 709738.3125,4346198.0 L 709757.8125,4346188.0 L 709824.6875,4346154.0 L 709860.625,4346137.0 L 709891.125,4346137.0 L 709929.125,4346144.0 L 709945.375,4346154.0 L 709980.5,4346172.0 L 710011.875,4346187.0 L 710047.375,4346190.0 L 710458.3125,4346109.0 L 710479.3125,4346103.0 L 710499.875,4346096.0 L 711202.125,4345823.0 L 711486.625,4345662.0 L 711778.875,4345237.0 L 712238.375,4344716.0 L 712331.875,4344631.0 L 712454.3125,4344563.0 L 712489.875,4344559.0 L 712830.875,4344539.0 L 713500.625,4344321.0 L 713524.875,4344310.0 L 713551.125,4344280.0 L 713913.8125,4343824.0 L 713920.875,4343795.0 L 713896.0,4343770.0 L 713737.625,4343648.0 L 713532.375,4343461.0 L 713515.0,4343443.0 L 713502.875,4343416.0 L 713491.1875,4343376.0 L 713483.1875,4343338.0 L 713486.625,4343302.0 L 713502.875,4343258.0 L 713522.8125,4343219.0 L 713545.1875,4343188.0 L 713706.3125,4342983.0 L 713742.8125,4342944.0 L 713788.3125,4342901.0 L 713858.3125,4342840.0 L 713903.8125,4342801.0 L 713946.3125,4342777.0 L 713980.625,4342776.0 L 714024.8125,4342784.0 L 714348.875,4342890.0 L 714353.625,4342907.0 L 714356.8125,4342934.0 L 714367.125,4342976.0 L 714403.3125,4343058.0 L 714423.375,4343070.0 L 714442.5,4343068.0 L 714451.6875,4343054.0 L 714466.375,4343023.0 L 714664.3125,4342604.0 L 714672.375,4342583.0 L 714677.625,4342562.0 L 714679.875,4342541.0 L 714679.125,4342519.0 L 714675.3125,4342497.0 L 714668.5,4342477.0 L 714658.875,4342457.0 L 714639.375,4342425.0 L 714622.125,4342407.0 L 714602.0,4342393.0 L 714580.8125,4342378.0 L 714530.3125,4342337.0 L 714514.625,4342322.0 L 714501.375,4342305.0 L 714490.875,4342286.0 L 714483.375,4342265.0 L 714479.125,4342244.0 L 714477.875,4342222.0 L 714480.0,4342200.0 L 714908.7187999999,4341067.0 L 715468.125,4340014.0 L 715680.8125,4339658.0 L 715773.375,4339544.0 L 716087.375,4339249.0 L 716528.0,4338838.0 L 716551.375,4338823.0 L 716798.3125,4338713.0 L 717090.125,4338588.0 L 717123.625,4338576.0 L 717217.375,4338549.0 L 717821.625,4338512.0 L 718484.875,4338350.0 L 718842.8125,4338448.0 L 718900.6875,4338465.0 L 718928.625,4338469.0 L 718960.8125,4338456.0 L 718989.1875,4338444.0 L 719026.875,4338421.0 L 719059.625,4338397.0 L 719346.5,4338157.0 L 719353.125,4338115.0 L 719353.125,4338078.0 L 719348.8125,4337875.0 L 719271.0,4337697.0 L 719151.125,4337671.0 L 718881.3125,4337603.0 L 718716.5,4337548.0 L 718686.375,4337535.0 L 718571.125,4337413.0 L 718551.8125,4337385.0 L 718549.125,4337351.0 L 718548.375,4337260.0 L 718559.1875,4337097.0 L 718563.875,4337070.0 L 718613.875,4336985.0 L 718670.875,4336883.0 L 718675.6875,4336856.0 L 718709.375,4336622.0 L 718712.8125,4336595.0 L 718681.1875,4335899.0 L 718515.8125,4335608.0 L 718504.375,4335607.0 L 718475.125,4335571.0 L 718467.8125,4335528.0 L 718464.1875,4335411.0 L 718499.3125,4335206.0 L 718508.875,4335189.0 L 718526.3125,4335163.0 L 718618.8125,4335063.0 L 718659.8125,4335019.0 L 719081.375,4334710.0 L 719111.3125,4334693.0 L 719274.8125,4334675.0 L 719471.3125,4334696.0 L 719640.625,4334764.0 L 719743.375,4334843.0 L 719886.3125,4334938.0 L 719910.125,4334952.0 L 719944.3125,4334962.0 L 719954.8125,4334964.0 L 719965.375,4334966.0 L 719986.8125,4334966.0 L 719997.375,4334965.0 L 720007.875,4334963.0 L 720018.3125,4334960.0 L 720028.375,4334956.0 L 720038.3125,4334952.0 L 720047.8125,4334947.0 L 720056.8125,4334942.0 L 720073.625,4334929.0 L 720081.3125,4334921.0 L 720088.3125,4334913.0 L 720094.8125,4334904.0 L 720100.5,4334895.0 L 720105.625,4334886.0 L 720109.875,4334876.0 L 720113.625,4334866.0 L 720116.375,4334856.0 L 720118.625,4334845.0 L 720152.5,4334092.0 L 720166.6875,4333614.0 L 720132.875,4333560.0 L 720116.0,4333572.0 L 720100.5,4333578.0 L 720088.125,4333570.0 L 720078.375,4333556.0 L 720071.3125,4333541.0 L 720065.5,4333525.0 L 720056.375,4333495.0 L 720058.8125,4333461.0 L 720229.3125,4333026.0 L 720313.125,4332845.0 L 720353.875,4332771.0 L 720674.375,4332190.0 L 720703.625,4332155.0 L 720716.8125,4332143.0 L 720762.1875,4332118.0 L 720776.375,4332112.0 L 720798.125,4332107.0 L 720818.625,4332103.0 L 720835.3125,4332101.0 L 720865.875,4332098.0 L 720905.3125,4332100.0 L 720940.8125,4332102.0 L 720968.6875,4332104.0 L 721025.625,4332114.0 L 721054.625,4332123.0 L 721074.1875,4332144.0 L 721086.3125,4332162.0 L 721109.5,4332188.0 L 721135.5,4332208.0 L 721161.875,4332219.0 L 721236.1875,4332240.0 L 721252.8125,4332239.0 L 721527.5,4332204.0 L 721686.375,4332132.0 L 721804.375,4332034.0 L 721815.625,4332002.0 L 721807.875,4331825.0 L 721490.0,4331530.0 L 721032.375,4331446.0 L 720920.3125,4331415.0 L 720858.625,4331289.0 L 720836.3125,4330689.0 L 720835.875,4330664.0 L 720838.375,4330627.0 L 720846.3125,4330586.0 L 720857.625,4330551.0 L 720871.6875,4330513.0 L 720985.3125,4330298.0 L 720990.6875,4330289.0 L 720996.625,4330280.0 L 721003.125,4330272.0 L 721010.1875,4330264.0 L 721017.6875,4330256.0 L 721871.125,4329435.0 L 722367.6875,4329056.0 L 722673.125,4328833.0 L 722721.125,4328807.0 L 722776.125,4328764.0 L 722863.8125,4328693.0 L 722978.0,4328482.0 L 723048.875,4328344.0 L 723116.375,4328236.0 L 723245.1875,4328115.0 L 723276.5,4328093.0 L 723472.375,4327983.0 L 723966.1875,4327649.0 L 724077.3125,4327564.0 L 724251.3125,4327427.0 L 724332.1875,4327332.0 L 724504.875,4327121.0 L 724616.875,4326938.0 L 724730.375,4326714.0 L 724874.875,4326364.0 L 724915.1875,4326266.0 L 725077.625,4325915.0 L 725376.1875,4325415.0 L 725691.625,4324978.0 L 725929.875,4324493.0 L 725930.3125,4324447.0 L 725931.375,4324414.0 L 725962.375,4324073.0 L 725990.375,4323783.0 L 726021.875,4323538.0 L 726032.1875,4323498.0 L 726105.8125,4323254.0 L 726108.625,4323245.0 L 726111.5,4323236.0 L 726114.625,4323227.0 L 726117.8125,4323218.0 L 726121.125,4323209.0 L 726131.875,4323183.0 L 726139.875,4323166.0 L 726152.8125,4323141.0 L 726157.3125,4323133.0 L 726162.0,4323125.0 L 726166.8125,4323117.0 L 726176.8125,4323101.0 L 726182.0,4323093.0 L 726192.8125,4323078.0 L 726203.875,4323063.0 L 726215.6875,4323048.0 L 726221.6875,4323041.0 L 726227.8125,4323034.0 L 726234.125,4323027.0 L 726243.625,4323017.0 L 726259.3125,4323003.0 L 726272.8125,4322983.0 L 726282.625,4322957.0 L 726284.6875,4322897.0 L 726285.375,4322840.0 L 726264.0,4322542.0 L 726250.875,4322372.0 L 726133.125,4321641.0 L 726129.8125,4321622.0 L 726128.0,4321613.0 L 726126.125,4321604.0 L 726124.125,4321595.0 L 726117.1875,4321567.0 L 726114.6875,4321558.0 L 726112.0,4321549.0 L 726106.375,4321532.0 L 726103.375,4321523.0 L 726100.3125,4321514.0 L 726097.125,4321505.0 L 726093.8125,4321496.0 L 726083.0,4321470.0 L 726075.3125,4321453.0 L 726067.1875,4321436.0 L 726054.125,4321411.0 L 725870.3125,4321070.0 L 725768.3125,4320894.0 L 725745.3125,4320860.0 L 725723.3125,4320834.0 L 725623.125,4320717.0 L 725586.375,4320712.0 L 725538.1875,4320709.0 L 725327.1875,4320703.0 L 725169.5,4320703.0 L 724954.8125,4320697.0 L 724518.0,4320673.0 L 724481.375,4320665.0 L 724449.875,4320655.0 L 724412.625,4320629.0 L 724385.375,4320607.0 L 724360.125,4320603.0 L 724324.3125,4320609.0 L 724011.3125,4320683.0 L 723973.625,4320707.0 L 723923.6875,4320753.0 L 723843.125,4320837.0 L 723724.625,4320954.0 L 723583.875,4321083.0 L 723544.625,4321118.0 L 723501.3125,4321154.0 L 723459.5,4321187.0 L 723424.375,4321206.0 L 723380.375,4321227.0 L 722567.625,4321496.0 L 721899.125,4321685.0 L 721882.375,4321689.0 L 721851.8125,4321692.0 L 721676.0,4321699.0 L 721664.625,4321698.0 L 721589.1875,4321685.0 L 721552.375,4321677.0 L 721516.0,4321669.0 L 721497.875,4321664.0 L 721470.875,4321656.0 L 721444.1875,4321647.0 L 721435.3125,4321644.0 L 721417.6875,4321638.0 L 721400.1875,4321631.0 L 721382.8125,4321624.0 L 721365.5,4321617.0 L 721356.875,4321613.0 L 721331.375,4321601.0 L 721314.625,4321593.0 L 721306.3125,4321589.0 L 721289.625,4321580.0 L 721273.1875,4321571.0 L 721248.875,4321557.0 L 721224.875,4321542.0 L 721196.125,4321524.0 L 721178.875,4321507.0 L 721171.875,4321491.0 L 721172.375,4321475.0 L 721175.125,4321434.0 L 721182.3125,4321411.0 L 721195.625,4321394.0 L 721211.5,4321377.0 L 721218.625,4321357.0 L 721231.8125,4321305.0 L 721245.8125,4321234.0 L 721246.5,4321212.0 L 721227.625,4321171.0 L 721194.3125,4321105.0 L 721174.875,4321076.0 L 721140.0,4321057.0 L 721079.6875,4321034.0 L 720757.125,4321087.0 L 720747.875,4321089.0 L 720738.875,4321091.0 L 720730.1875,4321095.0 L 720721.875,4321099.0 L 720714.0,4321104.0 L 720706.6875,4321110.0 L 720699.875,4321116.0 L 720688.5,4321131.0 L 720580.125,4321245.0 L 720472.125,4321349.0 L 720251.0,4321525.0 L 720199.8125,4321536.0 L 720169.3125,4321534.0 L 720137.625,4321530.0 L 720107.5,4321517.0 L 720080.125,4321501.0 L 719952.625,4321401.0 L 719943.125,4321381.0 L 719941.375,4321357.0 L 719942.3125,4321332.0 L 719957.6875,4321291.0 L 719970.125,4321263.0 L 719982.375,4321239.0 L 719993.625,4321210.0 L 719999.6875,4321182.0 L 719997.375,4321139.0 L 719980.375,4321007.0 L 719969.125,4320964.0 L 719892.625,4320825.0 L 719871.625,4320808.0 L 719841.1875,4320803.0 L 719797.625,4320814.0 L 719759.0,4320826.0 L 719728.6875,4320855.0 L 719618.125,4320964.0 L 719573.875,4321025.0 L 719542.625,4321085.0 L 719526.125,4321121.0 L 719296.1875,4322056.0 L 719206.375,4322479.0 L 718776.125,4322598.0 L 718760.375,4322609.0 L 718730.375,4322632.0 L 718540.375,4322788.0 L 718523.3125,4322807.0 L 718492.625,4322848.0 L 718467.125,4322886.0 L 718441.375,4322928.0 L 718422.5,4322960.0 L 718397.625,4323017.0 L 718376.625,4323073.0 L 718358.125,4323130.0 L 718329.3125,4323223.0 L 718223.3125,4323573.0 L 718391.8125,4323727.0 L 718420.5,4323745.0 L 718543.375,4323829.0 L 718569.625,4323847.0 L 718598.125,4323867.0 L 718641.375,4323903.0 L 718656.1875,4323916.0 L 718668.3125,4323936.0 L 718957.875,4324490.0 L 718954.875,4324515.0 L 718933.625,4324567.0 L 718906.875,4324604.0 L 718896.3125,4324615.0 L 718781.3125,4324703.0 L 718743.375,4324731.0 L 718713.5,4324750.0 L 718674.8125,4324768.0 L 718620.875,4324780.0 L 718566.125,4324785.0 L 718562.875,4324785.0 L 718534.125,4324783.0 L 718524.3125,4324779.0 L 718499.375,4324761.0 L 718469.8125,4324736.0 L 718446.3125,4324717.0 L 718400.875,4324681.0 L 718385.8125,4324670.0 L 718378.125,4324665.0 L 718370.3125,4324660.0 L 718354.625,4324650.0 L 718346.625,4324645.0 L 718330.375,4324635.0 L 718313.875,4324626.0 L 718305.625,4324622.0 L 718288.8125,4324614.0 L 718271.8125,4324606.0 L 718263.125,4324602.0 L 718245.8125,4324595.0 L 718219.3125,4324586.0 L 718210.375,4324583.0 L 718192.5,4324577.0 L 718174.375,4324572.0 L 718165.3125,4324570.0 L 718147.125,4324566.0 L 718119.375,4324560.0 L 718091.625,4324556.0 L 718081.8125,4324555.0 L 717941.125,4324541.0 L 717902.8125,4324544.0 L 717863.0,4324554.0 L 717734.5,4324590.0 L 717628.625,4324636.0 L 717530.375,4324681.0 L 717497.8125,4324696.0 L 717247.5,4324882.0 L 717225.0,4324906.0 L 717215.0,4324938.0 L 717210.0,4324971.0 L 717211.125,4325014.0 L 717282.1875,4325854.0 L 717291.375,4325882.0 L 717414.375,4326037.0 L 717708.3125,4326364.0 L 717741.5,4326397.0 L 717819.3125,4326427.0 L 717849.375,4326438.0 L 717887.3125,4326447.0 L 717912.6875,4326448.0 L 717950.6875,4326416.0 L 717967.875,4326397.0 L 717987.6875,4326378.0 L 718019.125,4326352.0 L 718172.5,4326258.0 L 718202.3125,4326241.0 L 718232.125,4326227.0 L 718247.3125,4326227.0 L 718280.1875,4326233.0 L 718713.3125,4326616.0 L 718777.5,4327181.0 L 718775.125,4327758.0 L 718774.1875,4327785.0 L 718619.0,4328623.0 L 718611.375,4328658.0 L 718595.3125,4328682.0 L 718520.125,4328759.0 L 718221.375,4329044.0 L 718193.875,4329068.0 L 718152.125,4329098.0 L 717999.8125,4329197.0 L 717968.875,4329207.0 L 717917.3125,4329230.0 L 717805.875,4329284.0 L 717789.125,4329293.0 L 717361.375,4329701.0 L 717331.875,4329746.0 L 717319.1875,4329782.0 L 717300.3125,4329851.0 L 717286.875,4329906.0 L 717268.625,4329991.0 L 717208.375,4330149.0 L 717108.6875,4330382.0 L 717092.3125,4330413.0 L 717008.375,4330522.0 L 716968.125,4330548.0 L 716926.6875,4330567.0 L 716883.0,4330578.0 L 716845.875,4330584.0 L 716787.0,4330595.0 L 716781.8125,4330599.0 L 716755.3125,4330630.0 L 716659.6875,4330816.0 L 716543.375,4331049.0 L 716423.125,4331290.0 L 716339.5,4331461.0 L 716254.875,4331627.0 L 716227.8125,4331673.0 L 716202.375,4331708.0 L 716169.125,4331752.0 L 716147.875,4331776.0 L 716113.8125,4331808.0 L 716095.625,4331818.0 L 716068.5,4331830.0 L 716048.0,4331836.0 L 716022.875,4331840.0 L 715597.875,4332140.0 L 715154.125,4332527.0 L 715109.625,4332563.0 L 715016.0,4332618.0 L 714978.625,4332632.0 L 714905.3125,4332656.0 L 714865.625,4332664.0 L 714712.5,4332681.0 L 714361.1875,4332661.0 L 714309.3125,4332656.0 L 714229.625,4332648.0 L 713909.625,4332605.0 L 713850.1875,4332596.0 L 713727.8125,4332573.0 L 713463.125,4332513.0 L 713361.3125,4332484.0 L 713273.3125,4332456.0 L 712875.3125,4332326.0 L 712825.125,4332309.0 L 712757.6875,4332277.0 L 712612.875,4332206.0 L 712234.875,4332014.0 L 712182.6875,4331984.0 L 712119.3125,4331946.0 L 711919.875,4331805.0 L 711398.875,4331390.0 L 711390.8125,4331383.0 L 711366.3125,4331361.0 L 711350.0,4331346.0 L 711252.875,4331256.0 L 711236.875,4331241.0 L 711212.8125,4331218.0 L 711204.8125,4331210.0 L 711137.375,4331119.0 L 711119.875,4331093.0 L 711064.875,4330987.0 L 711057.375,4330971.0 L 710988.375,4330726.0 L 710988.625,4330706.0 L 710991.375,4330672.0 L 710995.625,4330639.0 L 710999.625,4330611.0 L 711005.0,4330578.0 L 711041.8125,4330448.0 L 711102.125,4330240.0 L 711236.375,4329869.0 L 711278.875,4329807.0 L 711295.6875,4329786.0 L 711431.875,4329627.0 L 711444.8125,4329614.0 L 711501.1875,4329559.0 L 711524.3125,4329541.0 L 711543.375,4329525.0 L 711566.6875,4329483.0 L 711577.125,4329457.0 L 711606.125,4329342.0 L 711728.1875,4328637.0 L 711729.6875,4328611.0 L 711739.125,4328559.0 L 711745.625,4328534.0 L 711757.375,4328507.0 L 711794.8125,4328448.0 L 711814.125,4328422.0 L 711838.375,4328398.0 L 711980.8125,4328262.0 L 712044.875,4328206.0 L 712124.3125,4328138.0 L 712139.6875,4328126.0 L 712157.625,4328120.0 L 712333.625,4328081.0 L 712341.875,4328080.0 L 712367.0,4328080.0 L 712375.3125,4328082.0 L 712383.375,4328084.0 L 712391.375,4328086.0 L 712399.3125,4328089.0 L 712406.8125,4328093.0 L 712414.0,4328097.0 L 712420.8125,4328102.0 L 712427.3125,4328107.0 L 712437.3125,4328118.0 L 712452.5,4328129.0 L 712463.1875,4328131.5 L 712466.375,4328132.0 L 712499.5,4328135.0 L 712518.625,4328135.0 L 712532.625,4328130.0 L 712776.8125,4327695.0 L 713017.3125,4327258.0 L 713167.3125,4326986.0 L 713180.125,4326965.0 L 713186.625,4326955.0 L 713203.3125,4326943.0 L 713374.8125,4326830.0 L 713473.0,4326784.0 L 713555.375,4326755.0 L 713591.1875,4326750.0 L 713630.8125,4326745.0 L 713688.1875,4326738.0 L 713725.1875,4326735.0 L 713772.1875,4326736.0 L 714019.0,4326693.0 L 714279.3125,4326630.0 L 714535.875,4326563.0 L 714942.875,4326454.0 L 714984.1875,4326436.0 L 715102.1875,4326372.0 L 715343.5,4326205.0 L 715381.625,4326171.0 L 715409.1875,4326112.0 L 715431.375,4326062.0 L 715545.875,4325713.0 L 715845.6875,4325169.0 L 716351.6875,4324775.0 L 716593.875,4324470.0 L 716821.125,4324084.0 L 716815.1875,4324072.0 L 716812.8125,4324067.0 L 716811.3125,4324057.0 L 716810.6875,4324047.0 L 716811.3125,4324037.0 L 716812.8125,4324026.0 L 716815.375,4324017.0 L 716819.0,4324007.0 L 716823.625,4323998.0 L 716829.0,4323990.0 L 716981.875,4323779.0 L 717336.625,4323311.0 L 717756.3125,4322768.0 L 717774.875,4322744.0 L 717814.8125,4322694.0 L 717831.875,4322677.0 L 717964.0,4322576.0 L 717993.875,4322557.0 L 718015.625,4322555.0 L 718038.5,4322556.0 L 718061.6875,4322546.0 L 718131.8125,4322507.0 L 718812.375,4322104.0 L 718834.5,4322090.0 L 718843.8125,4322080.0 L 718862.375,4322055.0 L 718988.3125,4321875.0 L 718999.1875,4321855.0 L 719007.5,4321836.0 L 719051.8125,4321733.0 L 719179.5,4321391.0 L 719238.3125,4321165.0 L 719263.1875,4320889.0 L 719263.8125,4320879.0 L 719263.5,4320869.0 L 719262.3125,4320859.0 L 719260.3125,4320849.0 L 719255.0,4320833.0 L 719235.3125,4320814.0 L 719208.875,4320804.0 L 719189.875,4320802.0 L 719160.625,4320804.0 L 719145.3125,4320805.0 L 719097.125,4320803.0 L 719072.875,4320801.0 L 719061.625,4320797.0 L 719044.1875,4320786.0 L 719022.125,4320763.0 L 719008.6875,4320746.0 L 718995.875,4320710.0 L 718994.3125,4320687.0 L 718995.8125,4320606.0 L 718998.3125,4320570.0 L 719006.8125,4320545.0 L 719095.375,4320450.0 L 719122.8125,4320429.0 L 719266.0,4320372.0 L 719353.875,4320395.0 L 719355.8125,4320405.0 L 719358.8125,4320415.0 L 719363.125,4320424.0 L 719368.625,4320432.0 L 719375.0,4320440.0 L 719382.375,4320447.0 L 719390.625,4320453.0 L 719399.625,4320458.0 L 719409.0,4320461.0 L 719418.875,4320464.0 L 719428.875,4320465.0 L 719439.125,4320465.0 L 719449.125,4320463.0 L 719458.8125,4320461.0 L 719562.125,4320418.0 L 719570.125,4320406.0 L 719575.875,4320386.0 L 719672.0,4320039.0 L 719757.625,4319355.0 L 719537.125,4318839.0 L 719529.125,4318815.0 L 719526.1875,4318789.0 L 719526.3125,4318751.0 L 719527.625,4318710.0 L 719549.8125,4318623.0 L 719572.5,4318555.0 L 719578.0,4318544.0 L 719586.0,4318532.0 L 719594.125,4318526.0 L 719610.875,4318515.0 L 719619.5,4318510.0 L 719628.3125,4318505.0 L 719646.3125,4318495.0 L 719655.5,4318491.0 L 719664.875,4318487.0 L 719674.3125,4318483.0 L 719683.875,4318480.0 L 719693.5,4318477.0 L 719703.3125,4318474.0 L 719722.875,4318469.0 L 719732.875,4318467.0 L 719742.875,4318466.0 L 719773.1875,4318463.0 L 719783.3125,4318462.0 L 719793.375,4318462.0 L 719855.625,4318464.0 L 719875.875,4318465.0 L 719939.125,4318154.0 L 718894.1875,4317078.0 L 717972.375,4316301.0 L 717919.375,4316289.0 L 717900.375,4316287.0 L 717873.625,4316288.0 L 717851.625,4316300.0 L 717835.8125,4316314.0 L 717549.125,4316620.0 L 717527.625,4316653.0 L 717520.3125,4316679.0 L 717515.8125,4316698.0 L 717515.8125,4316736.0 L 717519.0,4316753.0 L 717618.5,4316890.0 L 717686.0,4316962.0 L 717726.5,4317004.0 L 717493.125,4317277.0 L 717046.5,4316951.0 L 716857.125,4316802.0 L 716865.375,4316783.0 L 716936.8125,4316451.0 L 716945.625,4316383.0 L 716947.625,4316360.0 L 716948.125,4316347.0 L 716939.5,4316337.0 L 716751.5,4316184.0 L 716732.875,4316172.0 L 716715.1875,4316167.0 L 716443.125,4316127.0 L 716429.3125,4316128.0 L 716352.625,4316136.0 L 716338.625,4316138.0 L 716325.8125,4316143.0 L 716313.6875,4316159.0 L 716310.375,4316179.0 L 716310.8125,4316203.0 L 716331.0,4316274.0 L 716347.8125,4316303.0 L 716367.0,4316332.0 L 716373.5,4316362.0 L 716380.3125,4316579.0 L 716378.3125,4316611.0 L 716368.125,4316646.0 L 716359.8125,4316664.0 L 716040.3125,4316918.0 L 716000.375,4316931.0 L 715551.8125,4316900.0 L 714803.8125,4316644.0 L 714785.125,4316636.0 L 714689.0,4316484.0 L 714620.6875,4316338.0 L 714614.875,4316322.0 L 714464.5,4316128.0 L 714445.6875,4316121.0 L 714360.375,4316124.0 L 714269.5,4316144.0 L 714163.875,4316182.0 L 714135.3125,4316197.0 L 714108.375,4316237.0 L 714096.625,4316248.0 L 714073.5,4316255.0 L 713828.375,4316285.0 L 713540.875,4316224.0 L 713403.8125,4316185.0 L 713291.875,4316152.0 L 713270.625,4316145.0 L 712975.8125,4316006.0 L 712757.0,4315909.0 L 711666.625,4315635.0 L 711020.875,4315638.0 L 710459.625,4315352.0 L 709387.125,4315043.0 L 709285.875,4315028.0 L 709215.625,4315075.0 L 709055.3125,4315184.0 L 709045.625,4315205.0 L 709044.125,4315244.0 L 709034.1875,4315272.0 L 709008.125,4315290.0 L 708973.1875,4315306.0 L 708693.8125,4315337.0 L 708642.875,4315337.0 L 708536.375,4315331.0 L 708500.875,4315329.0 L 708159.875,4315303.0 L 707941.3125,4315238.0 L 707541.3125,4315264.0 L 707438.625,4315358.0 L 707213.375,4315537.0 L 707167.6875,4315571.0 L 706738.875,4315792.0 L 706688.375,4315817.0 L 706378.3125,4315954.0 L 705733.125,4316221.0 L 704479.5,4316579.0 L 704176.5,4316628.0 L 704136.875,4316633.0 L 704093.625,4316636.0 L 704027.375,4316639.0 L 703998.3125,4316636.0 L 703783.625,4316566.0 L 703007.8125,4316477.0 L 701960.3125,4316419.0 L 701910.8125,4316417.0 L 701448.625,4316476.0 L 701260.875,4316569.0 L 701217.6875,4316601.0 L 700882.875,4316891.0 L 700794.5,4317014.0 L 700786.625,4317058.0 L 700772.3125,4317100.0 L 700745.1875,4317146.0 L 700717.3125,4317179.0 L 700090.375,4317634.0 L 699346.125,4318140.0 L 699160.625,4318240.0 L 698877.1875,4318380.0 L 698852.6875,4318389.0 L 698635.5,4318420.0 L 698474.875,4318433.0 L 698440.375,4318437.0 L 698358.125,4318497.0 L 698325.3125,4318525.0 L 698315.625,4318547.0 L 698263.875,4318708.0 L 698244.625,4318784.0 L 698231.0,4318808.0 L 698158.625,4318875.0 L 697874.875,4319089.0 L 697830.625,4319118.0 L 697781.375,4319143.0 L 697544.875,4319249.0 L 697490.8125,4319272.0 L 697457.1875,4319286.0 L 696682.3125,4319552.0 L 695872.6875,4319864.0 L 695392.9102999996,4320052.689200001 L 695206.5,4320112.0 L 693866.8125,4320478.0 L 693575.625,4320549.0 L 692937.8125,4320671.0 L 691758.375,4320873.0 L 691301.1875,4320929.0 L 690426.875,4320948.0 L 690321.625,4320945.0 L 689994.5,4320917.0 L 689912.1875,4320906.0 L 689816.0,4320891.0 L 689703.3125,4320873.0 L 689600.875,4320853.0 L 689494.6875,4320832.0 L 689423.875,4320817.0 L 689372.125,4320805.0 L 689271.125,4320780.0 L 688735.0,4320634.0 L 688695.875,4320623.0 L 688654.5,4320601.0 L 688623.3125,4320578.0 L 688309.375,4320295.0 L 688166.375,4320162.0 L 687777.8125,4319758.0 L 687765.5,4319742.0 L 687742.625,4319573.0 L 687748.375,4319540.0 L 687762.6875,4319524.0 L 687786.875,4319519.0 L 687794.875,4319504.0 L 687812.625,4319454.0 L 687818.625,4319409.0 L 687776.8125,4319351.0 L 687757.875,4319338.0 L 687615.875,4319275.0 L 687596.6875,4319281.0 L 687429.875,4319752.0 L 687416.625,4319894.0 L 687427.8125,4319964.0 L 687468.875,4320055.0 L 687475.375,4320060.0 L 687481.3125,4320066.0 L 687486.375,4320073.0 L 687490.8125,4320080.0 L 687494.375,4320088.0 L 687497.1875,4320096.0 L 687499.125,4320104.0 L 687500.0,4320113.0 L 687500.125,4320121.0 L 687499.1875,4320130.0 L 687497.375,4320138.0 L 687494.8125,4320146.0 L 687491.3125,4320154.0 L 687486.875,4320161.0 L 687481.8125,4320168.0 L 687356.625,4320307.0 L 687345.0,4320315.0 L 686847.5,4320639.0 L 686559.625,4320794.0 L 686451.8125,4320844.0 L 686140.875,4321076.0 L 685698.5,4321416.0 L 685250.125,4321991.0 L 685166.1875,4322223.0 L 685140.3125,4322299.0 L 685134.625,4322329.0 L 685063.625,4322892.0 L 684766.0,4323310.0 L 684129.3125,4324012.0 L 684080.1875,4324050.0 L 683999.875,4324117.0 L 683881.375,4324248.0 L 683851.375,4324283.0 L 683568.375,4324731.0 L 683543.375,4324771.0 L 683527.1875,4324813.0 L 683513.375,4324862.0 L 683504.875,4324902.0 L 683501.3125,4324949.0 L 683489.875,4325002.0 L 683439.875,4325194.0 L 683426.5,4325228.0 L 683302.625,4325428.0 L 683275.375,4325455.0 L 682918.5,4325796.0 L 682643.375,4326057.0 L 682576.0,4326118.0 L 682235.3125,4326419.0 L 682188.875,4326446.0 L 681925.8125,4326573.0 L 681862.875,4326601.0 L 681809.3125,4326614.0 L 681769.8125,4326620.0 L 681735.375,4326621.0 L 681576.875,4326611.0 L 681255.125,4326587.0 L 681246.625,4326586.0 L 681238.1875,4326585.0 L 681229.8125,4326583.0 L 681213.375,4326579.0 L 681205.375,4326576.0 L 681189.8125,4326569.0 L 681182.3125,4326565.0 L 681167.875,4326556.0 L 681161.125,4326551.0 L 681148.125,4326540.0 L 681142.125,4326534.0 L 681130.875,4326521.0 L 681121.875,4326508.0 L 681110.8125,4326494.0 L 681089.8125,4326469.0 L 680878.125,4326450.0 L 680723.3125,4326443.0 L 680708.125,4326443.0 L 680200.875,4326631.0 L 680177.625,4326649.0 L 680168.1875,4326675.0 L 680153.875,4326742.0 L 680151.125,4326756.0 L 680139.0,4326844.0 L 680148.3125,4327337.0 L 680180.8125,4327365.0 L 680607.375,4327599.0 L 681111.375,4327606.0 L 681119.875,4327607.0 L 681128.3125,4327608.0 L 681136.625,4327610.0 L 681144.8125,4327612.0 L 681161.125,4327617.0 L 681169.1875,4327620.0 L 681177.125,4327623.0 L 681185.0,4327626.0 L 681192.8125,4327630.0 L 681208.0,4327638.0 L 681222.8125,4327646.0 L 681236.875,4327655.0 L 681243.875,4327660.0 L 681257.3125,4327671.0 L 681269.875,4327682.0 L 681276.125,4327688.0 L 681282.0,4327694.0 L 681293.3125,4327707.0 L 681303.875,4327720.0 L 681308.875,4327727.0 L 681313.6875,4327734.0 L 681326.8125,4327756.0 L 681674.0,4328363.0 L 681803.375,4328703.0 L 682258.375,4328980.0 L 682265.8125,4328976.0 L 682273.3125,4328972.0 L 682280.875,4328968.0 L 682303.875,4328957.0 L 682327.5,4328947.0 L 682335.375,4328944.0 L 682351.375,4328938.0 L 682375.8125,4328930.0 L 682383.875,4328928.0 L 682416.875,4328920.0 L 682433.625,4328916.0 L 682450.375,4328913.0 L 682458.8125,4328912.0 L 682484.1875,4328909.0 L 682492.6875,4328908.0 L 682526.6875,4328906.0 L 682560.8125,4328906.0 L 682680.3125,4328907.0 L 682691.5,4328916.0 L 683036.8125,4329153.0 L 683071.8125,4329120.0 L 683322.0,4328892.0 L 683760.875,4328518.0 L 683773.875,4328507.0 L 683793.8125,4328491.0 L 683827.625,4328465.0 L 683834.375,4328460.0 L 683841.375,4328455.0 L 683876.625,4328431.0 L 683890.875,4328422.0 L 683919.875,4328404.0 L 683957.0,4328383.0 L 683964.5,4328379.0 L 683972.125,4328375.0 L 684010.1875,4328356.0 L 684025.625,4328349.0 L 684041.1875,4328342.0 L 684064.6875,4328332.0 L 684088.375,4328323.0 L 684225.6875,4328271.0 L 684233.625,4328268.0 L 684249.625,4328262.0 L 684257.8125,4328259.0 L 684265.875,4328257.0 L 684274.1875,4328255.0 L 684282.625,4328253.0 L 684299.3125,4328250.0 L 684316.1875,4328248.0 L 684324.6875,4328247.0 L 684358.8125,4328247.0 L 684375.8125,4328248.0 L 684384.3125,4328249.0 L 684392.625,4328250.0 L 684417.6875,4328255.0 L 684442.3125,4328262.0 L 684458.3125,4328268.0 L 684473.875,4328275.0 L 684481.625,4328279.0 L 684489.1875,4328283.0 L 684496.6875,4328287.0 L 684504.125,4328291.0 L 684511.3125,4328295.0 L 684659.3125,4328386.0 L 684681.8125,4328400.0 L 684705.625,4328415.0 L 684952.375,4328584.0 L 684959.625,4328589.0 L 684973.125,4328599.0 L 684979.625,4328605.0 L 684985.8125,4328611.0 L 684991.6875,4328617.0 L 684997.3125,4328623.0 L 685002.625,4328630.0 L 685007.6875,4328637.0 L 685012.375,4328644.0 L 685016.8125,4328651.0 L 685020.875,4328658.0 L 685108.3125,4328812.0 L 685145.5,4328911.0 L 685157.625,4328938.0 L 685173.375,4328967.0 L 685189.5,4328986.0 L 685367.8125,4329196.0 L 685390.1875,4329216.0 L 685421.375,4329241.0 L 685441.6875,4329240.0 L 685728.875,4329177.0 L 686248.6875,4329218.0 L 687138.875,4329682.0 L 687157.6875,4329695.0 L 687354.3125,4329867.0 L 687360.375,4329873.0 L 687366.375,4329879.0 L 687377.8125,4329892.0 L 687388.625,4329905.0 L 687393.625,4329912.0 L 687398.5,4329919.0 L 687403.1875,4329926.0 L 687407.6875,4329933.0 L 687416.0,4329948.0 L 687419.875,4329956.0 L 687426.875,4329971.0 L 687430.1875,4329979.0 L 687433.125,4329987.0 L 687435.875,4329995.0 L 687438.375,4330003.0 L 687440.8125,4330012.0 L 687442.8125,4330020.0 L 687444.625,4330028.0 L 687446.3125,4330037.0 L 687447.625,4330045.0 L 687448.8125,4330053.0 L 687449.625,4330062.0 L 687450.3125,4330070.0 L 687450.6875,4330079.0 L 687450.875,4330087.0 L 687450.8125,4330096.0 L 687450.5,4330104.0 L 687450.0,4330113.0 L 687449.1875,4330121.0 L 687448.1875,4330130.0 L 687446.875,4330138.0 L 687445.375,4330147.0 L 687443.6875,4330155.0 L 687441.8125,4330163.0 L 687439.625,4330172.0 L 687437.125,4330180.0 L 687434.5,4330188.0 L 687431.625,4330196.0 L 687428.3125,4330204.0 L 687415.8125,4330254.0 L 687417.1875,4330303.0 L 687422.625,4330347.0 L 687439.125,4330462.0 L 687450.3125,4330530.0 L 687514.125,4330800.0 L 687540.3125,4330879.0 L 687666.125,4331101.0 L 687697.875,4331157.0 L 687840.375,4331375.0 L 688120.6875,4331793.0 L 688201.125,4331887.0 L 688617.3125,4332363.0 L 688705.375,4332454.0 L 688986.3125,4332734.0 L 689019.8125,4332767.0 L 689044.625,4332779.0 L 689057.5,4332785.0 L 689120.8125,4332798.0 L 689425.3125,4332813.0 L 689595.375,4332814.0 L 689660.375,4332806.0 L 689704.8125,4332810.0 L 689731.3125,4332816.0 L 689764.125,4332824.0 L 690050.0,4332932.0 L 690329.625,4333042.0 L 690413.75,4333082.5 L 690429.8125,4333103.0 L 690443.3125,4333126.0 L 690546.1875,4333350.0 L 690633.3125,4333547.0 L 690656.8125,4333576.0 L 690685.6875,4333588.0 L 690735.1875,4333590.0 L 690845.6875,4333591.0 L 690984.625,4333569.0 L 691039.5,4333557.0 L 691051.125,4333551.0 L 691058.5,4333546.0 L 691081.0,4333534.0 L 691088.625,4333530.0 L 691134.1875,4333507.0 L 691157.3125,4333496.0 L 691172.6875,4333489.0 L 691188.1875,4333482.0 L 691219.375,4333468.0 L 691242.875,4333458.0 L 691290.375,4333440.0 L 691338.375,4333422.0 L 691354.625,4333416.0 L 691378.8125,4333408.0 L 691395.0,4333403.0 L 691443.875,4333388.0 L 691476.8125,4333379.0 L 691509.8125,4333371.0 L 691526.375,4333367.0 L 691562.0,4333363.0 L 691829.1875,4333337.0 L 691846.1875,4333336.0 L 691871.8125,4333336.0 L 691880.3125,4333337.0 L 691897.125,4333339.0 L 691905.5,4333341.0 L 691922.125,4333345.0 L 691930.3125,4333347.0 L 691946.3125,4333353.0 L 691954.1875,4333356.0 L 691962.0,4333359.0 L 691969.625,4333363.0 L 691977.1875,4333367.0 L 691984.625,4333371.0 L 691991.8125,4333376.0 L 691998.875,4333381.0 L 692005.8125,4333386.0 L 692012.625,4333391.0 L 692019.125,4333396.0 L 692025.5,4333402.0 L 692031.6875,4333408.0 L 692037.6875,4333414.0 L 692043.375,4333420.0 L 692054.375,4333433.0 L 692111.375,4333504.0 L 692310.0,4333767.0 L 692331.6875,4333820.0 L 692351.8125,4333886.0 L 692374.6875,4333944.0 L 692386.7311000004,4333955.1337 L 692416.875,4333983.0 L 692748.8125,4334256.0 L 693190.1875,4334510.0 L 693226.6875,4334524.0 L 693264.625,4334534.0 L 693455.0,4334573.0 L 693476.5,4334576.0 L 693488.875,4334575.0 L 693531.375,4334571.0 L 693556.875,4334570.0 L 693633.5,4334570.0 L 693684.625,4334573.0 L 693693.125,4334574.0 L 693752.3125,4334581.0 L 693777.5,4334585.0 L 693794.3125,4334588.0 L 693819.3125,4334593.0 L 693844.3125,4334599.0 L 693852.625,4334601.0 L 693869.125,4334605.0 L 693877.3125,4334607.0 L 693910.125,4334616.0 L 693950.625,4334629.0 L 693982.625,4334641.0 L 693998.375,4334647.0 L 694022.0,4334657.0 L 694037.625,4334664.0 L 694053.125,4334671.0 L 694068.625,4334678.0 L 694114.0,4334701.0 L 694176.8125,4334736.0 L 694195.3125,4334759.0 L 694327.3125,4334982.0 L 694337.875,4335004.0 L 694341.375,4335047.0 L 694338.125,4335100.0 L 694330.625,4335131.0 L 694325.125,4335179.0 L 694321.6875,4335338.0 L 694321.3125,4335384.0 L 694321.8125,4335542.0 L 694339.8125,4335571.0 L 694362.0,4335588.0 L 694388.3125,4335598.0 L 694605.3125,4335677.0 L 694631.625,4335686.0 L 694904.8125,4335654.0 L 695055.125,4335643.0 L 695281.625,4335636.0 L 695717.3125,4335710.0 L 695778.6875,4335734.0 L 695808.375,4335754.0 L 696213.8125,4336029.0 L 696693.375,4336120.0 L 696996.125,4336386.0 L 697352.125,4336728.0 L 697373.625,4336934.0 L 697360.125,4337161.0 L 697602.625,4337581.0 L 697641.125,4337605.0 L 697699.3125,4337647.0 L 697725.3125,4337667.0 L 697759.8125,4337695.0 L 697795.375,4337729.0 L 698167.5,4338834.0 L 698168.8125,4338867.0 L 698142.8437999999,4339243.0 L 698139.1875,4339256.0 L 698120.625,4339311.0 L 698103.5,4339361.0 L 698089.625,4339394.0 L 698071.8125,4339429.0 L 698052.6875,4339464.0 L 698033.8125,4339494.0 L 697784.375,4339880.0 L 697756.3125,4339918.0 L 697573.3125,4340131.0 L 697550.8125,4340155.0 L 697376.1875,4340341.0 L 697306.3125,4340411.0 L 697191.8125,4340516.0 L 697052.5,4340641.0 L 697014.6875,4340668.0 L 696864.0,4340756.0 L 696726.375,4340834.0 L 696516.3125,4340950.0 L 696464.5,4340975.0 L 696415.625,4340992.0 L 694320.1875,4341711.0 L 694283.1875,4341718.0 L 694020.8125,4341765.0 L 693870.375,4341787.0 L 693800.8125,4341797.0 L 693387.8125,4341823.0 L 693359.875,4341823.0 L 693324.3125,4341820.0 L 693058.125,4341777.0 L 692728.8125,4341704.0 L 692454.125,4341621.0 L 692284.5,4341568.0 L 692130.3125,4341497.0 L 692073.5,4341459.0 L 692052.125,4341442.0 L 692014.1875,4341425.0 L 691838.3125,4341363.0 L 691782.625,4341347.0 L 691525.1875,4341298.0 L 691505.75,4341307.0 L 691493.3125,4341313.0 L 691009.5,4341556.0 L 690360.0,4341734.0 L 690321.875,4341740.0 L 690205.0,4341742.0 L 690111.125,4341741.0 L 690023.375,4341736.0 L 689972.6875,4341732.0 L 689927.0,4341727.0 L 689859.875,4341711.0 L 689808.0,4341691.0 L 689751.1875,4341657.0 L 689715.875,4341632.0 L 689514.875,4341412.0 L 689444.6875,4341325.0 L 689425.0,4341257.0 L 689420.1875,4341233.0 L 689402.625,4341211.0 L 688613.3125,4340695.0 L 688580.625,4340674.0 L 688542.875,4340659.0 L 688478.1875,4340652.0 L 688407.0,4340652.0 L 688352.3125,4340654.0 L 688301.375,4340657.0 L 688258.125,4340661.0 L 688111.375,4340685.0 L 687923.875,4340717.0 L 687892.0,4340721.0 L 687816.8125,4340727.0 L 687768.375,4340729.0 L 687647.6875,4340729.0 L 687571.875,4340710.0 L 687168.6875,4340585.0 L 687153.3125,4340579.0 L 687138.3125,4340573.0 L 687123.8125,4340565.0 L 687109.875,4340557.0 L 687096.8125,4340547.0 L 687084.375,4340536.0 L 687072.875,4340524.0 L 687062.3125,4340512.0 L 686797.625,4340199.0 L 686791.8125,4340176.0 L 686792.625,4340082.0 L 686797.5,4340032.0 L 686802.125,4339998.0 L 686803.6875,4339929.0 L 686796.625,4339845.0 L 686786.625,4339784.0 L 686705.5,4339605.0 L 686474.3125,4339210.0 L 686460.5,4339198.0 L 686447.8125,4339199.0 L 686428.5,4339210.0 L 686393.875,4339225.0 L 686358.125,4339233.0 L 686336.5,4339235.0 L 686304.8125,4339234.0 L 686288.3125,4339231.0 L 686278.3125,4339227.0 L 686253.1875,4339213.0 L 686228.1875,4339195.0 L 686150.875,4339129.0 L 686132.3125,4339111.0 L 686105.3125,4339067.0 L 686068.0,4338974.0 L 686057.8125,4338917.0 L 686053.6875,4338876.0 L 686051.1875,4338817.0 L 686037.375,4338408.0 L 686033.8125,4338230.0 L 686035.625,4337975.0 L 686057.125,4337465.0 L 686060.625,4337423.0 L 686079.3125,4337213.0 L 686084.875,4337187.0 L 686129.0,4337091.0 L 686140.625,4337076.0 L 686154.875,4337045.0 L 686179.0,4336987.0 L 686196.875,4336926.0 L 686204.0,4336891.0 L 686208.375,4336868.0 L 686209.875,4336800.0 L 686111.3125,4336381.0 L 685988.5,4336132.0 L 685983.625,4336123.0 L 685967.5,4336105.0 L 685941.125,4336094.0 L 685745.1875,4336015.0 L 685554.0,4335968.0 L 685422.5,4335949.0 L 685030.5,4335812.0 L 685015.0,4335806.0 L 684999.8125,4335800.0 L 684984.8125,4335794.0 L 684970.0,4335787.0 L 684944.875,4335774.0 L 684554.875,4334924.0 L 684545.5,4334887.0 L 684497.0,4334615.0 L 684497.625,4334588.0 L 684514.875,4334493.0 L 684527.875,4334426.0 L 684538.8125,4334394.0 L 684539.375,4334362.0 L 684525.8125,4334232.0 L 684518.6875,4334212.0 L 684503.8125,4334196.0 L 684465.125,4334167.0 L 684217.375,4333995.0 L 684203.875,4333986.0 L 684188.8125,4333980.0 L 684172.625,4333977.0 L 684156.3125,4333978.0 L 684140.625,4333983.0 L 684126.3125,4333990.0 L 684114.0,4334001.0 L 684062.3125,4334058.0 L 684007.3125,4334134.0 L 683976.875,4334187.0 L 683971.5,4334201.0 L 683962.375,4334213.0 L 683940.375,4334229.0 L 683918.8125,4334233.0 L 683805.8125,4334227.0 L 683724.6875,4334220.0 L 683663.875,4334214.0 L 683624.625,4334208.0 L 683599.625,4334193.0 L 683550.8125,4334159.0 L 683390.125,4334021.0 L 683372.8125,4333995.0 L 683341.375,4333925.0 L 683332.875,4333906.0 L 683236.375,4333570.0 L 683199.5,4333183.0 L 683200.8125,4333166.0 L 683201.125,4333150.0 L 683200.375,4333134.0 L 683198.8125,4333118.0 L 683167.5,4332894.0 L 683132.625,4332752.0 L 683127.875,4332734.0 L 683095.625,4332699.0 L 683076.875,4332682.0 L 682979.8125,4332657.0 L 682937.875,4332654.0 L 682915.0,4332654.0 L 682896.3125,4332641.0 L 682882.875,4332614.0 L 682858.875,4332549.0 L 682853.0,4332530.0 L 682681.5,4331927.0 L 682678.0,4331911.0 L 682675.625,4331895.0 L 682639.6875,4331615.0 L 682639.375,4331572.0 L 682645.5,4331525.0 L 682669.125,4331379.0 L 682689.6875,4331253.0 L 682699.3125,4331222.0 L 682702.6875,4331182.0 L 682711.625,4331067.0 L 682712.8125,4331016.0 L 682707.625,4330676.0 L 682706.1875,4330659.0 L 682703.375,4330643.0 L 682699.3125,4330627.0 L 682693.875,4330612.0 L 682687.3125,4330597.0 L 682530.375,4330248.0 L 682520.625,4330232.0 L 682513.125,4330226.0 L 682493.0,4330219.0 L 682463.8125,4330218.0 L 682437.125,4330220.0 L 682409.0,4330227.0 L 682344.8125,4330256.0 L 682320.3125,4330273.0 L 682282.625,4330313.0 L 681899.8125,4330739.0 L 681869.6875,4330775.0 L 681860.0,4330810.0 L 681862.0,4330837.0 L 681883.0,4330863.0 L 681896.375,4330888.0 L 681903.375,4330916.0 L 681896.5,4330940.0 L 681871.8125,4330969.0 L 681823.8125,4331011.0 L 681739.875,4331074.0 L 681697.8125,4331083.0 L 681200.0,4331021.0 L 681176.125,4331009.0 L 681138.625,4330986.0 L 681068.625,4330935.0 L 681044.875,4330915.0 L 681035.1875,4330894.0 L 681031.875,4330869.0 L 681040.625,4330821.0 L 681044.875,4330798.0 L 681081.3125,4330704.0 L 680578.1875,4330258.0 L 680406.3125,4330161.0 L 680375.125,4330140.0 L 680353.875,4330121.0 L 680333.0,4330090.0 L 680333.625,4330062.0 L 680360.0,4329902.0 L 680371.125,4329862.0 L 680389.375,4329840.0 L 680442.5,4329790.0 L 680562.375,4329680.0 L 680206.8125,4328939.0 L 680137.375,4328604.0 L 679998.1875,4328470.0 L 679572.375,4328258.0 L 679297.8125,4328212.0 L 678712.875,4328241.0 L 678639.125,4328251.0 L 678535.625,4328275.0 L 678292.1875,4328371.0 L 677534.375,4328693.0 L 677181.625,4328854.0 L 677131.625,4328876.0 L 677099.625,4328884.0 L 677062.8125,4328886.0 L 677024.875,4328877.0 L 676994.875,4328854.0 L 676974.875,4328837.0 L 676939.5,4328832.0 L 676792.3125,4328825.0 L 676742.375,4328840.0 L 676334.5,4329082.0 L 676242.3125,4329174.0 L 676214.875,4329203.0 L 676179.625,4329252.0 L 676148.3125,4329289.0 L 676103.1875,4329316.0 L 676064.875,4329324.0 L 675654.0,4329356.0 L 675358.5,4329395.0 L 675276.875,4329409.0 L 675090.375,4329455.0 L 674389.625,4329728.0 L 673219.375,4330091.0 L 672739.375,4330291.0 L 672524.375,4330371.0 L 672148.5,4330463.0 L 672125.3125,4330467.0 L 672113.5,4330468.0 L 672101.625,4330469.0 L 672089.8125,4330468.0 L 672078.125,4330467.0 L 672066.375,4330465.0 L 672054.8125,4330463.0 L 672005.625,4330452.0 L 671889.1875,4330425.0 L 671857.625,4330414.0 L 671839.875,4330406.0 L 671808.625,4330385.0 L 671784.8125,4330366.0 L 671772.375,4330348.0 L 670222.8125,4330181.0 L 669683.8125,4330175.0 L 669194.625,4329888.0 L 669197.8125,4329855.0 L 669180.125,4329849.0 L 669154.8125,4329848.0 L 669015.125,4329907.0 L 668852.0,4329998.0 L 668809.625,4330026.0 L 668779.625,4330066.0 L 668753.375,4330102.0 L 668742.8125,4330130.0 L 668739.625,4330167.0 L 668737.625,4330201.0 L 668735.6875,4330237.0 L 668735.625,4330307.0 L 668736.125,4330351.0 L 668738.125,4330381.0 L 668736.375,4330405.0 L 668729.375,4330440.0 L 668718.6875,4330467.0 L 668407.8125,4331119.0 L 668393.5,4331138.0 L 668388.3125,4331144.0 L 668291.8125,4331209.0 L 668206.8125,4331265.0 L 668134.8125,4331310.0 L 667795.375,4331859.0 L 667621.875,4332383.0 L 667070.0,4332929.0 L 667053.1875,4332945.0 L 667026.125,4332969.0 L 667001.5,4332989.0 L 666831.3125,4333118.0 L 666758.0,4333165.0 L 666709.3125,4333192.0 L 666651.375,4333224.0 L 666610.375,4333245.0 L 666555.3125,4333271.0 L 666439.875,4333324.0 L 666130.125,4333441.0 L 665502.0,4333661.0 L 665448.3125,4333679.0 L 665037.3125,4333771.0 L 664878.125,4333791.0 L 664842.5,4333793.0 L 664796.875,4333786.0 L 664770.5,4333770.0 L 664726.5,4333742.0 L 664702.625,4333729.0 L 664673.625,4333716.0 L 664493.3125,4333644.0 L 664449.125,4333628.0 L 664412.375,4333617.0 L 664355.375,4333605.0 L 664290.625,4333604.0 L 664265.1875,4333606.0 L 664051.0,4333643.0 L 664038.1875,4333648.0 L 663489.625,4333898.0 L 663462.625,4333911.0 L 663293.125,4334077.0 L 663272.1875,4334106.0 L 663246.0,4334146.0 L 663192.125,4334376.0 L 663203.125,4334401.0 L 663237.875,4334441.0 L 663269.1875,4334469.0 L 663280.375,4334478.0 L 663308.3125,4334484.0 L 663331.1875,4334482.0 L 663342.625,4334482.0 L 663352.625,4334495.0 L 663352.3125,4334513.0 L 663341.6875,4334533.0 L 663309.0,4334581.0 L 663277.8125,4334622.0 L 663236.375,4334656.0 L 662791.5,4334936.0 L 662768.375,4334944.0 L 662556.8125,4334982.0 L 662517.3125,4334987.0 L 662497.0,4334983.0 L 662035.8125,4334846.0 L 661923.875,4334846.0 L 661898.5,4334846.0 L 661889.625,4334847.0 L 661862.625,4334863.0 L 661818.6875,4334900.0 L 661803.0,4334923.0 L 661368.625,4335588.0 L 661309.875,4335737.0 L 661217.375,4335992.0 L 661209.3125,4336017.0 L 661202.375,4336047.0 L 661158.75,4336406.75 L 661157.1875,4336427.0 L 661169.1875,4336463.0 L 661179.0,4336484.0 L 661188.8125,4336503.0 L 661195.0,4336509.0 L 661211.5,4336513.0 L 661222.875,4336514.0 L 661252.125,4336514.0 L 661267.375,4336513.0 L 661278.8125,4336513.0 L 661256.8125,4336607.0 L 661205.625,4336674.0 L 661192.3125,4336691.0 L 661178.8125,4336707.0 L 661164.875,4336723.0 L 661150.8125,4336739.0 L 661121.8125,4336770.0 L 661106.875,4336785.0 L 661091.6875,4336800.0 L 661060.625,4336829.0 L 661044.625,4336843.0 L 661012.0,4336870.0 L 660995.375,4336883.0 L 660978.5,4336896.0 L 660905.875,4336949.0 L 660876.375,4336967.0 L 660760.8125,4337034.0 L 660443.375,4337214.0 L 660398.625,4337236.0 L 659883.375,4337327.0 L 659290.5,4337498.0 L 659106.2969000004,4337559.5 L 659100.4792,4337562.3334 L 659093.3125,4337566.0 L 659085.8125,4337570.5 L 659082.8437999999,4337572.5 L 659079.9375,4337574.5 L 659077.125,4337576.5 L 659074.3437999999,4337578.5 L 659066.6458,4337585.0 L 659061.5,4337589.5 L 659058.9375,4337592.0 L 659056.5,4337594.5 L 659053.7344000004,4337597.5 L 658380.1875,4338334.0 L 658166.625,4338607.0 L 658142.875,4338651.0 L 658022.125,4338997.0 L 658009.375,4339060.0 L 658007.625,4339095.0 L 658021.125,4339119.0 L 658074.1875,4339202.0 L 658094.1875,4339217.0 L 658112.0,4339218.0 L 658127.3125,4339214.0 L 658795.625,4339022.0 L 659054.875,4338880.0 L 659248.0,4338614.0 L 659504.3125,4338365.0 L 659531.1875,4338355.0 L 659582.1875,4338346.0 L 659847.6875,4338352.0 L 659910.875,4338372.0 L 659890.3125,4338385.0 L 659757.6875,4338475.0 L 659722.875,4338501.0 L 659704.8125,4338517.0 L 659676.3125,4338545.0 L 659650.375,4338573.0 L 659582.875,4338648.0 L 659499.0,4338785.0 L 659491.875,4338822.0 L 659496.125,4338869.0 L 659512.875,4338994.0 L 659521.0,4339035.0 L 659539.8125,4339052.0 L 659737.5,4339148.0 L 659784.125,4339168.0 L 659814.375,4339180.0 L 659854.8125,4339194.0 L 659904.1875,4339204.0 L 659883.6875,4339688.0 L 659725.375,4339795.0 L 659593.8125,4339900.0 L 659571.8125,4339923.0 L 659553.375,4339952.0 L 659517.6875,4340028.0 L 659505.625,4340061.0 L 659498.375,4340106.0 L 659504.5,4340119.0 L 659516.875,4340136.0 L 659529.625,4340145.0 L 659541.5,4340152.0 L 659553.875,4340158.0 L 659566.625,4340164.0 L 659579.625,4340169.0 L 659592.875,4340174.0 L 659606.5,4340177.0 L 659620.1875,4340180.0 L 659634.125,4340182.0 L 659648.0,4340183.0 L 659676.0,4340183.0 L 659703.8125,4340179.0 L 659717.375,4340176.0 L 659730.875,4340173.0 L 659744.1875,4340168.0 L 659757.125,4340163.0 L 659769.8125,4340157.0 L 659782.0,4340150.0 L 659793.8125,4340142.0 L 659802.875,4340135.0 L 659819.625,4340124.0 L 659836.3125,4340114.0 L 659863.125,4340106.0 L 659894.875,4340106.0 L 659927.875,4340112.0 L 659958.125,4340123.0 L 659982.125,4340133.0 L 660009.8125,4340145.0 L 660029.875,4340162.0 L 660042.125,4340185.0 L 660043.0,4340273.0 L 660042.375,4340306.0 L 659871.5,4341153.0 L 659798.8125,4341505.0 L 659688.3125,4341775.0 L 659872.1875,4341864.0 L 659978.625,4341946.0 L 660003.6875,4341966.0 L 660019.6875,4341995.0 L 660028.0,4342026.0 L 660037.375,4342067.0 L 660044.375,4342098.0 L 660135.3125,4342504.0 L 660138.3125,4342518.0 L 660140.625,4342532.0 L 660142.125,4342546.0 L 660142.8125,4342560.0 L 660142.8125,4342574.0 L 660141.8125,4342588.0 L 660140.1875,4342602.0 L 660137.6875,4342615.0 L 660134.5,4342629.0 L 660130.5,4342642.0 L 660125.8125,4342656.0 L 660120.3125,4342669.0 L 660114.125,4342681.0 L 659760.625,4343344.0 L 659752.8125,4343352.0 L 659655.8125,4343375.0 L 659641.8125,4343375.0 L 659622.875,4343366.0 L 659595.625,4343332.0 L 659587.0,4343317.0 L 659583.3125,4343310.0 L 659588.875,4343281.0 L 659600.0,4343232.0 L 659610.8125,4343198.0 L 659625.0,4343185.0 L 659668.875,4343148.0 L 659696.1875,4343123.0 L 659705.625,4343113.0 L 659713.375,4343101.0 L 659719.5,4343088.0 L 659723.8125,4343075.0 L 659726.125,4343061.0 L 659726.5,4343047.0 L 659724.875,4343033.0 L 659721.3125,4343020.0 L 659715.875,4343007.0 L 659707.375,4342991.0 L 659698.8125,4342977.0 L 659675.3125,4342944.0 L 659653.875,4342929.0 L 659638.8125,4342929.0 L 659619.625,4342930.0 L 659599.125,4342938.0 L 659346.6875,4343052.0 L 659331.3125,4343061.0 L 659316.6875,4343090.0 L 659150.5,4343483.0 L 659142.5,4343504.0 L 659139.1875,4343543.0 L 659138.5,4343579.0 L 659141.8125,4343610.0 L 659161.3125,4343719.0 L 659278.125,4344267.0 L 659297.875,4344300.0 L 659320.125,4344331.0 L 659346.3125,4344359.0 L 659426.3125,4344431.0 L 659436.375,4344435.0 L 659449.3125,4344428.0 L 659721.8125,4344194.0 L 659807.5,4344092.0 L 659810.625,4344078.0 L 659816.625,4344066.0 L 659825.3125,4344055.0 L 659836.125,4344046.0 L 659848.8125,4344040.0 L 659862.375,4344037.0 L 659876.3125,4344037.0 L 659889.875,4344040.0 L 659926.625,4344051.0 L 659941.6875,4344056.0 L 659985.8125,4344077.0 L 660007.125,4344089.0 L 660033.625,4344104.0 L 660054.875,4344119.0 L 660072.375,4344134.0 L 660084.8125,4344149.0 L 660474.0,4344880.0 L 660486.625,4344905.0 L 660492.625,4344918.0 L 660498.3125,4344931.0 L 660503.875,4344944.0 L 660509.3125,4344957.0 L 660514.375,4344970.0 L 660519.375,4344983.0 L 660524.1875,4344996.0 L 660528.6875,4345009.0 L 660533.0,4345022.0 L 660541.0,4345049.0 L 660548.1875,4345076.0 L 660551.375,4345090.0 L 660552.625,4345109.5 L 660553.1875,4345123.0 L 660553.625,4345137.0 L 660553.625,4345151.0 L 660553.5,4345165.0 L 660553.125,4345179.0 L 660552.375,4345193.0 L 660551.375,4345207.0 L 660550.3125,4345221.0 L 660548.8125,4345235.0 L 660547.125,4345249.0 L 660545.125,4345262.0 L 660542.875,4345276.0 L 660540.5,4345290.0 L 660537.8125,4345304.0 L 660534.875,4345317.0 L 660528.875,4345343.0 L 660526.125,4345354.0 L 660442.8125,4345599.0 L 660320.3125,4345893.0 L 659999.875,4346366.0 L 660352.6875,4346607.0 L 660420.125,4346592.0 L 660433.6875,4346589.0 L 660447.6875,4346589.0 L 660461.375,4346592.0 L 660474.3125,4346597.0 L 660687.3125,4346728.0 L 660812.1875,4346842.0 L 660830.875,4346863.0 L 660857.875,4346909.0 L 660870.3125,4346931.0 L 660867.3125,4346955.0 L 660884.625,4347113.0 L 660930.1875,4347326.0 L 660947.875,4347399.0 L 660959.875,4347437.0 L 661216.875,4347893.0 L 661453.375,4348296.0 L 662129.125,4349203.0 L 662139.125,4349211.0 L 662151.6875,4349218.0 L 662163.0,4349224.0 L 662351.375,4349274.0 L 662457.875,4349289.0 L 662530.875,4349259.0 L 662546.375,4349243.0 L 662555.625,4349229.0 L 662580.625,4349187.0 L 662625.375,4349102.0 L 662641.3125,4349066.0 L 662655.8125,4349036.0 L 662690.125,4348968.0 L 662696.6875,4348957.0 L 662701.875,4348952.0 L 662713.3125,4348952.0 L 662724.6875,4348954.0 L 662739.8125,4348964.0 L 663242.125,4349285.0 L 664090.125,4349741.0 L 664107.6875,4349754.0 L 664130.3125,4349902.0 L 664132.3125,4349933.0 L 664093.8125,4350363.0 L 664055.8125,4350593.0 L 664286.8125,4350778.0 L 664556.0,4350652.0 L 664958.8125,4350658.0 L 664975.3125,4350660.0 L 665118.8125,4350797.0 L 665148.8125,4350829.0 L 665165.875,4350866.0 L 665170.5,4350890.0 L 665178.8125,4350924.0 L 665188.625,4350944.0 L 665204.8125,4350958.0 L 665450.375,4351098.0 L 665459.625,4351103.0 L 665469.125,4351107.0 L 665478.8125,4351111.0 L 665488.8125,4351113.0 L 665498.875,4351115.0 L 665509.1875,4351117.0 L 665529.875,4351117.0 L 665540.125,4351116.0 L 665590.5,4351110.0 L 665600.375,4351107.0 L 665609.6875,4351102.0 L 665618.125,4351096.0 L 665625.375,4351089.0 L 665631.375,4351080.0 L 665636.125,4351071.0 L 665683.1875,4350928.0 L 665686.3125,4350899.0 L 665682.875,4350873.0 L 665676.0,4350836.0 L 665647.0,4350688.0 L 665639.8125,4350666.0 L 665631.3125,4350643.0 L 665622.8125,4350623.0 L 665582.125,4350569.0 L 665568.5,4350554.0 L 665561.1875,4350547.0 L 665553.625,4350540.0 L 665545.625,4350533.0 L 665537.3125,4350527.0 L 665528.8125,4350521.0 L 665519.875,4350516.0 L 665510.875,4350511.0 L 665501.625,4350506.0 L 665342.375,4349778.0 L 665340.6875,4349768.0 L 665339.8125,4349758.0 L 665339.875,4349748.0 L 665340.8125,4349737.0 L 665342.6875,4349727.0 L 665345.375,4349717.0 L 665349.0,4349707.0 L 665353.375,4349698.0 L 665358.6875,4349689.0 L 665368.625,4349675.0 L 665411.625,4349621.0 L 665418.125,4349613.0 L 665428.375,4349601.0 L 665444.0,4349586.0 L 665665.3125,4349440.0 L 665682.8125,4349429.0 L 665691.625,4349424.0 L 665700.5,4349419.0 L 665718.5,4349409.0 L 665727.625,4349404.0 L 665745.875,4349394.0 L 665764.5,4349385.0 L 665783.3125,4349376.0 L 665811.8125,4349364.0 L 665821.375,4349360.0 L 665840.8125,4349353.0 L 665860.3125,4349346.0 L 665870.0,4349343.0 L 665879.875,4349340.0 L 665899.625,4349334.0 L 665919.625,4349328.0 L 665939.625,4349323.0 L 665959.8125,4349318.0 L 665969.875,4349316.0 L 665980.0,4349314.0 L 665990.1875,4349312.0 L 666020.8125,4349307.0 L 666051.625,4349303.0 L 666061.8125,4349302.0 L 666072.125,4349301.0 L 666123.6875,4349298.0 L 666166.125,4349298.0 L 666681.6875,4349388.0 L 666875.375,4349429.0 L 666915.8125,4349441.0 L 666939.625,4349462.0 L 666946.625,4349470.0 L 666952.875,4349478.0 L 666958.5,4349487.0 L 666963.1875,4349496.0 L 666966.875,4349506.0 L 666969.8125,4349516.0 L 666971.6875,4349526.0 L 666972.625,4349536.0 L 666972.5,4349546.0 L 667360.125,4349405.0 L 667605.125,4349310.0 L 667614.8125,4349306.0 L 667624.375,4349302.0 L 667643.5,4349294.0 L 667662.3125,4349286.0 L 667680.875,4349277.0 L 667690.125,4349272.0 L 667699.3125,4349267.0 L 667717.3125,4349257.0 L 667735.125,4349247.0 L 667752.5,4349236.0 L 667761.125,4349230.0 L 667778.125,4349218.0 L 667794.6875,4349206.0 L 667810.875,4349193.0 L 667826.8125,4349180.0 L 667834.625,4349173.0 L 667841.125,4349165.0 L 667851.625,4349152.0 L 667863.3125,4349135.0 L 667871.3125,4349115.0 L 667916.125,4349030.0 L 667966.125,4348938.0 L 667984.3125,4348920.0 L 668006.125,4348905.0 L 668062.625,4348873.0 L 668089.5,4348863.0 L 668120.1875,4348854.0 L 668265.375,4348834.0 L 668313.6875,4348835.0 L 668335.3125,4348839.0 L 668432.8125,4348859.0 L 668487.0,4348879.0 L 668705.5,4349019.0 L 668809.875,4349142.0 L 668828.375,4349176.0 L 668851.6875,4349220.0 L 668856.875,4349279.0 L 668855.375,4349296.0 L 668854.125,4349334.0 L 668854.125,4349345.0 L 668854.625,4349355.0 L 668855.625,4349365.0 L 668856.875,4349376.0 L 668858.8125,4349386.0 L 668861.125,4349396.0 L 668863.8125,4349406.0 L 668866.875,4349416.0 L 668870.375,4349425.0 L 668874.375,4349435.0 L 668878.8125,4349444.0 L 668883.625,4349453.0 L 668888.8125,4349462.0 L 668894.375,4349471.0 L 669110.125,4349813.0 L 669285.8125,4349932.0 L 669302.125,4349941.0 L 669336.125,4349956.0 L 669376.5,4349972.0 L 669692.6875,4350053.0 L 670146.375,4350051.0 L 670220.125,4349899.0 L 670199.6875,4349901.0 L 670179.125,4349901.0 L 670168.875,4349899.0 L 670158.875,4349896.0 L 670149.3125,4349892.0 L 670140.0,4349888.0 L 670131.1875,4349882.0 L 670122.875,4349876.0 L 670115.1875,4349869.0 L 670108.125,4349862.0 L 670090.625,4349843.0 L 670058.3125,4349804.0 L 670033.625,4349768.0 L 670025.0,4349750.0 L 670015.1875,4349729.0 L 670013.125,4349706.0 L 670013.375,4349689.0 L 670069.125,4349568.0 L 670083.375,4349549.0 L 670161.125,4349473.0 L 670203.6875,4349436.0 L 670264.375,4349385.0 L 670283.8125,4349370.0 L 670409.375,4349308.0 L 670429.875,4349300.0 L 670458.125,4349291.0 L 670492.5,4349285.0 L 671323.125,4349251.0 L 671356.1875,4349251.0 L 671710.375,4349305.0 L 671741.0,4349310.0 L 672335.375,4349424.0 L 672353.1875,4349428.0 L 672434.125,4349467.0 L 672543.875,4349524.0 L 672567.875,4349538.0 L 672603.125,4349573.0 L 672625.8125,4349600.0 L 672640.6875,4349632.0 L 672676.5,4349730.0 L 672687.625,4349764.0 L 672960.3125,4350449.0 L 673862.625,4350650.0 L 674077.875,4350508.0 L 674093.375,4350493.0 L 674341.875,4350270.0 L 674363.625,4350254.0 L 674413.375,4350227.0 L 674421.125,4350225.0 L 675089.3125,4350312.0 L 675109.5,4350315.0 L 675241.3125,4350343.0 L 675608.125,4350475.0 L 675625.6875,4350494.0 L 675923.625,4350938.0 L 675811.625,4351218.0 L 675779.8125,4351238.0 L 675714.5,4351290.0 L 675695.3125,4351307.0 L 675679.875,4351326.0 L 675666.875,4351349.0 L 675598.1875,4351501.0 L 675583.875,4351534.0 L 675590.125,4351548.0 L 675611.625,4351555.0 L 675828.5,4351573.0 L 675856.375,4351572.0 L 675898.375,4351570.0 L 675918.8125,4351562.0 L 676544.5,4351313.0 L 676552.1875,4351304.0 L 676546.0,4351289.0 L 676533.5,4351269.0 L 676520.875,4351255.0 L 676502.125,4351238.0 L 676468.0,4351216.0 L 676373.3125,4351167.0 L 676355.625,4351159.0 L 676334.125,4351150.0 L 676308.8125,4351144.0 L 676265.625,4351139.0 L 676249.125,4351139.0 L 676223.8125,4351136.0 L 676207.3125,4351129.0 L 676159.375,4351092.0 L 676158.875,4351058.0 L 676160.5,4351036.0 L 676164.1875,4351015.0 L 676169.8125,4350994.0 L 676177.375,4350974.0 L 676186.875,4350954.0 L 676198.125,4350936.0 L 676211.125,4350919.0 L 676225.625,4350903.0 L 676241.5,4350888.0 L 676258.8125,4350875.0 L 676277.125,4350864.0 L 676296.5,4350854.0 L 676316.6875,4350847.0 L 676339.625,4350843.0 L 676351.0,4350843.0 L 676375.125,4350845.0 L 676816.5,4350884.0 L 676844.375,4350889.0 L 677675.3125,4351083.0 L 678262.5,4351267.0 L 678358.125,4351299.0 L 678378.625,4351306.0 L 678399.0,4351313.0 L 678439.625,4351328.0 L 678459.8125,4351336.0 L 678499.8125,4351352.0 L 678519.6875,4351360.0 L 678559.3125,4351377.0 L 678578.875,4351386.0 L 678636.875,4351413.0 L 678654.625,4351422.0 L 678692.375,4351443.0 L 678716.375,4351458.0 L 678863.875,4351562.0 L 678926.8125,4351629.0 L 679004.625,4351722.0 L 679033.375,4351761.0 L 679063.3125,4351812.0 L 679073.3125,4351838.0 L 679520.5,4352191.0 L 679681.0,4352134.0 L 679702.625,4352128.0 L 679730.625,4352128.0 L 679750.875,4352130.0 L 680024.8125,4352160.0 L 680053.875,4352167.0 L 680105.875,4352185.0 L 680126.125,4352193.0 L 680166.125,4352209.0 L 680186.0,4352217.0 L 680205.8125,4352226.0 L 680245.0,4352244.0 L 680283.8125,4352263.0 L 680303.0,4352273.0 L 680322.125,4352283.0 L 680341.0,4352293.0 L 680479.875,4352374.0 L 680497.625,4352387.0 L 680513.8125,4352401.0 L 680528.125,4352417.0 L 680540.3125,4352435.0 L 680910.6875,4353097.0 L 680919.375,4353117.0 L 680919.1875,4353137.0 L 680905.375,4353242.0 L 680838.125,4353382.0 L 680786.375,4353480.0 L 680774.8125,4353497.0 L 680775.875,4353513.0 L 680801.125,4353533.0 L 680874.3125,4353579.0 L 681042.375,4353656.0 L 681067.625,4353665.0 L 681082.875,4353665.0 L 681090.625,4353661.0 L 681104.625,4353651.0 L 681527.875,4353200.0 L 681631.875,4353078.0 L 681869.6875,4352779.0 L 681953.375,4352657.0 L 682019.125,4352550.0 L 682028.125,4352541.0 L 682076.375,4352534.0 L 682141.125,4352537.0 L 682198.1875,4352545.0 L 682226.125,4352549.0 L 683153.3125,4352785.0 L 683173.8125,4352792.0 L 683194.0,4352800.0 L 683213.6875,4352809.0 L 683232.875,4352819.0 L 683240.375,4352823.0 L 683255.625,4352832.0 L 683270.8125,4352841.0 L 683371.6875,4352910.0 L 683394.375,4352926.0 L 683429.6875,4352951.0 L 683511.625,4353019.0 L 683527.0,4353034.0 L 683539.3125,4353052.0 L 683548.125,4353071.0 L 683553.125,4353092.0 L 683554.1875,4353114.0 L 683551.3125,4353135.0 L 683544.375,4353161.0 L 683524.875,4353203.0 L 683506.8125,4353241.0 L 683500.125,4353279.0 L 683520.625,4353376.0 L 683586.8125,4353489.0 L 683620.8125,4353525.0 L 683733.875,4353633.0 L 684440.375,4353981.0 L 684520.5,4353969.0 L 684729.125,4353944.0 L 684762.125,4353946.0 L 684802.625,4353966.0 L 684821.625,4353977.0 L 684840.375,4353988.0 L 684858.8125,4353999.0 L 684876.875,4354011.0 L 684894.8125,4354023.0 L 684912.3125,4354036.0 L 684929.375,4354049.0 L 684946.3125,4354063.0 L 684962.8125,4354077.0 L 684978.8125,4354091.0 L 684994.5,4354106.0 L 685009.8125,4354121.0 L 685024.8125,4354137.0 L 685039.3125,4354153.0 L 685066.875,4354186.0 L 685092.875,4354221.0 L 685105.1875,4354239.0 L 685117.0,4354257.0 L 685139.3125,4354294.0 L 685143.9375,4354302.5 L 685167.0,4354345.0 L 685181.8125,4354390.0 L 685186.1875,4354415.0 L 685192.875,4354436.0 L 685202.1875,4354455.0 L 685213.875,4354474.0 L 685227.875,4354490.0 L 685244.0,4354505.0 L 685261.8125,4354517.0 L 685281.0,4354527.0 L 685301.375,4354534.0 L 685546.8125,4354596.0 L 685582.375,4354601.0 L 685603.875,4354604.0 L 685625.375,4354606.0 L 685668.625,4354610.0 L 685690.1875,4354611.0 L 685733.375,4354613.0 L 685755.125,4354614.0 L 685820.125,4354614.0 L 685906.625,4354610.0 L 686166.5,4354594.0 L 686267.0,4354577.0 L 686307.8125,4354571.0 L 686461.625,4354551.0 L 686498.375,4354555.0 L 686522.375,4354566.0 L 686593.1875,4354599.0 L 686622.3125,4354616.0 L 686936.625,4354804.0 L 686970.625,4354830.0 L 687008.375,4354862.0 L 687134.3125,4354973.0 L 687363.1875,4355194.0 L 687409.625,4355243.0 L 687424.5,4355259.0 L 687439.125,4355275.0 L 687453.625,4355291.0 L 687467.8125,4355307.0 L 687495.6875,4355340.0 L 687509.3125,4355357.0 L 687522.8125,4355374.0 L 687535.875,4355391.0 L 687561.6875,4355426.0 L 687574.1875,4355444.0 L 687586.5,4355462.0 L 687598.625,4355480.0 L 687610.5,4355498.0 L 687622.125,4355516.0 L 687633.625,4355534.0 L 687644.8125,4355553.0 L 687666.375,4355590.0 L 687676.875,4355609.0 L 687687.125,4355628.0 L 687706.875,4355667.0 L 687716.375,4355686.0 L 687725.625,4355706.0 L 687743.375,4355745.0 L 687752.0,4355765.0 L 687760.3125,4355785.0 L 687768.3125,4355805.0 L 687783.625,4355846.0 L 687790.875,4355866.0 L 687804.625,4355907.0 L 687811.125,4355928.0 L 687817.375,4355949.0 L 687829.125,4355990.0 L 687834.5,4356011.0 L 687839.6875,4356032.0 L 687844.625,4356053.0 L 687849.3125,4356075.0 L 687853.6875,4356096.0 L 687857.8125,4356117.0 L 687861.6875,4356138.0 L 687865.3125,4356160.0 L 687862.375,4356199.0 L 687854.5,4356222.0 L 687841.625,4356238.0 L 687816.0,4356264.0 L 687782.8125,4356286.0 L 687744.375,4356307.0 L 687706.125,4356327.0 L 687660.3125,4356343.0 L 687624.625,4356353.0 L 687591.5,4356361.0 L 687560.875,4356367.0 L 687511.3125,4356375.0 L 687470.625,4356385.0 L 687434.875,4356401.0 L 687391.375,4356430.0 L 687162.375,4356598.0 L 687086.8125,4356657.0 L 686822.625,4357173.0 L 686819.875,4357188.0 L 686800.0,4357398.0 L 686813.3125,4357710.0 L 686969.125,4357887.0 L 687005.8125,4357897.0 L 687032.3125,4357915.0 L 687104.0,4357980.0 L 687116.5,4357997.0 L 687128.875,4358027.0 L 687161.0,4358130.0 L 687167.3125,4358151.0 L 687173.3125,4358171.0 L 687179.0,4358192.0 L 687184.375,4358213.0 L 687189.5,4358234.0 L 687194.3125,4358255.0 L 687198.8125,4358277.0 L 687202.875,4358298.0 L 687206.6875,4358319.0 L 687210.3125,4358341.0 L 687213.375,4358362.0 L 687216.3125,4358383.0 L 687218.875,4358405.0 L 687221.125,4358426.0 L 687223.125,4358448.0 L 687251.5,4358844.0 L 687204.125,4359264.0 L 687197.3125,4359315.0 L 687186.5,4359374.0 L 687177.1875,4359416.0 L 687166.625,4359461.0 L 687157.3125,4359495.0 L 687143.0,4359529.0 L 687131.3125,4359556.0 L 687108.1875,4359585.0 L 687085.125,4359603.0 L 687065.875,4359614.0 L 686949.875,4359659.0 L 686923.1875,4359668.0 L 686895.125,4359676.0 L 686808.625,4359698.0 L 686771.625,4359706.0 L 686596.125,4359738.0 L 686578.3125,4359739.0 L 686503.8125,4359721.0 L 686506.125,4359715.0 L 686517.625,4359706.0 L 686530.375,4359699.0 L 686557.1875,4359690.0 L 686585.125,4359688.0 L 686610.5,4359691.0 L 686610.6875,4359674.0 L 686599.3125,4359669.0 L 686580.3125,4359662.0 L 686560.0,4359661.0 L 686525.6875,4359667.0 L 686500.125,4359678.0 L 686482.1875,4359695.0 L 686456.3125,4359740.0 L 686440.1875,4359819.0 L 686440.125,4359834.0 L 686442.375,4359854.0 L 686454.875,4359870.0 L 686636.125,4360039.0 L 686782.625,4360116.0 L 687108.1875,4360202.0 L 687656.8125,4360338.0 L 687688.3125,4360355.0 L 687731.3125,4360382.0 L 687755.1875,4360398.0 L 687791.6875,4360434.0 L 687819.3125,4360471.0 L 687829.125,4360498.0 L 687831.1875,4360542.0 L 687827.0,4360583.0 L 687826.6875,4360615.0 L 687886.0,4360777.0 L 687897.1875,4360801.0 L 687924.8125,4360837.0 L 687951.3125,4360853.0 L 687985.375,4360869.0 L 688010.6875,4360878.0 L 688037.375,4360881.0 L 688094.5,4360881.0 L 688133.875,4360880.0 L 688504.375,4360785.0 L 688535.0,4360772.0 L 688558.1875,4360745.0 L 688571.1875,4360714.0 L 688577.8125,4360684.0 L 688588.375,4360646.0 L 688607.8125,4360606.0 L 688654.3125,4360529.0 L 688674.875,4360497.0 L 688701.875,4360463.0 L 688762.3125,4360405.0 L 688856.8125,4360355.0 L 688889.875,4360342.0 L 688928.125,4360336.0 L 688975.125,4360335.0 L 689009.3125,4360335.0 L 689047.375,4360337.0 L 689079.125,4360340.0 L 689841.3125,4360455.0 L 689876.6875,4360468.0 L 690654.6875,4360897.0 L 691211.3125,4361238.0 L 691240.1875,4361265.0 L 691278.0,4361298.0 L 691317.125,4361329.0 L 691349.8125,4361354.0 L 691394.0,4361380.0 L 691457.1875,4361411.0 L 691499.0,4361419.0 L 691655.3125,4361418.0 L 692457.125,4361369.0 L 692802.8125,4361218.0 L 693485.5,4360955.0 L 693814.1875,4360871.0 L 693849.875,4360866.0 L 694118.5,4360842.0 L 694432.375,4360841.0 L 694469.1875,4360842.0 L 694531.3125,4360849.0 L 694551.375,4360854.0 L 694581.625,4360868.0 L 694641.0,4360882.0 L 694681.625,4360883.0 L 695345.125,4360820.0 L 695457.1875,4360807.0 L 695493.125,4360793.0 L 695535.375,4360776.0 L 695573.875,4360761.0 L 695616.1875,4360748.0 L 695708.3125,4360720.0 L 695751.8125,4360710.0 L 695811.625,4360701.0 L 696120.1875,4360655.0 L 696169.8125,4360656.0 L 696249.625,4360662.0 L 696639.6875,4360716.0 L 697402.875,4360612.0 L 697421.625,4360601.0 L 697440.875,4360590.0 L 697460.625,4360581.0 L 697480.6875,4360573.0 L 697501.1875,4360565.0 L 697522.0,4360559.0 L 697543.125,4360554.0 L 697564.375,4360549.0 L 697586.0,4360546.0 L 697607.6875,4360543.0 L 698333.3125,4360502.0 L 698356.1875,4360501.0 L 699381.875,4360485.0 L 699392.125,4360485.0 L 699446.625,4360489.0 L 699492.1875,4360495.0 L 699510.875,4360507.0 L 699529.625,4360524.0 L 699625.6875,4360652.0 L 699640.3125,4360680.0 L 700322.3125,4361012.0 L 700351.375,4361016.0 L 700403.3125,4361029.0 L 700446.125,4361041.0 L 700500.1875,4361065.0 L 700543.875,4361096.0 L 700709.875,4361222.0 L 700739.875,4361246.0 L 700757.0,4361271.0 L 700799.5,4361356.0 L 700910.375,4361609.0 L 700928.3125,4361660.0 L 700927.3125,4361702.0 L 700925.8125,4361764.0 L 700924.8125,4361806.0 L 700927.375,4361857.0 L 700942.875,4361951.0 L 700953.5,4361988.0 L 700971.875,4362016.0 L 700986.8125,4362032.0 L 701050.3125,4362084.0 L 701082.8125,4362109.0 L 701121.5,4362136.0 L 701434.5,4362330.0 L 701454.375,4362339.0 L 701475.3125,4362345.0 L 701496.8125,4362349.0 L 701518.625,4362349.0 L 701540.3125,4362347.0 L 701561.375,4362342.0 L 701581.6875,4362334.0 L 701600.8125,4362323.0 L 701618.3125,4362310.0 L 701633.875,4362295.0 L 701647.375,4362278.0 L 701658.625,4362259.0 L 701698.625,4362179.0 L 701752.625,4362014.0 L 701755.8125,4361993.0 L 701754.8125,4361971.0 L 701749.625,4361950.0 L 701740.375,4361930.0 L 701727.625,4361912.0 L 701711.625,4361898.0 L 701690.125,4361877.0 L 701677.125,4361859.0 L 701666.375,4361840.0 L 701658.3125,4361820.0 L 701653.0,4361799.0 L 701650.5,4361777.0 L 701650.8125,4361756.0 L 701659.625,4361688.0 L 701663.5,4361666.0 L 701671.375,4361646.0 L 701682.875,4361627.0 L 701697.6875,4361611.0 L 701715.125,4361598.0 L 701734.8125,4361589.0 L 701755.8125,4361583.0 z\" /></g></g></svg>"
      ],
      "text/plain": [
       "<shapely.geometry.multipolygon.MultiPolygon at 0x7f0d35f6f700>"
      ]
     },
     "execution_count": 141,
     "metadata": {},
     "output_type": "execute_result"
    }
   ],
   "source": [
    "lesvos"
   ]
  },
  {
   "cell_type": "code",
   "execution_count": 142,
   "id": "8ad37159",
   "metadata": {},
   "outputs": [
    {
     "data": {
      "text/plain": [
       "shapely.geometry.multipolygon.MultiPolygon"
      ]
     },
     "execution_count": 142,
     "metadata": {},
     "output_type": "execute_result"
    }
   ],
   "source": [
    "type(lesvos)"
   ]
  },
  {
   "cell_type": "markdown",
   "id": "53276f96",
   "metadata": {},
   "source": [
    "Η παραπάνω διαδικασία επιλογής επέστρεψε ένα shapely MultiPolygon object όπως φαίνεται.\n"
   ]
  },
  {
   "cell_type": "markdown",
   "id": "5caa4a00",
   "metadata": {},
   "source": [
    "Με την μέθοδο *dissolve* μπορούμε να συγχωνεύσουμε γεωμετρικά αντικείμενα βάση κάποιας στήλης. Αντικείμενα με ίδια τιμή θα συγχωνευθούν σε ενιαίο γεωμετρικό αντικείμενο."
   ]
  },
  {
   "cell_type": "code",
   "execution_count": 143,
   "id": "445f3d8f",
   "metadata": {},
   "outputs": [
    {
     "data": {
      "text/html": [
       "<div>\n",
       "<style scoped>\n",
       "    .dataframe tbody tr th:only-of-type {\n",
       "        vertical-align: middle;\n",
       "    }\n",
       "\n",
       "    .dataframe tbody tr th {\n",
       "        vertical-align: top;\n",
       "    }\n",
       "\n",
       "    .dataframe thead th {\n",
       "        text-align: right;\n",
       "    }\n",
       "</style>\n",
       "<table border=\"1\" class=\"dataframe\">\n",
       "  <thead>\n",
       "    <tr style=\"text-align: right;\">\n",
       "      <th></th>\n",
       "      <th>OBJECTID</th>\n",
       "      <th>X</th>\n",
       "      <th>Y</th>\n",
       "      <th>Name</th>\n",
       "      <th>PopM01</th>\n",
       "      <th>PopF01</th>\n",
       "      <th>PopTot01</th>\n",
       "      <th>UnemrM01</th>\n",
       "      <th>UnemrF01</th>\n",
       "      <th>UnemrT01</th>\n",
       "      <th>PrSect01</th>\n",
       "      <th>Foreig01</th>\n",
       "      <th>Income01</th>\n",
       "      <th>Perif</th>\n",
       "      <th>geometry</th>\n",
       "      <th>area</th>\n",
       "      <th>centroid</th>\n",
       "      <th>buffered</th>\n",
       "    </tr>\n",
       "    <tr>\n",
       "      <th>CodeELSTAT</th>\n",
       "      <th></th>\n",
       "      <th></th>\n",
       "      <th></th>\n",
       "      <th></th>\n",
       "      <th></th>\n",
       "      <th></th>\n",
       "      <th></th>\n",
       "      <th></th>\n",
       "      <th></th>\n",
       "      <th></th>\n",
       "      <th></th>\n",
       "      <th></th>\n",
       "      <th></th>\n",
       "      <th></th>\n",
       "      <th></th>\n",
       "      <th></th>\n",
       "      <th></th>\n",
       "      <th></th>\n",
       "    </tr>\n",
       "  </thead>\n",
       "  <tbody>\n",
       "    <tr>\n",
       "      <th>0101</th>\n",
       "      <td>1</td>\n",
       "      <td>616259.007833</td>\n",
       "      <td>4.551127e+06</td>\n",
       "      <td>KOMOTINIS</td>\n",
       "      <td>29967.0</td>\n",
       "      <td>31534.0</td>\n",
       "      <td>61501.0</td>\n",
       "      <td>4.726948</td>\n",
       "      <td>6.051873</td>\n",
       "      <td>5.221281</td>\n",
       "      <td>21.817852</td>\n",
       "      <td>1.996780</td>\n",
       "      <td>10969.315256</td>\n",
       "      <td>1</td>\n",
       "      <td>MULTIPOLYGON (((631058.735 4574912.809, 631431...</td>\n",
       "      <td>6470.182562</td>\n",
       "      <td>POINT (616259.008 4551127.241)</td>\n",
       "      <td>POLYGON ((636259.008 4551127.241, 636162.702 4...</td>\n",
       "    </tr>\n",
       "    <tr>\n",
       "      <th>0102</th>\n",
       "      <td>2</td>\n",
       "      <td>644783.135624</td>\n",
       "      <td>4.561364e+06</td>\n",
       "      <td>ARRIANON</td>\n",
       "      <td>8952.0</td>\n",
       "      <td>9307.0</td>\n",
       "      <td>18259.0</td>\n",
       "      <td>1.955813</td>\n",
       "      <td>2.390181</td>\n",
       "      <td>2.154240</td>\n",
       "      <td>92.912436</td>\n",
       "      <td>0.038337</td>\n",
       "      <td>6398.641486</td>\n",
       "      <td>1</td>\n",
       "      <td>MULTIPOLYGON (((661976.597 4554253.076, 662118...</td>\n",
       "      <td>7724.393191</td>\n",
       "      <td>POINT (644783.136 4561364.036)</td>\n",
       "      <td>POLYGON ((664783.136 4561364.036, 664686.830 4...</td>\n",
       "    </tr>\n",
       "    <tr>\n",
       "      <th>0103</th>\n",
       "      <td>3</td>\n",
       "      <td>602100.950461</td>\n",
       "      <td>4.555689e+06</td>\n",
       "      <td>IASMOU</td>\n",
       "      <td>7290.0</td>\n",
       "      <td>7561.0</td>\n",
       "      <td>14851.0</td>\n",
       "      <td>5.653884</td>\n",
       "      <td>6.671554</td>\n",
       "      <td>6.062390</td>\n",
       "      <td>70.206767</td>\n",
       "      <td>1.339977</td>\n",
       "      <td>6608.897469</td>\n",
       "      <td>1</td>\n",
       "      <td>MULTIPOLYGON (((603623.489 4566376.502, 603657...</td>\n",
       "      <td>4870.493148</td>\n",
       "      <td>POINT (602100.950 4555689.138)</td>\n",
       "      <td>POLYGON ((622100.950 4555689.138, 622004.645 4...</td>\n",
       "    </tr>\n",
       "    <tr>\n",
       "      <th>0104</th>\n",
       "      <td>4</td>\n",
       "      <td>633712.468442</td>\n",
       "      <td>4.539548e+06</td>\n",
       "      <td>MARONEIAS - SAPON</td>\n",
       "      <td>8284.0</td>\n",
       "      <td>8342.0</td>\n",
       "      <td>16626.0</td>\n",
       "      <td>5.840957</td>\n",
       "      <td>10.270499</td>\n",
       "      <td>7.421934</td>\n",
       "      <td>57.748085</td>\n",
       "      <td>0.890172</td>\n",
       "      <td>6700.375345</td>\n",
       "      <td>1</td>\n",
       "      <td>MULTIPOLYGON (((650998.525 4557469.860, 651446...</td>\n",
       "      <td>6441.606153</td>\n",
       "      <td>POINT (633712.468 4539548.490)</td>\n",
       "      <td>POLYGON ((653712.468 4539548.490, 653616.163 4...</td>\n",
       "    </tr>\n",
       "    <tr>\n",
       "      <th>0201</th>\n",
       "      <td>5</td>\n",
       "      <td>517831.195188</td>\n",
       "      <td>4.572544e+06</td>\n",
       "      <td>DRAMAS</td>\n",
       "      <td>28041.0</td>\n",
       "      <td>29326.0</td>\n",
       "      <td>57367.0</td>\n",
       "      <td>8.831689</td>\n",
       "      <td>14.176926</td>\n",
       "      <td>10.851115</td>\n",
       "      <td>7.298838</td>\n",
       "      <td>2.961633</td>\n",
       "      <td>11299.106498</td>\n",
       "      <td>2</td>\n",
       "      <td>MULTIPOLYGON (((521986.700 4601855.354, 522271...</td>\n",
       "      <td>8401.321201</td>\n",
       "      <td>POINT (517831.195 4572544.478)</td>\n",
       "      <td>POLYGON ((537831.195 4572544.478, 537734.890 4...</td>\n",
       "    </tr>\n",
       "  </tbody>\n",
       "</table>\n",
       "</div>"
      ],
      "text/plain": [
       "            OBJECTID              X             Y               Name   PopM01  \\\n",
       "CodeELSTAT                                                                      \n",
       "0101               1  616259.007833  4.551127e+06          KOMOTINIS  29967.0   \n",
       "0102               2  644783.135624  4.561364e+06           ARRIANON   8952.0   \n",
       "0103               3  602100.950461  4.555689e+06             IASMOU   7290.0   \n",
       "0104               4  633712.468442  4.539548e+06  MARONEIAS - SAPON   8284.0   \n",
       "0201               5  517831.195188  4.572544e+06             DRAMAS  28041.0   \n",
       "\n",
       "             PopF01  PopTot01  UnemrM01   UnemrF01   UnemrT01   PrSect01  \\\n",
       "CodeELSTAT                                                                 \n",
       "0101        31534.0   61501.0  4.726948   6.051873   5.221281  21.817852   \n",
       "0102         9307.0   18259.0  1.955813   2.390181   2.154240  92.912436   \n",
       "0103         7561.0   14851.0  5.653884   6.671554   6.062390  70.206767   \n",
       "0104         8342.0   16626.0  5.840957  10.270499   7.421934  57.748085   \n",
       "0201        29326.0   57367.0  8.831689  14.176926  10.851115   7.298838   \n",
       "\n",
       "            Foreig01      Income01  Perif  \\\n",
       "CodeELSTAT                                  \n",
       "0101        1.996780  10969.315256      1   \n",
       "0102        0.038337   6398.641486      1   \n",
       "0103        1.339977   6608.897469      1   \n",
       "0104        0.890172   6700.375345      1   \n",
       "0201        2.961633  11299.106498      2   \n",
       "\n",
       "                                                     geometry         area  \\\n",
       "CodeELSTAT                                                                   \n",
       "0101        MULTIPOLYGON (((631058.735 4574912.809, 631431...  6470.182562   \n",
       "0102        MULTIPOLYGON (((661976.597 4554253.076, 662118...  7724.393191   \n",
       "0103        MULTIPOLYGON (((603623.489 4566376.502, 603657...  4870.493148   \n",
       "0104        MULTIPOLYGON (((650998.525 4557469.860, 651446...  6441.606153   \n",
       "0201        MULTIPOLYGON (((521986.700 4601855.354, 522271...  8401.321201   \n",
       "\n",
       "                                  centroid  \\\n",
       "CodeELSTAT                                   \n",
       "0101        POINT (616259.008 4551127.241)   \n",
       "0102        POINT (644783.136 4561364.036)   \n",
       "0103        POINT (602100.950 4555689.138)   \n",
       "0104        POINT (633712.468 4539548.490)   \n",
       "0201        POINT (517831.195 4572544.478)   \n",
       "\n",
       "                                                     buffered  \n",
       "CodeELSTAT                                                     \n",
       "0101        POLYGON ((636259.008 4551127.241, 636162.702 4...  \n",
       "0102        POLYGON ((664783.136 4561364.036, 664686.830 4...  \n",
       "0103        POLYGON ((622100.950 4555689.138, 622004.645 4...  \n",
       "0104        POLYGON ((653712.468 4539548.490, 653616.163 4...  \n",
       "0201        POLYGON ((537831.195 4572544.478, 537734.890 4...  "
      ]
     },
     "execution_count": 143,
     "metadata": {},
     "output_type": "execute_result"
    }
   ],
   "source": [
    "dhmoi.head()"
   ]
  },
  {
   "cell_type": "code",
   "execution_count": 144,
   "id": "8a0b692f",
   "metadata": {},
   "outputs": [],
   "source": [
    "nomoi = dhmoi.dissolve(by='Perif')"
   ]
  },
  {
   "cell_type": "code",
   "execution_count": 145,
   "id": "1f82d706",
   "metadata": {},
   "outputs": [
    {
     "data": {
      "text/plain": [
       "<AxesSubplot:>"
      ]
     },
     "execution_count": 145,
     "metadata": {},
     "output_type": "execute_result"
    },
    {
     "data": {
      "image/png": "[encoded data removed]",
      "text/plain": [
       "<Figure size 432x288 with 1 Axes>"
      ]
     },
     "metadata": {
      "needs_background": "light"
     },
     "output_type": "display_data"
    }
   ],
   "source": [
    "dhmoi.plot()"
   ]
  },
  {
   "cell_type": "code",
   "execution_count": 146,
   "id": "06cdf67d",
   "metadata": {},
   "outputs": [
    {
     "data": {
      "text/plain": [
       "<AxesSubplot:>"
      ]
     },
     "execution_count": 146,
     "metadata": {},
     "output_type": "execute_result"
    },
    {
     "data": {
      "image/png": "[encoded data removed]",
      "text/plain": [
       "<Figure size 432x288 with 1 Axes>"
      ]
     },
     "metadata": {
      "needs_background": "light"
     },
     "output_type": "display_data"
    }
   ],
   "source": [
    "nomoi.plot()"
   ]
  },
  {
   "cell_type": "markdown",
   "id": "4fb03e80",
   "metadata": {},
   "source": [
    "Επιπλεόν κατά την συγχώνευση μπορούμε να εφαρμόσουμε μια συνάρτηση στις αριθμητικές στήλες π.χ. *mean* ή *sum*."
   ]
  },
  {
   "cell_type": "code",
   "execution_count": 147,
   "id": "916a3621",
   "metadata": {},
   "outputs": [],
   "source": [
    "nomoi = dhmoi.dissolve(by='Perif', aggfunc='mean')"
   ]
  },
  {
   "cell_type": "code",
   "execution_count": 148,
   "id": "fd946231",
   "metadata": {},
   "outputs": [
    {
     "data": {
      "text/plain": [
       "<AxesSubplot:>"
      ]
     },
     "execution_count": 148,
     "metadata": {},
     "output_type": "execute_result"
    },
    {
     "data": {
      "image/png": "[encoded data removed]",
      "text/plain": [
       "<Figure size 576x576 with 1 Axes>"
      ]
     },
     "metadata": {
      "needs_background": "light"
     },
     "output_type": "display_data"
    }
   ],
   "source": [
    "nomoi.plot(column = 'Income01', scheme='quantiles', edgecolor='black',  linewidth=0.5, cmap='YlOrRd',legend=True, figsize=(8, 8))"
   ]
  },
  {
   "cell_type": "markdown",
   "id": "283bdfa2",
   "metadata": {},
   "source": [
    "##  Βιβλιογραφία:\n",
    "\n",
    "- Kalogirou S., 2020, Local Correlation, Spatial Inequalities, Geographically Weighted Regression and Other Tools (R package)\n",
    "- GeoPandas, https://geopandas.org/, Πρόσβαση: 29/05/2022\n",
    "- Prapas I., Analyze Geospatial Data in Python: GeoPandas and Shapely, https://www.learndatasci.com/tutorials/geospatial-data-python-geopandas-shapely/, Πρόσβαση: 29/05/2022\n",
    "- Dorman M., 2022, VECTOR LAYERS, Geometries (shapely), https://geobgu.xyz/py/shapely.html, Πρόσβαση: 29/05/2022\n",
    "- Wasser, Leah, Korinek, Nathan, & Palomino, Jenny. (2021). earthlab/earth-analytics-intermediate-earth-data-science-textbook: one more license fix (1.0.4) [Computer software]. Zenodo. https://doi.org/10.5281/zenodo.5571001"
   ]
  }
 ],
 "metadata": {
  "kernelspec": {
   "display_name": "Python 3",
   "language": "python",
   "name": "python3"
  },
  "language_info": {
   "codemirror_mode": {
    "name": "ipython",
    "version": 3
   },
   "file_extension": ".py",
   "mimetype": "text/x-python",
   "name": "python",
   "nbconvert_exporter": "python",
   "pygments_lexer": "ipython3",
   "version": "3.9.16"
  }
 },
 "nbformat": 4,
 "nbformat_minor": 5
}