{
 "cells": [
  {
   "cell_type": "markdown",
   "id": "22687f30",
   "metadata": {},
   "source": [
    "# 5. Έλεγχος ροής εκτέλεσης\n",
    "\n",
    "Όλες οι γλώσσες προγραμματισμού απαρτίζονται από μια σειρά από προγραμματιστικές δομές.\n",
    "Οι τρεις βασικές δομές ελέγχου ροής προγράμματος είναι \n",
    "η δομή της ακολουθίας εντολών, \n",
    "η δομή της απόφασης και \n",
    "η δομή της επανάληψης.\n",
    " Κάποιες από αυτές αντιστοιχούν σε περισσότερες από μία εντολές {cite}`Manis2015`.\n",
    "\n",
    "\n",
    "\n",
    "\n",
    "## Η λογική boolean\n",
    "Για την υλοποίηση των δομών απόφασης χρησιμοποιείται η λογική **boolean** κατά την οποία ελέγχονται μία ή περισσότερες συνθήκες\n",
    "και ανάλογα το αποτέλεσμα επιλέγεται ποια ακολουθία εντολών θα εκτελεστεί.\n",
    "Το όνομα **boolean** προέρχεται από τον\n",
    "Βρετανό Μαθηματικό George Boole, ο οποίος εισήγαγε την ομώνυμη άλγεβρα\n",
    "που αφορά σε λογικούς κανόνες συνδυασμού των δύο τιμών True (Αληθής ) και\n",
    "False (Ψευδής). Οι τιμές αυτές ονομάζονται λογικές ή Boolean και ο τύπος\n",
    "τους στην Python είναι ο bool {cite}`Aggelidakis2015`."
   ]
  },
  {
   "cell_type": "code",
   "execution_count": 1,
   "id": "6190d77f",
   "metadata": {},
   "outputs": [
    {
     "data": {
      "text/plain": [
       "bool"
      ]
     },
     "execution_count": 1,
     "metadata": {},
     "output_type": "execute_result"
    }
   ],
   "source": [
    "type(False)"
   ]
  },
  {
   "cell_type": "markdown",
   "id": "6cdfedd9",
   "metadata": {},
   "source": [
    "Μία μεταβλητή μπορεί να δείχνει και σε μία τιμή\n",
    "τύπου bool. Για παράδειγμα:"
   ]
  },
  {
   "cell_type": "code",
   "execution_count": 2,
   "id": "f6fa16ed",
   "metadata": {},
   "outputs": [
    {
     "data": {
      "text/plain": [
       "bool"
      ]
     },
     "execution_count": 2,
     "metadata": {},
     "output_type": "execute_result"
    }
   ],
   "source": [
    "raining=True\n",
    "type(raining)"
   ]
  },
  {
   "cell_type": "markdown",
   "id": "807ec8b4",
   "metadata": {},
   "source": [
    "Οι λογικές μεταβλητές είναι μεταβλητές οι οποίες διέπονται από την δυαδική λογική στην επιστήμη της πληροφορικής (1 και 0) και παίρνουν δύο τιμές *True*\n",
    "ή *False*. Ουσιαστικά πρόκεται για συνώνυμα του 1 (True) και 0 (False)."
   ]
  },
  {
   "cell_type": "code",
   "execution_count": 3,
   "id": "0d76be1b",
   "metadata": {},
   "outputs": [
    {
     "data": {
      "text/plain": [
       "42"
      ]
     },
     "execution_count": 3,
     "metadata": {},
     "output_type": "execute_result"
    }
   ],
   "source": [
    "True+True\n",
    "42 * True + False"
   ]
  },
  {
   "cell_type": "markdown",
   "id": "ee89f0de",
   "metadata": {},
   "source": [
    "Ο συνδυασμός των Boolean τιμών γίνεται\n",
    "με τη χρήση τριών βασικών λογικών τελεστών:\n",
    "**not**, **and** και **or**. Οι τελεστές αυτοί\n",
    "συμβολίζουν λογικές πράξεις (όχι, και , ή) και\n",
    "βοηθούν στη λήψη αποφάσεων σε ένα\n",
    "πρόγραμμα. Η σημαντική τους είναι πολύ παρόμοια με την καθημερινή τους\n",
    "σημασία  {cite}`Aggelidakis2015`. \n",
    "Ας υποθέσουμε ότι *A* και *B* είναι δύο μεταβλητές που δείχνουν σε\n",
    "Boolean τιμές ή δύο εκφράσεις (ονομάζονται λογικές ή Boolean) που\n",
    "αποτιμώνται σε Boolean τιμές. Ο επόμενος πίνακας, ο οποίος ονομάζεται\n",
    "πίνακας αληθείας, περιέχει τις τιμές που επιστρέφουν οι τρεις λογικές πράξεις\n",
    "για όλους τους συνδυασμούς τιμών των *A* και *B*.\n",
    "\n",
    "```{figure} ../images/nl0W8.jpg\n",
    ":name: figure-truthtable\n",
    "\n",
    "Πίνακας αληθείας για τους βασικούς λογικούς τελεστές.\n",
    "```\n",
    "\n",
    "Η λογική έκφραση not *Α*  είναι αληθής, όταν η*Α*  ψευδής, και ψευδής,\n",
    "όταν η *Α*  είναι αληθής. Η λογική έκφραση *Α*  and *B*  είναι αληθής μόνο όταν\n",
    "και η *Α* και η *Β* είναι αληθείς, σε κάθε άλλη περίπτωση είναι ψευδής. Η\n",
    "λογική έκφραση *Α* or *Β* είναι αληθής όταν η *Α* είναι αληθής ή η *Β* είναι\n",
    "αληθής, ή όταν και οι δύο είναι αληθείς.\n",
    "\n",
    "Όταν χρησιμοποιούμε τον όρο **and** σημαίνει ότι και οι δύο προτάσεις πρέπει να είναι αληθείς για να αποδόσουν αληθές αποτέλεσμα.\n",
    "true.\n",
    "\n",
    "Γενικά μπορούμε να συνοψίσουμε την χρήση του τελεστή **and** και την σύγκριση ανάμεσα σε τιμές boolean με βάση των παρακάτω πίνακα {cite}`Heisler2021`:\n",
    "\n",
    "| Συνδυασμός με τον τελεστή and \t| Αποτέλεσμα \t|\n",
    "|---------------------------------\t|-------------\t|\n",
    "| True and True                   \t| True        \t|\n",
    "| True and False                  \t| False       \t|\n",
    "| False and True                  \t| False       \t|\n",
    "| False and False                 \t| False       \t|\n",
    "\n",
    "Με την χρήση του όρου **or** αρκεί μία από τις δύο προτάσεις να είναι True για να αποδόσει αποτέλεσμα αληθές. \n",
    "Αυτό φαίνεται πιο καλά στο παραπάνω πίνακα:\n",
    "\n",
    "| Συνδυασμός με τον τελεστή or \t| Αποτέλεσμα \t|\n",
    "|---------------------------------\t|-------------\t|\n",
    "| True or True                   \t| True        \t|\n",
    "| True or False                  \t| True       \t|\n",
    "| False or True                  \t| True       \t|\n",
    "| False or False                 \t| False       \t|\n",
    "\n",
    "\n",
    "\n",
    "Τέλος με την χρήση του όρου **not** αντιστρέφεται η τιμή True ή False μιας πρότασης.\n",
    "\n",
    "\n",
    "| Επίδραση του τελεστή not \t| Αποτέλεσμα \t|\n",
    "|---------------------------------\t|-------------\t|\n",
    "| not True                  \t| False        \t|\n",
    "| not False                  \t| True       \t|\n",
    "\n",
    "\n",
    "Φυσικά μπορούμε να συνδυάσουμε να συνδυάσμουμε τους όρους **and** **or** και **not** και να διαχωρίσουμε τις συγκρίσεις με παρανθέσεις ώστε να δημιουργήσουμε πιο σύνθετες εκφράσεις σύγκρισης:"
   ]
  },
  {
   "cell_type": "code",
   "execution_count": 4,
   "id": "995c38e8",
   "metadata": {},
   "outputs": [
    {
     "data": {
      "text/plain": [
       "False"
      ]
     },
     "execution_count": 4,
     "metadata": {},
     "output_type": "execute_result"
    }
   ],
   "source": [
    " False or (False and True)"
   ]
  },
  {
   "cell_type": "code",
   "execution_count": 5,
   "id": "e67a6c5a",
   "metadata": {},
   "outputs": [
    {
     "data": {
      "text/plain": [
       "True"
      ]
     },
     "execution_count": 5,
     "metadata": {},
     "output_type": "execute_result"
    }
   ],
   "source": [
    "  True and (False or True)"
   ]
  },
  {
   "cell_type": "code",
   "execution_count": 6,
   "id": "d018a320",
   "metadata": {},
   "outputs": [
    {
     "data": {
      "text/plain": [
       "True"
      ]
     },
     "execution_count": 6,
     "metadata": {},
     "output_type": "execute_result"
    }
   ],
   "source": [
    " (not False) or True"
   ]
  },
  {
   "cell_type": "code",
   "execution_count": 7,
   "id": "ef9aafc6",
   "metadata": {},
   "outputs": [
    {
     "data": {
      "text/plain": [
       "True"
      ]
     },
     "execution_count": 7,
     "metadata": {},
     "output_type": "execute_result"
    }
   ],
   "source": [
    "False or (not False)"
   ]
  },
  {
   "cell_type": "markdown",
   "id": "a0c4a5c8",
   "metadata": {},
   "source": [
    "Σε μία λογική έκφραση μπορούμε να\n",
    "έχουμε και τελεστές σύγκρισης. Η Python έχει 6 τελεστές σύγκρισης:\n",
    "\n",
    "Μικρότερο από ( < )\n",
    "Μικρότερο/ίσο από (<=)\n",
    "Μεγαλύτερο από (>)\n",
    "Μεγαλύτερο/ίσο από (>=)\n",
    "Ίσο με( == )\n",
    "Διαφορετικό από ( != )\n",
    "Αυτοί οι τελεστές συγκρίνουν δύο τιμές και επιστρέφουν μια τιμή τύπου boolean δηλαδή είτε *True* είτε *False*.\n",
    "\n",
    "Οι λογικές εκφράσεις χρησιμοποιούν παρενθέσεις και κανόνες\n",
    "προτεραιότητας, για να καθορίσουν τη σειρά αποτίμησης των τμημάτων από τα\n",
    "οποία αποτελούνται. Οι εκφράσεις μέσα σε παρενθέσεις αποτιμώνται πρώτες. Η\n",
    "προτεραιότητα των τελεστών, από τη μεγαλύτερη στη μικρότερη, είναι οι εξής:\n",
    "\n",
    "<, >, <=, >=, !=, ==, not, and, or.\n",
    "\n",
    "\n",
    "```{warning} Προσοχή!\n",
    "Δεν πρέπει να συγχέεται ο τελεστής εκχώρησης τιμών σε μεταβλητή **=** με τον τελεστή ισότητας **==**.\n",
    "```\n",
    "Μερικά παραδείγματα τελεστών σύγκρισης"
   ]
  },
  {
   "cell_type": "code",
   "execution_count": 8,
   "id": "c8237a36",
   "metadata": {},
   "outputs": [
    {
     "name": "stdout",
     "output_type": "stream",
     "text": [
      "True\n",
      "False\n"
     ]
    }
   ],
   "source": [
    "print(1 != 2)\n",
    "print(1 != 1)\n"
   ]
  },
  {
   "cell_type": "code",
   "execution_count": 9,
   "id": "a000006a",
   "metadata": {},
   "outputs": [
    {
     "name": "stdout",
     "output_type": "stream",
     "text": [
      "False\n",
      "False\n"
     ]
    }
   ],
   "source": [
    "a = 1\n",
    "b = 2\n",
    "print(a == b)\n",
    "a = b\n",
    "a==b\n",
    "print(a!=b)\n"
   ]
  },
  {
   "cell_type": "code",
   "execution_count": 10,
   "id": "b2bb4c2a",
   "metadata": {},
   "outputs": [
    {
     "data": {
      "text/plain": [
       "True"
      ]
     },
     "execution_count": 10,
     "metadata": {},
     "output_type": "execute_result"
    }
   ],
   "source": [
    " 1< 2 and 3 < 4 "
   ]
  },
  {
   "cell_type": "code",
   "execution_count": 11,
   "id": "78a55ccb",
   "metadata": {},
   "outputs": [
    {
     "data": {
      "text/plain": [
       "False"
      ]
     },
     "execution_count": 11,
     "metadata": {},
     "output_type": "execute_result"
    }
   ],
   "source": [
    " 2< 1 and 4 < 3"
   ]
  },
  {
   "cell_type": "code",
   "execution_count": 12,
   "id": "6ca48881",
   "metadata": {},
   "outputs": [
    {
     "data": {
      "text/plain": [
       "False"
      ]
     },
     "execution_count": 12,
     "metadata": {},
     "output_type": "execute_result"
    }
   ],
   "source": [
    " 1< 2 and 4 < 3 "
   ]
  },
  {
   "cell_type": "code",
   "execution_count": 13,
   "id": "b4f11b86",
   "metadata": {},
   "outputs": [
    {
     "data": {
      "text/plain": [
       "False"
      ]
     },
     "execution_count": 13,
     "metadata": {},
     "output_type": "execute_result"
    }
   ],
   "source": [
    "2< 1 and 3 < 4 "
   ]
  },
  {
   "cell_type": "markdown",
   "id": "8f8e317b",
   "metadata": {},
   "source": [
    "Τους τελεστές σύγκρισης μπορούμε να τους χρησιμοποιήσουμε και με συμβολοσειρές:"
   ]
  },
  {
   "cell_type": "code",
   "execution_count": 14,
   "id": "8b180108",
   "metadata": {},
   "outputs": [
    {
     "data": {
      "text/plain": [
       "False"
      ]
     },
     "execution_count": 14,
     "metadata": {},
     "output_type": "execute_result"
    }
   ],
   "source": [
    " \"dog\" == \"cat\"\n"
   ]
  },
  {
   "cell_type": "code",
   "execution_count": 15,
   "id": "0eacd25c",
   "metadata": {},
   "outputs": [
    {
     "data": {
      "text/plain": [
       "True"
      ]
     },
     "execution_count": 15,
     "metadata": {},
     "output_type": "execute_result"
    }
   ],
   "source": [
    " \"dog\" == \"dog\"\n"
   ]
  },
  {
   "cell_type": "code",
   "execution_count": 16,
   "id": "894f6038",
   "metadata": {},
   "outputs": [
    {
     "data": {
      "text/plain": [
       "True"
      ]
     },
     "execution_count": 16,
     "metadata": {},
     "output_type": "execute_result"
    }
   ],
   "source": [
    " \"dog\" != \"cat\"\n"
   ]
  },
  {
   "cell_type": "markdown",
   "id": "81d6dbbe",
   "metadata": {},
   "source": [
    "Για να είναι δύο συμβολοσειρές ίσες πρέπει να έχουν ακριβώς την ίδια τιμή. \n",
    "Διαφοροποιήσεις ανάμεσα σε κεφαλαία ή μικρά ή η ύπαρξη κενών ανάμεσα σε δύο μεταβλητές συμβολοσειρών θα αποδόσει False σε μια έκφραση σύγκρισης ισότητας δηλαδή ότι οι δύο συμβολοσειρές δεν είναι ίσες.\n",
    "\n",
    "Μπορούμε να συνδυάσουμε τους τελεστές σύγκρισης με λογικές τιμές boolean και τους λογικούς τελεστές **or**, **and** και **not**. \n",
    "\n",
    "Για παράδειγμα:"
   ]
  },
  {
   "cell_type": "code",
   "execution_count": 17,
   "id": "55ec4ab3",
   "metadata": {},
   "outputs": [
    {
     "data": {
      "text/plain": [
       "True"
      ]
     },
     "execution_count": 17,
     "metadata": {},
     "output_type": "execute_result"
    }
   ],
   "source": [
    " True and not (1 != 1)\n"
   ]
  },
  {
   "cell_type": "code",
   "execution_count": 18,
   "id": "5c8408d9",
   "metadata": {},
   "outputs": [
    {
     "data": {
      "text/plain": [
       "True"
      ]
     },
     "execution_count": 18,
     "metadata": {},
     "output_type": "execute_result"
    }
   ],
   "source": [
    "(\"A\" != \"A\") or not (2 >= 3)"
   ]
  },
  {
   "cell_type": "markdown",
   "id": "09c20a33",
   "metadata": {},
   "source": [
    "## α. Η δομή της ακολουθίας εντολών\n",
    "\n",
    "Οι εντολές σε ένα πρόγραμμα εκτελούνται σειριακά η μία μετά την άλλη\n",
    "ξεκινώντας από την πρώτη. Τελειώνει η εκτέλεση μίας εντολής και ακολου-\n",
    "θεί η εκτέλεση της επόμενης. Κάθε εντολή θα εκτελεστεί ακριβώς μία φορά,\n",
    "χωρίς δηλαδή να παραλειφθεί καμία από αυτές ή να επιστρέψουμε για να ξα-\n",
    "ναεκτελέσουμε κάποια.\n",
    "Παρακάτω δίνεται ένα χαρακτηριστικό παράδειγμα δομής ακολουθίας εντολών."
   ]
  },
  {
   "cell_type": "code",
   "execution_count": 19,
   "id": "368e4ae1",
   "metadata": {},
   "outputs": [
    {
     "name": "stdout",
     "output_type": "stream",
     "text": [
      "6\n"
     ]
    }
   ],
   "source": [
    "A=1\n",
    "B=5\n",
    "C=A+B\n",
    "print(C)"
   ]
  },
  {
   "cell_type": "markdown",
   "id": "7846a52e",
   "metadata": {},
   "source": [
    "Σε αυτό το παράδειγμα οι εντολές εκτελούνται στο σύνολό τους, διαδοχικά η μία μετά την άλλη.\n",
    "\n",
    "\n",
    "## β. Η δομή της απόφασης \n",
    "\n",
    "Στη δομή της απόφασης έχουμε μία περισσότερο πολύπλοκη δομή, στην\n",
    "οποία ο έλεγχος του προγράμματος καλείται να επιλέξει ανάμεσα σε δύο ή και\n",
    "περισσότερες διαφορετικές διαδρομές ανάλογα με το αν ισχύει ή όχι κάποια ή\n",
    "κάποιες συνθήκες. Για την υλοποίηση της απόφασης, κάθε γλώσσα μπορεί να\n",
    "έχει μία ή περισσότερες δομές. Η πιο συνηθισμένη είναι η δομή **if**, ενώ υπάρχει\n",
    "συνήθως και μία δομή για πολλαπλή απόφαση. Η Python έχει την **if-elif-else** για\n",
    "να υλοποιήσει την απόφαση, αλλά δεν έχει δομή για την πολλαπλή απόφαση\n",
    "και χρησιμοποιεί την **if-elif-else** για τον σκοπό αυτόν {cite}`Manis2015`. \n",
    "\n",
    "Η εντολή **if** χρησιμοποείται για έλεγχο της ροής εκτέλεσης ενός\n",
    "προγράμματος. Ελέγχεται μία συνθήκη και ανάλογα με το αποτέλεσμα (Αληθής ή\n",
    "Ψευδής) εκτελείται ή δεν εκτελείται μία ή κάποια άλλη ομάδα (μπλοκ) εντολών {cite}`Aggelidakis2015`.\n",
    "Η εντολή if συντάσσεται ως εξής:\n",
    "\n",
    "\n",
    "```\n",
    "if συνθήκη:\n",
    "\n",
    "    μπλοκ εντολών 1 (true_block)\n",
    "\n",
    "else:\n",
    "    μπλοκ εντολών  (false_block)\n",
    "\n",
    "\n",
    "```\n",
    "\n",
    "\n",
    "Κατά την εκτέλεση του παρακάτω κώδικα η Python θα δοκιμάσει  την έκφραση (expression). Αν επιστρέψει True τότε θα εκτελέσει τις προτάσεις κώδικα που περιλαμβάνει η ενότητα true_block.\n",
    "Αν επιστρέψει όμως False θα εκτελέσει τις εντολές στην ενότητα false_block.\n",
    "Στην πιο απλή της μορφή η δομή της απόφασης μπορεί να παραλείπει το else τμήμα και το αντίστοιχο μπλοκ εντολών δηλ:\n",
    "\n",
    "```\n",
    "if συνθήκη:\n",
    "\n",
    "    μπλοκ εντολών  (true_block)\n",
    "\n",
    "```\n",
    "\n",
    "\n",
    "Παρατηρήστε ότι η εντολή if μετά τον έλεγχο της συνθήκης κλείνει με : και στην συνέχεια ακολουθούν με εσοχή (indentation) οι εντολές/προτάσεις που θα εκτελεστούν εφόσον αληθεύει το αποτέλεσμα του ελέγχου.\n",
    "Από : ακολουθείται και η εντολή else. Το μπλοκ της εντολής ονομάζεται σώμα (body). Πρέπει να περιέχει υποχρεωτικά μια εντολή. Αν προσωρινά δεν θέλουμε να περιέχει κάποια εντολή μπορούμε να εισάγουμε την εντολή\n",
    "**pass**. Ιδιαίτερη σημασία πρέπει να δίνεται κατά την σύνταξη κατά την χρήση δηλαδή του σημείου : και την εσοχή των εντολών.\n",
    "Παρακάτων δίνεται ένα απλό παράδειγμα δομής απόφασης:"
   ]
  },
  {
   "cell_type": "code",
   "execution_count": 20,
   "id": "94e166dc",
   "metadata": {},
   "outputs": [
    {
     "name": "stdout",
     "output_type": "stream",
     "text": [
      "Είστε υπέρβαρος.Παρακαλώ αποφύγετε τον ανελκυστήρα.\n",
      "Ευχαριστούμε για την συνεργασία.\n"
     ]
    }
   ],
   "source": [
    "weight = 100\n",
    "if weight > 90:\n",
    "    print(\"Είστε υπέρβαρος.Παρακαλώ αποφύγετε τον ανελκυστήρα.\")\n",
    "print(\"Ευχαριστούμε για την συνεργασία.\")\n"
   ]
  },
  {
   "cell_type": "markdown",
   "id": "42f68958",
   "metadata": {},
   "source": [
    "Παράδειγμα κώδικα if-else:"
   ]
  },
  {
   "cell_type": "code",
   "execution_count": 21,
   "id": "8d60dc1a",
   "metadata": {},
   "outputs": [
    {
     "name": "stdout",
     "output_type": "stream",
     "text": [
      "Φορέστε μακρυμάνικα.\n",
      "Ευχαριστώ.\n"
     ]
    }
   ],
   "source": [
    "temperature = 20\n",
    "if temperature > 30:\n",
    "    print('Φορέστε κοντομάνικα.')\n",
    "else:\n",
    "    print('Φορέστε μακρυμάνικα.')\n",
    "print('Ευχαριστώ.')"
   ]
  },
  {
   "cell_type": "markdown",
   "id": "f1b91517",
   "metadata": {},
   "source": [
    "Για να προσθέσουμε περισσότερες επιλογές κατά τον έλεγχο συνθηκών χρησιμοποιούμε την σύνταξη if-elif-else:"
   ]
  },
  {
   "cell_type": "code",
   "execution_count": 22,
   "id": "860e641f",
   "metadata": {},
   "outputs": [],
   "source": [
    "score=90\n",
    "if score >= 90:\n",
    "    letter = 'A'\n",
    "elif score >= 80:\n",
    "    letter = 'B'\n",
    "elif score >= 70:\n",
    "    letter = 'C'\n",
    "elif score >= 60:\n",
    "    letter = 'D'\n",
    "else:\n",
    "    letter = 'F'"
   ]
  },
  {
   "cell_type": "markdown",
   "id": "d2d33a2f",
   "metadata": {},
   "source": [
    "Οι συνθήκες if είναι δυνατόν να είναι αλυσιδωτές (εμφωλευμένες)\n",
    " δηλαδή if πρόταση μέσα σε άλλη if πρόταση:"
   ]
  },
  {
   "cell_type": "code",
   "execution_count": 23,
   "id": "69b9cee1",
   "metadata": {},
   "outputs": [
    {
     "name": "stdout",
     "output_type": "stream",
     "text": [
      "Ο αριθμός είναι θετικός\n"
     ]
    }
   ],
   "source": [
    "num = 15\n",
    "if num >= 0:\n",
    "    if num == 0:\n",
    "        print(\"Ο αριθμός δεν είναι ούτε αρνητικός ούτε θετικός\")\n",
    "    else:\n",
    "        print(\"Ο αριθμός είναι θετικός\")\n",
    "else:\n",
    "    print(\"Ο αριθμός είναι θετικός\")"
   ]
  },
  {
   "cell_type": "markdown",
   "id": "72b52e2c",
   "metadata": {},
   "source": [
    "## γ. η δομή της επανάληψης\n",
    "\n",
    "Η δομή της επανάληψης είναι μια μορφή κώδικα κατά την οποία περιλαμβάνει εντολές οι οποίες εκτελούνται επαναληπτικά για όσο τηρείται μια συνθήκη.\n",
    "Με αυτόν τον τρόπο αποφεύγεται η επανάληψη της συγγραφής του ίδιου κώδικα πολλές φορές.\n",
    "Στο παρακάτω τμήμα κώδικα είναι χαρακτηριστικό πως επαναλαμβάνεται ο ίδιος κώδικα πολλές φορές."
   ]
  },
  {
   "cell_type": "code",
   "execution_count": 24,
   "id": "eb4d7bec",
   "metadata": {},
   "outputs": [
    {
     "name": "stdout",
     "output_type": "stream",
     "text": [
      "Hello World\n",
      "Hello World\n",
      "Hello World\n",
      "Hello World\n",
      "Hello World\n"
     ]
    }
   ],
   "source": [
    "print(\"Hello World\")\n",
    "print(\"Hello World\")\n",
    "print(\"Hello World\")\n",
    "print(\"Hello World\")\n",
    "print(\"Hello World\")"
   ]
  },
  {
   "cell_type": "markdown",
   "id": "e589d223",
   "metadata": {},
   "source": [
    "Αυτό όμως θα μπορούσε να αποφευχθεί με την χρήση μια δομής επανάληψης. Μια δομή επανάληψη ονομάζεται και βρόγχος (loop).\n",
    "Οι δομές επανάληψης διαχωρίζονται σε 3 κατηγορίες:\n",
    "- ο βρόγχος **while**, ο οποίος επαναλαμβάνει μια πρόταση ή μια σειρά προτάσεων όσο ισχύει μια συνθήκη. Κάθε φορά που επαναλαμβάνεται ένας κύκλος εκτέλεσης δοκιμάζεται αν ισχύει η συνθήκη αυτή.\n",
    "- ο βρόγχος **for**, κατά τον οποίο επαναλαμβάνεται μια σειρά προτάσεων για κάθε ένα στοιχείο μιας ακολουθίας δεδομένων (πχ λίστας, πλειάδας, λεξικού κτλ.). \n",
    "- εμφωλευμένοι βρόγχοι, που ουσιαστικά πρόκειται για συνδυασμό βρόγχων while ή for. Έτσι μπορούμε να δομήσουμε ένα βρόγχο while μέσα σε έναν for, έναν for μέσα σε έναν while, έναν for μέσα σε έναν for και έναν while μέσα σε έναν while.\n",
    "\n",
    "Παρακάτω δίνονται παραδείγματα για την κάθε κατηγορία.\n",
    "\n",
    "\n",
    "**Βρόγχος while**"
   ]
  },
  {
   "cell_type": "code",
   "execution_count": 25,
   "id": "edf20054",
   "metadata": {},
   "outputs": [
    {
     "name": "stdout",
     "output_type": "stream",
     "text": [
      "Hello World\n",
      "Hello World\n",
      "Hello World\n",
      "Hello World\n",
      "Hello World\n",
      "Hello World\n",
      "Hello World\n",
      "Hello World\n",
      "Hello World\n",
      "Hello World\n"
     ]
    }
   ],
   "source": [
    "count = 0\n",
    "while (count < 10):   \n",
    "    count = count + 1\n",
    "    print(\"Hello World\")"
   ]
  },
  {
   "cell_type": "markdown",
   "id": "03229614",
   "metadata": {},
   "source": [
    "**Βρόγχος for**"
   ]
  },
  {
   "cell_type": "code",
   "execution_count": 26,
   "id": "ad0eca5a",
   "metadata": {},
   "outputs": [
    {
     "name": "stdout",
     "output_type": "stream",
     "text": [
      "Μήλο\n",
      "Κεράσι\n",
      "Αχλάδι\n"
     ]
    }
   ],
   "source": [
    "fruits = [\"Μήλο\", \"Κεράσι\", \"Αχλάδι\"]\n",
    "for x in fruits:\n",
    "  print(x)"
   ]
  },
  {
   "cell_type": "markdown",
   "id": "3e35a5f6",
   "metadata": {},
   "source": [
    "**εμφωλευμένοι βρόγχοι** (for μέσα σε for)"
   ]
  },
  {
   "cell_type": "code",
   "execution_count": 27,
   "id": "fe86f0d6",
   "metadata": {},
   "outputs": [
    {
     "name": "stdout",
     "output_type": "stream",
     "text": [
      "1 2 3 4 5 6 7 8 9 10 2 4 6 8 10 12 14 16 18 20 3 6 9 12 15 18 21 24 27 30 4 8 12 16 20 24 28 32 36 40 5 10 15 20 25 30 35 40 45 50 6 12 18 24 30 36 42 48 54 60 7 14 21 28 35 42 49 56 63 70 8 16 24 32 40 48 56 64 72 80 9 18 27 36 45 54 63 72 81 90 10 20 30 40 50 60 70 80 90 100 "
     ]
    }
   ],
   "source": [
    "for i in range(1, 11):\n",
    "    # nested loop\n",
    "    # to iterate from 1 to 10\n",
    "    for j in range(1, 11):\n",
    "        # print multiplication\n",
    "        print(i * j, end=' ')"
   ]
  },
  {
   "cell_type": "markdown",
   "id": "2ddd9b54",
   "metadata": {},
   "source": [
    "Οι βρόγχοι for πρέπει να εκτελούν κάποια πρόταση. Σε διαφορετική περίπτωση αν θέλουμε να τους χρησιμοποιήσουμε χωρίς να κάνουν τίποτα (πχ για να συγγράψουμε αργότερα το περιεχόμενό τους)\n",
    "μπορούμε να χρησιμοποιήσουμε την πρόταση **pass**."
   ]
  },
  {
   "cell_type": "code",
   "execution_count": 28,
   "id": "ac7e120f",
   "metadata": {},
   "outputs": [],
   "source": [
    "for x in [0, 1, 2]:\n",
    "  pass"
   ]
  },
  {
   "cell_type": "markdown",
   "id": "229d6c8c",
   "metadata": {},
   "source": [
    "Μια χρήσιμη συνάρτηση που χρησιμοποιείται σε συνδυασμό με τους βρόγχους for είναι η συνάρτηση range().\n",
    "Η συνάρτηση range δημιουργεί μια ακολουθία αριθμών και προσφέρει σχετικές παραμέτρους για την έναρξη και λήξη και το βήμα της ακολουθίας δηλαδή range(start, stop,step_size)."
   ]
  },
  {
   "cell_type": "code",
   "execution_count": 29,
   "id": "9cec392f",
   "metadata": {},
   "outputs": [
    {
     "data": {
      "text/plain": [
       "range(0, 10)"
      ]
     },
     "execution_count": 29,
     "metadata": {},
     "output_type": "execute_result"
    }
   ],
   "source": [
    "range(0, 10)"
   ]
  },
  {
   "cell_type": "markdown",
   "id": "d426ba09",
   "metadata": {},
   "source": [
    "Σε συνδυασμό με τον βρόγχο for μπορούμε να επαναλάβουμε μια σειρά προτάσεων κώδικα για μια ακολουθία αριθμών."
   ]
  },
  {
   "cell_type": "code",
   "execution_count": 30,
   "id": "a1cf66ba",
   "metadata": {},
   "outputs": [
    {
     "name": "stdout",
     "output_type": "stream",
     "text": [
      "Διαβάζω  Φυσικά\n",
      "Διαβάζω  Μαθηματικά\n",
      "Διαβάζω  Χημεία\n"
     ]
    }
   ],
   "source": [
    "genre = ['Φυσικά', 'Μαθηματικά', 'Χημεία']\n",
    "\n",
    "# iterate over the list using index\n",
    "for i in range(len(genre)):\n",
    "    print(\"Διαβάζω \", genre[i])"
   ]
  },
  {
   "cell_type": "markdown",
   "id": "92394008",
   "metadata": {},
   "source": [
    "**εμφωλευμένοι βρόγχοι** (while μέσα σε for)"
   ]
  },
  {
   "cell_type": "code",
   "execution_count": 31,
   "id": "a72014f9",
   "metadata": {},
   "outputs": [
    {
     "name": "stdout",
     "output_type": "stream",
     "text": [
      "Νίκος Νίκος Νίκος Νίκος Νίκος \n",
      "Κώστας Κώστας Κώστας Κώστας Κώστας \n",
      "Ελένη Ελένη Ελένη Ελένη Ελένη \n"
     ]
    }
   ],
   "source": [
    "names = ['Νίκος', 'Κώστας', 'Ελένη']\n",
    "# outer loop\n",
    "for name in names:\n",
    "    # inner while loop\n",
    "    count = 0\n",
    "    while count < 5:\n",
    "        print(name, end=' ')\n",
    "        # increment counter\n",
    "        count = count + 1\n",
    "    print()"
   ]
  },
  {
   "cell_type": "markdown",
   "id": "025a9e1f",
   "metadata": {},
   "source": [
    "**εμφωλευμένοι βρόγχοι** (while μέσα σε while)"
   ]
  },
  {
   "cell_type": "code",
   "execution_count": 32,
   "id": "18da6231",
   "metadata": {},
   "outputs": [
    {
     "name": "stdout",
     "output_type": "stream",
     "text": [
      "0 1 2 3 \n",
      "0 2 4 6 \n",
      "0 3 6 9 \n",
      "0 4 8 12 \n"
     ]
    }
   ],
   "source": [
    "i = 1\n",
    "while i <= 4 :\n",
    "    j = 0\n",
    "    while  j <= 3 :\n",
    "        print(i*j, end=\" \")\n",
    "        j += 1\n",
    "    print()\n",
    "    i += 1"
   ]
  },
  {
   "cell_type": "markdown",
   "id": "7a8be565",
   "metadata": {},
   "source": [
    "### Η πρόταση else μέσα σε βρόγχους\n",
    "\n",
    "Όταν η συνθήκη βάσει της οποία ελέγχεται η εκτέλεση ενός βρόγχου while αποτυγχάνει (δεν είναι αληθής) τότε μπορούμε να εκτελέσουμε μια άλλη σειρά προτάσεων που ορίζεται από την ενότητα else.\n",
    "Για παράδειγμα:"
   ]
  },
  {
   "cell_type": "code",
   "execution_count": 33,
   "id": "48a99c6e",
   "metadata": {},
   "outputs": [
    {
     "name": "stdout",
     "output_type": "stream",
     "text": [
      "0\n",
      "1\n",
      "2\n",
      "3\n",
      "4\n",
      "count value reached 5\n"
     ]
    }
   ],
   "source": [
    "count=0\n",
    "while(count<5):\n",
    "    print(count)\n",
    "    count +=1\n",
    "else:\n",
    "    print(\"count value reached %d\" %(count))"
   ]
  },
  {
   "cell_type": "markdown",
   "id": "d0ac3f29",
   "metadata": {},
   "source": [
    "Αντίστοιχα σε έναν βρόγχο for μπορούμε να εκτελέσουμε μια ομάδα προτάσεων που ορίζεται από το else όταν έχει εξαντληθεί η προσπέλαση όλων των στοιχείων μιας ακολουθίας.\n",
    "Δείτε το παρακάτω παράδειγμα:"
   ]
  },
  {
   "cell_type": "code",
   "execution_count": 34,
   "id": "e844fb14",
   "metadata": {},
   "outputs": [
    {
     "name": "stdout",
     "output_type": "stream",
     "text": [
      "0\n",
      "1\n",
      "2\n",
      "3\n",
      "4\n",
      "5\n",
      "Finally finished!\n"
     ]
    }
   ],
   "source": [
    "for x in range(6):\n",
    "  print(x)\n",
    "else:\n",
    "  print(\"Finally finished!\")\n"
   ]
  },
  {
   "cell_type": "markdown",
   "id": "1e527596",
   "metadata": {},
   "source": [
    "### Οι προτάσεις break και continue \n",
    "Οι προτάσεις break και continue χρησιμοποιούνται για το έλεγχο της ροής των επαναλήψεων και λειτουργούν με τον ίδιο τρόπο τόσο στους βρόγχους *while* όσο και στους βρόγχους *for*.\n",
    "\n",
    "Η πρόταση break τερματίζει άμεσα την εκτέλεση του βρόγχου με βάση τον έλεγχο μιας συνθήκης και στην συνέχεια ακολουθεί η εκτέλεση της πρότασης που ακολουθεί τον βρόγχο.\n",
    "\n",
    "Παράδειγμα με βρόγχο for:"
   ]
  },
  {
   "cell_type": "code",
   "execution_count": 35,
   "id": "65f8086b",
   "metadata": {},
   "outputs": [
    {
     "name": "stdout",
     "output_type": "stream",
     "text": [
      "1\n",
      "2\n",
      "3\n",
      "4\n",
      "Τέλος\n"
     ]
    }
   ],
   "source": [
    "for num in range(1, 11):\n",
    "    if num == 5:\n",
    "        break\n",
    "    else:\n",
    "        print(num)\n",
    "\n",
    "print(\"Τέλος\")"
   ]
  },
  {
   "cell_type": "markdown",
   "id": "d80d658f",
   "metadata": {},
   "source": [
    "Παράδειγμα με βρόγχο while:"
   ]
  },
  {
   "cell_type": "code",
   "execution_count": 36,
   "id": "023b4ebe",
   "metadata": {},
   "outputs": [
    {
     "name": "stdout",
     "output_type": "stream",
     "text": [
      "4\n",
      "3\n",
      "Loop ended.\n"
     ]
    }
   ],
   "source": [
    "n = 5\n",
    "while n > 0:\n",
    "    n -= 1\n",
    "    if n == 2:\n",
    "        break\n",
    "    print(n)\n",
    "print('Loop ended.')"
   ]
  },
  {
   "cell_type": "markdown",
   "id": "d8219d69",
   "metadata": {},
   "source": [
    "Αντίστοιχη είναι η λειτουργία της πρότασης continue.\n",
    "Ωστόσο σε αυτήν την περίπτωση ο βρόγχος δεν τερματίζεται εντελώς \n",
    "αλλά σταματάει την τρέχουσα σειρά εντολών στο τρέχον σημείο του βρόγχου και συνεχίζει στο επόμενο στοιχείο της ακολουθίας και στον έλεγχο της αντίστοιχης συνθήκης."
   ]
  }
 ],
 "metadata": {
  "jupytext": {
   "cell_metadata_filter": "-all",
   "formats": "md:myst",
   "text_representation": {
    "extension": ".md",
    "format_name": "myst",
    "format_version": 0.13,
    "jupytext_version": "1.11.5"
   }
  },
  "kernelspec": {
   "display_name": "Python 3",
   "language": "python",
   "name": "python3"
  },
  "language_info": {
   "codemirror_mode": {
    "name": "ipython",
    "version": 3
   },
   "file_extension": ".py",
   "mimetype": "text/x-python",
   "name": "python",
   "nbconvert_exporter": "python",
   "pygments_lexer": "ipython3",
   "version": "3.9.16"
  },
  "source_map": [
   14,
   37,
   39,
   44,
   47,
   51,
   54,
   116,
   120,
   124,
   128,
   130,
   157,
   163,
   174,
   178,
   182,
   186,
   188,
   193,
   197,
   201,
   204,
   213,
   218,
   220,
   233,
   238,
   289,
   295,
   298,
   305,
   309,
   321,
   327,
   336,
   343,
   349,
   362,
   367,
   371,
   375,
   377,
   384,
   389,
   392,
   396,
   398,
   401,
   407,
   411,
   422,
   426,
   436,
   443,
   450,
   454,
   460,
   471,
   479,
   483,
   491
  ]
 },
 "nbformat": 4,
 "nbformat_minor": 5
}