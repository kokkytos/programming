{
 "cells": [
  {
   "cell_type": "markdown",
   "metadata": {},
   "source": [
    "(shapely)=\n",
    "# Geometries (`shapely`)"
   ]
  },
  {
   "cell_type": "code",
   "execution_count": 1,
   "metadata": {
    "tags": [
     "remove-input"
    ]
   },
   "outputs": [
    {
     "name": "stdout",
     "output_type": "stream",
     "text": [
      "Last updated: 2022-05-29 21:42:55\r\n"
     ]
    }
   ],
   "source": [
    "!echo Last updated: `date +\"%Y-%m-%d %H:%M:%S\"`"
   ]
  },
  {
   "cell_type": "markdown",
   "metadata": {},
   "source": [
    "*****"
   ]
  },
  {
   "cell_type": "markdown",
   "metadata": {},
   "source": [
    "## Introduction"
   ]
  },
  {
   "cell_type": "markdown",
   "metadata": {},
   "source": [
    "In the previous chapters we covered the basics of working with Python, starting with the working environment setup (see {ref}`setup`) to advanced methods of working with tables ({ref}`pandas2`). Now, we move on to the main topic of this book, working with *spatial data*. "
   ]
  },
  {
   "cell_type": "markdown",
   "metadata": {},
   "source": [
    "Spatial data can be divided into two categories:\n",
    "\n",
    "* Vector layers—points, lines, and polygons, associated with attributes\n",
    "* Rasters—numeric arrays representing a regular grid over a rectangular area"
   ]
  },
  {
   "cell_type": "markdown",
   "metadata": {},
   "source": [
    "In the next three chapters, we go through the basics of working with the first type, *vector layers*, in Python. In this chapter, we cover the `shapely` package, which is used to represent and work with individual vector geometries. The next two chapters (see {ref}`geopandas1` and {ref}`geopandas2`) deal with another package, called `geopandas`, which is used to represent an work with vector layers. The individual geometries *within* a vector layer are stored as `shapely` geometries. Therefore it is essential to be familiar with the `shapely` package, first, before moving on `geopandas`."
   ]
  },
  {
   "cell_type": "markdown",
   "metadata": {},
   "source": [
    "Specifically, in this chapter we are going to cover the following topics:\n",
    "\n",
    "* Several methods of creating geometry objects (see {ref}`shapely-creating-geometries`)\n",
    "* Extracting geometry properties, such as:\n",
    "    * Geometry type (see {ref}`shapely-geometry-type`)\n",
    "    * Coordinates (see {ref}`shapely-coordinates`)\n",
    "    * Derived properties, such as length and area (see {ref}`shapely-derived-properties`)\n",
    "* Creating new geometries, from:\n",
    "    * Individual geometries (see {ref}`shapely-new-geometries-1`), e.g., calculating geometry centroid\n",
    "    * Pairs of geometries (see {ref}`shapely-new-geometries-2`), e.g., calculating the intersection (i.e., shared area) of two geometries\n",
    "* Evaluating boolean relations between geometries (see {ref}`shapely-boolean-functions`), e.g., whether one geometry intersects with another or not\n",
    "* Calculating distances (see {ref}`shapely-distance`)\n",
    "* Transforming points to a line (see {ref}`shapely-geometry-casting`)"
   ]
  },
  {
   "cell_type": "markdown",
   "metadata": {},
   "source": [
    "## What is `shapely`?"
   ]
  },
  {
   "cell_type": "markdown",
   "metadata": {},
   "source": [
    "`shapely` is a Python package for working with vector geometries, that is, the geometric component of vector layers (the other component being non-spatial attributes). `shapely` includes functions for creating geometries, as well as functions for applying geometric operations on geometries, such as calculating the centroid of a polygon."
   ]
  },
  {
   "cell_type": "markdown",
   "metadata": {},
   "source": [
    "Technically, `shapely` is a Python interface to the [Geometry Engine Open Source (GEOS)](https://trac.osgeo.org/geos) software. GEOS is used in numerous open-source programs other than `shapely`, such as [QGIS](https://www.qgis.org/en/site/), and interfaced in many programming languages, such as the [`sf`](https://r-spatial.github.io/sf/) package in R."
   ]
  },
  {
   "cell_type": "markdown",
   "metadata": {},
   "source": [
    "By design, `shapely` only deals with individual geometries, their creation, their derived properties, and spatial operation applied to them. `shapely` does not include any functions to read or write geometries to or from files, or more complex data structures to represent collections of geometries with or without non-spatial attributes (i.e., vector layers). These are accomlished with `geopandas`, which builds on top of `pandas` and `shapely` ({numref}`python-package-deps`), to provide more high-level methods to work with complete vector layers. "
   ]
  },
  {
   "cell_type": "markdown",
   "metadata": {},
   "source": [
    "```{note}\n",
    "The `shapely` [documentation](https://shapely.readthedocs.io/en/stable/manual.html) ({numref}`shapely-manual`) is quite detailed, and has many illustrations which are useful to understand how the various functions work.\n",
    "```"
   ]
  },
  {
   "cell_type": "markdown",
   "metadata": {},
   "source": [
    "```{figure} images/shapely_manual.png\n",
    "---\n",
    "name: shapely-manual\n",
    "---\n",
    "[The Shapely User Manual](https://shapely.readthedocs.io/en/stable/manual.html)\n",
    "```"
   ]
  },
  {
   "cell_type": "markdown",
   "metadata": {},
   "source": [
    "(what-are-simple-features)=\n",
    "## What are Simple Features?"
   ]
  },
  {
   "cell_type": "markdown",
   "metadata": {},
   "source": [
    "The GEOS software, and accordingly also the `shapely` package, implements the [Simple Features](https://en.wikipedia.org/wiki/Simple_Features) specification of geometry types. The geometry type [specification](https://www.ogc.org/standards/sfa) and functions may be familiar to you, since both the GEOS software and the Simple Features standard are widely used in open-source GIS software and in other programming languages, such as R's `sf` package and the PostGIS spatial database. "
   ]
  },
  {
   "cell_type": "markdown",
   "metadata": {},
   "source": [
    "The Simple Features defines at least [17 geometry types](https://r-spatial.github.io/sf/articles/sf1.html#simple-feature-geometry-types), but only seven types are commonly used in spatial analysis. These are \n",
    "shown in {numref}`feature-types`. Note that there are separate geometry types for points (`\"Point\"`), lines (`\"LineString\"`), and polygons (`\"Polygon\"`), as well are their multi-part versions (`\"MultiPoint\"`, `\"MultiLineString\"`, `\"MultiPolygon\"`), which sums up to the first six geometry types. The multi-part versions are intended for geometries that contain more than one single-part geometry at once. The seventh type (`\"GeometryCollection\"`) is intended for any combination of the other six types."
   ]
  },
  {
   "cell_type": "markdown",
   "metadata": {},
   "source": [
    "```{figure} images/simple_feature_types.svg\n",
    "---\n",
    "name: feature-types\n",
    "---\n",
    "Simple Feature geometry types\n",
    "```"
   ]
  },
  {
   "cell_type": "markdown",
   "metadata": {},
   "source": [
    "[Well Known Text (WKT)](https://en.wikipedia.org/wiki/Well-known_text_representation_of_geometry) is a plain text format for representing Simple Feature geometries, and part of the Simple Feature standard. WKT is understood by many programs, including `shapely`, the `sf` package in R, and PostGIS. WKT strings of the geometries shown in {numref}`feature-types` are given in {numref}`geometry-types-wkt-examples` [^wkt-examples]."
   ]
  },
  {
   "cell_type": "markdown",
   "metadata": {},
   "source": [
    "[^wkt-examples]: WKT examples are from Wikipedia (<https://en.wikipedia.org/wiki/Well-known_text_representation_of_geometry>)."
   ]
  },
  {
   "cell_type": "markdown",
   "metadata": {},
   "source": [
    "```{table} Simple feature geometry types and WKT examples\n",
    ":name: geometry-types-wkt-examples\n",
    "\n",
    "| Type | WKT example |\n",
    "|---|---|\n",
    "| `\"Point\"` | `POINT (30 10)` |\n",
    "| `\"LineString\"` | `LINESTRING (30 10, 10 30, 40 40)` |\n",
    "| `\"Polygon\"` | `POLYGON ((35 10, 45 45, 15 40, 10 20, 35 10),(20 30, 35 35, 30 20, 20 30))` |\n",
    "| `\"MultiPoint\"` | `MULTIPOINT (10 40, 40 30, 20 20, 30 10)` |\n",
    "| `\"MultiLineString\"` | `MULTILINESTRING ((10 10, 20 20, 10 40),(40 40, 30 30, 40 20, 30 10))`|\n",
    "| `\"MultiPolygon\"` | `MULTIPOLYGON (((40 40, 20 45, 45 30, 40 40)),((20 35, 10 30, 10 10, 30 5, 45 20, 20 35),(30 20, 20 15, 20 25, 30 20)))`|\n",
    "| `\"GeometryCollection\"` | `GEOMETRYCOLLECTION (POINT (40 10),LINESTRING (10 10, 20 20, 10 40),POLYGON ((40 40, 20 45, 45 30, 40 40)))`|\n",
    "```"
   ]
  },
  {
   "cell_type": "markdown",
   "metadata": {},
   "source": [
    "Do not worry if you are not familiar with the exact syntax of the WKT format. You will have an opportunity to see various WKT strings in the examples in this chapter. For now, just note that these are strings specifying the geometry type and the coordinates comprising the geometry. Parentheses (`(`) are used the indicate the nested structure of coordinate sequences withing the geometry, such as the separate polygons comprising a `\"MultiPolygon\"` geometry, or the exterior and interior (i.e., holes) in a `\"Polygon\"`. For example:\n",
    "\n",
    "* `POINT (30 10)`—A *point* at $(30,10)$\n",
    "* `LINESTRING (0 0, 0 1)`—A straight *line* going from $(0,0)$ to $(0,1)$"
   ]
  },
  {
   "cell_type": "markdown",
   "metadata": {},
   "source": [
    "(shapely-creating-geometries)=\n",
    "## Creating geometries"
   ]
  },
  {
   "cell_type": "markdown",
   "metadata": {},
   "source": [
    "(shapely-from-wkt)=\n",
    "### `shapely` from WKT"
   ]
  },
  {
   "cell_type": "markdown",
   "metadata": {},
   "source": [
    "Before starting to work with `shapely`, we need to load the package. The `shapely` package is organized into sub-packages, of which we need two. Specifically, we load the sub-package `shapely.geometry` which contains all geometry-related functions we will be working with. We also load the `shapely.wkt` sub-package, which is necessary to convert Well Known Text (WKT) strings to `shapely` geometries:"
   ]
  },
  {
   "cell_type": "code",
   "execution_count": 2,
   "metadata": {},
   "outputs": [],
   "source": [
    "import shapely.geometry\n",
    "import shapely.wkt"
   ]
  },
  {
   "cell_type": "markdown",
   "metadata": {},
   "source": [
    "One way to create a `shapely` geometry object is to import a WKT string. To convert a WKT string into a `shapely` geometry, we pass the WKT string to the [`shapely.wkt.loads`](https://shapely.readthedocs.io/en/stable/manual.html#shapely.wkt.loads) function (short for \"load string\"). In our first example, we create a polygon named `pol1`. Note that this is a rectange, composed of five coordinates. The fifth coordinate is identical to the first, used to \"close\" the shape, as required by the WKT syntax:"
   ]
  },
  {
   "cell_type": "code",
   "execution_count": 3,
   "metadata": {},
   "outputs": [],
   "source": [
    "pol1 = shapely.wkt.loads(\"POLYGON ((0 0, 0 -1, 7.5 -1, 7.5 0, 0 0))\")"
   ]
  },
  {
   "cell_type": "markdown",
   "metadata": {},
   "source": [
    "Typing a `shapely` geometry in a Jupyter notebook conveniently draws a small figure:"
   ]
  },
  {
   "cell_type": "code",
   "execution_count": 4,
   "metadata": {},
   "outputs": [
    {
     "data": {
      "image/svg+xml": [
       "<svg xmlns=\"http://www.w3.org/2000/svg\" xmlns:xlink=\"http://www.w3.org/1999/xlink\" width=\"100.0\" height=\"100.0\" viewBox=\"-0.3 -1.3 8.1 1.6\" preserveAspectRatio=\"xMinYMin meet\"><g transform=\"matrix(1,0,0,-1,0,-1.0)\"><path fill-rule=\"evenodd\" fill=\"#66cc99\" stroke=\"#555555\" stroke-width=\"0.162\" opacity=\"0.6\" d=\"M 0.0,0.0 L 0.0,-1.0 L 7.5,-1.0 L 7.5,0.0 L 0.0,0.0 z\" /></g></svg>"
      ],
      "text/plain": [
       "<shapely.geometry.polygon.Polygon at 0x7f65041cb670>"
      ]
     },
     "execution_count": 4,
     "metadata": {
      "filenames": {
       "image/svg+xml": "/home/leonidas/Documents/uth/Programming/JupyterNotebooks/notes/_build/jupyter_execute/notebooks/Lesson_8/shapely_29_0.svg"
      }
     },
     "output_type": "execute_result"
    }
   ],
   "source": [
    "pol1"
   ]
  },
  {
   "cell_type": "markdown",
   "metadata": {},
   "source": [
    "We can also `print` the geometry, which prints its WKT string representation:"
   ]
  },
  {
   "cell_type": "code",
   "execution_count": 5,
   "metadata": {},
   "outputs": [
    {
     "name": "stdout",
     "output_type": "stream",
     "text": [
      "POLYGON ((0 0, 0 -1, 7.5 -1, 7.5 0, 0 0))\n"
     ]
    }
   ],
   "source": [
    "print(pol1)"
   ]
  },
  {
   "cell_type": "markdown",
   "metadata": {},
   "source": [
    "The `type` of a `shapely` geometry consists of several components, starting from the general class, `shapely.geometry`, and ending with the specific geometry type, such as `\"Polygon\"`: "
   ]
  },
  {
   "cell_type": "code",
   "execution_count": 6,
   "metadata": {},
   "outputs": [
    {
     "data": {
      "text/plain": [
       "shapely.geometry.polygon.Polygon"
      ]
     },
     "execution_count": 6,
     "metadata": {},
     "output_type": "execute_result"
    }
   ],
   "source": [
    "type(pol1)"
   ]
  },
  {
   "cell_type": "markdown",
   "metadata": {},
   "source": [
    "Let us create another polygon geometry, named `pol2`:"
   ]
  },
  {
   "cell_type": "code",
   "execution_count": 7,
   "metadata": {},
   "outputs": [
    {
     "name": "stdout",
     "output_type": "stream",
     "text": [
      "POLYGON ((0 1, 1 0, 2 0.5, 3 0, 4 0, 5 0.5, 6 -0.5, 7 -0.5, 7 1, 0 1))\n"
     ]
    }
   ],
   "source": [
    "pol2 = shapely.wkt.loads(\"POLYGON ((0 1, 1 0, 2 0.5, 3 0, 4 0, 5 0.5, 6 -0.5, 7 -0.5, 7 1, 0 1))\")\n",
    "print(pol2)"
   ]
  },
  {
   "cell_type": "markdown",
   "metadata": {},
   "source": [
    "This time we have more coordinates, and, accordingly, the shape of the polygon is more complex:"
   ]
  },
  {
   "cell_type": "code",
   "execution_count": 8,
   "metadata": {},
   "outputs": [
    {
     "data": {
      "image/svg+xml": [
       "<svg xmlns=\"http://www.w3.org/2000/svg\" xmlns:xlink=\"http://www.w3.org/1999/xlink\" width=\"100.0\" height=\"100.0\" viewBox=\"-0.28 -0.78 7.5600000000000005 2.06\" preserveAspectRatio=\"xMinYMin meet\"><g transform=\"matrix(1,0,0,-1,0,0.5)\"><path fill-rule=\"evenodd\" fill=\"#66cc99\" stroke=\"#555555\" stroke-width=\"0.1512\" opacity=\"0.6\" d=\"M 0.0,1.0 L 1.0,0.0 L 2.0,0.5 L 3.0,0.0 L 4.0,0.0 L 5.0,0.5 L 6.0,-0.5 L 7.0,-0.5 L 7.0,1.0 L 0.0,1.0 z\" /></g></svg>"
      ],
      "text/plain": [
       "<shapely.geometry.polygon.Polygon at 0x7f65041caec0>"
      ]
     },
     "execution_count": 8,
     "metadata": {
      "filenames": {
       "image/svg+xml": "/home/leonidas/Documents/uth/Programming/JupyterNotebooks/notes/_build/jupyter_execute/notebooks/Lesson_8/shapely_37_0.svg"
      }
     },
     "output_type": "execute_result"
    }
   ],
   "source": [
    "pol2"
   ]
  },
  {
   "cell_type": "markdown",
   "metadata": {},
   "source": [
    "Finally, let us create another type of geometry, a `\"MultiPolygon\"`, named `pol3`. Note how the `\"MultiPolygon\"` has several sequences of shapes, representing the outline and hole(s) of one or more polygons:"
   ]
  },
  {
   "cell_type": "code",
   "execution_count": 9,
   "metadata": {},
   "outputs": [],
   "source": [
    "pol3 = shapely.wkt.loads(\"\"\"\n",
    "MULTIPOLYGON\n",
    "(((40 40, 20 45, 45 30, 40 40)),\n",
    "((20 35, 10 30, 10 10, 30 5, 45 20, 20 35), (30 20, 20 15, 20 25, 30 20)))\n",
    "\"\"\")"
   ]
  },
  {
   "cell_type": "markdown",
   "metadata": {},
   "source": [
    "```{note}\n",
    "The above expression uses multi-line string input in Python, using the `\"\"\"` character at the start and end of the string. This tells the Python interpreter that the string spans several lines. Otherwise we would get an error since a \"newline\" character ends the expression.\n",
    "```"
   ]
  },
  {
   "cell_type": "markdown",
   "metadata": {},
   "source": [
    "In `pol3`, we have one polygon without any holes, and another polygon that has one hole:"
   ]
  },
  {
   "cell_type": "code",
   "execution_count": 10,
   "metadata": {},
   "outputs": [
    {
     "data": {
      "image/svg+xml": [
       "<svg xmlns=\"http://www.w3.org/2000/svg\" xmlns:xlink=\"http://www.w3.org/1999/xlink\" width=\"100.0\" height=\"100.0\" viewBox=\"8.4 3.4 38.2 43.2\" preserveAspectRatio=\"xMinYMin meet\"><g transform=\"matrix(1,0,0,-1,0,50.0)\"><g><path fill-rule=\"evenodd\" fill=\"#66cc99\" stroke=\"#555555\" stroke-width=\"0.8640000000000001\" opacity=\"0.6\" d=\"M 40.0,40.0 L 20.0,45.0 L 45.0,30.0 L 40.0,40.0 z\" /><path fill-rule=\"evenodd\" fill=\"#66cc99\" stroke=\"#555555\" stroke-width=\"0.8640000000000001\" opacity=\"0.6\" d=\"M 20.0,35.0 L 10.0,30.0 L 10.0,10.0 L 30.0,5.0 L 45.0,20.0 L 20.0,35.0 z M 30.0,20.0 L 20.0,15.0 L 20.0,25.0 L 30.0,20.0 z\" /></g></g></svg>"
      ],
      "text/plain": [
       "<shapely.geometry.multipolygon.MultiPolygon at 0x7f6516f177c0>"
      ]
     },
     "execution_count": 10,
     "metadata": {
      "filenames": {
       "image/svg+xml": "/home/leonidas/Documents/uth/Programming/JupyterNotebooks/notes/_build/jupyter_execute/notebooks/Lesson_8/shapely_42_0.svg"
      }
     },
     "output_type": "execute_result"
    }
   ],
   "source": [
    "pol3"
   ]
  },
  {
   "cell_type": "markdown",
   "metadata": {},
   "source": [
    "```{admonition} Exercise 07-a\n",
    ":class: important\n",
    "* Go to the WKT [article](https://en.wikipedia.org/wiki/Well-known_text_representation_of_geometry) on Wikipedia.\n",
    "* Locate examples of other types of geometries, such as `\"Point\"`, `\"LineString\"`, `\"MultiPoint\"`, and `\"MultiLineString\"`. Create the corresponding `shapely` geometries.\n",
    "* Print the shapes to inspect them graphically. Compare to the figures on Wikipedia.\n",
    "```"
   ]
  },
  {
   "cell_type": "markdown",
   "metadata": {},
   "source": [
    "(shapely-create-specific-functions)=\n",
    "### `shapely` from type-specific functions"
   ]
  },
  {
   "cell_type": "markdown",
   "metadata": {},
   "source": [
    "Another method of creating `shapely` geometries is to pass lists of coordinates to specific functions, according to the required geometry type ({numref}`shapely-functions-to-create-geometry`)."
   ]
  },
  {
   "cell_type": "markdown",
   "metadata": {},
   "source": [
    "\n",
    "```{table} <code>shapely</code> functions to create geometries\n",
    ":name: shapely-functions-to-create-geometry\n",
    "\n",
    "| Function | Geometry type |\n",
    "|---|---|\n",
    "| [`shapely.geometry.Point`](https://shapely.readthedocs.io/en/stable/manual.html#Point) | `\"Point\"` |\n",
    "| [`shapely.geometry.MultiPoint`](https://shapely.readthedocs.io/en/stable/manual.html#MultiPoint) | `\"MultiPoint\"` |\n",
    "| [`shapely.geometry.LineString`](https://shapely.readthedocs.io/en/stable/manual.html#LineString) | `\"LineString\"` |\n",
    "| [`shapely.geometry.MultiLineString`](https://shapely.readthedocs.io/en/stable/manual.html#MultiLineString) | `\"MultiLineString\"` |\n",
    "| [`shapely.geometry.Polygon`](https://shapely.readthedocs.io/en/stable/manual.html#Polygon) | `\"Polygon\"` |\n",
    "| [`shapely.geometry.MultiPolygon`](https://shapely.readthedocs.io/en/stable/manual.html#MultiPolygon) | `\"MultiPolygon\"` |\n",
    "| [`shapely.geometry.GeometryCollection`](https://shapely.readthedocs.io/en/stable/manual.html#collections) | `\"GeometryCollection\"` |\n",
    "```"
   ]
  },
  {
   "cell_type": "markdown",
   "metadata": {},
   "source": [
    "Each of the function takes input of a different form, according to the geometry type. For example, to create a `\"Point\"` geometry, we need to pass a `tuple` of the form `(x,y)` to [`shapely.geometry.Point`](https://shapely.readthedocs.io/en/stable/manual.html#points):"
   ]
  },
  {
   "cell_type": "code",
   "execution_count": 11,
   "metadata": {},
   "outputs": [
    {
     "data": {
      "image/svg+xml": [
       "<svg xmlns=\"http://www.w3.org/2000/svg\" xmlns:xlink=\"http://www.w3.org/1999/xlink\" width=\"100.0\" height=\"100.0\" viewBox=\"1.0 -0.5 2.0 2.0\" preserveAspectRatio=\"xMinYMin meet\"><g transform=\"matrix(1,0,0,-1,0,1.0)\"><circle cx=\"2.0\" cy=\"0.5\" r=\"0.06\" stroke=\"#555555\" stroke-width=\"0.02\" fill=\"#66cc99\" opacity=\"0.6\" /></g></svg>"
      ],
      "text/plain": [
       "<shapely.geometry.point.Point at 0x7f65041cb070>"
      ]
     },
     "execution_count": 11,
     "metadata": {
      "filenames": {
       "image/svg+xml": "/home/leonidas/Documents/uth/Programming/JupyterNotebooks/notes/_build/jupyter_execute/notebooks/Lesson_8/shapely_48_0.svg"
      }
     },
     "output_type": "execute_result"
    }
   ],
   "source": [
    "pnt1 = shapely.geometry.Point((2, 0.5))\n",
    "pnt1"
   ]
  },
  {
   "cell_type": "markdown",
   "metadata": {},
   "source": [
    "A `\"MultiPoint\"`, however, can be created from a `list` of `tuple`s, where each list elements represents an individual point, using [`shapely.geometry.MultiPoint`](https://shapely.readthedocs.io/en/stable/manual.html#collections-of-points):"
   ]
  },
  {
   "cell_type": "code",
   "execution_count": 12,
   "metadata": {},
   "outputs": [
    {
     "data": {
      "image/svg+xml": [
       "<svg xmlns=\"http://www.w3.org/2000/svg\" xmlns:xlink=\"http://www.w3.org/1999/xlink\" width=\"100.0\" height=\"100.0\" viewBox=\"-1.12 -0.12 3.24 1.2400000000000002\" preserveAspectRatio=\"xMinYMin meet\"><g transform=\"matrix(1,0,0,-1,0,1.0)\"><g><circle cx=\"2.0\" cy=\"0.5\" r=\"0.09720000000000001\" stroke=\"#555555\" stroke-width=\"0.032400000000000005\" fill=\"#66cc99\" opacity=\"0.6\" /><circle cx=\"1.0\" cy=\"1.0\" r=\"0.09720000000000001\" stroke=\"#555555\" stroke-width=\"0.032400000000000005\" fill=\"#66cc99\" opacity=\"0.6\" /><circle cx=\"-1.0\" cy=\"0.0\" r=\"0.09720000000000001\" stroke=\"#555555\" stroke-width=\"0.032400000000000005\" fill=\"#66cc99\" opacity=\"0.6\" /><circle cx=\"1.0\" cy=\"0.0\" r=\"0.09720000000000001\" stroke=\"#555555\" stroke-width=\"0.032400000000000005\" fill=\"#66cc99\" opacity=\"0.6\" /></g></g></svg>"
      ],
      "text/plain": [
       "<shapely.geometry.multipoint.MultiPoint at 0x7f65041ca920>"
      ]
     },
     "execution_count": 12,
     "metadata": {
      "filenames": {
       "image/svg+xml": "/home/leonidas/Documents/uth/Programming/JupyterNotebooks/notes/_build/jupyter_execute/notebooks/Lesson_8/shapely_50_0.svg"
      }
     },
     "output_type": "execute_result"
    }
   ],
   "source": [
    "coords = [(2, 0.5), (1, 1), (-1, 0), (1, 0)]\n",
    "pnt2 = shapely.geometry.MultiPoint(coords)\n",
    "pnt2"
   ]
  },
  {
   "cell_type": "markdown",
   "metadata": {},
   "source": [
    "A `\"LineString\"` is also created from a `list` of `tuple`s, using [`shapely.geometry.LineString`](https://shapely.readthedocs.io/en/stable/manual.html#linestrings):"
   ]
  },
  {
   "cell_type": "code",
   "execution_count": 13,
   "metadata": {},
   "outputs": [
    {
     "data": {
      "image/svg+xml": [
       "<svg xmlns=\"http://www.w3.org/2000/svg\" xmlns:xlink=\"http://www.w3.org/1999/xlink\" width=\"100.0\" height=\"100.0\" viewBox=\"-1.12 -0.12 3.24 1.2400000000000002\" preserveAspectRatio=\"xMinYMin meet\"><g transform=\"matrix(1,0,0,-1,0,1.0)\"><polyline fill=\"none\" stroke=\"#66cc99\" stroke-width=\"0.06480000000000001\" points=\"2.0,0.5 1.0,1.0 -1.0,0.0 1.0,0.0\" opacity=\"0.8\" /></g></svg>"
      ],
      "text/plain": [
       "<shapely.geometry.linestring.LineString at 0x7f65041cba30>"
      ]
     },
     "execution_count": 13,
     "metadata": {
      "filenames": {
       "image/svg+xml": "/home/leonidas/Documents/uth/Programming/JupyterNotebooks/notes/_build/jupyter_execute/notebooks/Lesson_8/shapely_52_0.svg"
      }
     },
     "output_type": "execute_result"
    }
   ],
   "source": [
    "coords = [(2, 0.5), (1, 1), (-1, 0), (1, 0)]\n",
    "line1 = shapely.geometry.LineString(coords)\n",
    "line1"
   ]
  },
  {
   "cell_type": "markdown",
   "metadata": {},
   "source": [
    "A `\"MultiLineString\"` can be created from a `list` of `\"LineString\"` geometries, using [`shapely.geometry.MultiLineString`](https://shapely.readthedocs.io/en/stable/manual.html#collections-of-lines):"
   ]
  },
  {
   "cell_type": "code",
   "execution_count": 14,
   "metadata": {},
   "outputs": [
    {
     "data": {
      "image/svg+xml": [
       "<svg xmlns=\"http://www.w3.org/2000/svg\" xmlns:xlink=\"http://www.w3.org/1999/xlink\" width=\"100.0\" height=\"100.0\" viewBox=\"-2.2 -1.2 5.4 2.4\" preserveAspectRatio=\"xMinYMin meet\"><g transform=\"matrix(1,0,0,-1,0,0.0)\"><g><polyline fill=\"none\" stroke=\"#66cc99\" stroke-width=\"0.10800000000000001\" points=\"2.0,0.5 1.0,1.0 -1.0,0.0 1.0,-1.0\" opacity=\"0.8\" /><polyline fill=\"none\" stroke=\"#66cc99\" stroke-width=\"0.10800000000000001\" points=\"-2.0,1.0 2.0,-0.5 3.0,1.0\" opacity=\"0.8\" /></g></g></svg>"
      ],
      "text/plain": [
       "<shapely.geometry.multilinestring.MultiLineString at 0x7f65041cbcd0>"
      ]
     },
     "execution_count": 14,
     "metadata": {
      "filenames": {
       "image/svg+xml": "/home/leonidas/Documents/uth/Programming/JupyterNotebooks/notes/_build/jupyter_execute/notebooks/Lesson_8/shapely_54_0.svg"
      }
     },
     "output_type": "execute_result"
    }
   ],
   "source": [
    "l1 = shapely.geometry.LineString([(2, 0.5), (1, 1), (-1, 0), (1, -1)])\n",
    "l2 = shapely.geometry.LineString([(-2, 1), (2, -0.5), (3, 1)])\n",
    "line2 = shapely.geometry.MultiLineString([l1, l2])\n",
    "line2"
   ]
  },
  {
   "cell_type": "markdown",
   "metadata": {},
   "source": [
    "```{admonition} Exercise 07-b\n",
    ":class: important\n",
    "* The `shapely.geometry.GeometryCollection` function accepts a `list` of geometries, and returns a `\"GeometryCollection\"` composed of them. \n",
    "* Use the above objects to construct and plot a `\"GeometryCollection\"` that contains a point, a line, and a polygon.\n",
    "```"
   ]
  },
  {
   "cell_type": "markdown",
   "metadata": {},
   "source": [
    "A `\"Polygon\"` can be created using the [`shapely.geometry.Polygon`](https://shapely.readthedocs.io/en/stable/manual.html#polygons) function and using a coordinate sequence where the first and last points are identical:"
   ]
  },
  {
   "cell_type": "code",
   "execution_count": 15,
   "metadata": {},
   "outputs": [
    {
     "data": {
      "image/svg+xml": [
       "<svg xmlns=\"http://www.w3.org/2000/svg\" xmlns:xlink=\"http://www.w3.org/1999/xlink\" width=\"100.0\" height=\"100.0\" viewBox=\"-0.3 -1.3 8.1 1.6\" preserveAspectRatio=\"xMinYMin meet\"><g transform=\"matrix(1,0,0,-1,0,-1.0)\"><path fill-rule=\"evenodd\" fill=\"#66cc99\" stroke=\"#555555\" stroke-width=\"0.162\" opacity=\"0.6\" d=\"M 0.0,0.0 L 0.0,-1.0 L 7.5,-1.0 L 7.5,0.0 L 0.0,0.0 z\" /></g></svg>"
      ],
      "text/plain": [
       "<shapely.geometry.polygon.Polygon at 0x7f65041cb910>"
      ]
     },
     "execution_count": 15,
     "metadata": {
      "filenames": {
       "image/svg+xml": "/home/leonidas/Documents/uth/Programming/JupyterNotebooks/notes/_build/jupyter_execute/notebooks/Lesson_8/shapely_57_0.svg"
      }
     },
     "output_type": "execute_result"
    }
   ],
   "source": [
    "coords = [(0, 0), (0, -1), (7.5, -1), [7.5, 0], (0, 0)]\n",
    "shapely.geometry.Polygon(coords)"
   ]
  },
  {
   "cell_type": "markdown",
   "metadata": {},
   "source": [
    "Optionally, a second `list` may used to pass a `list` of sequences comprising polygon holes. For example, the following modified expressions create a polygon with one hole: "
   ]
  },
  {
   "cell_type": "code",
   "execution_count": 16,
   "metadata": {},
   "outputs": [
    {
     "data": {
      "image/svg+xml": [
       "<svg xmlns=\"http://www.w3.org/2000/svg\" xmlns:xlink=\"http://www.w3.org/1999/xlink\" width=\"100.0\" height=\"100.0\" viewBox=\"-0.3 -1.3 8.1 1.6\" preserveAspectRatio=\"xMinYMin meet\"><g transform=\"matrix(1,0,0,-1,0,-1.0)\"><path fill-rule=\"evenodd\" fill=\"#66cc99\" stroke=\"#555555\" stroke-width=\"0.162\" opacity=\"0.6\" d=\"M 0.0,0.0 L 0.0,-1.0 L 7.5,-1.0 L 7.5,0.0 L 0.0,0.0 z M 0.4,-0.3 L 5.0,-0.3 L 5.0,-0.7 L 0.4,-0.7 L 0.4,-0.7 L 0.4,-0.3 z\" /></g></svg>"
      ],
      "text/plain": [
       "<shapely.geometry.polygon.Polygon at 0x7f65041cad10>"
      ]
     },
     "execution_count": 16,
     "metadata": {
      "filenames": {
       "image/svg+xml": "/home/leonidas/Documents/uth/Programming/JupyterNotebooks/notes/_build/jupyter_execute/notebooks/Lesson_8/shapely_59_0.svg"
      }
     },
     "output_type": "execute_result"
    }
   ],
   "source": [
    "coords_exterior = [(0, 0), (0, -1), (7.5, -1), [7.5, 0], (0, 0)]\n",
    "coords_interiors = [[(0.4, -0.3), (5, -0.3), (5, -0.7), (0.4, -0.7), (0.4, -0.7)]]\n",
    "shapely.geometry.Polygon(coords_exterior, coords_interiors)"
   ]
  },
  {
   "cell_type": "markdown",
   "metadata": {},
   "source": [
    "A `\"MultiPolygon\"` can be created from a `list` of individual `\"Polygon\"` geometries, using [`shapely.geometry.MultiPolygon`](https://shapely.readthedocs.io/en/stable/manual.html#collections-of-polygons):"
   ]
  },
  {
   "cell_type": "code",
   "execution_count": 17,
   "metadata": {},
   "outputs": [
    {
     "data": {
      "image/svg+xml": [
       "<svg xmlns=\"http://www.w3.org/2000/svg\" xmlns:xlink=\"http://www.w3.org/1999/xlink\" width=\"100.0\" height=\"100.0\" viewBox=\"-0.3 -1.3 8.1 2.6\" preserveAspectRatio=\"xMinYMin meet\"><g transform=\"matrix(1,0,0,-1,0,0.0)\"><g><path fill-rule=\"evenodd\" fill=\"#ff3333\" stroke=\"#555555\" stroke-width=\"0.162\" opacity=\"0.6\" d=\"M 0.0,0.0 L 0.0,-1.0 L 7.5,-1.0 L 7.5,0.0 L 0.0,0.0 z\" /><path fill-rule=\"evenodd\" fill=\"#ff3333\" stroke=\"#555555\" stroke-width=\"0.162\" opacity=\"0.6\" d=\"M 0.0,1.0 L 1.0,0.0 L 2.0,0.5 L 3.0,0.0 L 4.0,0.0 L 5.0,0.5 L 6.0,-0.5 L 7.0,-0.5 L 7.0,1.0 L 0.0,1.0 z\" /></g></g></svg>"
      ],
      "text/plain": [
       "<shapely.geometry.multipolygon.MultiPolygon at 0x7f65041cbe50>"
      ]
     },
     "execution_count": 17,
     "metadata": {
      "filenames": {
       "image/svg+xml": "/home/leonidas/Documents/uth/Programming/JupyterNotebooks/notes/_build/jupyter_execute/notebooks/Lesson_8/shapely_61_0.svg"
      }
     },
     "output_type": "execute_result"
    }
   ],
   "source": [
    "shapely.geometry.MultiPolygon([pol1, pol2])"
   ]
  },
  {
   "cell_type": "markdown",
   "metadata": {},
   "source": [
    "Note that what we got in the last expression is an individual `\"MultiPolygon\"` geometry, *not* two separate polygon geometries:"
   ]
  },
  {
   "cell_type": "code",
   "execution_count": 18,
   "metadata": {},
   "outputs": [
    {
     "name": "stdout",
     "output_type": "stream",
     "text": [
      "MULTIPOLYGON (((0 0, 0 -1, 7.5 -1, 7.5 0, 0 0)), ((0 1, 1 0, 2 0.5, 3 0, 4 0, 5 0.5, 6 -0.5, 7 -0.5, 7 1, 0 1)))\n"
     ]
    }
   ],
   "source": [
    "print(shapely.geometry.MultiPolygon([pol1, pol2]))"
   ]
  },
  {
   "cell_type": "markdown",
   "metadata": {},
   "source": [
    "```{note}\n",
    "The above `\"MultiPolygon\"` geometry is considered *invalid*, i.e., not in agreement with the Simple Features specification (see {ref}`what-are-simple-features`). Validity can be examined using the [`.is_valid`](https://shapely.readthedocs.io/en/stable/manual.html#object.is_valid) property. It is also suggested by the green/red color of the geometry visualization. Specifically, a valid `\"MultiPolygon\"` geometry cannot overlap in an infinite number of points.\n",
    "```"
   ]
  },
  {
   "cell_type": "markdown",
   "metadata": {},
   "source": [
    "### `shapely` from `shape`"
   ]
  },
  {
   "cell_type": "markdown",
   "metadata": {},
   "source": [
    "Our third method to create `shapely` geometries is the [`shapely.geometry.shape`](https://shapely.readthedocs.io/en/stable/manual.html#shapely.geometry.shape) function. This function accepts a [GeoJSON](https://en.wikipedia.org/wiki/GeoJSON)-like `dict` with the geometry definition. In general, the `dict` needs to have two properties: \n",
    "\n",
    "* The `\"type\"` property contains the geometry type\n",
    "* The `\"coordinates\"` property contains the sequences of geometries/parts/coordinates, as `list`s or `tuple`s"
   ]
  },
  {
   "cell_type": "markdown",
   "metadata": {},
   "source": [
    "For example, the following expression uses `shapely.geometry.shape` to create a `\"Point\"` geometry:"
   ]
  },
  {
   "cell_type": "code",
   "execution_count": 19,
   "metadata": {},
   "outputs": [
    {
     "data": {
      "image/svg+xml": [
       "<svg xmlns=\"http://www.w3.org/2000/svg\" xmlns:xlink=\"http://www.w3.org/1999/xlink\" width=\"100.0\" height=\"100.0\" viewBox=\"-1.0 0.0 2.0 2.0\" preserveAspectRatio=\"xMinYMin meet\"><g transform=\"matrix(1,0,0,-1,0,2.0)\"><circle cx=\"0.0\" cy=\"1.0\" r=\"0.06\" stroke=\"#555555\" stroke-width=\"0.02\" fill=\"#66cc99\" opacity=\"0.6\" /></g></svg>"
      ],
      "text/plain": [
       "<shapely.geometry.point.Point at 0x7f65041cabf0>"
      ]
     },
     "execution_count": 19,
     "metadata": {
      "filenames": {
       "image/svg+xml": "/home/leonidas/Documents/uth/Programming/JupyterNotebooks/notes/_build/jupyter_execute/notebooks/Lesson_8/shapely_68_0.svg"
      }
     },
     "output_type": "execute_result"
    }
   ],
   "source": [
    "d = {\"type\": \"Point\", \"coordinates\": (0, 1)}\n",
    "shapely.geometry.shape(d)"
   ]
  },
  {
   "cell_type": "markdown",
   "metadata": {},
   "source": [
    "The following expression uses `shapely.geometry.shape` to create a `\"MultiPolygon\"` geometry. Accordingly, the input `dict` is more complex:"
   ]
  },
  {
   "cell_type": "code",
   "execution_count": 20,
   "metadata": {},
   "outputs": [
    {
     "data": {
      "image/svg+xml": [
       "<svg xmlns=\"http://www.w3.org/2000/svg\" xmlns:xlink=\"http://www.w3.org/1999/xlink\" width=\"100.0\" height=\"100.0\" viewBox=\"8.4 3.4 38.2 43.2\" preserveAspectRatio=\"xMinYMin meet\"><g transform=\"matrix(1,0,0,-1,0,50.0)\"><g><path fill-rule=\"evenodd\" fill=\"#66cc99\" stroke=\"#555555\" stroke-width=\"0.8640000000000001\" opacity=\"0.6\" d=\"M 40.0,40.0 L 20.0,45.0 L 45.0,30.0 L 40.0,40.0 z\" /><path fill-rule=\"evenodd\" fill=\"#66cc99\" stroke=\"#555555\" stroke-width=\"0.8640000000000001\" opacity=\"0.6\" d=\"M 20.0,35.0 L 10.0,30.0 L 10.0,10.0 L 30.0,5.0 L 45.0,20.0 L 20.0,35.0 z M 30.0,20.0 L 20.0,15.0 L 20.0,25.0 L 30.0,20.0 z\" /></g></g></svg>"
      ],
      "text/plain": [
       "<shapely.geometry.multipolygon.MultiPolygon at 0x7f65041cbb80>"
      ]
     },
     "execution_count": 20,
     "metadata": {
      "filenames": {
       "image/svg+xml": "/home/leonidas/Documents/uth/Programming/JupyterNotebooks/notes/_build/jupyter_execute/notebooks/Lesson_8/shapely_70_0.svg"
      }
     },
     "output_type": "execute_result"
    }
   ],
   "source": [
    "d = {\n",
    "  \"type\": \"MultiPolygon\",\n",
    "  \"coordinates\": [\n",
    "    [\n",
    "      [[40, 40], [20, 45], [45, 30], [40, 40]]\n",
    "    ],\n",
    "    [\n",
    "      [[20, 35], [10, 30], [10, 10], [30, 5], [45, 20], \n",
    "      [20, 35]], \n",
    "      [[30, 20], [20, 15], [20, 25], [30, 20]]\n",
    "    ]\n",
    "  ]\n",
    "}\n",
    "shapely.geometry.shape(d)"
   ]
  },
  {
   "cell_type": "markdown",
   "metadata": {},
   "source": [
    "(shapely-geometry-type)=\n",
    "## Geometry type"
   ]
  },
  {
   "cell_type": "markdown",
   "metadata": {},
   "source": [
    "As demonstrated above, the information contained in a `shapely` geometry is basically composed of two items:\n",
    "\n",
    "* The geometry type, such as `\"Point\"`\n",
    "* The coordinate sequence(s) of all shapes comprising the geometry, such as `(0,1)`"
   ]
  },
  {
   "cell_type": "markdown",
   "metadata": {},
   "source": [
    "Using `shapely` methods, we can access the two items. In this section we show how to access geometry type, which is simple enough. In the next section, we discuss the methods to access the coordinates, which is more complex (see {ref}`shapely-coordinates`)."
   ]
  },
  {
   "cell_type": "markdown",
   "metadata": {},
   "source": [
    "The [`.geom_type`](https://shapely.readthedocs.io/en/stable/manual.html#object.geom_type) property of a `shapely` geometry contains the geometry type:"
   ]
  },
  {
   "cell_type": "code",
   "execution_count": 21,
   "metadata": {},
   "outputs": [
    {
     "data": {
      "text/plain": [
       "'Polygon'"
      ]
     },
     "execution_count": 21,
     "metadata": {},
     "output_type": "execute_result"
    }
   ],
   "source": [
    "pol1.geom_type"
   ]
  },
  {
   "cell_type": "markdown",
   "metadata": {},
   "source": [
    "This is a string:"
   ]
  },
  {
   "cell_type": "code",
   "execution_count": 22,
   "metadata": {},
   "outputs": [
    {
     "data": {
      "text/plain": [
       "str"
      ]
     },
     "execution_count": 22,
     "metadata": {},
     "output_type": "execute_result"
    }
   ],
   "source": [
    "type(pol1.geom_type)"
   ]
  },
  {
   "cell_type": "markdown",
   "metadata": {},
   "source": [
    "(shapely-coordinates)=\n",
    "## Geometry coordinates"
   ]
  },
  {
   "cell_type": "markdown",
   "metadata": {},
   "source": [
    "### Overview"
   ]
  },
  {
   "cell_type": "markdown",
   "metadata": {},
   "source": [
    "The other component of a shape (in addition to type, see {ref}`shapely-geometry-type`) is the shape coordinates. In the following sub-sections, we demonstrate the ways we can access the coordinates of the five most commonly used geometry types ({numref}`shapely-accessing-coords`)."
   ]
  },
  {
   "cell_type": "markdown",
   "metadata": {},
   "source": [
    "```{table} Accessing <code>shapely</code> geometry coordinates\n",
    ":name: shapely-accessing-coords\n",
    "\n",
    "| Geometry type | Access method |\n",
    "|---|---|\n",
    "| {ref}`point-coordinates` | `.coords` |\n",
    "| {ref}`linestring-coordinates` | `.coords` |\n",
    "| {ref}`multilinestring-coordinates` | `.geoms[0].coords` |\n",
    "| {ref}`polygon-coordinates` | `.exterior.coords`, `.interiors[0].coords` |\n",
    "| {ref}`multipolygon-coordinates` | `.geoms[0].exterior.coords`, `.geoms[0].interiors[0].coords` |\n",
    "```"
   ]
  },
  {
   "cell_type": "markdown",
   "metadata": {},
   "source": [
    "As we will see, the access method is specific per geometry types, due to their different levels of complexity."
   ]
  },
  {
   "cell_type": "markdown",
   "metadata": {},
   "source": [
    "In practice, it is rarely necessary to access the coordinates *directly*, because there are predefined functions for all common operations involving the coordinates (such as calculating the centroid, see {ref}`shapely-centroid`). However, being aware of the coordinate access methods gives you the freedom, *if necessary*, to develop any type of geometric calculation or algorithm, even if it is not defined in `shapely`, or any other software. Additionally, through the access methods we will become more familiar with the structure and differences between the geometry types."
   ]
  },
  {
   "cell_type": "markdown",
   "metadata": {},
   "source": [
    "(point-coordinates)=\n",
    "### `Point` coordinates"
   ]
  },
  {
   "cell_type": "markdown",
   "metadata": {},
   "source": [
    "`\"Point\"` geometry coordiantes are accessible thought the `.coords` property. The returned object is of a special type called [`CoordinateSequence`](https://shapely.readthedocs.io/en/stable/manual.html#coordinate-sequences):"
   ]
  },
  {
   "cell_type": "code",
   "execution_count": 23,
   "metadata": {},
   "outputs": [
    {
     "data": {
      "text/plain": [
       "<shapely.coords.CoordinateSequence at 0x7f65041cb970>"
      ]
     },
     "execution_count": 23,
     "metadata": {},
     "output_type": "execute_result"
    }
   ],
   "source": [
    "pnt1.coords"
   ]
  },
  {
   "cell_type": "markdown",
   "metadata": {},
   "source": [
    "It can be converted to a more convenient form, of a `list`, using the `list` function:"
   ]
  },
  {
   "cell_type": "code",
   "execution_count": 24,
   "metadata": {},
   "outputs": [
    {
     "data": {
      "text/plain": [
       "[(2.0, 0.5)]"
      ]
     },
     "execution_count": 24,
     "metadata": {},
     "output_type": "execute_result"
    }
   ],
   "source": [
    "list(pnt1.coords)"
   ]
  },
  {
   "cell_type": "markdown",
   "metadata": {},
   "source": [
    "As we can see, coordinates are organized as a `list` of `tuple`s. In this case, since with are talking about a `Point` geometry, the `list` is of length 1, containing a `tuple` of the point coordinates."
   ]
  },
  {
   "cell_type": "markdown",
   "metadata": {},
   "source": [
    "(linestring-coordinates)=\n",
    "### `LineString` coordinates"
   ]
  },
  {
   "cell_type": "markdown",
   "metadata": {},
   "source": [
    "The coordinates of a `\"LineString\"` are accessible in exactly the same way as those of `\"Point\"` (see {ref}`point-coordinates`)."
   ]
  },
  {
   "cell_type": "code",
   "execution_count": 25,
   "metadata": {},
   "outputs": [
    {
     "data": {
      "text/plain": [
       "[(2.0, 0.5), (1.0, 1.0), (-1.0, 0.0), (1.0, 0.0)]"
      ]
     },
     "execution_count": 25,
     "metadata": {},
     "output_type": "execute_result"
    }
   ],
   "source": [
    "list(line1.coords)"
   ]
  },
  {
   "cell_type": "markdown",
   "metadata": {},
   "source": [
    "However, the list is not of length 1, but at least of length 2. For `line1`, the list is of lenght 4, because the line is composed of four points."
   ]
  },
  {
   "cell_type": "markdown",
   "metadata": {},
   "source": [
    "(multilinestring-coordinates)=\n",
    "### `MultiLineString` coordinates"
   ]
  },
  {
   "cell_type": "markdown",
   "metadata": {},
   "source": [
    "For `\"MultiLineString\"` geometries, there is no direct `.coords` method to access the coordinates of all parts at once. Instead, the parts have to be accessed one by one, using the `.geoms` property, combined with an index (starting from `0`). Any particular \"part\" of a `\"MultiLineString\"` geometry behaves the same way as a `\"LineString\"` geometry. Once we are \"inside\" a particular `\"MultiLineString\"` part, we can use any of the properties or methods applicable to a `\"LineString\"` geometry, such as `coords`."
   ]
  },
  {
   "cell_type": "markdown",
   "metadata": {},
   "source": [
    "For example, here is how we can access the two parts of the `\"MultiLineString\"` named `line2`:"
   ]
  },
  {
   "cell_type": "code",
   "execution_count": 26,
   "metadata": {},
   "outputs": [
    {
     "data": {
      "image/svg+xml": [
       "<svg xmlns=\"http://www.w3.org/2000/svg\" xmlns:xlink=\"http://www.w3.org/1999/xlink\" width=\"100.0\" height=\"100.0\" viewBox=\"-1.12 -1.12 3.24 2.24\" preserveAspectRatio=\"xMinYMin meet\"><g transform=\"matrix(1,0,0,-1,0,0.0)\"><polyline fill=\"none\" stroke=\"#66cc99\" stroke-width=\"0.06480000000000001\" points=\"2.0,0.5 1.0,1.0 -1.0,0.0 1.0,-1.0\" opacity=\"0.8\" /></g></svg>"
      ],
      "text/plain": [
       "<shapely.geometry.linestring.LineString at 0x7f65041cb430>"
      ]
     },
     "execution_count": 26,
     "metadata": {
      "filenames": {
       "image/svg+xml": "/home/leonidas/Documents/uth/Programming/JupyterNotebooks/notes/_build/jupyter_execute/notebooks/Lesson_8/shapely_97_0.svg"
      }
     },
     "output_type": "execute_result"
    }
   ],
   "source": [
    "line2.geoms[0]"
   ]
  },
  {
   "cell_type": "code",
   "execution_count": 27,
   "metadata": {},
   "outputs": [
    {
     "data": {
      "image/svg+xml": [
       "<svg xmlns=\"http://www.w3.org/2000/svg\" xmlns:xlink=\"http://www.w3.org/1999/xlink\" width=\"100.0\" height=\"100.0\" viewBox=\"-2.2 -0.7 5.4 1.9\" preserveAspectRatio=\"xMinYMin meet\"><g transform=\"matrix(1,0,0,-1,0,0.5)\"><polyline fill=\"none\" stroke=\"#66cc99\" stroke-width=\"0.10800000000000001\" points=\"-2.0,1.0 2.0,-0.5 3.0,1.0\" opacity=\"0.8\" /></g></svg>"
      ],
      "text/plain": [
       "<shapely.geometry.linestring.LineString at 0x7f65041ca800>"
      ]
     },
     "execution_count": 27,
     "metadata": {
      "filenames": {
       "image/svg+xml": "/home/leonidas/Documents/uth/Programming/JupyterNotebooks/notes/_build/jupyter_execute/notebooks/Lesson_8/shapely_98_0.svg"
      }
     },
     "output_type": "execute_result"
    }
   ],
   "source": [
    "line2.geoms[1]"
   ]
  },
  {
   "cell_type": "markdown",
   "metadata": {},
   "source": [
    "Note that each part of a `\"MultiLineString\"` is a `\"LineString\"`:"
   ]
  },
  {
   "cell_type": "code",
   "execution_count": 28,
   "metadata": {},
   "outputs": [
    {
     "data": {
      "text/plain": [
       "shapely.geometry.linestring.LineString"
      ]
     },
     "execution_count": 28,
     "metadata": {},
     "output_type": "execute_result"
    }
   ],
   "source": [
    "type(line2.geoms[0])"
   ]
  },
  {
   "cell_type": "markdown",
   "metadata": {},
   "source": [
    "In case we do not know in advance how many parts there are, we can use the `len` function to find out:"
   ]
  },
  {
   "cell_type": "code",
   "execution_count": 29,
   "metadata": {},
   "outputs": [
    {
     "data": {
      "text/plain": [
       "2"
      ]
     },
     "execution_count": 29,
     "metadata": {},
     "output_type": "execute_result"
    }
   ],
   "source": [
    "len(line2.geoms)"
   ]
  },
  {
   "cell_type": "markdown",
   "metadata": {},
   "source": [
    "Going further, we can access the coordinates of each part using `.coords` (see {ref}`linestring-coordinates`):"
   ]
  },
  {
   "cell_type": "code",
   "execution_count": 30,
   "metadata": {},
   "outputs": [
    {
     "data": {
      "text/plain": [
       "[(2.0, 0.5), (1.0, 1.0), (-1.0, 0.0), (1.0, -1.0)]"
      ]
     },
     "execution_count": 30,
     "metadata": {},
     "output_type": "execute_result"
    }
   ],
   "source": [
    "list(line2.geoms[0].coords)"
   ]
  },
  {
   "cell_type": "code",
   "execution_count": 31,
   "metadata": {},
   "outputs": [
    {
     "data": {
      "text/plain": [
       "[(-2.0, 1.0), (2.0, -0.5), (3.0, 1.0)]"
      ]
     },
     "execution_count": 31,
     "metadata": {},
     "output_type": "execute_result"
    }
   ],
   "source": [
    "list(line2.geoms[1].coords)"
   ]
  },
  {
   "cell_type": "markdown",
   "metadata": {},
   "source": [
    "(polygon-coordinates)=\n",
    "### `Polygon` coordinates"
   ]
  },
  {
   "cell_type": "markdown",
   "metadata": {},
   "source": [
    "`\"Polygon\"` coordinate sequences are associated with the concepts of *exterior* and *interiors* coordinate sequences: \n",
    "\n",
    "* The **exterior** is the outer bound of the polygon. There is only one exterior sequence per polygon. The `.exterior` property gives direct access to the exterior geometry.\n",
    "* The **interiors** refers to polygon *holes*. There can be zero or more holes in each polygon. Accordingly, the `.interiors` property is a sequence of length zero or more. "
   ]
  },
  {
   "cell_type": "markdown",
   "metadata": {},
   "source": [
    "For example, `pol1` is a `\"Polygon\"` with no holes. We can access the exterior coordinates using `.exterior`, and then `.coords`:"
   ]
  },
  {
   "cell_type": "code",
   "execution_count": 32,
   "metadata": {},
   "outputs": [
    {
     "data": {
      "image/svg+xml": [
       "<svg xmlns=\"http://www.w3.org/2000/svg\" xmlns:xlink=\"http://www.w3.org/1999/xlink\" width=\"100.0\" height=\"100.0\" viewBox=\"-0.3 -1.3 8.1 1.6\" preserveAspectRatio=\"xMinYMin meet\"><g transform=\"matrix(1,0,0,-1,0,-1.0)\"><polyline fill=\"none\" stroke=\"#66cc99\" stroke-width=\"0.162\" points=\"0.0,0.0 0.0,-1.0 7.5,-1.0 7.5,0.0 0.0,0.0\" opacity=\"0.8\" /></g></svg>"
      ],
      "text/plain": [
       "<shapely.geometry.polygon.LinearRing at 0x7f65041ca770>"
      ]
     },
     "execution_count": 32,
     "metadata": {
      "filenames": {
       "image/svg+xml": "/home/leonidas/Documents/uth/Programming/JupyterNotebooks/notes/_build/jupyter_execute/notebooks/Lesson_8/shapely_109_0.svg"
      }
     },
     "output_type": "execute_result"
    }
   ],
   "source": [
    "pol1.exterior"
   ]
  },
  {
   "cell_type": "code",
   "execution_count": 33,
   "metadata": {},
   "outputs": [
    {
     "data": {
      "text/plain": [
       "[(0.0, 0.0), (0.0, -1.0), (7.5, -1.0), (7.5, 0.0), (0.0, 0.0)]"
      ]
     },
     "execution_count": 33,
     "metadata": {},
     "output_type": "execute_result"
    }
   ],
   "source": [
    "list(pol1.exterior.coords)"
   ]
  },
  {
   "cell_type": "markdown",
   "metadata": {},
   "source": [
    "However, the `.interiors` sequence is empty:"
   ]
  },
  {
   "cell_type": "code",
   "execution_count": 34,
   "metadata": {},
   "outputs": [
    {
     "data": {
      "text/plain": [
       "0"
      ]
     },
     "execution_count": 34,
     "metadata": {},
     "output_type": "execute_result"
    }
   ],
   "source": [
    "len(pol1.interiors)"
   ]
  },
  {
   "cell_type": "markdown",
   "metadata": {},
   "source": [
    "You will get a chance to see a non-empty `.interiors` sequence in the next example (see {ref}`multipolygon-coordinates`)."
   ]
  },
  {
   "cell_type": "markdown",
   "metadata": {},
   "source": [
    "(multipolygon-coordinates)=\n",
    "### `MultiPolygon` coordinates"
   ]
  },
  {
   "cell_type": "markdown",
   "metadata": {},
   "source": [
    "`\"MultiPolygon\"` coordinates are accessed by first extracting one of the polygon part, using `.geoms`, similarly to the way we extract `\"MultiLineString\"` parts (see {ref}`multilinestring-coordinates`). Each of the `\"MultiPolygon\"` parts is a `\"Polygon\"` geometry. Therefore, we can use the `exterior` and `interiors` methods to get the coordinates of each part, just like with a standalone `\"Polygon\"` (see {ref}`polygon-coordinates`)."
   ]
  },
  {
   "cell_type": "markdown",
   "metadata": {},
   "source": [
    "For example, `pol3` is a `\"MultiPolygon\"` geometry with two parts, whereas one of the parts has one hole:"
   ]
  },
  {
   "cell_type": "code",
   "execution_count": 35,
   "metadata": {},
   "outputs": [
    {
     "data": {
      "image/svg+xml": [
       "<svg xmlns=\"http://www.w3.org/2000/svg\" xmlns:xlink=\"http://www.w3.org/1999/xlink\" width=\"100.0\" height=\"100.0\" viewBox=\"8.4 3.4 38.2 43.2\" preserveAspectRatio=\"xMinYMin meet\"><g transform=\"matrix(1,0,0,-1,0,50.0)\"><g><path fill-rule=\"evenodd\" fill=\"#66cc99\" stroke=\"#555555\" stroke-width=\"0.8640000000000001\" opacity=\"0.6\" d=\"M 40.0,40.0 L 20.0,45.0 L 45.0,30.0 L 40.0,40.0 z\" /><path fill-rule=\"evenodd\" fill=\"#66cc99\" stroke=\"#555555\" stroke-width=\"0.8640000000000001\" opacity=\"0.6\" d=\"M 20.0,35.0 L 10.0,30.0 L 10.0,10.0 L 30.0,5.0 L 45.0,20.0 L 20.0,35.0 z M 30.0,20.0 L 20.0,15.0 L 20.0,25.0 L 30.0,20.0 z\" /></g></g></svg>"
      ],
      "text/plain": [
       "<shapely.geometry.multipolygon.MultiPolygon at 0x7f6516f177c0>"
      ]
     },
     "execution_count": 35,
     "metadata": {
      "filenames": {
       "image/svg+xml": "/home/leonidas/Documents/uth/Programming/JupyterNotebooks/notes/_build/jupyter_execute/notebooks/Lesson_8/shapely_117_0.svg"
      }
     },
     "output_type": "execute_result"
    }
   ],
   "source": [
    "pol3"
   ]
  },
  {
   "cell_type": "markdown",
   "metadata": {},
   "source": [
    "The `.geoms` method lets us access the parts one by one:"
   ]
  },
  {
   "cell_type": "code",
   "execution_count": 36,
   "metadata": {},
   "outputs": [
    {
     "data": {
      "image/svg+xml": [
       "<svg xmlns=\"http://www.w3.org/2000/svg\" xmlns:xlink=\"http://www.w3.org/1999/xlink\" width=\"100.0\" height=\"100.0\" viewBox=\"19.0 29.0 27.0 17.0\" preserveAspectRatio=\"xMinYMin meet\"><g transform=\"matrix(1,0,0,-1,0,75.0)\"><path fill-rule=\"evenodd\" fill=\"#66cc99\" stroke=\"#555555\" stroke-width=\"0.54\" opacity=\"0.6\" d=\"M 40.0,40.0 L 20.0,45.0 L 45.0,30.0 L 40.0,40.0 z\" /></g></svg>"
      ],
      "text/plain": [
       "<shapely.geometry.polygon.Polygon at 0x7f65041cb520>"
      ]
     },
     "execution_count": 36,
     "metadata": {
      "filenames": {
       "image/svg+xml": "/home/leonidas/Documents/uth/Programming/JupyterNotebooks/notes/_build/jupyter_execute/notebooks/Lesson_8/shapely_119_0.svg"
      }
     },
     "output_type": "execute_result"
    }
   ],
   "source": [
    "pol3.geoms[0]"
   ]
  },
  {
   "cell_type": "code",
   "execution_count": 37,
   "metadata": {},
   "outputs": [
    {
     "data": {
      "image/svg+xml": [
       "<svg xmlns=\"http://www.w3.org/2000/svg\" xmlns:xlink=\"http://www.w3.org/1999/xlink\" width=\"100.0\" height=\"100.0\" viewBox=\"8.6 3.5999999999999996 37.8 32.8\" preserveAspectRatio=\"xMinYMin meet\"><g transform=\"matrix(1,0,0,-1,0,40.0)\"><path fill-rule=\"evenodd\" fill=\"#66cc99\" stroke=\"#555555\" stroke-width=\"0.7559999999999999\" opacity=\"0.6\" d=\"M 20.0,35.0 L 10.0,30.0 L 10.0,10.0 L 30.0,5.0 L 45.0,20.0 L 20.0,35.0 z M 30.0,20.0 L 20.0,15.0 L 20.0,25.0 L 30.0,20.0 z\" /></g></svg>"
      ],
      "text/plain": [
       "<shapely.geometry.polygon.Polygon at 0x7f6516f3ba60>"
      ]
     },
     "execution_count": 37,
     "metadata": {
      "filenames": {
       "image/svg+xml": "/home/leonidas/Documents/uth/Programming/JupyterNotebooks/notes/_build/jupyter_execute/notebooks/Lesson_8/shapely_120_0.svg"
      }
     },
     "output_type": "execute_result"
    }
   ],
   "source": [
    "pol3.geoms[1]"
   ]
  },
  {
   "cell_type": "markdown",
   "metadata": {},
   "source": [
    "Note that each part of a `\"MultiPolygon\"` geometry is a `\"Polygon\"` geometry:"
   ]
  },
  {
   "cell_type": "code",
   "execution_count": 38,
   "metadata": {},
   "outputs": [
    {
     "data": {
      "text/plain": [
       "shapely.geometry.polygon.Polygon"
      ]
     },
     "execution_count": 38,
     "metadata": {},
     "output_type": "execute_result"
    }
   ],
   "source": [
    "type(pol3.geoms[0])"
   ]
  },
  {
   "cell_type": "markdown",
   "metadata": {},
   "source": [
    "Starting with the first part, here is the exterior:"
   ]
  },
  {
   "cell_type": "code",
   "execution_count": 39,
   "metadata": {},
   "outputs": [
    {
     "data": {
      "image/svg+xml": [
       "<svg xmlns=\"http://www.w3.org/2000/svg\" xmlns:xlink=\"http://www.w3.org/1999/xlink\" width=\"100.0\" height=\"100.0\" viewBox=\"19.0 29.0 27.0 17.0\" preserveAspectRatio=\"xMinYMin meet\"><g transform=\"matrix(1,0,0,-1,0,75.0)\"><polyline fill=\"none\" stroke=\"#66cc99\" stroke-width=\"0.54\" points=\"40.0,40.0 20.0,45.0 45.0,30.0 40.0,40.0\" opacity=\"0.8\" /></g></svg>"
      ],
      "text/plain": [
       "<shapely.geometry.polygon.LinearRing at 0x7f6516f14df0>"
      ]
     },
     "execution_count": 39,
     "metadata": {
      "filenames": {
       "image/svg+xml": "/home/leonidas/Documents/uth/Programming/JupyterNotebooks/notes/_build/jupyter_execute/notebooks/Lesson_8/shapely_124_0.svg"
      }
     },
     "output_type": "execute_result"
    }
   ],
   "source": [
    "pol3.geoms[0].exterior"
   ]
  },
  {
   "cell_type": "code",
   "execution_count": 40,
   "metadata": {},
   "outputs": [
    {
     "data": {
      "text/plain": [
       "[(40.0, 40.0), (20.0, 45.0), (45.0, 30.0), (40.0, 40.0)]"
      ]
     },
     "execution_count": 40,
     "metadata": {},
     "output_type": "execute_result"
    }
   ],
   "source": [
    "list(pol3.geoms[0].exterior.coords)"
   ]
  },
  {
   "cell_type": "markdown",
   "metadata": {},
   "source": [
    "As expected, there are no interiors:"
   ]
  },
  {
   "cell_type": "code",
   "execution_count": 41,
   "metadata": {},
   "outputs": [
    {
     "data": {
      "text/plain": [
       "0"
      ]
     },
     "execution_count": 41,
     "metadata": {},
     "output_type": "execute_result"
    }
   ],
   "source": [
    "len(pol3.geoms[0].interiors)"
   ]
  },
  {
   "cell_type": "markdown",
   "metadata": {},
   "source": [
    "Now, here is the second part of the `\"MultiPolygon\"`:"
   ]
  },
  {
   "cell_type": "code",
   "execution_count": 42,
   "metadata": {},
   "outputs": [
    {
     "data": {
      "image/svg+xml": [
       "<svg xmlns=\"http://www.w3.org/2000/svg\" xmlns:xlink=\"http://www.w3.org/1999/xlink\" width=\"100.0\" height=\"100.0\" viewBox=\"8.6 3.5999999999999996 37.8 32.8\" preserveAspectRatio=\"xMinYMin meet\"><g transform=\"matrix(1,0,0,-1,0,40.0)\"><path fill-rule=\"evenodd\" fill=\"#66cc99\" stroke=\"#555555\" stroke-width=\"0.7559999999999999\" opacity=\"0.6\" d=\"M 20.0,35.0 L 10.0,30.0 L 10.0,10.0 L 30.0,5.0 L 45.0,20.0 L 20.0,35.0 z M 30.0,20.0 L 20.0,15.0 L 20.0,25.0 L 30.0,20.0 z\" /></g></svg>"
      ],
      "text/plain": [
       "<shapely.geometry.polygon.Polygon at 0x7f65041cb790>"
      ]
     },
     "execution_count": 42,
     "metadata": {
      "filenames": {
       "image/svg+xml": "/home/leonidas/Documents/uth/Programming/JupyterNotebooks/notes/_build/jupyter_execute/notebooks/Lesson_8/shapely_129_0.svg"
      }
     },
     "output_type": "execute_result"
    }
   ],
   "source": [
    "pol3.geoms[1]"
   ]
  },
  {
   "cell_type": "markdown",
   "metadata": {},
   "source": [
    "Here is the exterior:"
   ]
  },
  {
   "cell_type": "code",
   "execution_count": 43,
   "metadata": {},
   "outputs": [
    {
     "data": {
      "image/svg+xml": [
       "<svg xmlns=\"http://www.w3.org/2000/svg\" xmlns:xlink=\"http://www.w3.org/1999/xlink\" width=\"100.0\" height=\"100.0\" viewBox=\"8.6 3.5999999999999996 37.8 32.8\" preserveAspectRatio=\"xMinYMin meet\"><g transform=\"matrix(1,0,0,-1,0,40.0)\"><polyline fill=\"none\" stroke=\"#66cc99\" stroke-width=\"0.7559999999999999\" points=\"20.0,35.0 10.0,30.0 10.0,10.0 30.0,5.0 45.0,20.0 20.0,35.0\" opacity=\"0.8\" /></g></svg>"
      ],
      "text/plain": [
       "<shapely.geometry.polygon.LinearRing at 0x7f65041ca680>"
      ]
     },
     "execution_count": 43,
     "metadata": {
      "filenames": {
       "image/svg+xml": "/home/leonidas/Documents/uth/Programming/JupyterNotebooks/notes/_build/jupyter_execute/notebooks/Lesson_8/shapely_131_0.svg"
      }
     },
     "output_type": "execute_result"
    }
   ],
   "source": [
    "pol3.geoms[1].exterior"
   ]
  },
  {
   "cell_type": "markdown",
   "metadata": {},
   "source": [
    "and its coordinates:"
   ]
  },
  {
   "cell_type": "code",
   "execution_count": 44,
   "metadata": {},
   "outputs": [
    {
     "data": {
      "text/plain": [
       "[(20.0, 35.0),\n",
       " (10.0, 30.0),\n",
       " (10.0, 10.0),\n",
       " (30.0, 5.0),\n",
       " (45.0, 20.0),\n",
       " (20.0, 35.0)]"
      ]
     },
     "execution_count": 44,
     "metadata": {},
     "output_type": "execute_result"
    }
   ],
   "source": [
    "list(pol3.geoms[1].exterior.coords)"
   ]
  },
  {
   "cell_type": "markdown",
   "metadata": {},
   "source": [
    "This part *does* contain interiors, specifically one \"interior\" (i.e., hole):"
   ]
  },
  {
   "cell_type": "code",
   "execution_count": 45,
   "metadata": {},
   "outputs": [
    {
     "data": {
      "text/plain": [
       "1"
      ]
     },
     "execution_count": 45,
     "metadata": {},
     "output_type": "execute_result"
    }
   ],
   "source": [
    "len(pol3.geoms[1].interiors)"
   ]
  },
  {
   "cell_type": "markdown",
   "metadata": {},
   "source": [
    "Here is how we can access the interior:"
   ]
  },
  {
   "cell_type": "code",
   "execution_count": 46,
   "metadata": {},
   "outputs": [
    {
     "data": {
      "image/svg+xml": [
       "<svg xmlns=\"http://www.w3.org/2000/svg\" xmlns:xlink=\"http://www.w3.org/1999/xlink\" width=\"100.0\" height=\"100.0\" viewBox=\"19.6 14.6 10.799999999999997 10.799999999999999\" preserveAspectRatio=\"xMinYMin meet\"><g transform=\"matrix(1,0,0,-1,0,40.0)\"><polyline fill=\"none\" stroke=\"#66cc99\" stroke-width=\"0.21599999999999997\" points=\"30.0,20.0 20.0,15.0 20.0,25.0 30.0,20.0\" opacity=\"0.8\" /></g></svg>"
      ],
      "text/plain": [
       "<shapely.geometry.polygon.LinearRing at 0x7f65041ca860>"
      ]
     },
     "execution_count": 46,
     "metadata": {
      "filenames": {
       "image/svg+xml": "/home/leonidas/Documents/uth/Programming/JupyterNotebooks/notes/_build/jupyter_execute/notebooks/Lesson_8/shapely_137_0.svg"
      }
     },
     "output_type": "execute_result"
    }
   ],
   "source": [
    "pol3.geoms[1].interiors[0]"
   ]
  },
  {
   "cell_type": "markdown",
   "metadata": {},
   "source": [
    "and its coordinates:"
   ]
  },
  {
   "cell_type": "code",
   "execution_count": 47,
   "metadata": {},
   "outputs": [
    {
     "data": {
      "text/plain": [
       "[(30.0, 20.0), (20.0, 15.0), (20.0, 25.0), (30.0, 20.0)]"
      ]
     },
     "execution_count": 47,
     "metadata": {},
     "output_type": "execute_result"
    }
   ],
   "source": [
    "list(pol3.geoms[1].interiors[0].coords)"
   ]
  },
  {
   "cell_type": "markdown",
   "metadata": {},
   "source": [
    "(shapely-derived-properties)=\n",
    "## Derived properties"
   ]
  },
  {
   "cell_type": "markdown",
   "metadata": {},
   "source": [
    "### Overview"
   ]
  },
  {
   "cell_type": "markdown",
   "metadata": {},
   "source": [
    "The geometry type ({ref}`shapely-geometry-type`), and the geometry coordinates along with their division to parts and interior/exterior sequences ({ref}`shapely-coordinates`), are basic \"internal\" geometry properties. Additionally, there are *derived* useful properties that can be calculated for each geometry. "
   ]
  },
  {
   "cell_type": "markdown",
   "metadata": {},
   "source": [
    "In the next few section we cover several useful derived geometry properties, namely:\n",
    "\n",
    "* `.bounds`—{ref}`shapely-bounding-box`\n",
    "* `.length`—{ref}`shapely-length`\n",
    "* `.area`—{ref}`shapely-area`"
   ]
  },
  {
   "cell_type": "markdown",
   "metadata": {},
   "source": [
    "(shapely-bounding-box)=\n",
    "### Bounds (`shapely`)"
   ]
  },
  {
   "cell_type": "markdown",
   "metadata": {},
   "source": [
    "The `.bounds` property of a `shapely` geometry contains its *bounds*, i.e., the coordinates of the bottom-left $(x_{min}, y_{min})$ and top-right $(x_{max}, y_{max})$ corner. The four coordinates are returned in the form of a tuple of length four $(x_{min}, y_{min}, x_{max}, y_{max})$. For example:"
   ]
  },
  {
   "cell_type": "code",
   "execution_count": 48,
   "metadata": {},
   "outputs": [
    {
     "data": {
      "text/plain": [
       "(0.0, -1.0, 7.5, 0.0)"
      ]
     },
     "execution_count": 48,
     "metadata": {},
     "output_type": "execute_result"
    }
   ],
   "source": [
    "pol1.bounds"
   ]
  },
  {
   "cell_type": "code",
   "execution_count": 49,
   "metadata": {},
   "outputs": [
    {
     "data": {
      "text/plain": [
       "(0.0, -0.5, 7.0, 1.0)"
      ]
     },
     "execution_count": 49,
     "metadata": {},
     "output_type": "execute_result"
    }
   ],
   "source": [
    "pol2.bounds"
   ]
  },
  {
   "cell_type": "code",
   "execution_count": 50,
   "metadata": {},
   "outputs": [
    {
     "data": {
      "text/plain": [
       "(10.0, 5.0, 45.0, 45.0)"
      ]
     },
     "execution_count": 50,
     "metadata": {},
     "output_type": "execute_result"
    }
   ],
   "source": [
    "pol3.bounds"
   ]
  },
  {
   "cell_type": "markdown",
   "metadata": {},
   "source": [
    "Note that even a `\"Point\"` geometry has bounds, where $x_{min}$ is equal to $x_{max}$, and $y_{min}$ is equal to $y_{max}$:"
   ]
  },
  {
   "cell_type": "code",
   "execution_count": 51,
   "metadata": {},
   "outputs": [
    {
     "data": {
      "text/plain": [
       "(2.0, 0.5, 2.0, 0.5)"
      ]
     },
     "execution_count": 51,
     "metadata": {},
     "output_type": "execute_result"
    }
   ],
   "source": [
    "pnt1.bounds"
   ]
  },
  {
   "cell_type": "markdown",
   "metadata": {},
   "source": [
    "The [`shapely.geometry.box`](https://shapely.readthedocs.io/en/stable/manual.html#shapely.geometry.box) function can be used to create a `\"Polygon\"` geometry reflecting the bounding box. For example, the following expression creates the bounding box geometry of `pol3`:"
   ]
  },
  {
   "cell_type": "code",
   "execution_count": 52,
   "metadata": {},
   "outputs": [
    {
     "data": {
      "image/svg+xml": [
       "<svg xmlns=\"http://www.w3.org/2000/svg\" xmlns:xlink=\"http://www.w3.org/1999/xlink\" width=\"100.0\" height=\"100.0\" viewBox=\"8.4 3.4 38.2 43.2\" preserveAspectRatio=\"xMinYMin meet\"><g transform=\"matrix(1,0,0,-1,0,50.0)\"><path fill-rule=\"evenodd\" fill=\"#66cc99\" stroke=\"#555555\" stroke-width=\"0.8640000000000001\" opacity=\"0.6\" d=\"M 45.0,5.0 L 45.0,45.0 L 10.0,45.0 L 10.0,5.0 L 45.0,5.0 z\" /></g></svg>"
      ],
      "text/plain": [
       "<shapely.geometry.polygon.Polygon at 0x7f6516f17220>"
      ]
     },
     "execution_count": 52,
     "metadata": {
      "filenames": {
       "image/svg+xml": "/home/leonidas/Documents/uth/Programming/JupyterNotebooks/notes/_build/jupyter_execute/notebooks/Lesson_8/shapely_152_0.svg"
      }
     },
     "output_type": "execute_result"
    }
   ],
   "source": [
    "shapely.geometry.box(*pol3.bounds)"
   ]
  },
  {
   "cell_type": "markdown",
   "metadata": {},
   "source": [
    "Note that the `shapely.geometry.box` function requires four separate positional arguments (i.e., `box(xmin,ymin,xmax,ymax)`), rather than a tuple. Therefore, in the last expression, we used the positional argument technique (see {ref}`positional-arguments`) to \"unpack\" the `pol3.bounds` tuple into four arguments passed to `box`. The equivalent expression *without* using the positional argument technique would be much longer:"
   ]
  },
  {
   "cell_type": "code",
   "execution_count": 53,
   "metadata": {},
   "outputs": [
    {
     "data": {
      "image/svg+xml": [
       "<svg xmlns=\"http://www.w3.org/2000/svg\" xmlns:xlink=\"http://www.w3.org/1999/xlink\" width=\"100.0\" height=\"100.0\" viewBox=\"8.4 3.4 38.2 43.2\" preserveAspectRatio=\"xMinYMin meet\"><g transform=\"matrix(1,0,0,-1,0,50.0)\"><path fill-rule=\"evenodd\" fill=\"#66cc99\" stroke=\"#555555\" stroke-width=\"0.8640000000000001\" opacity=\"0.6\" d=\"M 45.0,5.0 L 45.0,45.0 L 10.0,45.0 L 10.0,5.0 L 45.0,5.0 z\" /></g></svg>"
      ],
      "text/plain": [
       "<shapely.geometry.polygon.Polygon at 0x7f6516f3b070>"
      ]
     },
     "execution_count": 53,
     "metadata": {
      "filenames": {
       "image/svg+xml": "/home/leonidas/Documents/uth/Programming/JupyterNotebooks/notes/_build/jupyter_execute/notebooks/Lesson_8/shapely_154_0.svg"
      }
     },
     "output_type": "execute_result"
    }
   ],
   "source": [
    "shapely.geometry.box(pol3.bounds[0], pol3.bounds[1], pol3.bounds[2], pol3.bounds[3])"
   ]
  },
  {
   "cell_type": "markdown",
   "metadata": {},
   "source": [
    "```{note}\n",
    "The `.envelope` property ({numref}`shapely-new-geoms-individual`) can be used to directly access the bounding box geometry.\n",
    "```"
   ]
  },
  {
   "cell_type": "markdown",
   "metadata": {},
   "source": [
    "(shapely-length)=\n",
    "### Length (`shapely`)"
   ]
  },
  {
   "cell_type": "markdown",
   "metadata": {},
   "source": [
    "The [`.length`](https://shapely.readthedocs.io/en/stable/manual.html#object.length) property gives the *length* of the geometry. For example, here we calculate the length of `line1`, a `\"LineString\"` geometry:"
   ]
  },
  {
   "cell_type": "code",
   "execution_count": 54,
   "metadata": {},
   "outputs": [
    {
     "data": {
      "image/svg+xml": [
       "<svg xmlns=\"http://www.w3.org/2000/svg\" xmlns:xlink=\"http://www.w3.org/1999/xlink\" width=\"100.0\" height=\"100.0\" viewBox=\"-1.12 -0.12 3.24 1.2400000000000002\" preserveAspectRatio=\"xMinYMin meet\"><g transform=\"matrix(1,0,0,-1,0,1.0)\"><polyline fill=\"none\" stroke=\"#66cc99\" stroke-width=\"0.06480000000000001\" points=\"2.0,0.5 1.0,1.0 -1.0,0.0 1.0,0.0\" opacity=\"0.8\" /></g></svg>"
      ],
      "text/plain": [
       "<shapely.geometry.linestring.LineString at 0x7f65041cba30>"
      ]
     },
     "execution_count": 54,
     "metadata": {
      "filenames": {
       "image/svg+xml": "/home/leonidas/Documents/uth/Programming/JupyterNotebooks/notes/_build/jupyter_execute/notebooks/Lesson_8/shapely_158_0.svg"
      }
     },
     "output_type": "execute_result"
    }
   ],
   "source": [
    "line1"
   ]
  },
  {
   "cell_type": "code",
   "execution_count": 55,
   "metadata": {},
   "outputs": [
    {
     "data": {
      "text/plain": [
       "5.354101966249685"
      ]
     },
     "execution_count": 55,
     "metadata": {},
     "output_type": "execute_result"
    }
   ],
   "source": [
    "line1.length"
   ]
  },
  {
   "cell_type": "markdown",
   "metadata": {},
   "source": [
    "and here we calculate the length of `line2`, which is a `\"MultiLineString\"` geometry:"
   ]
  },
  {
   "cell_type": "code",
   "execution_count": 56,
   "metadata": {},
   "outputs": [
    {
     "data": {
      "image/svg+xml": [
       "<svg xmlns=\"http://www.w3.org/2000/svg\" xmlns:xlink=\"http://www.w3.org/1999/xlink\" width=\"100.0\" height=\"100.0\" viewBox=\"-2.2 -1.2 5.4 2.4\" preserveAspectRatio=\"xMinYMin meet\"><g transform=\"matrix(1,0,0,-1,0,0.0)\"><g><polyline fill=\"none\" stroke=\"#66cc99\" stroke-width=\"0.10800000000000001\" points=\"2.0,0.5 1.0,1.0 -1.0,0.0 1.0,-1.0\" opacity=\"0.8\" /><polyline fill=\"none\" stroke=\"#66cc99\" stroke-width=\"0.10800000000000001\" points=\"-2.0,1.0 2.0,-0.5 3.0,1.0\" opacity=\"0.8\" /></g></g></svg>"
      ],
      "text/plain": [
       "<shapely.geometry.multilinestring.MultiLineString at 0x7f65041cbcd0>"
      ]
     },
     "execution_count": 56,
     "metadata": {
      "filenames": {
       "image/svg+xml": "/home/leonidas/Documents/uth/Programming/JupyterNotebooks/notes/_build/jupyter_execute/notebooks/Lesson_8/shapely_161_0.svg"
      }
     },
     "output_type": "execute_result"
    }
   ],
   "source": [
    "line2"
   ]
  },
  {
   "cell_type": "code",
   "execution_count": 57,
   "metadata": {},
   "outputs": [
    {
     "data": {
      "text/plain": [
       "11.664947454140234"
      ]
     },
     "execution_count": 57,
     "metadata": {},
     "output_type": "execute_result"
    }
   ],
   "source": [
    "line2.length"
   ]
  },
  {
   "cell_type": "markdown",
   "metadata": {},
   "source": [
    "Note that the length (or area, see {ref}`shapely-area`) of a multi-part geometry is the sum of lengths (or areas) of all its *parts*. For example, using the access methods shown above (see {ref}`shapely-coordinates`), we can calculate the length of the two parts that comprise the `\"MultiLineString\"` named `line2`:"
   ]
  },
  {
   "cell_type": "code",
   "execution_count": 58,
   "metadata": {},
   "outputs": [
    {
     "data": {
      "text/plain": [
       "5.5901699437494745"
      ]
     },
     "execution_count": 58,
     "metadata": {},
     "output_type": "execute_result"
    }
   ],
   "source": [
    "line2.geoms[0].length"
   ]
  },
  {
   "cell_type": "code",
   "execution_count": 59,
   "metadata": {},
   "outputs": [
    {
     "data": {
      "text/plain": [
       "6.07477751039076"
      ]
     },
     "execution_count": 59,
     "metadata": {},
     "output_type": "execute_result"
    }
   ],
   "source": [
    "line2.geoms[1].length"
   ]
  },
  {
   "cell_type": "markdown",
   "metadata": {},
   "source": [
    "and demonstrate that the sum of lengths of the two parts is equal to the total geometry length:"
   ]
  },
  {
   "cell_type": "code",
   "execution_count": 60,
   "metadata": {},
   "outputs": [
    {
     "data": {
      "text/plain": [
       "True"
      ]
     },
     "execution_count": 60,
     "metadata": {},
     "output_type": "execute_result"
    }
   ],
   "source": [
    "line2.geoms[0].length + line2.geoms[1].length == line2.length"
   ]
  },
  {
   "cell_type": "markdown",
   "metadata": {},
   "source": [
    "Keep in mind that:\n",
    "\n",
    "* The `.length` of `\"Point\"` or `\"MultiPoint\"` geometries is equal to `0` \n",
    "* The `.length` of `\"Polygon\"` or `\"MultiPolygon\"` geometries refers to the summed perimeters of the exterior and all interiors"
   ]
  },
  {
   "cell_type": "markdown",
   "metadata": {},
   "source": [
    "```{admonition} Exercise 07-c\n",
    ":class: important\n",
    "* `pol1` is a `\"Polygon\"` geometry representing a rectangle in parallel to the x- and y-axes. \n",
    "* Calculate the rectangle perimeter \"manually\" using the formula $(|x_{max} - x_{min}|)*2 + (|y_{max} - y_{min}|)*2$.\n",
    "* Demonstrate that the result is equal to `pol1.length`.\n",
    "```"
   ]
  },
  {
   "cell_type": "markdown",
   "metadata": {},
   "source": [
    "(shapely-area)=\n",
    "### Area (`shapely`)"
   ]
  },
  {
   "cell_type": "markdown",
   "metadata": {},
   "source": [
    "The [`.area`](https://shapely.readthedocs.io/en/stable/manual.html#object.area) property gives the area of a given geometry. For example, here is how we can get the areas of `pol1`, `pol2`, and `pol3`:"
   ]
  },
  {
   "cell_type": "code",
   "execution_count": 61,
   "metadata": {},
   "outputs": [
    {
     "data": {
      "text/plain": [
       "7.5"
      ]
     },
     "execution_count": 61,
     "metadata": {},
     "output_type": "execute_result"
    }
   ],
   "source": [
    "pol1.area"
   ]
  },
  {
   "cell_type": "code",
   "execution_count": 62,
   "metadata": {},
   "outputs": [
    {
     "data": {
      "text/plain": [
       "6.25"
      ]
     },
     "execution_count": 62,
     "metadata": {},
     "output_type": "execute_result"
    }
   ],
   "source": [
    "pol2.area"
   ]
  },
  {
   "cell_type": "code",
   "execution_count": 63,
   "metadata": {},
   "outputs": [
    {
     "data": {
      "text/plain": [
       "712.5"
      ]
     },
     "execution_count": 63,
     "metadata": {},
     "output_type": "execute_result"
    }
   ],
   "source": [
    "pol3.area"
   ]
  },
  {
   "cell_type": "markdown",
   "metadata": {},
   "source": [
    "Keep in mind that the area of `\"Point\"`, `\"MultiPoint\"`, `\"LineString\"`, and `\"MultiLineString\"` geometries is equal to `0`!"
   ]
  },
  {
   "cell_type": "markdown",
   "metadata": {},
   "source": [
    "```{admonition} Exercise 07-d\n",
    ":class: important\n",
    "* Write expressions to calculate the area of each of the two parts that comprise the `\"MultiPolygon\"` named `pol3`. \n",
    "* Write an expression that demonstrates that the sum of the two areas is equal to `pol3.area` (similarly to what we did for length of `line2`, see {ref}`shapely-length`).\n",
    "```"
   ]
  },
  {
   "cell_type": "markdown",
   "metadata": {},
   "source": [
    "(shapely-new-geometries-1)=\n",
    "## New geometries 1"
   ]
  },
  {
   "cell_type": "markdown",
   "metadata": {},
   "source": [
    "### Overview"
   ]
  },
  {
   "cell_type": "markdown",
   "metadata": {},
   "source": [
    "The `shapely` package contains many commonly used methods to create new geometries based on existing ones ({numref}`shapely-new-geoms-individual`). These are defined as properties, or methods, of an existing geometry. In the following sections, we go over three most common ones: `.centroid`, `.buffer()`, and `.convex_hull`."
   ]
  },
  {
   "cell_type": "markdown",
   "metadata": {},
   "source": [
    "```{table} <code>shapely</code> functions to create a new geometry from an input individual geometry\n",
    ":name: shapely-new-geoms-individual\n",
    "\n",
    "| Method | Meaning |\n",
    "|---|---|\n",
    "| `.centroid` | {ref}`shapely-centroid` |\n",
    "| `.buffer()` | {ref}`shapely-buffer` |\n",
    "| `.convex_hull` | {ref}`convex-hull` |\n",
    "| `.envelope` | Bounding box |\n",
    "| `.minimum_rotated_rectangle` | Minimum rotated rectangle | \n",
    "| `.simplify` | Simplified geometry | \n",
    "```"
   ]
  },
  {
   "cell_type": "markdown",
   "metadata": {},
   "source": [
    "(shapely-centroid)=\n",
    "### Centroids (`shapely`)"
   ]
  },
  {
   "cell_type": "markdown",
   "metadata": {},
   "source": [
    "The *centroid* is defined as the center of mass of a geometry. The centroid of a given geometry is obtained through the [`.centroid`](https://shapely.readthedocs.io/en/stable/manual.html#object.centroid) property. For example:"
   ]
  },
  {
   "cell_type": "code",
   "execution_count": 64,
   "metadata": {},
   "outputs": [
    {
     "data": {
      "image/svg+xml": [
       "<svg xmlns=\"http://www.w3.org/2000/svg\" xmlns:xlink=\"http://www.w3.org/1999/xlink\" width=\"100.0\" height=\"100.0\" viewBox=\"3.08 -0.5133333333333334 2.0 2.0\" preserveAspectRatio=\"xMinYMin meet\"><g transform=\"matrix(1,0,0,-1,0,0.9733333333333332)\"><circle cx=\"4.08\" cy=\"0.48666666666666664\" r=\"0.06\" stroke=\"#555555\" stroke-width=\"0.02\" fill=\"#66cc99\" opacity=\"0.6\" /></g></svg>"
      ],
      "text/plain": [
       "<shapely.geometry.point.Point at 0x7f65041cbeb0>"
      ]
     },
     "execution_count": 64,
     "metadata": {
      "filenames": {
       "image/svg+xml": "/home/leonidas/Documents/uth/Programming/JupyterNotebooks/notes/_build/jupyter_execute/notebooks/Lesson_8/shapely_183_0.svg"
      }
     },
     "output_type": "execute_result"
    }
   ],
   "source": [
    "pol2.centroid"
   ]
  },
  {
   "cell_type": "markdown",
   "metadata": {},
   "source": [
    "To visualize the centroid along with the original geometry, we may take advantage of the `\"GeometryCollection\"` geometry type, as follows:"
   ]
  },
  {
   "cell_type": "code",
   "execution_count": 65,
   "metadata": {},
   "outputs": [
    {
     "data": {
      "image/svg+xml": [
       "<svg xmlns=\"http://www.w3.org/2000/svg\" xmlns:xlink=\"http://www.w3.org/1999/xlink\" width=\"100.0\" height=\"100.0\" viewBox=\"-0.28 -0.78 7.5600000000000005 2.06\" preserveAspectRatio=\"xMinYMin meet\"><g transform=\"matrix(1,0,0,-1,0,0.5)\"><g><path fill-rule=\"evenodd\" fill=\"#66cc99\" stroke=\"#555555\" stroke-width=\"0.1512\" opacity=\"0.6\" d=\"M 0.0,1.0 L 1.0,0.0 L 2.0,0.5 L 3.0,0.0 L 4.0,0.0 L 5.0,0.5 L 6.0,-0.5 L 7.0,-0.5 L 7.0,1.0 L 0.0,1.0 z\" /><circle cx=\"4.08\" cy=\"0.48666666666666664\" r=\"0.2268\" stroke=\"#555555\" stroke-width=\"0.0756\" fill=\"#66cc99\" opacity=\"0.6\" /></g></g></svg>"
      ],
      "text/plain": [
       "<shapely.geometry.collection.GeometryCollection at 0x7f65041caad0>"
      ]
     },
     "execution_count": 65,
     "metadata": {
      "filenames": {
       "image/svg+xml": "/home/leonidas/Documents/uth/Programming/JupyterNotebooks/notes/_build/jupyter_execute/notebooks/Lesson_8/shapely_185_0.svg"
      }
     },
     "output_type": "execute_result"
    }
   ],
   "source": [
    "shapely.geometry.GeometryCollection([pol2, pol2.centroid])"
   ]
  },
  {
   "cell_type": "markdown",
   "metadata": {},
   "source": [
    "(shapely-buffer)=\n",
    "### Buffer (`shapely`)"
   ]
  },
  {
   "cell_type": "markdown",
   "metadata": {},
   "source": [
    "A *buffer* is a geometry that encompasses all points within a given distance from the input geometry. In `shapely`, a buffer is calculated using the [`.buffer`](https://shapely.readthedocs.io/en/stable/manual.html#object.buffer) method, given the specified distance. For example, here is a buffer `5` units of distance around `pol1`:"
   ]
  },
  {
   "cell_type": "code",
   "execution_count": 66,
   "metadata": {},
   "outputs": [
    {
     "data": {
      "image/svg+xml": [
       "<svg xmlns=\"http://www.w3.org/2000/svg\" xmlns:xlink=\"http://www.w3.org/1999/xlink\" width=\"100.0\" height=\"100.0\" viewBox=\"-5.7 -6.7 18.9 12.4\" preserveAspectRatio=\"xMinYMin meet\"><g transform=\"matrix(1,0,0,-1,0,-1.0)\"><path fill-rule=\"evenodd\" fill=\"#66cc99\" stroke=\"#555555\" stroke-width=\"0.37799999999999995\" opacity=\"0.6\" d=\"M 0.0,5.0 L 7.5,5.0 L 7.9900857016478035,4.975923633360984 L 8.475451610080642,4.903926402016152 L 8.951423386272312,4.784701678661045 L 9.41341716182545,4.619397662556434 L 9.85698368412999,4.409606321741775 L 10.277851165098012,4.157348061512726 L 10.671966420818228,3.865052266813685 L 11.035533905932738,3.5355339059327373 L 11.365052266813684,3.1719664208182277 L 11.657348061512726,2.777851165098011 L 11.909606321741776,2.3569836841299883 L 12.119397662556434,1.913417161825449 L 12.284701678661044,1.4514233862723116 L 12.403926402016152,0.9754516100806412 L 12.475923633360985,0.490085701647803 L 12.5,0.0 L 12.5,-1.0 L 12.475923633360985,-1.4900857016478035 L 12.403926402016152,-1.9754516100806412 L 12.284701678661044,-2.451423386272311 L 12.119397662556434,-2.913417161825449 L 11.909606321741775,-3.3569836841299887 L 11.657348061512726,-3.777851165098011 L 11.365052266813684,-4.171966420818228 L 11.035533905932738,-4.535533905932738 L 10.671966420818228,-4.865052266813684 L 10.277851165098012,-5.157348061512726 L 9.85698368412999,-5.409606321741775 L 9.41341716182545,-5.619397662556434 L 8.951423386272312,-5.784701678661045 L 8.475451610080642,-5.903926402016152 L 7.9900857016478035,-5.975923633360984 L 7.5,-6.0 L 0.0,-6.0 L -0.49008570164780324,-5.975923633360985 L -0.975451610080641,-5.903926402016152 L -1.4514233862723107,-5.784701678661045 L -1.9134171618254485,-5.619397662556434 L -2.3569836841299887,-5.409606321741776 L -2.77785116509801,-5.157348061512727 L -3.1719664208182268,-4.865052266813685 L -3.5355339059327373,-4.535533905932738 L -3.865052266813685,-4.171966420818228 L -4.157348061512726,-3.777851165098011 L -4.409606321741775,-3.356983684129989 L -4.619397662556434,-2.9134171618254494 L -4.784701678661044,-2.451423386272312 L -4.903926402016152,-1.975451610080643 L -4.975923633360984,-1.4900857016478042 L -5.0,-1.0 L -5.0,0.0 L -4.975923633360984,0.49008570164780413 L -4.903926402016152,0.9754516100806431 L -4.784701678661044,1.451423386272312 L -4.619397662556434,1.9134171618254494 L -4.409606321741775,2.356983684129989 L -4.157348061512726,2.777851165098011 L -3.865052266813685,3.1719664208182277 L -3.5355339059327373,3.5355339059327378 L -3.1719664208182268,3.8650522668136853 L -2.77785116509801,4.157348061512727 L -2.3569836841299887,4.409606321741776 L -1.9134171618254485,4.619397662556434 L -1.4514233862723107,4.784701678661045 L -0.975451610080641,4.903926402016152 L -0.49008570164780324,4.975923633360985 L 0.0,5.0 z\" /></g></svg>"
      ],
      "text/plain": [
       "<shapely.geometry.polygon.Polygon at 0x7f6516f3bc10>"
      ]
     },
     "execution_count": 66,
     "metadata": {
      "filenames": {
       "image/svg+xml": "/home/leonidas/Documents/uth/Programming/JupyterNotebooks/notes/_build/jupyter_execute/notebooks/Lesson_8/shapely_188_0.svg"
      }
     },
     "output_type": "execute_result"
    }
   ],
   "source": [
    "pol1.buffer(5)"
   ]
  },
  {
   "cell_type": "markdown",
   "metadata": {},
   "source": [
    "Here is another example, `pol2` buffered to a distance of `0.75`:"
   ]
  },
  {
   "cell_type": "code",
   "execution_count": 67,
   "metadata": {},
   "outputs": [
    {
     "data": {
      "image/svg+xml": [
       "<svg xmlns=\"http://www.w3.org/2000/svg\" xmlns:xlink=\"http://www.w3.org/1999/xlink\" width=\"100.0\" height=\"100.0\" viewBox=\"-1.09 -1.59 9.18 3.6799999999999997\" preserveAspectRatio=\"xMinYMin meet\"><g transform=\"matrix(1,0,0,-1,0,0.4999999999999998)\"><path fill-rule=\"evenodd\" fill=\"#66cc99\" stroke=\"#555555\" stroke-width=\"0.18359999999999999\" opacity=\"0.6\" d=\"M 0.0,1.75 L 7.0,1.75 L 7.073512855247171,1.7463885450041476 L 7.146317741512096,1.7355889603024228 L 7.2177135079408465,1.7177052517991567 L 7.287012574273818,1.692909649383465 L 7.353547552619498,1.6614409482612662 L 7.416677674764702,1.623602209226909 L 7.475794963122734,1.5797578400220527 L 7.5303300858899105,1.5303300858899105 L 7.579757840022053,1.475794963122734 L 7.623602209226909,1.4166776747647016 L 7.661440948261267,1.3535475526194982 L 7.6929096493834646,1.2870125742738172 L 7.717705251799156,1.2177135079408468 L 7.735588960302422,1.1463177415120962 L 7.746388545004148,1.0735128552471704 L 7.75,1.0 L 7.75,-0.5 L 7.746388545004148,-0.5735128552471705 L 7.735588960302422,-0.6463177415120962 L 7.717705251799156,-0.7177135079408468 L 7.6929096493834646,-0.7870125742738173 L 7.661440948261266,-0.8535475526194983 L 7.623602209226909,-0.9166776747647016 L 7.579757840022053,-0.9757949631227341 L 7.5303300858899105,-1.0303300858899105 L 7.475794963122734,-1.0797578400220527 L 7.416677674764702,-1.123602209226909 L 7.353547552619498,-1.1614409482612662 L 7.287012574273818,-1.192909649383465 L 7.2177135079408465,-1.2177052517991567 L 7.146317741512096,-1.2355889603024228 L 7.073512855247171,-1.2463885450041476 L 7.0,-1.25 L 6.0,-1.25 L 5.926487144752829,-1.2463885450041476 L 5.853682258487904,-1.2355889603024228 L 5.7822864920591535,-1.2177052517991567 L 5.712987425726182,-1.192909649383465 L 5.646452447380502,-1.1614409482612662 L 5.583322325235298,-1.1236022092269091 L 5.524205036877266,-1.0797578400220529 L 5.4696699141100895,-1.0303300858899105 L 4.8519102131884,-0.41257038496822107 L 4.335410196624968,-0.6708203932499369 L 4.2718534279356914,-0.6989962186733301 L 4.205960730280783,-0.7211658461007473 L 4.138298293545152,-0.7371387806936349 L 4.069447514281556,-0.7467777733436588 L 4.0,-0.75 L 3.0,-0.75 L 2.930552485718444,-0.7467777733436588 L 2.861701706454847,-0.7371387806936349 L 2.7940392697192173,-0.7211658461007473 L 2.728146572064308,-0.69899621867333 L 2.6645898033750317,-0.6708203932499369 L 2.0,-0.3385254915624211 L 1.3354101966249685,-0.6708203932499369 L 1.269509624074857,-0.6999032522649322 L 1.2011229998125816,-0.722529957127307 L 1.1308811461507782,-0.7384917911407402 L 1.059431998691601,-0.7476415167254434 L 0.9874346295404833,-0.7498947335894652 L 0.9155531677928661,-0.7452306572667151 L 0.8444506733734691,-0.7336923108402 L 0.7747830207379724,-0.7153861280819523 L 0.707192848855991,-0.6904809716704216 L 0.6423036332828389,-0.6592065755416447 L 0.580713935001377,-0.6218514257424923 L 0.522991879084652,-0.578760099333747 L 0.4696699141100894,-0.5303300858899106 L -0.5303300858899106,0.4696699141100894 L -0.5797578400220528,0.5242050368772659 L -0.623602209226909,0.5833223252352984 L -0.6614409482612662,0.6464524473805016 L -0.692909649383465,0.7129874257261826 L -0.7177052517991567,0.7822864920591532 L -0.7355889603024228,0.8536822584879036 L -0.7463885450041476,0.9264871447528293 L -0.75,0.9999999999999999 L -0.7463885450041476,1.0735128552471704 L -0.7355889603024228,1.1463177415120962 L -0.7177052517991567,1.2177135079408465 L -0.6929096493834651,1.2870125742738172 L -0.6614409482612663,1.3535475526194982 L -0.6236022092269091,1.4166776747647014 L -0.5797578400220529,1.475794963122734 L -0.5303300858899107,1.5303300858899105 L -0.47579496312273445,1.5797578400220524 L -0.41667767476470163,1.623602209226909 L -0.3535475526194984,1.6614409482612662 L -0.28701257427381777,1.692909649383465 L -0.21771350794084682,1.7177052517991567 L -0.1463177415120965,1.7355889603024228 L -0.07351285524717034,1.7463885450041476 L 0.0,1.75 z\" /></g></svg>"
      ],
      "text/plain": [
       "<shapely.geometry.polygon.Polygon at 0x7f6516f15720>"
      ]
     },
     "execution_count": 67,
     "metadata": {
      "filenames": {
       "image/svg+xml": "/home/leonidas/Documents/uth/Programming/JupyterNotebooks/notes/_build/jupyter_execute/notebooks/Lesson_8/shapely_190_0.svg"
      }
     },
     "output_type": "execute_result"
    }
   ],
   "source": [
    "pol2.buffer(0.75)"
   ]
  },
  {
   "cell_type": "markdown",
   "metadata": {},
   "source": [
    "Keep in mind that `shapely` does not have a notion of Coordinate Reference Systems (CRS). The buffer distance, as well as the distances in any other distance-related calculation, are specified in the same (undefined) units as the geometry coordinates. CRS are defined \"on top\" of `shapely` geometries in higher-level packages such as `geopandas` (see {ref}`geopandas-crs` and {ref}`geopandas-reprojection`)."
   ]
  },
  {
   "cell_type": "markdown",
   "metadata": {},
   "source": [
    "Also note that the `.buffer` distance can be negative, in which case the buffer is \"internal\" rather than \"external\"."
   ]
  },
  {
   "cell_type": "markdown",
   "metadata": {},
   "source": [
    "```{admonition} Exercise 07-e\n",
    ":class: important\n",
    "* What do you think will happen when we use a negative buffer which is large enough so that the geometry \"disappears\"? \n",
    "* Use the plot and `print` methods to see how `shapely` represents such an empty polygon.\n",
    "```"
   ]
  },
  {
   "cell_type": "markdown",
   "metadata": {},
   "source": [
    "(convex-hull)=\n",
    "### Convex hull"
   ]
  },
  {
   "cell_type": "markdown",
   "metadata": {},
   "source": [
    "A [Convex Hull](https://en.wikipedia.org/wiki/Convex_hull) is the minimal convex polygon that encompasses the given set of points (or coordinates of a non-point geometry). The convex hull can be obtained through the `convex_hull` property of any `shapely` geometry. For example, here is the convex hull of `pol3`:"
   ]
  },
  {
   "cell_type": "code",
   "execution_count": 68,
   "metadata": {},
   "outputs": [
    {
     "data": {
      "image/svg+xml": [
       "<svg xmlns=\"http://www.w3.org/2000/svg\" xmlns:xlink=\"http://www.w3.org/1999/xlink\" width=\"100.0\" height=\"100.0\" viewBox=\"8.4 3.4 38.2 43.2\" preserveAspectRatio=\"xMinYMin meet\"><g transform=\"matrix(1,0,0,-1,0,50.0)\"><path fill-rule=\"evenodd\" fill=\"#66cc99\" stroke=\"#555555\" stroke-width=\"0.8640000000000001\" opacity=\"0.6\" d=\"M 30.0,5.0 L 10.0,10.0 L 10.0,30.0 L 20.0,45.0 L 40.0,40.0 L 45.0,30.0 L 45.0,20.0 L 30.0,5.0 z\" /></g></svg>"
      ],
      "text/plain": [
       "<shapely.geometry.polygon.Polygon at 0x7f65041ca620>"
      ]
     },
     "execution_count": 68,
     "metadata": {
      "filenames": {
       "image/svg+xml": "/home/leonidas/Documents/uth/Programming/JupyterNotebooks/notes/_build/jupyter_execute/notebooks/Lesson_8/shapely_196_0.svg"
      }
     },
     "output_type": "execute_result"
    }
   ],
   "source": [
    "pol3.convex_hull"
   ]
  },
  {
   "cell_type": "markdown",
   "metadata": {},
   "source": [
    "(shapely-boolean-functions)=\n",
    "## Boolean functions"
   ]
  },
  {
   "cell_type": "markdown",
   "metadata": {},
   "source": [
    "`shapely` includes the standard geometric functions to evaluate *relations* between geometries. These are defined as methods of one geometry, whereas the argument is another geometry ({numref}`shapely-boolean-methods`)."
   ]
  },
  {
   "cell_type": "markdown",
   "metadata": {},
   "source": [
    "```{table} <code>shapely</code> boolean methods\n",
    ":name: shapely-boolean-methods\n",
    "\n",
    "| Method | Meaning |\n",
    "|---|---|\n",
    "| [`.equals`](https://shapely.readthedocs.io/en/stable/manual.html#object.equals) | Equals |\n",
    "| [`.almost_equals`](https://shapely.readthedocs.io/en/stable/manual.html#object.almost_equals) | Approximately equal |\n",
    "| [`.contains`](https://shapely.readthedocs.io/en/stable/manual.html#object.contains) | Contains |\n",
    "| [`.covers`](https://shapely.readthedocs.io/en/stable/manual.html#object.covers) | Covers |\n",
    "| [`.covered_by`](https://shapely.readthedocs.io/en/stable/manual.html#object.covered_by) | Covered by |\n",
    "| [`.crosses`](https://shapely.readthedocs.io/en/stable/manual.html#object.crosses) | Crosses |\n",
    "| [`.disjoint`](https://shapely.readthedocs.io/en/stable/manual.html#object.disjoint) | Disjoint |\n",
    "| [`.intersects`](https://shapely.readthedocs.io/en/stable/manual.html#object.intersects) | Intersects |\n",
    "| [`.overlaps`](https://shapely.readthedocs.io/en/stable/manual.html#object.overlaps) | Overlaps |\n",
    "| [`.touches`](https://shapely.readthedocs.io/en/stable/manual.html#object.touches) | Touches |\n",
    "| [`.within`](https://shapely.readthedocs.io/en/stable/manual.html#object.within) | Within |\n",
    "```"
   ]
  },
  {
   "cell_type": "markdown",
   "metadata": {},
   "source": [
    "For example, the [`.intersects`](https://shapely.readthedocs.io/en/stable/manual.html#object.intersects) method evaluates whether one geometry intersects with another. Here, we examine whether `pol1` intersects with `pol3`:"
   ]
  },
  {
   "cell_type": "code",
   "execution_count": 69,
   "metadata": {},
   "outputs": [
    {
     "data": {
      "text/plain": [
       "False"
      ]
     },
     "execution_count": 69,
     "metadata": {},
     "output_type": "execute_result"
    }
   ],
   "source": [
    "pol1.intersects(pol3)"
   ]
  },
  {
   "cell_type": "markdown",
   "metadata": {},
   "source": [
    "The answer is `False`, meaning that the two geometries *do not* intersect, as evident in the following figure:"
   ]
  },
  {
   "cell_type": "code",
   "execution_count": 70,
   "metadata": {},
   "outputs": [
    {
     "data": {
      "image/svg+xml": [
       "<svg xmlns=\"http://www.w3.org/2000/svg\" xmlns:xlink=\"http://www.w3.org/1999/xlink\" width=\"100.0\" height=\"100.0\" viewBox=\"-1.84 -2.84 48.68000000000001 49.68000000000001\" preserveAspectRatio=\"xMinYMin meet\"><g transform=\"matrix(1,0,0,-1,0,44.0)\"><g><path fill-rule=\"evenodd\" fill=\"#66cc99\" stroke=\"#555555\" stroke-width=\"0.9936000000000001\" opacity=\"0.6\" d=\"M 0.0,0.0 L 0.0,-1.0 L 7.5,-1.0 L 7.5,0.0 L 0.0,0.0 z\" /><g><path fill-rule=\"evenodd\" fill=\"#66cc99\" stroke=\"#555555\" stroke-width=\"0.9936000000000001\" opacity=\"0.6\" d=\"M 40.0,40.0 L 20.0,45.0 L 45.0,30.0 L 40.0,40.0 z\" /><path fill-rule=\"evenodd\" fill=\"#66cc99\" stroke=\"#555555\" stroke-width=\"0.9936000000000001\" opacity=\"0.6\" d=\"M 20.0,35.0 L 10.0,30.0 L 10.0,10.0 L 30.0,5.0 L 45.0,20.0 L 20.0,35.0 z M 30.0,20.0 L 20.0,15.0 L 20.0,25.0 L 30.0,20.0 z\" /></g></g></g></svg>"
      ],
      "text/plain": [
       "<shapely.geometry.collection.GeometryCollection at 0x7f65041caf20>"
      ]
     },
     "execution_count": 70,
     "metadata": {
      "filenames": {
       "image/svg+xml": "/home/leonidas/Documents/uth/Programming/JupyterNotebooks/notes/_build/jupyter_execute/notebooks/Lesson_8/shapely_203_0.svg"
      }
     },
     "output_type": "execute_result"
    }
   ],
   "source": [
    "shapely.geometry.GeometryCollection([pol1, pol3])"
   ]
  },
  {
   "cell_type": "markdown",
   "metadata": {},
   "source": [
    "However, `pol1` *does* intersect with `pol2`:"
   ]
  },
  {
   "cell_type": "code",
   "execution_count": 71,
   "metadata": {},
   "outputs": [
    {
     "data": {
      "text/plain": [
       "True"
      ]
     },
     "execution_count": 71,
     "metadata": {},
     "output_type": "execute_result"
    }
   ],
   "source": [
    "pol1.intersects(pol2)"
   ]
  },
  {
   "cell_type": "markdown",
   "metadata": {},
   "source": [
    "as demonstrated below:"
   ]
  },
  {
   "cell_type": "code",
   "execution_count": 72,
   "metadata": {},
   "outputs": [
    {
     "data": {
      "image/svg+xml": [
       "<svg xmlns=\"http://www.w3.org/2000/svg\" xmlns:xlink=\"http://www.w3.org/1999/xlink\" width=\"100.0\" height=\"100.0\" viewBox=\"-0.3 -1.3 8.1 2.6\" preserveAspectRatio=\"xMinYMin meet\"><g transform=\"matrix(1,0,0,-1,0,0.0)\"><g><path fill-rule=\"evenodd\" fill=\"#66cc99\" stroke=\"#555555\" stroke-width=\"0.162\" opacity=\"0.6\" d=\"M 0.0,0.0 L 0.0,-1.0 L 7.5,-1.0 L 7.5,0.0 L 0.0,0.0 z\" /><path fill-rule=\"evenodd\" fill=\"#66cc99\" stroke=\"#555555\" stroke-width=\"0.162\" opacity=\"0.6\" d=\"M 0.0,1.0 L 1.0,0.0 L 2.0,0.5 L 3.0,0.0 L 4.0,0.0 L 5.0,0.5 L 6.0,-0.5 L 7.0,-0.5 L 7.0,1.0 L 0.0,1.0 z\" /></g></g></svg>"
      ],
      "text/plain": [
       "<shapely.geometry.collection.GeometryCollection at 0x7f65184e8190>"
      ]
     },
     "execution_count": 72,
     "metadata": {
      "filenames": {
       "image/svg+xml": "/home/leonidas/Documents/uth/Programming/JupyterNotebooks/notes/_build/jupyter_execute/notebooks/Lesson_8/shapely_207_0.svg"
      }
     },
     "output_type": "execute_result"
    }
   ],
   "source": [
    "shapely.geometry.GeometryCollection([pol1, pol2])"
   ]
  },
  {
   "cell_type": "markdown",
   "metadata": {},
   "source": [
    "The `.intersects` method is probably the most useful one, since we are usually interested in simply finding out whether the given two geometries intersect or not. There are other functions referring to more specific relations, such as [`.equals`](https://shapely.readthedocs.io/en/stable/manual.html#object.equals), [`.contains`](https://shapely.readthedocs.io/en/stable/manual.html#object.contains), [`.crosses`](https://shapely.readthedocs.io/en/stable/manual.html#object.crosses), and [`.touches`](https://shapely.readthedocs.io/en/stable/manual.html#object.touches) ({numref}`shapely-boolean-methods`). "
   ]
  },
  {
   "cell_type": "markdown",
   "metadata": {},
   "source": [
    "```{note}\n",
    "See the [Binary Predicates](https://shapely.readthedocs.io/en/stable/manual.html#binary-predicates) section in the `shapely` documentation for a complete list and more details on boolean functions for evaluating geometry relations.\n",
    "```"
   ]
  },
  {
   "cell_type": "markdown",
   "metadata": {},
   "source": [
    "(shapely-new-geometries-2)=\n",
    "## New geometries 2"
   ]
  },
  {
   "cell_type": "markdown",
   "metadata": {},
   "source": [
    "### Overview"
   ]
  },
  {
   "cell_type": "markdown",
   "metadata": {},
   "source": [
    "Earlier, we dealt with methods to create a new geometry given an individual input geometry, such as calculating a centroid, a buffer, or a convex hull (see {ref}`shapely-new-geometries-1`). `shapely` also defines the standard methods to create an new geometry based on a *pair* of input geometries, which is what we cover in this section ({ref}`shapely-new-geoms-pair`)."
   ]
  },
  {
   "cell_type": "markdown",
   "metadata": {},
   "source": [
    "```{table} <code>shapely</code> functions to create a new geometry from an input pair of geometries\n",
    ":name: shapely-new-geoms-pair\n",
    "\n",
    "| Method | Meaning |\n",
    "|---|---|\n",
    "| [`.intersection`](https://shapely.readthedocs.io/en/stable/manual.html#object.intersection) | {ref}`shapely-intersection` |\n",
    "| [`.union`](https://shapely.readthedocs.io/en/stable/manual.html#object.union) | {ref}`shapely-union` |\n",
    "| [`.difference`](https://shapely.readthedocs.io/en/stable/manual.html#object.difference) | {ref}`shapely-difference` |\n",
    "| [`.symmetric_difference`](https://shapely.readthedocs.io/en/stable/manual.html#object.symmetric_difference) | Symmetric difference |\n",
    "```"
   ]
  },
  {
   "cell_type": "markdown",
   "metadata": {},
   "source": [
    "For example, given two partially overlapping circles, `x` (left) and `y` (right): "
   ]
  },
  {
   "cell_type": "code",
   "execution_count": 73,
   "metadata": {},
   "outputs": [
    {
     "data": {
      "image/svg+xml": [
       "<svg xmlns=\"http://www.w3.org/2000/svg\" xmlns:xlink=\"http://www.w3.org/1999/xlink\" width=\"100.0\" height=\"100.0\" viewBox=\"-1.12 -1.12 3.24 2.24\" preserveAspectRatio=\"xMinYMin meet\"><g transform=\"matrix(1,0,0,-1,0,0.0)\"><g><path fill-rule=\"evenodd\" fill=\"#66cc99\" stroke=\"#555555\" stroke-width=\"0.06480000000000001\" opacity=\"0.6\" d=\"M 1.0,0.0 L 0.9951847266721969,-0.0980171403295606 L 0.9807852804032304,-0.19509032201612825 L 0.9569403357322088,-0.29028467725446233 L 0.9238795325112867,-0.3826834323650898 L 0.881921264348355,-0.47139673682599764 L 0.8314696123025452,-0.5555702330196022 L 0.773010453362737,-0.6343932841636455 L 0.7071067811865476,-0.7071067811865475 L 0.6343932841636455,-0.773010453362737 L 0.5555702330196023,-0.8314696123025452 L 0.4713967368259978,-0.8819212643483549 L 0.38268343236508984,-0.9238795325112867 L 0.29028467725446233,-0.9569403357322089 L 0.19509032201612833,-0.9807852804032304 L 0.09801714032956077,-0.9951847266721968 L 6.123233995736766e-17,-1.0 L -0.09801714032956065,-0.9951847266721969 L -0.1950903220161282,-0.9807852804032304 L -0.29028467725446216,-0.9569403357322089 L -0.3826834323650897,-0.9238795325112867 L -0.4713967368259977,-0.881921264348355 L -0.555570233019602,-0.8314696123025455 L -0.6343932841636454,-0.7730104533627371 L -0.7071067811865475,-0.7071067811865476 L -0.773010453362737,-0.6343932841636455 L -0.8314696123025453,-0.5555702330196022 L -0.8819212643483549,-0.47139673682599786 L -0.9238795325112867,-0.3826834323650899 L -0.9569403357322088,-0.2902846772544624 L -0.9807852804032304,-0.1950903220161286 L -0.9951847266721968,-0.09801714032956083 L -1.0,-1.2246467991473532e-16 L -0.9951847266721969,0.09801714032956059 L -0.9807852804032304,0.19509032201612836 L -0.9569403357322089,0.2902846772544621 L -0.9238795325112868,0.38268343236508967 L -0.881921264348355,0.47139673682599764 L -0.8314696123025455,0.555570233019602 L -0.7730104533627371,0.6343932841636453 L -0.7071067811865477,0.7071067811865475 L -0.6343932841636459,0.7730104533627367 L -0.5555702330196022,0.8314696123025452 L -0.47139673682599786,0.8819212643483549 L -0.38268343236509034,0.9238795325112865 L -0.29028467725446244,0.9569403357322088 L -0.19509032201612866,0.9807852804032303 L -0.09801714032956045,0.9951847266721969 L -1.8369701987210297e-16,1.0 L 0.09801714032956009,0.9951847266721969 L 0.1950903220161283,0.9807852804032304 L 0.29028467725446205,0.9569403357322089 L 0.38268343236509,0.9238795325112866 L 0.4713967368259976,0.881921264348355 L 0.5555702330196018,0.8314696123025455 L 0.6343932841636456,0.7730104533627369 L 0.7071067811865474,0.7071067811865477 L 0.7730104533627367,0.6343932841636459 L 0.8314696123025452,0.5555702330196022 L 0.8819212643483548,0.4713967368259979 L 0.9238795325112865,0.3826834323650904 L 0.9569403357322088,0.2902846772544625 L 0.9807852804032303,0.19509032201612872 L 0.9951847266721969,0.0980171403295605 L 1.0,0.0 z\" /><path fill-rule=\"evenodd\" fill=\"#66cc99\" stroke=\"#555555\" stroke-width=\"0.06480000000000001\" opacity=\"0.6\" d=\"M 2.0,0.0 L 1.995184726672197,-0.0980171403295606 L 1.9807852804032304,-0.19509032201612825 L 1.9569403357322088,-0.29028467725446233 L 1.9238795325112867,-0.3826834323650898 L 1.881921264348355,-0.47139673682599764 L 1.8314696123025453,-0.5555702330196022 L 1.7730104533627369,-0.6343932841636455 L 1.7071067811865475,-0.7071067811865475 L 1.6343932841636455,-0.773010453362737 L 1.5555702330196022,-0.8314696123025452 L 1.471396736825998,-0.8819212643483549 L 1.3826834323650898,-0.9238795325112867 L 1.2902846772544623,-0.9569403357322089 L 1.1950903220161284,-0.9807852804032304 L 1.0980171403295609,-0.9951847266721968 L 1.0,-1.0 L 0.9019828596704393,-0.9951847266721969 L 0.8049096779838718,-0.9807852804032304 L 0.7097153227455378,-0.9569403357322089 L 0.6173165676349103,-0.9238795325112867 L 0.5286032631740023,-0.881921264348355 L 0.44442976698039804,-0.8314696123025455 L 0.3656067158363546,-0.7730104533627371 L 0.29289321881345254,-0.7071067811865476 L 0.226989546637263,-0.6343932841636455 L 0.16853038769745465,-0.5555702330196022 L 0.11807873565164506,-0.47139673682599786 L 0.07612046748871326,-0.3826834323650899 L 0.043059664267791176,-0.2902846772544624 L 0.01921471959676957,-0.1950903220161286 L 0.004815273327803182,-0.09801714032956083 L 0.0,-1.2246467991473532e-16 L 0.004815273327803071,0.09801714032956059 L 0.01921471959676957,0.19509032201612836 L 0.043059664267791065,0.2902846772544621 L 0.07612046748871315,0.38268343236508967 L 0.11807873565164495,0.47139673682599764 L 0.16853038769745454,0.555570233019602 L 0.2269895466372629,0.6343932841636453 L 0.2928932188134523,0.7071067811865475 L 0.36560671583635407,0.7730104533627367 L 0.4444297669803978,0.8314696123025452 L 0.5286032631740021,0.8819212643483549 L 0.6173165676349097,0.9238795325112865 L 0.7097153227455375,0.9569403357322088 L 0.8049096779838714,0.9807852804032303 L 0.9019828596704396,0.9951847266721969 L 0.9999999999999998,1.0 L 1.09801714032956,0.9951847266721969 L 1.1950903220161284,0.9807852804032304 L 1.290284677254462,0.9569403357322089 L 1.38268343236509,0.9238795325112866 L 1.4713967368259975,0.881921264348355 L 1.5555702330196017,0.8314696123025455 L 1.6343932841636457,0.7730104533627369 L 1.7071067811865475,0.7071067811865477 L 1.7730104533627367,0.6343932841636459 L 1.8314696123025453,0.5555702330196022 L 1.881921264348355,0.4713967368259979 L 1.9238795325112865,0.3826834323650904 L 1.9569403357322088,0.2902846772544625 L 1.9807852804032304,0.19509032201612872 L 1.995184726672197,0.0980171403295605 L 2.0,0.0 z\" /></g></g></svg>"
      ],
      "text/plain": [
       "<shapely.geometry.collection.GeometryCollection at 0x7f6516f388b0>"
      ]
     },
     "execution_count": 73,
     "metadata": {
      "filenames": {
       "image/svg+xml": "/home/leonidas/Documents/uth/Programming/JupyterNotebooks/notes/_build/jupyter_execute/notebooks/Lesson_8/shapely_215_0.svg"
      }
     },
     "output_type": "execute_result"
    }
   ],
   "source": [
    "x = shapely.geometry.Point((0, 0)).buffer(1)\n",
    "y = shapely.geometry.Point((1, 0)).buffer(1)\n",
    "shapely.geometry.GeometryCollection([x, y])"
   ]
  },
  {
   "cell_type": "markdown",
   "metadata": {},
   "source": [
    "Here is the intersection:"
   ]
  },
  {
   "cell_type": "code",
   "execution_count": 74,
   "metadata": {},
   "outputs": [
    {
     "data": {
      "image/svg+xml": [
       "<svg xmlns=\"http://www.w3.org/2000/svg\" xmlns:xlink=\"http://www.w3.org/1999/xlink\" width=\"100.0\" height=\"100.0\" viewBox=\"-0.06918217025390595 -0.9339592984277304 1.1383643405078119 1.8679185968554608\" preserveAspectRatio=\"xMinYMin meet\"><g transform=\"matrix(1,0,0,-1,0,0.0)\"><path fill-rule=\"evenodd\" fill=\"#66cc99\" stroke=\"#555555\" stroke-width=\"0.03735837193710922\" opacity=\"0.6\" d=\"M 0.9951847266721969,-0.0980171403295606 L 0.9807852804032304,-0.19509032201612825 L 0.9569403357322088,-0.29028467725446233 L 0.9238795325112867,-0.3826834323650898 L 0.881921264348355,-0.47139673682599764 L 0.8314696123025452,-0.5555702330196022 L 0.773010453362737,-0.6343932841636455 L 0.7071067811865476,-0.7071067811865475 L 0.6343932841636455,-0.773010453362737 L 0.5555702330196023,-0.8314696123025452 L 0.49999999999999994,-0.8647771281738245 L 0.44442976698039804,-0.8314696123025455 L 0.3656067158363546,-0.7730104533627371 L 0.29289321881345254,-0.7071067811865476 L 0.226989546637263,-0.6343932841636455 L 0.16853038769745465,-0.5555702330196022 L 0.11807873565164506,-0.47139673682599786 L 0.07612046748871326,-0.3826834323650899 L 0.043059664267791176,-0.2902846772544624 L 0.01921471959676957,-0.1950903220161286 L 0.004815273327803182,-0.09801714032956083 L 0.0,-1.2246467991473532e-16 L 0.004815273327803071,0.09801714032956059 L 0.01921471959676957,0.19509032201612836 L 0.043059664267791065,0.2902846772544621 L 0.07612046748871315,0.38268343236508967 L 0.11807873565164495,0.47139673682599764 L 0.16853038769745454,0.555570233019602 L 0.2269895466372629,0.6343932841636453 L 0.2928932188134523,0.7071067811865475 L 0.36560671583635407,0.7730104533627367 L 0.4444297669803978,0.8314696123025452 L 0.49999999999999994,0.8647771281738245 L 0.5555702330196018,0.8314696123025455 L 0.6343932841636456,0.7730104533627369 L 0.7071067811865474,0.7071067811865477 L 0.7730104533627367,0.6343932841636459 L 0.8314696123025452,0.5555702330196022 L 0.8819212643483548,0.4713967368259979 L 0.9238795325112865,0.3826834323650904 L 0.9569403357322088,0.2902846772544625 L 0.9807852804032303,0.19509032201612872 L 0.9951847266721969,0.0980171403295605 L 1.0,0.0 L 0.9951847266721969,-0.0980171403295606 z\" /></g></svg>"
      ],
      "text/plain": [
       "<shapely.geometry.polygon.Polygon at 0x7f6516f3bb20>"
      ]
     },
     "execution_count": 74,
     "metadata": {
      "filenames": {
       "image/svg+xml": "/home/leonidas/Documents/uth/Programming/JupyterNotebooks/notes/_build/jupyter_execute/notebooks/Lesson_8/shapely_217_0.svg"
      }
     },
     "output_type": "execute_result"
    }
   ],
   "source": [
    "x.intersection(y)"
   ]
  },
  {
   "cell_type": "markdown",
   "metadata": {},
   "source": [
    "Here is the difference of `x` from `y`:"
   ]
  },
  {
   "cell_type": "code",
   "execution_count": 75,
   "metadata": {},
   "outputs": [
    {
     "data": {
      "image/svg+xml": [
       "<svg xmlns=\"http://www.w3.org/2000/svg\" xmlns:xlink=\"http://www.w3.org/1999/xlink\" width=\"100.0\" height=\"100.0\" viewBox=\"-1.08 -1.08 1.6600000000000001 2.16\" preserveAspectRatio=\"xMinYMin meet\"><g transform=\"matrix(1,0,0,-1,0,0.0)\"><path fill-rule=\"evenodd\" fill=\"#66cc99\" stroke=\"#555555\" stroke-width=\"0.0432\" opacity=\"0.6\" d=\"M 0.4713967368259978,-0.8819212643483549 L 0.38268343236508984,-0.9238795325112867 L 0.29028467725446233,-0.9569403357322089 L 0.19509032201612833,-0.9807852804032304 L 0.09801714032956077,-0.9951847266721968 L 6.123233995736766e-17,-1.0 L -0.09801714032956065,-0.9951847266721969 L -0.1950903220161282,-0.9807852804032304 L -0.29028467725446216,-0.9569403357322089 L -0.3826834323650897,-0.9238795325112867 L -0.4713967368259977,-0.881921264348355 L -0.555570233019602,-0.8314696123025455 L -0.6343932841636454,-0.7730104533627371 L -0.7071067811865475,-0.7071067811865476 L -0.773010453362737,-0.6343932841636455 L -0.8314696123025453,-0.5555702330196022 L -0.8819212643483549,-0.47139673682599786 L -0.9238795325112867,-0.3826834323650899 L -0.9569403357322088,-0.2902846772544624 L -0.9807852804032304,-0.1950903220161286 L -0.9951847266721968,-0.09801714032956083 L -1.0,-1.2246467991473532e-16 L -0.9951847266721969,0.09801714032956059 L -0.9807852804032304,0.19509032201612836 L -0.9569403357322089,0.2902846772544621 L -0.9238795325112868,0.38268343236508967 L -0.881921264348355,0.47139673682599764 L -0.8314696123025455,0.555570233019602 L -0.7730104533627371,0.6343932841636453 L -0.7071067811865477,0.7071067811865475 L -0.6343932841636459,0.7730104533627367 L -0.5555702330196022,0.8314696123025452 L -0.47139673682599786,0.8819212643483549 L -0.38268343236509034,0.9238795325112865 L -0.29028467725446244,0.9569403357322088 L -0.19509032201612866,0.9807852804032303 L -0.09801714032956045,0.9951847266721969 L -1.8369701987210297e-16,1.0 L 0.09801714032956009,0.9951847266721969 L 0.1950903220161283,0.9807852804032304 L 0.29028467725446205,0.9569403357322089 L 0.38268343236509,0.9238795325112866 L 0.4713967368259976,0.881921264348355 L 0.49999999999999994,0.8647771281738245 L 0.4444297669803978,0.8314696123025452 L 0.36560671583635407,0.7730104533627367 L 0.2928932188134523,0.7071067811865475 L 0.2269895466372629,0.6343932841636453 L 0.16853038769745454,0.555570233019602 L 0.11807873565164495,0.47139673682599764 L 0.07612046748871315,0.38268343236508967 L 0.043059664267791065,0.2902846772544621 L 0.01921471959676957,0.19509032201612836 L 0.004815273327803071,0.09801714032956059 L 0.0,-1.2246467991473532e-16 L 0.004815273327803182,-0.09801714032956083 L 0.01921471959676957,-0.1950903220161286 L 0.043059664267791176,-0.2902846772544624 L 0.07612046748871326,-0.3826834323650899 L 0.11807873565164506,-0.47139673682599786 L 0.16853038769745465,-0.5555702330196022 L 0.226989546637263,-0.6343932841636455 L 0.29289321881345254,-0.7071067811865476 L 0.3656067158363546,-0.7730104533627371 L 0.44442976698039804,-0.8314696123025455 L 0.49999999999999994,-0.8647771281738245 L 0.4713967368259978,-0.8819212643483549 z\" /></g></svg>"
      ],
      "text/plain": [
       "<shapely.geometry.polygon.Polygon at 0x7f6516f15e40>"
      ]
     },
     "execution_count": 75,
     "metadata": {
      "filenames": {
       "image/svg+xml": "/home/leonidas/Documents/uth/Programming/JupyterNotebooks/notes/_build/jupyter_execute/notebooks/Lesson_8/shapely_219_0.svg"
      }
     },
     "output_type": "execute_result"
    }
   ],
   "source": [
    "x.difference(y)"
   ]
  },
  {
   "cell_type": "markdown",
   "metadata": {},
   "source": [
    "And here is the union:"
   ]
  },
  {
   "cell_type": "code",
   "execution_count": 76,
   "metadata": {},
   "outputs": [
    {
     "data": {
      "image/svg+xml": [
       "<svg xmlns=\"http://www.w3.org/2000/svg\" xmlns:xlink=\"http://www.w3.org/1999/xlink\" width=\"100.0\" height=\"100.0\" viewBox=\"-1.12 -1.12 3.24 2.24\" preserveAspectRatio=\"xMinYMin meet\"><g transform=\"matrix(1,0,0,-1,0,0.0)\"><path fill-rule=\"evenodd\" fill=\"#66cc99\" stroke=\"#555555\" stroke-width=\"0.06480000000000001\" opacity=\"0.6\" d=\"M 0.4713967368259978,-0.8819212643483549 L 0.38268343236508984,-0.9238795325112867 L 0.29028467725446233,-0.9569403357322089 L 0.19509032201612833,-0.9807852804032304 L 0.09801714032956077,-0.9951847266721968 L 6.123233995736766e-17,-1.0 L -0.09801714032956065,-0.9951847266721969 L -0.1950903220161282,-0.9807852804032304 L -0.29028467725446216,-0.9569403357322089 L -0.3826834323650897,-0.9238795325112867 L -0.4713967368259977,-0.881921264348355 L -0.555570233019602,-0.8314696123025455 L -0.6343932841636454,-0.7730104533627371 L -0.7071067811865475,-0.7071067811865476 L -0.773010453362737,-0.6343932841636455 L -0.8314696123025453,-0.5555702330196022 L -0.8819212643483549,-0.47139673682599786 L -0.9238795325112867,-0.3826834323650899 L -0.9569403357322088,-0.2902846772544624 L -0.9807852804032304,-0.1950903220161286 L -0.9951847266721968,-0.09801714032956083 L -1.0,-1.2246467991473532e-16 L -0.9951847266721969,0.09801714032956059 L -0.9807852804032304,0.19509032201612836 L -0.9569403357322089,0.2902846772544621 L -0.9238795325112868,0.38268343236508967 L -0.881921264348355,0.47139673682599764 L -0.8314696123025455,0.555570233019602 L -0.7730104533627371,0.6343932841636453 L -0.7071067811865477,0.7071067811865475 L -0.6343932841636459,0.7730104533627367 L -0.5555702330196022,0.8314696123025452 L -0.47139673682599786,0.8819212643483549 L -0.38268343236509034,0.9238795325112865 L -0.29028467725446244,0.9569403357322088 L -0.19509032201612866,0.9807852804032303 L -0.09801714032956045,0.9951847266721969 L -1.8369701987210297e-16,1.0 L 0.09801714032956009,0.9951847266721969 L 0.1950903220161283,0.9807852804032304 L 0.29028467725446205,0.9569403357322089 L 0.38268343236509,0.9238795325112866 L 0.4713967368259976,0.881921264348355 L 0.49999999999999994,0.8647771281738245 L 0.5286032631740021,0.8819212643483549 L 0.6173165676349097,0.9238795325112865 L 0.7097153227455375,0.9569403357322088 L 0.8049096779838714,0.9807852804032303 L 0.9019828596704396,0.9951847266721969 L 0.9999999999999998,1.0 L 1.09801714032956,0.9951847266721969 L 1.1950903220161284,0.9807852804032304 L 1.290284677254462,0.9569403357322089 L 1.38268343236509,0.9238795325112866 L 1.4713967368259975,0.881921264348355 L 1.5555702330196017,0.8314696123025455 L 1.6343932841636457,0.7730104533627369 L 1.7071067811865475,0.7071067811865477 L 1.7730104533627367,0.6343932841636459 L 1.8314696123025453,0.5555702330196022 L 1.881921264348355,0.4713967368259979 L 1.9238795325112865,0.3826834323650904 L 1.9569403357322088,0.2902846772544625 L 1.9807852804032304,0.19509032201612872 L 1.995184726672197,0.0980171403295605 L 2.0,0.0 L 1.995184726672197,-0.0980171403295606 L 1.9807852804032304,-0.19509032201612825 L 1.9569403357322088,-0.29028467725446233 L 1.9238795325112867,-0.3826834323650898 L 1.881921264348355,-0.47139673682599764 L 1.8314696123025453,-0.5555702330196022 L 1.7730104533627369,-0.6343932841636455 L 1.7071067811865475,-0.7071067811865475 L 1.6343932841636455,-0.773010453362737 L 1.5555702330196022,-0.8314696123025452 L 1.471396736825998,-0.8819212643483549 L 1.3826834323650898,-0.9238795325112867 L 1.2902846772544623,-0.9569403357322089 L 1.1950903220161284,-0.9807852804032304 L 1.0980171403295609,-0.9951847266721968 L 1.0,-1.0 L 0.9019828596704393,-0.9951847266721969 L 0.8049096779838718,-0.9807852804032304 L 0.7097153227455378,-0.9569403357322089 L 0.6173165676349103,-0.9238795325112867 L 0.5286032631740023,-0.881921264348355 L 0.49999999999999994,-0.8647771281738245 L 0.4713967368259978,-0.8819212643483549 z\" /></g></svg>"
      ],
      "text/plain": [
       "<shapely.geometry.polygon.Polygon at 0x7f65041cabc0>"
      ]
     },
     "execution_count": 76,
     "metadata": {
      "filenames": {
       "image/svg+xml": "/home/leonidas/Documents/uth/Programming/JupyterNotebooks/notes/_build/jupyter_execute/notebooks/Lesson_8/shapely_221_0.svg"
      }
     },
     "output_type": "execute_result"
    }
   ],
   "source": [
    "x.union(y)"
   ]
  },
  {
   "cell_type": "markdown",
   "metadata": {},
   "source": [
    "In the next three sub-sections we elaborate on each of those methods."
   ]
  },
  {
   "cell_type": "markdown",
   "metadata": {},
   "source": [
    "```{note}\n",
    "Another function of the same \"group\", which we do not cover here, is `.symmetric_difference`. See the documentation: <https://shapely.readthedocs.io/en/stable/manual.html#object.symmetric_difference>.\n",
    "```"
   ]
  },
  {
   "cell_type": "markdown",
   "metadata": {},
   "source": [
    "(shapely-intersection)=\n",
    "### Intersection"
   ]
  },
  {
   "cell_type": "markdown",
   "metadata": {},
   "source": [
    "The *intersection* of two geometries is defined, in plain terms, as their shared area. Given two geometries `x` and `y`, the intersection is given by the [`.intersection`](https://shapely.readthedocs.io/en/stable/manual.html#object.intersection) method, as in `x.intersection(y)`. Note that, since the intersection operator is *symmetric*, `y.intersection(x)` gives the same result."
   ]
  },
  {
   "cell_type": "markdown",
   "metadata": {},
   "source": [
    "As an example, let us calculate the area of intersection of `pol1` and `pol2`:"
   ]
  },
  {
   "cell_type": "code",
   "execution_count": 77,
   "metadata": {},
   "outputs": [
    {
     "data": {
      "image/svg+xml": [
       "<svg xmlns=\"http://www.w3.org/2000/svg\" xmlns:xlink=\"http://www.w3.org/1999/xlink\" width=\"100.0\" height=\"100.0\" viewBox=\"0.76 -0.74 6.48 0.98\" preserveAspectRatio=\"xMinYMin meet\"><g transform=\"matrix(1,0,0,-1,0,-0.5)\"><g><path fill-rule=\"evenodd\" fill=\"#66cc99\" stroke=\"#555555\" stroke-width=\"0.12960000000000002\" opacity=\"0.6\" d=\"M 7.0,0.0 L 7.0,-0.5 L 6.0,-0.5 L 5.5,0.0 L 7.0,0.0 z\" /><polyline fill=\"none\" stroke=\"#66cc99\" stroke-width=\"0.12960000000000002\" points=\"4.0,0.0 3.0,0.0\" opacity=\"0.8\" /><circle cx=\"1.0\" cy=\"0.0\" r=\"0.19440000000000002\" stroke=\"#555555\" stroke-width=\"0.06480000000000001\" fill=\"#66cc99\" opacity=\"0.6\" /></g></g></svg>"
      ],
      "text/plain": [
       "<shapely.geometry.collection.GeometryCollection at 0x7f65041caf80>"
      ]
     },
     "execution_count": 77,
     "metadata": {
      "filenames": {
       "image/svg+xml": "/home/leonidas/Documents/uth/Programming/JupyterNotebooks/notes/_build/jupyter_execute/notebooks/Lesson_8/shapely_227_0.svg"
      }
     },
     "output_type": "execute_result"
    }
   ],
   "source": [
    "pol1.intersection(pol2)"
   ]
  },
  {
   "cell_type": "markdown",
   "metadata": {},
   "source": [
    "These two polygons were intentionally [^intersection_geometrycollection] constructed in such a way that their intersection results in three parts: a `\"Point\"`, a `\"LineString\"`, and a `\"Polygon\"`. Since the result must still be contained in a single geometry object, this must be a `\"GeometryCollection\"` ({numref}`geometry-types-wkt-examples`):"
   ]
  },
  {
   "cell_type": "markdown",
   "metadata": {},
   "source": [
    "[^intersection_geometrycollection]: The polygon coordinates are from an example in the `sf` R package documentation: <https://cran.r-project.org/web/packages/sf/vignettes/sf1.html>."
   ]
  },
  {
   "cell_type": "code",
   "execution_count": 78,
   "metadata": {},
   "outputs": [
    {
     "name": "stdout",
     "output_type": "stream",
     "text": [
      "GEOMETRYCOLLECTION (POLYGON ((7 0, 7 -0.5, 6 -0.5, 5.5 0, 7 0)), LINESTRING (4 0, 3 0), POINT (1 0))\n"
     ]
    }
   ],
   "source": [
    "print(pol1.intersection(pol2))"
   ]
  },
  {
   "cell_type": "markdown",
   "metadata": {},
   "source": [
    "Note that the intersection of two geometries may be an *empty* geometry, in case the geometries do not have even one point in common:"
   ]
  },
  {
   "cell_type": "code",
   "execution_count": 79,
   "metadata": {},
   "outputs": [
    {
     "name": "stdout",
     "output_type": "stream",
     "text": [
      "POLYGON EMPTY\n"
     ]
    }
   ],
   "source": [
    "print(pol1.intersection(pol3))"
   ]
  },
  {
   "cell_type": "markdown",
   "metadata": {},
   "source": [
    "(shapely-union)=\n",
    "### Union"
   ]
  },
  {
   "cell_type": "markdown",
   "metadata": {},
   "source": [
    "The [`.union`](https://shapely.readthedocs.io/en/stable/manual.html#object.union) method, as in `x.union(y)`, returns the area of covered by at least one of the geometries `x` and `y` (or both). For example, recall `pol1` and `pol2`:"
   ]
  },
  {
   "cell_type": "code",
   "execution_count": 80,
   "metadata": {},
   "outputs": [
    {
     "data": {
      "image/svg+xml": [
       "<svg xmlns=\"http://www.w3.org/2000/svg\" xmlns:xlink=\"http://www.w3.org/1999/xlink\" width=\"100.0\" height=\"100.0\" viewBox=\"-0.3 -1.3 8.1 2.6\" preserveAspectRatio=\"xMinYMin meet\"><g transform=\"matrix(1,0,0,-1,0,0.0)\"><g><path fill-rule=\"evenodd\" fill=\"#66cc99\" stroke=\"#555555\" stroke-width=\"0.162\" opacity=\"0.6\" d=\"M 0.0,0.0 L 0.0,-1.0 L 7.5,-1.0 L 7.5,0.0 L 0.0,0.0 z\" /><path fill-rule=\"evenodd\" fill=\"#66cc99\" stroke=\"#555555\" stroke-width=\"0.162\" opacity=\"0.6\" d=\"M 0.0,1.0 L 1.0,0.0 L 2.0,0.5 L 3.0,0.0 L 4.0,0.0 L 5.0,0.5 L 6.0,-0.5 L 7.0,-0.5 L 7.0,1.0 L 0.0,1.0 z\" /></g></g></svg>"
      ],
      "text/plain": [
       "<shapely.geometry.collection.GeometryCollection at 0x7f65184e8a60>"
      ]
     },
     "execution_count": 80,
     "metadata": {
      "filenames": {
       "image/svg+xml": "/home/leonidas/Documents/uth/Programming/JupyterNotebooks/notes/_build/jupyter_execute/notebooks/Lesson_8/shapely_235_0.svg"
      }
     },
     "output_type": "execute_result"
    }
   ],
   "source": [
    "shapely.geometry.GeometryCollection([pol1, pol2])"
   ]
  },
  {
   "cell_type": "markdown",
   "metadata": {},
   "source": [
    "Here is their union:"
   ]
  },
  {
   "cell_type": "code",
   "execution_count": 81,
   "metadata": {},
   "outputs": [
    {
     "data": {
      "image/svg+xml": [
       "<svg xmlns=\"http://www.w3.org/2000/svg\" xmlns:xlink=\"http://www.w3.org/1999/xlink\" width=\"100.0\" height=\"100.0\" viewBox=\"-0.3 -1.3 8.1 2.6\" preserveAspectRatio=\"xMinYMin meet\"><g transform=\"matrix(1,0,0,-1,0,0.0)\"><path fill-rule=\"evenodd\" fill=\"#66cc99\" stroke=\"#555555\" stroke-width=\"0.162\" opacity=\"0.6\" d=\"M 7.5,0.0 L 7.5,-1.0 L 0.0,-1.0 L 0.0,0.0 L 1.0,0.0 L 0.0,1.0 L 7.0,1.0 L 7.0,0.0 L 7.5,0.0 z M 3.0,0.0 L 2.0,0.5 L 1.0,0.0 L 3.0,0.0 z M 5.5,0.0 L 5.0,0.5 L 4.0,0.0 L 5.5,0.0 z\" /></g></svg>"
      ],
      "text/plain": [
       "<shapely.geometry.polygon.Polygon at 0x7f65041ca9b0>"
      ]
     },
     "execution_count": 81,
     "metadata": {
      "filenames": {
       "image/svg+xml": "/home/leonidas/Documents/uth/Programming/JupyterNotebooks/notes/_build/jupyter_execute/notebooks/Lesson_8/shapely_237_0.svg"
      }
     },
     "output_type": "execute_result"
    }
   ],
   "source": [
    "pol1.union(pol2)"
   ]
  },
  {
   "cell_type": "markdown",
   "metadata": {},
   "source": [
    "Like `.intersection` (see {ref}`shapely-intersection`), the `.union` operation is *symmetric*. For example, `pol2.union(pol1)` gives the same result as above:"
   ]
  },
  {
   "cell_type": "code",
   "execution_count": 82,
   "metadata": {},
   "outputs": [
    {
     "data": {
      "image/svg+xml": [
       "<svg xmlns=\"http://www.w3.org/2000/svg\" xmlns:xlink=\"http://www.w3.org/1999/xlink\" width=\"100.0\" height=\"100.0\" viewBox=\"-0.3 -1.3 8.1 2.6\" preserveAspectRatio=\"xMinYMin meet\"><g transform=\"matrix(1,0,0,-1,0,0.0)\"><path fill-rule=\"evenodd\" fill=\"#66cc99\" stroke=\"#555555\" stroke-width=\"0.162\" opacity=\"0.6\" d=\"M 0.0,1.0 L 7.0,1.0 L 7.0,0.0 L 7.5,0.0 L 7.5,-1.0 L 0.0,-1.0 L 0.0,0.0 L 1.0,0.0 L 0.0,1.0 z M 3.0,0.0 L 2.0,0.5 L 1.0,0.0 L 3.0,0.0 z M 5.0,0.5 L 4.0,0.0 L 5.5,0.0 L 5.0,0.5 z\" /></g></svg>"
      ],
      "text/plain": [
       "<shapely.geometry.polygon.Polygon at 0x7f65041cbf70>"
      ]
     },
     "execution_count": 82,
     "metadata": {
      "filenames": {
       "image/svg+xml": "/home/leonidas/Documents/uth/Programming/JupyterNotebooks/notes/_build/jupyter_execute/notebooks/Lesson_8/shapely_239_0.svg"
      }
     },
     "output_type": "execute_result"
    }
   ],
   "source": [
    "pol2.union(pol1)"
   ]
  },
  {
   "cell_type": "markdown",
   "metadata": {},
   "source": [
    "(shapely-difference)=\n",
    "### Difference"
   ]
  },
  {
   "cell_type": "markdown",
   "metadata": {},
   "source": [
    "The third commonly used pairwise operator to create a new geometry is the [`.difference`](https://shapely.readthedocs.io/en/stable/manual.html#object.difference) method. The operation `x.difference(y)` returns the area of `x` *minus* the area of `y`. For example:"
   ]
  },
  {
   "cell_type": "code",
   "execution_count": 83,
   "metadata": {},
   "outputs": [
    {
     "data": {
      "image/svg+xml": [
       "<svg xmlns=\"http://www.w3.org/2000/svg\" xmlns:xlink=\"http://www.w3.org/1999/xlink\" width=\"100.0\" height=\"100.0\" viewBox=\"-1.08 -1.08 1.6600000000000001 2.16\" preserveAspectRatio=\"xMinYMin meet\"><g transform=\"matrix(1,0,0,-1,0,0.0)\"><path fill-rule=\"evenodd\" fill=\"#66cc99\" stroke=\"#555555\" stroke-width=\"0.0432\" opacity=\"0.6\" d=\"M 0.4713967368259978,-0.8819212643483549 L 0.38268343236508984,-0.9238795325112867 L 0.29028467725446233,-0.9569403357322089 L 0.19509032201612833,-0.9807852804032304 L 0.09801714032956077,-0.9951847266721968 L 6.123233995736766e-17,-1.0 L -0.09801714032956065,-0.9951847266721969 L -0.1950903220161282,-0.9807852804032304 L -0.29028467725446216,-0.9569403357322089 L -0.3826834323650897,-0.9238795325112867 L -0.4713967368259977,-0.881921264348355 L -0.555570233019602,-0.8314696123025455 L -0.6343932841636454,-0.7730104533627371 L -0.7071067811865475,-0.7071067811865476 L -0.773010453362737,-0.6343932841636455 L -0.8314696123025453,-0.5555702330196022 L -0.8819212643483549,-0.47139673682599786 L -0.9238795325112867,-0.3826834323650899 L -0.9569403357322088,-0.2902846772544624 L -0.9807852804032304,-0.1950903220161286 L -0.9951847266721968,-0.09801714032956083 L -1.0,-1.2246467991473532e-16 L -0.9951847266721969,0.09801714032956059 L -0.9807852804032304,0.19509032201612836 L -0.9569403357322089,0.2902846772544621 L -0.9238795325112868,0.38268343236508967 L -0.881921264348355,0.47139673682599764 L -0.8314696123025455,0.555570233019602 L -0.7730104533627371,0.6343932841636453 L -0.7071067811865477,0.7071067811865475 L -0.6343932841636459,0.7730104533627367 L -0.5555702330196022,0.8314696123025452 L -0.47139673682599786,0.8819212643483549 L -0.38268343236509034,0.9238795325112865 L -0.29028467725446244,0.9569403357322088 L -0.19509032201612866,0.9807852804032303 L -0.09801714032956045,0.9951847266721969 L -1.8369701987210297e-16,1.0 L 0.09801714032956009,0.9951847266721969 L 0.1950903220161283,0.9807852804032304 L 0.29028467725446205,0.9569403357322089 L 0.38268343236509,0.9238795325112866 L 0.4713967368259976,0.881921264348355 L 0.49999999999999994,0.8647771281738245 L 0.4444297669803978,0.8314696123025452 L 0.36560671583635407,0.7730104533627367 L 0.2928932188134523,0.7071067811865475 L 0.2269895466372629,0.6343932841636453 L 0.16853038769745454,0.555570233019602 L 0.11807873565164495,0.47139673682599764 L 0.07612046748871315,0.38268343236508967 L 0.043059664267791065,0.2902846772544621 L 0.01921471959676957,0.19509032201612836 L 0.004815273327803071,0.09801714032956059 L 0.0,-1.2246467991473532e-16 L 0.004815273327803182,-0.09801714032956083 L 0.01921471959676957,-0.1950903220161286 L 0.043059664267791176,-0.2902846772544624 L 0.07612046748871326,-0.3826834323650899 L 0.11807873565164506,-0.47139673682599786 L 0.16853038769745465,-0.5555702330196022 L 0.226989546637263,-0.6343932841636455 L 0.29289321881345254,-0.7071067811865476 L 0.3656067158363546,-0.7730104533627371 L 0.44442976698039804,-0.8314696123025455 L 0.49999999999999994,-0.8647771281738245 L 0.4713967368259978,-0.8819212643483549 z\" /></g></svg>"
      ],
      "text/plain": [
       "<shapely.geometry.polygon.Polygon at 0x7f65184e8640>"
      ]
     },
     "execution_count": 83,
     "metadata": {
      "filenames": {
       "image/svg+xml": "/home/leonidas/Documents/uth/Programming/JupyterNotebooks/notes/_build/jupyter_execute/notebooks/Lesson_8/shapely_242_0.svg"
      }
     },
     "output_type": "execute_result"
    }
   ],
   "source": [
    "x.difference(y)  # The area of 'x' minus the area of 'y'"
   ]
  },
  {
   "cell_type": "markdown",
   "metadata": {},
   "source": [
    "Unlike `.intersection` and `.union`, the `.difference` method is asymmetric. Namely, `y.difference(x)` is not the same as `x.difference(y)`:"
   ]
  },
  {
   "cell_type": "code",
   "execution_count": 84,
   "metadata": {},
   "outputs": [
    {
     "data": {
      "image/svg+xml": [
       "<svg xmlns=\"http://www.w3.org/2000/svg\" xmlns:xlink=\"http://www.w3.org/1999/xlink\" width=\"100.0\" height=\"100.0\" viewBox=\"0.41999999999999993 -1.08 1.6600000000000001 2.16\" preserveAspectRatio=\"xMinYMin meet\"><g transform=\"matrix(1,0,0,-1,0,0.0)\"><path fill-rule=\"evenodd\" fill=\"#66cc99\" stroke=\"#555555\" stroke-width=\"0.0432\" opacity=\"0.6\" d=\"M 1.995184726672197,-0.0980171403295606 L 1.9807852804032304,-0.19509032201612825 L 1.9569403357322088,-0.29028467725446233 L 1.9238795325112867,-0.3826834323650898 L 1.881921264348355,-0.47139673682599764 L 1.8314696123025453,-0.5555702330196022 L 1.7730104533627369,-0.6343932841636455 L 1.7071067811865475,-0.7071067811865475 L 1.6343932841636455,-0.773010453362737 L 1.5555702330196022,-0.8314696123025452 L 1.471396736825998,-0.8819212643483549 L 1.3826834323650898,-0.9238795325112867 L 1.2902846772544623,-0.9569403357322089 L 1.1950903220161284,-0.9807852804032304 L 1.0980171403295609,-0.9951847266721968 L 1.0,-1.0 L 0.9019828596704393,-0.9951847266721969 L 0.8049096779838718,-0.9807852804032304 L 0.7097153227455378,-0.9569403357322089 L 0.6173165676349103,-0.9238795325112867 L 0.5286032631740023,-0.881921264348355 L 0.49999999999999994,-0.8647771281738245 L 0.5555702330196023,-0.8314696123025452 L 0.6343932841636455,-0.773010453362737 L 0.7071067811865476,-0.7071067811865475 L 0.773010453362737,-0.6343932841636455 L 0.8314696123025452,-0.5555702330196022 L 0.881921264348355,-0.47139673682599764 L 0.9238795325112867,-0.3826834323650898 L 0.9569403357322088,-0.29028467725446233 L 0.9807852804032304,-0.19509032201612825 L 0.9951847266721969,-0.0980171403295606 L 1.0,0.0 L 0.9951847266721969,0.0980171403295605 L 0.9807852804032303,0.19509032201612872 L 0.9569403357322088,0.2902846772544625 L 0.9238795325112865,0.3826834323650904 L 0.8819212643483548,0.4713967368259979 L 0.8314696123025452,0.5555702330196022 L 0.7730104533627367,0.6343932841636459 L 0.7071067811865474,0.7071067811865477 L 0.6343932841636456,0.7730104533627369 L 0.5555702330196018,0.8314696123025455 L 0.49999999999999994,0.8647771281738245 L 0.5286032631740021,0.8819212643483549 L 0.6173165676349097,0.9238795325112865 L 0.7097153227455375,0.9569403357322088 L 0.8049096779838714,0.9807852804032303 L 0.9019828596704396,0.9951847266721969 L 0.9999999999999998,1.0 L 1.09801714032956,0.9951847266721969 L 1.1950903220161284,0.9807852804032304 L 1.290284677254462,0.9569403357322089 L 1.38268343236509,0.9238795325112866 L 1.4713967368259975,0.881921264348355 L 1.5555702330196017,0.8314696123025455 L 1.6343932841636457,0.7730104533627369 L 1.7071067811865475,0.7071067811865477 L 1.7730104533627367,0.6343932841636459 L 1.8314696123025453,0.5555702330196022 L 1.881921264348355,0.4713967368259979 L 1.9238795325112865,0.3826834323650904 L 1.9569403357322088,0.2902846772544625 L 1.9807852804032304,0.19509032201612872 L 1.995184726672197,0.0980171403295605 L 2.0,0.0 L 1.995184726672197,-0.0980171403295606 z\" /></g></svg>"
      ],
      "text/plain": [
       "<shapely.geometry.polygon.Polygon at 0x7f65041cac50>"
      ]
     },
     "execution_count": 84,
     "metadata": {
      "filenames": {
       "image/svg+xml": "/home/leonidas/Documents/uth/Programming/JupyterNotebooks/notes/_build/jupyter_execute/notebooks/Lesson_8/shapely_244_0.svg"
      }
     },
     "output_type": "execute_result"
    }
   ],
   "source": [
    "y.difference(x)  # The area of 'y' minus the area of 'x'"
   ]
  },
  {
   "cell_type": "markdown",
   "metadata": {},
   "source": [
    "```{admonition} Exercise 07-f\n",
    ":class: important\n",
    "* Calculate the difference between the bounding box of `pol3`, and `pol3` ({numref}`exercise-07-f1`).\n",
    "* Create a polygon where the `pol1` rectangular polygon comprises a polygon hole. To do that, apply a buffer on `pol1`, then \"erase\" the the original `pol1` from the buffered one using `.difference` ({numref}`exercise-07-f2`). \n",
    "```"
   ]
  },
  {
   "cell_type": "markdown",
   "metadata": {},
   "source": [
    "```{glue:figure} exercise-07-f1\n",
    "---\n",
    "name: exercise-07-f1\n",
    "---\n",
    "Solution of exercise-07-f: Difference between bounding box of `pol3` and self \n",
    "```"
   ]
  },
  {
   "cell_type": "markdown",
   "metadata": {},
   "source": [
    "```{glue:figure} exercise-07-f2\n",
    "---\n",
    "name: exercise-07-f2\n",
    "---\n",
    "Solution of exercise-07-f: A polygon where the `pol1` comprises a hole\n",
    "```"
   ]
  },
  {
   "cell_type": "markdown",
   "metadata": {},
   "source": [
    "(shapely-distance)=\n",
    "## Distance (`shapely`)"
   ]
  },
  {
   "cell_type": "markdown",
   "metadata": {},
   "source": [
    "Another very common operation in spatial analysis is the calculation of *distance*. As part of our analysis we often need to figure out how far are the given geometries from each other. For example, we may need to calculate what is the distance of a particular city from a source of air pollution such as a power plants, and so on."
   ]
  },
  {
   "cell_type": "markdown",
   "metadata": {},
   "source": [
    "In `shapely`, the distance between two geometries `x` and `y` is calculated using the [`.distance`](https://shapely.readthedocs.io/en/stable/manual.html#object.distance) method, as in `x.distance(y)`. For example, the following expression returns the distance between `pol1` and `pol3`:"
   ]
  },
  {
   "cell_type": "code",
   "execution_count": 85,
   "metadata": {},
   "outputs": [
    {
     "data": {
      "text/plain": [
       "10.307764064044152"
      ]
     },
     "execution_count": 85,
     "metadata": {},
     "output_type": "execute_result"
    }
   ],
   "source": [
    "pol1.distance(pol3)"
   ]
  },
  {
   "cell_type": "markdown",
   "metadata": {},
   "source": [
    "```{admonition} Exercise 07-g\n",
    ":class: important\n",
    "* Do you think the `.distance` operator is *symmetric*? \n",
    "* Execute the reverse `pol3.distance(pol1)` to check your answer.\n",
    "```"
   ]
  },
  {
   "cell_type": "markdown",
   "metadata": {},
   "source": [
    "Keep in mind that distance is defnied as \"shortest\" distance, i.e., the minimal distance between any pair of points on the two geometries."
   ]
  },
  {
   "cell_type": "markdown",
   "metadata": {},
   "source": [
    "As can be expected, the distance between two geometries that *intersect* is zero. For example:"
   ]
  },
  {
   "cell_type": "code",
   "execution_count": 86,
   "metadata": {},
   "outputs": [
    {
     "data": {
      "text/plain": [
       "0.0"
      ]
     },
     "execution_count": 86,
     "metadata": {},
     "output_type": "execute_result"
    }
   ],
   "source": [
    "pol1.distance(pol2)"
   ]
  },
  {
   "cell_type": "markdown",
   "metadata": {},
   "source": [
    "(shapely-geometry-casting)=\n",
    "## Points to line (`shapely`)"
   ]
  },
  {
   "cell_type": "markdown",
   "metadata": {},
   "source": [
    "Geometry transformations, sometimes called \"geometry casting\", are operations where we convert a geometry from one type to another. Not all combinations make sense, and not all are useful. For example, there is no sensible way to transform a `\"Point\"` to a `\"Polygon\"`, because a valid polygon needs to be composed of at least three coordinates (a triangle). A `\"Polygon\"`, however, can always be transformed to a `\"MultiPoint\"`, which represents the the polygon coordinates as separate points."
   ]
  },
  {
   "cell_type": "markdown",
   "metadata": {},
   "source": [
    "One of the most useful geometry casting operations, which we will come back to later on in the book (see {ref}`geopandas-points-to-line`) is the transformation of a `\"MultiPoint\"` geometry, or a set of `\"Point\"` geometries, to a `\"LineString\"` geometry which \"connects\" the points according to their given order. For example, a series of chronologically ordered GPS readings, may be connected to a `\"LineString\"` representing the recorded *route*. This type of casting facilitates further analysis, such as visualizing the route, calculating its total length, figuring out which areas the route goes through, and so on."
   ]
  },
  {
   "cell_type": "markdown",
   "metadata": {},
   "source": [
    "We have already seen that the `shapely.geometry.LineString` function accepts a `list` of coordinates ({ref}`shapely-create-specific-functions`). Alternatively, the `shapely.geometry.LineString` function can accept `list` of `\"Point\"` geometries, and \"transform\" it into a `\"LineString\"`. To demonstrate, let us create five `\"Point\"` geometries named `p1`, `p2`, `p3`, `p4`, and `p5`, using `wkt.loads` ({ref}`shapely-from-wkt`):"
   ]
  },
  {
   "cell_type": "code",
   "execution_count": 87,
   "metadata": {},
   "outputs": [],
   "source": [
    "p1 = shapely.wkt.loads(\"POINT (0 0)\")\n",
    "p2 = shapely.wkt.loads(\"POINT (1 1)\")\n",
    "p3 = shapely.wkt.loads(\"POINT (2 -1)\")\n",
    "p4 = shapely.wkt.loads(\"POINT (2.5 2)\")\n",
    "p5 = shapely.wkt.loads(\"POINT (1 -1)\")"
   ]
  },
  {
   "cell_type": "markdown",
   "metadata": {},
   "source": [
    "Next, we combine the geometries into a `list` named `p`:"
   ]
  },
  {
   "cell_type": "code",
   "execution_count": 88,
   "metadata": {},
   "outputs": [
    {
     "data": {
      "text/plain": [
       "[<shapely.geometry.point.Point at 0x7f65041cba90>,\n",
       " <shapely.geometry.point.Point at 0x7f6516f3b0a0>,\n",
       " <shapely.geometry.point.Point at 0x7f65041ca890>,\n",
       " <shapely.geometry.point.Point at 0x7f65041cbe20>,\n",
       " <shapely.geometry.point.Point at 0x7f65041ca7a0>]"
      ]
     },
     "execution_count": 88,
     "metadata": {},
     "output_type": "execute_result"
    }
   ],
   "source": [
    "p = [p1, p2, p3, p4, p5]\n",
    "p"
   ]
  },
  {
   "cell_type": "markdown",
   "metadata": {},
   "source": [
    "Now we can use the `shapely.geometry.LineString` function to transform the `list` of point geometries to a `\"LineString\"` geometry:"
   ]
  },
  {
   "cell_type": "code",
   "execution_count": 89,
   "metadata": {},
   "outputs": [
    {
     "data": {
      "image/svg+xml": [
       "<svg xmlns=\"http://www.w3.org/2000/svg\" xmlns:xlink=\"http://www.w3.org/1999/xlink\" width=\"100.0\" height=\"100.0\" viewBox=\"-0.12 -1.12 2.74 3.24\" preserveAspectRatio=\"xMinYMin meet\"><g transform=\"matrix(1,0,0,-1,0,1.0)\"><polyline fill=\"none\" stroke=\"#66cc99\" stroke-width=\"0.06480000000000001\" points=\"0.0,0.0 1.0,1.0 2.0,-1.0 2.5,2.0 1.0,-1.0\" opacity=\"0.8\" /></g></svg>"
      ],
      "text/plain": [
       "<shapely.geometry.linestring.LineString at 0x7f65184e84c0>"
      ]
     },
     "execution_count": 89,
     "metadata": {
      "filenames": {
       "image/svg+xml": "/home/leonidas/Documents/uth/Programming/JupyterNotebooks/notes/_build/jupyter_execute/notebooks/Lesson_8/shapely_264_0.svg"
      }
     },
     "output_type": "execute_result"
    }
   ],
   "source": [
    "shapely.geometry.LineString(p)"
   ]
  },
  {
   "cell_type": "markdown",
   "metadata": {},
   "source": [
    "We will come back to this technque for a more realistic example (see {ref}`geopandas-points-to-line`), where we are going to calculate a `\"LineString\"` geometryies of public transport routes based on the GTFS dataset (see {ref}`what-is-gtfs`)."
   ]
  },
  {
   "cell_type": "markdown",
   "metadata": {},
   "source": [
    "(exercise-shapely)=\n",
    "## More exercises"
   ]
  },
  {
   "cell_type": "markdown",
   "metadata": {},
   "source": [
    "```{admonition} Exercise 07-h\n",
    ":class: important\n",
    "* Create two geometries—a square and a circle—in such a way that they partially overlap, so that $1\\over4$ of the circle area overlaps with the square ({numref}`exercise-07-h0`). Hint: use the buffer function applied on a point geometry to create the circle.\n",
    "* Calculate and plot the geometry representing the *union* of the square and the circle ({numref}`exercise-07-h1`).\n",
    "* Calculate and plot the geometry representing the *intersection* of the square and the circle ({numref}`exercise-07-h2`). \n",
    "* Calculate the *area* of the intersection and of the the union geometries. \n",
    "```"
   ]
  },
  {
   "cell_type": "markdown",
   "metadata": {},
   "source": [
    "```{glue:figure} exercise-07-h0\n",
    "---\n",
    "name: exercise-07-h0\n",
    "---\n",
    "Solution of exercise-07-h: Overlapping square and circle\n",
    "```"
   ]
  },
  {
   "cell_type": "markdown",
   "metadata": {},
   "source": [
    "```{glue:figure} exercise-07-h1\n",
    "---\n",
    "name: exercise-07-h1\n",
    "---\n",
    "Solution of exercise-07-h: Union of square and circle\n",
    "```"
   ]
  },
  {
   "cell_type": "markdown",
   "metadata": {},
   "source": [
    "```{glue:figure} exercise-07-h2\n",
    "---\n",
    "name: exercise-07-h2\n",
    "---\n",
    "Solution of exercise-07-h2: Intersection of square and circle\n",
    "```"
   ]
  },
  {
   "cell_type": "markdown",
   "metadata": {},
   "source": [
    "```{admonition} Exercise 07-i\n",
    ":class: important\n",
    "* Execute the code section given below to get a `DataFrame` with the location of bus stops along bus line 24 in Beer-Sheva, the route which goes from Ramot to Beer-Sheva Central Bus Station. The bus stop coordinates are in the `\"stop_lon\"` and `\"stop_lat\"` columns.\n",
    "* Calculate and plot a `MultiPoint` geometry with all stop locations ({numref}`exercise-07-i_stops_pnt`). Hint: extract the contents of the `\"stop_lon\"` and `\"stop_lat\"` columns as a list of lists/tuples, then use appropriate function to create a `MulpiPoint` geometry (see {ref}`shapely-create-specific-functions`).\n",
    "* Calculate and plot a `LineString` geometry with of the bus route ({numref}`exercise-07-i_stops_line`).\n",
    "* Calculate and plot a `LineString` geometry with the straight line between the *first* and *last* bus stops ({numref}`exercise-07-i_stops_line1`).\n",
    "* Calculate and plot the convex hull polygon (see {ref}`convex-hull`) of the bus stops ({numref}`exercise-07-i_ch`).\n",
    "\n",
    "```py\n",
    "import pandas as pd\n",
    "stops = pd.read_csv(\"data/gtfs/stops.txt\")\n",
    "stop_times = pd.read_csv(\"data/gtfs/stop_times.txt\")\n",
    "stops = stops[[\"stop_id\", \"stop_name\", \"stop_lon\", \"stop_lat\"]]\n",
    "stop_times = stop_times[[\"trip_id\", \"stop_id\", \"stop_sequence\"]]\n",
    "sel = stop_times[\"trip_id\"] == \"55745843_180421\"\n",
    "stop_times = stop_times[sel]\n",
    "stops = pd.merge(stop_times, stops, on=\"stop_id\", how=\"left\")\n",
    "stops = stops.sort_values(by=\"stop_sequence\")\n",
    "```"
   ]
  },
  {
   "cell_type": "markdown",
   "metadata": {},
   "source": [
    "```{glue:figure} exercise-07-i_stops_pnt\n",
    "---\n",
    "name: exercise-07-i_stops_pnt\n",
    "---\n",
    "Solution of exercise-07-i: bus stops as points\n",
    "```"
   ]
  },
  {
   "cell_type": "markdown",
   "metadata": {},
   "source": [
    "```{glue:figure} exercise-07-i_stops_line\n",
    "---\n",
    "name: exercise-07-i_stops_line\n",
    "---\n",
    "Solution of exercise-07-i: bus stops as line\n",
    "```"
   ]
  },
  {
   "cell_type": "markdown",
   "metadata": {},
   "source": [
    "```{glue:figure} exercise-07-i_stops_line1\n",
    "---\n",
    "name: exercise-07-i_stops_line1\n",
    "---\n",
    "Solution of exercise-07-i: straight line from first bus stop to last\n",
    "```"
   ]
  },
  {
   "cell_type": "markdown",
   "metadata": {},
   "source": [
    "```{glue:figure} exercise-07-i_ch\n",
    "---\n",
    "name: exercise-07-i_ch\n",
    "---\n",
    "Solution of exercise-07-i: Convex Hull of bus stops\n",
    "```"
   ]
  }
 ],
 "metadata": {
  "interpreter": {
   "hash": "31f2aee4e71d21fbe5cf8b01ff0e069b9275f58929596ceb00d14d90e3e16cd6"
  },
  "kernelspec": {
   "display_name": "Python 3",
   "language": "python",
   "name": "python3"
  },
  "language_info": {
   "codemirror_mode": {
    "name": "ipython",
    "version": 3
   },
   "file_extension": ".py",
   "mimetype": "text/x-python",
   "name": "python",
   "nbconvert_exporter": "python",
   "pygments_lexer": "ipython3",
   "version": "3.10.2"
  }
 },
 "nbformat": 4,
 "nbformat_minor": 4
}